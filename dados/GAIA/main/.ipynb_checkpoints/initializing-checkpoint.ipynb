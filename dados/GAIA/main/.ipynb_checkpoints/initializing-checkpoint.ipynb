{
 "cells": [
  {
   "cell_type": "code",
   "execution_count": 1,
   "id": "e992a1a2-635e-41d8-99a5-4638e81ffc9a",
   "metadata": {},
   "outputs": [],
   "source": [
    "clusters_sul = ['Auner 1', 'Berkeley 73', 'NGC 1193', 'ESO 92-5' ,'NGC 2243', 'Melotte 66', 'Berkeley 56', 'Berkeley 75', 'ESO 92-18','Berkeley 25', 'FSR 1419', 'AM 2',\n",
    " 'Czernik 26', 'Berkeley 102', 'Tombaugh 2', 'Berkeley 20','Berkeley 22','NGC 2204', 'Dolidze 25', 'ESO 96-4' ,'UKS 2', 'Gaia 1', 'Gaia 2' ]"
   ]
  },
  {
   "cell_type": "code",
   "execution_count": 2,
   "id": "6382df08-518a-4a17-afb4-21be1f9d3b5d",
   "metadata": {},
   "outputs": [],
   "source": [
    "clusters_norte = ['Berkeley 29', 'Berkeley 92', 'Berkeley 99', 'Berkeley 8' ,'NGC 2420' ,'NGC 6791', \n",
    "                  'King 8', 'Berkeley 23', 'Berkeley 31','Haffner 18', 'UBC 615', 'UBC 648', 'UBC 624']"
   ]
  },
  {
   "cell_type": "code",
   "execution_count": 4,
   "id": "c64697fd-9c70-4978-9c8f-9f28f5d4ee43",
   "metadata": {},
   "outputs": [
    {
     "name": "stdout",
     "output_type": "stream",
     "text": [
      "UBC 615\n",
      "UBC 648\n",
      "UBC 624\n"
     ]
    }
   ],
   "source": [
    "import pandas as pd\n",
    "df = pd.read_csv('asu.tsv', sep = '|', comment = '#', header = 1)\n",
    "\n",
    "\n",
    "\n",
    "j = []\n",
    "for element in df['Name']:\n",
    "    nomes = element.rstrip()\n",
    "    nomes = nomes.lstrip()\n",
    "    nomes = nomes.split(',')\n",
    "    for i in nomes:\n",
    "        for k in clusters_sul:\n",
    "            if i == k:\n",
    "                j.append(k)\n",
    "\n",
    "for element in clusters_sul:\n",
    "    if element not in j:\n",
    "        print(element)\n",
    "        \n",
    "j = []\n",
    "for element in df['Name']:\n",
    "    nomes = element.rstrip()\n",
    "    nomes = nomes.lstrip()\n",
    "    nomes = nomes.split(',')\n",
    "    for i in nomes:\n",
    "        for k in clusters_norte:\n",
    "            if i == k:\n",
    "                j.append(k)\n",
    "\n",
    "for element in clusters_norte:\n",
    "    if element not in j:\n",
    "        print(element)"
   ]
  },
  {
   "cell_type": "code",
   "execution_count": 5,
   "id": "07f58e20-8578-43f9-8821-a7f739976204",
   "metadata": {},
   "outputs": [
    {
     "data": {
      "text/plain": [
       "['Berkeley 29',\n",
       " 'Berkeley 92',\n",
       " 'Berkeley 99',\n",
       " 'Berkeley 8',\n",
       " 'NGC 2420',\n",
       " 'NGC 6791',\n",
       " 'King 8',\n",
       " 'Berkeley 23',\n",
       " 'Berkeley 31',\n",
       " 'Haffner 18',\n",
       " 'UBC 615',\n",
       " 'UBC 648',\n",
       " 'UBC 624',\n",
       " 'Auner 1',\n",
       " 'Berkeley 73',\n",
       " 'NGC 1193',\n",
       " 'ESO 92-5',\n",
       " 'NGC 2243',\n",
       " 'Melotte 66',\n",
       " 'Berkeley 56',\n",
       " 'Berkeley 75',\n",
       " 'ESO 92-18',\n",
       " 'Berkeley 25',\n",
       " 'FSR 1419',\n",
       " 'AM 2',\n",
       " 'Czernik 26',\n",
       " 'Berkeley 102',\n",
       " 'Tombaugh 2',\n",
       " 'Berkeley 20',\n",
       " 'Berkeley 22',\n",
       " 'NGC 2204',\n",
       " 'Dolidze 25',\n",
       " 'ESO 96-4',\n",
       " 'UKS 2',\n",
       " 'Gaia 1',\n",
       " 'Gaia 2']"
      ]
     },
     "execution_count": 5,
     "metadata": {},
     "output_type": "execute_result"
    }
   ],
   "source": [
    "clusters = clusters_norte + clusters_sul\n",
    "clusters"
   ]
  },
  {
   "cell_type": "code",
   "execution_count": null,
   "id": "b0ac0fb5-539c-41c8-8c26-98a0a716ba6d",
   "metadata": {},
   "outputs": [],
   "source": [
    "#import os\n",
    "\n",
    "#for element in clusters:\n",
    "    #nome = element.replace(' ', '_')\n",
    "    #os.mkdir(nome)"
   ]
  },
  {
   "cell_type": "code",
   "execution_count": 6,
   "id": "5743bb5c-bc08-4308-abc2-dbfd52f151d9",
   "metadata": {},
   "outputs": [],
   "source": [
    "f = open(\"lista.txt\", \"w\")\n",
    "f.write(\"Nome,_RAJ2000,_DEJ2000,GLON,GLAT\\n\")\n",
    "\n",
    "\n",
    "\n",
    "for j in range(len(df['Name'])):\n",
    "    element = df['Name'][j]\n",
    "    nomes = element.rstrip()\n",
    "    nomes = nomes.lstrip()\n",
    "    nomes = nomes.split(',')\n",
    "    for i in nomes:\n",
    "        for k in clusters:\n",
    "            if i == k:\n",
    "                RA = ',' + str(df['_RAJ2000'][j]) + ','\n",
    "                DEC = str(df['_DEJ2000'][j]) +','\n",
    "                LON = str(df['GLON'][j])+','\n",
    "                LAT = str(df['GLAT'][j])+'\\n'\n",
    "                nome = k.replace(' ', '_')\n",
    "                f.write(nome+RA+DEC+LON+LAT)\n",
    "f.close()"
   ]
  }
 ],
 "metadata": {
  "kernelspec": {
   "display_name": "Python 3 (ipykernel)",
   "language": "python",
   "name": "python3"
  },
  "language_info": {
   "codemirror_mode": {
    "name": "ipython",
    "version": 3
   },
   "file_extension": ".py",
   "mimetype": "text/x-python",
   "name": "python",
   "nbconvert_exporter": "python",
   "pygments_lexer": "ipython3",
   "version": "3.9.7"
  }
 },
 "nbformat": 4,
 "nbformat_minor": 5
}
