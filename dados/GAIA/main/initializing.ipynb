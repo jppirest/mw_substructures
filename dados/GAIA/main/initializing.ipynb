{
 "cells": [
  {
   "cell_type": "code",
   "execution_count": 3,
   "id": "e992a1a2-635e-41d8-99a5-4638e81ffc9a",
   "metadata": {},
   "outputs": [],
   "source": [
    "clusters_sul = ['Auner 1', 'Berkeley 73', 'NGC 1193', 'ESO 92-5' ,'NGC 2243', 'Melotte 66', 'Berkeley 56', 'Berkeley 75', 'ESO 92-18','Berkeley 25', 'FSR 1419', 'AM 2',\n",
    " 'Czernik 26', 'Berkeley 102', 'Tombaugh 2', 'Berkeley 20','Berkeley 22','NGC 2204', 'Dolidze 25', 'ESO 96-4' ,'UKS 2', 'Gaia 1', 'Gaia 2' ]"
   ]
  },
  {
   "cell_type": "code",
   "execution_count": 4,
   "id": "6382df08-518a-4a17-afb4-21be1f9d3b5d",
   "metadata": {},
   "outputs": [],
   "source": [
    "clusters_norte = ['Berkeley 29', 'Berkeley 92', 'Berkeley 99', 'Berkeley 8' ,'NGC 2420' ,'NGC 6791', \n",
    "                  'King 8', 'Berkeley 23', 'Berkeley 31','Haffner 18', 'UBC 615', 'UBC 648', 'UBC 624']"
   ]
  },
  {
   "cell_type": "code",
   "execution_count": 12,
   "id": "c64697fd-9c70-4978-9c8f-9f28f5d4ee43",
   "metadata": {},
   "outputs": [
    {
     "name": "stdout",
     "output_type": "stream",
     "text": [
      "UBC 615\n",
      "UBC 648\n",
      "UBC 624\n"
     ]
    }
   ],
   "source": [
    "import pandas as pd\n",
    "df = pd.read_csv('Catalogues/bica.tsv', sep = '|', comment = '#', header = 1)\n",
    "\n",
    "\n",
    "\n",
    "j = []\n",
    "for element in df['Name']:\n",
    "    nomes = element.rstrip()\n",
    "    nomes = nomes.lstrip()\n",
    "    nomes = nomes.split(',')\n",
    "    for i in nomes:\n",
    "        for k in clusters_sul:\n",
    "            if i == k:\n",
    "                j.append(k)\n",
    "\n",
    "for element in clusters_sul:\n",
    "    if element not in j:\n",
    "        print(element)\n",
    "        \n",
    "j = []\n",
    "for element in df['Name']:\n",
    "    nomes = element.rstrip()\n",
    "    nomes = nomes.lstrip()\n",
    "    nomes = nomes.split(',')\n",
    "    for i in nomes:\n",
    "        for k in clusters_norte:\n",
    "            if i == k:\n",
    "                j.append(k)\n",
    "\n",
    "for element in clusters_norte:\n",
    "    if element not in j:\n",
    "        print(element)"
   ]
  },
  {
   "cell_type": "code",
   "execution_count": 8,
   "id": "07f58e20-8578-43f9-8821-a7f739976204",
   "metadata": {},
   "outputs": [],
   "source": [
    "clusters = clusters_norte + clusters_sul"
   ]
  },
  {
   "cell_type": "code",
   "execution_count": 5,
   "id": "b0ac0fb5-539c-41c8-8c26-98a0a716ba6d",
   "metadata": {},
   "outputs": [],
   "source": [
    "#import os\n",
    "\n",
    "#for element in clusters:\n",
    "    #nome = element.replace(' ', '_')\n",
    "    #os.mkdir(nome)"
   ]
  },
  {
   "cell_type": "code",
   "execution_count": 18,
   "id": "5743bb5c-bc08-4308-abc2-dbfd52f151d9",
   "metadata": {},
   "outputs": [],
   "source": [
    "f = open(\"Catalogues/aglomerados_projeto.txt\", \"w\")\n",
    "f.write(\"Nome,_RAJ2000,_DEJ2000,GLON,GLAT,DIAM\\n\")\n",
    "\n",
    "\n",
    "\n",
    "for j in range(len(df['Name'])):\n",
    "    element = df['Name'][j]\n",
    "    nomes = element.rstrip()\n",
    "    nomes = nomes.lstrip()\n",
    "    nomes = nomes.split(',')\n",
    "    for i in nomes:\n",
    "        for k in clusters:\n",
    "            if i == k:\n",
    "                RA = ',' + str(df['_RAJ2000'][j]) + ','\n",
    "                DEC = str(df['_DEJ2000'][j]) +','\n",
    "                LON = str(df['GLON'][j])+','\n",
    "                LAT = str(df['GLAT'][j])+','\n",
    "                DIAM = df['Diam-a'][j] if df['Diam-a'][j] >= df['Diam-b'][j] else df['Diam-b'][j] \n",
    "                DIAM  = str(DIAM)+'\\n'\n",
    "                nome = k.replace(' ', '_')\n",
    "                f.write(nome+RA+DEC+LON+LAT+DIAM)\n",
    "\n",
    "\n",
    "nome = 'UBC_615'\n",
    "RA = ',' + str(104.880) + ','\n",
    "DEC = str(33.154) +','\n",
    "LON = str(183.410)+','\n",
    "LAT = str(15.980)+'\\n'\n",
    "f.write(nome+RA+DEC+LON+LAT)\n",
    "\n",
    "\n",
    "nome = 'UBC_624'\n",
    "RA = ',' + str(119.227) + ','\n",
    "DEC = str(07.984) +','\n",
    "LON = str(213.165)+','\n",
    "LAT = str(18.176)+'\\n'\n",
    "f.write(nome+RA+DEC+LON+LAT)\n",
    "\n",
    "\n",
    "nome = 'UBC_648'\n",
    "RA = ',' + str(142.543) + ','\n",
    "DEC = str(-34.136) +','\n",
    "LON = str(266.222)+','\n",
    "LAT = str(12.378)+'\\n'\n",
    "f.write(nome+RA+DEC+LON+LAT)\n",
    "f.close()"
   ]
  },
  {
   "cell_type": "code",
   "execution_count": null,
   "id": "473f32f9",
   "metadata": {},
   "outputs": [],
   "source": []
  }
 ],
 "metadata": {
  "kernelspec": {
   "display_name": "Python 3.9.12 ('base')",
   "language": "python",
   "name": "python3"
  },
  "language_info": {
   "codemirror_mode": {
    "name": "ipython",
    "version": 3
   },
   "file_extension": ".py",
   "mimetype": "text/x-python",
   "name": "python",
   "nbconvert_exporter": "python",
   "pygments_lexer": "ipython3",
   "version": "3.9.12"
  },
  "vscode": {
   "interpreter": {
    "hash": "2dce3307feb06dd258affff784c1e0a4e7feaa3e34d32e0d9743fc2f96d44e3a"
   }
  }
 },
 "nbformat": 4,
 "nbformat_minor": 5
}
