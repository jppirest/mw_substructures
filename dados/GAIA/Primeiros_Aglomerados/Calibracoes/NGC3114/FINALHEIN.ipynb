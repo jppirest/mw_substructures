{
 "cells": [
  {
   "cell_type": "code",
   "execution_count": 1,
   "id": "f6b7a107-7227-4754-b133-e4e7b4093b37",
   "metadata": {},
   "outputs": [],
   "source": [
    "import numpy as np\n",
    "import matplotlib.pyplot as plt\n",
    "import pandas as pd"
   ]
  },
  {
   "cell_type": "code",
   "execution_count": 2,
   "id": "edbae299-76c3-4b8d-92bf-49b47c6e7466",
   "metadata": {},
   "outputs": [],
   "source": [
    "df = pd.read_csv('berkeley23.csv')\n",
    "x = df['BP-RP']\n",
    "y = df['Gmag']"
   ]
  },
  {
   "cell_type": "code",
   "execution_count": 3,
   "id": "54c33a02-5509-473d-ac8a-1ecaef92e658",
   "metadata": {},
   "outputs": [
    {
     "data": {
      "image/png": "[encoded data removed]",
      "text/plain": [
       "<Figure size 432x288 with 1 Axes>"
      ]
     },
     "metadata": {
      "needs_background": "light"
     },
     "output_type": "display_data"
    }
   ],
   "source": [
    "plt.scatter(x,y)\n",
    "plt.gca().invert_yaxis()"
   ]
  },
  {
   "cell_type": "code",
   "execution_count": 4,
   "id": "a41184d3-da4c-42b8-be06-27b2355a1444",
   "metadata": {},
   "outputs": [
    {
     "data": {
      "image/png": "[encoded data removed]",
      "text/plain": [
       "<Figure size 432x288 with 1 Axes>"
      ]
     },
     "metadata": {
      "needs_background": "light"
     },
     "output_type": "display_data"
    }
   ],
   "source": [
    "regressoes = pd.read_csv('../Regressoes_Isocronas_Gaia.txt')\n",
    "plt.scatter(regressoes['Age'],regressoes['(BP-RP)TurnOff'])\n",
    "plt.gca().invert_yaxis()"
   ]
  },
  {
   "cell_type": "code",
   "execution_count": 5,
   "id": "3c793771-61b0-42d9-b466-237c197e6140",
   "metadata": {},
   "outputs": [
    {
     "data": {
      "text/plain": [
       "0.04019999999999996"
      ]
     },
     "execution_count": 5,
     "metadata": {},
     "output_type": "execute_result"
    }
   ],
   "source": [
    "hm = np.linspace(np.min(regressoes['(BP-RP)TurnOff']),np.max(regressoes['(BP-RP)TurnOff']), 36)\n",
    "n = hm[2]-hm[1]\n",
    "n"
   ]
  },
  {
   "cell_type": "code",
   "execution_count": 6,
   "id": "2e14a366-cd7e-49bd-b49b-b974e92c7fbc",
   "metadata": {},
   "outputs": [
    {
     "data": {
      "image/png": "[encoded data removed]",
      "text/plain": [
       "<Figure size 432x288 with 1 Axes>"
      ]
     },
     "metadata": {
      "needs_background": "light"
     },
     "output_type": "display_data"
    }
   ],
   "source": [
    "n = 0.04\n",
    "n_bins = 36#len(np.arange(np.min(regressoes['(BP-RP)TurnOff']),np.max(regressoes['(BP-RP)TurnOff']), n))\n",
    "cor = 'forestgreen'\n",
    "\n",
    "fig, ax = plt.subplots()\n",
    "cor = 'forestgreen'\n",
    "mx, binsx, patches = ax.hist(x,n_bins, ec = 'k',color = cor)"
   ]
  },
  {
   "cell_type": "code",
   "execution_count": 7,
   "id": "8bf77dc6-5b64-4e44-bd17-bb6ee92cb88b",
   "metadata": {},
   "outputs": [
    {
     "data": {
      "image/png": "[encoded data removed]",
      "text/plain": [
       "<Figure size 432x288 with 1 Axes>"
      ]
     },
     "metadata": {
      "needs_background": "light"
     },
     "output_type": "display_data"
    }
   ],
   "source": [
    "n = 0.04\n",
    "n_bins = 36#len(np.arange(np.min(regressoes['(BP-RP)TurnOff']),np.max(regressoes['(BP-RP)TurnOff']), n))\n",
    "cor = 'red'\n",
    "\n",
    "fig, ax = plt.subplots()\n",
    "my, binsy, patches = ax.hist(y,n_bins, ec = 'k',color = cor)"
   ]
  },
  {
   "cell_type": "code",
   "execution_count": 22,
   "id": "bf56d4ae-7900-438b-9357-cc2f09148484",
   "metadata": {},
   "outputs": [],
   "source": [
    "numero_pontos_cor, cor = np.histogram(x,n_bins)\n",
    "cor_turnoff = cor[np.where(numero_pontos_cor >= np.median(numero_pontos_cor))[0]]\n",
    "cor_turnoff = np.median(cor_turnoff)"
   ]
  },
  {
   "cell_type": "code",
   "execution_count": 23,
   "id": "2a39982c-f239-4a05-9925-ef59c958f9aa",
   "metadata": {},
   "outputs": [
    {
     "data": {
      "text/plain": [
       "array([ 1,  2,  3,  5,  6,  8,  9, 11, 12, 13, 14, 15, 17, 18, 19, 20, 21,\n",
       "       23, 24, 25, 27, 28, 29, 30, 31, 32, 35, 36, 37, 40, 41, 43, 44, 45,\n",
       "       46, 48, 49, 50, 52, 55, 56, 57, 58, 59, 60, 61, 62, 63, 65, 66, 67,\n",
       "       68, 69, 70, 72, 73, 74, 75, 76, 77, 78, 80, 81, 82, 84, 85, 86, 87,\n",
       "       88, 90])"
      ]
     },
     "execution_count": 23,
     "metadata": {},
     "output_type": "execute_result"
    }
   ],
   "source": [
    "locaisx = np.where(x<=cor_turnoff)[0]\n",
    "locaisx"
   ]
  },
  {
   "cell_type": "code",
   "execution_count": 24,
   "id": "9faa933d-61bd-440d-bc11-80ad28abe6ea",
   "metadata": {},
   "outputs": [
    {
     "data": {
      "text/plain": [
       "array([14.999822 , 16.742613 , 17.0711   , 17.600374 , 17.058401 ,\n",
       "       15.98417  , 16.979843 , 17.921883 , 17.445583 , 17.16211  ,\n",
       "       16.32586  , 16.994678 , 16.366516 , 16.400051 , 17.256834 ,\n",
       "       15.9182205, 16.385193 , 16.319887 , 16.030914 , 17.379463 ,\n",
       "       15.69506  , 15.649729 , 16.02467  , 15.303565 , 16.25456  ,\n",
       "       16.284489 , 16.192415 , 16.4965   , 17.284733 , 17.145296 ,\n",
       "       17.403233 , 17.243101 , 16.809975 , 17.357603 , 16.641548 ,\n",
       "       17.664816 , 16.522198 , 15.863689 , 16.485466 , 17.369122 ,\n",
       "       16.859417 , 16.999086 , 17.257149 , 16.34421  , 16.846811 ,\n",
       "       15.489679 , 16.650574 , 17.11422  , 16.984173 , 17.362122 ,\n",
       "       16.597004 , 13.135891 , 17.720524 , 17.634092 , 16.643084 ,\n",
       "       16.727268 , 16.930933 , 16.478079 , 16.226217 , 15.566429 ,\n",
       "       15.924946 , 16.45776  , 17.26377  , 17.227245 , 16.011356 ,\n",
       "       16.190424 , 14.679196 , 17.37944  , 16.621605 , 17.13667  ])"
      ]
     },
     "execution_count": 24,
     "metadata": {},
     "output_type": "execute_result"
    }
   ],
   "source": [
    "y = np.array(y)\n",
    "magnitudes = y[locaisx]\n",
    "magnitudes"
   ]
  },
  {
   "cell_type": "code",
   "execution_count": 25,
   "id": "bab483c5-afa1-4f86-bb9a-80814f8d6740",
   "metadata": {},
   "outputs": [
    {
     "data": {
      "text/plain": [
       "array([16.742613, 17.0711  , 17.058401, 16.979843, 16.32586 , 16.994678,\n",
       "       16.366516, 16.400051, 16.385193, 16.319887, 16.25456 , 16.284489,\n",
       "       16.192415, 16.4965  , 16.809975, 16.641548, 16.522198, 16.485466,\n",
       "       16.859417, 16.999086, 16.34421 , 16.846811, 16.650574, 17.11422 ,\n",
       "       16.984173, 16.597004, 16.643084, 16.727268, 16.930933, 16.478079,\n",
       "       16.226217, 16.45776 , 16.190424, 16.621605, 17.13667 ])"
      ]
     },
     "execution_count": 25,
     "metadata": {},
     "output_type": "execute_result"
    }
   ],
   "source": [
    "def reject_outliers(data, m = 1.):\n",
    "    d = np.abs(data - np.median(data))\n",
    "    mdev = np.median(d)\n",
    "    s = d/mdev if mdev else 0.\n",
    "    return data[s<m]\n",
    "magnitudes = reject_outliers(magnitudes)\n",
    "magnitudes"
   ]
  },
  {
   "cell_type": "code",
   "execution_count": 26,
   "id": "be737883-731f-40f6-858c-610678aaa5b0",
   "metadata": {},
   "outputs": [
    {
     "data": {
      "text/plain": [
       "16.621605"
      ]
     },
     "execution_count": 26,
     "metadata": {},
     "output_type": "execute_result"
    }
   ],
   "source": [
    "mag_turnoff = np.median(magnitudes)\n",
    "mag_turnoff"
   ]
  },
  {
   "cell_type": "code",
   "execution_count": 27,
   "id": "70331ad4-d8b7-484e-b673-99b6f6c8087d",
   "metadata": {},
   "outputs": [
    {
     "data": {
      "text/plain": [
       "<matplotlib.legend.Legend at 0x7fd7e6a6d940>"
      ]
     },
     "execution_count": 27,
     "metadata": {},
     "output_type": "execute_result"
    },
    {
     "data": {
      "image/png": "[encoded data removed]",
      "text/plain": [
       "<Figure size 432x288 with 1 Axes>"
      ]
     },
     "metadata": {
      "needs_background": "light"
     },
     "output_type": "display_data"
    }
   ],
   "source": [
    "oi = pd.read_csv('regressao_berkeley23.csv')\n",
    "plt.scatter(oi['TurnOffColor'],oi['TurnOffMag'], color = 'k', zorder = 100, label = 'Metodo antigo')\n",
    "plt.scatter(x,y)\n",
    "plt.scatter(cor_turnoff,mag_turnoff,color = 'green', zorder = 100, label = 'Metodo novo')\n",
    "plt.gca().invert_yaxis()\n",
    "plt.legend()"
   ]
  },
  {
   "cell_type": "code",
   "execution_count": null,
   "id": "77e94d97-820d-4286-a08e-86df360f06ee",
   "metadata": {},
   "outputs": [],
   "source": []
  }
 ],
 "metadata": {
  "kernelspec": {
   "display_name": "Python 3",
   "language": "python",
   "name": "python3"
  },
  "language_info": {
   "codemirror_mode": {
    "name": "ipython",
    "version": 3
   },
   "file_extension": ".py",
   "mimetype": "text/x-python",
   "name": "python",
   "nbconvert_exporter": "python",
   "pygments_lexer": "ipython3",
   "version": "3.8.8"
  }
 },
 "nbformat": 4,
 "nbformat_minor": 5
}
