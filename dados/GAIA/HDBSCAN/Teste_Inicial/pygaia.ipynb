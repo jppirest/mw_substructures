{
 "cells": [
  {
   "cell_type": "code",
   "execution_count": 1,
   "id": "47a94381-9276-41b2-9c78-5580d77cd257",
   "metadata": {},
   "outputs": [],
   "source": [
    "import numpy as np\n",
    "import pandas as pd\n",
    "import matplotlib.pyplot as plt\n",
    "from astroquery.gaia import Gaia\n",
    "import astropy"
   ]
  },
  {
   "cell_type": "code",
   "execution_count": 30,
   "id": "c93cee01-f26a-4f20-8eb1-e33f5d1cfe54",
   "metadata": {},
   "outputs": [
    {
     "data": {
      "text/plain": [
       "'3.9.7'"
      ]
     },
     "execution_count": 30,
     "metadata": {},
     "output_type": "execute_result"
    }
   ],
   "source": [
    "from platform import python_version\n",
    "python_version()"
   ]
  },
  {
   "cell_type": "code",
   "execution_count": 3,
   "id": "ad2a3f1c-1be9-49fd-9c6d-f08c65909959",
   "metadata": {},
   "outputs": [
    {
     "name": "stdout",
     "output_type": "stream",
     "text": [
      "INFO: Retrieving tables... [astroquery.utils.tap.core]\n"
     ]
    },
    {
     "ename": "KeyboardInterrupt",
     "evalue": "",
     "output_type": "error",
     "traceback": [
      "\u001b[0;31m---------------------------------------------------------------------------\u001b[0m",
      "\u001b[0;31mKeyboardInterrupt\u001b[0m                         Traceback (most recent call last)",
      "\u001b[0;32m/tmp/ipykernel_20084/2803928209.py\u001b[0m in \u001b[0;36m<module>\u001b[0;34m\u001b[0m\n\u001b[0;32m----> 1\u001b[0;31m \u001b[0mtables\u001b[0m \u001b[0;34m=\u001b[0m \u001b[0mGaia\u001b[0m\u001b[0;34m.\u001b[0m\u001b[0mload_tables\u001b[0m\u001b[0;34m(\u001b[0m\u001b[0monly_names\u001b[0m\u001b[0;34m=\u001b[0m\u001b[0;32mTrue\u001b[0m\u001b[0;34m)\u001b[0m\u001b[0;34m\u001b[0m\u001b[0;34m\u001b[0m\u001b[0m\n\u001b[0m",
      "\u001b[0;32m~/anaconda3/lib/python3.9/site-packages/astroquery/utils/tap/core.py\u001b[0m in \u001b[0;36mload_tables\u001b[0;34m(self, only_names, include_shared_tables, verbose)\u001b[0m\n\u001b[1;32m    803\u001b[0m         \u001b[0mA\u001b[0m \u001b[0mlist\u001b[0m \u001b[0mof\u001b[0m \u001b[0mtable\u001b[0m \u001b[0mobjects\u001b[0m\u001b[0;34m\u001b[0m\u001b[0;34m\u001b[0m\u001b[0m\n\u001b[1;32m    804\u001b[0m         \"\"\"\n\u001b[0;32m--> 805\u001b[0;31m         return self._Tap__load_tables(only_names=only_names,\n\u001b[0m\u001b[1;32m    806\u001b[0m                                       \u001b[0minclude_shared_tables\u001b[0m\u001b[0;34m=\u001b[0m\u001b[0minclude_shared_tables\u001b[0m\u001b[0;34m,\u001b[0m  \u001b[0;31m# noqa\u001b[0m\u001b[0;34m\u001b[0m\u001b[0;34m\u001b[0m\u001b[0m\n\u001b[1;32m    807\u001b[0m                                       verbose=verbose)\n",
      "\u001b[0;32m~/anaconda3/lib/python3.9/site-packages/astroquery/utils/tap/core.py\u001b[0m in \u001b[0;36m__load_tables\u001b[0;34m(self, only_names, include_shared_tables, verbose)\u001b[0m\n\u001b[1;32m    216\u001b[0m         \u001b[0mlog\u001b[0m\u001b[0;34m.\u001b[0m\u001b[0minfo\u001b[0m\u001b[0;34m(\u001b[0m\u001b[0;34m\"Retrieving tables...\"\u001b[0m\u001b[0;34m)\u001b[0m\u001b[0;34m\u001b[0m\u001b[0;34m\u001b[0m\u001b[0m\n\u001b[1;32m    217\u001b[0m         \u001b[0;32mif\u001b[0m \u001b[0mflags\u001b[0m \u001b[0;34m!=\u001b[0m \u001b[0;34m\"\"\u001b[0m\u001b[0;34m:\u001b[0m\u001b[0;34m\u001b[0m\u001b[0;34m\u001b[0m\u001b[0m\n\u001b[0;32m--> 218\u001b[0;31m             \u001b[0mresponse\u001b[0m \u001b[0;34m=\u001b[0m \u001b[0mself\u001b[0m\u001b[0;34m.\u001b[0m\u001b[0m__connHandler\u001b[0m\u001b[0;34m.\u001b[0m\u001b[0mexecute_tapget\u001b[0m\u001b[0;34m(\u001b[0m\u001b[0;34mf\"tables?{flags}\"\u001b[0m\u001b[0;34m,\u001b[0m \u001b[0mverbose\u001b[0m\u001b[0;34m=\u001b[0m\u001b[0mverbose\u001b[0m\u001b[0;34m)\u001b[0m\u001b[0;34m\u001b[0m\u001b[0;34m\u001b[0m\u001b[0m\n\u001b[0m\u001b[1;32m    219\u001b[0m         \u001b[0;32melse\u001b[0m\u001b[0;34m:\u001b[0m\u001b[0;34m\u001b[0m\u001b[0;34m\u001b[0m\u001b[0m\n\u001b[1;32m    220\u001b[0m             response = self.__connHandler.execute_tapget(\"tables\",\n",
      "\u001b[0;32m~/anaconda3/lib/python3.9/site-packages/astroquery/utils/tap/conn/tapconn.py\u001b[0m in \u001b[0;36mexecute_tapget\u001b[0;34m(self, subcontext, verbose)\u001b[0m\n\u001b[1;32m    194\u001b[0m         \u001b[0;32melse\u001b[0m\u001b[0;34m:\u001b[0m\u001b[0;34m\u001b[0m\u001b[0;34m\u001b[0m\u001b[0m\n\u001b[1;32m    195\u001b[0m             \u001b[0mcontext\u001b[0m \u001b[0;34m=\u001b[0m \u001b[0mself\u001b[0m\u001b[0;34m.\u001b[0m\u001b[0m__get_tap_context\u001b[0m\u001b[0;34m(\u001b[0m\u001b[0msubcontext\u001b[0m\u001b[0;34m)\u001b[0m\u001b[0;34m\u001b[0m\u001b[0;34m\u001b[0m\u001b[0m\n\u001b[0;32m--> 196\u001b[0;31m             \u001b[0;32mreturn\u001b[0m \u001b[0mself\u001b[0m\u001b[0;34m.\u001b[0m\u001b[0m__execute_get\u001b[0m\u001b[0;34m(\u001b[0m\u001b[0mcontext\u001b[0m\u001b[0;34m,\u001b[0m \u001b[0mverbose\u001b[0m\u001b[0;34m)\u001b[0m\u001b[0;34m\u001b[0m\u001b[0;34m\u001b[0m\u001b[0m\n\u001b[0m\u001b[1;32m    197\u001b[0m \u001b[0;34m\u001b[0m\u001b[0m\n\u001b[1;32m    198\u001b[0m     \u001b[0;32mdef\u001b[0m \u001b[0mexecute_dataget\u001b[0m\u001b[0;34m(\u001b[0m\u001b[0mself\u001b[0m\u001b[0;34m,\u001b[0m \u001b[0mquery\u001b[0m\u001b[0;34m,\u001b[0m \u001b[0mverbose\u001b[0m\u001b[0;34m=\u001b[0m\u001b[0;32mFalse\u001b[0m\u001b[0;34m)\u001b[0m\u001b[0;34m:\u001b[0m\u001b[0;34m\u001b[0m\u001b[0;34m\u001b[0m\u001b[0m\n",
      "\u001b[0;32m~/anaconda3/lib/python3.9/site-packages/astroquery/utils/tap/conn/tapconn.py\u001b[0m in \u001b[0;36m__execute_get\u001b[0;34m(self, context, verbose)\u001b[0m\n\u001b[1;32m    241\u001b[0m             \u001b[0mprint\u001b[0m\u001b[0;34m(\u001b[0m\u001b[0;34mf\"host = {conn.host}:{conn.port}\"\u001b[0m\u001b[0;34m)\u001b[0m\u001b[0;34m\u001b[0m\u001b[0;34m\u001b[0m\u001b[0m\n\u001b[1;32m    242\u001b[0m             \u001b[0mprint\u001b[0m\u001b[0;34m(\u001b[0m\u001b[0;34mf\"context = {context}\"\u001b[0m\u001b[0;34m)\u001b[0m\u001b[0;34m\u001b[0m\u001b[0;34m\u001b[0m\u001b[0m\n\u001b[0;32m--> 243\u001b[0;31m         \u001b[0mconn\u001b[0m\u001b[0;34m.\u001b[0m\u001b[0mrequest\u001b[0m\u001b[0;34m(\u001b[0m\u001b[0;34m\"GET\"\u001b[0m\u001b[0;34m,\u001b[0m \u001b[0mcontext\u001b[0m\u001b[0;34m,\u001b[0m \u001b[0;32mNone\u001b[0m\u001b[0;34m,\u001b[0m \u001b[0mself\u001b[0m\u001b[0;34m.\u001b[0m\u001b[0m__getHeaders\u001b[0m\u001b[0;34m)\u001b[0m\u001b[0;34m\u001b[0m\u001b[0;34m\u001b[0m\u001b[0m\n\u001b[0m\u001b[1;32m    244\u001b[0m         \u001b[0mresponse\u001b[0m \u001b[0;34m=\u001b[0m \u001b[0mconn\u001b[0m\u001b[0;34m.\u001b[0m\u001b[0mgetresponse\u001b[0m\u001b[0;34m(\u001b[0m\u001b[0;34m)\u001b[0m\u001b[0;34m\u001b[0m\u001b[0;34m\u001b[0m\u001b[0m\n\u001b[1;32m    245\u001b[0m         \u001b[0mself\u001b[0m\u001b[0;34m.\u001b[0m\u001b[0m__currentReason\u001b[0m \u001b[0;34m=\u001b[0m \u001b[0mresponse\u001b[0m\u001b[0;34m.\u001b[0m\u001b[0mreason\u001b[0m\u001b[0;34m\u001b[0m\u001b[0;34m\u001b[0m\u001b[0m\n",
      "\u001b[0;32m~/anaconda3/lib/python3.9/http/client.py\u001b[0m in \u001b[0;36mrequest\u001b[0;34m(self, method, url, body, headers, encode_chunked)\u001b[0m\n\u001b[1;32m   1277\u001b[0m                 encode_chunked=False):\n\u001b[1;32m   1278\u001b[0m         \u001b[0;34m\"\"\"Send a complete request to the server.\"\"\"\u001b[0m\u001b[0;34m\u001b[0m\u001b[0;34m\u001b[0m\u001b[0m\n\u001b[0;32m-> 1279\u001b[0;31m         \u001b[0mself\u001b[0m\u001b[0;34m.\u001b[0m\u001b[0m_send_request\u001b[0m\u001b[0;34m(\u001b[0m\u001b[0mmethod\u001b[0m\u001b[0;34m,\u001b[0m \u001b[0murl\u001b[0m\u001b[0;34m,\u001b[0m \u001b[0mbody\u001b[0m\u001b[0;34m,\u001b[0m \u001b[0mheaders\u001b[0m\u001b[0;34m,\u001b[0m \u001b[0mencode_chunked\u001b[0m\u001b[0;34m)\u001b[0m\u001b[0;34m\u001b[0m\u001b[0;34m\u001b[0m\u001b[0m\n\u001b[0m\u001b[1;32m   1280\u001b[0m \u001b[0;34m\u001b[0m\u001b[0m\n\u001b[1;32m   1281\u001b[0m     \u001b[0;32mdef\u001b[0m \u001b[0m_send_request\u001b[0m\u001b[0;34m(\u001b[0m\u001b[0mself\u001b[0m\u001b[0;34m,\u001b[0m \u001b[0mmethod\u001b[0m\u001b[0;34m,\u001b[0m \u001b[0murl\u001b[0m\u001b[0;34m,\u001b[0m \u001b[0mbody\u001b[0m\u001b[0;34m,\u001b[0m \u001b[0mheaders\u001b[0m\u001b[0;34m,\u001b[0m \u001b[0mencode_chunked\u001b[0m\u001b[0;34m)\u001b[0m\u001b[0;34m:\u001b[0m\u001b[0;34m\u001b[0m\u001b[0;34m\u001b[0m\u001b[0m\n",
      "\u001b[0;32m~/anaconda3/lib/python3.9/http/client.py\u001b[0m in \u001b[0;36m_send_request\u001b[0;34m(self, method, url, body, headers, encode_chunked)\u001b[0m\n\u001b[1;32m   1323\u001b[0m             \u001b[0;31m# default charset of iso-8859-1.\u001b[0m\u001b[0;34m\u001b[0m\u001b[0;34m\u001b[0m\u001b[0m\n\u001b[1;32m   1324\u001b[0m             \u001b[0mbody\u001b[0m \u001b[0;34m=\u001b[0m \u001b[0m_encode\u001b[0m\u001b[0;34m(\u001b[0m\u001b[0mbody\u001b[0m\u001b[0;34m,\u001b[0m \u001b[0;34m'body'\u001b[0m\u001b[0;34m)\u001b[0m\u001b[0;34m\u001b[0m\u001b[0;34m\u001b[0m\u001b[0m\n\u001b[0;32m-> 1325\u001b[0;31m         \u001b[0mself\u001b[0m\u001b[0;34m.\u001b[0m\u001b[0mendheaders\u001b[0m\u001b[0;34m(\u001b[0m\u001b[0mbody\u001b[0m\u001b[0;34m,\u001b[0m \u001b[0mencode_chunked\u001b[0m\u001b[0;34m=\u001b[0m\u001b[0mencode_chunked\u001b[0m\u001b[0;34m)\u001b[0m\u001b[0;34m\u001b[0m\u001b[0;34m\u001b[0m\u001b[0m\n\u001b[0m\u001b[1;32m   1326\u001b[0m \u001b[0;34m\u001b[0m\u001b[0m\n\u001b[1;32m   1327\u001b[0m     \u001b[0;32mdef\u001b[0m \u001b[0mgetresponse\u001b[0m\u001b[0;34m(\u001b[0m\u001b[0mself\u001b[0m\u001b[0;34m)\u001b[0m\u001b[0;34m:\u001b[0m\u001b[0;34m\u001b[0m\u001b[0;34m\u001b[0m\u001b[0m\n",
      "\u001b[0;32m~/anaconda3/lib/python3.9/http/client.py\u001b[0m in \u001b[0;36mendheaders\u001b[0;34m(self, message_body, encode_chunked)\u001b[0m\n\u001b[1;32m   1272\u001b[0m         \u001b[0;32melse\u001b[0m\u001b[0;34m:\u001b[0m\u001b[0;34m\u001b[0m\u001b[0;34m\u001b[0m\u001b[0m\n\u001b[1;32m   1273\u001b[0m             \u001b[0;32mraise\u001b[0m \u001b[0mCannotSendHeader\u001b[0m\u001b[0;34m(\u001b[0m\u001b[0;34m)\u001b[0m\u001b[0;34m\u001b[0m\u001b[0;34m\u001b[0m\u001b[0m\n\u001b[0;32m-> 1274\u001b[0;31m         \u001b[0mself\u001b[0m\u001b[0;34m.\u001b[0m\u001b[0m_send_output\u001b[0m\u001b[0;34m(\u001b[0m\u001b[0mmessage_body\u001b[0m\u001b[0;34m,\u001b[0m \u001b[0mencode_chunked\u001b[0m\u001b[0;34m=\u001b[0m\u001b[0mencode_chunked\u001b[0m\u001b[0;34m)\u001b[0m\u001b[0;34m\u001b[0m\u001b[0;34m\u001b[0m\u001b[0m\n\u001b[0m\u001b[1;32m   1275\u001b[0m \u001b[0;34m\u001b[0m\u001b[0m\n\u001b[1;32m   1276\u001b[0m     def request(self, method, url, body=None, headers={}, *,\n",
      "\u001b[0;32m~/anaconda3/lib/python3.9/http/client.py\u001b[0m in \u001b[0;36m_send_output\u001b[0;34m(self, message_body, encode_chunked)\u001b[0m\n\u001b[1;32m   1032\u001b[0m         \u001b[0mmsg\u001b[0m \u001b[0;34m=\u001b[0m \u001b[0;34mb\"\\r\\n\"\u001b[0m\u001b[0;34m.\u001b[0m\u001b[0mjoin\u001b[0m\u001b[0;34m(\u001b[0m\u001b[0mself\u001b[0m\u001b[0;34m.\u001b[0m\u001b[0m_buffer\u001b[0m\u001b[0;34m)\u001b[0m\u001b[0;34m\u001b[0m\u001b[0;34m\u001b[0m\u001b[0m\n\u001b[1;32m   1033\u001b[0m         \u001b[0;32mdel\u001b[0m \u001b[0mself\u001b[0m\u001b[0;34m.\u001b[0m\u001b[0m_buffer\u001b[0m\u001b[0;34m[\u001b[0m\u001b[0;34m:\u001b[0m\u001b[0;34m]\u001b[0m\u001b[0;34m\u001b[0m\u001b[0;34m\u001b[0m\u001b[0m\n\u001b[0;32m-> 1034\u001b[0;31m         \u001b[0mself\u001b[0m\u001b[0;34m.\u001b[0m\u001b[0msend\u001b[0m\u001b[0;34m(\u001b[0m\u001b[0mmsg\u001b[0m\u001b[0;34m)\u001b[0m\u001b[0;34m\u001b[0m\u001b[0;34m\u001b[0m\u001b[0m\n\u001b[0m\u001b[1;32m   1035\u001b[0m \u001b[0;34m\u001b[0m\u001b[0m\n\u001b[1;32m   1036\u001b[0m         \u001b[0;32mif\u001b[0m \u001b[0mmessage_body\u001b[0m \u001b[0;32mis\u001b[0m \u001b[0;32mnot\u001b[0m \u001b[0;32mNone\u001b[0m\u001b[0;34m:\u001b[0m\u001b[0;34m\u001b[0m\u001b[0;34m\u001b[0m\u001b[0m\n",
      "\u001b[0;32m~/anaconda3/lib/python3.9/http/client.py\u001b[0m in \u001b[0;36msend\u001b[0;34m(self, data)\u001b[0m\n\u001b[1;32m    972\u001b[0m         \u001b[0;32mif\u001b[0m \u001b[0mself\u001b[0m\u001b[0;34m.\u001b[0m\u001b[0msock\u001b[0m \u001b[0;32mis\u001b[0m \u001b[0;32mNone\u001b[0m\u001b[0;34m:\u001b[0m\u001b[0;34m\u001b[0m\u001b[0;34m\u001b[0m\u001b[0m\n\u001b[1;32m    973\u001b[0m             \u001b[0;32mif\u001b[0m \u001b[0mself\u001b[0m\u001b[0;34m.\u001b[0m\u001b[0mauto_open\u001b[0m\u001b[0;34m:\u001b[0m\u001b[0;34m\u001b[0m\u001b[0;34m\u001b[0m\u001b[0m\n\u001b[0;32m--> 974\u001b[0;31m                 \u001b[0mself\u001b[0m\u001b[0;34m.\u001b[0m\u001b[0mconnect\u001b[0m\u001b[0;34m(\u001b[0m\u001b[0;34m)\u001b[0m\u001b[0;34m\u001b[0m\u001b[0;34m\u001b[0m\u001b[0m\n\u001b[0m\u001b[1;32m    975\u001b[0m             \u001b[0;32melse\u001b[0m\u001b[0;34m:\u001b[0m\u001b[0;34m\u001b[0m\u001b[0;34m\u001b[0m\u001b[0m\n\u001b[1;32m    976\u001b[0m                 \u001b[0;32mraise\u001b[0m \u001b[0mNotConnected\u001b[0m\u001b[0;34m(\u001b[0m\u001b[0;34m)\u001b[0m\u001b[0;34m\u001b[0m\u001b[0;34m\u001b[0m\u001b[0m\n",
      "\u001b[0;32m~/anaconda3/lib/python3.9/http/client.py\u001b[0m in \u001b[0;36mconnect\u001b[0;34m(self)\u001b[0m\n\u001b[1;32m   1439\u001b[0m             \u001b[0;34m\"Connect to a host on a given (SSL) port.\"\u001b[0m\u001b[0;34m\u001b[0m\u001b[0;34m\u001b[0m\u001b[0m\n\u001b[1;32m   1440\u001b[0m \u001b[0;34m\u001b[0m\u001b[0m\n\u001b[0;32m-> 1441\u001b[0;31m             \u001b[0msuper\u001b[0m\u001b[0;34m(\u001b[0m\u001b[0;34m)\u001b[0m\u001b[0;34m.\u001b[0m\u001b[0mconnect\u001b[0m\u001b[0;34m(\u001b[0m\u001b[0;34m)\u001b[0m\u001b[0;34m\u001b[0m\u001b[0;34m\u001b[0m\u001b[0m\n\u001b[0m\u001b[1;32m   1442\u001b[0m \u001b[0;34m\u001b[0m\u001b[0m\n\u001b[1;32m   1443\u001b[0m             \u001b[0;32mif\u001b[0m \u001b[0mself\u001b[0m\u001b[0;34m.\u001b[0m\u001b[0m_tunnel_host\u001b[0m\u001b[0;34m:\u001b[0m\u001b[0;34m\u001b[0m\u001b[0;34m\u001b[0m\u001b[0m\n",
      "\u001b[0;32m~/anaconda3/lib/python3.9/http/client.py\u001b[0m in \u001b[0;36mconnect\u001b[0;34m(self)\u001b[0m\n\u001b[1;32m    943\u001b[0m     \u001b[0;32mdef\u001b[0m \u001b[0mconnect\u001b[0m\u001b[0;34m(\u001b[0m\u001b[0mself\u001b[0m\u001b[0;34m)\u001b[0m\u001b[0;34m:\u001b[0m\u001b[0;34m\u001b[0m\u001b[0;34m\u001b[0m\u001b[0m\n\u001b[1;32m    944\u001b[0m         \u001b[0;34m\"\"\"Connect to the host and port specified in __init__.\"\"\"\u001b[0m\u001b[0;34m\u001b[0m\u001b[0;34m\u001b[0m\u001b[0m\n\u001b[0;32m--> 945\u001b[0;31m         self.sock = self._create_connection(\n\u001b[0m\u001b[1;32m    946\u001b[0m             (self.host,self.port), self.timeout, self.source_address)\n\u001b[1;32m    947\u001b[0m         \u001b[0mself\u001b[0m\u001b[0;34m.\u001b[0m\u001b[0msock\u001b[0m\u001b[0;34m.\u001b[0m\u001b[0msetsockopt\u001b[0m\u001b[0;34m(\u001b[0m\u001b[0msocket\u001b[0m\u001b[0;34m.\u001b[0m\u001b[0mIPPROTO_TCP\u001b[0m\u001b[0;34m,\u001b[0m \u001b[0msocket\u001b[0m\u001b[0;34m.\u001b[0m\u001b[0mTCP_NODELAY\u001b[0m\u001b[0;34m,\u001b[0m \u001b[0;36m1\u001b[0m\u001b[0;34m)\u001b[0m\u001b[0;34m\u001b[0m\u001b[0;34m\u001b[0m\u001b[0m\n",
      "\u001b[0;32m~/anaconda3/lib/python3.9/socket.py\u001b[0m in \u001b[0;36mcreate_connection\u001b[0;34m(address, timeout, source_address)\u001b[0m\n\u001b[1;32m    830\u001b[0m             \u001b[0;32mif\u001b[0m \u001b[0msource_address\u001b[0m\u001b[0;34m:\u001b[0m\u001b[0;34m\u001b[0m\u001b[0;34m\u001b[0m\u001b[0m\n\u001b[1;32m    831\u001b[0m                 \u001b[0msock\u001b[0m\u001b[0;34m.\u001b[0m\u001b[0mbind\u001b[0m\u001b[0;34m(\u001b[0m\u001b[0msource_address\u001b[0m\u001b[0;34m)\u001b[0m\u001b[0;34m\u001b[0m\u001b[0;34m\u001b[0m\u001b[0m\n\u001b[0;32m--> 832\u001b[0;31m             \u001b[0msock\u001b[0m\u001b[0;34m.\u001b[0m\u001b[0mconnect\u001b[0m\u001b[0;34m(\u001b[0m\u001b[0msa\u001b[0m\u001b[0;34m)\u001b[0m\u001b[0;34m\u001b[0m\u001b[0;34m\u001b[0m\u001b[0m\n\u001b[0m\u001b[1;32m    833\u001b[0m             \u001b[0;31m# Break explicitly a reference cycle\u001b[0m\u001b[0;34m\u001b[0m\u001b[0;34m\u001b[0m\u001b[0m\n\u001b[1;32m    834\u001b[0m             \u001b[0merr\u001b[0m \u001b[0;34m=\u001b[0m \u001b[0;32mNone\u001b[0m\u001b[0;34m\u001b[0m\u001b[0;34m\u001b[0m\u001b[0m\n",
      "\u001b[0;31mKeyboardInterrupt\u001b[0m: "
     ]
    }
   ],
   "source": [
    "tables = Gaia.load_tables(only_names=True)"
   ]
  },
  {
   "cell_type": "code",
   "execution_count": 4,
   "id": "30fda6ee-0f35-41f0-9159-f0c59ab41146",
   "metadata": {},
   "outputs": [],
   "source": [
    "#for table in tables:\n",
    "    #print(table.name)"
   ]
  },
  {
   "cell_type": "code",
   "execution_count": null,
   "id": "3728fd80-9080-4fe9-9d5f-e6232afddf6b",
   "metadata": {},
   "outputs": [],
   "source": [
    "meta = Gaia.load_table('gaiadr3.gaia_source')\n",
    "meta"
   ]
  },
  {
   "cell_type": "code",
   "execution_count": 6,
   "id": "bdd44d00-ea89-4c49-9cca-5a9a43c45598",
   "metadata": {},
   "outputs": [],
   "source": [
    "#for column in meta.columns:\n",
    "    #print(column.name)"
   ]
  },
  {
   "cell_type": "code",
   "execution_count": 7,
   "id": "5945621e-98d8-486b-beb4-ce7a2115fb6c",
   "metadata": {},
   "outputs": [],
   "source": [
    "clusters = ['Berkeley_20', 'Berkeley_22', 'Berkeley_29', 'Berkeley_23','Berkeley_31','King_8','Haffner_18']\n",
    "#clusters = ['Auner_1', 'Berkeley_73']"
   ]
  },
  {
   "cell_type": "code",
   "execution_count": 8,
   "id": "04a3a387-fc74-4ab5-9e3a-2a2d9b5d2777",
   "metadata": {},
   "outputs": [
    {
     "data": {
      "text/html": [
       "<div>\n",
       "<style scoped>\n",
       "    .dataframe tbody tr th:only-of-type {\n",
       "        vertical-align: middle;\n",
       "    }\n",
       "\n",
       "    .dataframe tbody tr th {\n",
       "        vertical-align: top;\n",
       "    }\n",
       "\n",
       "    .dataframe thead th {\n",
       "        text-align: right;\n",
       "    }\n",
       "</style>\n",
       "<table border=\"1\" class=\"dataframe\">\n",
       "  <thead>\n",
       "    <tr style=\"text-align: right;\">\n",
       "      <th></th>\n",
       "      <th>_RAJ2000</th>\n",
       "      <th>_DEJ2000</th>\n",
       "      <th>_r</th>\n",
       "      <th>Cluster</th>\n",
       "      <th>RA_ICRS</th>\n",
       "      <th>DE_ICRS</th>\n",
       "      <th>r50</th>\n",
       "      <th>N</th>\n",
       "      <th>pmRA</th>\n",
       "      <th>e_pmRA</th>\n",
       "      <th>...</th>\n",
       "      <th>logage</th>\n",
       "      <th>e_logage</th>\n",
       "      <th>[Fe/H]</th>\n",
       "      <th>e_[Fe/H]</th>\n",
       "      <th>Av</th>\n",
       "      <th>e_Av</th>\n",
       "      <th>FileName</th>\n",
       "      <th>SimbadName</th>\n",
       "      <th>_RA.icrs</th>\n",
       "      <th>_DE.icrs</th>\n",
       "    </tr>\n",
       "  </thead>\n",
       "  <tbody>\n",
       "    <tr>\n",
       "      <th>122</th>\n",
       "      <td>98.3161</td>\n",
       "      <td>20.537506</td>\n",
       "      <td>0.0501</td>\n",
       "      <td>Berkeley_23</td>\n",
       "      <td>98.3161</td>\n",
       "      <td>20.5375</td>\n",
       "      <td>0.036</td>\n",
       "      <td>103</td>\n",
       "      <td>-0.069</td>\n",
       "      <td>0.167</td>\n",
       "      <td>...</td>\n",
       "      <td>9.244</td>\n",
       "      <td>0.174</td>\n",
       "      <td>0.055</td>\n",
       "      <td>0.083</td>\n",
       "      <td>0.862</td>\n",
       "      <td>0.135</td>\n",
       "      <td>clusters1/Berkeley_23.dat</td>\n",
       "      <td>Cl Berkeley 23</td>\n",
       "      <td>98.3161</td>\n",
       "      <td>20.5375</td>\n",
       "    </tr>\n",
       "  </tbody>\n",
       "</table>\n",
       "<p>1 rows × 29 columns</p>\n",
       "</div>"
      ],
      "text/plain": [
       "     _RAJ2000   _DEJ2000      _r      Cluster  RA_ICRS  DE_ICRS    r50    N  \\\n",
       "122   98.3161  20.537506  0.0501  Berkeley_23  98.3161  20.5375  0.036  103   \n",
       "\n",
       "      pmRA  e_pmRA  ...  logage  e_logage  [Fe/H]  e_[Fe/H]     Av   e_Av  \\\n",
       "122 -0.069   0.167  ...   9.244     0.174   0.055     0.083  0.862  0.135   \n",
       "\n",
       "                      FileName      SimbadName  _RA.icrs  _DE.icrs  \n",
       "122  clusters1/Berkeley_23.dat  Cl Berkeley 23   98.3161   20.5375  \n",
       "\n",
       "[1 rows x 29 columns]"
      ]
     },
     "execution_count": 8,
     "metadata": {},
     "output_type": "execute_result"
    }
   ],
   "source": [
    "dados = pd.read_csv('TABLE_DIAS')\n",
    "dc = dados[dados['Cluster']=='Berkeley_23']\n",
    "dc.head()"
   ]
  },
  {
   "cell_type": "code",
   "execution_count": 9,
   "id": "cfddc42e-7c73-42b1-8608-a50a5c7657f2",
   "metadata": {},
   "outputs": [],
   "source": [
    "query = \"\"\"SELECT \n",
    "ra, dec, pmra, pmra_error, pmdec, pmdec_error, bp_rp, phot_g_mean_mag, parallax, parallax_error, radial_velocity, radial_velocity_error, l,b\n",
    "FROM gaiadr3.gaia_source\n",
    "WHERE 1=CONTAINS(POINT('ICRS',ra,dec),\n",
    "CIRCLE('ICRS',98.3161,20.537506, 0.2))\n",
    "\"\"\""
   ]
  },
  {
   "cell_type": "code",
   "execution_count": 10,
   "id": "2bda824e-c8c4-4a4e-8927-a103a44b3964",
   "metadata": {},
   "outputs": [
    {
     "name": "stdout",
     "output_type": "stream",
     "text": [
      "INFO: Query finished. [astroquery.utils.tap.core]\n"
     ]
    },
    {
     "data": {
      "text/plain": [
       "<astroquery.utils.tap.model.job.Job at 0x7fca589c6a90>"
      ]
     },
     "execution_count": 10,
     "metadata": {},
     "output_type": "execute_result"
    }
   ],
   "source": [
    "job = Gaia.launch_job_async(query)\n",
    "job"
   ]
  },
  {
   "cell_type": "code",
   "execution_count": 11,
   "id": "b295ddf9-3db5-4281-b691-6c48271123d7",
   "metadata": {},
   "outputs": [],
   "source": [
    "data = job.get_results()"
   ]
  },
  {
   "cell_type": "code",
   "execution_count": 12,
   "id": "9a3a8874-a7b1-4605-aff0-b35a7b48291d",
   "metadata": {},
   "outputs": [
    {
     "data": {
      "text/plain": [
       "5432"
      ]
     },
     "execution_count": 12,
     "metadata": {},
     "output_type": "execute_result"
    }
   ],
   "source": [
    "len(data)"
   ]
  },
  {
   "cell_type": "code",
   "execution_count": 13,
   "id": "a598037d-db38-4959-a85d-914b8f5e19f7",
   "metadata": {},
   "outputs": [
    {
     "data": {
      "text/html": [
       "<div><i>Table length=5432</i>\n",
       "<table id=\"table140507046516528\" class=\"table-striped table-bordered table-condensed\">\n",
       "<thead><tr><th>ra</th><th>dec</th><th>pmra</th><th>pmra_error</th><th>pmdec</th><th>pmdec_error</th><th>bp_rp</th><th>phot_g_mean_mag</th><th>parallax</th><th>parallax_error</th><th>radial_velocity</th><th>radial_velocity_error</th><th>l</th><th>b</th></tr></thead>\n",
       "<thead><tr><th>deg</th><th>deg</th><th>mas / yr</th><th>mas / yr</th><th>mas / yr</th><th>mas / yr</th><th>mag</th><th>mag</th><th>mas</th><th>mas</th><th>km / s</th><th>km / s</th><th>deg</th><th>deg</th></tr></thead>\n",
       "<thead><tr><th>float64</th><th>float64</th><th>float64</th><th>float32</th><th>float64</th><th>float32</th><th>float32</th><th>float32</th><th>float64</th><th>float32</th><th>float32</th><th>float32</th><th>float64</th><th>float64</th></tr></thead>\n",
       "<tr><td>98.35005464165842</td><td>20.34186248269788</td><td>0.8599048006219591</td><td>0.025661808</td><td>-2.641192928067422</td><td>0.020173289</td><td>0.67087746</td><td>14.261889</td><td>0.5850682941168022</td><td>0.024479946</td><td>--</td><td>--</td><td>192.78167233294792</td><td>5.330448475713683</td></tr>\n",
       "<tr><td>98.41149568652337</td><td>20.359127818776102</td><td>2.152265423386537</td><td>0.3700105</td><td>-1.1332864108910055</td><td>0.2630286</td><td>2.150219</td><td>18.876717</td><td>0.3982967438067359</td><td>0.35393482</td><td>--</td><td>--</td><td>192.79246767088588</td><td>5.389617964664992</td></tr>\n",
       "<tr><td>98.37861723625792</td><td>20.350157223635733</td><td>0.9246403660187049</td><td>0.25899062</td><td>-1.127056947229205</td><td>0.19091417</td><td>1.2037277</td><td>18.397947</td><td>-0.3031276540178721</td><td>0.20011885</td><td>--</td><td>--</td><td>192.78645341480026</td><td>5.358077111126193</td></tr>\n",
       "<tr><td>98.36028621373684</td><td>20.343793746759943</td><td>-1.0402793854311878</td><td>0.6678824</td><td>-1.8786318979004455</td><td>0.4912393</td><td>1.7669334</td><td>19.867931</td><td>0.4725748668898386</td><td>0.6388893</td><td>--</td><td>--</td><td>192.78431640654998</td><td>5.339873593603409</td></tr>\n",
       "<tr><td>98.36969547639049</td><td>20.344009472127425</td><td>0.6239952334694854</td><td>0.4054788</td><td>-2.9373925324839085</td><td>0.27421805</td><td>1.318716</td><td>19.11356</td><td>0.08435524916048195</td><td>0.38518915</td><td>--</td><td>--</td><td>192.78814402186504</td><td>5.347833282484086</td></tr>\n",
       "<tr><td>98.36658698985006</td><td>20.34661401331052</td><td>--</td><td>--</td><td>--</td><td>--</td><td>1.2196331</td><td>19.844439</td><td>--</td><td>--</td><td>--</td><td>--</td><td>192.78448464550974</td><td>5.346417811217697</td></tr>\n",
       "<tr><td>...</td><td>...</td><td>...</td><td>...</td><td>...</td><td>...</td><td>...</td><td>...</td><td>...</td><td>...</td><td>...</td><td>...</td><td>...</td><td>...</td></tr>\n",
       "<tr><td>98.21593017018945</td><td>20.70802545923287</td><td>-0.007646516828906047</td><td>1.268508</td><td>-15.037385084454385</td><td>1.0606494</td><td>2.5266323</td><td>20.269272</td><td>-0.31666632675666345</td><td>1.162772</td><td>--</td><td>--</td><td>192.39670685875478</td><td>5.384732879806451</td></tr>\n",
       "<tr><td>98.21935381678283</td><td>20.70887494566982</td><td>0.9495841533258502</td><td>0.47678077</td><td>0.013241302247451795</td><td>0.33052197</td><td>1.6251202</td><td>19.486835</td><td>0.6784727535126767</td><td>0.57602626</td><td>--</td><td>--</td><td>192.3974069574336</td><td>5.3879719386321</td></tr>\n",
       "<tr><td>98.22288454453562</td><td>20.71135055202122</td><td>1.3994436025342591</td><td>0.4230794</td><td>-0.0530771713937869</td><td>0.2946694</td><td>1.6314487</td><td>19.307213</td><td>-0.22751394856509524</td><td>0.49011648</td><td>--</td><td>--</td><td>192.39669731856173</td><td>5.392038448633415</td></tr>\n",
       "<tr><td>98.22036502344264</td><td>20.713763810977692</td><td>2.8999737057419024</td><td>0.4031122</td><td>-3.48414149769214</td><td>0.27822477</td><td>1.939724</td><td>19.109995</td><td>0.4890961438432381</td><td>0.4256797</td><td>--</td><td>--</td><td>192.39346289199742</td><td>5.391034164901363</td></tr>\n",
       "<tr><td>98.2168106144897</td><td>20.713003769392877</td><td>-1.4658197573747098</td><td>1.5806735</td><td>-1.7930142843278105</td><td>0.98750204</td><td>1.6512928</td><td>20.414825</td><td>-0.7181854655887997</td><td>1.160468</td><td>--</td><td>--</td><td>192.3926270541432</td><td>5.38772681763588</td></tr>\n",
       "<tr><td>98.23248755918617</td><td>20.720189015572835</td><td>--</td><td>--</td><td>--</td><td>--</td><td>0.99427986</td><td>20.571396</td><td>--</td><td>--</td><td>--</td><td>--</td><td>192.39288237610265</td><td>5.404053956846193</td></tr>\n",
       "</table></div>"
      ],
      "text/plain": [
       "<Table length=5432>\n",
       "        ra               dec         ...         l                  b        \n",
       "       deg               deg         ...        deg                deg       \n",
       "     float64           float64       ...      float64            float64     \n",
       "----------------- ------------------ ... ------------------ -----------------\n",
       "98.35005464165842  20.34186248269788 ... 192.78167233294792 5.330448475713683\n",
       "98.41149568652337 20.359127818776102 ... 192.79246767088588 5.389617964664992\n",
       "98.37861723625792 20.350157223635733 ... 192.78645341480026 5.358077111126193\n",
       "98.36028621373684 20.343793746759943 ... 192.78431640654998 5.339873593603409\n",
       "98.36969547639049 20.344009472127425 ... 192.78814402186504 5.347833282484086\n",
       "98.36658698985006  20.34661401331052 ... 192.78448464550974 5.346417811217697\n",
       "              ...                ... ...                ...               ...\n",
       "98.21593017018945  20.70802545923287 ... 192.39670685875478 5.384732879806451\n",
       "98.21935381678283  20.70887494566982 ...  192.3974069574336   5.3879719386321\n",
       "98.22288454453562  20.71135055202122 ... 192.39669731856173 5.392038448633415\n",
       "98.22036502344264 20.713763810977692 ... 192.39346289199742 5.391034164901363\n",
       " 98.2168106144897 20.713003769392877 ...  192.3926270541432  5.38772681763588\n",
       "98.23248755918617 20.720189015572835 ... 192.39288237610265 5.404053956846193"
      ]
     },
     "execution_count": 13,
     "metadata": {},
     "output_type": "execute_result"
    }
   ],
   "source": [
    "data#.show_in_notebook()"
   ]
  },
  {
   "cell_type": "code",
   "execution_count": 14,
   "id": "daf1f30d-06f2-4fe0-b8f0-52f58b67113e",
   "metadata": {},
   "outputs": [
    {
     "data": {
      "text/html": [
       "<div>\n",
       "<style scoped>\n",
       "    .dataframe tbody tr th:only-of-type {\n",
       "        vertical-align: middle;\n",
       "    }\n",
       "\n",
       "    .dataframe tbody tr th {\n",
       "        vertical-align: top;\n",
       "    }\n",
       "\n",
       "    .dataframe thead th {\n",
       "        text-align: right;\n",
       "    }\n",
       "</style>\n",
       "<table border=\"1\" class=\"dataframe\">\n",
       "  <thead>\n",
       "    <tr style=\"text-align: right;\">\n",
       "      <th></th>\n",
       "      <th>ra</th>\n",
       "      <th>dec</th>\n",
       "      <th>pmra</th>\n",
       "      <th>pmra_error</th>\n",
       "      <th>pmdec</th>\n",
       "      <th>pmdec_error</th>\n",
       "      <th>bp_rp</th>\n",
       "      <th>phot_g_mean_mag</th>\n",
       "      <th>parallax</th>\n",
       "      <th>parallax_error</th>\n",
       "      <th>radial_velocity</th>\n",
       "      <th>radial_velocity_error</th>\n",
       "      <th>l</th>\n",
       "      <th>b</th>\n",
       "    </tr>\n",
       "  </thead>\n",
       "  <tbody>\n",
       "    <tr>\n",
       "      <th>0</th>\n",
       "      <td>98.350055</td>\n",
       "      <td>20.341862</td>\n",
       "      <td>0.859905</td>\n",
       "      <td>0.025662</td>\n",
       "      <td>-2.641193</td>\n",
       "      <td>0.020173</td>\n",
       "      <td>0.670877</td>\n",
       "      <td>14.261889</td>\n",
       "      <td>0.585068</td>\n",
       "      <td>0.024480</td>\n",
       "      <td>NaN</td>\n",
       "      <td>NaN</td>\n",
       "      <td>192.781672</td>\n",
       "      <td>5.330448</td>\n",
       "    </tr>\n",
       "    <tr>\n",
       "      <th>1</th>\n",
       "      <td>98.411496</td>\n",
       "      <td>20.359128</td>\n",
       "      <td>2.152265</td>\n",
       "      <td>0.370010</td>\n",
       "      <td>-1.133286</td>\n",
       "      <td>0.263029</td>\n",
       "      <td>2.150219</td>\n",
       "      <td>18.876717</td>\n",
       "      <td>0.398297</td>\n",
       "      <td>0.353935</td>\n",
       "      <td>NaN</td>\n",
       "      <td>NaN</td>\n",
       "      <td>192.792468</td>\n",
       "      <td>5.389618</td>\n",
       "    </tr>\n",
       "    <tr>\n",
       "      <th>2</th>\n",
       "      <td>98.378617</td>\n",
       "      <td>20.350157</td>\n",
       "      <td>0.924640</td>\n",
       "      <td>0.258991</td>\n",
       "      <td>-1.127057</td>\n",
       "      <td>0.190914</td>\n",
       "      <td>1.203728</td>\n",
       "      <td>18.397947</td>\n",
       "      <td>-0.303128</td>\n",
       "      <td>0.200119</td>\n",
       "      <td>NaN</td>\n",
       "      <td>NaN</td>\n",
       "      <td>192.786453</td>\n",
       "      <td>5.358077</td>\n",
       "    </tr>\n",
       "    <tr>\n",
       "      <th>3</th>\n",
       "      <td>98.360286</td>\n",
       "      <td>20.343794</td>\n",
       "      <td>-1.040279</td>\n",
       "      <td>0.667882</td>\n",
       "      <td>-1.878632</td>\n",
       "      <td>0.491239</td>\n",
       "      <td>1.766933</td>\n",
       "      <td>19.867931</td>\n",
       "      <td>0.472575</td>\n",
       "      <td>0.638889</td>\n",
       "      <td>NaN</td>\n",
       "      <td>NaN</td>\n",
       "      <td>192.784316</td>\n",
       "      <td>5.339874</td>\n",
       "    </tr>\n",
       "    <tr>\n",
       "      <th>4</th>\n",
       "      <td>98.369695</td>\n",
       "      <td>20.344009</td>\n",
       "      <td>0.623995</td>\n",
       "      <td>0.405479</td>\n",
       "      <td>-2.937393</td>\n",
       "      <td>0.274218</td>\n",
       "      <td>1.318716</td>\n",
       "      <td>19.113560</td>\n",
       "      <td>0.084355</td>\n",
       "      <td>0.385189</td>\n",
       "      <td>NaN</td>\n",
       "      <td>NaN</td>\n",
       "      <td>192.788144</td>\n",
       "      <td>5.347833</td>\n",
       "    </tr>\n",
       "    <tr>\n",
       "      <th>...</th>\n",
       "      <td>...</td>\n",
       "      <td>...</td>\n",
       "      <td>...</td>\n",
       "      <td>...</td>\n",
       "      <td>...</td>\n",
       "      <td>...</td>\n",
       "      <td>...</td>\n",
       "      <td>...</td>\n",
       "      <td>...</td>\n",
       "      <td>...</td>\n",
       "      <td>...</td>\n",
       "      <td>...</td>\n",
       "      <td>...</td>\n",
       "      <td>...</td>\n",
       "    </tr>\n",
       "    <tr>\n",
       "      <th>5427</th>\n",
       "      <td>98.219354</td>\n",
       "      <td>20.708875</td>\n",
       "      <td>0.949584</td>\n",
       "      <td>0.476781</td>\n",
       "      <td>0.013241</td>\n",
       "      <td>0.330522</td>\n",
       "      <td>1.625120</td>\n",
       "      <td>19.486835</td>\n",
       "      <td>0.678473</td>\n",
       "      <td>0.576026</td>\n",
       "      <td>NaN</td>\n",
       "      <td>NaN</td>\n",
       "      <td>192.397407</td>\n",
       "      <td>5.387972</td>\n",
       "    </tr>\n",
       "    <tr>\n",
       "      <th>5428</th>\n",
       "      <td>98.222885</td>\n",
       "      <td>20.711351</td>\n",
       "      <td>1.399444</td>\n",
       "      <td>0.423079</td>\n",
       "      <td>-0.053077</td>\n",
       "      <td>0.294669</td>\n",
       "      <td>1.631449</td>\n",
       "      <td>19.307213</td>\n",
       "      <td>-0.227514</td>\n",
       "      <td>0.490116</td>\n",
       "      <td>NaN</td>\n",
       "      <td>NaN</td>\n",
       "      <td>192.396697</td>\n",
       "      <td>5.392038</td>\n",
       "    </tr>\n",
       "    <tr>\n",
       "      <th>5429</th>\n",
       "      <td>98.220365</td>\n",
       "      <td>20.713764</td>\n",
       "      <td>2.899974</td>\n",
       "      <td>0.403112</td>\n",
       "      <td>-3.484141</td>\n",
       "      <td>0.278225</td>\n",
       "      <td>1.939724</td>\n",
       "      <td>19.109995</td>\n",
       "      <td>0.489096</td>\n",
       "      <td>0.425680</td>\n",
       "      <td>NaN</td>\n",
       "      <td>NaN</td>\n",
       "      <td>192.393463</td>\n",
       "      <td>5.391034</td>\n",
       "    </tr>\n",
       "    <tr>\n",
       "      <th>5430</th>\n",
       "      <td>98.216811</td>\n",
       "      <td>20.713004</td>\n",
       "      <td>-1.465820</td>\n",
       "      <td>1.580673</td>\n",
       "      <td>-1.793014</td>\n",
       "      <td>0.987502</td>\n",
       "      <td>1.651293</td>\n",
       "      <td>20.414825</td>\n",
       "      <td>-0.718185</td>\n",
       "      <td>1.160468</td>\n",
       "      <td>NaN</td>\n",
       "      <td>NaN</td>\n",
       "      <td>192.392627</td>\n",
       "      <td>5.387727</td>\n",
       "    </tr>\n",
       "    <tr>\n",
       "      <th>5431</th>\n",
       "      <td>98.232488</td>\n",
       "      <td>20.720189</td>\n",
       "      <td>NaN</td>\n",
       "      <td>NaN</td>\n",
       "      <td>NaN</td>\n",
       "      <td>NaN</td>\n",
       "      <td>0.994280</td>\n",
       "      <td>20.571396</td>\n",
       "      <td>NaN</td>\n",
       "      <td>NaN</td>\n",
       "      <td>NaN</td>\n",
       "      <td>NaN</td>\n",
       "      <td>192.392882</td>\n",
       "      <td>5.404054</td>\n",
       "    </tr>\n",
       "  </tbody>\n",
       "</table>\n",
       "<p>5432 rows × 14 columns</p>\n",
       "</div>"
      ],
      "text/plain": [
       "             ra        dec      pmra  pmra_error     pmdec  pmdec_error  \\\n",
       "0     98.350055  20.341862  0.859905    0.025662 -2.641193     0.020173   \n",
       "1     98.411496  20.359128  2.152265    0.370010 -1.133286     0.263029   \n",
       "2     98.378617  20.350157  0.924640    0.258991 -1.127057     0.190914   \n",
       "3     98.360286  20.343794 -1.040279    0.667882 -1.878632     0.491239   \n",
       "4     98.369695  20.344009  0.623995    0.405479 -2.937393     0.274218   \n",
       "...         ...        ...       ...         ...       ...          ...   \n",
       "5427  98.219354  20.708875  0.949584    0.476781  0.013241     0.330522   \n",
       "5428  98.222885  20.711351  1.399444    0.423079 -0.053077     0.294669   \n",
       "5429  98.220365  20.713764  2.899974    0.403112 -3.484141     0.278225   \n",
       "5430  98.216811  20.713004 -1.465820    1.580673 -1.793014     0.987502   \n",
       "5431  98.232488  20.720189       NaN         NaN       NaN          NaN   \n",
       "\n",
       "         bp_rp  phot_g_mean_mag  parallax  parallax_error  radial_velocity  \\\n",
       "0     0.670877        14.261889  0.585068        0.024480              NaN   \n",
       "1     2.150219        18.876717  0.398297        0.353935              NaN   \n",
       "2     1.203728        18.397947 -0.303128        0.200119              NaN   \n",
       "3     1.766933        19.867931  0.472575        0.638889              NaN   \n",
       "4     1.318716        19.113560  0.084355        0.385189              NaN   \n",
       "...        ...              ...       ...             ...              ...   \n",
       "5427  1.625120        19.486835  0.678473        0.576026              NaN   \n",
       "5428  1.631449        19.307213 -0.227514        0.490116              NaN   \n",
       "5429  1.939724        19.109995  0.489096        0.425680              NaN   \n",
       "5430  1.651293        20.414825 -0.718185        1.160468              NaN   \n",
       "5431  0.994280        20.571396       NaN             NaN              NaN   \n",
       "\n",
       "      radial_velocity_error           l         b  \n",
       "0                       NaN  192.781672  5.330448  \n",
       "1                       NaN  192.792468  5.389618  \n",
       "2                       NaN  192.786453  5.358077  \n",
       "3                       NaN  192.784316  5.339874  \n",
       "4                       NaN  192.788144  5.347833  \n",
       "...                     ...         ...       ...  \n",
       "5427                    NaN  192.397407  5.387972  \n",
       "5428                    NaN  192.396697  5.392038  \n",
       "5429                    NaN  192.393463  5.391034  \n",
       "5430                    NaN  192.392627  5.387727  \n",
       "5431                    NaN  192.392882  5.404054  \n",
       "\n",
       "[5432 rows x 14 columns]"
      ]
     },
     "execution_count": 14,
     "metadata": {},
     "output_type": "execute_result"
    }
   ],
   "source": [
    "df = data.to_pandas()\n",
    "df"
   ]
  },
  {
   "cell_type": "code",
   "execution_count": 15,
   "id": "a108813b-cc54-40dc-b390-a6c4c9f1e99a",
   "metadata": {},
   "outputs": [
    {
     "data": {
      "text/html": [
       "<div>\n",
       "<style scoped>\n",
       "    .dataframe tbody tr th:only-of-type {\n",
       "        vertical-align: middle;\n",
       "    }\n",
       "\n",
       "    .dataframe tbody tr th {\n",
       "        vertical-align: top;\n",
       "    }\n",
       "\n",
       "    .dataframe thead th {\n",
       "        text-align: right;\n",
       "    }\n",
       "</style>\n",
       "<table border=\"1\" class=\"dataframe\">\n",
       "  <thead>\n",
       "    <tr style=\"text-align: right;\">\n",
       "      <th></th>\n",
       "      <th>ra</th>\n",
       "      <th>dec</th>\n",
       "      <th>pmra</th>\n",
       "      <th>pmra_error</th>\n",
       "      <th>pmdec</th>\n",
       "      <th>pmdec_error</th>\n",
       "      <th>bp_rp</th>\n",
       "      <th>phot_g_mean_mag</th>\n",
       "      <th>parallax</th>\n",
       "      <th>parallax_error</th>\n",
       "      <th>radial_velocity</th>\n",
       "      <th>radial_velocity_error</th>\n",
       "      <th>l</th>\n",
       "      <th>b</th>\n",
       "    </tr>\n",
       "  </thead>\n",
       "  <tbody>\n",
       "    <tr>\n",
       "      <th>0</th>\n",
       "      <td>98.350055</td>\n",
       "      <td>20.341862</td>\n",
       "      <td>0.859905</td>\n",
       "      <td>0.025662</td>\n",
       "      <td>-2.641193</td>\n",
       "      <td>0.020173</td>\n",
       "      <td>0.670877</td>\n",
       "      <td>14.261889</td>\n",
       "      <td>0.585068</td>\n",
       "      <td>0.024480</td>\n",
       "      <td>NaN</td>\n",
       "      <td>NaN</td>\n",
       "      <td>192.781672</td>\n",
       "      <td>5.330448</td>\n",
       "    </tr>\n",
       "    <tr>\n",
       "      <th>1</th>\n",
       "      <td>98.411496</td>\n",
       "      <td>20.359128</td>\n",
       "      <td>2.152265</td>\n",
       "      <td>0.370010</td>\n",
       "      <td>-1.133286</td>\n",
       "      <td>0.263029</td>\n",
       "      <td>2.150219</td>\n",
       "      <td>18.876717</td>\n",
       "      <td>0.398297</td>\n",
       "      <td>0.353935</td>\n",
       "      <td>NaN</td>\n",
       "      <td>NaN</td>\n",
       "      <td>192.792468</td>\n",
       "      <td>5.389618</td>\n",
       "    </tr>\n",
       "    <tr>\n",
       "      <th>2</th>\n",
       "      <td>98.378617</td>\n",
       "      <td>20.350157</td>\n",
       "      <td>0.924640</td>\n",
       "      <td>0.258991</td>\n",
       "      <td>-1.127057</td>\n",
       "      <td>0.190914</td>\n",
       "      <td>1.203728</td>\n",
       "      <td>18.397947</td>\n",
       "      <td>-0.303128</td>\n",
       "      <td>0.200119</td>\n",
       "      <td>NaN</td>\n",
       "      <td>NaN</td>\n",
       "      <td>192.786453</td>\n",
       "      <td>5.358077</td>\n",
       "    </tr>\n",
       "    <tr>\n",
       "      <th>3</th>\n",
       "      <td>98.360286</td>\n",
       "      <td>20.343794</td>\n",
       "      <td>-1.040279</td>\n",
       "      <td>0.667882</td>\n",
       "      <td>-1.878632</td>\n",
       "      <td>0.491239</td>\n",
       "      <td>1.766933</td>\n",
       "      <td>19.867931</td>\n",
       "      <td>0.472575</td>\n",
       "      <td>0.638889</td>\n",
       "      <td>NaN</td>\n",
       "      <td>NaN</td>\n",
       "      <td>192.784316</td>\n",
       "      <td>5.339874</td>\n",
       "    </tr>\n",
       "    <tr>\n",
       "      <th>4</th>\n",
       "      <td>98.369695</td>\n",
       "      <td>20.344009</td>\n",
       "      <td>0.623995</td>\n",
       "      <td>0.405479</td>\n",
       "      <td>-2.937393</td>\n",
       "      <td>0.274218</td>\n",
       "      <td>1.318716</td>\n",
       "      <td>19.113560</td>\n",
       "      <td>0.084355</td>\n",
       "      <td>0.385189</td>\n",
       "      <td>NaN</td>\n",
       "      <td>NaN</td>\n",
       "      <td>192.788144</td>\n",
       "      <td>5.347833</td>\n",
       "    </tr>\n",
       "    <tr>\n",
       "      <th>...</th>\n",
       "      <td>...</td>\n",
       "      <td>...</td>\n",
       "      <td>...</td>\n",
       "      <td>...</td>\n",
       "      <td>...</td>\n",
       "      <td>...</td>\n",
       "      <td>...</td>\n",
       "      <td>...</td>\n",
       "      <td>...</td>\n",
       "      <td>...</td>\n",
       "      <td>...</td>\n",
       "      <td>...</td>\n",
       "      <td>...</td>\n",
       "      <td>...</td>\n",
       "    </tr>\n",
       "    <tr>\n",
       "      <th>5426</th>\n",
       "      <td>98.215930</td>\n",
       "      <td>20.708025</td>\n",
       "      <td>-0.007647</td>\n",
       "      <td>1.268508</td>\n",
       "      <td>-15.037385</td>\n",
       "      <td>1.060649</td>\n",
       "      <td>2.526632</td>\n",
       "      <td>20.269272</td>\n",
       "      <td>-0.316666</td>\n",
       "      <td>1.162772</td>\n",
       "      <td>NaN</td>\n",
       "      <td>NaN</td>\n",
       "      <td>192.396707</td>\n",
       "      <td>5.384733</td>\n",
       "    </tr>\n",
       "    <tr>\n",
       "      <th>5427</th>\n",
       "      <td>98.219354</td>\n",
       "      <td>20.708875</td>\n",
       "      <td>0.949584</td>\n",
       "      <td>0.476781</td>\n",
       "      <td>0.013241</td>\n",
       "      <td>0.330522</td>\n",
       "      <td>1.625120</td>\n",
       "      <td>19.486835</td>\n",
       "      <td>0.678473</td>\n",
       "      <td>0.576026</td>\n",
       "      <td>NaN</td>\n",
       "      <td>NaN</td>\n",
       "      <td>192.397407</td>\n",
       "      <td>5.387972</td>\n",
       "    </tr>\n",
       "    <tr>\n",
       "      <th>5428</th>\n",
       "      <td>98.222885</td>\n",
       "      <td>20.711351</td>\n",
       "      <td>1.399444</td>\n",
       "      <td>0.423079</td>\n",
       "      <td>-0.053077</td>\n",
       "      <td>0.294669</td>\n",
       "      <td>1.631449</td>\n",
       "      <td>19.307213</td>\n",
       "      <td>-0.227514</td>\n",
       "      <td>0.490116</td>\n",
       "      <td>NaN</td>\n",
       "      <td>NaN</td>\n",
       "      <td>192.396697</td>\n",
       "      <td>5.392038</td>\n",
       "    </tr>\n",
       "    <tr>\n",
       "      <th>5429</th>\n",
       "      <td>98.220365</td>\n",
       "      <td>20.713764</td>\n",
       "      <td>2.899974</td>\n",
       "      <td>0.403112</td>\n",
       "      <td>-3.484141</td>\n",
       "      <td>0.278225</td>\n",
       "      <td>1.939724</td>\n",
       "      <td>19.109995</td>\n",
       "      <td>0.489096</td>\n",
       "      <td>0.425680</td>\n",
       "      <td>NaN</td>\n",
       "      <td>NaN</td>\n",
       "      <td>192.393463</td>\n",
       "      <td>5.391034</td>\n",
       "    </tr>\n",
       "    <tr>\n",
       "      <th>5430</th>\n",
       "      <td>98.216811</td>\n",
       "      <td>20.713004</td>\n",
       "      <td>-1.465820</td>\n",
       "      <td>1.580673</td>\n",
       "      <td>-1.793014</td>\n",
       "      <td>0.987502</td>\n",
       "      <td>1.651293</td>\n",
       "      <td>20.414825</td>\n",
       "      <td>-0.718185</td>\n",
       "      <td>1.160468</td>\n",
       "      <td>NaN</td>\n",
       "      <td>NaN</td>\n",
       "      <td>192.392627</td>\n",
       "      <td>5.387727</td>\n",
       "    </tr>\n",
       "  </tbody>\n",
       "</table>\n",
       "<p>4806 rows × 14 columns</p>\n",
       "</div>"
      ],
      "text/plain": [
       "             ra        dec      pmra  pmra_error      pmdec  pmdec_error  \\\n",
       "0     98.350055  20.341862  0.859905    0.025662  -2.641193     0.020173   \n",
       "1     98.411496  20.359128  2.152265    0.370010  -1.133286     0.263029   \n",
       "2     98.378617  20.350157  0.924640    0.258991  -1.127057     0.190914   \n",
       "3     98.360286  20.343794 -1.040279    0.667882  -1.878632     0.491239   \n",
       "4     98.369695  20.344009  0.623995    0.405479  -2.937393     0.274218   \n",
       "...         ...        ...       ...         ...        ...          ...   \n",
       "5426  98.215930  20.708025 -0.007647    1.268508 -15.037385     1.060649   \n",
       "5427  98.219354  20.708875  0.949584    0.476781   0.013241     0.330522   \n",
       "5428  98.222885  20.711351  1.399444    0.423079  -0.053077     0.294669   \n",
       "5429  98.220365  20.713764  2.899974    0.403112  -3.484141     0.278225   \n",
       "5430  98.216811  20.713004 -1.465820    1.580673  -1.793014     0.987502   \n",
       "\n",
       "         bp_rp  phot_g_mean_mag  parallax  parallax_error  radial_velocity  \\\n",
       "0     0.670877        14.261889  0.585068        0.024480              NaN   \n",
       "1     2.150219        18.876717  0.398297        0.353935              NaN   \n",
       "2     1.203728        18.397947 -0.303128        0.200119              NaN   \n",
       "3     1.766933        19.867931  0.472575        0.638889              NaN   \n",
       "4     1.318716        19.113560  0.084355        0.385189              NaN   \n",
       "...        ...              ...       ...             ...              ...   \n",
       "5426  2.526632        20.269272 -0.316666        1.162772              NaN   \n",
       "5427  1.625120        19.486835  0.678473        0.576026              NaN   \n",
       "5428  1.631449        19.307213 -0.227514        0.490116              NaN   \n",
       "5429  1.939724        19.109995  0.489096        0.425680              NaN   \n",
       "5430  1.651293        20.414825 -0.718185        1.160468              NaN   \n",
       "\n",
       "      radial_velocity_error           l         b  \n",
       "0                       NaN  192.781672  5.330448  \n",
       "1                       NaN  192.792468  5.389618  \n",
       "2                       NaN  192.786453  5.358077  \n",
       "3                       NaN  192.784316  5.339874  \n",
       "4                       NaN  192.788144  5.347833  \n",
       "...                     ...         ...       ...  \n",
       "5426                    NaN  192.396707  5.384733  \n",
       "5427                    NaN  192.397407  5.387972  \n",
       "5428                    NaN  192.396697  5.392038  \n",
       "5429                    NaN  192.393463  5.391034  \n",
       "5430                    NaN  192.392627  5.387727  \n",
       "\n",
       "[4806 rows x 14 columns]"
      ]
     },
     "execution_count": 15,
     "metadata": {},
     "output_type": "execute_result"
    }
   ],
   "source": [
    "ndf = df.dropna(how='any',subset=['pmra', 'pmdec', 'parallax'])\n",
    "ndf"
   ]
  },
  {
   "cell_type": "code",
   "execution_count": 16,
   "id": "e85e8c69-d8aa-44ae-a351-36a60481fdbb",
   "metadata": {},
   "outputs": [
    {
     "data": {
      "text/plain": [
       "<matplotlib.collections.PathCollection at 0x7fca5888c490>"
      ]
     },
     "execution_count": 16,
     "metadata": {},
     "output_type": "execute_result"
    },
    {
     "data": {
      "image/png": "[encoded data removed]",
      "text/plain": [
       "<Figure size 432x288 with 1 Axes>"
      ]
     },
     "metadata": {
      "needs_background": "light"
     },
     "output_type": "display_data"
    }
   ],
   "source": [
    "plt.scatter(ndf['pmra'],ndf['pmdec'])"
   ]
  },
  {
   "cell_type": "code",
   "execution_count": 17,
   "id": "162cd853-ca95-4dab-a6cd-0b778554640b",
   "metadata": {},
   "outputs": [],
   "source": [
    "x = ndf['pmra']\n",
    "y = ndf['pmdec']"
   ]
  },
  {
   "cell_type": "code",
   "execution_count": 18,
   "id": "c662d48f-2a9f-4275-b68f-6eaaf98d220d",
   "metadata": {},
   "outputs": [],
   "source": [
    "from sklearn.cluster import DBSCAN\n",
    "from sklearn.metrics import silhouette_score\n",
    "from sklearn.metrics import v_measure_score\n",
    "from sklearn.preprocessing import StandardScaler"
   ]
  },
  {
   "cell_type": "code",
   "execution_count": 19,
   "id": "89898a40-8f27-4174-ab78-d8d295e3c99b",
   "metadata": {},
   "outputs": [],
   "source": [
    "Xis = np.dstack((ndf['pmra'],ndf['pmdec']))[0]\n",
    "X = np.dstack((ndf['pmra'],ndf['pmdec']))[0]\n",
    "#X = StandardScaler().fit_transform(Xis)"
   ]
  },
  {
   "cell_type": "code",
   "execution_count": 20,
   "id": "1b0c3e5f-b13b-4933-b65d-c2da7b13c07d",
   "metadata": {},
   "outputs": [
    {
     "name": "stdout",
     "output_type": "stream",
     "text": [
      "Estimated no. of clusters: 1\n",
      "Estimated no. of noise points: 4615\n",
      "Estimated no. points clustered: 191\n"
     ]
    },
    {
     "data": {
      "text/plain": [
       "Text(0, 0.5, '$x_2$')"
      ]
     },
     "execution_count": 20,
     "metadata": {},
     "output_type": "execute_result"
    },
    {
     "data": {
      "image/png": "[encoded data removed]",
      "text/plain": [
       "<Figure size 432x288 with 1 Axes>"
      ]
     },
     "metadata": {
      "needs_background": "light"
     },
     "output_type": "display_data"
    }
   ],
   "source": [
    "filipe = np.dstack((ndf['pmra'],ndf['pmdec'],ndf['b'],ndf['l'],ndf['parallax']))[0]\n",
    "db = DBSCAN(eps=0.2, min_samples=50).fit(filipe)\n",
    "core_samples_mask = np.zeros_like(db.labels_, dtype=bool)\n",
    "core_samples_mask[db.core_sample_indices_] = True\n",
    "labels = db.labels_\n",
    "\n",
    "N_clus=len(set(labels))-(1 if -1 in labels else 0)\n",
    "print('Estimated no. of clusters: %d' % N_clus)\n",
    "\n",
    "n_noise = list(db.labels_).count(-1)\n",
    "print('Estimated no. of noise points: %d' % n_noise)\n",
    "\n",
    "n_in = list(db.labels_).count(0)\n",
    "print('Estimated no. points clustered: %d' % n_in)\n",
    "\n",
    "plt.scatter(X[:, 0], \n",
    "            X[:, 1], \n",
    "            c=db.labels_, \n",
    "            label=y)\n",
    "plt.xlabel(\"$x_1$\")\n",
    "plt.ylabel(\"$x_2$\")"
   ]
  },
  {
   "cell_type": "code",
   "execution_count": 21,
   "id": "ca7c49e7-38fa-4cc4-8857-f5db21760161",
   "metadata": {},
   "outputs": [
    {
     "data": {
      "image/png": "[encoded data removed]",
      "text/plain": [
       "<Figure size 432x288 with 2 Axes>"
      ]
     },
     "metadata": {
      "needs_background": "light"
     },
     "output_type": "display_data"
    }
   ],
   "source": [
    "pontos_cluster = np.empty((0,2))\n",
    "for i in range(len(Xis)):\n",
    "    if labels[i]==0:\n",
    "        pontos_cluster = np.append(pontos_cluster, np.array([Xis[i]]), axis  = 0) #problema no formato do array para dar append\n",
    "    else:\n",
    "        continue\n",
    "\n",
    "xin,yin = pontos_cluster.T\n",
    "\n",
    "pontos_cluster = np.empty((0,2))\n",
    "for i in range(len(Xis)):\n",
    "    if labels[i]==-1:\n",
    "        pontos_cluster = np.append(pontos_cluster, np.array([Xis[i]]), axis  = 0) #problema no formato do array para dar append\n",
    "    else:\n",
    "        continue\n",
    "\n",
    "\n",
    "xout, yout = pontos_cluster.T\n",
    "\n",
    "\n",
    "fig, ax = plt.subplots(1,2)\n",
    "ax[0].scatter(xin,yin, color = 'k', zorder = 100)\n",
    "ax[0].scatter(xout,yout, color = 'red')\n",
    "\n",
    "len(xin), len(xout)\n",
    "\n",
    "subset = ndf[ndf['pmra'].isin(xin) & ndf['pmdec'].isin(yin)]\n",
    "\n",
    "ax[1].scatter(subset['bp_rp'],subset['phot_g_mean_mag'])\n",
    "plt.gca().invert_yaxis()"
   ]
  },
  {
   "cell_type": "code",
   "execution_count": 22,
   "id": "74468ccf-8658-4be1-8a6a-b53309755cc3",
   "metadata": {},
   "outputs": [
    {
     "data": {
      "image/png": "[encoded data removed]",
      "text/plain": [
       "<Figure size 432x288 with 1 Axes>"
      ]
     },
     "metadata": {
      "needs_background": "light"
     },
     "output_type": "display_data"
    }
   ],
   "source": [
    "subset = ndf[ndf['pmra'].isin(xin) & ndf['pmdec'].isin(yin)]\n",
    "\n",
    "plt.scatter(subset['bp_rp'],subset['phot_g_mean_mag'])\n",
    "plt.gca().invert_yaxis()"
   ]
  },
  {
   "cell_type": "code",
   "execution_count": 23,
   "id": "c17431b4-5ce5-4541-9051-061c40ec3537",
   "metadata": {},
   "outputs": [
    {
     "name": "stdout",
     "output_type": "stream",
     "text": [
      "Estimated no. of clusters: 1\n",
      "Estimated no. of noise points: 4264\n",
      "Estimated no. points clustered: 542\n"
     ]
    },
    {
     "data": {
      "image/png": "[encoded data removed]",
      "text/plain": [
       "<Figure size 432x288 with 1 Axes>"
      ]
     },
     "metadata": {
      "needs_background": "light"
     },
     "output_type": "display_data"
    }
   ],
   "source": [
    "db = DBSCAN(eps=0.2, min_samples=100).fit(X)\n",
    "core_samples_mask = np.zeros_like(db.labels_, dtype=bool)\n",
    "core_samples_mask[db.core_sample_indices_] = True\n",
    "labels = db.labels_\n",
    "\n",
    "plt.scatter(X[:, 0], \n",
    "            X[:, 1], \n",
    "            c=db.labels_, \n",
    "            label=y)\n",
    "plt.xlabel(\"$x_1$\")\n",
    "plt.ylabel(\"$x_2$\")\n",
    "\n",
    "labels=db.labels_\n",
    "N_clus=len(set(labels))-(1 if -1 in labels else 0)\n",
    "print('Estimated no. of clusters: %d' % N_clus)\n",
    "\n",
    "n_noise = list(db.labels_).count(-1)\n",
    "print('Estimated no. of noise points: %d' % n_noise)\n",
    "\n",
    "n_in = list(db.labels_).count(0)\n",
    "print('Estimated no. points clustered: %d' % n_in)\n",
    "# Calculating v_measure\n",
    "#print('v_measure =', v_measure_score(y, labels))"
   ]
  },
  {
   "cell_type": "code",
   "execution_count": 24,
   "id": "539371b3-ac6b-4d5d-a4d9-f74f1b5eda47",
   "metadata": {},
   "outputs": [
    {
     "data": {
      "text/plain": [
       "(542, 4264)"
      ]
     },
     "execution_count": 24,
     "metadata": {},
     "output_type": "execute_result"
    },
    {
     "data": {
      "image/png": "[encoded data removed]",
      "text/plain": [
       "<Figure size 432x288 with 1 Axes>"
      ]
     },
     "metadata": {
      "needs_background": "light"
     },
     "output_type": "display_data"
    }
   ],
   "source": [
    "pontos_cluster = np.empty((0,2))\n",
    "for i in range(len(Xis)):\n",
    "    if labels[i]==0:\n",
    "        pontos_cluster = np.append(pontos_cluster, np.array([Xis[i]]), axis  = 0) #problema no formato do array para dar append\n",
    "    else:\n",
    "        continue\n",
    "\n",
    "xin,yin = pontos_cluster.T\n",
    "\n",
    "pontos_cluster = np.empty((0,2))\n",
    "for i in range(len(Xis)):\n",
    "    if labels[i]==-1:\n",
    "        pontos_cluster = np.append(pontos_cluster, np.array([Xis[i]]), axis  = 0) #problema no formato do array para dar append\n",
    "    else:\n",
    "        continue\n",
    "\n",
    "\n",
    "xout, yout = pontos_cluster.T\n",
    "\n",
    "plt.scatter(xin,yin, color = 'k', zorder = 100)\n",
    "plt.scatter(xout,yout, color = 'red')\n",
    "\n",
    "len(xin), len(xout)"
   ]
  },
  {
   "cell_type": "code",
   "execution_count": 25,
   "id": "3983d6bc-bc81-4867-a2ac-373c4a8de8a3",
   "metadata": {},
   "outputs": [
    {
     "data": {
      "text/plain": [
       "(-0.058791002300600796, -1.3038000884953926)"
      ]
     },
     "execution_count": 25,
     "metadata": {},
     "output_type": "execute_result"
    }
   ],
   "source": [
    "np.mean(xin),np.mean(yin)"
   ]
  },
  {
   "cell_type": "code",
   "execution_count": 26,
   "id": "581d751e-e002-4f5c-b30e-286f83e242bb",
   "metadata": {},
   "outputs": [
    {
     "data": {
      "image/png": "[encoded data removed]",
      "text/plain": [
       "<Figure size 432x288 with 1 Axes>"
      ]
     },
     "metadata": {
      "needs_background": "light"
     },
     "output_type": "display_data"
    }
   ],
   "source": [
    "subset = ndf[ndf['pmra'].isin(xin) & ndf['pmdec'].isin(yin)]\n",
    "\n",
    "plt.scatter(subset['bp_rp'],subset['phot_g_mean_mag'])\n",
    "plt.gca().invert_yaxis()"
   ]
  },
  {
   "cell_type": "code",
   "execution_count": 27,
   "id": "adb2bc50-82c6-449f-bef4-e0963d5c015a",
   "metadata": {},
   "outputs": [
    {
     "data": {
      "text/html": [
       "<div>\n",
       "<style scoped>\n",
       "    .dataframe tbody tr th:only-of-type {\n",
       "        vertical-align: middle;\n",
       "    }\n",
       "\n",
       "    .dataframe tbody tr th {\n",
       "        vertical-align: top;\n",
       "    }\n",
       "\n",
       "    .dataframe thead th {\n",
       "        text-align: right;\n",
       "    }\n",
       "</style>\n",
       "<table border=\"1\" class=\"dataframe\">\n",
       "  <thead>\n",
       "    <tr style=\"text-align: right;\">\n",
       "      <th></th>\n",
       "      <th>ra</th>\n",
       "      <th>dec</th>\n",
       "      <th>pmra</th>\n",
       "      <th>pmra_error</th>\n",
       "      <th>pmdec</th>\n",
       "      <th>pmdec_error</th>\n",
       "      <th>bp_rp</th>\n",
       "      <th>phot_g_mean_mag</th>\n",
       "      <th>parallax</th>\n",
       "      <th>parallax_error</th>\n",
       "      <th>radial_velocity</th>\n",
       "      <th>radial_velocity_error</th>\n",
       "      <th>l</th>\n",
       "      <th>b</th>\n",
       "    </tr>\n",
       "  </thead>\n",
       "  <tbody>\n",
       "    <tr>\n",
       "      <th>79</th>\n",
       "      <td>98.418696</td>\n",
       "      <td>20.369821</td>\n",
       "      <td>0.071538</td>\n",
       "      <td>0.689879</td>\n",
       "      <td>-1.710283</td>\n",
       "      <td>0.468221</td>\n",
       "      <td>1.342951</td>\n",
       "      <td>19.586109</td>\n",
       "      <td>-0.315076</td>\n",
       "      <td>0.700795</td>\n",
       "      <td>NaN</td>\n",
       "      <td>NaN</td>\n",
       "      <td>192.785970</td>\n",
       "      <td>5.400484</td>\n",
       "    </tr>\n",
       "    <tr>\n",
       "      <th>82</th>\n",
       "      <td>98.411945</td>\n",
       "      <td>20.380349</td>\n",
       "      <td>0.022947</td>\n",
       "      <td>0.245533</td>\n",
       "      <td>-1.008864</td>\n",
       "      <td>0.162971</td>\n",
       "      <td>1.594612</td>\n",
       "      <td>18.138573</td>\n",
       "      <td>0.190450</td>\n",
       "      <td>0.223821</td>\n",
       "      <td>NaN</td>\n",
       "      <td>NaN</td>\n",
       "      <td>192.773662</td>\n",
       "      <td>5.399617</td>\n",
       "    </tr>\n",
       "    <tr>\n",
       "      <th>88</th>\n",
       "      <td>98.421700</td>\n",
       "      <td>20.387144</td>\n",
       "      <td>0.227386</td>\n",
       "      <td>0.842580</td>\n",
       "      <td>-1.371465</td>\n",
       "      <td>0.771207</td>\n",
       "      <td>1.563280</td>\n",
       "      <td>19.059370</td>\n",
       "      <td>0.305677</td>\n",
       "      <td>0.397499</td>\n",
       "      <td>NaN</td>\n",
       "      <td>NaN</td>\n",
       "      <td>192.771744</td>\n",
       "      <td>5.410848</td>\n",
       "    </tr>\n",
       "    <tr>\n",
       "      <th>92</th>\n",
       "      <td>98.406996</td>\n",
       "      <td>20.383102</td>\n",
       "      <td>0.217397</td>\n",
       "      <td>0.416932</td>\n",
       "      <td>-1.570153</td>\n",
       "      <td>0.286002</td>\n",
       "      <td>1.128300</td>\n",
       "      <td>19.104015</td>\n",
       "      <td>0.592597</td>\n",
       "      <td>0.377044</td>\n",
       "      <td>NaN</td>\n",
       "      <td>NaN</td>\n",
       "      <td>192.769084</td>\n",
       "      <td>5.396731</td>\n",
       "    </tr>\n",
       "    <tr>\n",
       "      <th>96</th>\n",
       "      <td>98.412181</td>\n",
       "      <td>20.390506</td>\n",
       "      <td>-0.211726</td>\n",
       "      <td>1.556641</td>\n",
       "      <td>-0.942713</td>\n",
       "      <td>0.917485</td>\n",
       "      <td>1.161844</td>\n",
       "      <td>20.596079</td>\n",
       "      <td>1.515716</td>\n",
       "      <td>1.321690</td>\n",
       "      <td>NaN</td>\n",
       "      <td>NaN</td>\n",
       "      <td>192.764670</td>\n",
       "      <td>5.404420</td>\n",
       "    </tr>\n",
       "    <tr>\n",
       "      <th>...</th>\n",
       "      <td>...</td>\n",
       "      <td>...</td>\n",
       "      <td>...</td>\n",
       "      <td>...</td>\n",
       "      <td>...</td>\n",
       "      <td>...</td>\n",
       "      <td>...</td>\n",
       "      <td>...</td>\n",
       "      <td>...</td>\n",
       "      <td>...</td>\n",
       "      <td>...</td>\n",
       "      <td>...</td>\n",
       "      <td>...</td>\n",
       "      <td>...</td>\n",
       "    </tr>\n",
       "    <tr>\n",
       "      <th>5349</th>\n",
       "      <td>98.307842</td>\n",
       "      <td>20.723179</td>\n",
       "      <td>-0.500414</td>\n",
       "      <td>0.038276</td>\n",
       "      <td>-1.388666</td>\n",
       "      <td>0.028206</td>\n",
       "      <td>0.397412</td>\n",
       "      <td>15.084890</td>\n",
       "      <td>0.210554</td>\n",
       "      <td>0.036381</td>\n",
       "      <td>NaN</td>\n",
       "      <td>NaN</td>\n",
       "      <td>192.422328</td>\n",
       "      <td>5.468218</td>\n",
       "    </tr>\n",
       "    <tr>\n",
       "      <th>5371</th>\n",
       "      <td>98.326014</td>\n",
       "      <td>20.737153</td>\n",
       "      <td>-0.186017</td>\n",
       "      <td>0.038333</td>\n",
       "      <td>-1.625892</td>\n",
       "      <td>0.027168</td>\n",
       "      <td>0.544302</td>\n",
       "      <td>14.911204</td>\n",
       "      <td>0.358639</td>\n",
       "      <td>0.035329</td>\n",
       "      <td>NaN</td>\n",
       "      <td>NaN</td>\n",
       "      <td>192.417560</td>\n",
       "      <td>5.489702</td>\n",
       "    </tr>\n",
       "    <tr>\n",
       "      <th>5391</th>\n",
       "      <td>98.177216</td>\n",
       "      <td>20.672381</td>\n",
       "      <td>-0.018960</td>\n",
       "      <td>0.478903</td>\n",
       "      <td>-1.291478</td>\n",
       "      <td>0.333469</td>\n",
       "      <td>1.379576</td>\n",
       "      <td>19.436396</td>\n",
       "      <td>0.344501</td>\n",
       "      <td>0.541486</td>\n",
       "      <td>NaN</td>\n",
       "      <td>NaN</td>\n",
       "      <td>192.412084</td>\n",
       "      <td>5.336279</td>\n",
       "    </tr>\n",
       "    <tr>\n",
       "      <th>5402</th>\n",
       "      <td>98.183551</td>\n",
       "      <td>20.674316</td>\n",
       "      <td>-0.206452</td>\n",
       "      <td>0.138786</td>\n",
       "      <td>-1.470051</td>\n",
       "      <td>0.097747</td>\n",
       "      <td>0.937498</td>\n",
       "      <td>16.822357</td>\n",
       "      <td>0.348390</td>\n",
       "      <td>0.139456</td>\n",
       "      <td>NaN</td>\n",
       "      <td>NaN</td>\n",
       "      <td>192.413057</td>\n",
       "      <td>5.342437</td>\n",
       "    </tr>\n",
       "    <tr>\n",
       "      <th>5422</th>\n",
       "      <td>98.203540</td>\n",
       "      <td>20.697568</td>\n",
       "      <td>-0.072894</td>\n",
       "      <td>0.080418</td>\n",
       "      <td>-1.427803</td>\n",
       "      <td>0.057482</td>\n",
       "      <td>0.889236</td>\n",
       "      <td>16.513994</td>\n",
       "      <td>0.235133</td>\n",
       "      <td>0.082417</td>\n",
       "      <td>NaN</td>\n",
       "      <td>NaN</td>\n",
       "      <td>192.400780</td>\n",
       "      <td>5.369658</td>\n",
       "    </tr>\n",
       "  </tbody>\n",
       "</table>\n",
       "<p>542 rows × 14 columns</p>\n",
       "</div>"
      ],
      "text/plain": [
       "             ra        dec      pmra  pmra_error     pmdec  pmdec_error  \\\n",
       "79    98.418696  20.369821  0.071538    0.689879 -1.710283     0.468221   \n",
       "82    98.411945  20.380349  0.022947    0.245533 -1.008864     0.162971   \n",
       "88    98.421700  20.387144  0.227386    0.842580 -1.371465     0.771207   \n",
       "92    98.406996  20.383102  0.217397    0.416932 -1.570153     0.286002   \n",
       "96    98.412181  20.390506 -0.211726    1.556641 -0.942713     0.917485   \n",
       "...         ...        ...       ...         ...       ...          ...   \n",
       "5349  98.307842  20.723179 -0.500414    0.038276 -1.388666     0.028206   \n",
       "5371  98.326014  20.737153 -0.186017    0.038333 -1.625892     0.027168   \n",
       "5391  98.177216  20.672381 -0.018960    0.478903 -1.291478     0.333469   \n",
       "5402  98.183551  20.674316 -0.206452    0.138786 -1.470051     0.097747   \n",
       "5422  98.203540  20.697568 -0.072894    0.080418 -1.427803     0.057482   \n",
       "\n",
       "         bp_rp  phot_g_mean_mag  parallax  parallax_error  radial_velocity  \\\n",
       "79    1.342951        19.586109 -0.315076        0.700795              NaN   \n",
       "82    1.594612        18.138573  0.190450        0.223821              NaN   \n",
       "88    1.563280        19.059370  0.305677        0.397499              NaN   \n",
       "92    1.128300        19.104015  0.592597        0.377044              NaN   \n",
       "96    1.161844        20.596079  1.515716        1.321690              NaN   \n",
       "...        ...              ...       ...             ...              ...   \n",
       "5349  0.397412        15.084890  0.210554        0.036381              NaN   \n",
       "5371  0.544302        14.911204  0.358639        0.035329              NaN   \n",
       "5391  1.379576        19.436396  0.344501        0.541486              NaN   \n",
       "5402  0.937498        16.822357  0.348390        0.139456              NaN   \n",
       "5422  0.889236        16.513994  0.235133        0.082417              NaN   \n",
       "\n",
       "      radial_velocity_error           l         b  \n",
       "79                      NaN  192.785970  5.400484  \n",
       "82                      NaN  192.773662  5.399617  \n",
       "88                      NaN  192.771744  5.410848  \n",
       "92                      NaN  192.769084  5.396731  \n",
       "96                      NaN  192.764670  5.404420  \n",
       "...                     ...         ...       ...  \n",
       "5349                    NaN  192.422328  5.468218  \n",
       "5371                    NaN  192.417560  5.489702  \n",
       "5391                    NaN  192.412084  5.336279  \n",
       "5402                    NaN  192.413057  5.342437  \n",
       "5422                    NaN  192.400780  5.369658  \n",
       "\n",
       "[542 rows x 14 columns]"
      ]
     },
     "execution_count": 27,
     "metadata": {},
     "output_type": "execute_result"
    }
   ],
   "source": [
    "subset"
   ]
  },
  {
   "cell_type": "code",
   "execution_count": 28,
   "id": "56f9ccd4-a68b-4477-9eeb-478a343f8ff3",
   "metadata": {},
   "outputs": [
    {
     "data": {
      "text/plain": [
       "<matplotlib.collections.PathCollection at 0x7fca55d39310>"
      ]
     },
     "execution_count": 28,
     "metadata": {},
     "output_type": "execute_result"
    },
    {
     "data": {
      "image/png": "[encoded data removed]",
      "text/plain": [
       "<Figure size 432x288 with 1 Axes>"
      ]
     },
     "metadata": {
      "needs_background": "light"
     },
     "output_type": "display_data"
    }
   ],
   "source": [
    "plt.scatter(subset['parallax_error'],subset['parallax'])"
   ]
  }
 ],
 "metadata": {
  "kernelspec": {
   "display_name": "Python 3.9.12 ('base')",
   "language": "python",
   "name": "python3"
  },
  "language_info": {
   "codemirror_mode": {
    "name": "ipython",
    "version": 3
   },
   "file_extension": ".py",
   "mimetype": "text/x-python",
   "name": "python",
   "nbconvert_exporter": "python",
   "pygments_lexer": "ipython3",
   "version": "3.9.12"
  },
  "vscode": {
   "interpreter": {
    "hash": "2dce3307feb06dd258affff784c1e0a4e7feaa3e34d32e0d9743fc2f96d44e3a"
   }
  }
 },
 "nbformat": 4,
 "nbformat_minor": 5
}
