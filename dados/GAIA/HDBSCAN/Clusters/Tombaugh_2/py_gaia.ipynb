{
 "cells": [
  {
   "cell_type": "code",
   "execution_count": 1,
   "id": "3521cdea-429b-4991-bb30-48131d9ae7f7",
   "metadata": {},
   "outputs": [],
   "source": [
    "import numpy as np\n",
    "import pandas as pd\n",
    "import matplotlib.pyplot as plt\n",
    "from astroquery.gaia import Gaia\n",
    "import astropy"
   ]
  },
  {
   "cell_type": "code",
   "execution_count": 2,
   "id": "6530e5b6-fa2e-487a-9762-58f002959899",
   "metadata": {},
   "outputs": [],
   "source": [
    "#from platform import python_version\n",
    "#python_version()"
   ]
  },
  {
   "cell_type": "code",
   "execution_count": 3,
   "id": "934ffd11-422a-4df1-b8e7-46169aeacc68",
   "metadata": {},
   "outputs": [],
   "source": [
    "plt.rc('xtick', labelsize=12)\n",
    "plt.rc('ytick', labelsize=12)\n",
    "plt.rcParams['axes.linewidth'] = 1.0\n",
    "\n",
    "\n",
    "font = {'family' : 'serif',\n",
    "        'weight' : 'normal',\n",
    "        'size'   : 13}\n",
    "\n",
    "plt.rc('font', **font)"
   ]
  },
  {
   "cell_type": "markdown",
   "id": "3bfeb1e8-4664-4b44-88a1-f3a2343ec347",
   "metadata": {},
   "source": [
    "## Getting the directory name"
   ]
  },
  {
   "cell_type": "code",
   "execution_count": 4,
   "id": "a49442e6-8751-480c-8bc2-b1c80196ac26",
   "metadata": {},
   "outputs": [
    {
     "data": {
      "text/plain": [
       "'Tombaugh_2'"
      ]
     },
     "execution_count": 4,
     "metadata": {},
     "output_type": "execute_result"
    }
   ],
   "source": [
    "import os\n",
    "directory_path = os.getcwd()\n",
    "nome_aglo = directory_path.split('/')[-1]\n",
    "nome_aglo"
   ]
  },
  {
   "cell_type": "markdown",
   "id": "c5aea3ad-6db9-4640-8fbe-b90543ea609e",
   "metadata": {},
   "source": [
    "## Getting RA&DEC from Bica 2019"
   ]
  },
  {
   "cell_type": "code",
   "execution_count": 5,
   "id": "f8abc363-cd00-4137-9be0-7cfc139a62e6",
   "metadata": {},
   "outputs": [
    {
     "data": {
      "text/plain": [
       "(105.775, -20.81944)"
      ]
     },
     "execution_count": 5,
     "metadata": {},
     "output_type": "execute_result"
    }
   ],
   "source": [
    "df = pd.read_csv('../../lista.txt', comment= '#')\n",
    "ra, dec = df.loc[df['Nome'] == nome_aglo]['_RAJ2000'].values[0], df.loc[df['Nome'] == nome_aglo]['_DEJ2000'].values[0]\n",
    "ra, dec"
   ]
  },
  {
   "cell_type": "markdown",
   "id": "993b13b4-df7e-4f36-a5e2-ac847404380d",
   "metadata": {},
   "source": [
    "## Querying the data"
   ]
  },
  {
   "cell_type": "code",
   "execution_count": 6,
   "id": "74028be2-edac-4384-9832-528bb78d6e2e",
   "metadata": {},
   "outputs": [
    {
     "name": "stdout",
     "output_type": "stream",
     "text": [
      "INFO: Retrieving tables... [astroquery.utils.tap.core]\n",
      "INFO: Parsing tables... [astroquery.utils.tap.core]\n",
      "INFO: Done. [astroquery.utils.tap.core]\n"
     ]
    }
   ],
   "source": [
    "tables = Gaia.load_tables(only_names=True)"
   ]
  },
  {
   "cell_type": "code",
   "execution_count": 7,
   "id": "b4824134-51b9-43ec-8ccb-be7659e74477",
   "metadata": {},
   "outputs": [
    {
     "name": "stdout",
     "output_type": "stream",
     "text": [
      "Retrieving table 'gaiadr3.gaia_source'\n"
     ]
    },
    {
     "data": {
      "text/plain": [
       "<astroquery.utils.tap.model.taptable.TapTableMeta at 0x7f7cb601f0a0>"
      ]
     },
     "execution_count": 7,
     "metadata": {},
     "output_type": "execute_result"
    }
   ],
   "source": [
    "meta = Gaia.load_table('gaiadr3.gaia_source')\n",
    "meta"
   ]
  },
  {
   "cell_type": "code",
   "execution_count": 8,
   "id": "0cd0c50b-6020-4c1b-846d-3d0e0d6d8adb",
   "metadata": {},
   "outputs": [],
   "source": [
    "query = \"\"\"SELECT \n",
    "ra, dec, pmra, pmra_error, pmdec, pmdec_error, bp_rp, phot_g_mean_mag, parallax, parallax_error, radial_velocity, radial_velocity_error, l,b\n",
    "FROM gaiadr3.gaia_source\n",
    "WHERE 1=CONTAINS(POINT('ICRS',ra,dec),\n",
    "CIRCLE('ICRS', \"\"\" +  str(ra) + ',' + str(dec) + ',' + ' 0.2))'"
   ]
  },
  {
   "cell_type": "code",
   "execution_count": 9,
   "id": "3bde5f58-6e4f-46b6-8fa6-f28b0a206b6d",
   "metadata": {},
   "outputs": [
    {
     "name": "stdout",
     "output_type": "stream",
     "text": [
      "INFO: Query finished. [astroquery.utils.tap.core]\n"
     ]
    },
    {
     "data": {
      "text/plain": [
       "<astroquery.utils.tap.model.job.Job at 0x7f7cb601f700>"
      ]
     },
     "execution_count": 9,
     "metadata": {},
     "output_type": "execute_result"
    }
   ],
   "source": [
    "job = Gaia.launch_job_async(query)\n",
    "job"
   ]
  },
  {
   "cell_type": "code",
   "execution_count": 10,
   "id": "ce6031ad-1c30-44ba-af5f-2cb4ed81704d",
   "metadata": {},
   "outputs": [
    {
     "data": {
      "text/plain": [
       "10815"
      ]
     },
     "execution_count": 10,
     "metadata": {},
     "output_type": "execute_result"
    }
   ],
   "source": [
    "data = job.get_results()\n",
    "len(data)"
   ]
  },
  {
   "cell_type": "code",
   "execution_count": 11,
   "id": "a7b69784-84b8-4ff5-8739-96de5fc6c268",
   "metadata": {},
   "outputs": [],
   "source": [
    "#data"
   ]
  },
  {
   "cell_type": "markdown",
   "id": "b1efab4c-c343-42c0-9848-7c85c998ae55",
   "metadata": {},
   "source": [
    "## Converting to pandas"
   ]
  },
  {
   "cell_type": "code",
   "execution_count": 12,
   "id": "76000902-fd33-4bc1-bfa2-5dc9f2381477",
   "metadata": {},
   "outputs": [
    {
     "data": {
      "text/html": [
       "<div>\n",
       "<style scoped>\n",
       "    .dataframe tbody tr th:only-of-type {\n",
       "        vertical-align: middle;\n",
       "    }\n",
       "\n",
       "    .dataframe tbody tr th {\n",
       "        vertical-align: top;\n",
       "    }\n",
       "\n",
       "    .dataframe thead th {\n",
       "        text-align: right;\n",
       "    }\n",
       "</style>\n",
       "<table border=\"1\" class=\"dataframe\">\n",
       "  <thead>\n",
       "    <tr style=\"text-align: right;\">\n",
       "      <th></th>\n",
       "      <th>ra</th>\n",
       "      <th>dec</th>\n",
       "      <th>pmra</th>\n",
       "      <th>pmra_error</th>\n",
       "      <th>pmdec</th>\n",
       "      <th>pmdec_error</th>\n",
       "      <th>bp_rp</th>\n",
       "      <th>phot_g_mean_mag</th>\n",
       "      <th>parallax</th>\n",
       "      <th>parallax_error</th>\n",
       "      <th>radial_velocity</th>\n",
       "      <th>radial_velocity_error</th>\n",
       "      <th>l</th>\n",
       "      <th>b</th>\n",
       "    </tr>\n",
       "  </thead>\n",
       "  <tbody>\n",
       "    <tr>\n",
       "      <th>0</th>\n",
       "      <td>105.606291</td>\n",
       "      <td>-20.935530</td>\n",
       "      <td>-1.781767</td>\n",
       "      <td>0.357886</td>\n",
       "      <td>2.646196</td>\n",
       "      <td>0.467417</td>\n",
       "      <td>1.521122</td>\n",
       "      <td>19.926693</td>\n",
       "      <td>-0.790633</td>\n",
       "      <td>0.411766</td>\n",
       "      <td>NaN</td>\n",
       "      <td>NaN</td>\n",
       "      <td>232.870393</td>\n",
       "      <td>-7.070818</td>\n",
       "    </tr>\n",
       "    <tr>\n",
       "      <th>1</th>\n",
       "      <td>105.604373</td>\n",
       "      <td>-20.933738</td>\n",
       "      <td>-1.636936</td>\n",
       "      <td>0.133873</td>\n",
       "      <td>1.198675</td>\n",
       "      <td>0.174173</td>\n",
       "      <td>1.058447</td>\n",
       "      <td>18.714941</td>\n",
       "      <td>-0.047395</td>\n",
       "      <td>0.163525</td>\n",
       "      <td>NaN</td>\n",
       "      <td>NaN</td>\n",
       "      <td>232.867974</td>\n",
       "      <td>-7.071626</td>\n",
       "    </tr>\n",
       "    <tr>\n",
       "      <th>2</th>\n",
       "      <td>105.598250</td>\n",
       "      <td>-20.930529</td>\n",
       "      <td>-0.755084</td>\n",
       "      <td>0.093169</td>\n",
       "      <td>1.727026</td>\n",
       "      <td>0.115467</td>\n",
       "      <td>1.345194</td>\n",
       "      <td>18.095474</td>\n",
       "      <td>0.290064</td>\n",
       "      <td>0.114434</td>\n",
       "      <td>NaN</td>\n",
       "      <td>NaN</td>\n",
       "      <td>232.862515</td>\n",
       "      <td>-7.075322</td>\n",
       "    </tr>\n",
       "    <tr>\n",
       "      <th>3</th>\n",
       "      <td>105.609239</td>\n",
       "      <td>-20.933790</td>\n",
       "      <td>2.442618</td>\n",
       "      <td>0.130776</td>\n",
       "      <td>-0.822738</td>\n",
       "      <td>0.162879</td>\n",
       "      <td>2.079470</td>\n",
       "      <td>18.611984</td>\n",
       "      <td>0.920240</td>\n",
       "      <td>0.157604</td>\n",
       "      <td>NaN</td>\n",
       "      <td>NaN</td>\n",
       "      <td>232.870056</td>\n",
       "      <td>-7.067578</td>\n",
       "    </tr>\n",
       "    <tr>\n",
       "      <th>4</th>\n",
       "      <td>105.606038</td>\n",
       "      <td>-20.936365</td>\n",
       "      <td>NaN</td>\n",
       "      <td>NaN</td>\n",
       "      <td>NaN</td>\n",
       "      <td>NaN</td>\n",
       "      <td>0.684223</td>\n",
       "      <td>21.041082</td>\n",
       "      <td>NaN</td>\n",
       "      <td>NaN</td>\n",
       "      <td>NaN</td>\n",
       "      <td>NaN</td>\n",
       "      <td>232.871041</td>\n",
       "      <td>-7.071401</td>\n",
       "    </tr>\n",
       "    <tr>\n",
       "      <th>...</th>\n",
       "      <td>...</td>\n",
       "      <td>...</td>\n",
       "      <td>...</td>\n",
       "      <td>...</td>\n",
       "      <td>...</td>\n",
       "      <td>...</td>\n",
       "      <td>...</td>\n",
       "      <td>...</td>\n",
       "      <td>...</td>\n",
       "      <td>...</td>\n",
       "      <td>...</td>\n",
       "      <td>...</td>\n",
       "      <td>...</td>\n",
       "      <td>...</td>\n",
       "    </tr>\n",
       "    <tr>\n",
       "      <th>10810</th>\n",
       "      <td>105.640069</td>\n",
       "      <td>-20.907138</td>\n",
       "      <td>NaN</td>\n",
       "      <td>NaN</td>\n",
       "      <td>NaN</td>\n",
       "      <td>NaN</td>\n",
       "      <td>1.021858</td>\n",
       "      <td>21.054369</td>\n",
       "      <td>NaN</td>\n",
       "      <td>NaN</td>\n",
       "      <td>NaN</td>\n",
       "      <td>NaN</td>\n",
       "      <td>232.858903</td>\n",
       "      <td>-7.029933</td>\n",
       "    </tr>\n",
       "    <tr>\n",
       "      <th>10811</th>\n",
       "      <td>105.650542</td>\n",
       "      <td>-20.909067</td>\n",
       "      <td>-0.519636</td>\n",
       "      <td>0.089445</td>\n",
       "      <td>2.212742</td>\n",
       "      <td>0.110880</td>\n",
       "      <td>1.142870</td>\n",
       "      <td>17.800196</td>\n",
       "      <td>0.403034</td>\n",
       "      <td>0.093095</td>\n",
       "      <td>NaN</td>\n",
       "      <td>NaN</td>\n",
       "      <td>232.865028</td>\n",
       "      <td>-7.022028</td>\n",
       "    </tr>\n",
       "    <tr>\n",
       "      <th>10812</th>\n",
       "      <td>105.641447</td>\n",
       "      <td>-20.907664</td>\n",
       "      <td>2.141345</td>\n",
       "      <td>0.086375</td>\n",
       "      <td>2.546237</td>\n",
       "      <td>0.107867</td>\n",
       "      <td>1.257059</td>\n",
       "      <td>17.839687</td>\n",
       "      <td>0.585335</td>\n",
       "      <td>0.095136</td>\n",
       "      <td>NaN</td>\n",
       "      <td>NaN</td>\n",
       "      <td>232.859955</td>\n",
       "      <td>-7.029014</td>\n",
       "    </tr>\n",
       "    <tr>\n",
       "      <th>10813</th>\n",
       "      <td>105.641754</td>\n",
       "      <td>-20.911410</td>\n",
       "      <td>-1.707322</td>\n",
       "      <td>0.015701</td>\n",
       "      <td>1.778473</td>\n",
       "      <td>0.017643</td>\n",
       "      <td>1.457012</td>\n",
       "      <td>14.472140</td>\n",
       "      <td>0.197928</td>\n",
       "      <td>0.018098</td>\n",
       "      <td>51.155773</td>\n",
       "      <td>3.843637</td>\n",
       "      <td>232.863463</td>\n",
       "      <td>-7.030423</td>\n",
       "    </tr>\n",
       "    <tr>\n",
       "      <th>10814</th>\n",
       "      <td>105.643651</td>\n",
       "      <td>-20.916502</td>\n",
       "      <td>-0.866887</td>\n",
       "      <td>0.074526</td>\n",
       "      <td>2.487094</td>\n",
       "      <td>0.096598</td>\n",
       "      <td>1.513699</td>\n",
       "      <td>17.624105</td>\n",
       "      <td>0.847947</td>\n",
       "      <td>0.087035</td>\n",
       "      <td>NaN</td>\n",
       "      <td>NaN</td>\n",
       "      <td>232.868853</td>\n",
       "      <td>-7.031101</td>\n",
       "    </tr>\n",
       "  </tbody>\n",
       "</table>\n",
       "<p>10815 rows × 14 columns</p>\n",
       "</div>"
      ],
      "text/plain": [
       "               ra        dec      pmra  pmra_error     pmdec  pmdec_error  \\\n",
       "0      105.606291 -20.935530 -1.781767    0.357886  2.646196     0.467417   \n",
       "1      105.604373 -20.933738 -1.636936    0.133873  1.198675     0.174173   \n",
       "2      105.598250 -20.930529 -0.755084    0.093169  1.727026     0.115467   \n",
       "3      105.609239 -20.933790  2.442618    0.130776 -0.822738     0.162879   \n",
       "4      105.606038 -20.936365       NaN         NaN       NaN          NaN   \n",
       "...           ...        ...       ...         ...       ...          ...   \n",
       "10810  105.640069 -20.907138       NaN         NaN       NaN          NaN   \n",
       "10811  105.650542 -20.909067 -0.519636    0.089445  2.212742     0.110880   \n",
       "10812  105.641447 -20.907664  2.141345    0.086375  2.546237     0.107867   \n",
       "10813  105.641754 -20.911410 -1.707322    0.015701  1.778473     0.017643   \n",
       "10814  105.643651 -20.916502 -0.866887    0.074526  2.487094     0.096598   \n",
       "\n",
       "          bp_rp  phot_g_mean_mag  parallax  parallax_error  radial_velocity  \\\n",
       "0      1.521122        19.926693 -0.790633        0.411766              NaN   \n",
       "1      1.058447        18.714941 -0.047395        0.163525              NaN   \n",
       "2      1.345194        18.095474  0.290064        0.114434              NaN   \n",
       "3      2.079470        18.611984  0.920240        0.157604              NaN   \n",
       "4      0.684223        21.041082       NaN             NaN              NaN   \n",
       "...         ...              ...       ...             ...              ...   \n",
       "10810  1.021858        21.054369       NaN             NaN              NaN   \n",
       "10811  1.142870        17.800196  0.403034        0.093095              NaN   \n",
       "10812  1.257059        17.839687  0.585335        0.095136              NaN   \n",
       "10813  1.457012        14.472140  0.197928        0.018098        51.155773   \n",
       "10814  1.513699        17.624105  0.847947        0.087035              NaN   \n",
       "\n",
       "       radial_velocity_error           l         b  \n",
       "0                        NaN  232.870393 -7.070818  \n",
       "1                        NaN  232.867974 -7.071626  \n",
       "2                        NaN  232.862515 -7.075322  \n",
       "3                        NaN  232.870056 -7.067578  \n",
       "4                        NaN  232.871041 -7.071401  \n",
       "...                      ...         ...       ...  \n",
       "10810                    NaN  232.858903 -7.029933  \n",
       "10811                    NaN  232.865028 -7.022028  \n",
       "10812                    NaN  232.859955 -7.029014  \n",
       "10813               3.843637  232.863463 -7.030423  \n",
       "10814                    NaN  232.868853 -7.031101  \n",
       "\n",
       "[10815 rows x 14 columns]"
      ]
     },
     "execution_count": 12,
     "metadata": {},
     "output_type": "execute_result"
    }
   ],
   "source": [
    "df = data.to_pandas()\n",
    "df"
   ]
  },
  {
   "cell_type": "code",
   "execution_count": 13,
   "id": "01debe18-c72b-4585-a428-4246e3fc8d88",
   "metadata": {},
   "outputs": [
    {
     "data": {
      "text/plain": [
       "<matplotlib.collections.PathCollection at 0x7f7cb594d550>"
      ]
     },
     "execution_count": 13,
     "metadata": {},
     "output_type": "execute_result"
    },
    {
     "data": {
      "image/png": "[encoded data removed]",
      "text/plain": [
       "<Figure size 432x288 with 2 Axes>"
      ]
     },
     "metadata": {
      "needs_background": "light"
     },
     "output_type": "display_data"
    }
   ],
   "source": [
    "fig, ax = plt.subplots(2)\n",
    "\n",
    "ax[0].scatter(df.pmra_error,df.pmra)\n",
    "ax[1].scatter(df.pmdec_error,df.pmdec)"
   ]
  },
  {
   "cell_type": "code",
   "execution_count": 14,
   "id": "f2c2c7c4-4e27-4177-9890-e3d89391a8d6",
   "metadata": {},
   "outputs": [
    {
     "name": "stdout",
     "output_type": "stream",
     "text": [
      "1.4998821171774104 0.46709975600242615\n",
      "-0.6873975050411981 0.357017457485199\n"
     ]
    }
   ],
   "source": [
    "print(np.mean(df.pmdec), np.mean(df.pmdec_error)) ## por que pmra tem um erro muito maior?\n",
    "print(np.mean(df.pmra), np.mean(df.pmra_error))"
   ]
  },
  {
   "cell_type": "markdown",
   "id": "3aa050ee-c336-4e0c-a20d-62e3113a0e64",
   "metadata": {},
   "source": [
    "## Dropping uknown values of pmra, pmdec or parallax."
   ]
  },
  {
   "cell_type": "code",
   "execution_count": 15,
   "id": "f4e22590-990a-47cf-8a7e-d304c95fedd8",
   "metadata": {},
   "outputs": [
    {
     "data": {
      "text/html": [
       "<div>\n",
       "<style scoped>\n",
       "    .dataframe tbody tr th:only-of-type {\n",
       "        vertical-align: middle;\n",
       "    }\n",
       "\n",
       "    .dataframe tbody tr th {\n",
       "        vertical-align: top;\n",
       "    }\n",
       "\n",
       "    .dataframe thead th {\n",
       "        text-align: right;\n",
       "    }\n",
       "</style>\n",
       "<table border=\"1\" class=\"dataframe\">\n",
       "  <thead>\n",
       "    <tr style=\"text-align: right;\">\n",
       "      <th></th>\n",
       "      <th>ra</th>\n",
       "      <th>dec</th>\n",
       "      <th>pmra</th>\n",
       "      <th>pmra_error</th>\n",
       "      <th>pmdec</th>\n",
       "      <th>pmdec_error</th>\n",
       "      <th>bp_rp</th>\n",
       "      <th>phot_g_mean_mag</th>\n",
       "      <th>parallax</th>\n",
       "      <th>parallax_error</th>\n",
       "      <th>radial_velocity</th>\n",
       "      <th>radial_velocity_error</th>\n",
       "      <th>l</th>\n",
       "      <th>b</th>\n",
       "    </tr>\n",
       "  </thead>\n",
       "  <tbody>\n",
       "    <tr>\n",
       "      <th>0</th>\n",
       "      <td>105.606291</td>\n",
       "      <td>-20.935530</td>\n",
       "      <td>-1.781767</td>\n",
       "      <td>0.357886</td>\n",
       "      <td>2.646196</td>\n",
       "      <td>0.467417</td>\n",
       "      <td>1.521122</td>\n",
       "      <td>19.926693</td>\n",
       "      <td>-0.790633</td>\n",
       "      <td>0.411766</td>\n",
       "      <td>NaN</td>\n",
       "      <td>NaN</td>\n",
       "      <td>232.870393</td>\n",
       "      <td>-7.070818</td>\n",
       "    </tr>\n",
       "    <tr>\n",
       "      <th>1</th>\n",
       "      <td>105.604373</td>\n",
       "      <td>-20.933738</td>\n",
       "      <td>-1.636936</td>\n",
       "      <td>0.133873</td>\n",
       "      <td>1.198675</td>\n",
       "      <td>0.174173</td>\n",
       "      <td>1.058447</td>\n",
       "      <td>18.714941</td>\n",
       "      <td>-0.047395</td>\n",
       "      <td>0.163525</td>\n",
       "      <td>NaN</td>\n",
       "      <td>NaN</td>\n",
       "      <td>232.867974</td>\n",
       "      <td>-7.071626</td>\n",
       "    </tr>\n",
       "    <tr>\n",
       "      <th>2</th>\n",
       "      <td>105.598250</td>\n",
       "      <td>-20.930529</td>\n",
       "      <td>-0.755084</td>\n",
       "      <td>0.093169</td>\n",
       "      <td>1.727026</td>\n",
       "      <td>0.115467</td>\n",
       "      <td>1.345194</td>\n",
       "      <td>18.095474</td>\n",
       "      <td>0.290064</td>\n",
       "      <td>0.114434</td>\n",
       "      <td>NaN</td>\n",
       "      <td>NaN</td>\n",
       "      <td>232.862515</td>\n",
       "      <td>-7.075322</td>\n",
       "    </tr>\n",
       "    <tr>\n",
       "      <th>3</th>\n",
       "      <td>105.609239</td>\n",
       "      <td>-20.933790</td>\n",
       "      <td>2.442618</td>\n",
       "      <td>0.130776</td>\n",
       "      <td>-0.822738</td>\n",
       "      <td>0.162879</td>\n",
       "      <td>2.079470</td>\n",
       "      <td>18.611984</td>\n",
       "      <td>0.920240</td>\n",
       "      <td>0.157604</td>\n",
       "      <td>NaN</td>\n",
       "      <td>NaN</td>\n",
       "      <td>232.870056</td>\n",
       "      <td>-7.067578</td>\n",
       "    </tr>\n",
       "    <tr>\n",
       "      <th>5</th>\n",
       "      <td>105.605289</td>\n",
       "      <td>-20.927118</td>\n",
       "      <td>-0.264165</td>\n",
       "      <td>0.133313</td>\n",
       "      <td>0.706782</td>\n",
       "      <td>0.167496</td>\n",
       "      <td>1.125200</td>\n",
       "      <td>18.683973</td>\n",
       "      <td>0.269467</td>\n",
       "      <td>0.165576</td>\n",
       "      <td>NaN</td>\n",
       "      <td>NaN</td>\n",
       "      <td>232.862381</td>\n",
       "      <td>-7.067917</td>\n",
       "    </tr>\n",
       "    <tr>\n",
       "      <th>...</th>\n",
       "      <td>...</td>\n",
       "      <td>...</td>\n",
       "      <td>...</td>\n",
       "      <td>...</td>\n",
       "      <td>...</td>\n",
       "      <td>...</td>\n",
       "      <td>...</td>\n",
       "      <td>...</td>\n",
       "      <td>...</td>\n",
       "      <td>...</td>\n",
       "      <td>...</td>\n",
       "      <td>...</td>\n",
       "      <td>...</td>\n",
       "      <td>...</td>\n",
       "    </tr>\n",
       "    <tr>\n",
       "      <th>10808</th>\n",
       "      <td>105.648491</td>\n",
       "      <td>-20.910444</td>\n",
       "      <td>-0.041791</td>\n",
       "      <td>0.919259</td>\n",
       "      <td>-0.501273</td>\n",
       "      <td>1.679007</td>\n",
       "      <td>1.133575</td>\n",
       "      <td>20.663868</td>\n",
       "      <td>-1.141030</td>\n",
       "      <td>1.111681</td>\n",
       "      <td>NaN</td>\n",
       "      <td>NaN</td>\n",
       "      <td>232.865411</td>\n",
       "      <td>-7.024357</td>\n",
       "    </tr>\n",
       "    <tr>\n",
       "      <th>10811</th>\n",
       "      <td>105.650542</td>\n",
       "      <td>-20.909067</td>\n",
       "      <td>-0.519636</td>\n",
       "      <td>0.089445</td>\n",
       "      <td>2.212742</td>\n",
       "      <td>0.110880</td>\n",
       "      <td>1.142870</td>\n",
       "      <td>17.800196</td>\n",
       "      <td>0.403034</td>\n",
       "      <td>0.093095</td>\n",
       "      <td>NaN</td>\n",
       "      <td>NaN</td>\n",
       "      <td>232.865028</td>\n",
       "      <td>-7.022028</td>\n",
       "    </tr>\n",
       "    <tr>\n",
       "      <th>10812</th>\n",
       "      <td>105.641447</td>\n",
       "      <td>-20.907664</td>\n",
       "      <td>2.141345</td>\n",
       "      <td>0.086375</td>\n",
       "      <td>2.546237</td>\n",
       "      <td>0.107867</td>\n",
       "      <td>1.257059</td>\n",
       "      <td>17.839687</td>\n",
       "      <td>0.585335</td>\n",
       "      <td>0.095136</td>\n",
       "      <td>NaN</td>\n",
       "      <td>NaN</td>\n",
       "      <td>232.859955</td>\n",
       "      <td>-7.029014</td>\n",
       "    </tr>\n",
       "    <tr>\n",
       "      <th>10813</th>\n",
       "      <td>105.641754</td>\n",
       "      <td>-20.911410</td>\n",
       "      <td>-1.707322</td>\n",
       "      <td>0.015701</td>\n",
       "      <td>1.778473</td>\n",
       "      <td>0.017643</td>\n",
       "      <td>1.457012</td>\n",
       "      <td>14.472140</td>\n",
       "      <td>0.197928</td>\n",
       "      <td>0.018098</td>\n",
       "      <td>51.155773</td>\n",
       "      <td>3.843637</td>\n",
       "      <td>232.863463</td>\n",
       "      <td>-7.030423</td>\n",
       "    </tr>\n",
       "    <tr>\n",
       "      <th>10814</th>\n",
       "      <td>105.643651</td>\n",
       "      <td>-20.916502</td>\n",
       "      <td>-0.866887</td>\n",
       "      <td>0.074526</td>\n",
       "      <td>2.487094</td>\n",
       "      <td>0.096598</td>\n",
       "      <td>1.513699</td>\n",
       "      <td>17.624105</td>\n",
       "      <td>0.847947</td>\n",
       "      <td>0.087035</td>\n",
       "      <td>NaN</td>\n",
       "      <td>NaN</td>\n",
       "      <td>232.868853</td>\n",
       "      <td>-7.031101</td>\n",
       "    </tr>\n",
       "  </tbody>\n",
       "</table>\n",
       "<p>9225 rows × 14 columns</p>\n",
       "</div>"
      ],
      "text/plain": [
       "               ra        dec      pmra  pmra_error     pmdec  pmdec_error  \\\n",
       "0      105.606291 -20.935530 -1.781767    0.357886  2.646196     0.467417   \n",
       "1      105.604373 -20.933738 -1.636936    0.133873  1.198675     0.174173   \n",
       "2      105.598250 -20.930529 -0.755084    0.093169  1.727026     0.115467   \n",
       "3      105.609239 -20.933790  2.442618    0.130776 -0.822738     0.162879   \n",
       "5      105.605289 -20.927118 -0.264165    0.133313  0.706782     0.167496   \n",
       "...           ...        ...       ...         ...       ...          ...   \n",
       "10808  105.648491 -20.910444 -0.041791    0.919259 -0.501273     1.679007   \n",
       "10811  105.650542 -20.909067 -0.519636    0.089445  2.212742     0.110880   \n",
       "10812  105.641447 -20.907664  2.141345    0.086375  2.546237     0.107867   \n",
       "10813  105.641754 -20.911410 -1.707322    0.015701  1.778473     0.017643   \n",
       "10814  105.643651 -20.916502 -0.866887    0.074526  2.487094     0.096598   \n",
       "\n",
       "          bp_rp  phot_g_mean_mag  parallax  parallax_error  radial_velocity  \\\n",
       "0      1.521122        19.926693 -0.790633        0.411766              NaN   \n",
       "1      1.058447        18.714941 -0.047395        0.163525              NaN   \n",
       "2      1.345194        18.095474  0.290064        0.114434              NaN   \n",
       "3      2.079470        18.611984  0.920240        0.157604              NaN   \n",
       "5      1.125200        18.683973  0.269467        0.165576              NaN   \n",
       "...         ...              ...       ...             ...              ...   \n",
       "10808  1.133575        20.663868 -1.141030        1.111681              NaN   \n",
       "10811  1.142870        17.800196  0.403034        0.093095              NaN   \n",
       "10812  1.257059        17.839687  0.585335        0.095136              NaN   \n",
       "10813  1.457012        14.472140  0.197928        0.018098        51.155773   \n",
       "10814  1.513699        17.624105  0.847947        0.087035              NaN   \n",
       "\n",
       "       radial_velocity_error           l         b  \n",
       "0                        NaN  232.870393 -7.070818  \n",
       "1                        NaN  232.867974 -7.071626  \n",
       "2                        NaN  232.862515 -7.075322  \n",
       "3                        NaN  232.870056 -7.067578  \n",
       "5                        NaN  232.862381 -7.067917  \n",
       "...                      ...         ...       ...  \n",
       "10808                    NaN  232.865411 -7.024357  \n",
       "10811                    NaN  232.865028 -7.022028  \n",
       "10812                    NaN  232.859955 -7.029014  \n",
       "10813               3.843637  232.863463 -7.030423  \n",
       "10814                    NaN  232.868853 -7.031101  \n",
       "\n",
       "[9225 rows x 14 columns]"
      ]
     },
     "execution_count": 15,
     "metadata": {},
     "output_type": "execute_result"
    }
   ],
   "source": [
    "ndf = df.dropna(how='any',subset=['pmra', 'pmdec', 'parallax'])\n",
    "ndf"
   ]
  },
  {
   "cell_type": "code",
   "execution_count": 16,
   "id": "1bfb872b-a227-4a97-a524-518c48fb68dc",
   "metadata": {},
   "outputs": [],
   "source": [
    "x = ndf['pmra']\n",
    "y = ndf['pmdec']"
   ]
  },
  {
   "cell_type": "code",
   "execution_count": 17,
   "id": "6d021de0-2c20-462f-a02a-4c0808ab75ce",
   "metadata": {},
   "outputs": [],
   "source": [
    "from sklearn.cluster import DBSCAN\n",
    "from sklearn.metrics import silhouette_score\n",
    "from sklearn.metrics import v_measure_score\n",
    "from sklearn.preprocessing import StandardScaler"
   ]
  },
  {
   "cell_type": "markdown",
   "id": "d3186d14-8c30-4ca6-ab94-0af99cd3d674",
   "metadata": {},
   "source": [
    "## Creating the arrays to perform the 2-D KNN fit and 5-D DBSCAN fit"
   ]
  },
  {
   "cell_type": "code",
   "execution_count": 18,
   "id": "7a830cf8-7185-4ced-909e-0e9d60d140b5",
   "metadata": {},
   "outputs": [],
   "source": [
    "X = np.dstack((ndf['pmra'],ndf['pmdec']))[0]\n",
    "cincoD = np.dstack((ndf['pmra'],ndf['pmdec'],ndf['ra'],ndf['dec'],ndf['parallax']))[0]"
   ]
  },
  {
   "cell_type": "markdown",
   "id": "3b593589-3726-429a-9c40-0d6040312163",
   "metadata": {},
   "source": [
    "## Performing the KNN on the pmra and pmdec."
   ]
  },
  {
   "cell_type": "code",
   "execution_count": 19,
   "id": "2cdd99c4-8a08-4c06-94fe-900497cd79ce",
   "metadata": {},
   "outputs": [
    {
     "name": "stdout",
     "output_type": "stream",
     "text": [
      "0.154839400635257\n"
     ]
    },
    {
     "data": {
      "text/plain": [
       "<Figure size 360x360 with 0 Axes>"
      ]
     },
     "metadata": {},
     "output_type": "display_data"
    },
    {
     "data": {
      "image/png": "[encoded data removed]",
      "text/plain": [
       "<Figure size 432x432 with 1 Axes>"
      ]
     },
     "metadata": {
      "needs_background": "light"
     },
     "output_type": "display_data"
    }
   ],
   "source": [
    "from sklearn.neighbors import NearestNeighbors\n",
    "vizinhos = np.sqrt(len(data)).astype(int)\n",
    "nn = NearestNeighbors(n_neighbors=vizinhos).fit(X)\n",
    "distances, indices = nn.kneighbors(X)\n",
    "\n",
    "distances = np.sort(distances, axis=0)\n",
    "distances = distances[:,1]\n",
    "\n",
    "from kneed import KneeLocator\n",
    "i = np.arange(len(distances))\n",
    "knee = KneeLocator(i, distances, S=1, curve='convex', direction='increasing', interp_method='polynomial')\n",
    "fig = plt.figure(figsize=(5, 5))\n",
    "knee.plot_knee()\n",
    "plt.xlabel(\"Points\")\n",
    "plt.ylabel(\"Distance\")\n",
    "\n",
    "\n",
    "eps_opt = distances[knee.knee]\n",
    "nmin = int(0.005*len(data))\n",
    "\n",
    "print(distances[knee.knee])"
   ]
  },
  {
   "cell_type": "code",
   "execution_count": 20,
   "id": "f9cb21bd-2fcb-4ca4-bfba-d41e9aade1ef",
   "metadata": {},
   "outputs": [],
   "source": [
    "plt.rc('xtick', labelsize=12)\n",
    "plt.rc('ytick', labelsize=12)\n",
    "plt.rcParams['axes.linewidth'] = 1.0\n",
    "\n",
    "\n",
    "font = {'family' : 'serif',\n",
    "        'weight' : 'normal',\n",
    "        'size'   : 13}\n",
    "\n",
    "plt.rc('font', **font)"
   ]
  },
  {
   "cell_type": "markdown",
   "id": "061681a0-a95c-47e5-b1e8-5fc5dbcc9918",
   "metadata": {},
   "source": [
    "## Performing DBSCAN"
   ]
  },
  {
   "cell_type": "code",
   "execution_count": 42,
   "id": "0e6552b0-ef23-45f9-b6d8-b62f73263d91",
   "metadata": {},
   "outputs": [
    {
     "name": "stdout",
     "output_type": "stream",
     "text": [
      "Estimated no. of clusters: 1\n",
      "Estimated no. of noise points: 8409\n",
      "Estimated no. points clustered: 816\n"
     ]
    },
    {
     "data": {
      "text/plain": [
       "Text(0, 0.5, 'pmdec')"
      ]
     },
     "execution_count": 42,
     "metadata": {},
     "output_type": "execute_result"
    },
    {
     "data": {
      "image/png": "[encoded data removed]",
      "text/plain": [
       "<Figure size 432x288 with 1 Axes>"
      ]
     },
     "metadata": {
      "needs_background": "light"
     },
     "output_type": "display_data"
    }
   ],
   "source": [
    "db = DBSCAN(eps=eps_opt, min_samples=nmin).fit(cincoD)\n",
    "core_samples_mask = np.zeros_like(db.labels_, dtype=bool)\n",
    "core_samples_mask[db.core_sample_indices_] = True\n",
    "labels = db.labels_\n",
    "\n",
    "N_clus=len(set(labels))-(1 if -1 in labels else 0)\n",
    "print('Estimated no. of clusters: %d' % N_clus)\n",
    "\n",
    "n_noise = list(db.labels_).count(-1)\n",
    "print('Estimated no. of noise points: %d' % n_noise)\n",
    "\n",
    "n_in = list(db.labels_).count(0)\n",
    "print('Estimated no. points clustered: %d' % n_in)\n",
    "\n",
    "\n",
    "plt.scatter(X[:, 0], \n",
    "            X[:, 1], \n",
    "            c=db.labels_, \n",
    "            )\n",
    "plt.xlabel(\"pmra\", fontweight = 'bold')\n",
    "plt.ylabel(\"pmdec\", fontweight = 'bold')"
   ]
  },
  {
   "cell_type": "markdown",
   "id": "b2d83603-81b3-4d0c-a656-0450488e4ca3",
   "metadata": {},
   "source": [
    "## Getting the points that are clustered"
   ]
  },
  {
   "cell_type": "code",
   "execution_count": 43,
   "id": "3f5dd7c8-6445-4acd-b226-c3d6e97efea7",
   "metadata": {},
   "outputs": [
    {
     "data": {
      "image/png": "[encoded data removed]",
      "text/plain": [
       "<Figure size 720x432 with 2 Axes>"
      ]
     },
     "metadata": {
      "needs_background": "light"
     },
     "output_type": "display_data"
    }
   ],
   "source": [
    "pontos_cluster = np.empty((0,2))\n",
    "for i in range(len(X)):\n",
    "    if labels[i]==0:\n",
    "        pontos_cluster = np.append(pontos_cluster, np.array([X[i]]), axis  = 0) #problema no formato do array para dar append\n",
    "    else:\n",
    "        continue\n",
    "\n",
    "xin,yin = pontos_cluster.T\n",
    "\n",
    "pontos_cluster = np.empty((0,2))\n",
    "for i in range(len(X)):\n",
    "    if labels[i]==-1:\n",
    "        pontos_cluster = np.append(pontos_cluster, np.array([X[i]]), axis  = 0) #problema no formato do array para dar append\n",
    "    else:\n",
    "        continue\n",
    "\n",
    "\n",
    "xout, yout = pontos_cluster.T\n",
    "\n",
    "\n",
    "subset = ndf[ndf['pmra'].isin(xin) & ndf['pmdec'].isin(yin)]\n",
    "subset = subset.reset_index(drop=True)\n",
    "\n",
    "fig, ax = plt.subplots(1,2, figsize=(10,6))\n",
    "ax[0].scatter(xin,yin, color = 'k', zorder = 100)\n",
    "ax[0].scatter(xout,yout, color = 'red')\n",
    "\n",
    "\n",
    "ax[1].scatter(subset['bp_rp'],subset['phot_g_mean_mag'])\n",
    "ax[1].invert_yaxis()\n"
   ]
  },
  {
   "cell_type": "code",
   "execution_count": 44,
   "id": "0aa368ca-3e4e-4d8f-b250-464c9de9bbbb",
   "metadata": {},
   "outputs": [
    {
     "data": {
      "image/png": "[encoded data removed]",
      "text/plain": [
       "<Figure size 360x576 with 1 Axes>"
      ]
     },
     "metadata": {
      "needs_background": "light"
     },
     "output_type": "display_data"
    }
   ],
   "source": [
    "plt.figure(figsize=(5,8))\n",
    "plt.scatter(subset['bp_rp'],subset['phot_g_mean_mag'])\n",
    "plt.gca().invert_yaxis()"
   ]
  },
  {
   "cell_type": "markdown",
   "id": "e97bc501-2309-4986-aa6f-74039153f3e1",
   "metadata": {},
   "source": [
    "## Constructing a RDP and histograms of the clusters parameters"
   ]
  },
  {
   "cell_type": "code",
   "execution_count": 45,
   "id": "40118a7a-2fff-4128-a1fe-379b764af944",
   "metadata": {},
   "outputs": [
    {
     "data": {
      "text/plain": [
       "Text(0, 0.5, 'stellar density (arcsec$^{-2}$)')"
      ]
     },
     "execution_count": 45,
     "metadata": {},
     "output_type": "execute_result"
    },
    {
     "data": {
      "image/png": "[encoded data removed]",
      "text/plain": [
       "<Figure size 432x288 with 1 Axes>"
      ]
     },
     "metadata": {
      "needs_background": "light"
     },
     "output_type": "display_data"
    }
   ],
   "source": [
    "from astropy.coordinates import SkyCoord\n",
    "from astropy import units\n",
    "\n",
    "catalog = SkyCoord(ra=subset['ra']*units.degree, dec=subset['dec']*units.degree, frame='fk5')\n",
    "\n",
    "nstar = len(subset)\n",
    "\n",
    "#.Definindo o vizinho apropriado para a abertura\n",
    "\n",
    "k = np.sqrt(nstar).astype(int)\n",
    "\n",
    "#.criando a estrutura de vizinhos proximos\n",
    "coords = np.array([subset['ra']*np.cos(subset['dec']*np.pi/180.0), subset['dec']]).T\n",
    "nn_struct = NearestNeighbors(n_neighbors=k, algorithm='auto', metric='euclidean')\n",
    "nn_struct.fit(coords)\n",
    "distances, index = nn_struct.kneighbors(coords)\n",
    "             \n",
    "\n",
    "#.obtendo a distancia do k-esimo vizinho mais proximo\n",
    "aperture = distances[:,k-1]*units.degree\n",
    "area = np.pi*(aperture.value)**2# + area_cor(data, data.DEC, aperture.value)\n",
    "den_data = k/area\n",
    "den_sigm = np.sqrt(k)/area\n",
    "\n",
    "den_data /= 3600**2\n",
    "den_sigm /= 3600**2\n",
    "\n",
    "med_x = np.average(subset['ra'], weights=den_data)\n",
    "std_x = np.average((subset['ra']-med_x)**2, weights=den_data)**0.5\n",
    "\n",
    "med_y = np.average(subset['dec'], weights=den_data)\n",
    "std_y = np.average((subset['dec']-med_y)**2, weights=den_data)**0.5\n",
    "\n",
    "center = SkyCoord(med_x*units.degree, med_y*units.degree)\n",
    "radii = center.separation(catalog)\n",
    "radii = radii.to(units.arcsec).value\n",
    "\n",
    "#.criando figura do RDP\n",
    "\n",
    "import matplotlib.cm as cm\n",
    "cor = cm.get_cmap('jet')\n",
    "\n",
    "fig, ax = plt.subplots()#1,1,figsize=(10,11))\n",
    "ax.scatter(radii,den_data, s=(max(subset['phot_g_mean_mag'])-subset['phot_g_mean_mag'])*20, c=den_data/3600**2, cmap = cor, label='data')\n",
    "ax.set_xlabel('radius (arcsec)', fontsize=18, fontweight='bold')\n",
    "ax.set_ylabel('stellar density (arcsec$^{-2}$)', fontsize=18, fontweight='bold')\n",
    "\n"
   ]
  },
  {
   "cell_type": "markdown",
   "id": "745deccc-b7c0-408f-8e44-a40b28044e17",
   "metadata": {},
   "source": [
    "## Plotting histograms"
   ]
  },
  {
   "cell_type": "code",
   "execution_count": 46,
   "id": "071a7e5d-7e96-40b9-930e-ffdfd72f8deb",
   "metadata": {},
   "outputs": [
    {
     "data": {
      "image/png": "[encoded data removed]",
      "text/plain": [
       "<Figure size 936x720 with 4 Axes>"
      ]
     },
     "metadata": {
      "needs_background": "light"
     },
     "output_type": "display_data"
    }
   ],
   "source": [
    "fig = plt.figure(figsize = (13,10))\n",
    "ax1 = fig.add_subplot(4,4, (1,6))\n",
    "ax2 = fig.add_subplot(4,4, (9,14))\n",
    "ax3 = fig.add_subplot(4,4, (3,8))\n",
    "ax4 = fig.add_subplot(4,4, (11,16))\n",
    "\n",
    "optimal_bin = np.histogram_bin_edges(subset['ra'], bins = 'fd')\n",
    "ax1.hist(subset['ra'], optimal_bin,  ec = 'k', color = 'green');\n",
    "\n",
    "optimal_bin = np.histogram_bin_edges(subset['pmra'], bins = 'fd')\n",
    "ax2.hist(subset['pmra'], optimal_bin,  ec = 'k', color = 'green');\n",
    "\n",
    "optimal_bin = np.histogram_bin_edges(subset['dec'], bins = 'fd')\n",
    "ax3.hist(subset['dec'], optimal_bin,  ec = 'k', color = 'red');\n",
    "\n",
    "optimal_bin = np.histogram_bin_edges(subset['pmdec'], bins = 'fd')\n",
    "ax4.hist(subset['pmdec'], optimal_bin,  ec = 'k', color = 'red');\n",
    "\n",
    "ax1.set_title('ra', fontweight = 'bold')\n",
    "ax2.set_title('pmra', fontweight = 'bold')\n",
    "ax3.set_title('dec', fontweight = 'bold')\n",
    "ax4.set_title('pmdec', fontweight = 'bold')\n",
    "\n",
    "plt.subplots_adjust(wspace = 0.2, hspace = 0.5)\n"
   ]
  },
  {
   "cell_type": "code",
   "execution_count": 47,
   "id": "55b77219-5085-4be7-b901-c475a2e22391",
   "metadata": {},
   "outputs": [
    {
     "data": {
      "image/png": "[encoded data removed]",
      "text/plain": [
       "<Figure size 1008x504 with 2 Axes>"
      ]
     },
     "metadata": {
      "needs_background": "light"
     },
     "output_type": "display_data"
    }
   ],
   "source": [
    "fig = plt.figure(figsize=(14,7))\n",
    "ax1 = fig.add_subplot(2,4, (1,6))\n",
    "\n",
    "optimal_bin = np.histogram_bin_edges(subset['parallax'], bins = 'fd')\n",
    "ax1.hist(subset['parallax'], optimal_bin, ec = 'k',color = 'blue');\n",
    "\n",
    "ax2 = fig.add_subplot(2,4, (3,8))\n",
    "\n",
    "ra_vel = subset.dropna(how='any',subset=['radial_velocity'])\n",
    "optimal_bin = np.histogram_bin_edges(ra_vel['radial_velocity'], bins = 'fd')\n",
    "ax2.hist(ra_vel.radial_velocity, optimal_bin, ec = 'k',color = 'orange');\n",
    "\n",
    "ax1.set_title('parallax', fontweight = 'bold')\n",
    "ax2.set_title('radial velocity', fontweight = 'bold');"
   ]
  },
  {
   "cell_type": "markdown",
   "id": "162cb4b6-ffc0-4462-ba56-5706b083601a",
   "metadata": {},
   "source": [
    "## Gaussian fit"
   ]
  },
  {
   "cell_type": "code",
   "execution_count": 48,
   "id": "e7f6d680-d07d-4b8b-9bfc-edf0bf934f8c",
   "metadata": {},
   "outputs": [],
   "source": [
    "def gaussiana(x, amp, mu, sigma):\n",
    "    return amp*np.exp(-(x-mu)**2/(2*sigma**2))\n",
    "\n",
    "from lmfit.models import GaussianModel"
   ]
  },
  {
   "cell_type": "code",
   "execution_count": 49,
   "id": "4596d56f-40fa-4def-85b4-51283340d87e",
   "metadata": {},
   "outputs": [
    {
     "name": "stdout",
     "output_type": "stream",
     "text": [
      "[[Model]]\n",
      "    Model(gaussian)\n",
      "[[Fit Statistics]]\n",
      "    # fitting method   = leastsq\n",
      "    # function evals   = 29\n",
      "    # data points      = 23\n",
      "    # variables        = 3\n",
      "    chi-square         = 1170.14523\n",
      "    reduced chi-square = 58.5072615\n",
      "    Akaike info crit   = 96.3759455\n",
      "    Bayesian info crit = 99.7824281\n",
      "[[Variables]]\n",
      "    amplitude:  24.0885569 +/- 1.00410767 (4.17%) (init = 27.9581)\n",
      "    center:     0.11632939 +/- 0.00516892 (4.44%) (init = 0.1098947)\n",
      "    sigma:      0.10740851 +/- 0.00517161 (4.81%) (init = 0.09047928)\n",
      "    fwhm:       0.25292771 +/- 0.01217821 (4.81%) == '2.3548200*sigma'\n",
      "    height:     89.4709740 +/- 3.72925146 (4.17%) == '0.3989423*amplitude/max(1e-15, sigma)'\n",
      "[[Correlations]] (unreported correlations are < 0.100)\n",
      "    C(amplitude, sigma) = 0.578\n"
     ]
    },
    {
     "data": {
      "image/png": "[encoded data removed]",
      "text/plain": [
       "<Figure size 576x432 with 1 Axes>"
      ]
     },
     "metadata": {
      "needs_background": "light"
     },
     "output_type": "display_data"
    }
   ],
   "source": [
    "fig, ax = plt.subplots(figsize=(8,6))\n",
    "\n",
    "\n",
    "data = subset['parallax']\n",
    "optimal_bin = np.histogram_bin_edges(data, bins = 'fd')\n",
    "\n",
    "histograma = ax.hist(data, optimal_bin, ec = 'k',color = 'orange');\n",
    "\n",
    "numero, bins = histograma[0],histograma[1]\n",
    "\n",
    "centralizar = (bins[1] - bins[0])/2\n",
    "\n",
    "teste = np.linspace(bins.min(),bins.max(),len(bins) -1)\n",
    "\n",
    "jpt = np.linspace(np.min(data) + centralizar, np.max(data) - centralizar, len(numero))\n",
    "\n",
    "\n",
    "gmodel = GaussianModel()\n",
    "\n",
    "inicial = gmodel.guess(numero, x = teste)\n",
    "\n",
    "result = gmodel.fit(numero, inicial, x=teste)\n",
    "\n",
    "\n",
    "print(result.fit_report())\n",
    "\n",
    "\n",
    "\n",
    "parametros = [result.params['height'].value, result.params['center'].value, result.params['sigma'].value]\n",
    "valores_paralaxe = [result.params['center'].value, result.params['sigma'].value]\n",
    "\n",
    "xplot = np.linspace(1.3*bins[0],1.3*bins[-1],128*2)\n",
    "\n",
    "ax.plot(xplot,gaussiana(xplot,*parametros), color = 'k')\n",
    "\n",
    "ax.set_title('parallax', fontweight = 'bold')\n",
    "\n",
    "plt.show()"
   ]
  },
  {
   "cell_type": "code",
   "execution_count": 50,
   "id": "8a5ec7cc-3804-4ee1-86ae-009de509436a",
   "metadata": {},
   "outputs": [],
   "source": [
    "#primeiro_clip = subset.parallax[np.where((subset.parallax < sigma_parallax_up ) & (subset.parallax > sigma_parallax_down))[0]]\n",
    "#primeiro_clip"
   ]
  },
  {
   "cell_type": "code",
   "execution_count": 51,
   "id": "7be0ede2-e52e-438f-a4dd-7f5fdcae6f74",
   "metadata": {},
   "outputs": [
    {
     "name": "stdout",
     "output_type": "stream",
     "text": [
      "[[Model]]\n",
      "    Model(gaussian)\n",
      "[[Fit Statistics]]\n",
      "    # fitting method   = leastsq\n",
      "    # function evals   = 53\n",
      "    # data points      = 37\n",
      "    # variables        = 3\n",
      "    chi-square         = 4040.84524\n",
      "    reduced chi-square = 118.848389\n",
      "    Akaike info crit   = 179.651776\n",
      "    Bayesian info crit = 184.484530\n",
      "[[Variables]]\n",
      "    amplitude:  6.49124027 +/- 0.40962975 (6.31%) (init = 4.022288)\n",
      "    center:     105.776919 +/- 0.00181833 (0.00%) (init = 105.7737)\n",
      "    sigma:      0.02495559 +/- 0.00181844 (7.29%) (init = 0.01064097)\n",
      "    fwhm:       0.05876591 +/- 0.00428211 (7.29%) == '2.3548200*sigma'\n",
      "    height:     103.769566 +/- 6.54836955 (6.31%) == '0.3989423*amplitude/max(1e-15, sigma)'\n",
      "[[Correlations]] (unreported correlations are < 0.100)\n",
      "    C(amplitude, sigma) = 0.577\n"
     ]
    },
    {
     "data": {
      "image/png": "[encoded data removed]",
      "text/plain": [
       "<Figure size 576x432 with 1 Axes>"
      ]
     },
     "metadata": {
      "needs_background": "light"
     },
     "output_type": "display_data"
    }
   ],
   "source": [
    "fig, ax = plt.subplots(figsize=(8,6))\n",
    "\n",
    "\n",
    "data = subset['ra']\n",
    "optimal_bin = np.histogram_bin_edges(data, bins = 'fd')\n",
    "\n",
    "histograma = ax.hist(data, optimal_bin, ec = 'k',color = 'blue');\n",
    "\n",
    "numero, bins = histograma[0],histograma[1]\n",
    "\n",
    "centralizar = (bins[1] - bins[0])/2\n",
    "\n",
    "teste = np.linspace(bins.min(),bins.max(),len(bins) -1)\n",
    "\n",
    "jpt = np.linspace(np.min(data) + centralizar, np.max(data) - centralizar, len(numero))\n",
    "\n",
    "\n",
    "gmodel = GaussianModel()\n",
    "\n",
    "inicial = gmodel.guess(numero, x = teste)\n",
    "\n",
    "result = gmodel.fit(numero, inicial, x=teste)\n",
    "\n",
    "\n",
    "print(result.fit_report())\n",
    "\n",
    "\n",
    "\n",
    "parametros = [result.params['height'].value, result.params['center'].value, result.params['sigma'].value]\n",
    "valores_ra = [result.params['center'].value, result.params['sigma'].value]\n",
    "\n",
    "xplot = np.linspace(bins[0],bins[-1],128*2)\n",
    "\n",
    "ax.plot(xplot,gaussiana(xplot,*parametros), color = 'k')\n",
    "\n",
    "ax.set_title('ra', fontweight = 'bold')\n",
    "\n",
    "plt.show()"
   ]
  },
  {
   "cell_type": "code",
   "execution_count": 52,
   "id": "b7821597-832b-4214-ac0b-dd5c6d1600a0",
   "metadata": {},
   "outputs": [
    {
     "name": "stdout",
     "output_type": "stream",
     "text": [
      "[[Model]]\n",
      "    Model(gaussian)\n",
      "[[Fit Statistics]]\n",
      "    # fitting method   = leastsq\n",
      "    # function evals   = 25\n",
      "    # data points      = 19\n",
      "    # variables        = 3\n",
      "    chi-square         = 1394.97761\n",
      "    reduced chi-square = 87.1861005\n",
      "    Akaike info crit   = 87.6276986\n",
      "    Bayesian info crit = 90.4610155\n",
      "[[Variables]]\n",
      "    amplitude:  28.6812997 +/- 1.44271842 (5.03%) (init = 32.14656)\n",
      "    center:    -0.50620651 +/- 0.00729417 (1.44%) (init = -0.5166778)\n",
      "    sigma:      0.12592796 +/- 0.00735413 (5.84%) (init = 0.1060943)\n",
      "    fwhm:       0.29653769 +/- 0.01731765 (5.84%) == '2.3548200*sigma'\n",
      "    height:     90.8629299 +/- 4.56300775 (5.02%) == '0.3989423*amplitude/max(1e-15, sigma)'\n",
      "[[Correlations]] (unreported correlations are < 0.100)\n",
      "    C(amplitude, sigma) = 0.582\n"
     ]
    },
    {
     "data": {
      "image/png": "[encoded data removed]",
      "text/plain": [
       "<Figure size 576x432 with 1 Axes>"
      ]
     },
     "metadata": {
      "needs_background": "light"
     },
     "output_type": "display_data"
    }
   ],
   "source": [
    "fig, ax = plt.subplots(figsize=(8,6))\n",
    "\n",
    "\n",
    "data = subset['pmra']\n",
    "optimal_bin = np.histogram_bin_edges(data, bins = 'fd')\n",
    "\n",
    "histograma = ax.hist(data, optimal_bin, ec = 'k',color = 'blue');\n",
    "\n",
    "numero, bins = histograma[0],histograma[1]\n",
    "\n",
    "centralizar = (bins[1] - bins[0])/2\n",
    "\n",
    "teste = np.linspace(bins.min(),bins.max(),len(bins) -1)\n",
    "\n",
    "jpt = np.linspace(np.min(data) + centralizar, np.max(data) - centralizar, len(numero))\n",
    "\n",
    "\n",
    "gmodel = GaussianModel()\n",
    "\n",
    "inicial = gmodel.guess(numero, x = teste)\n",
    "\n",
    "result = gmodel.fit(numero, inicial, x=teste)\n",
    "\n",
    "\n",
    "print(result.fit_report())\n",
    "\n",
    "\n",
    "\n",
    "parametros = [result.params['height'].value, result.params['center'].value, result.params['sigma'].value]\n",
    "valores_pmra= [result.params['center'].value, result.params['sigma'].value]\n",
    "\n",
    "xplot = np.linspace(bins[0],bins[-1],128*2)\n",
    "\n",
    "ax.plot(xplot,gaussiana(xplot,*parametros), color = 'k')\n",
    "\n",
    "ax.set_title('pmra', fontweight = 'bold')\n",
    "\n",
    "plt.show()"
   ]
  },
  {
   "cell_type": "code",
   "execution_count": 53,
   "id": "be669e82-e291-4d91-a880-5250115f0c15",
   "metadata": {},
   "outputs": [
    {
     "name": "stdout",
     "output_type": "stream",
     "text": [
      "[[Model]]\n",
      "    Model(gaussian)\n",
      "[[Fit Statistics]]\n",
      "    # fitting method   = leastsq\n",
      "    # function evals   = 49\n",
      "    # data points      = 37\n",
      "    # variables        = 3\n",
      "    chi-square         = 3740.08064\n",
      "    reduced chi-square = 110.002372\n",
      "    Akaike info crit   = 176.789948\n",
      "    Bayesian info crit = 181.622702\n",
      "[[Variables]]\n",
      "    amplitude:  6.04718753 +/- 0.36872308 (6.10%) (init = 5.410092)\n",
      "    center:    -20.8193303 +/- 0.00159268 (0.01%) (init = -20.81708)\n",
      "    sigma:      0.02262188 +/- 0.00159274 (7.04%) (init = 0.01541337)\n",
      "    fwhm:       0.05327046 +/- 0.00375061 (7.04%) == '2.3548200*sigma'\n",
      "    height:     106.643591 +/- 6.50251341 (6.10%) == '0.3989423*amplitude/max(1e-15, sigma)'\n",
      "[[Correlations]] (unreported correlations are < 0.100)\n",
      "    C(amplitude, sigma) = 0.577\n"
     ]
    },
    {
     "data": {
      "image/png": "[encoded data removed]",
      "text/plain": [
       "<Figure size 576x432 with 1 Axes>"
      ]
     },
     "metadata": {
      "needs_background": "light"
     },
     "output_type": "display_data"
    }
   ],
   "source": [
    "fig, ax = plt.subplots(figsize=(8,6))\n",
    "\n",
    "\n",
    "data = subset['dec']\n",
    "optimal_bin = np.histogram_bin_edges(data, bins = 'fd')\n",
    "\n",
    "histograma = ax.hist(data, optimal_bin, ec = 'k',color = 'red');\n",
    "\n",
    "numero, bins = histograma[0],histograma[1]\n",
    "\n",
    "centralizar = (bins[1] - bins[0])/2\n",
    "\n",
    "teste = np.linspace(bins.min(),bins.max(),len(bins) -1)\n",
    "\n",
    "jpt = np.linspace(np.min(data) + centralizar, np.max(data) - centralizar, len(numero))\n",
    "\n",
    "\n",
    "gmodel = GaussianModel()\n",
    "\n",
    "inicial = gmodel.guess(numero, x = teste)\n",
    "\n",
    "result = gmodel.fit(numero, inicial, x=teste)\n",
    "\n",
    "\n",
    "print(result.fit_report())\n",
    "\n",
    "\n",
    "\n",
    "parametros = [result.params['height'].value, result.params['center'].value, result.params['sigma'].value]\n",
    "valores_dec = [result.params['center'].value, result.params['sigma'].value]\n",
    "\n",
    "xplot = np.linspace(bins[0],bins[-1],128*2)\n",
    "\n",
    "ax.plot(xplot,gaussiana(xplot,*parametros), color = 'k')\n",
    "\n",
    "ax.set_title('dec', fontweight = 'bold')\n",
    "\n",
    "plt.show()"
   ]
  },
  {
   "cell_type": "code",
   "execution_count": 54,
   "id": "2e61f8e4-e34f-4e4f-9d15-44e52af6069b",
   "metadata": {},
   "outputs": [
    {
     "name": "stdout",
     "output_type": "stream",
     "text": [
      "[[Model]]\n",
      "    Model(gaussian)\n",
      "[[Fit Statistics]]\n",
      "    # fitting method   = leastsq\n",
      "    # function evals   = 21\n",
      "    # data points      = 19\n",
      "    # variables        = 3\n",
      "    chi-square         = 840.069064\n",
      "    reduced chi-square = 52.5043165\n",
      "    Akaike info crit   = 77.9918574\n",
      "    Bayesian info crit = 80.8251744\n",
      "[[Variables]]\n",
      "    amplitude:  30.1790585 +/- 1.19333155 (3.95%) (init = 33.16704)\n",
      "    center:     1.40956262 +/- 0.00620965 (0.44%) (init = 1.396045)\n",
      "    sigma:      0.13659550 +/- 0.00628988 (4.60%) (init = 0.1105568)\n",
      "    fwhm:       0.32165781 +/- 0.01481153 (4.60%) == '2.3548200*sigma'\n",
      "    height:     88.1412884 +/- 3.47528572 (3.94%) == '0.3989423*amplitude/max(1e-15, sigma)'\n",
      "[[Correlations]] (unreported correlations are < 0.100)\n",
      "    C(amplitude, sigma) = 0.585\n"
     ]
    },
    {
     "data": {
      "image/png": "[encoded data removed]",
      "text/plain": [
       "<Figure size 576x432 with 1 Axes>"
      ]
     },
     "metadata": {
      "needs_background": "light"
     },
     "output_type": "display_data"
    }
   ],
   "source": [
    "fig, ax = plt.subplots(figsize=(8,6))\n",
    "\n",
    "\n",
    "data = subset['pmdec']\n",
    "optimal_bin = np.histogram_bin_edges(data, bins = 'fd')\n",
    "\n",
    "histograma = ax.hist(data, optimal_bin, ec = 'k',color = 'red');\n",
    "\n",
    "numero, bins = histograma[0],histograma[1]\n",
    "\n",
    "centralizar = (bins[1] - bins[0])/2\n",
    "\n",
    "teste = np.linspace(bins.min(),bins.max(),len(bins) -1)\n",
    "\n",
    "jpt = np.linspace(np.min(data) + centralizar, np.max(data) - centralizar, len(numero))\n",
    "\n",
    "\n",
    "gmodel = GaussianModel()\n",
    "\n",
    "inicial = gmodel.guess(numero, x = teste)\n",
    "\n",
    "result = gmodel.fit(numero, inicial, x=teste)\n",
    "\n",
    "\n",
    "print(result.fit_report())\n",
    "\n",
    "\n",
    "\n",
    "parametros = [result.params['height'].value, result.params['center'].value, result.params['sigma'].value]\n",
    "valores_pmdec = [result.params['center'].value, result.params['sigma'].value]\n",
    "\n",
    "xplot = np.linspace(bins[0],bins[-1],128*2)\n",
    "\n",
    "ax.plot(xplot,gaussiana(xplot,*parametros), color = 'k')\n",
    "\n",
    "ax.set_title('pmdec', fontweight = 'bold')\n",
    "\n",
    "plt.show()"
   ]
  },
  {
   "cell_type": "code",
   "execution_count": 55,
   "id": "bd22e490-355a-434a-8f2b-db38637bbfb3",
   "metadata": {},
   "outputs": [
    {
     "name": "stdout",
     "output_type": "stream",
     "text": [
      "[[Model]]\n",
      "    Model(gaussian)\n",
      "[[Fit Statistics]]\n",
      "    # fitting method   = leastsq\n",
      "    # function evals   = 8000\n",
      "    # data points      = 4\n",
      "    # variables        = 3\n",
      "    chi-square         = 3.00419116\n",
      "    reduced chi-square = 3.00419116\n",
      "    Akaike info crit   = 4.85485602\n",
      "    Bayesian info crit = 3.01373910\n",
      "##  Warning: uncertainties could not be estimated:\n",
      "[[Variables]]\n",
      "    amplitude:  6.9821e+26 (init = 416.0366)\n",
      "    center:     3991.80435 (init = 134.4465)\n",
      "    sigma:      375.770422 (init = 15.40876)\n",
      "    fwhm:       884.871706 == '2.3548200*sigma'\n",
      "    height:     7.4127e+23 == '0.3989423*amplitude/max(1e-15, sigma)'\n"
     ]
    },
    {
     "data": {
      "image/png": "[encoded data removed]",
      "text/plain": [
       "<Figure size 576x432 with 1 Axes>"
      ]
     },
     "metadata": {
      "needs_background": "light"
     },
     "output_type": "display_data"
    }
   ],
   "source": [
    "fig, ax = plt.subplots(figsize=(8,6))\n",
    "\n",
    "ra_vel = subset.dropna(how='any',subset=['radial_velocity'])\n",
    "optimal_bin = np.histogram_bin_edges(ra_vel['radial_velocity'], bins = 'fd')\n",
    "\n",
    "data = ra_vel['radial_velocity']\n",
    "optimal_bin = np.histogram_bin_edges(data, bins = 'fd')\n",
    "\n",
    "histograma = ax.hist(data, optimal_bin, ec = 'k',color = 'green');\n",
    "\n",
    "numero, bins = histograma[0],histograma[1]\n",
    "\n",
    "centralizar = (bins[1] - bins[0])/2\n",
    "\n",
    "teste = np.linspace(bins.min(),bins.max(),len(bins) -1)\n",
    "\n",
    "jpt = np.linspace(np.min(data) + centralizar, np.max(data) - centralizar, len(numero))\n",
    "\n",
    "\n",
    "gmodel = GaussianModel()\n",
    "\n",
    "inicial = gmodel.guess(numero, x = teste)\n",
    "\n",
    "result = gmodel.fit(numero, inicial, x=teste)\n",
    "\n",
    "\n",
    "print(result.fit_report())\n",
    "\n",
    "\n",
    "\n",
    "parametros = [result.params['height'].value, result.params['center'].value, result.params['sigma'].value]\n",
    "\n",
    "valores_radial_velocity= [result.params['center'].value, result.params['sigma'].value]\n",
    "\n",
    "\n",
    "xplot = np.linspace(bins[0],bins[-1],128*2)\n",
    "\n",
    "ax.plot(xplot,gaussiana(xplot,*parametros), color = 'k')\n",
    "\n",
    "ax.set_title('radial_velocity', fontweight = 'bold')\n",
    "\n",
    "plt.show()\n"
   ]
  },
  {
   "cell_type": "code",
   "execution_count": 56,
   "id": "12160255-cc54-43d7-ad95-d977411f20be",
   "metadata": {},
   "outputs": [
    {
     "name": "stdout",
     "output_type": "stream",
     "text": [
      "0.2237379047975573 0.008920878603595611\n",
      "105.80187485891265 105.75196368717538\n",
      "-0.38027854457722954 -0.6321344701145483\n",
      "-20.79670842393029 -20.841952191223967\n",
      "1.5461581197243621 1.272967127558951\n",
      "4367.574773916384 3616.0339289849176\n"
     ]
    }
   ],
   "source": [
    "sigma = 1\n",
    "\n",
    "paralaxe_up, paralaxe_down = valores_paralaxe[0] + sigma*valores_paralaxe[1], valores_paralaxe[0] - sigma*valores_paralaxe[1]\n",
    "\n",
    "print(paralaxe_up,paralaxe_down)\n",
    "\n",
    "ra_up, ra_down = valores_ra[0] + sigma*valores_ra[1], valores_ra[0] - sigma*valores_ra[1]\n",
    "\n",
    "print(ra_up,ra_down)\n",
    "\n",
    "pmra_up, pmra_down = valores_pmra[0] + sigma*valores_pmra[1], valores_pmra[0] - sigma*valores_pmra[1]\n",
    "\n",
    "print(pmra_up,pmra_down)\n",
    "\n",
    "dec_up, dec_down = valores_dec[0] + sigma*valores_dec[1], valores_dec[0] - sigma*valores_dec[1]\n",
    "\n",
    "print(dec_up,dec_down)\n",
    "\n",
    "pmdec_up, pmdec_down = valores_pmdec[0] + sigma*valores_pmdec[1], valores_pmdec[0] - sigma*valores_pmdec[1]\n",
    "\n",
    "print(pmdec_up,pmdec_down)\n",
    "\n",
    "radvel_up, radvel_down = valores_radial_velocity[0] + sigma*valores_radial_velocity[1], valores_radial_velocity[0] - sigma*valores_radial_velocity[1]\n",
    "\n",
    "print(radvel_up,radvel_down)"
   ]
  },
  {
   "cell_type": "code",
   "execution_count": 57,
   "id": "d1511151-0645-4fbc-9099-60763585c549",
   "metadata": {},
   "outputs": [
    {
     "data": {
      "text/plain": [
       "799"
      ]
     },
     "execution_count": 57,
     "metadata": {},
     "output_type": "execute_result"
    }
   ],
   "source": [
    "clip = subset.loc[(subset.parallax < paralaxe_up ) & (subset.parallax > paralaxe_down) & (subset.ra>ra_down) & (subset.ra<ra_up)\n",
    "          & (subset.dec>dec_down) & (subset.dec<dec_up) & (subset.pmra>pmra_down) & (subset.pmra<pmra_up) & (subset.pmdec>pmdec_down) & (subset.pmdec<pmdec_up)\n",
    "         & (subset.radial_velocity < radvel_up) & (subset.radial_velocity > radvel_down)| (subset.radial_velocity.isnull())]\n",
    "len(clip)"
   ]
  },
  {
   "cell_type": "code",
   "execution_count": 58,
   "id": "9a590b4f-ac07-4d68-a102-f2acaa13a09e",
   "metadata": {},
   "outputs": [
    {
     "data": {
      "image/png": "[encoded data removed]",
      "text/plain": [
       "<Figure size 432x288 with 1 Axes>"
      ]
     },
     "metadata": {
      "needs_background": "light"
     },
     "output_type": "display_data"
    }
   ],
   "source": [
    "ra_vel = clip.dropna(how='any',subset=['radial_velocity'])\n",
    "optimal_bin = np.histogram_bin_edges(ra_vel['radial_velocity'], bins = 'fd')\n",
    "\n",
    "data = ra_vel['radial_velocity']\n",
    "\n",
    "plt.hist(data, optimal_bin, ec = 'k',color = 'green');"
   ]
  },
  {
   "cell_type": "code",
   "execution_count": 59,
   "id": "8bbc66e7-3655-4bcd-bb70-41066c5a7c50",
   "metadata": {},
   "outputs": [
    {
     "data": {
      "image/png": "[encoded data removed]",
      "text/plain": [
       "<Figure size 360x576 with 1 Axes>"
      ]
     },
     "metadata": {
      "needs_background": "light"
     },
     "output_type": "display_data"
    }
   ],
   "source": [
    "plt.figure(figsize=(5,8))\n",
    "plt.scatter(clip['bp_rp'],clip['phot_g_mean_mag'])\n",
    "plt.gca().invert_yaxis()"
   ]
  },
  {
   "cell_type": "code",
   "execution_count": 60,
   "id": "3b71a47f-0600-4951-86f4-4fff8150cb0d",
   "metadata": {},
   "outputs": [
    {
     "data": {
      "text/plain": [
       "Text(0, 0.5, 'stellar density (arcsec$^{-2}$)')"
      ]
     },
     "execution_count": 60,
     "metadata": {},
     "output_type": "execute_result"
    },
    {
     "data": {
      "image/png": "[encoded data removed]",
      "text/plain": [
       "<Figure size 432x288 with 1 Axes>"
      ]
     },
     "metadata": {
      "needs_background": "light"
     },
     "output_type": "display_data"
    }
   ],
   "source": [
    "from astropy.coordinates import SkyCoord\n",
    "from astropy import units\n",
    "\n",
    "catalog = SkyCoord(ra=clip['ra']*units.degree, dec=clip['dec']*units.degree, frame='fk5')\n",
    "\n",
    "nstar = len(clip)\n",
    "\n",
    "#.Definindo o vizinho apropriado para a abertura\n",
    "\n",
    "k = np.sqrt(nstar).astype(int)\n",
    "\n",
    "#.criando a estrutura de vizinhos proximos\n",
    "coords = np.array([clip['ra']*np.cos(clip['dec']*np.pi/180.0), clip['dec']]).T\n",
    "nn_struct = NearestNeighbors(n_neighbors=k, algorithm='auto', metric='euclidean')\n",
    "nn_struct.fit(coords)\n",
    "distances, index = nn_struct.kneighbors(coords)\n",
    "             \n",
    "\n",
    "#.obtendo a distancia do k-esimo vizinho mais proximo\n",
    "aperture = distances[:,k-1]*units.degree\n",
    "area = np.pi*(aperture.value)**2# + area_cor(data, data.DEC, aperture.value)\n",
    "den_data = k/area\n",
    "den_sigm = np.sqrt(k)/area\n",
    "\n",
    "den_data /= 3600**2\n",
    "den_sigm /= 3600**2\n",
    "\n",
    "med_x = np.average(clip['ra'], weights=den_data)\n",
    "std_x = np.average((clip['ra']-med_x)**2, weights=den_data)**0.5\n",
    "\n",
    "med_y = np.average(clip['dec'], weights=den_data)\n",
    "std_y = np.average((clip['dec']-med_y)**2, weights=den_data)**0.5\n",
    "\n",
    "center = SkyCoord(med_x*units.degree, med_y*units.degree)\n",
    "radii = center.separation(catalog)\n",
    "radii = radii.to(units.arcsec).value\n",
    "\n",
    "\n",
    "import matplotlib.cm as cm\n",
    "cor = cm.get_cmap('jet')\n",
    "\n",
    "fig, ax = plt.subplots()#1,1,figsize=(10,11))\n",
    "ax.scatter(radii,den_data, s=(max(clip['phot_g_mean_mag'])-clip['phot_g_mean_mag'])*20, c=den_data/3600**2, cmap = cor, label='data')\n",
    "ax.set_xlabel('radius (arcsec)', fontsize=18, fontweight='bold')\n",
    "ax.set_ylabel('stellar density (arcsec$^{-2}$)', fontsize=18, fontweight='bold')\n",
    "\n"
   ]
  },
  {
   "cell_type": "code",
   "execution_count": 61,
   "id": "f2561147-7e16-4a56-bad6-15b3783ca53e",
   "metadata": {},
   "outputs": [
    {
     "data": {
      "text/plain": [
       "<SkyCoord (ICRS): (ra, dec) in deg\n",
       "    (105.77704874, -20.81804284)>"
      ]
     },
     "execution_count": 61,
     "metadata": {},
     "output_type": "execute_result"
    }
   ],
   "source": [
    "center"
   ]
  }
 ],
 "metadata": {
  "kernelspec": {
   "display_name": "Python 3",
   "language": "python",
   "name": "python3"
  },
  "language_info": {
   "codemirror_mode": {
    "name": "ipython",
    "version": 3
   },
   "file_extension": ".py",
   "mimetype": "text/x-python",
   "name": "python",
   "nbconvert_exporter": "python",
   "pygments_lexer": "ipython3",
   "version": "3.8.8"
  }
 },
 "nbformat": 4,
 "nbformat_minor": 5
}
