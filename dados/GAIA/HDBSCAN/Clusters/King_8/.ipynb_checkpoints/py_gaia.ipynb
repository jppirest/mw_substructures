{
 "cells": [
  {
   "cell_type": "code",
   "execution_count": 1,
   "id": "3521cdea-429b-4991-bb30-48131d9ae7f7",
   "metadata": {},
   "outputs": [],
   "source": [
    "import numpy as np\n",
    "import pandas as pd\n",
    "import matplotlib.pyplot as plt\n",
    "from astroquery.gaia import Gaia\n",
    "import astropy"
   ]
  },
  {
   "cell_type": "code",
   "execution_count": 2,
   "id": "6530e5b6-fa2e-487a-9762-58f002959899",
   "metadata": {},
   "outputs": [],
   "source": [
    "#from platform import python_version\n",
    "#python_version()"
   ]
  },
  {
   "cell_type": "code",
   "execution_count": 3,
   "id": "a49442e6-8751-480c-8bc2-b1c80196ac26",
   "metadata": {},
   "outputs": [
    {
     "data": {
      "text/plain": [
       "'King_8'"
      ]
     },
     "execution_count": 3,
     "metadata": {},
     "output_type": "execute_result"
    }
   ],
   "source": [
    "import os\n",
    "directory_path = os.getcwd()\n",
    "nome_aglo = directory_path.split('/')[-1]\n",
    "nome_aglo"
   ]
  },
  {
   "cell_type": "code",
   "execution_count": 4,
   "id": "f8abc363-cd00-4137-9be0-7cfc139a62e6",
   "metadata": {},
   "outputs": [
    {
     "data": {
      "text/plain": [
       "(87.325, 33.63611)"
      ]
     },
     "execution_count": 4,
     "metadata": {},
     "output_type": "execute_result"
    }
   ],
   "source": [
    "df = pd.read_csv('../../lista.txt', comment= '#')\n",
    "ra, dec = df.loc[df['Nome'] == nome_aglo]['_RAJ2000'].values[0], df.loc[df['Nome'] == nome_aglo]['_DEJ2000'].values[0]\n",
    "ra, dec"
   ]
  },
  {
   "cell_type": "code",
   "execution_count": 5,
   "id": "74028be2-edac-4384-9832-528bb78d6e2e",
   "metadata": {},
   "outputs": [
    {
     "name": "stdout",
     "output_type": "stream",
     "text": [
      "INFO: Retrieving tables... [astroquery.utils.tap.core]\n",
      "INFO: Parsing tables... [astroquery.utils.tap.core]\n",
      "INFO: Done. [astroquery.utils.tap.core]\n"
     ]
    }
   ],
   "source": [
    "tables = Gaia.load_tables(only_names=True)"
   ]
  },
  {
   "cell_type": "code",
   "execution_count": 6,
   "id": "b4824134-51b9-43ec-8ccb-be7659e74477",
   "metadata": {},
   "outputs": [
    {
     "name": "stdout",
     "output_type": "stream",
     "text": [
      "Retrieving table 'gaiadr3.gaia_source'\n"
     ]
    },
    {
     "data": {
      "text/plain": [
       "<astroquery.utils.tap.model.taptable.TapTableMeta at 0x7fd9a24d7850>"
      ]
     },
     "execution_count": 6,
     "metadata": {},
     "output_type": "execute_result"
    }
   ],
   "source": [
    "meta = Gaia.load_table('gaiadr3.gaia_source')\n",
    "meta"
   ]
  },
  {
   "cell_type": "code",
   "execution_count": 7,
   "id": "0cd0c50b-6020-4c1b-846d-3d0e0d6d8adb",
   "metadata": {},
   "outputs": [
    {
     "data": {
      "text/plain": [
       "\"SELECT \\nra, dec, pmra, pmra_error, pmdec, pmdec_error, bp_rp, phot_g_mean_mag, parallax, parallax_error, radial_velocity, radial_velocity_error, l,b\\nFROM gaiadr3.gaia_source\\nWHERE 1=CONTAINS(POINT('ICRS',ra,dec),\\nCIRCLE('ICRS', 87.325,33.63611, 0.2))\""
      ]
     },
     "execution_count": 7,
     "metadata": {},
     "output_type": "execute_result"
    }
   ],
   "source": [
    "query = \"\"\"SELECT \n",
    "ra, dec, pmra, pmra_error, pmdec, pmdec_error, bp_rp, phot_g_mean_mag, parallax, parallax_error, radial_velocity, radial_velocity_error, l,b\n",
    "FROM gaiadr3.gaia_source\n",
    "WHERE 1=CONTAINS(POINT('ICRS',ra,dec),\n",
    "CIRCLE('ICRS', \"\"\" +  str(ra) + ',' + str(dec) + ',' + ' 0.2))'\n",
    "query"
   ]
  },
  {
   "cell_type": "code",
   "execution_count": 8,
   "id": "3bde5f58-6e4f-46b6-8fa6-f28b0a206b6d",
   "metadata": {},
   "outputs": [
    {
     "name": "stdout",
     "output_type": "stream",
     "text": [
      "INFO: Query finished. [astroquery.utils.tap.core]\n"
     ]
    },
    {
     "data": {
      "text/plain": [
       "<astroquery.utils.tap.model.job.Job at 0x7fd9a24ecc10>"
      ]
     },
     "execution_count": 8,
     "metadata": {},
     "output_type": "execute_result"
    }
   ],
   "source": [
    "job = Gaia.launch_job_async(query)\n",
    "job"
   ]
  },
  {
   "cell_type": "code",
   "execution_count": 9,
   "id": "ce6031ad-1c30-44ba-af5f-2cb4ed81704d",
   "metadata": {},
   "outputs": [],
   "source": [
    "data = job.get_results()"
   ]
  },
  {
   "cell_type": "code",
   "execution_count": 10,
   "id": "f09c2f84-ad86-425a-b7b3-9312a087e356",
   "metadata": {},
   "outputs": [
    {
     "data": {
      "text/plain": [
       "6074"
      ]
     },
     "execution_count": 10,
     "metadata": {},
     "output_type": "execute_result"
    }
   ],
   "source": [
    "len(data)"
   ]
  },
  {
   "cell_type": "code",
   "execution_count": 11,
   "id": "3285dbd8-c3f5-421d-99b6-ca648a15a308",
   "metadata": {},
   "outputs": [],
   "source": [
    "data = job.get_results()"
   ]
  },
  {
   "cell_type": "code",
   "execution_count": 12,
   "id": "a7b69784-84b8-4ff5-8739-96de5fc6c268",
   "metadata": {},
   "outputs": [
    {
     "data": {
      "text/html": [
       "<div><i>Table length=6074</i>\n",
       "<table id=\"table140572707704784\" class=\"table-striped table-bordered table-condensed\">\n",
       "<thead><tr><th>ra</th><th>dec</th><th>pmra</th><th>pmra_error</th><th>pmdec</th><th>pmdec_error</th><th>bp_rp</th><th>phot_g_mean_mag</th><th>parallax</th><th>parallax_error</th><th>radial_velocity</th><th>radial_velocity_error</th><th>l</th><th>b</th></tr></thead>\n",
       "<thead><tr><th>deg</th><th>deg</th><th>mas / yr</th><th>mas / yr</th><th>mas / yr</th><th>mas / yr</th><th>mag</th><th>mag</th><th>mas</th><th>mas</th><th>km / s</th><th>km / s</th><th>deg</th><th>deg</th></tr></thead>\n",
       "<thead><tr><th>float64</th><th>float64</th><th>float64</th><th>float32</th><th>float64</th><th>float32</th><th>float32</th><th>float32</th><th>float64</th><th>float32</th><th>float32</th><th>float32</th><th>float64</th><th>float64</th></tr></thead>\n",
       "<tr><td>87.22420677880933</td><td>33.45580490381876</td><td>-0.7039167711124344</td><td>0.11827084</td><td>0.7382588096415577</td><td>0.074669175</td><td>1.1665688</td><td>17.695787</td><td>0.4482646277764356</td><td>0.106944814</td><td>--</td><td>--</td><td>176.49360663529106</td><td>2.938294014686238</td></tr>\n",
       "<tr><td>87.22709342915269</td><td>33.45544002937816</td><td>0.03120157510345124</td><td>0.18517916</td><td>-2.1128793719521473</td><td>0.108783744</td><td>1.4083786</td><td>18.352535</td><td>-0.061033730584992466</td><td>0.167097</td><td>--</td><td>--</td><td>176.49515809911705</td><td>2.9401735541885774</td></tr>\n",
       "<tr><td>87.22927454293855</td><td>33.459714395833764</td><td>1.3794971924296697</td><td>0.25047258</td><td>-0.023023775105560654</td><td>0.1501183</td><td>1.3141842</td><td>18.875916</td><td>-0.003995325701206497</td><td>0.23047097</td><td>--</td><td>--</td><td>176.49242027899356</td><td>2.9439292924679865</td></tr>\n",
       "<tr><td>87.22609749286435</td><td>33.45617590881258</td><td>-1.4345810225227582</td><td>0.3124505</td><td>-4.094373635004081</td><td>0.18386975</td><td>1.4816055</td><td>19.13442</td><td>-0.026084086070066147</td><td>0.2921002</td><td>--</td><td>--</td><td>176.49409864529864</td><td>2.9398382059247017</td></tr>\n",
       "<tr><td>87.23043282946303</td><td>33.4533478640272</td><td>1.8609128931682055</td><td>1.4568738</td><td>-1.5640137132039638</td><td>0.7868874</td><td>1.2199078</td><td>20.641066</td><td>-0.5118309974284387</td><td>1.1583811</td><td>--</td><td>--</td><td>176.49838800743305</td><td>2.941490714194575</td></tr>\n",
       "<tr><td>87.23280812744873</td><td>33.4532154768988</td><td>-0.011503349946384883</td><td>0.06620226</td><td>-5.7536528640523805</td><td>0.041541692</td><td>1.201045</td><td>16.62579</td><td>0.5533091026885422</td><td>0.057210937</td><td>--</td><td>--</td><td>176.4995203435543</td><td>2.9431235747324633</td></tr>\n",
       "<tr><td>...</td><td>...</td><td>...</td><td>...</td><td>...</td><td>...</td><td>...</td><td>...</td><td>...</td><td>...</td><td>...</td><td>...</td><td>...</td><td>...</td></tr>\n",
       "<tr><td>87.32891884387759</td><td>33.834161740067586</td><td>-0.1126597344733762</td><td>0.11478303</td><td>-1.487490670258964</td><td>0.07540395</td><td>1.5980949</td><td>17.66665</td><td>0.3325057700961448</td><td>0.10847588</td><td>--</td><td>--</td><td>176.2130813063224</td><td>3.207151748138684</td></tr>\n",
       "<tr><td>87.32075979583743</td><td>33.82877394225395</td><td>-0.6284286449062965</td><td>0.32658195</td><td>-3.5988375631279608</td><td>0.19101378</td><td>1.7509193</td><td>18.787428</td><td>0.08141982760317605</td><td>0.27605408</td><td>--</td><td>--</td><td>176.2142382291628</td><td>3.1985710002207592</td></tr>\n",
       "<tr><td>87.3305454662055</td><td>33.83594056350588</td><td>-1.2220939632950547</td><td>0.6638138</td><td>-0.11517990367788178</td><td>0.42373943</td><td>1.1834164</td><td>20.060368</td><td>0.7288963871884434</td><td>0.6601929</td><td>--</td><td>--</td><td>176.21224437713923</td><td>3.2092233529434537</td></tr>\n",
       "<tr><td>87.31325671854104</td><td>33.83423513137472</td><td>-1.4692870730302896</td><td>0.028486164</td><td>-6.169467314240975</td><td>0.018967044</td><td>1.1720324</td><td>14.77094</td><td>1.5343309069660291</td><td>0.029044664</td><td>85.08917</td><td>4.991741</td><td>176.20634271694635</td><td>3.196016542080547</td></tr>\n",
       "<tr><td>87.31939028841961</td><td>33.83472781031061</td><td>0.2796341545955532</td><td>0.16192009</td><td>-3.3434668553741105</td><td>0.11080766</td><td>1.6319714</td><td>17.940723</td><td>0.8962782111776658</td><td>0.15816714</td><td>--</td><td>--</td><td>176.208533362424</td><td>3.200644307027248</td></tr>\n",
       "<tr><td>87.32090614408945</td><td>33.83299125582655</td><td>7.77592696170692</td><td>1.4757586</td><td>0.8406489949443843</td><td>1.1834112</td><td>0.46133232</td><td>20.73193</td><td>2.5254218804139037</td><td>2.385616</td><td>--</td><td>--</td><td>176.21067313334848</td><td>3.2008359951299936</td></tr>\n",
       "</table></div>"
      ],
      "text/plain": [
       "<Table length=6074>\n",
       "        ra               dec         ...         l                  b         \n",
       "       deg               deg         ...        deg                deg        \n",
       "     float64           float64       ...      float64            float64      \n",
       "----------------- ------------------ ... ------------------ ------------------\n",
       "87.22420677880933  33.45580490381876 ... 176.49360663529106  2.938294014686238\n",
       "87.22709342915269  33.45544002937816 ... 176.49515809911705 2.9401735541885774\n",
       "87.22927454293855 33.459714395833764 ... 176.49242027899356 2.9439292924679865\n",
       "87.22609749286435  33.45617590881258 ... 176.49409864529864 2.9398382059247017\n",
       "87.23043282946303   33.4533478640272 ... 176.49838800743305  2.941490714194575\n",
       "87.23280812744873   33.4532154768988 ...  176.4995203435543 2.9431235747324633\n",
       "              ...                ... ...                ...                ...\n",
       "87.32891884387759 33.834161740067586 ...  176.2130813063224  3.207151748138684\n",
       "87.32075979583743  33.82877394225395 ...  176.2142382291628 3.1985710002207592\n",
       " 87.3305454662055  33.83594056350588 ... 176.21224437713923 3.2092233529434537\n",
       "87.31325671854104  33.83423513137472 ... 176.20634271694635  3.196016542080547\n",
       "87.31939028841961  33.83472781031061 ...   176.208533362424  3.200644307027248\n",
       "87.32090614408945  33.83299125582655 ... 176.21067313334848 3.2008359951299936"
      ]
     },
     "execution_count": 12,
     "metadata": {},
     "output_type": "execute_result"
    }
   ],
   "source": [
    "data#.show_in_notebook()"
   ]
  },
  {
   "cell_type": "code",
   "execution_count": 13,
   "id": "76000902-fd33-4bc1-bfa2-5dc9f2381477",
   "metadata": {},
   "outputs": [
    {
     "data": {
      "text/html": [
       "<div>\n",
       "<style scoped>\n",
       "    .dataframe tbody tr th:only-of-type {\n",
       "        vertical-align: middle;\n",
       "    }\n",
       "\n",
       "    .dataframe tbody tr th {\n",
       "        vertical-align: top;\n",
       "    }\n",
       "\n",
       "    .dataframe thead th {\n",
       "        text-align: right;\n",
       "    }\n",
       "</style>\n",
       "<table border=\"1\" class=\"dataframe\">\n",
       "  <thead>\n",
       "    <tr style=\"text-align: right;\">\n",
       "      <th></th>\n",
       "      <th>ra</th>\n",
       "      <th>dec</th>\n",
       "      <th>pmra</th>\n",
       "      <th>pmra_error</th>\n",
       "      <th>pmdec</th>\n",
       "      <th>pmdec_error</th>\n",
       "      <th>bp_rp</th>\n",
       "      <th>phot_g_mean_mag</th>\n",
       "      <th>parallax</th>\n",
       "      <th>parallax_error</th>\n",
       "      <th>radial_velocity</th>\n",
       "      <th>radial_velocity_error</th>\n",
       "      <th>l</th>\n",
       "      <th>b</th>\n",
       "    </tr>\n",
       "  </thead>\n",
       "  <tbody>\n",
       "    <tr>\n",
       "      <th>0</th>\n",
       "      <td>87.224207</td>\n",
       "      <td>33.455805</td>\n",
       "      <td>-0.703917</td>\n",
       "      <td>0.118271</td>\n",
       "      <td>0.738259</td>\n",
       "      <td>0.074669</td>\n",
       "      <td>1.166569</td>\n",
       "      <td>17.695787</td>\n",
       "      <td>0.448265</td>\n",
       "      <td>0.106945</td>\n",
       "      <td>NaN</td>\n",
       "      <td>NaN</td>\n",
       "      <td>176.493607</td>\n",
       "      <td>2.938294</td>\n",
       "    </tr>\n",
       "    <tr>\n",
       "      <th>1</th>\n",
       "      <td>87.227093</td>\n",
       "      <td>33.455440</td>\n",
       "      <td>0.031202</td>\n",
       "      <td>0.185179</td>\n",
       "      <td>-2.112879</td>\n",
       "      <td>0.108784</td>\n",
       "      <td>1.408379</td>\n",
       "      <td>18.352535</td>\n",
       "      <td>-0.061034</td>\n",
       "      <td>0.167097</td>\n",
       "      <td>NaN</td>\n",
       "      <td>NaN</td>\n",
       "      <td>176.495158</td>\n",
       "      <td>2.940174</td>\n",
       "    </tr>\n",
       "    <tr>\n",
       "      <th>2</th>\n",
       "      <td>87.229275</td>\n",
       "      <td>33.459714</td>\n",
       "      <td>1.379497</td>\n",
       "      <td>0.250473</td>\n",
       "      <td>-0.023024</td>\n",
       "      <td>0.150118</td>\n",
       "      <td>1.314184</td>\n",
       "      <td>18.875916</td>\n",
       "      <td>-0.003995</td>\n",
       "      <td>0.230471</td>\n",
       "      <td>NaN</td>\n",
       "      <td>NaN</td>\n",
       "      <td>176.492420</td>\n",
       "      <td>2.943929</td>\n",
       "    </tr>\n",
       "    <tr>\n",
       "      <th>3</th>\n",
       "      <td>87.226097</td>\n",
       "      <td>33.456176</td>\n",
       "      <td>-1.434581</td>\n",
       "      <td>0.312450</td>\n",
       "      <td>-4.094374</td>\n",
       "      <td>0.183870</td>\n",
       "      <td>1.481606</td>\n",
       "      <td>19.134420</td>\n",
       "      <td>-0.026084</td>\n",
       "      <td>0.292100</td>\n",
       "      <td>NaN</td>\n",
       "      <td>NaN</td>\n",
       "      <td>176.494099</td>\n",
       "      <td>2.939838</td>\n",
       "    </tr>\n",
       "    <tr>\n",
       "      <th>4</th>\n",
       "      <td>87.230433</td>\n",
       "      <td>33.453348</td>\n",
       "      <td>1.860913</td>\n",
       "      <td>1.456874</td>\n",
       "      <td>-1.564014</td>\n",
       "      <td>0.786887</td>\n",
       "      <td>1.219908</td>\n",
       "      <td>20.641066</td>\n",
       "      <td>-0.511831</td>\n",
       "      <td>1.158381</td>\n",
       "      <td>NaN</td>\n",
       "      <td>NaN</td>\n",
       "      <td>176.498388</td>\n",
       "      <td>2.941491</td>\n",
       "    </tr>\n",
       "    <tr>\n",
       "      <th>...</th>\n",
       "      <td>...</td>\n",
       "      <td>...</td>\n",
       "      <td>...</td>\n",
       "      <td>...</td>\n",
       "      <td>...</td>\n",
       "      <td>...</td>\n",
       "      <td>...</td>\n",
       "      <td>...</td>\n",
       "      <td>...</td>\n",
       "      <td>...</td>\n",
       "      <td>...</td>\n",
       "      <td>...</td>\n",
       "      <td>...</td>\n",
       "      <td>...</td>\n",
       "    </tr>\n",
       "    <tr>\n",
       "      <th>6069</th>\n",
       "      <td>87.320760</td>\n",
       "      <td>33.828774</td>\n",
       "      <td>-0.628429</td>\n",
       "      <td>0.326582</td>\n",
       "      <td>-3.598838</td>\n",
       "      <td>0.191014</td>\n",
       "      <td>1.750919</td>\n",
       "      <td>18.787428</td>\n",
       "      <td>0.081420</td>\n",
       "      <td>0.276054</td>\n",
       "      <td>NaN</td>\n",
       "      <td>NaN</td>\n",
       "      <td>176.214238</td>\n",
       "      <td>3.198571</td>\n",
       "    </tr>\n",
       "    <tr>\n",
       "      <th>6070</th>\n",
       "      <td>87.330545</td>\n",
       "      <td>33.835941</td>\n",
       "      <td>-1.222094</td>\n",
       "      <td>0.663814</td>\n",
       "      <td>-0.115180</td>\n",
       "      <td>0.423739</td>\n",
       "      <td>1.183416</td>\n",
       "      <td>20.060368</td>\n",
       "      <td>0.728896</td>\n",
       "      <td>0.660193</td>\n",
       "      <td>NaN</td>\n",
       "      <td>NaN</td>\n",
       "      <td>176.212244</td>\n",
       "      <td>3.209223</td>\n",
       "    </tr>\n",
       "    <tr>\n",
       "      <th>6071</th>\n",
       "      <td>87.313257</td>\n",
       "      <td>33.834235</td>\n",
       "      <td>-1.469287</td>\n",
       "      <td>0.028486</td>\n",
       "      <td>-6.169467</td>\n",
       "      <td>0.018967</td>\n",
       "      <td>1.172032</td>\n",
       "      <td>14.770940</td>\n",
       "      <td>1.534331</td>\n",
       "      <td>0.029045</td>\n",
       "      <td>85.089172</td>\n",
       "      <td>4.991741</td>\n",
       "      <td>176.206343</td>\n",
       "      <td>3.196017</td>\n",
       "    </tr>\n",
       "    <tr>\n",
       "      <th>6072</th>\n",
       "      <td>87.319390</td>\n",
       "      <td>33.834728</td>\n",
       "      <td>0.279634</td>\n",
       "      <td>0.161920</td>\n",
       "      <td>-3.343467</td>\n",
       "      <td>0.110808</td>\n",
       "      <td>1.631971</td>\n",
       "      <td>17.940723</td>\n",
       "      <td>0.896278</td>\n",
       "      <td>0.158167</td>\n",
       "      <td>NaN</td>\n",
       "      <td>NaN</td>\n",
       "      <td>176.208533</td>\n",
       "      <td>3.200644</td>\n",
       "    </tr>\n",
       "    <tr>\n",
       "      <th>6073</th>\n",
       "      <td>87.320906</td>\n",
       "      <td>33.832991</td>\n",
       "      <td>7.775927</td>\n",
       "      <td>1.475759</td>\n",
       "      <td>0.840649</td>\n",
       "      <td>1.183411</td>\n",
       "      <td>0.461332</td>\n",
       "      <td>20.731930</td>\n",
       "      <td>2.525422</td>\n",
       "      <td>2.385616</td>\n",
       "      <td>NaN</td>\n",
       "      <td>NaN</td>\n",
       "      <td>176.210673</td>\n",
       "      <td>3.200836</td>\n",
       "    </tr>\n",
       "  </tbody>\n",
       "</table>\n",
       "<p>6074 rows × 14 columns</p>\n",
       "</div>"
      ],
      "text/plain": [
       "             ra        dec      pmra  pmra_error     pmdec  pmdec_error  \\\n",
       "0     87.224207  33.455805 -0.703917    0.118271  0.738259     0.074669   \n",
       "1     87.227093  33.455440  0.031202    0.185179 -2.112879     0.108784   \n",
       "2     87.229275  33.459714  1.379497    0.250473 -0.023024     0.150118   \n",
       "3     87.226097  33.456176 -1.434581    0.312450 -4.094374     0.183870   \n",
       "4     87.230433  33.453348  1.860913    1.456874 -1.564014     0.786887   \n",
       "...         ...        ...       ...         ...       ...          ...   \n",
       "6069  87.320760  33.828774 -0.628429    0.326582 -3.598838     0.191014   \n",
       "6070  87.330545  33.835941 -1.222094    0.663814 -0.115180     0.423739   \n",
       "6071  87.313257  33.834235 -1.469287    0.028486 -6.169467     0.018967   \n",
       "6072  87.319390  33.834728  0.279634    0.161920 -3.343467     0.110808   \n",
       "6073  87.320906  33.832991  7.775927    1.475759  0.840649     1.183411   \n",
       "\n",
       "         bp_rp  phot_g_mean_mag  parallax  parallax_error  radial_velocity  \\\n",
       "0     1.166569        17.695787  0.448265        0.106945              NaN   \n",
       "1     1.408379        18.352535 -0.061034        0.167097              NaN   \n",
       "2     1.314184        18.875916 -0.003995        0.230471              NaN   \n",
       "3     1.481606        19.134420 -0.026084        0.292100              NaN   \n",
       "4     1.219908        20.641066 -0.511831        1.158381              NaN   \n",
       "...        ...              ...       ...             ...              ...   \n",
       "6069  1.750919        18.787428  0.081420        0.276054              NaN   \n",
       "6070  1.183416        20.060368  0.728896        0.660193              NaN   \n",
       "6071  1.172032        14.770940  1.534331        0.029045        85.089172   \n",
       "6072  1.631971        17.940723  0.896278        0.158167              NaN   \n",
       "6073  0.461332        20.731930  2.525422        2.385616              NaN   \n",
       "\n",
       "      radial_velocity_error           l         b  \n",
       "0                       NaN  176.493607  2.938294  \n",
       "1                       NaN  176.495158  2.940174  \n",
       "2                       NaN  176.492420  2.943929  \n",
       "3                       NaN  176.494099  2.939838  \n",
       "4                       NaN  176.498388  2.941491  \n",
       "...                     ...         ...       ...  \n",
       "6069                    NaN  176.214238  3.198571  \n",
       "6070                    NaN  176.212244  3.209223  \n",
       "6071               4.991741  176.206343  3.196017  \n",
       "6072                    NaN  176.208533  3.200644  \n",
       "6073                    NaN  176.210673  3.200836  \n",
       "\n",
       "[6074 rows x 14 columns]"
      ]
     },
     "execution_count": 13,
     "metadata": {},
     "output_type": "execute_result"
    }
   ],
   "source": [
    "df = data.to_pandas()\n",
    "df"
   ]
  },
  {
   "cell_type": "code",
   "execution_count": 14,
   "id": "f4e22590-990a-47cf-8a7e-d304c95fedd8",
   "metadata": {},
   "outputs": [
    {
     "data": {
      "text/html": [
       "<div>\n",
       "<style scoped>\n",
       "    .dataframe tbody tr th:only-of-type {\n",
       "        vertical-align: middle;\n",
       "    }\n",
       "\n",
       "    .dataframe tbody tr th {\n",
       "        vertical-align: top;\n",
       "    }\n",
       "\n",
       "    .dataframe thead th {\n",
       "        text-align: right;\n",
       "    }\n",
       "</style>\n",
       "<table border=\"1\" class=\"dataframe\">\n",
       "  <thead>\n",
       "    <tr style=\"text-align: right;\">\n",
       "      <th></th>\n",
       "      <th>ra</th>\n",
       "      <th>dec</th>\n",
       "      <th>pmra</th>\n",
       "      <th>pmra_error</th>\n",
       "      <th>pmdec</th>\n",
       "      <th>pmdec_error</th>\n",
       "      <th>bp_rp</th>\n",
       "      <th>phot_g_mean_mag</th>\n",
       "      <th>parallax</th>\n",
       "      <th>parallax_error</th>\n",
       "      <th>radial_velocity</th>\n",
       "      <th>radial_velocity_error</th>\n",
       "      <th>l</th>\n",
       "      <th>b</th>\n",
       "    </tr>\n",
       "  </thead>\n",
       "  <tbody>\n",
       "    <tr>\n",
       "      <th>0</th>\n",
       "      <td>87.224207</td>\n",
       "      <td>33.455805</td>\n",
       "      <td>-0.703917</td>\n",
       "      <td>0.118271</td>\n",
       "      <td>0.738259</td>\n",
       "      <td>0.074669</td>\n",
       "      <td>1.166569</td>\n",
       "      <td>17.695787</td>\n",
       "      <td>0.448265</td>\n",
       "      <td>0.106945</td>\n",
       "      <td>NaN</td>\n",
       "      <td>NaN</td>\n",
       "      <td>176.493607</td>\n",
       "      <td>2.938294</td>\n",
       "    </tr>\n",
       "    <tr>\n",
       "      <th>1</th>\n",
       "      <td>87.227093</td>\n",
       "      <td>33.455440</td>\n",
       "      <td>0.031202</td>\n",
       "      <td>0.185179</td>\n",
       "      <td>-2.112879</td>\n",
       "      <td>0.108784</td>\n",
       "      <td>1.408379</td>\n",
       "      <td>18.352535</td>\n",
       "      <td>-0.061034</td>\n",
       "      <td>0.167097</td>\n",
       "      <td>NaN</td>\n",
       "      <td>NaN</td>\n",
       "      <td>176.495158</td>\n",
       "      <td>2.940174</td>\n",
       "    </tr>\n",
       "    <tr>\n",
       "      <th>2</th>\n",
       "      <td>87.229275</td>\n",
       "      <td>33.459714</td>\n",
       "      <td>1.379497</td>\n",
       "      <td>0.250473</td>\n",
       "      <td>-0.023024</td>\n",
       "      <td>0.150118</td>\n",
       "      <td>1.314184</td>\n",
       "      <td>18.875916</td>\n",
       "      <td>-0.003995</td>\n",
       "      <td>0.230471</td>\n",
       "      <td>NaN</td>\n",
       "      <td>NaN</td>\n",
       "      <td>176.492420</td>\n",
       "      <td>2.943929</td>\n",
       "    </tr>\n",
       "    <tr>\n",
       "      <th>3</th>\n",
       "      <td>87.226097</td>\n",
       "      <td>33.456176</td>\n",
       "      <td>-1.434581</td>\n",
       "      <td>0.312450</td>\n",
       "      <td>-4.094374</td>\n",
       "      <td>0.183870</td>\n",
       "      <td>1.481606</td>\n",
       "      <td>19.134420</td>\n",
       "      <td>-0.026084</td>\n",
       "      <td>0.292100</td>\n",
       "      <td>NaN</td>\n",
       "      <td>NaN</td>\n",
       "      <td>176.494099</td>\n",
       "      <td>2.939838</td>\n",
       "    </tr>\n",
       "    <tr>\n",
       "      <th>4</th>\n",
       "      <td>87.230433</td>\n",
       "      <td>33.453348</td>\n",
       "      <td>1.860913</td>\n",
       "      <td>1.456874</td>\n",
       "      <td>-1.564014</td>\n",
       "      <td>0.786887</td>\n",
       "      <td>1.219908</td>\n",
       "      <td>20.641066</td>\n",
       "      <td>-0.511831</td>\n",
       "      <td>1.158381</td>\n",
       "      <td>NaN</td>\n",
       "      <td>NaN</td>\n",
       "      <td>176.498388</td>\n",
       "      <td>2.941491</td>\n",
       "    </tr>\n",
       "    <tr>\n",
       "      <th>...</th>\n",
       "      <td>...</td>\n",
       "      <td>...</td>\n",
       "      <td>...</td>\n",
       "      <td>...</td>\n",
       "      <td>...</td>\n",
       "      <td>...</td>\n",
       "      <td>...</td>\n",
       "      <td>...</td>\n",
       "      <td>...</td>\n",
       "      <td>...</td>\n",
       "      <td>...</td>\n",
       "      <td>...</td>\n",
       "      <td>...</td>\n",
       "      <td>...</td>\n",
       "    </tr>\n",
       "    <tr>\n",
       "      <th>6069</th>\n",
       "      <td>87.320760</td>\n",
       "      <td>33.828774</td>\n",
       "      <td>-0.628429</td>\n",
       "      <td>0.326582</td>\n",
       "      <td>-3.598838</td>\n",
       "      <td>0.191014</td>\n",
       "      <td>1.750919</td>\n",
       "      <td>18.787428</td>\n",
       "      <td>0.081420</td>\n",
       "      <td>0.276054</td>\n",
       "      <td>NaN</td>\n",
       "      <td>NaN</td>\n",
       "      <td>176.214238</td>\n",
       "      <td>3.198571</td>\n",
       "    </tr>\n",
       "    <tr>\n",
       "      <th>6070</th>\n",
       "      <td>87.330545</td>\n",
       "      <td>33.835941</td>\n",
       "      <td>-1.222094</td>\n",
       "      <td>0.663814</td>\n",
       "      <td>-0.115180</td>\n",
       "      <td>0.423739</td>\n",
       "      <td>1.183416</td>\n",
       "      <td>20.060368</td>\n",
       "      <td>0.728896</td>\n",
       "      <td>0.660193</td>\n",
       "      <td>NaN</td>\n",
       "      <td>NaN</td>\n",
       "      <td>176.212244</td>\n",
       "      <td>3.209223</td>\n",
       "    </tr>\n",
       "    <tr>\n",
       "      <th>6071</th>\n",
       "      <td>87.313257</td>\n",
       "      <td>33.834235</td>\n",
       "      <td>-1.469287</td>\n",
       "      <td>0.028486</td>\n",
       "      <td>-6.169467</td>\n",
       "      <td>0.018967</td>\n",
       "      <td>1.172032</td>\n",
       "      <td>14.770940</td>\n",
       "      <td>1.534331</td>\n",
       "      <td>0.029045</td>\n",
       "      <td>85.089172</td>\n",
       "      <td>4.991741</td>\n",
       "      <td>176.206343</td>\n",
       "      <td>3.196017</td>\n",
       "    </tr>\n",
       "    <tr>\n",
       "      <th>6072</th>\n",
       "      <td>87.319390</td>\n",
       "      <td>33.834728</td>\n",
       "      <td>0.279634</td>\n",
       "      <td>0.161920</td>\n",
       "      <td>-3.343467</td>\n",
       "      <td>0.110808</td>\n",
       "      <td>1.631971</td>\n",
       "      <td>17.940723</td>\n",
       "      <td>0.896278</td>\n",
       "      <td>0.158167</td>\n",
       "      <td>NaN</td>\n",
       "      <td>NaN</td>\n",
       "      <td>176.208533</td>\n",
       "      <td>3.200644</td>\n",
       "    </tr>\n",
       "    <tr>\n",
       "      <th>6073</th>\n",
       "      <td>87.320906</td>\n",
       "      <td>33.832991</td>\n",
       "      <td>7.775927</td>\n",
       "      <td>1.475759</td>\n",
       "      <td>0.840649</td>\n",
       "      <td>1.183411</td>\n",
       "      <td>0.461332</td>\n",
       "      <td>20.731930</td>\n",
       "      <td>2.525422</td>\n",
       "      <td>2.385616</td>\n",
       "      <td>NaN</td>\n",
       "      <td>NaN</td>\n",
       "      <td>176.210673</td>\n",
       "      <td>3.200836</td>\n",
       "    </tr>\n",
       "  </tbody>\n",
       "</table>\n",
       "<p>5348 rows × 14 columns</p>\n",
       "</div>"
      ],
      "text/plain": [
       "             ra        dec      pmra  pmra_error     pmdec  pmdec_error  \\\n",
       "0     87.224207  33.455805 -0.703917    0.118271  0.738259     0.074669   \n",
       "1     87.227093  33.455440  0.031202    0.185179 -2.112879     0.108784   \n",
       "2     87.229275  33.459714  1.379497    0.250473 -0.023024     0.150118   \n",
       "3     87.226097  33.456176 -1.434581    0.312450 -4.094374     0.183870   \n",
       "4     87.230433  33.453348  1.860913    1.456874 -1.564014     0.786887   \n",
       "...         ...        ...       ...         ...       ...          ...   \n",
       "6069  87.320760  33.828774 -0.628429    0.326582 -3.598838     0.191014   \n",
       "6070  87.330545  33.835941 -1.222094    0.663814 -0.115180     0.423739   \n",
       "6071  87.313257  33.834235 -1.469287    0.028486 -6.169467     0.018967   \n",
       "6072  87.319390  33.834728  0.279634    0.161920 -3.343467     0.110808   \n",
       "6073  87.320906  33.832991  7.775927    1.475759  0.840649     1.183411   \n",
       "\n",
       "         bp_rp  phot_g_mean_mag  parallax  parallax_error  radial_velocity  \\\n",
       "0     1.166569        17.695787  0.448265        0.106945              NaN   \n",
       "1     1.408379        18.352535 -0.061034        0.167097              NaN   \n",
       "2     1.314184        18.875916 -0.003995        0.230471              NaN   \n",
       "3     1.481606        19.134420 -0.026084        0.292100              NaN   \n",
       "4     1.219908        20.641066 -0.511831        1.158381              NaN   \n",
       "...        ...              ...       ...             ...              ...   \n",
       "6069  1.750919        18.787428  0.081420        0.276054              NaN   \n",
       "6070  1.183416        20.060368  0.728896        0.660193              NaN   \n",
       "6071  1.172032        14.770940  1.534331        0.029045        85.089172   \n",
       "6072  1.631971        17.940723  0.896278        0.158167              NaN   \n",
       "6073  0.461332        20.731930  2.525422        2.385616              NaN   \n",
       "\n",
       "      radial_velocity_error           l         b  \n",
       "0                       NaN  176.493607  2.938294  \n",
       "1                       NaN  176.495158  2.940174  \n",
       "2                       NaN  176.492420  2.943929  \n",
       "3                       NaN  176.494099  2.939838  \n",
       "4                       NaN  176.498388  2.941491  \n",
       "...                     ...         ...       ...  \n",
       "6069                    NaN  176.214238  3.198571  \n",
       "6070                    NaN  176.212244  3.209223  \n",
       "6071               4.991741  176.206343  3.196017  \n",
       "6072                    NaN  176.208533  3.200644  \n",
       "6073                    NaN  176.210673  3.200836  \n",
       "\n",
       "[5348 rows x 14 columns]"
      ]
     },
     "execution_count": 14,
     "metadata": {},
     "output_type": "execute_result"
    }
   ],
   "source": [
    "ndf = df.dropna(how='any',subset=['pmra', 'pmdec', 'parallax'])\n",
    "ndf"
   ]
  },
  {
   "cell_type": "code",
   "execution_count": 15,
   "id": "dbfe725e-20ff-4e04-9726-a5c418f94f2e",
   "metadata": {},
   "outputs": [
    {
     "data": {
      "text/plain": [
       "<matplotlib.collections.PathCollection at 0x7fd9a23643a0>"
      ]
     },
     "execution_count": 15,
     "metadata": {},
     "output_type": "execute_result"
    },
    {
     "data": {
      "image/png": "[encoded data removed]",
      "text/plain": [
       "<Figure size 432x288 with 1 Axes>"
      ]
     },
     "metadata": {
      "needs_background": "light"
     },
     "output_type": "display_data"
    }
   ],
   "source": [
    "plt.scatter(ndf['pmra'],ndf['pmdec'])"
   ]
  },
  {
   "cell_type": "code",
   "execution_count": 16,
   "id": "1bfb872b-a227-4a97-a524-518c48fb68dc",
   "metadata": {},
   "outputs": [],
   "source": [
    "x = ndf['pmra']\n",
    "y = ndf['pmdec']"
   ]
  },
  {
   "cell_type": "code",
   "execution_count": 17,
   "id": "6d021de0-2c20-462f-a02a-4c0808ab75ce",
   "metadata": {},
   "outputs": [],
   "source": [
    "from sklearn.cluster import DBSCAN\n",
    "from sklearn.metrics import silhouette_score\n",
    "from sklearn.metrics import v_measure_score\n",
    "from sklearn.preprocessing import StandardScaler"
   ]
  },
  {
   "cell_type": "code",
   "execution_count": 18,
   "id": "7a830cf8-7185-4ced-909e-0e9d60d140b5",
   "metadata": {},
   "outputs": [],
   "source": [
    "X = np.dstack((ndf['pmra'],ndf['pmdec']))[0]\n",
    "jpt = np.dstack((ndf['pmra'],ndf['pmdec'],ndf['b'],ndf['l'],ndf['parallax']))[0]\n",
    "#X = StandardScaler().fit_transform(Xis)"
   ]
  },
  {
   "cell_type": "code",
   "execution_count": 19,
   "id": "2cdd99c4-8a08-4c06-94fe-900497cd79ce",
   "metadata": {},
   "outputs": [
    {
     "name": "stdout",
     "output_type": "stream",
     "text": [
      "0.2009747903803281\n"
     ]
    },
    {
     "data": {
      "text/plain": [
       "<Figure size 360x360 with 0 Axes>"
      ]
     },
     "metadata": {},
     "output_type": "display_data"
    },
    {
     "data": {
      "image/png": "[encoded data removed]",
      "text/plain": [
       "<Figure size 432x432 with 1 Axes>"
      ]
     },
     "metadata": {
      "needs_background": "light"
     },
     "output_type": "display_data"
    }
   ],
   "source": [
    "from sklearn.neighbors import NearestNeighbors\n",
    "vizinhos = np.sqrt(len(data)).astype(int)\n",
    "nn = NearestNeighbors(n_neighbors=vizinhos).fit(X)\n",
    "distances, indices = nn.kneighbors(X)\n",
    "\n",
    "distances = np.sort(distances, axis=0)\n",
    "distances = distances[:,1]\n",
    "\n",
    "from kneed import KneeLocator\n",
    "i = np.arange(len(distances))\n",
    "knee = KneeLocator(i, distances, S=1, curve='convex', direction='increasing', interp_method='polynomial')\n",
    "fig = plt.figure(figsize=(5, 5))\n",
    "knee.plot_knee()\n",
    "plt.xlabel(\"Points\")\n",
    "plt.ylabel(\"Distance\")\n",
    "\n",
    "\n",
    "eps_opt = distances[knee.knee]\n",
    "nmin = int(0.005*len(data))\n",
    "print(distances[knee.knee])"
   ]
  },
  {
   "cell_type": "code",
   "execution_count": 20,
   "id": "0e6552b0-ef23-45f9-b6d8-b62f73263d91",
   "metadata": {},
   "outputs": [
    {
     "name": "stdout",
     "output_type": "stream",
     "text": [
      "Estimated no. of clusters: 1\n",
      "Estimated no. of noise points: 5059\n",
      "Estimated no. points clustered: 289\n"
     ]
    },
    {
     "data": {
      "text/plain": [
       "Text(0, 0.5, '$x_2$')"
      ]
     },
     "execution_count": 20,
     "metadata": {},
     "output_type": "execute_result"
    },
    {
     "data": {
      "image/png": "[encoded data removed]",
      "text/plain": [
       "<Figure size 432x288 with 1 Axes>"
      ]
     },
     "metadata": {
      "needs_background": "light"
     },
     "output_type": "display_data"
    }
   ],
   "source": [
    "jpt = np.dstack((ndf['pmra'],ndf['pmdec'],ndf['b'],ndf['l'],ndf['parallax']))[0]\n",
    "db = DBSCAN(eps=eps_opt, min_samples=nmin).fit(jpt)\n",
    "core_samples_mask = np.zeros_like(db.labels_, dtype=bool)\n",
    "core_samples_mask[db.core_sample_indices_] = True\n",
    "labels = db.labels_\n",
    "\n",
    "N_clus=len(set(labels))-(1 if -1 in labels else 0)\n",
    "print('Estimated no. of clusters: %d' % N_clus)\n",
    "\n",
    "n_noise = list(db.labels_).count(-1)\n",
    "print('Estimated no. of noise points: %d' % n_noise)\n",
    "\n",
    "n_in = list(db.labels_).count(0)\n",
    "print('Estimated no. points clustered: %d' % n_in)\n",
    "\n",
    "plt.scatter(X[:, 0], \n",
    "            X[:, 1], \n",
    "            c=db.labels_, \n",
    "            label=y)\n",
    "plt.xlabel(\"$x_1$\")\n",
    "plt.ylabel(\"$x_2$\")"
   ]
  },
  {
   "cell_type": "code",
   "execution_count": 21,
   "id": "3f5dd7c8-6445-4acd-b226-c3d6e97efea7",
   "metadata": {},
   "outputs": [
    {
     "data": {
      "image/png": "[encoded data removed]",
      "text/plain": [
       "<Figure size 432x288 with 2 Axes>"
      ]
     },
     "metadata": {
      "needs_background": "light"
     },
     "output_type": "display_data"
    }
   ],
   "source": [
    "pontos_cluster = np.empty((0,2))\n",
    "for i in range(len(X)):\n",
    "    if labels[i]==0:\n",
    "        pontos_cluster = np.append(pontos_cluster, np.array([X[i]]), axis  = 0) #problema no formato do array para dar append\n",
    "    else:\n",
    "        continue\n",
    "\n",
    "xin,yin = pontos_cluster.T\n",
    "\n",
    "pontos_cluster = np.empty((0,2))\n",
    "for i in range(len(X)):\n",
    "    if labels[i]==-1:\n",
    "        pontos_cluster = np.append(pontos_cluster, np.array([X[i]]), axis  = 0) #problema no formato do array para dar append\n",
    "    else:\n",
    "        continue\n",
    "\n",
    "\n",
    "xout, yout = pontos_cluster.T\n",
    "\n",
    "\n",
    "fig, ax = plt.subplots(1,2)\n",
    "ax[0].scatter(xin,yin, color = 'k', zorder = 100)\n",
    "ax[0].scatter(xout,yout, color = 'red')\n",
    "\n",
    "len(xin), len(xout)\n",
    "\n",
    "subset = ndf[ndf['pmra'].isin(xin) & ndf['pmdec'].isin(yin)]\n",
    "\n",
    "ax[1].scatter(subset['bp_rp'],subset['phot_g_mean_mag'])\n",
    "plt.gca().invert_yaxis()"
   ]
  },
  {
   "cell_type": "code",
   "execution_count": 22,
   "id": "0aa368ca-3e4e-4d8f-b250-464c9de9bbbb",
   "metadata": {},
   "outputs": [
    {
     "data": {
      "image/png": "[encoded data removed]",
      "text/plain": [
       "<Figure size 360x576 with 1 Axes>"
      ]
     },
     "metadata": {
      "needs_background": "light"
     },
     "output_type": "display_data"
    }
   ],
   "source": [
    "subset = ndf[ndf['pmra'].isin(xin) & ndf['pmdec'].isin(yin)]\n",
    "\n",
    "plt.figure(figsize=(5,8))\n",
    "plt.scatter(subset['bp_rp'],subset['phot_g_mean_mag'])\n",
    "plt.gca().invert_yaxis()"
   ]
  },
  {
   "cell_type": "code",
   "execution_count": 23,
   "id": "34b7aeb3-6916-43fd-8b27-f8160b642018",
   "metadata": {},
   "outputs": [
    {
     "data": {
      "text/plain": [
       "<matplotlib.collections.PathCollection at 0x7fd99deb2eb0>"
      ]
     },
     "execution_count": 23,
     "metadata": {},
     "output_type": "execute_result"
    },
    {
     "data": {
      "image/png": "[encoded data removed]",
      "text/plain": [
       "<Figure size 432x288 with 1 Axes>"
      ]
     },
     "metadata": {
      "needs_background": "light"
     },
     "output_type": "display_data"
    }
   ],
   "source": [
    "plt.scatter(subset['parallax_error'],subset['parallax'])"
   ]
  },
  {
   "cell_type": "code",
   "execution_count": null,
   "id": "40118a7a-2fff-4128-a1fe-379b764af944",
   "metadata": {},
   "outputs": [],
   "source": []
  }
 ],
 "metadata": {
  "kernelspec": {
   "display_name": "Python 3 (ipykernel)",
   "language": "python",
   "name": "python3"
  },
  "language_info": {
   "codemirror_mode": {
    "name": "ipython",
    "version": 3
   },
   "file_extension": ".py",
   "mimetype": "text/x-python",
   "name": "python",
   "nbconvert_exporter": "python",
   "pygments_lexer": "ipython3",
   "version": "3.9.7"
  }
 },
 "nbformat": 4,
 "nbformat_minor": 5
}
