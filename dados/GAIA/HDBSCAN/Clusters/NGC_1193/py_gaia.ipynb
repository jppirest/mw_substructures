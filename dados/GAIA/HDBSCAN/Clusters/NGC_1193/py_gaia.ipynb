{
 "cells": [
  {
   "cell_type": "code",
   "execution_count": 1,
   "id": "3521cdea-429b-4991-bb30-48131d9ae7f7",
   "metadata": {},
   "outputs": [],
   "source": [
    "import numpy as np\n",
    "import pandas as pd\n",
    "import matplotlib.pyplot as plt\n",
    "from astroquery.gaia import Gaia\n",
    "import astropy"
   ]
  },
  {
   "cell_type": "code",
   "execution_count": 2,
   "id": "4a9c50d7-79dd-466d-8641-d83b7861ebc6",
   "metadata": {},
   "outputs": [],
   "source": [
    "## CASO CRITICO"
   ]
  },
  {
   "cell_type": "code",
   "execution_count": 3,
   "id": "6530e5b6-fa2e-487a-9762-58f002959899",
   "metadata": {},
   "outputs": [],
   "source": [
    "#from platform import python_version\n",
    "#python_version()"
   ]
  },
  {
   "cell_type": "code",
   "execution_count": 4,
   "id": "934ffd11-422a-4df1-b8e7-46169aeacc68",
   "metadata": {},
   "outputs": [],
   "source": [
    "plt.rc('xtick', labelsize=12)\n",
    "plt.rc('ytick', labelsize=12)\n",
    "plt.rcParams['axes.linewidth'] = 1.0\n",
    "\n",
    "\n",
    "font = {'family' : 'serif',\n",
    "        'weight' : 'normal',\n",
    "        'size'   : 13}\n",
    "\n",
    "plt.rc('font', **font)"
   ]
  },
  {
   "cell_type": "markdown",
   "id": "3bfeb1e8-4664-4b44-88a1-f3a2343ec347",
   "metadata": {},
   "source": [
    "## Getting the directory name"
   ]
  },
  {
   "cell_type": "code",
   "execution_count": 5,
   "id": "a49442e6-8751-480c-8bc2-b1c80196ac26",
   "metadata": {},
   "outputs": [
    {
     "data": {
      "text/plain": [
       "'NGC_1193'"
      ]
     },
     "execution_count": 5,
     "metadata": {},
     "output_type": "execute_result"
    }
   ],
   "source": [
    "import os\n",
    "directory_path = os.getcwd()\n",
    "nome_aglo = directory_path.split('/')[-1]\n",
    "nome_aglo"
   ]
  },
  {
   "cell_type": "markdown",
   "id": "c5aea3ad-6db9-4640-8fbe-b90543ea609e",
   "metadata": {},
   "source": [
    "## Getting RA&DEC from Bica 2019"
   ]
  },
  {
   "cell_type": "code",
   "execution_count": 6,
   "id": "f8abc363-cd00-4137-9be0-7cfc139a62e6",
   "metadata": {},
   "outputs": [
    {
     "data": {
      "text/plain": [
       "(46.4875, 44.3825)"
      ]
     },
     "execution_count": 6,
     "metadata": {},
     "output_type": "execute_result"
    }
   ],
   "source": [
    "df = pd.read_csv('../../lista.txt', comment= '#')\n",
    "ra, dec = df.loc[df['Nome'] == nome_aglo]['_RAJ2000'].values[0], df.loc[df['Nome'] == nome_aglo]['_DEJ2000'].values[0]\n",
    "ra, dec"
   ]
  },
  {
   "cell_type": "markdown",
   "id": "993b13b4-df7e-4f36-a5e2-ac847404380d",
   "metadata": {},
   "source": [
    "## Querying the data"
   ]
  },
  {
   "cell_type": "code",
   "execution_count": 7,
   "id": "74028be2-edac-4384-9832-528bb78d6e2e",
   "metadata": {},
   "outputs": [
    {
     "name": "stdout",
     "output_type": "stream",
     "text": [
      "INFO: Retrieving tables... [astroquery.utils.tap.core]\n",
      "INFO: Parsing tables... [astroquery.utils.tap.core]\n",
      "INFO: Done. [astroquery.utils.tap.core]\n"
     ]
    }
   ],
   "source": [
    "tables = Gaia.load_tables(only_names=True)"
   ]
  },
  {
   "cell_type": "code",
   "execution_count": 8,
   "id": "b4824134-51b9-43ec-8ccb-be7659e74477",
   "metadata": {},
   "outputs": [
    {
     "name": "stdout",
     "output_type": "stream",
     "text": [
      "Retrieving table 'gaiadr3.gaia_source'\n"
     ]
    },
    {
     "data": {
      "text/plain": [
       "<astroquery.utils.tap.model.taptable.TapTableMeta at 0x7fa65f70e2b0>"
      ]
     },
     "execution_count": 8,
     "metadata": {},
     "output_type": "execute_result"
    }
   ],
   "source": [
    "meta = Gaia.load_table('gaiadr3.gaia_source')\n",
    "meta"
   ]
  },
  {
   "cell_type": "code",
   "execution_count": 9,
   "id": "0cd0c50b-6020-4c1b-846d-3d0e0d6d8adb",
   "metadata": {},
   "outputs": [],
   "source": [
    "query = \"\"\"SELECT \n",
    "ra, dec, pmra, pmra_error, pmdec, pmdec_error, bp_rp, phot_g_mean_mag, parallax, parallax_error, radial_velocity, radial_velocity_error, l,b\n",
    "FROM gaiadr3.gaia_source\n",
    "WHERE 1=CONTAINS(POINT('ICRS',ra,dec),\n",
    "CIRCLE('ICRS', \"\"\" +  str(ra) + ',' + str(dec) + ',' + ' 0.2))'"
   ]
  },
  {
   "cell_type": "code",
   "execution_count": 10,
   "id": "3bde5f58-6e4f-46b6-8fa6-f28b0a206b6d",
   "metadata": {},
   "outputs": [
    {
     "name": "stdout",
     "output_type": "stream",
     "text": [
      "INFO: Query finished. [astroquery.utils.tap.core]\n"
     ]
    },
    {
     "data": {
      "text/plain": [
       "<astroquery.utils.tap.model.job.Job at 0x7fa65f6ac3a0>"
      ]
     },
     "execution_count": 10,
     "metadata": {},
     "output_type": "execute_result"
    }
   ],
   "source": [
    "job = Gaia.launch_job_async(query)\n",
    "job"
   ]
  },
  {
   "cell_type": "code",
   "execution_count": 11,
   "id": "ce6031ad-1c30-44ba-af5f-2cb4ed81704d",
   "metadata": {},
   "outputs": [
    {
     "data": {
      "text/plain": [
       "3853"
      ]
     },
     "execution_count": 11,
     "metadata": {},
     "output_type": "execute_result"
    }
   ],
   "source": [
    "data = job.get_results()\n",
    "len(data)"
   ]
  },
  {
   "cell_type": "code",
   "execution_count": 12,
   "id": "a7b69784-84b8-4ff5-8739-96de5fc6c268",
   "metadata": {},
   "outputs": [],
   "source": [
    "#data"
   ]
  },
  {
   "cell_type": "markdown",
   "id": "b1efab4c-c343-42c0-9848-7c85c998ae55",
   "metadata": {},
   "source": [
    "## Converting to pandas"
   ]
  },
  {
   "cell_type": "code",
   "execution_count": 13,
   "id": "76000902-fd33-4bc1-bfa2-5dc9f2381477",
   "metadata": {},
   "outputs": [
    {
     "data": {
      "text/html": [
       "<div>\n",
       "<style scoped>\n",
       "    .dataframe tbody tr th:only-of-type {\n",
       "        vertical-align: middle;\n",
       "    }\n",
       "\n",
       "    .dataframe tbody tr th {\n",
       "        vertical-align: top;\n",
       "    }\n",
       "\n",
       "    .dataframe thead th {\n",
       "        text-align: right;\n",
       "    }\n",
       "</style>\n",
       "<table border=\"1\" class=\"dataframe\">\n",
       "  <thead>\n",
       "    <tr style=\"text-align: right;\">\n",
       "      <th></th>\n",
       "      <th>ra</th>\n",
       "      <th>dec</th>\n",
       "      <th>pmra</th>\n",
       "      <th>pmra_error</th>\n",
       "      <th>pmdec</th>\n",
       "      <th>pmdec_error</th>\n",
       "      <th>bp_rp</th>\n",
       "      <th>phot_g_mean_mag</th>\n",
       "      <th>parallax</th>\n",
       "      <th>parallax_error</th>\n",
       "      <th>radial_velocity</th>\n",
       "      <th>radial_velocity_error</th>\n",
       "      <th>l</th>\n",
       "      <th>b</th>\n",
       "    </tr>\n",
       "  </thead>\n",
       "  <tbody>\n",
       "    <tr>\n",
       "      <th>0</th>\n",
       "      <td>46.471517</td>\n",
       "      <td>44.381745</td>\n",
       "      <td>-0.454265</td>\n",
       "      <td>0.177319</td>\n",
       "      <td>-0.458623</td>\n",
       "      <td>0.149244</td>\n",
       "      <td>0.982708</td>\n",
       "      <td>17.957468</td>\n",
       "      <td>0.162133</td>\n",
       "      <td>0.173363</td>\n",
       "      <td>NaN</td>\n",
       "      <td>NaN</td>\n",
       "      <td>146.805833</td>\n",
       "      <td>-12.168733</td>\n",
       "    </tr>\n",
       "    <tr>\n",
       "      <th>1</th>\n",
       "      <td>46.471489</td>\n",
       "      <td>44.381108</td>\n",
       "      <td>-0.759272</td>\n",
       "      <td>0.431368</td>\n",
       "      <td>-0.247226</td>\n",
       "      <td>0.370310</td>\n",
       "      <td>NaN</td>\n",
       "      <td>19.435232</td>\n",
       "      <td>0.059291</td>\n",
       "      <td>0.431479</td>\n",
       "      <td>NaN</td>\n",
       "      <td>NaN</td>\n",
       "      <td>146.806144</td>\n",
       "      <td>-12.169294</td>\n",
       "    </tr>\n",
       "    <tr>\n",
       "      <th>2</th>\n",
       "      <td>46.548636</td>\n",
       "      <td>44.391832</td>\n",
       "      <td>-0.599160</td>\n",
       "      <td>0.374998</td>\n",
       "      <td>-0.466402</td>\n",
       "      <td>0.347543</td>\n",
       "      <td>1.082733</td>\n",
       "      <td>19.207121</td>\n",
       "      <td>-0.365602</td>\n",
       "      <td>0.389109</td>\n",
       "      <td>NaN</td>\n",
       "      <td>NaN</td>\n",
       "      <td>146.849304</td>\n",
       "      <td>-12.132222</td>\n",
       "    </tr>\n",
       "    <tr>\n",
       "      <th>3</th>\n",
       "      <td>46.471235</td>\n",
       "      <td>44.462074</td>\n",
       "      <td>0.189591</td>\n",
       "      <td>0.435249</td>\n",
       "      <td>0.183596</td>\n",
       "      <td>0.327428</td>\n",
       "      <td>0.998032</td>\n",
       "      <td>19.306030</td>\n",
       "      <td>0.536549</td>\n",
       "      <td>0.390927</td>\n",
       "      <td>NaN</td>\n",
       "      <td>NaN</td>\n",
       "      <td>146.764250</td>\n",
       "      <td>-12.099451</td>\n",
       "    </tr>\n",
       "    <tr>\n",
       "      <th>4</th>\n",
       "      <td>46.489596</td>\n",
       "      <td>44.182782</td>\n",
       "      <td>1.909902</td>\n",
       "      <td>0.330896</td>\n",
       "      <td>-4.518007</td>\n",
       "      <td>0.247949</td>\n",
       "      <td>1.423162</td>\n",
       "      <td>18.954556</td>\n",
       "      <td>0.572309</td>\n",
       "      <td>0.325889</td>\n",
       "      <td>NaN</td>\n",
       "      <td>NaN</td>\n",
       "      <td>146.919939</td>\n",
       "      <td>-12.334021</td>\n",
       "    </tr>\n",
       "    <tr>\n",
       "      <th>...</th>\n",
       "      <td>...</td>\n",
       "      <td>...</td>\n",
       "      <td>...</td>\n",
       "      <td>...</td>\n",
       "      <td>...</td>\n",
       "      <td>...</td>\n",
       "      <td>...</td>\n",
       "      <td>...</td>\n",
       "      <td>...</td>\n",
       "      <td>...</td>\n",
       "      <td>...</td>\n",
       "      <td>...</td>\n",
       "      <td>...</td>\n",
       "      <td>...</td>\n",
       "    </tr>\n",
       "    <tr>\n",
       "      <th>3848</th>\n",
       "      <td>46.424629</td>\n",
       "      <td>44.567425</td>\n",
       "      <td>5.336484</td>\n",
       "      <td>0.692644</td>\n",
       "      <td>4.126839</td>\n",
       "      <td>0.554948</td>\n",
       "      <td>2.218340</td>\n",
       "      <td>19.902195</td>\n",
       "      <td>0.358443</td>\n",
       "      <td>0.632770</td>\n",
       "      <td>NaN</td>\n",
       "      <td>NaN</td>\n",
       "      <td>146.680648</td>\n",
       "      <td>-12.025159</td>\n",
       "    </tr>\n",
       "    <tr>\n",
       "      <th>3849</th>\n",
       "      <td>46.421313</td>\n",
       "      <td>44.572815</td>\n",
       "      <td>0.041044</td>\n",
       "      <td>0.201518</td>\n",
       "      <td>-0.150507</td>\n",
       "      <td>0.176451</td>\n",
       "      <td>0.969128</td>\n",
       "      <td>18.362976</td>\n",
       "      <td>-0.211563</td>\n",
       "      <td>0.191661</td>\n",
       "      <td>NaN</td>\n",
       "      <td>NaN</td>\n",
       "      <td>146.675788</td>\n",
       "      <td>-12.021689</td>\n",
       "    </tr>\n",
       "    <tr>\n",
       "      <th>3850</th>\n",
       "      <td>46.440218</td>\n",
       "      <td>44.577141</td>\n",
       "      <td>13.130237</td>\n",
       "      <td>0.158945</td>\n",
       "      <td>-1.910616</td>\n",
       "      <td>0.143520</td>\n",
       "      <td>2.006153</td>\n",
       "      <td>17.940781</td>\n",
       "      <td>0.870987</td>\n",
       "      <td>0.154310</td>\n",
       "      <td>NaN</td>\n",
       "      <td>NaN</td>\n",
       "      <td>146.685462</td>\n",
       "      <td>-12.011175</td>\n",
       "    </tr>\n",
       "    <tr>\n",
       "      <th>3851</th>\n",
       "      <td>46.346910</td>\n",
       "      <td>44.551719</td>\n",
       "      <td>0.205442</td>\n",
       "      <td>0.150040</td>\n",
       "      <td>0.173386</td>\n",
       "      <td>0.127686</td>\n",
       "      <td>1.212809</td>\n",
       "      <td>17.795918</td>\n",
       "      <td>0.349059</td>\n",
       "      <td>0.131947</td>\n",
       "      <td>NaN</td>\n",
       "      <td>NaN</td>\n",
       "      <td>146.639770</td>\n",
       "      <td>-12.066571</td>\n",
       "    </tr>\n",
       "    <tr>\n",
       "      <th>3852</th>\n",
       "      <td>46.348705</td>\n",
       "      <td>44.553545</td>\n",
       "      <td>0.136997</td>\n",
       "      <td>0.308067</td>\n",
       "      <td>0.332473</td>\n",
       "      <td>0.254549</td>\n",
       "      <td>1.385244</td>\n",
       "      <td>18.937258</td>\n",
       "      <td>0.513869</td>\n",
       "      <td>0.269546</td>\n",
       "      <td>NaN</td>\n",
       "      <td>NaN</td>\n",
       "      <td>146.639963</td>\n",
       "      <td>-12.064349</td>\n",
       "    </tr>\n",
       "  </tbody>\n",
       "</table>\n",
       "<p>3853 rows × 14 columns</p>\n",
       "</div>"
      ],
      "text/plain": [
       "             ra        dec       pmra  pmra_error     pmdec  pmdec_error  \\\n",
       "0     46.471517  44.381745  -0.454265    0.177319 -0.458623     0.149244   \n",
       "1     46.471489  44.381108  -0.759272    0.431368 -0.247226     0.370310   \n",
       "2     46.548636  44.391832  -0.599160    0.374998 -0.466402     0.347543   \n",
       "3     46.471235  44.462074   0.189591    0.435249  0.183596     0.327428   \n",
       "4     46.489596  44.182782   1.909902    0.330896 -4.518007     0.247949   \n",
       "...         ...        ...        ...         ...       ...          ...   \n",
       "3848  46.424629  44.567425   5.336484    0.692644  4.126839     0.554948   \n",
       "3849  46.421313  44.572815   0.041044    0.201518 -0.150507     0.176451   \n",
       "3850  46.440218  44.577141  13.130237    0.158945 -1.910616     0.143520   \n",
       "3851  46.346910  44.551719   0.205442    0.150040  0.173386     0.127686   \n",
       "3852  46.348705  44.553545   0.136997    0.308067  0.332473     0.254549   \n",
       "\n",
       "         bp_rp  phot_g_mean_mag  parallax  parallax_error  radial_velocity  \\\n",
       "0     0.982708        17.957468  0.162133        0.173363              NaN   \n",
       "1          NaN        19.435232  0.059291        0.431479              NaN   \n",
       "2     1.082733        19.207121 -0.365602        0.389109              NaN   \n",
       "3     0.998032        19.306030  0.536549        0.390927              NaN   \n",
       "4     1.423162        18.954556  0.572309        0.325889              NaN   \n",
       "...        ...              ...       ...             ...              ...   \n",
       "3848  2.218340        19.902195  0.358443        0.632770              NaN   \n",
       "3849  0.969128        18.362976 -0.211563        0.191661              NaN   \n",
       "3850  2.006153        17.940781  0.870987        0.154310              NaN   \n",
       "3851  1.212809        17.795918  0.349059        0.131947              NaN   \n",
       "3852  1.385244        18.937258  0.513869        0.269546              NaN   \n",
       "\n",
       "      radial_velocity_error           l          b  \n",
       "0                       NaN  146.805833 -12.168733  \n",
       "1                       NaN  146.806144 -12.169294  \n",
       "2                       NaN  146.849304 -12.132222  \n",
       "3                       NaN  146.764250 -12.099451  \n",
       "4                       NaN  146.919939 -12.334021  \n",
       "...                     ...         ...        ...  \n",
       "3848                    NaN  146.680648 -12.025159  \n",
       "3849                    NaN  146.675788 -12.021689  \n",
       "3850                    NaN  146.685462 -12.011175  \n",
       "3851                    NaN  146.639770 -12.066571  \n",
       "3852                    NaN  146.639963 -12.064349  \n",
       "\n",
       "[3853 rows x 14 columns]"
      ]
     },
     "execution_count": 13,
     "metadata": {},
     "output_type": "execute_result"
    }
   ],
   "source": [
    "df = data.to_pandas()\n",
    "df"
   ]
  },
  {
   "cell_type": "code",
   "execution_count": 14,
   "id": "01debe18-c72b-4585-a428-4246e3fc8d88",
   "metadata": {},
   "outputs": [
    {
     "data": {
      "text/plain": [
       "<matplotlib.collections.PathCollection at 0x7fa65f103340>"
      ]
     },
     "execution_count": 14,
     "metadata": {},
     "output_type": "execute_result"
    },
    {
     "data": {
      "image/png": "[encoded data removed]",
      "text/plain": [
       "<Figure size 432x288 with 2 Axes>"
      ]
     },
     "metadata": {
      "needs_background": "light"
     },
     "output_type": "display_data"
    }
   ],
   "source": [
    "fig, ax = plt.subplots(2)\n",
    "\n",
    "ax[0].scatter(df.pmra_error,df.pmra)\n",
    "ax[1].scatter(df.pmdec_error,df.pmdec)"
   ]
  },
  {
   "cell_type": "code",
   "execution_count": 15,
   "id": "f2c2c7c4-4e27-4177-9890-e3d89391a8d6",
   "metadata": {},
   "outputs": [
    {
     "name": "stdout",
     "output_type": "stream",
     "text": [
      "-1.8707659580758451 0.416542112827301\n",
      "0.7845183219914261 0.4813202917575836\n"
     ]
    }
   ],
   "source": [
    "print(np.mean(df.pmdec), np.mean(df.pmdec_error)) ## por que pmra tem um erro muito maior?\n",
    "print(np.mean(df.pmra), np.mean(df.pmra_error))"
   ]
  },
  {
   "cell_type": "markdown",
   "id": "3aa050ee-c336-4e0c-a20d-62e3113a0e64",
   "metadata": {},
   "source": [
    "## Dropping uknown values of pmra, pmdec or parallax."
   ]
  },
  {
   "cell_type": "code",
   "execution_count": 16,
   "id": "f4e22590-990a-47cf-8a7e-d304c95fedd8",
   "metadata": {},
   "outputs": [
    {
     "data": {
      "text/html": [
       "<div>\n",
       "<style scoped>\n",
       "    .dataframe tbody tr th:only-of-type {\n",
       "        vertical-align: middle;\n",
       "    }\n",
       "\n",
       "    .dataframe tbody tr th {\n",
       "        vertical-align: top;\n",
       "    }\n",
       "\n",
       "    .dataframe thead th {\n",
       "        text-align: right;\n",
       "    }\n",
       "</style>\n",
       "<table border=\"1\" class=\"dataframe\">\n",
       "  <thead>\n",
       "    <tr style=\"text-align: right;\">\n",
       "      <th></th>\n",
       "      <th>ra</th>\n",
       "      <th>dec</th>\n",
       "      <th>pmra</th>\n",
       "      <th>pmra_error</th>\n",
       "      <th>pmdec</th>\n",
       "      <th>pmdec_error</th>\n",
       "      <th>bp_rp</th>\n",
       "      <th>phot_g_mean_mag</th>\n",
       "      <th>parallax</th>\n",
       "      <th>parallax_error</th>\n",
       "      <th>radial_velocity</th>\n",
       "      <th>radial_velocity_error</th>\n",
       "      <th>l</th>\n",
       "      <th>b</th>\n",
       "    </tr>\n",
       "  </thead>\n",
       "  <tbody>\n",
       "    <tr>\n",
       "      <th>0</th>\n",
       "      <td>46.471517</td>\n",
       "      <td>44.381745</td>\n",
       "      <td>-0.454265</td>\n",
       "      <td>0.177319</td>\n",
       "      <td>-0.458623</td>\n",
       "      <td>0.149244</td>\n",
       "      <td>0.982708</td>\n",
       "      <td>17.957468</td>\n",
       "      <td>0.162133</td>\n",
       "      <td>0.173363</td>\n",
       "      <td>NaN</td>\n",
       "      <td>NaN</td>\n",
       "      <td>146.805833</td>\n",
       "      <td>-12.168733</td>\n",
       "    </tr>\n",
       "    <tr>\n",
       "      <th>1</th>\n",
       "      <td>46.471489</td>\n",
       "      <td>44.381108</td>\n",
       "      <td>-0.759272</td>\n",
       "      <td>0.431368</td>\n",
       "      <td>-0.247226</td>\n",
       "      <td>0.370310</td>\n",
       "      <td>NaN</td>\n",
       "      <td>19.435232</td>\n",
       "      <td>0.059291</td>\n",
       "      <td>0.431479</td>\n",
       "      <td>NaN</td>\n",
       "      <td>NaN</td>\n",
       "      <td>146.806144</td>\n",
       "      <td>-12.169294</td>\n",
       "    </tr>\n",
       "    <tr>\n",
       "      <th>2</th>\n",
       "      <td>46.548636</td>\n",
       "      <td>44.391832</td>\n",
       "      <td>-0.599160</td>\n",
       "      <td>0.374998</td>\n",
       "      <td>-0.466402</td>\n",
       "      <td>0.347543</td>\n",
       "      <td>1.082733</td>\n",
       "      <td>19.207121</td>\n",
       "      <td>-0.365602</td>\n",
       "      <td>0.389109</td>\n",
       "      <td>NaN</td>\n",
       "      <td>NaN</td>\n",
       "      <td>146.849304</td>\n",
       "      <td>-12.132222</td>\n",
       "    </tr>\n",
       "    <tr>\n",
       "      <th>3</th>\n",
       "      <td>46.471235</td>\n",
       "      <td>44.462074</td>\n",
       "      <td>0.189591</td>\n",
       "      <td>0.435249</td>\n",
       "      <td>0.183596</td>\n",
       "      <td>0.327428</td>\n",
       "      <td>0.998032</td>\n",
       "      <td>19.306030</td>\n",
       "      <td>0.536549</td>\n",
       "      <td>0.390927</td>\n",
       "      <td>NaN</td>\n",
       "      <td>NaN</td>\n",
       "      <td>146.764250</td>\n",
       "      <td>-12.099451</td>\n",
       "    </tr>\n",
       "    <tr>\n",
       "      <th>4</th>\n",
       "      <td>46.489596</td>\n",
       "      <td>44.182782</td>\n",
       "      <td>1.909902</td>\n",
       "      <td>0.330896</td>\n",
       "      <td>-4.518007</td>\n",
       "      <td>0.247949</td>\n",
       "      <td>1.423162</td>\n",
       "      <td>18.954556</td>\n",
       "      <td>0.572309</td>\n",
       "      <td>0.325889</td>\n",
       "      <td>NaN</td>\n",
       "      <td>NaN</td>\n",
       "      <td>146.919939</td>\n",
       "      <td>-12.334021</td>\n",
       "    </tr>\n",
       "    <tr>\n",
       "      <th>...</th>\n",
       "      <td>...</td>\n",
       "      <td>...</td>\n",
       "      <td>...</td>\n",
       "      <td>...</td>\n",
       "      <td>...</td>\n",
       "      <td>...</td>\n",
       "      <td>...</td>\n",
       "      <td>...</td>\n",
       "      <td>...</td>\n",
       "      <td>...</td>\n",
       "      <td>...</td>\n",
       "      <td>...</td>\n",
       "      <td>...</td>\n",
       "      <td>...</td>\n",
       "    </tr>\n",
       "    <tr>\n",
       "      <th>3848</th>\n",
       "      <td>46.424629</td>\n",
       "      <td>44.567425</td>\n",
       "      <td>5.336484</td>\n",
       "      <td>0.692644</td>\n",
       "      <td>4.126839</td>\n",
       "      <td>0.554948</td>\n",
       "      <td>2.218340</td>\n",
       "      <td>19.902195</td>\n",
       "      <td>0.358443</td>\n",
       "      <td>0.632770</td>\n",
       "      <td>NaN</td>\n",
       "      <td>NaN</td>\n",
       "      <td>146.680648</td>\n",
       "      <td>-12.025159</td>\n",
       "    </tr>\n",
       "    <tr>\n",
       "      <th>3849</th>\n",
       "      <td>46.421313</td>\n",
       "      <td>44.572815</td>\n",
       "      <td>0.041044</td>\n",
       "      <td>0.201518</td>\n",
       "      <td>-0.150507</td>\n",
       "      <td>0.176451</td>\n",
       "      <td>0.969128</td>\n",
       "      <td>18.362976</td>\n",
       "      <td>-0.211563</td>\n",
       "      <td>0.191661</td>\n",
       "      <td>NaN</td>\n",
       "      <td>NaN</td>\n",
       "      <td>146.675788</td>\n",
       "      <td>-12.021689</td>\n",
       "    </tr>\n",
       "    <tr>\n",
       "      <th>3850</th>\n",
       "      <td>46.440218</td>\n",
       "      <td>44.577141</td>\n",
       "      <td>13.130237</td>\n",
       "      <td>0.158945</td>\n",
       "      <td>-1.910616</td>\n",
       "      <td>0.143520</td>\n",
       "      <td>2.006153</td>\n",
       "      <td>17.940781</td>\n",
       "      <td>0.870987</td>\n",
       "      <td>0.154310</td>\n",
       "      <td>NaN</td>\n",
       "      <td>NaN</td>\n",
       "      <td>146.685462</td>\n",
       "      <td>-12.011175</td>\n",
       "    </tr>\n",
       "    <tr>\n",
       "      <th>3851</th>\n",
       "      <td>46.346910</td>\n",
       "      <td>44.551719</td>\n",
       "      <td>0.205442</td>\n",
       "      <td>0.150040</td>\n",
       "      <td>0.173386</td>\n",
       "      <td>0.127686</td>\n",
       "      <td>1.212809</td>\n",
       "      <td>17.795918</td>\n",
       "      <td>0.349059</td>\n",
       "      <td>0.131947</td>\n",
       "      <td>NaN</td>\n",
       "      <td>NaN</td>\n",
       "      <td>146.639770</td>\n",
       "      <td>-12.066571</td>\n",
       "    </tr>\n",
       "    <tr>\n",
       "      <th>3852</th>\n",
       "      <td>46.348705</td>\n",
       "      <td>44.553545</td>\n",
       "      <td>0.136997</td>\n",
       "      <td>0.308067</td>\n",
       "      <td>0.332473</td>\n",
       "      <td>0.254549</td>\n",
       "      <td>1.385244</td>\n",
       "      <td>18.937258</td>\n",
       "      <td>0.513869</td>\n",
       "      <td>0.269546</td>\n",
       "      <td>NaN</td>\n",
       "      <td>NaN</td>\n",
       "      <td>146.639963</td>\n",
       "      <td>-12.064349</td>\n",
       "    </tr>\n",
       "  </tbody>\n",
       "</table>\n",
       "<p>3425 rows × 14 columns</p>\n",
       "</div>"
      ],
      "text/plain": [
       "             ra        dec       pmra  pmra_error     pmdec  pmdec_error  \\\n",
       "0     46.471517  44.381745  -0.454265    0.177319 -0.458623     0.149244   \n",
       "1     46.471489  44.381108  -0.759272    0.431368 -0.247226     0.370310   \n",
       "2     46.548636  44.391832  -0.599160    0.374998 -0.466402     0.347543   \n",
       "3     46.471235  44.462074   0.189591    0.435249  0.183596     0.327428   \n",
       "4     46.489596  44.182782   1.909902    0.330896 -4.518007     0.247949   \n",
       "...         ...        ...        ...         ...       ...          ...   \n",
       "3848  46.424629  44.567425   5.336484    0.692644  4.126839     0.554948   \n",
       "3849  46.421313  44.572815   0.041044    0.201518 -0.150507     0.176451   \n",
       "3850  46.440218  44.577141  13.130237    0.158945 -1.910616     0.143520   \n",
       "3851  46.346910  44.551719   0.205442    0.150040  0.173386     0.127686   \n",
       "3852  46.348705  44.553545   0.136997    0.308067  0.332473     0.254549   \n",
       "\n",
       "         bp_rp  phot_g_mean_mag  parallax  parallax_error  radial_velocity  \\\n",
       "0     0.982708        17.957468  0.162133        0.173363              NaN   \n",
       "1          NaN        19.435232  0.059291        0.431479              NaN   \n",
       "2     1.082733        19.207121 -0.365602        0.389109              NaN   \n",
       "3     0.998032        19.306030  0.536549        0.390927              NaN   \n",
       "4     1.423162        18.954556  0.572309        0.325889              NaN   \n",
       "...        ...              ...       ...             ...              ...   \n",
       "3848  2.218340        19.902195  0.358443        0.632770              NaN   \n",
       "3849  0.969128        18.362976 -0.211563        0.191661              NaN   \n",
       "3850  2.006153        17.940781  0.870987        0.154310              NaN   \n",
       "3851  1.212809        17.795918  0.349059        0.131947              NaN   \n",
       "3852  1.385244        18.937258  0.513869        0.269546              NaN   \n",
       "\n",
       "      radial_velocity_error           l          b  \n",
       "0                       NaN  146.805833 -12.168733  \n",
       "1                       NaN  146.806144 -12.169294  \n",
       "2                       NaN  146.849304 -12.132222  \n",
       "3                       NaN  146.764250 -12.099451  \n",
       "4                       NaN  146.919939 -12.334021  \n",
       "...                     ...         ...        ...  \n",
       "3848                    NaN  146.680648 -12.025159  \n",
       "3849                    NaN  146.675788 -12.021689  \n",
       "3850                    NaN  146.685462 -12.011175  \n",
       "3851                    NaN  146.639770 -12.066571  \n",
       "3852                    NaN  146.639963 -12.064349  \n",
       "\n",
       "[3425 rows x 14 columns]"
      ]
     },
     "execution_count": 16,
     "metadata": {},
     "output_type": "execute_result"
    }
   ],
   "source": [
    "ndf = df.dropna(how='any',subset=['pmra', 'pmdec', 'parallax'])\n",
    "ndf"
   ]
  },
  {
   "cell_type": "code",
   "execution_count": 17,
   "id": "1bfb872b-a227-4a97-a524-518c48fb68dc",
   "metadata": {},
   "outputs": [],
   "source": [
    "x = ndf['pmra']\n",
    "y = ndf['pmdec']"
   ]
  },
  {
   "cell_type": "code",
   "execution_count": 18,
   "id": "6d021de0-2c20-462f-a02a-4c0808ab75ce",
   "metadata": {},
   "outputs": [],
   "source": [
    "from sklearn.cluster import DBSCAN\n",
    "from sklearn.metrics import silhouette_score\n",
    "from sklearn.metrics import v_measure_score\n",
    "from sklearn.preprocessing import StandardScaler"
   ]
  },
  {
   "cell_type": "markdown",
   "id": "d3186d14-8c30-4ca6-ab94-0af99cd3d674",
   "metadata": {},
   "source": [
    "## Creating the arrays to perform the 2-D KNN fit and 5-D DBSCAN fit"
   ]
  },
  {
   "cell_type": "code",
   "execution_count": 19,
   "id": "7a830cf8-7185-4ced-909e-0e9d60d140b5",
   "metadata": {},
   "outputs": [],
   "source": [
    "X = np.dstack((ndf['pmra'],ndf['pmdec']))[0]\n",
    "cincoD = np.dstack((ndf['pmra'],ndf['pmdec'],ndf['ra'],ndf['dec'],ndf['parallax']))[0]"
   ]
  },
  {
   "cell_type": "markdown",
   "id": "3b593589-3726-429a-9c40-0d6040312163",
   "metadata": {},
   "source": [
    "## Performing the KNN on the pmra and pmdec."
   ]
  },
  {
   "cell_type": "code",
   "execution_count": 43,
   "id": "35027b93-c16f-4894-9fa4-671649af27b6",
   "metadata": {},
   "outputs": [
    {
     "data": {
      "text/plain": [
       "(0.0, 3.0)"
      ]
     },
     "execution_count": 43,
     "metadata": {},
     "output_type": "execute_result"
    },
    {
     "data": {
      "image/png": "[encoded data removed]",
      "text/plain": [
       "<Figure size 432x288 with 1 Axes>"
      ]
     },
     "metadata": {
      "needs_background": "light"
     },
     "output_type": "display_data"
    }
   ],
   "source": [
    "from sklearn.neighbors import NearestNeighbors\n",
    "\n",
    "nn = NearestNeighbors(n_neighbors=10).fit(cincoD)\n",
    "distances, indices = nn.kneighbors(cincoD)\n",
    "\n",
    "distances = np.sort(distances, axis=0)\n",
    "\n",
    "medias = np.zeros(len(distances))\n",
    "for i in range(len(distances)):\n",
    "    medias[i] = np.mean(distances[:][i])\n",
    "\n",
    "optimal_bin = np.histogram_bin_edges(medias, bins = 'fd')\n",
    "a = plt.hist(medias, optimal_bin,  ec = 'k', color = 'green')\n",
    "numero, bins = a[0],a[1]\n",
    "plt.xlim(0,3)"
   ]
  },
  {
   "cell_type": "code",
   "execution_count": 44,
   "id": "20bf0a12-5a2f-49c1-9c18-9d7127fff90c",
   "metadata": {},
   "outputs": [
    {
     "name": "stdout",
     "output_type": "stream",
     "text": [
      "eps = 0.04043807595015335\n",
      "Estimated no. of clusters: 0\n",
      "Estimated no. points clustered: 0\n",
      "eps = 0.08875379210367837\n",
      "Estimated no. of clusters: 1\n",
      "Estimated no. points clustered: 131\n",
      "eps = 0.1370695082572034\n",
      "Estimated no. of clusters: 1\n",
      "Estimated no. points clustered: 333\n",
      "eps = 0.1853852244107284\n",
      "Estimated no. of clusters: 1\n",
      "Estimated no. points clustered: 487\n"
     ]
    }
   ],
   "source": [
    "listinha = bins[0:4]\n",
    "\n",
    "for element in listinha:\n",
    "    db = DBSCAN(eps=element, min_samples=10).fit(cincoD)\n",
    "    #core_samples_mask = np.zeros_like(db.labels_, dtype=bool)\n",
    "    #core_samples_mask[db.core_sample_indices_] = True\n",
    "    labels = db.labels_\n",
    "    print('eps =', element)\n",
    "    N_clus=len(set(labels))-(1 if -1 in labels else 0)\n",
    "    print('Estimated no. of clusters: %d' % N_clus)\n",
    "    n_in = list(db.labels_).count(0)\n",
    "    print('Estimated no. points clustered: %d' % n_in)\n"
   ]
  },
  {
   "cell_type": "code",
   "execution_count": 23,
   "id": "f9cb21bd-2fcb-4ca4-bfba-d41e9aade1ef",
   "metadata": {},
   "outputs": [],
   "source": [
    "plt.rc('xtick', labelsize=12)\n",
    "plt.rc('ytick', labelsize=12)\n",
    "plt.rcParams['axes.linewidth'] = 1.0\n",
    "\n",
    "\n",
    "font = {'family' : 'serif',\n",
    "        'weight' : 'normal',\n",
    "        'size'   : 13}\n",
    "\n",
    "plt.rc('font', **font)"
   ]
  },
  {
   "cell_type": "markdown",
   "id": "061681a0-a95c-47e5-b1e8-5fc5dbcc9918",
   "metadata": {},
   "source": [
    "## Performing DBSCAN"
   ]
  },
  {
   "cell_type": "code",
   "execution_count": 46,
   "id": "0e6552b0-ef23-45f9-b6d8-b62f73263d91",
   "metadata": {},
   "outputs": [
    {
     "name": "stdout",
     "output_type": "stream",
     "text": [
      "Estimated no. of clusters: 1\n",
      "Estimated no. of noise points: 2938\n",
      "Estimated no. points clustered: 487\n"
     ]
    },
    {
     "data": {
      "text/plain": [
       "Text(0, 0.5, 'pmdec')"
      ]
     },
     "execution_count": 46,
     "metadata": {},
     "output_type": "execute_result"
    },
    {
     "data": {
      "image/png": "[encoded data removed]",
      "text/plain": [
       "<Figure size 432x288 with 1 Axes>"
      ]
     },
     "metadata": {
      "needs_background": "light"
     },
     "output_type": "display_data"
    }
   ],
   "source": [
    "db = DBSCAN(eps=0.1853, min_samples=10).fit(cincoD)\n",
    "core_samples_mask = np.zeros_like(db.labels_, dtype=bool)\n",
    "core_samples_mask[db.core_sample_indices_] = True\n",
    "labels = db.labels_\n",
    "\n",
    "N_clus=len(set(labels))-(1 if -1 in labels else 0)\n",
    "print('Estimated no. of clusters: %d' % N_clus)\n",
    "\n",
    "n_noise = list(db.labels_).count(-1)\n",
    "print('Estimated no. of noise points: %d' % n_noise)\n",
    "\n",
    "n_in = list(db.labels_).count(0)\n",
    "print('Estimated no. points clustered: %d' % n_in)\n",
    "\n",
    "\n",
    "plt.scatter(X[:, 0], \n",
    "            X[:, 1], \n",
    "            c=db.labels_, \n",
    "            )\n",
    "plt.xlabel(\"pmra\", fontweight = 'bold')\n",
    "plt.ylabel(\"pmdec\", fontweight = 'bold')"
   ]
  },
  {
   "cell_type": "markdown",
   "id": "b2d83603-81b3-4d0c-a656-0450488e4ca3",
   "metadata": {},
   "source": [
    "## Getting the points that are clustered"
   ]
  },
  {
   "cell_type": "code",
   "execution_count": 47,
   "id": "3f5dd7c8-6445-4acd-b226-c3d6e97efea7",
   "metadata": {},
   "outputs": [
    {
     "data": {
      "image/png": "[encoded data removed]",
      "text/plain": [
       "<Figure size 720x432 with 2 Axes>"
      ]
     },
     "metadata": {
      "needs_background": "light"
     },
     "output_type": "display_data"
    }
   ],
   "source": [
    "pontos_cluster = np.empty((0,2))\n",
    "for i in range(len(X)):\n",
    "    if labels[i]==0:\n",
    "        pontos_cluster = np.append(pontos_cluster, np.array([X[i]]), axis  = 0) #problema no formato do array para dar append\n",
    "    else:\n",
    "        continue\n",
    "\n",
    "xin,yin = pontos_cluster.T\n",
    "\n",
    "pontos_cluster = np.empty((0,2))\n",
    "for i in range(len(X)):\n",
    "    if labels[i]==-1:\n",
    "        pontos_cluster = np.append(pontos_cluster, np.array([X[i]]), axis  = 0) #problema no formato do array para dar append\n",
    "    else:\n",
    "        continue\n",
    "\n",
    "\n",
    "xout, yout = pontos_cluster.T\n",
    "\n",
    "\n",
    "subset = ndf[ndf['pmra'].isin(xin) & ndf['pmdec'].isin(yin)]\n",
    "subset = subset.reset_index(drop=True)\n",
    "\n",
    "fig, ax = plt.subplots(1,2, figsize=(10,6))\n",
    "ax[0].scatter(xin,yin, color = 'k', zorder = 100)\n",
    "ax[0].scatter(xout,yout, color = 'red')\n",
    "\n",
    "\n",
    "ax[1].scatter(subset['bp_rp'],subset['phot_g_mean_mag'])\n",
    "ax[1].invert_yaxis()\n"
   ]
  },
  {
   "cell_type": "code",
   "execution_count": 48,
   "id": "0aa368ca-3e4e-4d8f-b250-464c9de9bbbb",
   "metadata": {},
   "outputs": [
    {
     "data": {
      "image/png": "[encoded data removed]",
      "text/plain": [
       "<Figure size 360x576 with 1 Axes>"
      ]
     },
     "metadata": {
      "needs_background": "light"
     },
     "output_type": "display_data"
    }
   ],
   "source": [
    "plt.figure(figsize=(5,8))\n",
    "plt.scatter(subset['bp_rp'],subset['phot_g_mean_mag'])\n",
    "plt.gca().invert_yaxis()"
   ]
  },
  {
   "cell_type": "markdown",
   "id": "e97bc501-2309-4986-aa6f-74039153f3e1",
   "metadata": {},
   "source": [
    "## Constructing a RDP and histograms of the clusters parameters"
   ]
  },
  {
   "cell_type": "code",
   "execution_count": 27,
   "id": "40118a7a-2fff-4128-a1fe-379b764af944",
   "metadata": {},
   "outputs": [
    {
     "data": {
      "text/plain": [
       "Text(0, 0.5, 'stellar density (arcsec$^{-2}$)')"
      ]
     },
     "execution_count": 27,
     "metadata": {},
     "output_type": "execute_result"
    },
    {
     "data": {
      "image/png": "[encoded data removed]",
      "text/plain": [
       "<Figure size 432x288 with 1 Axes>"
      ]
     },
     "metadata": {
      "needs_background": "light"
     },
     "output_type": "display_data"
    }
   ],
   "source": [
    "from astropy.coordinates import SkyCoord\n",
    "from astropy import units\n",
    "\n",
    "catalog = SkyCoord(ra=subset['ra']*units.degree, dec=subset['dec']*units.degree, frame='fk5')\n",
    "\n",
    "nstar = len(subset)\n",
    "\n",
    "#.Definindo o vizinho apropriado para a abertura\n",
    "\n",
    "k = np.sqrt(nstar).astype(int)\n",
    "\n",
    "#.criando a estrutura de vizinhos proximos\n",
    "coords = np.array([subset['ra']*np.cos(subset['dec']*np.pi/180.0), subset['dec']]).T\n",
    "nn_struct = NearestNeighbors(n_neighbors=k, algorithm='auto', metric='euclidean')\n",
    "nn_struct.fit(coords)\n",
    "distances, index = nn_struct.kneighbors(coords)\n",
    "             \n",
    "\n",
    "#.obtendo a distancia do k-esimo vizinho mais proximo\n",
    "aperture = distances[:,k-1]*units.degree\n",
    "area = np.pi*(aperture.value)**2# + area_cor(data, data.DEC, aperture.value)\n",
    "den_data = k/area\n",
    "den_sigm = np.sqrt(k)/area\n",
    "\n",
    "den_data /= 3600**2\n",
    "den_sigm /= 3600**2\n",
    "\n",
    "med_x = np.average(subset['ra'], weights=den_data)\n",
    "std_x = np.average((subset['ra']-med_x)**2, weights=den_data)**0.5\n",
    "\n",
    "med_y = np.average(subset['dec'], weights=den_data)\n",
    "std_y = np.average((subset['dec']-med_y)**2, weights=den_data)**0.5\n",
    "\n",
    "center = SkyCoord(med_x*units.degree, med_y*units.degree)\n",
    "radii = center.separation(catalog)\n",
    "radii = radii.to(units.arcsec).value\n",
    "\n",
    "#.criando figura do RDP\n",
    "\n",
    "import matplotlib.cm as cm\n",
    "cor = cm.get_cmap('jet')\n",
    "\n",
    "fig, ax = plt.subplots()#1,1,figsize=(10,11))\n",
    "ax.scatter(radii,den_data, s=(max(subset['phot_g_mean_mag'])-subset['phot_g_mean_mag'])*20, c=den_data/3600**2, cmap = cor, label='data')\n",
    "ax.set_xlabel('radius (arcsec)', fontsize=18, fontweight='bold')\n",
    "ax.set_ylabel('stellar density (arcsec$^{-2}$)', fontsize=18, fontweight='bold')\n",
    "\n"
   ]
  },
  {
   "cell_type": "markdown",
   "id": "745deccc-b7c0-408f-8e44-a40b28044e17",
   "metadata": {},
   "source": [
    "## Plotting histograms"
   ]
  },
  {
   "cell_type": "code",
   "execution_count": 28,
   "id": "071a7e5d-7e96-40b9-930e-ffdfd72f8deb",
   "metadata": {},
   "outputs": [
    {
     "data": {
      "image/png": "[encoded data removed]",
      "text/plain": [
       "<Figure size 936x720 with 4 Axes>"
      ]
     },
     "metadata": {
      "needs_background": "light"
     },
     "output_type": "display_data"
    }
   ],
   "source": [
    "fig = plt.figure(figsize = (13,10))\n",
    "ax1 = fig.add_subplot(4,4, (1,6))\n",
    "ax2 = fig.add_subplot(4,4, (9,14))\n",
    "ax3 = fig.add_subplot(4,4, (3,8))\n",
    "ax4 = fig.add_subplot(4,4, (11,16))\n",
    "\n",
    "optimal_bin = np.histogram_bin_edges(subset['ra'], bins = 'fd')\n",
    "ax1.hist(subset['ra'], optimal_bin,  ec = 'k', color = 'green');\n",
    "\n",
    "optimal_bin = np.histogram_bin_edges(subset['pmra'], bins = 'fd')\n",
    "ax2.hist(subset['pmra'], optimal_bin,  ec = 'k', color = 'green');\n",
    "\n",
    "optimal_bin = np.histogram_bin_edges(subset['dec'], bins = 'fd')\n",
    "ax3.hist(subset['dec'], optimal_bin,  ec = 'k', color = 'red');\n",
    "\n",
    "optimal_bin = np.histogram_bin_edges(subset['pmdec'], bins = 'fd')\n",
    "ax4.hist(subset['pmdec'], optimal_bin,  ec = 'k', color = 'red');\n",
    "\n",
    "ax1.set_title('ra', fontweight = 'bold')\n",
    "ax2.set_title('pmra', fontweight = 'bold')\n",
    "ax3.set_title('dec', fontweight = 'bold')\n",
    "ax4.set_title('pmdec', fontweight = 'bold')\n",
    "\n",
    "plt.subplots_adjust(wspace = 0.2, hspace = 0.5)\n"
   ]
  },
  {
   "cell_type": "code",
   "execution_count": 29,
   "id": "55b77219-5085-4be7-b901-c475a2e22391",
   "metadata": {},
   "outputs": [
    {
     "data": {
      "image/png": "[encoded data removed]",
      "text/plain": [
       "<Figure size 1008x504 with 2 Axes>"
      ]
     },
     "metadata": {
      "needs_background": "light"
     },
     "output_type": "display_data"
    }
   ],
   "source": [
    "fig = plt.figure(figsize=(14,7))\n",
    "ax1 = fig.add_subplot(2,4, (1,6))\n",
    "\n",
    "optimal_bin = np.histogram_bin_edges(subset['parallax'], bins = 'fd')\n",
    "ax1.hist(subset['parallax'], optimal_bin, ec = 'k',color = 'blue');\n",
    "\n",
    "ax2 = fig.add_subplot(2,4, (3,8))\n",
    "\n",
    "ra_vel = subset.dropna(how='any',subset=['radial_velocity'])\n",
    "optimal_bin = np.histogram_bin_edges(ra_vel['radial_velocity'], bins = 'fd')\n",
    "ax2.hist(ra_vel.radial_velocity, optimal_bin, ec = 'k',color = 'orange');\n",
    "\n",
    "ax1.set_title('parallax', fontweight = 'bold')\n",
    "ax2.set_title('radial velocity', fontweight = 'bold');"
   ]
  },
  {
   "cell_type": "markdown",
   "id": "162cb4b6-ffc0-4462-ba56-5706b083601a",
   "metadata": {},
   "source": [
    "## Gaussian fit"
   ]
  },
  {
   "cell_type": "code",
   "execution_count": 30,
   "id": "e7f6d680-d07d-4b8b-9bfc-edf0bf934f8c",
   "metadata": {},
   "outputs": [],
   "source": [
    "def gaussiana(x, amp, mu, sigma):\n",
    "    return amp*np.exp(-(x-mu)**2/(2*sigma**2))\n",
    "\n",
    "from lmfit.models import GaussianModel"
   ]
  },
  {
   "cell_type": "code",
   "execution_count": 31,
   "id": "4596d56f-40fa-4def-85b4-51283340d87e",
   "metadata": {},
   "outputs": [
    {
     "name": "stdout",
     "output_type": "stream",
     "text": [
      "[[Model]]\n",
      "    Model(gaussian)\n",
      "[[Fit Statistics]]\n",
      "    # fitting method   = leastsq\n",
      "    # function evals   = 21\n",
      "    # data points      = 16\n",
      "    # variables        = 3\n",
      "    chi-square         = 660.406327\n",
      "    reduced chi-square = 50.8004867\n",
      "    Akaike info crit   = 65.5242651\n",
      "    Bayesian info crit = 67.8420313\n",
      "[[Variables]]\n",
      "    amplitude:  23.5364736 +/- 1.49407198 (6.35%) (init = 27.47868)\n",
      "    center:     0.16966240 +/- 0.01154655 (6.81%) (init = 0.1974856)\n",
      "    sigma:      0.15815989 +/- 0.01168514 (7.39%) (init = 0.1290079)\n",
      "    fwhm:       0.37243808 +/- 0.02751641 (7.39%) == '2.3548200*sigma'\n",
      "    height:     59.3683697 +/- 3.75844020 (6.33%) == '0.3989423*amplitude/max(1e-15, sigma)'\n",
      "[[Correlations]] (unreported correlations are < 0.100)\n",
      "    C(amplitude, sigma) = 0.584\n"
     ]
    },
    {
     "data": {
      "image/png": "[encoded data removed]",
      "text/plain": [
       "<Figure size 576x432 with 1 Axes>"
      ]
     },
     "metadata": {
      "needs_background": "light"
     },
     "output_type": "display_data"
    }
   ],
   "source": [
    "fig, ax = plt.subplots(figsize=(8,6))\n",
    "\n",
    "\n",
    "data = subset['parallax']\n",
    "optimal_bin = np.histogram_bin_edges(data, bins = 'fd')\n",
    "\n",
    "histograma = ax.hist(data, optimal_bin, ec = 'k',color = 'orange');\n",
    "\n",
    "numero, bins = histograma[0],histograma[1]\n",
    "\n",
    "centralizar = (bins[1] - bins[0])/2\n",
    "\n",
    "teste = np.linspace(bins.min(),bins.max(),len(bins) -1)\n",
    "\n",
    "jpt = np.linspace(np.min(data) + centralizar, np.max(data) - centralizar, len(numero))\n",
    "\n",
    "\n",
    "gmodel = GaussianModel()\n",
    "\n",
    "inicial = gmodel.guess(numero, x = teste)\n",
    "\n",
    "result = gmodel.fit(numero, inicial, x=teste)\n",
    "\n",
    "\n",
    "print(result.fit_report())\n",
    "\n",
    "\n",
    "\n",
    "parametros = [result.params['height'].value, result.params['center'].value, result.params['sigma'].value]\n",
    "valores_paralaxe = [result.params['center'].value, result.params['sigma'].value]\n",
    "\n",
    "xplot = np.linspace(1.3*bins[0],1.3*bins[-1],128*2)\n",
    "\n",
    "ax.plot(xplot,gaussiana(xplot,*parametros), color = 'k')\n",
    "\n",
    "ax.set_title('parallax', fontweight = 'bold')\n",
    "\n",
    "plt.show()"
   ]
  },
  {
   "cell_type": "code",
   "execution_count": 32,
   "id": "8a5ec7cc-3804-4ee1-86ae-009de509436a",
   "metadata": {},
   "outputs": [],
   "source": [
    "#primeiro_clip = subset.parallax[np.where((subset.parallax < sigma_parallax_up ) & (subset.parallax > sigma_parallax_down))[0]]\n",
    "#primeiro_clip"
   ]
  },
  {
   "cell_type": "code",
   "execution_count": 33,
   "id": "7be0ede2-e52e-438f-a4dd-7f5fdcae6f74",
   "metadata": {},
   "outputs": [
    {
     "name": "stdout",
     "output_type": "stream",
     "text": [
      "[[Model]]\n",
      "    Model(gaussian)\n",
      "[[Fit Statistics]]\n",
      "    # fitting method   = leastsq\n",
      "    # function evals   = 33\n",
      "    # data points      = 39\n",
      "    # variables        = 3\n",
      "    chi-square         = 920.965425\n",
      "    reduced chi-square = 25.5823729\n",
      "    Akaike info crit   = 129.312573\n",
      "    Bayesian info crit = 134.303258\n",
      "[[Variables]]\n",
      "    amplitude:  4.92610839 +/- 0.23332812 (4.74%) (init = 6.078188)\n",
      "    center:     46.4873260 +/- 0.00162063 (0.00%) (init = 46.48769)\n",
      "    sigma:      0.02963250 +/- 0.00162069 (5.47%) (init = 0.02701417)\n",
      "    fwhm:       0.06977919 +/- 0.00381643 (5.47%) == '2.3548200*sigma'\n",
      "    height:     66.3202004 +/- 3.14129386 (4.74%) == '0.3989423*amplitude/max(1e-15, sigma)'\n",
      "[[Correlations]] (unreported correlations are < 0.100)\n",
      "    C(amplitude, sigma) = 0.577\n"
     ]
    },
    {
     "data": {
      "image/png": "[encoded data removed]",
      "text/plain": [
       "<Figure size 576x432 with 1 Axes>"
      ]
     },
     "metadata": {
      "needs_background": "light"
     },
     "output_type": "display_data"
    }
   ],
   "source": [
    "fig, ax = plt.subplots(figsize=(8,6))\n",
    "\n",
    "\n",
    "data = subset['ra']\n",
    "optimal_bin = np.histogram_bin_edges(data, bins = 'fd')\n",
    "\n",
    "histograma = ax.hist(data, optimal_bin, ec = 'k',color = 'blue');\n",
    "\n",
    "numero, bins = histograma[0],histograma[1]\n",
    "\n",
    "centralizar = (bins[1] - bins[0])/2\n",
    "\n",
    "teste = np.linspace(bins.min(),bins.max(),len(bins) -1)\n",
    "\n",
    "jpt = np.linspace(np.min(data) + centralizar, np.max(data) - centralizar, len(numero))\n",
    "\n",
    "\n",
    "gmodel = GaussianModel()\n",
    "\n",
    "inicial = gmodel.guess(numero, x = teste)\n",
    "\n",
    "result = gmodel.fit(numero, inicial, x=teste)\n",
    "\n",
    "\n",
    "print(result.fit_report())\n",
    "\n",
    "\n",
    "\n",
    "parametros = [result.params['height'].value, result.params['center'].value, result.params['sigma'].value]\n",
    "valores_ra = [result.params['center'].value, result.params['sigma'].value]\n",
    "\n",
    "xplot = np.linspace(bins[0],bins[-1],128*2)\n",
    "\n",
    "ax.plot(xplot,gaussiana(xplot,*parametros), color = 'k')\n",
    "\n",
    "ax.set_title('ra', fontweight = 'bold')\n",
    "\n",
    "plt.show()"
   ]
  },
  {
   "cell_type": "code",
   "execution_count": 34,
   "id": "b7821597-832b-4214-ac0b-dd5c6d1600a0",
   "metadata": {},
   "outputs": [
    {
     "name": "stdout",
     "output_type": "stream",
     "text": [
      "[[Model]]\n",
      "    Model(gaussian)\n",
      "[[Fit Statistics]]\n",
      "    # fitting method   = leastsq\n",
      "    # function evals   = 17\n",
      "    # data points      = 17\n",
      "    # variables        = 3\n",
      "    chi-square         = 485.367960\n",
      "    reduced chi-square = 34.6691400\n",
      "    Akaike info crit   = 62.9787970\n",
      "    Bayesian info crit = 65.4784370\n",
      "[[Variables]]\n",
      "    amplitude:  23.9612705 +/- 1.26844855 (5.29%) (init = 26.76072)\n",
      "    center:    -0.21254519 +/- 0.01009558 (4.75%) (init = -0.1985264)\n",
      "    sigma:      0.16568930 +/- 0.01019234 (6.15%) (init = 0.1564955)\n",
      "    fwhm:       0.39016847 +/- 0.02400113 (6.15%) == '2.3548200*sigma'\n",
      "    height:     57.6933126 +/- 3.04778443 (5.28%) == '0.3989423*amplitude/max(1e-15, sigma)'\n",
      "[[Correlations]] (unreported correlations are < 0.100)\n",
      "    C(amplitude, sigma) = 0.583\n"
     ]
    },
    {
     "data": {
      "image/png": "[encoded data removed]",
      "text/plain": [
       "<Figure size 576x432 with 1 Axes>"
      ]
     },
     "metadata": {
      "needs_background": "light"
     },
     "output_type": "display_data"
    }
   ],
   "source": [
    "fig, ax = plt.subplots(figsize=(8,6))\n",
    "\n",
    "\n",
    "data = subset['pmra']\n",
    "optimal_bin = np.histogram_bin_edges(data, bins = 'fd')\n",
    "\n",
    "histograma = ax.hist(data, optimal_bin, ec = 'k',color = 'blue');\n",
    "\n",
    "numero, bins = histograma[0],histograma[1]\n",
    "\n",
    "centralizar = (bins[1] - bins[0])/2\n",
    "\n",
    "teste = np.linspace(bins.min(),bins.max(),len(bins) -1)\n",
    "\n",
    "jpt = np.linspace(np.min(data) + centralizar, np.max(data) - centralizar, len(numero))\n",
    "\n",
    "\n",
    "gmodel = GaussianModel()\n",
    "\n",
    "inicial = gmodel.guess(numero, x = teste)\n",
    "\n",
    "result = gmodel.fit(numero, inicial, x=teste)\n",
    "\n",
    "\n",
    "print(result.fit_report())\n",
    "\n",
    "\n",
    "\n",
    "parametros = [result.params['height'].value, result.params['center'].value, result.params['sigma'].value]\n",
    "valores_pmra= [result.params['center'].value, result.params['sigma'].value]\n",
    "\n",
    "xplot = np.linspace(bins[0],bins[-1],128*2)\n",
    "\n",
    "ax.plot(xplot,gaussiana(xplot,*parametros), color = 'k')\n",
    "\n",
    "ax.set_title('pmra', fontweight = 'bold')\n",
    "\n",
    "plt.show()"
   ]
  },
  {
   "cell_type": "code",
   "execution_count": 35,
   "id": "be669e82-e291-4d91-a880-5250115f0c15",
   "metadata": {},
   "outputs": [
    {
     "name": "stdout",
     "output_type": "stream",
     "text": [
      "[[Model]]\n",
      "    Model(gaussian)\n",
      "[[Fit Statistics]]\n",
      "    # fitting method   = leastsq\n",
      "    # function evals   = 49\n",
      "    # data points      = 37\n",
      "    # variables        = 3\n",
      "    chi-square         = 833.945218\n",
      "    reduced chi-square = 24.5278005\n",
      "    Akaike info crit   = 121.264243\n",
      "    Bayesian info crit = 126.096996\n",
      "[[Variables]]\n",
      "    amplitude:  3.80970169 +/- 0.17825827 (4.68%) (init = 3.323815)\n",
      "    center:     44.3836853 +/- 0.00128319 (0.00%) (init = 44.38192)\n",
      "    sigma:      0.02375041 +/- 0.00128321 (5.40%) (init = 0.01538803)\n",
      "    fwhm:       0.05592794 +/- 0.00302174 (5.40%) == '2.3548200*sigma'\n",
      "    height:     63.9926246 +/- 2.99425187 (4.68%) == '0.3989423*amplitude/max(1e-15, sigma)'\n",
      "[[Correlations]] (unreported correlations are < 0.100)\n",
      "    C(amplitude, sigma) = 0.577\n"
     ]
    },
    {
     "data": {
      "image/png": "[encoded data removed]",
      "text/plain": [
       "<Figure size 576x432 with 1 Axes>"
      ]
     },
     "metadata": {
      "needs_background": "light"
     },
     "output_type": "display_data"
    }
   ],
   "source": [
    "fig, ax = plt.subplots(figsize=(8,6))\n",
    "\n",
    "\n",
    "data = subset['dec']\n",
    "optimal_bin = np.histogram_bin_edges(data, bins = 'fd')\n",
    "\n",
    "histograma = ax.hist(data, optimal_bin, ec = 'k',color = 'red');\n",
    "\n",
    "numero, bins = histograma[0],histograma[1]\n",
    "\n",
    "centralizar = (bins[1] - bins[0])/2\n",
    "\n",
    "teste = np.linspace(bins.min(),bins.max(),len(bins) -1)\n",
    "\n",
    "jpt = np.linspace(np.min(data) + centralizar, np.max(data) - centralizar, len(numero))\n",
    "\n",
    "\n",
    "gmodel = GaussianModel()\n",
    "\n",
    "inicial = gmodel.guess(numero, x = teste)\n",
    "\n",
    "result = gmodel.fit(numero, inicial, x=teste)\n",
    "\n",
    "\n",
    "print(result.fit_report())\n",
    "\n",
    "\n",
    "\n",
    "parametros = [result.params['height'].value, result.params['center'].value, result.params['sigma'].value]\n",
    "valores_dec = [result.params['center'].value, result.params['sigma'].value]\n",
    "\n",
    "xplot = np.linspace(bins[0],bins[-1],128*2)\n",
    "\n",
    "ax.plot(xplot,gaussiana(xplot,*parametros), color = 'k')\n",
    "\n",
    "ax.set_title('dec', fontweight = 'bold')\n",
    "\n",
    "plt.show()"
   ]
  },
  {
   "cell_type": "code",
   "execution_count": 36,
   "id": "2e61f8e4-e34f-4e4f-9d15-44e52af6069b",
   "metadata": {},
   "outputs": [
    {
     "name": "stdout",
     "output_type": "stream",
     "text": [
      "[[Model]]\n",
      "    Model(gaussian)\n",
      "[[Fit Statistics]]\n",
      "    # fitting method   = leastsq\n",
      "    # function evals   = 29\n",
      "    # data points      = 17\n",
      "    # variables        = 3\n",
      "    chi-square         = 315.903601\n",
      "    reduced chi-square = 22.5645429\n",
      "    Akaike info crit   = 55.6778040\n",
      "    Bayesian info crit = 58.1774440\n",
      "[[Variables]]\n",
      "    amplitude:  23.1119214 +/- 0.98391201 (4.26%) (init = 25.10926)\n",
      "    center:    -0.43058000 +/- 0.00764310 (1.78%) (init = -0.4367352)\n",
      "    sigma:      0.15577909 +/- 0.00768662 (4.93%) (init = 0.1287654)\n",
      "    fwhm:       0.36683171 +/- 0.01810062 (4.93%) == '2.3548200*sigma'\n",
      "    height:     59.1884532 +/- 2.51691643 (4.25%) == '0.3989423*amplitude/max(1e-15, sigma)'\n",
      "[[Correlations]] (unreported correlations are < 0.100)\n",
      "    C(amplitude, sigma) = 0.580\n"
     ]
    },
    {
     "data": {
      "image/png": "[encoded data removed]",
      "text/plain": [
       "<Figure size 576x432 with 1 Axes>"
      ]
     },
     "metadata": {
      "needs_background": "light"
     },
     "output_type": "display_data"
    }
   ],
   "source": [
    "fig, ax = plt.subplots(figsize=(8,6))\n",
    "\n",
    "\n",
    "data = subset['pmdec']\n",
    "optimal_bin = np.histogram_bin_edges(data, bins = 'fd')\n",
    "\n",
    "histograma = ax.hist(data, optimal_bin, ec = 'k',color = 'red');\n",
    "\n",
    "numero, bins = histograma[0],histograma[1]\n",
    "\n",
    "centralizar = (bins[1] - bins[0])/2\n",
    "\n",
    "teste = np.linspace(bins.min(),bins.max(),len(bins) -1)\n",
    "\n",
    "jpt = np.linspace(np.min(data) + centralizar, np.max(data) - centralizar, len(numero))\n",
    "\n",
    "\n",
    "gmodel = GaussianModel()\n",
    "\n",
    "inicial = gmodel.guess(numero, x = teste)\n",
    "\n",
    "result = gmodel.fit(numero, inicial, x=teste)\n",
    "\n",
    "\n",
    "print(result.fit_report())\n",
    "\n",
    "\n",
    "\n",
    "parametros = [result.params['height'].value, result.params['center'].value, result.params['sigma'].value]\n",
    "valores_pmdec = [result.params['center'].value, result.params['sigma'].value]\n",
    "\n",
    "xplot = np.linspace(bins[0],bins[-1],128*2)\n",
    "\n",
    "ax.plot(xplot,gaussiana(xplot,*parametros), color = 'k')\n",
    "\n",
    "ax.set_title('pmdec', fontweight = 'bold')\n",
    "\n",
    "plt.show()"
   ]
  },
  {
   "cell_type": "code",
   "execution_count": 37,
   "id": "12160255-cc54-43d7-ad95-d977411f20be",
   "metadata": {},
   "outputs": [
    {
     "name": "stdout",
     "output_type": "stream",
     "text": [
      "0.48598218829872775 -0.14665737882131846\n",
      "46.54659097872919 46.428060998369695\n",
      "0.11883340227371514 -0.5439237827646464\n",
      "44.43118607615495 44.33618443084878\n",
      "-0.11902183461320798 -0.74213817475502\n"
     ]
    }
   ],
   "source": [
    "sigma = 2\n",
    "\n",
    "paralaxe_up, paralaxe_down = valores_paralaxe[0] + sigma*valores_paralaxe[1], valores_paralaxe[0] - sigma*valores_paralaxe[1]\n",
    "\n",
    "print(paralaxe_up,paralaxe_down)\n",
    "\n",
    "ra_up, ra_down = valores_ra[0] + sigma*valores_ra[1], valores_ra[0] - sigma*valores_ra[1]\n",
    "\n",
    "print(ra_up,ra_down)\n",
    "\n",
    "pmra_up, pmra_down = valores_pmra[0] + sigma*valores_pmra[1], valores_pmra[0] - sigma*valores_pmra[1]\n",
    "\n",
    "print(pmra_up,pmra_down)\n",
    "\n",
    "dec_up, dec_down = valores_dec[0] + sigma*valores_dec[1], valores_dec[0] - sigma*valores_dec[1]\n",
    "\n",
    "print(dec_up,dec_down)\n",
    "\n",
    "pmdec_up, pmdec_down = valores_pmdec[0] + sigma*valores_pmdec[1], valores_pmdec[0] - sigma*valores_pmdec[1]\n",
    "\n",
    "print(pmdec_up,pmdec_down)\n",
    "\n"
   ]
  },
  {
   "cell_type": "code",
   "execution_count": 38,
   "id": "d1511151-0645-4fbc-9099-60763585c549",
   "metadata": {},
   "outputs": [
    {
     "data": {
      "text/plain": [
       "251"
      ]
     },
     "execution_count": 38,
     "metadata": {},
     "output_type": "execute_result"
    }
   ],
   "source": [
    "clip = subset.loc[(subset.parallax < paralaxe_up ) & (subset.parallax > paralaxe_down) & (subset.ra>ra_down) & (subset.ra<ra_up)\n",
    "          & (subset.dec>dec_down) & (subset.dec<dec_up) & (subset.pmra>pmra_down) & (subset.pmra<pmra_up) & (subset.pmdec>pmdec_down) & (subset.pmdec<pmdec_up)]\n",
    "len(clip)"
   ]
  },
  {
   "cell_type": "code",
   "execution_count": 39,
   "id": "9a590b4f-ac07-4d68-a102-f2acaa13a09e",
   "metadata": {},
   "outputs": [
    {
     "data": {
      "image/png": "[encoded data removed]",
      "text/plain": [
       "<Figure size 432x288 with 1 Axes>"
      ]
     },
     "metadata": {
      "needs_background": "light"
     },
     "output_type": "display_data"
    }
   ],
   "source": [
    "ra_vel = clip.dropna(how='any',subset=['radial_velocity'])\n",
    "optimal_bin = np.histogram_bin_edges(ra_vel['radial_velocity'], bins = 'fd')\n",
    "\n",
    "data = ra_vel['radial_velocity']\n",
    "\n",
    "plt.hist(data, optimal_bin, ec = 'k',color = 'green');"
   ]
  },
  {
   "cell_type": "code",
   "execution_count": 40,
   "id": "8bbc66e7-3655-4bcd-bb70-41066c5a7c50",
   "metadata": {},
   "outputs": [
    {
     "data": {
      "image/png": "[encoded data removed]",
      "text/plain": [
       "<Figure size 360x576 with 1 Axes>"
      ]
     },
     "metadata": {
      "needs_background": "light"
     },
     "output_type": "display_data"
    }
   ],
   "source": [
    "plt.figure(figsize=(5,8))\n",
    "plt.scatter(clip['bp_rp'],clip['phot_g_mean_mag'])\n",
    "plt.gca().invert_yaxis()"
   ]
  },
  {
   "cell_type": "code",
   "execution_count": 41,
   "id": "3b71a47f-0600-4951-86f4-4fff8150cb0d",
   "metadata": {},
   "outputs": [
    {
     "data": {
      "text/plain": [
       "Text(0, 0.5, 'stellar density (arcsec$^{-2}$)')"
      ]
     },
     "execution_count": 41,
     "metadata": {},
     "output_type": "execute_result"
    },
    {
     "data": {
      "image/png": "[encoded data removed]",
      "text/plain": [
       "<Figure size 432x288 with 1 Axes>"
      ]
     },
     "metadata": {
      "needs_background": "light"
     },
     "output_type": "display_data"
    }
   ],
   "source": [
    "from astropy.coordinates import SkyCoord\n",
    "from astropy import units\n",
    "\n",
    "catalog = SkyCoord(ra=clip['ra']*units.degree, dec=clip['dec']*units.degree, frame='fk5')\n",
    "\n",
    "nstar = len(clip)\n",
    "\n",
    "#.Definindo o vizinho apropriado para a abertura\n",
    "\n",
    "k = np.sqrt(nstar).astype(int)\n",
    "\n",
    "#.criando a estrutura de vizinhos proximos\n",
    "coords = np.array([clip['ra']*np.cos(clip['dec']*np.pi/180.0), clip['dec']]).T\n",
    "nn_struct = NearestNeighbors(n_neighbors=k, algorithm='auto', metric='euclidean')\n",
    "nn_struct.fit(coords)\n",
    "distances, index = nn_struct.kneighbors(coords)\n",
    "             \n",
    "\n",
    "#.obtendo a distancia do k-esimo vizinho mais proximo\n",
    "aperture = distances[:,k-1]*units.degree\n",
    "area = np.pi*(aperture.value)**2# + area_cor(data, data.DEC, aperture.value)\n",
    "den_data = k/area\n",
    "den_sigm = np.sqrt(k)/area\n",
    "\n",
    "den_data /= 3600**2\n",
    "den_sigm /= 3600**2\n",
    "\n",
    "med_x = np.average(clip['ra'], weights=den_data)\n",
    "std_x = np.average((clip['ra']-med_x)**2, weights=den_data)**0.5\n",
    "\n",
    "med_y = np.average(clip['dec'], weights=den_data)\n",
    "std_y = np.average((clip['dec']-med_y)**2, weights=den_data)**0.5\n",
    "\n",
    "center = SkyCoord(med_x*units.degree, med_y*units.degree)\n",
    "radii = center.separation(catalog)\n",
    "radii = radii.to(units.arcsec).value\n",
    "\n",
    "\n",
    "import matplotlib.cm as cm\n",
    "cor = cm.get_cmap('jet')\n",
    "\n",
    "fig, ax = plt.subplots()#1,1,figsize=(10,11))\n",
    "ax.scatter(radii,den_data, s=(max(clip['phot_g_mean_mag'])-clip['phot_g_mean_mag'])*20, c=den_data/3600**2, cmap = cor, label='data')\n",
    "ax.set_xlabel('radius (arcsec)', fontsize=18, fontweight='bold')\n",
    "ax.set_ylabel('stellar density (arcsec$^{-2}$)', fontsize=18, fontweight='bold')\n",
    "\n"
   ]
  },
  {
   "cell_type": "code",
   "execution_count": 42,
   "id": "f2561147-7e16-4a56-bad6-15b3783ca53e",
   "metadata": {},
   "outputs": [
    {
     "data": {
      "text/plain": [
       "<SkyCoord (ICRS): (ra, dec) in deg\n",
       "    (46.48678408, 44.38298516)>"
      ]
     },
     "execution_count": 42,
     "metadata": {},
     "output_type": "execute_result"
    }
   ],
   "source": [
    "center"
   ]
  }
 ],
 "metadata": {
  "kernelspec": {
   "display_name": "Python 3",
   "language": "python",
   "name": "python3"
  },
  "language_info": {
   "codemirror_mode": {
    "name": "ipython",
    "version": 3
   },
   "file_extension": ".py",
   "mimetype": "text/x-python",
   "name": "python",
   "nbconvert_exporter": "python",
   "pygments_lexer": "ipython3",
   "version": "3.8.8"
  }
 },
 "nbformat": 4,
 "nbformat_minor": 5
}
