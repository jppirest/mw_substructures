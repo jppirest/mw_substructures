{
 "cells": [
  {
   "cell_type": "code",
   "execution_count": 1,
   "id": "dd040bae-dc94-42bf-aaea-c55a52af35e5",
   "metadata": {},
   "outputs": [],
   "source": [
    "import matplotlib.pyplot as plt\n",
    "import numpy as np\n",
    "import pandas as pd\n",
    "import time"
   ]
  },
  {
   "cell_type": "code",
   "execution_count": 2,
   "id": "9a4d1f6d-572f-4c46-87ac-be7851c71028",
   "metadata": {},
   "outputs": [],
   "source": [
    "df = pd.read_csv('ngc6475.csv')\n",
    "x = df['BP-RP']\n",
    "y = df['Gmag']"
   ]
  },
  {
   "cell_type": "code",
   "execution_count": 3,
   "id": "58497256-7dc8-43d7-a8b9-f262355f9a84",
   "metadata": {},
   "outputs": [
    {
     "data": {
      "image/png": "[encoded data removed]",
      "text/plain": [
       "<Figure size 432x288 with 1 Axes>"
      ]
     },
     "metadata": {
      "needs_background": "light"
     },
     "output_type": "display_data"
    }
   ],
   "source": [
    "plt.scatter(x,y)\n",
    "plt.gca().invert_yaxis()"
   ]
  },
  {
   "cell_type": "code",
   "execution_count": 4,
   "id": "2105c4f4-2745-4931-8491-33cd581dfeb1",
   "metadata": {},
   "outputs": [],
   "source": [
    "def distancia(P1,P2): #P1 PONTO 1, P2 PONTO 2\n",
    "    array = P1-P2\n",
    "    final = np.zeros(len(array))\n",
    "    for i in range(len(array)):\n",
    "        final[i] = np.sqrt(array[i][0]**2 + array[i][1]**2)\n",
    "    return final\n",
    "\n",
    "import time "
   ]
  },
  {
   "cell_type": "code",
   "execution_count": 5,
   "id": "0df0c9ad-7ca7-4566-8216-3648f1a5c9e7",
   "metadata": {},
   "outputs": [],
   "source": [
    "def vizinhos(raio, n_estrelas):\n",
    "    estrelas_finais = np.empty((0,2))\n",
    "    for i in range(len(ptos)):\n",
    "        distancias = distancia(ptos[i],ptos)\n",
    "        menores = np.sort(distancias)[:n_estrelas+1]\n",
    "        comp = menores[-1]<=raio\n",
    "        if comp == False:\n",
    "            continue\n",
    "        else:\n",
    "            estrelas_finais = np.append(estrelas_finais, np.array([ptos[i]]), axis  = 0) #problema no formato do array para dar append\n",
    "    return estrelas_finais\n",
    "\n"
   ]
  },
  {
   "cell_type": "code",
   "execution_count": 18,
   "id": "47b16825-5f23-4457-84fd-f77bcb3555bb",
   "metadata": {},
   "outputs": [
    {
     "data": {
      "text/plain": [
       "186"
      ]
     },
     "execution_count": 18,
     "metadata": {},
     "output_type": "execute_result"
    },
    {
     "data": {
      "image/png": "[encoded data removed]",
      "text/plain": [
       "<Figure size 432x288 with 1 Axes>"
      ]
     },
     "metadata": {
      "needs_background": "light"
     },
     "output_type": "display_data"
    }
   ],
   "source": [
    "ptos  = np.dstack((x,y))[0]\n",
    "\n",
    "pontos = vizinhos(0.1,1)\n",
    "cor, mag = pontos.T\n",
    "\n",
    "plt.scatter(cor,mag, color = 'k', zorder = 100)\n",
    "plt.scatter(x,y,color  = 'red')\n",
    "plt.gca().invert_yaxis()\n",
    "len(cor)"
   ]
  },
  {
   "cell_type": "code",
   "execution_count": 7,
   "id": "8a8bd7dc-a53a-46a2-bf59-f80d4e61a2f0",
   "metadata": {},
   "outputs": [],
   "source": [
    "def not_common(A,B):\n",
    "    nrows, ncols = A.shape\n",
    "    dtype={'names':['f{}'.format(i) for i in range(ncols)],\n",
    "           'formats':ncols * [A.dtype]}\n",
    "\n",
    "    C = np.intersect1d(A.view(dtype), B.view(dtype))\n",
    "\n",
    "    # This last bit is optional if you're okay with \"C\" being a structured array...\n",
    "    C = C.view(A.dtype).reshape(-1, ncols)\n",
    "    return C\n",
    "\n",
    "#not_common(ptos,pontos)"
   ]
  },
  {
   "cell_type": "code",
   "execution_count": 19,
   "id": "5171e7ff-7b67-4286-ae90-af069c39bb0b",
   "metadata": {},
   "outputs": [],
   "source": [
    "filipe = pd.read_csv('6475_membros')\n",
    "\n",
    "fx = filipe['BPMAG'] - filipe['RPMAG']\n",
    "fy = filipe['GMAG']\n",
    "\n",
    "\n",
    "ptos  = np.dstack((fx,fy))[0]\n",
    "          "
   ]
  },
  {
   "cell_type": "code",
   "execution_count": 35,
   "id": "ebbc12e0-f3ce-4a75-9ffc-4307b2aa5bb1",
   "metadata": {},
   "outputs": [
    {
     "data": {
      "text/plain": [
       "430"
      ]
     },
     "execution_count": 35,
     "metadata": {},
     "output_type": "execute_result"
    },
    {
     "data": {
      "image/png": "[encoded data removed]",
      "text/plain": [
       "<Figure size 432x288 with 1 Axes>"
      ]
     },
     "metadata": {
      "needs_background": "light"
     },
     "output_type": "display_data"
    }
   ],
   "source": [
    "s = time.time()\n",
    "\n",
    "ptos  = np.dstack((fx,fy))[0]\n",
    "pontos = vizinhos(0.05,1)\n",
    "cor, mag = pontos.T\n",
    "\n",
    "e = time.time()\n",
    "\n",
    "plt.scatter(cor,mag, color = 'k', zorder = 100)\n",
    "plt.scatter(fx,fy, color  = 'red')\n",
    "plt.gca().invert_yaxis()\n",
    "len(cor)"
   ]
  },
  {
   "cell_type": "code",
   "execution_count": 10,
   "id": "de5326a1-27a0-4e17-a091-3bd043bf20f7",
   "metadata": {},
   "outputs": [],
   "source": [
    "def count_neighbours(point, all_points, n):\n",
    "    \"\"\"\n",
    "    Count the neighbours of a point, where neighbours are other points in\n",
    "    all_points that are within a square of side length n, centered on point.\n",
    "\n",
    "    Arguments:\n",
    "    point -- the point on which the square will be centered.\n",
    "    all_points -- the set of points to check.\n",
    "    n -- the side length of the square.\n",
    "    \"\"\"\n",
    "    px = point[0]  # x-value (first coordinate) of the point p\n",
    "    py = point[1]  # y-value (second coordinate) of the point p\n",
    "    offset = n/2  # half of square side length\n",
    "    neighbours_x = all_points[:, 0] >= px-offset\n",
    "    # is a point >= the lower bound in x?\n",
    "    neighbours_x &= (all_points[:, 0] <= px+offset)\n",
    "    # is a point <= the upper bound in x?\n",
    "    neighbours_y = all_points[:, 1] >= py-offset  # lower bound in y\n",
    "    neighbours_y &= all_points[:, 1] <= py+offset  # upper bound in y\n",
    "    neighbours = neighbours_x & neighbours_y  # neighbours in both axes\n",
    "\n",
    "    return neighbours.sum()"
   ]
  },
  {
   "cell_type": "code",
   "execution_count": 25,
   "id": "2b836d3a-f83a-4fb4-a911-c0d0c53866c7",
   "metadata": {},
   "outputs": [],
   "source": [
    "def square(size_box,n_stars):\n",
    "    estrelas_finais = np.empty((0,2))\n",
    "    for i in range(len(ptos)):\n",
    "        numero = count_neighbours(ptos[i],ptos,size_box)\n",
    "        if numero >=n_stars+1:\n",
    "            estrelas_finais = np.append(estrelas_finais, np.array([ptos[i]]), axis  = 0) #problema no formato do array para dar append\n",
    "        else:\n",
    "            continue\n",
    "    return estrelas_finais"
   ]
  },
  {
   "cell_type": "code",
   "execution_count": 32,
   "id": "b88ea64d-2537-47a1-bfa8-cf22dfda525e",
   "metadata": {},
   "outputs": [
    {
     "data": {
      "text/plain": [
       "320"
      ]
     },
     "execution_count": 32,
     "metadata": {},
     "output_type": "execute_result"
    },
    {
     "data": {
      "image/png": "[encoded data removed]",
      "text/plain": [
       "<Figure size 432x288 with 1 Axes>"
      ]
     },
     "metadata": {
      "needs_background": "light"
     },
     "output_type": "display_data"
    }
   ],
   "source": [
    "s = time.time()\n",
    "\n",
    "ptos  = np.dstack((fx,fy))[0]\n",
    "\n",
    "pontos = square(0.05,1)\n",
    "a,b  = pontos.T\n",
    "\n",
    "e = time.time()\n",
    "plt.scatter(a,b, zorder = 100, color = 'k')\n",
    "plt.scatter(fx,fy)\n",
    "plt.gca().invert_yaxis()\n",
    "len(a)"
   ]
  },
  {
   "cell_type": "code",
   "execution_count": 29,
   "id": "1070cd1f-8c35-4ce2-a9b3-d9aaadc71ecf",
   "metadata": {},
   "outputs": [
    {
     "data": {
      "text/plain": [
       "541"
      ]
     },
     "execution_count": 29,
     "metadata": {},
     "output_type": "execute_result"
    }
   ],
   "source": [
    "len(fx)"
   ]
  },
  {
   "cell_type": "code",
   "execution_count": null,
   "id": "8cdff354-4086-40e9-a973-ed851eaf3c56",
   "metadata": {},
   "outputs": [],
   "source": []
  }
 ],
 "metadata": {
  "kernelspec": {
   "display_name": "Python 3 (ipykernel)",
   "language": "python",
   "name": "python3"
  },
  "language_info": {
   "codemirror_mode": {
    "name": "ipython",
    "version": 3
   },
   "file_extension": ".py",
   "mimetype": "text/x-python",
   "name": "python",
   "nbconvert_exporter": "python",
   "pygments_lexer": "ipython3",
   "version": "3.9.7"
  }
 },
 "nbformat": 4,
 "nbformat_minor": 5
}
