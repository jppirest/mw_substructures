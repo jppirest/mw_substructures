{
 "cells": [
  {
   "cell_type": "code",
   "execution_count": 1,
   "id": "3521cdea-429b-4991-bb30-48131d9ae7f7",
   "metadata": {},
   "outputs": [],
   "source": [
    "import numpy as np\n",
    "import pandas as pd\n",
    "import matplotlib.pyplot as plt\n",
    "from astroquery.gaia import Gaia\n",
    "import astropy"
   ]
  },
  {
   "cell_type": "code",
   "execution_count": 2,
   "id": "6530e5b6-fa2e-487a-9762-58f002959899",
   "metadata": {},
   "outputs": [],
   "source": [
    "#from platform import python_version\n",
    "#python_version()"
   ]
  },
  {
   "cell_type": "code",
   "execution_count": 3,
   "id": "934ffd11-422a-4df1-b8e7-46169aeacc68",
   "metadata": {},
   "outputs": [],
   "source": [
    "plt.rc('xtick', labelsize=12)\n",
    "plt.rc('ytick', labelsize=12)\n",
    "plt.rcParams['axes.linewidth'] = 1.0\n",
    "\n",
    "\n",
    "font = {'family' : 'serif',\n",
    "        'weight' : 'normal',\n",
    "        'size'   : 13}\n",
    "\n",
    "plt.rc('font', **font)"
   ]
  },
  {
   "cell_type": "markdown",
   "id": "3bfeb1e8-4664-4b44-88a1-f3a2343ec347",
   "metadata": {},
   "source": [
    "## Getting the directory name"
   ]
  },
  {
   "cell_type": "code",
   "execution_count": 4,
   "id": "a49442e6-8751-480c-8bc2-b1c80196ac26",
   "metadata": {},
   "outputs": [
    {
     "data": {
      "text/plain": [
       "'Haffner_18'"
      ]
     },
     "execution_count": 4,
     "metadata": {},
     "output_type": "execute_result"
    }
   ],
   "source": [
    "import os\n",
    "directory_path = os.getcwd()\n",
    "nome_aglo = directory_path.split('/')[-1]\n",
    "nome_aglo"
   ]
  },
  {
   "cell_type": "markdown",
   "id": "c5aea3ad-6db9-4640-8fbe-b90543ea609e",
   "metadata": {},
   "source": [
    "## Getting RA&DEC from Bica 2019"
   ]
  },
  {
   "cell_type": "code",
   "execution_count": 5,
   "id": "f8abc363-cd00-4137-9be0-7cfc139a62e6",
   "metadata": {},
   "outputs": [
    {
     "data": {
      "text/plain": [
       "(118.1625, -26.38194)"
      ]
     },
     "execution_count": 5,
     "metadata": {},
     "output_type": "execute_result"
    }
   ],
   "source": [
    "df = pd.read_csv('../../lista.txt', comment= '#')\n",
    "ra, dec = df.loc[df['Nome'] == nome_aglo]['_RAJ2000'].values[0], df.loc[df['Nome'] == nome_aglo]['_DEJ2000'].values[0]\n",
    "ra, dec"
   ]
  },
  {
   "cell_type": "markdown",
   "id": "993b13b4-df7e-4f36-a5e2-ac847404380d",
   "metadata": {},
   "source": [
    "## Querying the data"
   ]
  },
  {
   "cell_type": "code",
   "execution_count": 6,
   "id": "74028be2-edac-4384-9832-528bb78d6e2e",
   "metadata": {},
   "outputs": [
    {
     "name": "stdout",
     "output_type": "stream",
     "text": [
      "INFO: Retrieving tables... [astroquery.utils.tap.core]\n",
      "INFO: Parsing tables... [astroquery.utils.tap.core]\n",
      "INFO: Done. [astroquery.utils.tap.core]\n"
     ]
    }
   ],
   "source": [
    "tables = Gaia.load_tables(only_names=True)"
   ]
  },
  {
   "cell_type": "code",
   "execution_count": 7,
   "id": "b4824134-51b9-43ec-8ccb-be7659e74477",
   "metadata": {},
   "outputs": [
    {
     "name": "stdout",
     "output_type": "stream",
     "text": [
      "Retrieving table 'gaiadr3.gaia_source'\n"
     ]
    },
    {
     "data": {
      "text/plain": [
       "<astroquery.utils.tap.model.taptable.TapTableMeta at 0x7f3316192640>"
      ]
     },
     "execution_count": 7,
     "metadata": {},
     "output_type": "execute_result"
    }
   ],
   "source": [
    "meta = Gaia.load_table('gaiadr3.gaia_source')\n",
    "meta"
   ]
  },
  {
   "cell_type": "code",
   "execution_count": 8,
   "id": "0cd0c50b-6020-4c1b-846d-3d0e0d6d8adb",
   "metadata": {},
   "outputs": [],
   "source": [
    "query = \"\"\"SELECT \n",
    "ra, dec, pmra, pmra_error, pmdec, pmdec_error, bp_rp, phot_g_mean_mag, parallax, parallax_error, radial_velocity, radial_velocity_error, l,b\n",
    "FROM gaiadr3.gaia_source\n",
    "WHERE 1=CONTAINS(POINT('ICRS',ra,dec),\n",
    "CIRCLE('ICRS', \"\"\" +  str(ra) + ',' + str(dec) + ',' + ' 0.2))'"
   ]
  },
  {
   "cell_type": "code",
   "execution_count": 9,
   "id": "3bde5f58-6e4f-46b6-8fa6-f28b0a206b6d",
   "metadata": {},
   "outputs": [
    {
     "name": "stdout",
     "output_type": "stream",
     "text": [
      "INFO: Query finished. [astroquery.utils.tap.core]\n"
     ]
    },
    {
     "data": {
      "text/plain": [
       "<astroquery.utils.tap.model.job.Job at 0x7f33160e4a90>"
      ]
     },
     "execution_count": 9,
     "metadata": {},
     "output_type": "execute_result"
    }
   ],
   "source": [
    "job = Gaia.launch_job_async(query)\n",
    "job"
   ]
  },
  {
   "cell_type": "code",
   "execution_count": 10,
   "id": "ce6031ad-1c30-44ba-af5f-2cb4ed81704d",
   "metadata": {},
   "outputs": [
    {
     "data": {
      "text/plain": [
       "13089"
      ]
     },
     "execution_count": 10,
     "metadata": {},
     "output_type": "execute_result"
    }
   ],
   "source": [
    "data = job.get_results()\n",
    "len(data)"
   ]
  },
  {
   "cell_type": "code",
   "execution_count": 11,
   "id": "a7b69784-84b8-4ff5-8739-96de5fc6c268",
   "metadata": {},
   "outputs": [],
   "source": [
    "#data"
   ]
  },
  {
   "cell_type": "markdown",
   "id": "b1efab4c-c343-42c0-9848-7c85c998ae55",
   "metadata": {},
   "source": [
    "## Converting to pandas"
   ]
  },
  {
   "cell_type": "code",
   "execution_count": 12,
   "id": "76000902-fd33-4bc1-bfa2-5dc9f2381477",
   "metadata": {},
   "outputs": [
    {
     "data": {
      "text/html": [
       "<div>\n",
       "<style scoped>\n",
       "    .dataframe tbody tr th:only-of-type {\n",
       "        vertical-align: middle;\n",
       "    }\n",
       "\n",
       "    .dataframe tbody tr th {\n",
       "        vertical-align: top;\n",
       "    }\n",
       "\n",
       "    .dataframe thead th {\n",
       "        text-align: right;\n",
       "    }\n",
       "</style>\n",
       "<table border=\"1\" class=\"dataframe\">\n",
       "  <thead>\n",
       "    <tr style=\"text-align: right;\">\n",
       "      <th></th>\n",
       "      <th>ra</th>\n",
       "      <th>dec</th>\n",
       "      <th>pmra</th>\n",
       "      <th>pmra_error</th>\n",
       "      <th>pmdec</th>\n",
       "      <th>pmdec_error</th>\n",
       "      <th>bp_rp</th>\n",
       "      <th>phot_g_mean_mag</th>\n",
       "      <th>parallax</th>\n",
       "      <th>parallax_error</th>\n",
       "      <th>radial_velocity</th>\n",
       "      <th>radial_velocity_error</th>\n",
       "      <th>l</th>\n",
       "      <th>b</th>\n",
       "    </tr>\n",
       "  </thead>\n",
       "  <tbody>\n",
       "    <tr>\n",
       "      <th>0</th>\n",
       "      <td>118.084012</td>\n",
       "      <td>-26.223265</td>\n",
       "      <td>NaN</td>\n",
       "      <td>NaN</td>\n",
       "      <td>NaN</td>\n",
       "      <td>NaN</td>\n",
       "      <td>1.371418</td>\n",
       "      <td>21.260489</td>\n",
       "      <td>NaN</td>\n",
       "      <td>NaN</td>\n",
       "      <td>NaN</td>\n",
       "      <td>NaN</td>\n",
       "      <td>242.977865</td>\n",
       "      <td>0.468305</td>\n",
       "    </tr>\n",
       "    <tr>\n",
       "      <th>1</th>\n",
       "      <td>118.126103</td>\n",
       "      <td>-26.274800</td>\n",
       "      <td>-0.382713</td>\n",
       "      <td>0.133382</td>\n",
       "      <td>-0.843738</td>\n",
       "      <td>0.198601</td>\n",
       "      <td>1.811218</td>\n",
       "      <td>18.918455</td>\n",
       "      <td>0.098486</td>\n",
       "      <td>0.188407</td>\n",
       "      <td>NaN</td>\n",
       "      <td>NaN</td>\n",
       "      <td>243.041466</td>\n",
       "      <td>0.474310</td>\n",
       "    </tr>\n",
       "    <tr>\n",
       "      <th>2</th>\n",
       "      <td>118.123838</td>\n",
       "      <td>-26.270109</td>\n",
       "      <td>-1.897590</td>\n",
       "      <td>0.073768</td>\n",
       "      <td>0.629247</td>\n",
       "      <td>0.111894</td>\n",
       "      <td>2.372637</td>\n",
       "      <td>17.933353</td>\n",
       "      <td>-0.033463</td>\n",
       "      <td>0.101360</td>\n",
       "      <td>NaN</td>\n",
       "      <td>NaN</td>\n",
       "      <td>243.036397</td>\n",
       "      <td>0.474971</td>\n",
       "    </tr>\n",
       "    <tr>\n",
       "      <th>3</th>\n",
       "      <td>118.127671</td>\n",
       "      <td>-26.267114</td>\n",
       "      <td>-2.292883</td>\n",
       "      <td>0.110644</td>\n",
       "      <td>4.675618</td>\n",
       "      <td>0.170326</td>\n",
       "      <td>1.516636</td>\n",
       "      <td>18.735485</td>\n",
       "      <td>0.326831</td>\n",
       "      <td>0.154053</td>\n",
       "      <td>NaN</td>\n",
       "      <td>NaN</td>\n",
       "      <td>243.035588</td>\n",
       "      <td>0.479457</td>\n",
       "    </tr>\n",
       "    <tr>\n",
       "      <th>4</th>\n",
       "      <td>118.122597</td>\n",
       "      <td>-26.265795</td>\n",
       "      <td>-0.679454</td>\n",
       "      <td>0.201832</td>\n",
       "      <td>1.989524</td>\n",
       "      <td>0.313405</td>\n",
       "      <td>1.682058</td>\n",
       "      <td>19.635258</td>\n",
       "      <td>-0.083280</td>\n",
       "      <td>0.310473</td>\n",
       "      <td>NaN</td>\n",
       "      <td>NaN</td>\n",
       "      <td>243.032122</td>\n",
       "      <td>0.476227</td>\n",
       "    </tr>\n",
       "    <tr>\n",
       "      <th>...</th>\n",
       "      <td>...</td>\n",
       "      <td>...</td>\n",
       "      <td>...</td>\n",
       "      <td>...</td>\n",
       "      <td>...</td>\n",
       "      <td>...</td>\n",
       "      <td>...</td>\n",
       "      <td>...</td>\n",
       "      <td>...</td>\n",
       "      <td>...</td>\n",
       "      <td>...</td>\n",
       "      <td>...</td>\n",
       "      <td>...</td>\n",
       "      <td>...</td>\n",
       "    </tr>\n",
       "    <tr>\n",
       "      <th>13084</th>\n",
       "      <td>118.022363</td>\n",
       "      <td>-26.248683</td>\n",
       "      <td>0.314266</td>\n",
       "      <td>0.165405</td>\n",
       "      <td>-0.597132</td>\n",
       "      <td>0.237341</td>\n",
       "      <td>1.390041</td>\n",
       "      <td>19.212446</td>\n",
       "      <td>0.407339</td>\n",
       "      <td>0.235644</td>\n",
       "      <td>NaN</td>\n",
       "      <td>NaN</td>\n",
       "      <td>242.971376</td>\n",
       "      <td>0.407792</td>\n",
       "    </tr>\n",
       "    <tr>\n",
       "      <th>13085</th>\n",
       "      <td>118.016534</td>\n",
       "      <td>-26.247499</td>\n",
       "      <td>-0.826551</td>\n",
       "      <td>0.245947</td>\n",
       "      <td>0.395981</td>\n",
       "      <td>0.352889</td>\n",
       "      <td>1.344427</td>\n",
       "      <td>19.778021</td>\n",
       "      <td>0.158567</td>\n",
       "      <td>0.347742</td>\n",
       "      <td>NaN</td>\n",
       "      <td>NaN</td>\n",
       "      <td>242.967682</td>\n",
       "      <td>0.403907</td>\n",
       "    </tr>\n",
       "    <tr>\n",
       "      <th>13086</th>\n",
       "      <td>118.011208</td>\n",
       "      <td>-26.245445</td>\n",
       "      <td>2.364042</td>\n",
       "      <td>0.062428</td>\n",
       "      <td>-0.386680</td>\n",
       "      <td>0.094652</td>\n",
       "      <td>1.216761</td>\n",
       "      <td>17.760868</td>\n",
       "      <td>0.366585</td>\n",
       "      <td>0.083329</td>\n",
       "      <td>NaN</td>\n",
       "      <td>NaN</td>\n",
       "      <td>242.963473</td>\n",
       "      <td>0.400854</td>\n",
       "    </tr>\n",
       "    <tr>\n",
       "      <th>13087</th>\n",
       "      <td>118.012197</td>\n",
       "      <td>-26.243339</td>\n",
       "      <td>-2.321427</td>\n",
       "      <td>0.107286</td>\n",
       "      <td>1.811466</td>\n",
       "      <td>0.162617</td>\n",
       "      <td>1.642612</td>\n",
       "      <td>18.662880</td>\n",
       "      <td>0.581553</td>\n",
       "      <td>0.156862</td>\n",
       "      <td>NaN</td>\n",
       "      <td>NaN</td>\n",
       "      <td>242.962118</td>\n",
       "      <td>0.402695</td>\n",
       "    </tr>\n",
       "    <tr>\n",
       "      <th>13088</th>\n",
       "      <td>118.008475</td>\n",
       "      <td>-26.242286</td>\n",
       "      <td>-1.662434</td>\n",
       "      <td>0.192871</td>\n",
       "      <td>1.804275</td>\n",
       "      <td>0.293439</td>\n",
       "      <td>1.382780</td>\n",
       "      <td>19.527863</td>\n",
       "      <td>0.029128</td>\n",
       "      <td>0.285401</td>\n",
       "      <td>NaN</td>\n",
       "      <td>NaN</td>\n",
       "      <td>242.959504</td>\n",
       "      <td>0.400366</td>\n",
       "    </tr>\n",
       "  </tbody>\n",
       "</table>\n",
       "<p>13089 rows × 14 columns</p>\n",
       "</div>"
      ],
      "text/plain": [
       "               ra        dec      pmra  pmra_error     pmdec  pmdec_error  \\\n",
       "0      118.084012 -26.223265       NaN         NaN       NaN          NaN   \n",
       "1      118.126103 -26.274800 -0.382713    0.133382 -0.843738     0.198601   \n",
       "2      118.123838 -26.270109 -1.897590    0.073768  0.629247     0.111894   \n",
       "3      118.127671 -26.267114 -2.292883    0.110644  4.675618     0.170326   \n",
       "4      118.122597 -26.265795 -0.679454    0.201832  1.989524     0.313405   \n",
       "...           ...        ...       ...         ...       ...          ...   \n",
       "13084  118.022363 -26.248683  0.314266    0.165405 -0.597132     0.237341   \n",
       "13085  118.016534 -26.247499 -0.826551    0.245947  0.395981     0.352889   \n",
       "13086  118.011208 -26.245445  2.364042    0.062428 -0.386680     0.094652   \n",
       "13087  118.012197 -26.243339 -2.321427    0.107286  1.811466     0.162617   \n",
       "13088  118.008475 -26.242286 -1.662434    0.192871  1.804275     0.293439   \n",
       "\n",
       "          bp_rp  phot_g_mean_mag  parallax  parallax_error  radial_velocity  \\\n",
       "0      1.371418        21.260489       NaN             NaN              NaN   \n",
       "1      1.811218        18.918455  0.098486        0.188407              NaN   \n",
       "2      2.372637        17.933353 -0.033463        0.101360              NaN   \n",
       "3      1.516636        18.735485  0.326831        0.154053              NaN   \n",
       "4      1.682058        19.635258 -0.083280        0.310473              NaN   \n",
       "...         ...              ...       ...             ...              ...   \n",
       "13084  1.390041        19.212446  0.407339        0.235644              NaN   \n",
       "13085  1.344427        19.778021  0.158567        0.347742              NaN   \n",
       "13086  1.216761        17.760868  0.366585        0.083329              NaN   \n",
       "13087  1.642612        18.662880  0.581553        0.156862              NaN   \n",
       "13088  1.382780        19.527863  0.029128        0.285401              NaN   \n",
       "\n",
       "       radial_velocity_error           l         b  \n",
       "0                        NaN  242.977865  0.468305  \n",
       "1                        NaN  243.041466  0.474310  \n",
       "2                        NaN  243.036397  0.474971  \n",
       "3                        NaN  243.035588  0.479457  \n",
       "4                        NaN  243.032122  0.476227  \n",
       "...                      ...         ...       ...  \n",
       "13084                    NaN  242.971376  0.407792  \n",
       "13085                    NaN  242.967682  0.403907  \n",
       "13086                    NaN  242.963473  0.400854  \n",
       "13087                    NaN  242.962118  0.402695  \n",
       "13088                    NaN  242.959504  0.400366  \n",
       "\n",
       "[13089 rows x 14 columns]"
      ]
     },
     "execution_count": 12,
     "metadata": {},
     "output_type": "execute_result"
    }
   ],
   "source": [
    "df = data.to_pandas()\n",
    "df"
   ]
  },
  {
   "cell_type": "code",
   "execution_count": 13,
   "id": "01debe18-c72b-4585-a428-4246e3fc8d88",
   "metadata": {},
   "outputs": [
    {
     "data": {
      "text/plain": [
       "<matplotlib.collections.PathCollection at 0x7f3315f95220>"
      ]
     },
     "execution_count": 13,
     "metadata": {},
     "output_type": "execute_result"
    },
    {
     "data": {
      "image/png": "[encoded data removed]",
      "text/plain": [
       "<Figure size 432x288 with 2 Axes>"
      ]
     },
     "metadata": {
      "needs_background": "light"
     },
     "output_type": "display_data"
    }
   ],
   "source": [
    "fig, ax = plt.subplots(2)\n",
    "\n",
    "ax[0].scatter(df.pmra_error,df.pmra)\n",
    "ax[1].scatter(df.pmdec_error,df.pmdec)"
   ]
  },
  {
   "cell_type": "code",
   "execution_count": 14,
   "id": "f2c2c7c4-4e27-4177-9890-e3d89391a8d6",
   "metadata": {},
   "outputs": [
    {
     "name": "stdout",
     "output_type": "stream",
     "text": [
      "2.338362670341811 0.3945692181587219\n",
      "-2.183892531282531 0.2658841907978058\n"
     ]
    }
   ],
   "source": [
    "print(np.mean(df.pmdec), np.mean(df.pmdec_error)) ## por que pmra tem um erro muito maior?\n",
    "print(np.mean(df.pmra), np.mean(df.pmra_error))"
   ]
  },
  {
   "cell_type": "markdown",
   "id": "3aa050ee-c336-4e0c-a20d-62e3113a0e64",
   "metadata": {},
   "source": [
    "## Dropping uknown values of pmra, pmdec or parallax."
   ]
  },
  {
   "cell_type": "code",
   "execution_count": 15,
   "id": "f4e22590-990a-47cf-8a7e-d304c95fedd8",
   "metadata": {},
   "outputs": [
    {
     "data": {
      "text/html": [
       "<div>\n",
       "<style scoped>\n",
       "    .dataframe tbody tr th:only-of-type {\n",
       "        vertical-align: middle;\n",
       "    }\n",
       "\n",
       "    .dataframe tbody tr th {\n",
       "        vertical-align: top;\n",
       "    }\n",
       "\n",
       "    .dataframe thead th {\n",
       "        text-align: right;\n",
       "    }\n",
       "</style>\n",
       "<table border=\"1\" class=\"dataframe\">\n",
       "  <thead>\n",
       "    <tr style=\"text-align: right;\">\n",
       "      <th></th>\n",
       "      <th>ra</th>\n",
       "      <th>dec</th>\n",
       "      <th>pmra</th>\n",
       "      <th>pmra_error</th>\n",
       "      <th>pmdec</th>\n",
       "      <th>pmdec_error</th>\n",
       "      <th>bp_rp</th>\n",
       "      <th>phot_g_mean_mag</th>\n",
       "      <th>parallax</th>\n",
       "      <th>parallax_error</th>\n",
       "      <th>radial_velocity</th>\n",
       "      <th>radial_velocity_error</th>\n",
       "      <th>l</th>\n",
       "      <th>b</th>\n",
       "    </tr>\n",
       "  </thead>\n",
       "  <tbody>\n",
       "    <tr>\n",
       "      <th>1</th>\n",
       "      <td>118.126103</td>\n",
       "      <td>-26.274800</td>\n",
       "      <td>-0.382713</td>\n",
       "      <td>0.133382</td>\n",
       "      <td>-0.843738</td>\n",
       "      <td>0.198601</td>\n",
       "      <td>1.811218</td>\n",
       "      <td>18.918455</td>\n",
       "      <td>0.098486</td>\n",
       "      <td>0.188407</td>\n",
       "      <td>NaN</td>\n",
       "      <td>NaN</td>\n",
       "      <td>243.041466</td>\n",
       "      <td>0.474310</td>\n",
       "    </tr>\n",
       "    <tr>\n",
       "      <th>2</th>\n",
       "      <td>118.123838</td>\n",
       "      <td>-26.270109</td>\n",
       "      <td>-1.897590</td>\n",
       "      <td>0.073768</td>\n",
       "      <td>0.629247</td>\n",
       "      <td>0.111894</td>\n",
       "      <td>2.372637</td>\n",
       "      <td>17.933353</td>\n",
       "      <td>-0.033463</td>\n",
       "      <td>0.101360</td>\n",
       "      <td>NaN</td>\n",
       "      <td>NaN</td>\n",
       "      <td>243.036397</td>\n",
       "      <td>0.474971</td>\n",
       "    </tr>\n",
       "    <tr>\n",
       "      <th>3</th>\n",
       "      <td>118.127671</td>\n",
       "      <td>-26.267114</td>\n",
       "      <td>-2.292883</td>\n",
       "      <td>0.110644</td>\n",
       "      <td>4.675618</td>\n",
       "      <td>0.170326</td>\n",
       "      <td>1.516636</td>\n",
       "      <td>18.735485</td>\n",
       "      <td>0.326831</td>\n",
       "      <td>0.154053</td>\n",
       "      <td>NaN</td>\n",
       "      <td>NaN</td>\n",
       "      <td>243.035588</td>\n",
       "      <td>0.479457</td>\n",
       "    </tr>\n",
       "    <tr>\n",
       "      <th>4</th>\n",
       "      <td>118.122597</td>\n",
       "      <td>-26.265795</td>\n",
       "      <td>-0.679454</td>\n",
       "      <td>0.201832</td>\n",
       "      <td>1.989524</td>\n",
       "      <td>0.313405</td>\n",
       "      <td>1.682058</td>\n",
       "      <td>19.635258</td>\n",
       "      <td>-0.083280</td>\n",
       "      <td>0.310473</td>\n",
       "      <td>NaN</td>\n",
       "      <td>NaN</td>\n",
       "      <td>243.032122</td>\n",
       "      <td>0.476227</td>\n",
       "    </tr>\n",
       "    <tr>\n",
       "      <th>5</th>\n",
       "      <td>118.123759</td>\n",
       "      <td>-26.261427</td>\n",
       "      <td>-1.276821</td>\n",
       "      <td>0.230140</td>\n",
       "      <td>2.688017</td>\n",
       "      <td>0.329955</td>\n",
       "      <td>1.418453</td>\n",
       "      <td>19.673010</td>\n",
       "      <td>-0.021729</td>\n",
       "      <td>0.308798</td>\n",
       "      <td>NaN</td>\n",
       "      <td>NaN</td>\n",
       "      <td>243.028906</td>\n",
       "      <td>0.479361</td>\n",
       "    </tr>\n",
       "    <tr>\n",
       "      <th>...</th>\n",
       "      <td>...</td>\n",
       "      <td>...</td>\n",
       "      <td>...</td>\n",
       "      <td>...</td>\n",
       "      <td>...</td>\n",
       "      <td>...</td>\n",
       "      <td>...</td>\n",
       "      <td>...</td>\n",
       "      <td>...</td>\n",
       "      <td>...</td>\n",
       "      <td>...</td>\n",
       "      <td>...</td>\n",
       "      <td>...</td>\n",
       "      <td>...</td>\n",
       "    </tr>\n",
       "    <tr>\n",
       "      <th>13084</th>\n",
       "      <td>118.022363</td>\n",
       "      <td>-26.248683</td>\n",
       "      <td>0.314266</td>\n",
       "      <td>0.165405</td>\n",
       "      <td>-0.597132</td>\n",
       "      <td>0.237341</td>\n",
       "      <td>1.390041</td>\n",
       "      <td>19.212446</td>\n",
       "      <td>0.407339</td>\n",
       "      <td>0.235644</td>\n",
       "      <td>NaN</td>\n",
       "      <td>NaN</td>\n",
       "      <td>242.971376</td>\n",
       "      <td>0.407792</td>\n",
       "    </tr>\n",
       "    <tr>\n",
       "      <th>13085</th>\n",
       "      <td>118.016534</td>\n",
       "      <td>-26.247499</td>\n",
       "      <td>-0.826551</td>\n",
       "      <td>0.245947</td>\n",
       "      <td>0.395981</td>\n",
       "      <td>0.352889</td>\n",
       "      <td>1.344427</td>\n",
       "      <td>19.778021</td>\n",
       "      <td>0.158567</td>\n",
       "      <td>0.347742</td>\n",
       "      <td>NaN</td>\n",
       "      <td>NaN</td>\n",
       "      <td>242.967682</td>\n",
       "      <td>0.403907</td>\n",
       "    </tr>\n",
       "    <tr>\n",
       "      <th>13086</th>\n",
       "      <td>118.011208</td>\n",
       "      <td>-26.245445</td>\n",
       "      <td>2.364042</td>\n",
       "      <td>0.062428</td>\n",
       "      <td>-0.386680</td>\n",
       "      <td>0.094652</td>\n",
       "      <td>1.216761</td>\n",
       "      <td>17.760868</td>\n",
       "      <td>0.366585</td>\n",
       "      <td>0.083329</td>\n",
       "      <td>NaN</td>\n",
       "      <td>NaN</td>\n",
       "      <td>242.963473</td>\n",
       "      <td>0.400854</td>\n",
       "    </tr>\n",
       "    <tr>\n",
       "      <th>13087</th>\n",
       "      <td>118.012197</td>\n",
       "      <td>-26.243339</td>\n",
       "      <td>-2.321427</td>\n",
       "      <td>0.107286</td>\n",
       "      <td>1.811466</td>\n",
       "      <td>0.162617</td>\n",
       "      <td>1.642612</td>\n",
       "      <td>18.662880</td>\n",
       "      <td>0.581553</td>\n",
       "      <td>0.156862</td>\n",
       "      <td>NaN</td>\n",
       "      <td>NaN</td>\n",
       "      <td>242.962118</td>\n",
       "      <td>0.402695</td>\n",
       "    </tr>\n",
       "    <tr>\n",
       "      <th>13088</th>\n",
       "      <td>118.008475</td>\n",
       "      <td>-26.242286</td>\n",
       "      <td>-1.662434</td>\n",
       "      <td>0.192871</td>\n",
       "      <td>1.804275</td>\n",
       "      <td>0.293439</td>\n",
       "      <td>1.382780</td>\n",
       "      <td>19.527863</td>\n",
       "      <td>0.029128</td>\n",
       "      <td>0.285401</td>\n",
       "      <td>NaN</td>\n",
       "      <td>NaN</td>\n",
       "      <td>242.959504</td>\n",
       "      <td>0.400366</td>\n",
       "    </tr>\n",
       "  </tbody>\n",
       "</table>\n",
       "<p>11548 rows × 14 columns</p>\n",
       "</div>"
      ],
      "text/plain": [
       "               ra        dec      pmra  pmra_error     pmdec  pmdec_error  \\\n",
       "1      118.126103 -26.274800 -0.382713    0.133382 -0.843738     0.198601   \n",
       "2      118.123838 -26.270109 -1.897590    0.073768  0.629247     0.111894   \n",
       "3      118.127671 -26.267114 -2.292883    0.110644  4.675618     0.170326   \n",
       "4      118.122597 -26.265795 -0.679454    0.201832  1.989524     0.313405   \n",
       "5      118.123759 -26.261427 -1.276821    0.230140  2.688017     0.329955   \n",
       "...           ...        ...       ...         ...       ...          ...   \n",
       "13084  118.022363 -26.248683  0.314266    0.165405 -0.597132     0.237341   \n",
       "13085  118.016534 -26.247499 -0.826551    0.245947  0.395981     0.352889   \n",
       "13086  118.011208 -26.245445  2.364042    0.062428 -0.386680     0.094652   \n",
       "13087  118.012197 -26.243339 -2.321427    0.107286  1.811466     0.162617   \n",
       "13088  118.008475 -26.242286 -1.662434    0.192871  1.804275     0.293439   \n",
       "\n",
       "          bp_rp  phot_g_mean_mag  parallax  parallax_error  radial_velocity  \\\n",
       "1      1.811218        18.918455  0.098486        0.188407              NaN   \n",
       "2      2.372637        17.933353 -0.033463        0.101360              NaN   \n",
       "3      1.516636        18.735485  0.326831        0.154053              NaN   \n",
       "4      1.682058        19.635258 -0.083280        0.310473              NaN   \n",
       "5      1.418453        19.673010 -0.021729        0.308798              NaN   \n",
       "...         ...              ...       ...             ...              ...   \n",
       "13084  1.390041        19.212446  0.407339        0.235644              NaN   \n",
       "13085  1.344427        19.778021  0.158567        0.347742              NaN   \n",
       "13086  1.216761        17.760868  0.366585        0.083329              NaN   \n",
       "13087  1.642612        18.662880  0.581553        0.156862              NaN   \n",
       "13088  1.382780        19.527863  0.029128        0.285401              NaN   \n",
       "\n",
       "       radial_velocity_error           l         b  \n",
       "1                        NaN  243.041466  0.474310  \n",
       "2                        NaN  243.036397  0.474971  \n",
       "3                        NaN  243.035588  0.479457  \n",
       "4                        NaN  243.032122  0.476227  \n",
       "5                        NaN  243.028906  0.479361  \n",
       "...                      ...         ...       ...  \n",
       "13084                    NaN  242.971376  0.407792  \n",
       "13085                    NaN  242.967682  0.403907  \n",
       "13086                    NaN  242.963473  0.400854  \n",
       "13087                    NaN  242.962118  0.402695  \n",
       "13088                    NaN  242.959504  0.400366  \n",
       "\n",
       "[11548 rows x 14 columns]"
      ]
     },
     "execution_count": 15,
     "metadata": {},
     "output_type": "execute_result"
    }
   ],
   "source": [
    "ndf = df.dropna(how='any',subset=['pmra', 'pmdec', 'parallax'])\n",
    "ndf"
   ]
  },
  {
   "cell_type": "code",
   "execution_count": 16,
   "id": "1bfb872b-a227-4a97-a524-518c48fb68dc",
   "metadata": {},
   "outputs": [],
   "source": [
    "x = ndf['pmra']\n",
    "y = ndf['pmdec']"
   ]
  },
  {
   "cell_type": "code",
   "execution_count": 17,
   "id": "6d021de0-2c20-462f-a02a-4c0808ab75ce",
   "metadata": {},
   "outputs": [],
   "source": [
    "from sklearn.cluster import DBSCAN\n",
    "from sklearn.metrics import silhouette_score\n",
    "from sklearn.metrics import v_measure_score\n",
    "from sklearn.preprocessing import StandardScaler"
   ]
  },
  {
   "cell_type": "markdown",
   "id": "d3186d14-8c30-4ca6-ab94-0af99cd3d674",
   "metadata": {},
   "source": [
    "## Creating the arrays to perform the 2-D KNN fit and 5-D DBSCAN fit"
   ]
  },
  {
   "cell_type": "code",
   "execution_count": 41,
   "id": "7a830cf8-7185-4ced-909e-0e9d60d140b5",
   "metadata": {},
   "outputs": [],
   "source": [
    "X = np.dstack((ndf['pmra'],ndf['pmdec']))[0]\n",
    "cincoD = np.dstack((ndf['pmra'],ndf['pmdec'],ndf['ra'],ndf['dec'],ndf['parallax']))[0]"
   ]
  },
  {
   "cell_type": "markdown",
   "id": "3b593589-3726-429a-9c40-0d6040312163",
   "metadata": {},
   "source": [
    "## Performing the KNN on the pmra and pmdec."
   ]
  },
  {
   "cell_type": "code",
   "execution_count": 48,
   "id": "2cdd99c4-8a08-4c06-94fe-900497cd79ce",
   "metadata": {},
   "outputs": [
    {
     "name": "stdout",
     "output_type": "stream",
     "text": [
      "0.43789947569011667\n"
     ]
    },
    {
     "data": {
      "text/plain": [
       "<Figure size 360x360 with 0 Axes>"
      ]
     },
     "metadata": {},
     "output_type": "display_data"
    },
    {
     "data": {
      "image/png": "[encoded data removed]",
      "text/plain": [
       "<Figure size 432x432 with 1 Axes>"
      ]
     },
     "metadata": {
      "needs_background": "light"
     },
     "output_type": "display_data"
    }
   ],
   "source": [
    "from sklearn.neighbors import NearestNeighbors\n",
    "vizinhos = 100\n",
    "nn = NearestNeighbors(n_neighbors=vizinhos).fit(cincoD)\n",
    "distances, indices = nn.kneighbors(cincoD)\n",
    "\n",
    "distances = np.sort(distances, axis=0)\n",
    "oioi = distances\n",
    "distances = distances[:,1]\n",
    "\n",
    "from kneed import KneeLocator\n",
    "i = np.arange(len(distances))\n",
    "knee = KneeLocator(i, distances, S=1, curve='convex', direction='increasing', interp_method='polynomial')\n",
    "fig = plt.figure(figsize=(5, 5))\n",
    "knee.plot_knee()\n",
    "plt.xlabel(\"Points\")\n",
    "plt.ylabel(\"Distance\")\n",
    "\n",
    "\n",
    "eps_opt = distances[knee.knee]\n",
    "nmin = int(0.005*len(data))\n",
    "\n",
    "print(distances[knee.knee])"
   ]
  },
  {
   "cell_type": "code",
   "execution_count": 50,
   "id": "edee19ea-04cf-4c2d-9128-42c93ea4e65b",
   "metadata": {},
   "outputs": [
    {
     "data": {
      "text/plain": [
       "(-1.0, 2.0)"
      ]
     },
     "execution_count": 50,
     "metadata": {},
     "output_type": "execute_result"
    },
    {
     "data": {
      "image/png": "[encoded data removed]",
      "text/plain": [
       "<Figure size 432x288 with 1 Axes>"
      ]
     },
     "metadata": {
      "needs_background": "light"
     },
     "output_type": "display_data"
    }
   ],
   "source": [
    "medias = np.zeros(len(oioi))\n",
    "for i in range(len(oioi)):\n",
    "    medias[i] = np.mean(oioi[:][i])\n",
    "\n",
    "optimal_bin = np.histogram_bin_edges(medias, bins = 'fd')\n",
    "a = plt.hist(medias, optimal_bin,  ec = 'k', color = 'green')\n",
    "numero, bins = a[0],a[1]\n",
    "plt.xlim(-1,2)"
   ]
  },
  {
   "cell_type": "code",
   "execution_count": 72,
   "id": "51a52b1f-b845-407e-8fb1-4e95496b9c43",
   "metadata": {},
   "outputs": [
    {
     "name": "stdout",
     "output_type": "stream",
     "text": [
      "eps = 0.1068626911999782\n",
      "Estimated no. of clusters: 0\n",
      "Estimated no. points clustered: 0\n",
      "eps = 0.14296183242751875\n",
      "Estimated no. of clusters: 0\n",
      "Estimated no. points clustered: 0\n",
      "eps = 0.1790609736550593\n",
      "Estimated no. of clusters: 1\n",
      "Estimated no. points clustered: 245\n",
      "eps = 0.21516011488259984\n",
      "Estimated no. of clusters: 1\n",
      "Estimated no. points clustered: 533\n"
     ]
    }
   ],
   "source": [
    "listinha = bins[0:4]\n",
    "\n",
    "for element in listinha:\n",
    "    db = DBSCAN(eps=element, min_samples=100).fit(cincoD)\n",
    "    #core_samples_mask = np.zeros_like(db.labels_, dtype=bool)\n",
    "    #core_samples_mask[db.core_sample_indices_] = True\n",
    "    labels = db.labels_\n",
    "    print('eps =', element)\n",
    "    N_clus=len(set(labels))-(1 if -1 in labels else 0)\n",
    "    print('Estimated no. of clusters: %d' % N_clus)\n",
    "    n_in = list(db.labels_).count(0)\n",
    "    print('Estimated no. points clustered: %d' % n_in)\n"
   ]
  },
  {
   "cell_type": "code",
   "execution_count": 20,
   "id": "f9cb21bd-2fcb-4ca4-bfba-d41e9aade1ef",
   "metadata": {},
   "outputs": [],
   "source": [
    "plt.rc('xtick', labelsize=12)\n",
    "plt.rc('ytick', labelsize=12)\n",
    "plt.rcParams['axes.linewidth'] = 1.0\n",
    "\n",
    "\n",
    "font = {'family' : 'serif',\n",
    "        'weight' : 'normal',\n",
    "        'size'   : 13}\n",
    "\n",
    "plt.rc('font', **font)"
   ]
  },
  {
   "cell_type": "markdown",
   "id": "061681a0-a95c-47e5-b1e8-5fc5dbcc9918",
   "metadata": {},
   "source": [
    "## Performing DBSCAN"
   ]
  },
  {
   "cell_type": "code",
   "execution_count": 73,
   "id": "0e6552b0-ef23-45f9-b6d8-b62f73263d91",
   "metadata": {},
   "outputs": [
    {
     "name": "stdout",
     "output_type": "stream",
     "text": [
      "Estimated no. of clusters: 1\n",
      "Estimated no. of noise points: 11303\n",
      "Estimated no. points clustered: 245\n"
     ]
    },
    {
     "data": {
      "text/plain": [
       "Text(0, 0.5, 'pmdec')"
      ]
     },
     "execution_count": 73,
     "metadata": {},
     "output_type": "execute_result"
    },
    {
     "data": {
      "image/png": "[encoded data removed]",
      "text/plain": [
       "<Figure size 432x288 with 1 Axes>"
      ]
     },
     "metadata": {
      "needs_background": "light"
     },
     "output_type": "display_data"
    }
   ],
   "source": [
    "db = DBSCAN(eps=0.179, min_samples=100).fit(cincoD)\n",
    "core_samples_mask = np.zeros_like(db.labels_, dtype=bool)\n",
    "core_samples_mask[db.core_sample_indices_] = True\n",
    "labels = db.labels_\n",
    "\n",
    "N_clus=len(set(labels))-(1 if -1 in labels else 0)\n",
    "print('Estimated no. of clusters: %d' % N_clus)\n",
    "\n",
    "n_noise = list(db.labels_).count(-1)\n",
    "print('Estimated no. of noise points: %d' % n_noise)\n",
    "\n",
    "n_in = list(db.labels_).count(0)\n",
    "print('Estimated no. points clustered: %d' % n_in)\n",
    "\n",
    "\n",
    "plt.scatter(X[:, 0], \n",
    "            X[:, 1], \n",
    "            c=db.labels_, \n",
    "            )\n",
    "plt.xlabel(\"pmra\", fontweight = 'bold')\n",
    "plt.ylabel(\"pmdec\", fontweight = 'bold')"
   ]
  },
  {
   "cell_type": "markdown",
   "id": "b2d83603-81b3-4d0c-a656-0450488e4ca3",
   "metadata": {},
   "source": [
    "## Getting the points that are clustered"
   ]
  },
  {
   "cell_type": "code",
   "execution_count": 74,
   "id": "3f5dd7c8-6445-4acd-b226-c3d6e97efea7",
   "metadata": {},
   "outputs": [
    {
     "data": {
      "image/png": "[encoded data removed]",
      "text/plain": [
       "<Figure size 720x432 with 2 Axes>"
      ]
     },
     "metadata": {
      "needs_background": "light"
     },
     "output_type": "display_data"
    }
   ],
   "source": [
    "pontos_cluster = np.empty((0,2))\n",
    "for i in range(len(X)):\n",
    "    if labels[i]==0:\n",
    "        pontos_cluster = np.append(pontos_cluster, np.array([X[i]]), axis  = 0) #problema no formato do array para dar append\n",
    "    else:\n",
    "        continue\n",
    "\n",
    "xin,yin = pontos_cluster.T\n",
    "\n",
    "pontos_cluster = np.empty((0,2))\n",
    "for i in range(len(X)):\n",
    "    if labels[i]==-1:\n",
    "        pontos_cluster = np.append(pontos_cluster, np.array([X[i]]), axis  = 0) #problema no formato do array para dar append\n",
    "    else:\n",
    "        continue\n",
    "\n",
    "\n",
    "xout, yout = pontos_cluster.T\n",
    "\n",
    "\n",
    "subset = ndf[ndf['pmra'].isin(xin) & ndf['pmdec'].isin(yin)]\n",
    "subset = subset.reset_index(drop=True)\n",
    "\n",
    "fig, ax = plt.subplots(1,2, figsize=(10,6))\n",
    "ax[0].scatter(xin,yin, color = 'k', zorder = 100)\n",
    "ax[0].scatter(xout,yout, color = 'red')\n",
    "\n",
    "\n",
    "ax[1].scatter(subset['bp_rp'],subset['phot_g_mean_mag'])\n",
    "ax[1].invert_yaxis()\n"
   ]
  },
  {
   "cell_type": "code",
   "execution_count": 66,
   "id": "0aa368ca-3e4e-4d8f-b250-464c9de9bbbb",
   "metadata": {},
   "outputs": [
    {
     "data": {
      "image/png": "[encoded data removed]",
      "text/plain": [
       "<Figure size 360x576 with 1 Axes>"
      ]
     },
     "metadata": {
      "needs_background": "light"
     },
     "output_type": "display_data"
    }
   ],
   "source": [
    "plt.figure(figsize=(5,8))\n",
    "plt.scatter(subset['bp_rp'],subset['phot_g_mean_mag'])\n",
    "plt.gca().invert_yaxis()"
   ]
  },
  {
   "cell_type": "markdown",
   "id": "e97bc501-2309-4986-aa6f-74039153f3e1",
   "metadata": {},
   "source": [
    "## Constructing a RDP and histograms of the clusters parameters"
   ]
  },
  {
   "cell_type": "code",
   "execution_count": 24,
   "id": "40118a7a-2fff-4128-a1fe-379b764af944",
   "metadata": {},
   "outputs": [
    {
     "data": {
      "text/plain": [
       "Text(0, 0.5, 'stellar density (arcsec$^{-2}$)')"
      ]
     },
     "execution_count": 24,
     "metadata": {},
     "output_type": "execute_result"
    },
    {
     "data": {
      "image/png": "[encoded data removed]",
      "text/plain": [
       "<Figure size 432x288 with 1 Axes>"
      ]
     },
     "metadata": {
      "needs_background": "light"
     },
     "output_type": "display_data"
    }
   ],
   "source": [
    "from astropy.coordinates import SkyCoord\n",
    "from astropy import units\n",
    "\n",
    "catalog = SkyCoord(ra=subset['ra']*units.degree, dec=subset['dec']*units.degree, frame='fk5')\n",
    "\n",
    "nstar = len(subset)\n",
    "\n",
    "#.Definindo o vizinho apropriado para a abertura\n",
    "\n",
    "k = np.sqrt(nstar).astype(int)\n",
    "\n",
    "#.criando a estrutura de vizinhos proximos\n",
    "coords = np.array([subset['ra']*np.cos(subset['dec']*np.pi/180.0), subset['dec']]).T\n",
    "nn_struct = NearestNeighbors(n_neighbors=k, algorithm='auto', metric='euclidean')\n",
    "nn_struct.fit(coords)\n",
    "distances, index = nn_struct.kneighbors(coords)\n",
    "             \n",
    "\n",
    "#.obtendo a distancia do k-esimo vizinho mais proximo\n",
    "aperture = distances[:,k-1]*units.degree\n",
    "area = np.pi*(aperture.value)**2# + area_cor(data, data.DEC, aperture.value)\n",
    "den_data = k/area\n",
    "den_sigm = np.sqrt(k)/area\n",
    "\n",
    "den_data /= 3600**2\n",
    "den_sigm /= 3600**2\n",
    "\n",
    "med_x = np.average(subset['ra'], weights=den_data)\n",
    "std_x = np.average((subset['ra']-med_x)**2, weights=den_data)**0.5\n",
    "\n",
    "med_y = np.average(subset['dec'], weights=den_data)\n",
    "std_y = np.average((subset['dec']-med_y)**2, weights=den_data)**0.5\n",
    "\n",
    "center = SkyCoord(med_x*units.degree, med_y*units.degree)\n",
    "radii = center.separation(catalog)\n",
    "radii = radii.to(units.arcsec).value\n",
    "\n",
    "#.criando figura do RDP\n",
    "\n",
    "import matplotlib.cm as cm\n",
    "cor = cm.get_cmap('jet')\n",
    "\n",
    "fig, ax = plt.subplots()#1,1,figsize=(10,11))\n",
    "ax.scatter(radii,den_data, s=(max(subset['phot_g_mean_mag'])-subset['phot_g_mean_mag'])*20, c=den_data/3600**2, cmap = cor, label='data')\n",
    "ax.set_xlabel('radius (arcsec)', fontsize=18, fontweight='bold')\n",
    "ax.set_ylabel('stellar density (arcsec$^{-2}$)', fontsize=18, fontweight='bold')\n",
    "\n"
   ]
  },
  {
   "cell_type": "markdown",
   "id": "745deccc-b7c0-408f-8e44-a40b28044e17",
   "metadata": {},
   "source": [
    "## Plotting histograms"
   ]
  },
  {
   "cell_type": "code",
   "execution_count": 25,
   "id": "071a7e5d-7e96-40b9-930e-ffdfd72f8deb",
   "metadata": {},
   "outputs": [
    {
     "data": {
      "image/png": "[encoded data removed]",
      "text/plain": [
       "<Figure size 936x720 with 4 Axes>"
      ]
     },
     "metadata": {
      "needs_background": "light"
     },
     "output_type": "display_data"
    }
   ],
   "source": [
    "fig = plt.figure(figsize = (13,10))\n",
    "ax1 = fig.add_subplot(4,4, (1,6))\n",
    "ax2 = fig.add_subplot(4,4, (9,14))\n",
    "ax3 = fig.add_subplot(4,4, (3,8))\n",
    "ax4 = fig.add_subplot(4,4, (11,16))\n",
    "\n",
    "optimal_bin = np.histogram_bin_edges(subset['ra'], bins = 'fd')\n",
    "ax1.hist(subset['ra'], optimal_bin,  ec = 'k', color = 'green');\n",
    "\n",
    "optimal_bin = np.histogram_bin_edges(subset['pmra'], bins = 'fd')\n",
    "ax2.hist(subset['pmra'], optimal_bin,  ec = 'k', color = 'green');\n",
    "\n",
    "optimal_bin = np.histogram_bin_edges(subset['dec'], bins = 'fd')\n",
    "ax3.hist(subset['dec'], optimal_bin,  ec = 'k', color = 'red');\n",
    "\n",
    "optimal_bin = np.histogram_bin_edges(subset['pmdec'], bins = 'fd')\n",
    "ax4.hist(subset['pmdec'], optimal_bin,  ec = 'k', color = 'red');\n",
    "\n",
    "ax1.set_title('ra', fontweight = 'bold')\n",
    "ax2.set_title('pmra', fontweight = 'bold')\n",
    "ax3.set_title('dec', fontweight = 'bold')\n",
    "ax4.set_title('pmdec', fontweight = 'bold')\n",
    "\n",
    "plt.subplots_adjust(wspace = 0.2, hspace = 0.5)\n"
   ]
  },
  {
   "cell_type": "code",
   "execution_count": 26,
   "id": "55b77219-5085-4be7-b901-c475a2e22391",
   "metadata": {},
   "outputs": [
    {
     "data": {
      "image/png": "[encoded data removed]",
      "text/plain": [
       "<Figure size 1008x504 with 2 Axes>"
      ]
     },
     "metadata": {
      "needs_background": "light"
     },
     "output_type": "display_data"
    }
   ],
   "source": [
    "fig = plt.figure(figsize=(14,7))\n",
    "ax1 = fig.add_subplot(2,4, (1,6))\n",
    "\n",
    "optimal_bin = np.histogram_bin_edges(subset['parallax'], bins = 'fd')\n",
    "ax1.hist(subset['parallax'], optimal_bin, ec = 'k',color = 'blue');\n",
    "\n",
    "ax2 = fig.add_subplot(2,4, (3,8))\n",
    "\n",
    "ra_vel = subset.dropna(how='any',subset=['radial_velocity'])\n",
    "optimal_bin = np.histogram_bin_edges(ra_vel['radial_velocity'], bins = 'fd')\n",
    "ax2.hist(ra_vel.radial_velocity, optimal_bin, ec = 'k',color = 'orange');\n",
    "\n",
    "ax1.set_title('parallax', fontweight = 'bold')\n",
    "ax2.set_title('radial velocity', fontweight = 'bold');"
   ]
  },
  {
   "cell_type": "markdown",
   "id": "162cb4b6-ffc0-4462-ba56-5706b083601a",
   "metadata": {},
   "source": [
    "## Gaussian fit"
   ]
  },
  {
   "cell_type": "code",
   "execution_count": 27,
   "id": "e7f6d680-d07d-4b8b-9bfc-edf0bf934f8c",
   "metadata": {},
   "outputs": [],
   "source": [
    "def gaussiana(x, amp, mu, sigma):\n",
    "    return amp*np.exp(-(x-mu)**2/(2*sigma**2))\n",
    "\n",
    "from lmfit.models import GaussianModel"
   ]
  },
  {
   "cell_type": "code",
   "execution_count": 28,
   "id": "4596d56f-40fa-4def-85b4-51283340d87e",
   "metadata": {},
   "outputs": [
    {
     "name": "stdout",
     "output_type": "stream",
     "text": [
      "[[Model]]\n",
      "    Model(gaussian)\n",
      "[[Fit Statistics]]\n",
      "    # fitting method   = leastsq\n",
      "    # function evals   = 37\n",
      "    # data points      = 11\n",
      "    # variables        = 3\n",
      "    chi-square         = 123.759057\n",
      "    reduced chi-square = 15.4698821\n",
      "    Akaike info crit   = 32.6248545\n",
      "    Bayesian info crit = 33.8185403\n",
      "[[Variables]]\n",
      "    amplitude:  2.36737523 +/- 0.29449057 (12.44%) (init = 3.47736)\n",
      "    center:     0.21041934 +/- 0.00587052 (2.79%) (init = 0.2120594)\n",
      "    sigma:      0.04088434 +/- 0.00587716 (14.38%) (init = 0.04293037)\n",
      "    fwhm:       0.09627526 +/- 0.01383966 (14.38%) == '2.3548200*sigma'\n",
      "    height:     23.1004365 +/- 2.87307979 (12.44%) == '0.3989423*amplitude/max(1e-15, sigma)'\n",
      "[[Correlations]] (unreported correlations are < 0.100)\n",
      "    C(amplitude, sigma) = 0.578\n"
     ]
    },
    {
     "data": {
      "image/png": "[encoded data removed]",
      "text/plain": [
       "<Figure size 576x432 with 1 Axes>"
      ]
     },
     "metadata": {
      "needs_background": "light"
     },
     "output_type": "display_data"
    }
   ],
   "source": [
    "fig, ax = plt.subplots(figsize=(8,6))\n",
    "\n",
    "\n",
    "data = subset['parallax']\n",
    "optimal_bin = np.histogram_bin_edges(data, bins = 'fd')\n",
    "\n",
    "histograma = ax.hist(data, optimal_bin, ec = 'k',color = 'orange');\n",
    "\n",
    "numero, bins = histograma[0],histograma[1]\n",
    "\n",
    "centralizar = (bins[1] - bins[0])/2\n",
    "\n",
    "teste = np.linspace(bins.min(),bins.max(),len(bins) -1)\n",
    "\n",
    "jpt = np.linspace(np.min(data) + centralizar, np.max(data) - centralizar, len(numero))\n",
    "\n",
    "\n",
    "gmodel = GaussianModel()\n",
    "\n",
    "inicial = gmodel.guess(numero, x = teste)\n",
    "\n",
    "result = gmodel.fit(numero, inicial, x=teste)\n",
    "\n",
    "\n",
    "print(result.fit_report())\n",
    "\n",
    "\n",
    "\n",
    "parametros = [result.params['height'].value, result.params['center'].value, result.params['sigma'].value]\n",
    "valores_paralaxe = [result.params['center'].value, result.params['sigma'].value]\n",
    "\n",
    "xplot = np.linspace(1.3*bins[0],1.3*bins[-1],128*2)\n",
    "\n",
    "ax.plot(xplot,gaussiana(xplot,*parametros), color = 'k')\n",
    "\n",
    "ax.set_title('parallax', fontweight = 'bold')\n",
    "\n",
    "plt.show()"
   ]
  },
  {
   "cell_type": "code",
   "execution_count": 29,
   "id": "8a5ec7cc-3804-4ee1-86ae-009de509436a",
   "metadata": {},
   "outputs": [],
   "source": [
    "#primeiro_clip = subset.parallax[np.where((subset.parallax < sigma_parallax_up ) & (subset.parallax > sigma_parallax_down))[0]]\n",
    "#primeiro_clip"
   ]
  },
  {
   "cell_type": "code",
   "execution_count": 30,
   "id": "7be0ede2-e52e-438f-a4dd-7f5fdcae6f74",
   "metadata": {},
   "outputs": [
    {
     "name": "stdout",
     "output_type": "stream",
     "text": [
      "[[Model]]\n",
      "    Model(gaussian)\n",
      "[[Fit Statistics]]\n",
      "    # fitting method   = leastsq\n",
      "    # function evals   = 33\n",
      "    # data points      = 19\n",
      "    # variables        = 3\n",
      "    chi-square         = 142.727103\n",
      "    reduced chi-square = 8.92044397\n",
      "    Akaike info crit   = 44.3134137\n",
      "    Bayesian info crit = 47.1467307\n",
      "[[Variables]]\n",
      "    amplitude:  0.85466889 +/- 0.09511220 (11.13%) (init = 0.6793854)\n",
      "    center:     118.189403 +/- 0.00205633 (0.00%) (init = 118.1892)\n",
      "    sigma:      0.01600354 +/- 0.00205646 (12.85%) (init = 0.01191904)\n",
      "    fwhm:       0.03768546 +/- 0.00484259 (12.85%) == '2.3548200*sigma'\n",
      "    height:     21.3055087 +/- 2.37098884 (11.13%) == '0.3989423*amplitude/max(1e-15, sigma)'\n",
      "[[Correlations]] (unreported correlations are < 0.100)\n",
      "    C(amplitude, sigma) = 0.577\n"
     ]
    },
    {
     "data": {
      "image/png": "[encoded data removed]",
      "text/plain": [
       "<Figure size 576x432 with 1 Axes>"
      ]
     },
     "metadata": {
      "needs_background": "light"
     },
     "output_type": "display_data"
    }
   ],
   "source": [
    "fig, ax = plt.subplots(figsize=(8,6))\n",
    "\n",
    "\n",
    "data = subset['ra']\n",
    "optimal_bin = np.histogram_bin_edges(data, bins = 'fd')\n",
    "\n",
    "histograma = ax.hist(data, optimal_bin, ec = 'k',color = 'blue');\n",
    "\n",
    "numero, bins = histograma[0],histograma[1]\n",
    "\n",
    "centralizar = (bins[1] - bins[0])/2\n",
    "\n",
    "teste = np.linspace(bins.min(),bins.max(),len(bins) -1)\n",
    "\n",
    "jpt = np.linspace(np.min(data) + centralizar, np.max(data) - centralizar, len(numero))\n",
    "\n",
    "\n",
    "gmodel = GaussianModel()\n",
    "\n",
    "inicial = gmodel.guess(numero, x = teste)\n",
    "\n",
    "result = gmodel.fit(numero, inicial, x=teste)\n",
    "\n",
    "\n",
    "print(result.fit_report())\n",
    "\n",
    "\n",
    "\n",
    "parametros = [result.params['height'].value, result.params['center'].value, result.params['sigma'].value]\n",
    "valores_ra = [result.params['center'].value, result.params['sigma'].value]\n",
    "\n",
    "xplot = np.linspace(bins[0],bins[-1],128*2)\n",
    "\n",
    "ax.plot(xplot,gaussiana(xplot,*parametros), color = 'k')\n",
    "\n",
    "ax.set_title('ra', fontweight = 'bold')\n",
    "\n",
    "plt.show()"
   ]
  },
  {
   "cell_type": "code",
   "execution_count": 31,
   "id": "b7821597-832b-4214-ac0b-dd5c6d1600a0",
   "metadata": {},
   "outputs": [
    {
     "name": "stdout",
     "output_type": "stream",
     "text": [
      "[[Model]]\n",
      "    Model(gaussian)\n",
      "[[Fit Statistics]]\n",
      "    # fitting method   = leastsq\n",
      "    # function evals   = 21\n",
      "    # data points      = 7\n",
      "    # variables        = 3\n",
      "    chi-square         = 74.6551409\n",
      "    reduced chi-square = 18.6637852\n",
      "    Akaike info crit   = 22.5687847\n",
      "    Bayesian info crit = 22.4065151\n",
      "[[Variables]]\n",
      "    amplitude:  4.89558792 +/- 0.74585110 (15.24%) (init = 7.472445)\n",
      "    center:    -2.53932273 +/- 0.01459930 (0.57%) (init = -2.525146)\n",
      "    sigma:      0.09006767 +/- 0.01747316 (19.40%) (init = 0.1082963)\n",
      "    fwhm:       0.21209316 +/- 0.04114614 (19.40%) == '2.3548200*sigma'\n",
      "    height:     21.6843293 +/- 2.91210886 (13.43%) == '0.3989423*amplitude/max(1e-15, sigma)'\n",
      "[[Correlations]] (unreported correlations are < 0.100)\n",
      "    C(amplitude, sigma)  = 0.724\n",
      "    C(center, sigma)     = -0.191\n",
      "    C(amplitude, center) = -0.168\n"
     ]
    },
    {
     "data": {
      "image/png": "[encoded data removed]",
      "text/plain": [
       "<Figure size 576x432 with 1 Axes>"
      ]
     },
     "metadata": {
      "needs_background": "light"
     },
     "output_type": "display_data"
    }
   ],
   "source": [
    "fig, ax = plt.subplots(figsize=(8,6))\n",
    "\n",
    "\n",
    "data = subset['pmra']\n",
    "optimal_bin = np.histogram_bin_edges(data, bins = 'fd')\n",
    "\n",
    "histograma = ax.hist(data, optimal_bin, ec = 'k',color = 'blue');\n",
    "\n",
    "numero, bins = histograma[0],histograma[1]\n",
    "\n",
    "centralizar = (bins[1] - bins[0])/2\n",
    "\n",
    "teste = np.linspace(bins.min(),bins.max(),len(bins) -1)\n",
    "\n",
    "jpt = np.linspace(np.min(data) + centralizar, np.max(data) - centralizar, len(numero))\n",
    "\n",
    "\n",
    "gmodel = GaussianModel()\n",
    "\n",
    "inicial = gmodel.guess(numero, x = teste)\n",
    "\n",
    "result = gmodel.fit(numero, inicial, x=teste)\n",
    "\n",
    "\n",
    "print(result.fit_report())\n",
    "\n",
    "\n",
    "\n",
    "parametros = [result.params['height'].value, result.params['center'].value, result.params['sigma'].value]\n",
    "valores_pmra= [result.params['center'].value, result.params['sigma'].value]\n",
    "\n",
    "xplot = np.linspace(bins[0],bins[-1],128*2)\n",
    "\n",
    "ax.plot(xplot,gaussiana(xplot,*parametros), color = 'k')\n",
    "\n",
    "ax.set_title('pmra', fontweight = 'bold')\n",
    "\n",
    "plt.show()"
   ]
  },
  {
   "cell_type": "code",
   "execution_count": 32,
   "id": "be669e82-e291-4d91-a880-5250115f0c15",
   "metadata": {},
   "outputs": [
    {
     "name": "stdout",
     "output_type": "stream",
     "text": [
      "[[Model]]\n",
      "    Model(gaussian)\n",
      "[[Fit Statistics]]\n",
      "    # fitting method   = leastsq\n",
      "    # function evals   = 53\n",
      "    # data points      = 16\n",
      "    # variables        = 3\n",
      "    chi-square         = 98.3008741\n",
      "    reduced chi-square = 7.56160570\n",
      "    Akaike info crit   = 35.0471071\n",
      "    Bayesian info crit = 37.3648733\n",
      "[[Variables]]\n",
      "    amplitude:  1.07702948 +/- 0.09589945 (8.90%) (init = 2.638299)\n",
      "    center:    -26.2724177 +/- 0.00167132 (0.01%) (init = -26.26908)\n",
      "    sigma:      0.01625471 +/- 0.00167118 (10.28%) (init = 0.03517732)\n",
      "    fwhm:       0.03827692 +/- 0.00393533 (10.28%) == '2.3548200*sigma'\n",
      "    height:     26.4337271 +/- 2.35366660 (8.90%) == '0.3989423*amplitude/max(1e-15, sigma)'\n",
      "[[Correlations]] (unreported correlations are < 0.100)\n",
      "    C(amplitude, sigma) = 0.577\n"
     ]
    },
    {
     "data": {
      "image/png": "[encoded data removed]",
      "text/plain": [
       "<Figure size 576x432 with 1 Axes>"
      ]
     },
     "metadata": {
      "needs_background": "light"
     },
     "output_type": "display_data"
    }
   ],
   "source": [
    "fig, ax = plt.subplots(figsize=(8,6))\n",
    "\n",
    "\n",
    "data = subset['dec']\n",
    "optimal_bin = np.histogram_bin_edges(data, bins = 'fd')\n",
    "\n",
    "histograma = ax.hist(data, optimal_bin, ec = 'k',color = 'red');\n",
    "\n",
    "numero, bins = histograma[0],histograma[1]\n",
    "\n",
    "centralizar = (bins[1] - bins[0])/2\n",
    "\n",
    "teste = np.linspace(bins.min(),bins.max(),len(bins) -1)\n",
    "\n",
    "jpt = np.linspace(np.min(data) + centralizar, np.max(data) - centralizar, len(numero))\n",
    "\n",
    "\n",
    "gmodel = GaussianModel()\n",
    "\n",
    "inicial = gmodel.guess(numero, x = teste)\n",
    "\n",
    "result = gmodel.fit(numero, inicial, x=teste)\n",
    "\n",
    "\n",
    "print(result.fit_report())\n",
    "\n",
    "\n",
    "\n",
    "parametros = [result.params['height'].value, result.params['center'].value, result.params['sigma'].value]\n",
    "valores_dec = [result.params['center'].value, result.params['sigma'].value]\n",
    "\n",
    "xplot = np.linspace(bins[0],bins[-1],128*2)\n",
    "\n",
    "ax.plot(xplot,gaussiana(xplot,*parametros), color = 'k')\n",
    "\n",
    "ax.set_title('dec', fontweight = 'bold')\n",
    "\n",
    "plt.show()"
   ]
  },
  {
   "cell_type": "code",
   "execution_count": 33,
   "id": "2e61f8e4-e34f-4e4f-9d15-44e52af6069b",
   "metadata": {},
   "outputs": [
    {
     "name": "stdout",
     "output_type": "stream",
     "text": [
      "[[Model]]\n",
      "    Model(gaussian)\n",
      "[[Fit Statistics]]\n",
      "    # fitting method   = leastsq\n",
      "    # function evals   = 21\n",
      "    # data points      = 8\n",
      "    # variables        = 3\n",
      "    chi-square         = 56.9598411\n",
      "    reduced chi-square = 11.3919682\n",
      "    Akaike info crit   = 21.7032395\n",
      "    Bayesian info crit = 21.9415641\n",
      "[[Variables]]\n",
      "    amplitude:  4.84346594 +/- 0.52577188 (10.86%) (init = 6.231412)\n",
      "    center:     2.50797345 +/- 0.01096358 (0.44%) (init = 2.499369)\n",
      "    sigma:      0.09025592 +/- 0.01191270 (13.20%) (init = 0.09031032)\n",
      "    fwhm:       0.21253645 +/- 0.02805227 (13.20%) == '2.3548200*sigma'\n",
      "    height:     21.4087167 +/- 2.24968370 (10.51%) == '0.3989423*amplitude/max(1e-15, sigma)'\n",
      "[[Correlations]] (unreported correlations are < 0.100)\n",
      "    C(amplitude, sigma) = 0.634\n"
     ]
    },
    {
     "data": {
      "image/png": "[encoded data removed]",
      "text/plain": [
       "<Figure size 576x432 with 1 Axes>"
      ]
     },
     "metadata": {
      "needs_background": "light"
     },
     "output_type": "display_data"
    }
   ],
   "source": [
    "fig, ax = plt.subplots(figsize=(8,6))\n",
    "\n",
    "\n",
    "data = subset['pmdec']\n",
    "optimal_bin = np.histogram_bin_edges(data, bins = 'fd')\n",
    "\n",
    "histograma = ax.hist(data, optimal_bin, ec = 'k',color = 'red');\n",
    "\n",
    "numero, bins = histograma[0],histograma[1]\n",
    "\n",
    "centralizar = (bins[1] - bins[0])/2\n",
    "\n",
    "teste = np.linspace(bins.min(),bins.max(),len(bins) -1)\n",
    "\n",
    "jpt = np.linspace(np.min(data) + centralizar, np.max(data) - centralizar, len(numero))\n",
    "\n",
    "\n",
    "gmodel = GaussianModel()\n",
    "\n",
    "inicial = gmodel.guess(numero, x = teste)\n",
    "\n",
    "result = gmodel.fit(numero, inicial, x=teste)\n",
    "\n",
    "\n",
    "print(result.fit_report())\n",
    "\n",
    "\n",
    "\n",
    "parametros = [result.params['height'].value, result.params['center'].value, result.params['sigma'].value]\n",
    "valores_pmdec = [result.params['center'].value, result.params['sigma'].value]\n",
    "\n",
    "xplot = np.linspace(bins[0],bins[-1],128*2)\n",
    "\n",
    "ax.plot(xplot,gaussiana(xplot,*parametros), color = 'k')\n",
    "\n",
    "ax.set_title('pmdec', fontweight = 'bold')\n",
    "\n",
    "plt.show()"
   ]
  },
  {
   "cell_type": "code",
   "execution_count": 34,
   "id": "12160255-cc54-43d7-ad95-d977411f20be",
   "metadata": {},
   "outputs": [
    {
     "name": "stdout",
     "output_type": "stream",
     "text": [
      "0.3330723662440079 0.08776632050753613\n",
      "118.23741360467342 118.14139236103678\n",
      "-2.2691197073036333 -2.809525752660986\n",
      "-26.22365356484867 -26.32118183585086\n",
      "2.7787412102979836 2.237205683346553\n"
     ]
    }
   ],
   "source": [
    "sigma = 3\n",
    "\n",
    "paralaxe_up, paralaxe_down = valores_paralaxe[0] + sigma*valores_paralaxe[1], valores_paralaxe[0] - sigma*valores_paralaxe[1]\n",
    "\n",
    "print(paralaxe_up,paralaxe_down)\n",
    "\n",
    "ra_up, ra_down = valores_ra[0] + sigma*valores_ra[1], valores_ra[0] - sigma*valores_ra[1]\n",
    "\n",
    "print(ra_up,ra_down)\n",
    "\n",
    "pmra_up, pmra_down = valores_pmra[0] + sigma*valores_pmra[1], valores_pmra[0] - sigma*valores_pmra[1]\n",
    "\n",
    "print(pmra_up,pmra_down)\n",
    "\n",
    "dec_up, dec_down = valores_dec[0] + sigma*valores_dec[1], valores_dec[0] - sigma*valores_dec[1]\n",
    "\n",
    "print(dec_up,dec_down)\n",
    "\n",
    "pmdec_up, pmdec_down = valores_pmdec[0] + sigma*valores_pmdec[1], valores_pmdec[0] - sigma*valores_pmdec[1]\n",
    "\n",
    "print(pmdec_up,pmdec_down)\n",
    "\n"
   ]
  },
  {
   "cell_type": "code",
   "execution_count": 35,
   "id": "d1511151-0645-4fbc-9099-60763585c549",
   "metadata": {},
   "outputs": [
    {
     "data": {
      "text/plain": [
       "71"
      ]
     },
     "execution_count": 35,
     "metadata": {},
     "output_type": "execute_result"
    }
   ],
   "source": [
    "clip = subset.loc[(subset.parallax < paralaxe_up ) & (subset.parallax > paralaxe_down) & (subset.ra>ra_down) & (subset.ra<ra_up)\n",
    "          & (subset.dec>dec_down) & (subset.dec<dec_up) & (subset.pmra>pmra_down) & (subset.pmra<pmra_up) & (subset.pmdec>pmdec_down) & (subset.pmdec<pmdec_up)]\n",
    "len(clip)"
   ]
  },
  {
   "cell_type": "code",
   "execution_count": 36,
   "id": "9a590b4f-ac07-4d68-a102-f2acaa13a09e",
   "metadata": {},
   "outputs": [
    {
     "data": {
      "image/png": "[encoded data removed]",
      "text/plain": [
       "<Figure size 432x288 with 1 Axes>"
      ]
     },
     "metadata": {
      "needs_background": "light"
     },
     "output_type": "display_data"
    }
   ],
   "source": [
    "ra_vel = clip.dropna(how='any',subset=['radial_velocity'])\n",
    "optimal_bin = np.histogram_bin_edges(ra_vel['radial_velocity'], bins = 'fd')\n",
    "\n",
    "data = ra_vel['radial_velocity']\n",
    "\n",
    "plt.hist(data, optimal_bin, ec = 'k',color = 'green');"
   ]
  },
  {
   "cell_type": "code",
   "execution_count": 37,
   "id": "8bbc66e7-3655-4bcd-bb70-41066c5a7c50",
   "metadata": {},
   "outputs": [
    {
     "data": {
      "image/png": "[encoded data removed]",
      "text/plain": [
       "<Figure size 360x576 with 1 Axes>"
      ]
     },
     "metadata": {
      "needs_background": "light"
     },
     "output_type": "display_data"
    }
   ],
   "source": [
    "plt.figure(figsize=(5,8))\n",
    "plt.scatter(clip['bp_rp'],clip['phot_g_mean_mag'])\n",
    "plt.gca().invert_yaxis()"
   ]
  },
  {
   "cell_type": "code",
   "execution_count": 38,
   "id": "3b71a47f-0600-4951-86f4-4fff8150cb0d",
   "metadata": {},
   "outputs": [
    {
     "data": {
      "text/plain": [
       "Text(0, 0.5, 'stellar density (arcsec$^{-2}$)')"
      ]
     },
     "execution_count": 38,
     "metadata": {},
     "output_type": "execute_result"
    },
    {
     "data": {
      "image/png": "[encoded data removed]",
      "text/plain": [
       "<Figure size 432x288 with 1 Axes>"
      ]
     },
     "metadata": {
      "needs_background": "light"
     },
     "output_type": "display_data"
    }
   ],
   "source": [
    "from astropy.coordinates import SkyCoord\n",
    "from astropy import units\n",
    "\n",
    "catalog = SkyCoord(ra=clip['ra']*units.degree, dec=clip['dec']*units.degree, frame='fk5')\n",
    "\n",
    "nstar = len(clip)\n",
    "\n",
    "#.Definindo o vizinho apropriado para a abertura\n",
    "\n",
    "k = np.sqrt(nstar).astype(int)\n",
    "\n",
    "#.criando a estrutura de vizinhos proximos\n",
    "coords = np.array([clip['ra']*np.cos(clip['dec']*np.pi/180.0), clip['dec']]).T\n",
    "nn_struct = NearestNeighbors(n_neighbors=k, algorithm='auto', metric='euclidean')\n",
    "nn_struct.fit(coords)\n",
    "distances, index = nn_struct.kneighbors(coords)\n",
    "             \n",
    "\n",
    "#.obtendo a distancia do k-esimo vizinho mais proximo\n",
    "aperture = distances[:,k-1]*units.degree\n",
    "area = np.pi*(aperture.value)**2# + area_cor(data, data.DEC, aperture.value)\n",
    "den_data = k/area\n",
    "den_sigm = np.sqrt(k)/area\n",
    "\n",
    "den_data /= 3600**2\n",
    "den_sigm /= 3600**2\n",
    "\n",
    "med_x = np.average(clip['ra'], weights=den_data)\n",
    "std_x = np.average((clip['ra']-med_x)**2, weights=den_data)**0.5\n",
    "\n",
    "med_y = np.average(clip['dec'], weights=den_data)\n",
    "std_y = np.average((clip['dec']-med_y)**2, weights=den_data)**0.5\n",
    "\n",
    "center = SkyCoord(med_x*units.degree, med_y*units.degree)\n",
    "radii = center.separation(catalog)\n",
    "radii = radii.to(units.arcsec).value\n",
    "\n",
    "\n",
    "import matplotlib.cm as cm\n",
    "cor = cm.get_cmap('jet')\n",
    "\n",
    "fig, ax = plt.subplots()#1,1,figsize=(10,11))\n",
    "ax.scatter(radii,den_data, s=(max(clip['phot_g_mean_mag'])-clip['phot_g_mean_mag'])*20, c=den_data/3600**2, cmap = cor, label='data')\n",
    "ax.set_xlabel('radius (arcsec)', fontsize=18, fontweight='bold')\n",
    "ax.set_ylabel('stellar density (arcsec$^{-2}$)', fontsize=18, fontweight='bold')\n",
    "\n"
   ]
  },
  {
   "cell_type": "code",
   "execution_count": 39,
   "id": "f2561147-7e16-4a56-bad6-15b3783ca53e",
   "metadata": {},
   "outputs": [
    {
     "data": {
      "text/plain": [
       "<SkyCoord (ICRS): (ra, dec) in deg\n",
       "    (118.19054065, -26.27709018)>"
      ]
     },
     "execution_count": 39,
     "metadata": {},
     "output_type": "execute_result"
    }
   ],
   "source": [
    "center"
   ]
  }
 ],
 "metadata": {
  "kernelspec": {
   "display_name": "Python 3",
   "language": "python",
   "name": "python3"
  },
  "language_info": {
   "codemirror_mode": {
    "name": "ipython",
    "version": 3
   },
   "file_extension": ".py",
   "mimetype": "text/x-python",
   "name": "python",
   "nbconvert_exporter": "python",
   "pygments_lexer": "ipython3",
   "version": "3.8.8"
  }
 },
 "nbformat": 4,
 "nbformat_minor": 5
}
