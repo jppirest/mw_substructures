{
 "cells": [
  {
   "cell_type": "code",
   "execution_count": 1,
   "id": "3521cdea-429b-4991-bb30-48131d9ae7f7",
   "metadata": {},
   "outputs": [],
   "source": [
    "import numpy as np\n",
    "import pandas as pd\n",
    "import matplotlib.pyplot as plt\n",
    "from astroquery.gaia import Gaia\n",
    "import astropy"
   ]
  },
  {
   "cell_type": "code",
   "execution_count": 2,
   "id": "6530e5b6-fa2e-487a-9762-58f002959899",
   "metadata": {},
   "outputs": [],
   "source": [
    "#from platform import python_version\n",
    "#python_version()"
   ]
  },
  {
   "cell_type": "code",
   "execution_count": 3,
   "id": "934ffd11-422a-4df1-b8e7-46169aeacc68",
   "metadata": {},
   "outputs": [],
   "source": [
    "plt.rc('xtick', labelsize=12)\n",
    "plt.rc('ytick', labelsize=12)\n",
    "plt.rcParams['axes.linewidth'] = 1.0\n",
    "\n",
    "\n",
    "font = {'family' : 'serif',\n",
    "        'weight' : 'normal',\n",
    "        'size'   : 13}\n",
    "\n",
    "plt.rc('font', **font)"
   ]
  },
  {
   "cell_type": "markdown",
   "id": "3bfeb1e8-4664-4b44-88a1-f3a2343ec347",
   "metadata": {},
   "source": [
    "## Getting the directory name"
   ]
  },
  {
   "cell_type": "code",
   "execution_count": 4,
   "id": "a49442e6-8751-480c-8bc2-b1c80196ac26",
   "metadata": {},
   "outputs": [
    {
     "data": {
      "text/plain": [
       "'NGC_2420'"
      ]
     },
     "execution_count": 4,
     "metadata": {},
     "output_type": "execute_result"
    }
   ],
   "source": [
    "import os\n",
    "directory_path = os.getcwd()\n",
    "nome_aglo = directory_path.split('/')[-1]\n",
    "nome_aglo"
   ]
  },
  {
   "cell_type": "markdown",
   "id": "c5aea3ad-6db9-4640-8fbe-b90543ea609e",
   "metadata": {},
   "source": [
    "## Getting RA&DEC from Bica 2019"
   ]
  },
  {
   "cell_type": "code",
   "execution_count": 5,
   "id": "f8abc363-cd00-4137-9be0-7cfc139a62e6",
   "metadata": {},
   "outputs": [
    {
     "data": {
      "text/plain": [
       "(114.6, 21.56889)"
      ]
     },
     "execution_count": 5,
     "metadata": {},
     "output_type": "execute_result"
    }
   ],
   "source": [
    "df = pd.read_csv('../../lista.txt', comment= '#')\n",
    "ra, dec = df.loc[df['Nome'] == nome_aglo]['_RAJ2000'].values[0], df.loc[df['Nome'] == nome_aglo]['_DEJ2000'].values[0]\n",
    "ra, dec"
   ]
  },
  {
   "cell_type": "markdown",
   "id": "993b13b4-df7e-4f36-a5e2-ac847404380d",
   "metadata": {},
   "source": [
    "## Querying the data"
   ]
  },
  {
   "cell_type": "code",
   "execution_count": 6,
   "id": "74028be2-edac-4384-9832-528bb78d6e2e",
   "metadata": {},
   "outputs": [
    {
     "name": "stdout",
     "output_type": "stream",
     "text": [
      "INFO: Retrieving tables... [astroquery.utils.tap.core]\n",
      "INFO: Parsing tables... [astroquery.utils.tap.core]\n",
      "INFO: Done. [astroquery.utils.tap.core]\n"
     ]
    }
   ],
   "source": [
    "tables = Gaia.load_tables(only_names=True)"
   ]
  },
  {
   "cell_type": "code",
   "execution_count": 7,
   "id": "b4824134-51b9-43ec-8ccb-be7659e74477",
   "metadata": {},
   "outputs": [
    {
     "name": "stdout",
     "output_type": "stream",
     "text": [
      "Retrieving table 'gaiadr3.gaia_source'\n"
     ]
    },
    {
     "data": {
      "text/plain": [
       "<astroquery.utils.tap.model.taptable.TapTableMeta at 0x7f920308edc0>"
      ]
     },
     "execution_count": 7,
     "metadata": {},
     "output_type": "execute_result"
    }
   ],
   "source": [
    "meta = Gaia.load_table('gaiadr3.gaia_source')\n",
    "meta"
   ]
  },
  {
   "cell_type": "code",
   "execution_count": 8,
   "id": "0cd0c50b-6020-4c1b-846d-3d0e0d6d8adb",
   "metadata": {},
   "outputs": [],
   "source": [
    "query = \"\"\"SELECT \n",
    "ra, dec, pmra, pmra_error, pmdec, pmdec_error, bp_rp, phot_g_mean_mag, parallax, parallax_error, radial_velocity, radial_velocity_error, l,b\n",
    "FROM gaiadr3.gaia_source\n",
    "WHERE 1=CONTAINS(POINT('ICRS',ra,dec),\n",
    "CIRCLE('ICRS', \"\"\" +  str(ra) + ',' + str(dec) + ',' + ' 0.2))'"
   ]
  },
  {
   "cell_type": "code",
   "execution_count": 9,
   "id": "3bde5f58-6e4f-46b6-8fa6-f28b0a206b6d",
   "metadata": {},
   "outputs": [
    {
     "name": "stdout",
     "output_type": "stream",
     "text": [
      "INFO: Query finished. [astroquery.utils.tap.core]\n"
     ]
    },
    {
     "data": {
      "text/plain": [
       "<astroquery.utils.tap.model.job.Job at 0x7f920308e640>"
      ]
     },
     "execution_count": 9,
     "metadata": {},
     "output_type": "execute_result"
    }
   ],
   "source": [
    "job = Gaia.launch_job_async(query)\n",
    "job"
   ]
  },
  {
   "cell_type": "code",
   "execution_count": 10,
   "id": "ce6031ad-1c30-44ba-af5f-2cb4ed81704d",
   "metadata": {},
   "outputs": [
    {
     "data": {
      "text/plain": [
       "2648"
      ]
     },
     "execution_count": 10,
     "metadata": {},
     "output_type": "execute_result"
    }
   ],
   "source": [
    "data = job.get_results()\n",
    "len(data)"
   ]
  },
  {
   "cell_type": "code",
   "execution_count": 11,
   "id": "a7b69784-84b8-4ff5-8739-96de5fc6c268",
   "metadata": {},
   "outputs": [],
   "source": [
    "#data"
   ]
  },
  {
   "cell_type": "markdown",
   "id": "b1efab4c-c343-42c0-9848-7c85c998ae55",
   "metadata": {},
   "source": [
    "## Converting to pandas"
   ]
  },
  {
   "cell_type": "code",
   "execution_count": 12,
   "id": "76000902-fd33-4bc1-bfa2-5dc9f2381477",
   "metadata": {},
   "outputs": [
    {
     "data": {
      "text/html": [
       "<div>\n",
       "<style scoped>\n",
       "    .dataframe tbody tr th:only-of-type {\n",
       "        vertical-align: middle;\n",
       "    }\n",
       "\n",
       "    .dataframe tbody tr th {\n",
       "        vertical-align: top;\n",
       "    }\n",
       "\n",
       "    .dataframe thead th {\n",
       "        text-align: right;\n",
       "    }\n",
       "</style>\n",
       "<table border=\"1\" class=\"dataframe\">\n",
       "  <thead>\n",
       "    <tr style=\"text-align: right;\">\n",
       "      <th></th>\n",
       "      <th>ra</th>\n",
       "      <th>dec</th>\n",
       "      <th>pmra</th>\n",
       "      <th>pmra_error</th>\n",
       "      <th>pmdec</th>\n",
       "      <th>pmdec_error</th>\n",
       "      <th>bp_rp</th>\n",
       "      <th>phot_g_mean_mag</th>\n",
       "      <th>parallax</th>\n",
       "      <th>parallax_error</th>\n",
       "      <th>radial_velocity</th>\n",
       "      <th>radial_velocity_error</th>\n",
       "      <th>l</th>\n",
       "      <th>b</th>\n",
       "    </tr>\n",
       "  </thead>\n",
       "  <tbody>\n",
       "    <tr>\n",
       "      <th>0</th>\n",
       "      <td>114.596794</td>\n",
       "      <td>21.369244</td>\n",
       "      <td>-0.181736</td>\n",
       "      <td>0.148631</td>\n",
       "      <td>-4.594156</td>\n",
       "      <td>0.117833</td>\n",
       "      <td>1.248371</td>\n",
       "      <td>17.872395</td>\n",
       "      <td>0.114155</td>\n",
       "      <td>0.137493</td>\n",
       "      <td>NaN</td>\n",
       "      <td>NaN</td>\n",
       "      <td>198.307862</td>\n",
       "      <td>19.557286</td>\n",
       "    </tr>\n",
       "    <tr>\n",
       "      <th>1</th>\n",
       "      <td>114.737517</td>\n",
       "      <td>21.416591</td>\n",
       "      <td>0.042698</td>\n",
       "      <td>0.054403</td>\n",
       "      <td>-0.824749</td>\n",
       "      <td>0.043903</td>\n",
       "      <td>0.821404</td>\n",
       "      <td>15.876815</td>\n",
       "      <td>0.627362</td>\n",
       "      <td>0.044238</td>\n",
       "      <td>NaN</td>\n",
       "      <td>NaN</td>\n",
       "      <td>198.314263</td>\n",
       "      <td>19.696474</td>\n",
       "    </tr>\n",
       "    <tr>\n",
       "      <th>2</th>\n",
       "      <td>114.648557</td>\n",
       "      <td>21.375369</td>\n",
       "      <td>-1.491919</td>\n",
       "      <td>0.350586</td>\n",
       "      <td>-1.454432</td>\n",
       "      <td>0.290161</td>\n",
       "      <td>1.374405</td>\n",
       "      <td>19.323122</td>\n",
       "      <td>0.614779</td>\n",
       "      <td>0.332102</td>\n",
       "      <td>NaN</td>\n",
       "      <td>NaN</td>\n",
       "      <td>198.321318</td>\n",
       "      <td>19.604193</td>\n",
       "    </tr>\n",
       "    <tr>\n",
       "      <th>3</th>\n",
       "      <td>114.679814</td>\n",
       "      <td>21.384323</td>\n",
       "      <td>-4.307240</td>\n",
       "      <td>1.253091</td>\n",
       "      <td>-2.274438</td>\n",
       "      <td>0.867628</td>\n",
       "      <td>1.729761</td>\n",
       "      <td>20.525028</td>\n",
       "      <td>0.854476</td>\n",
       "      <td>0.859423</td>\n",
       "      <td>NaN</td>\n",
       "      <td>NaN</td>\n",
       "      <td>198.324278</td>\n",
       "      <td>19.634518</td>\n",
       "    </tr>\n",
       "    <tr>\n",
       "      <th>4</th>\n",
       "      <td>114.662557</td>\n",
       "      <td>21.379844</td>\n",
       "      <td>-0.568766</td>\n",
       "      <td>0.155206</td>\n",
       "      <td>-1.250945</td>\n",
       "      <td>0.123010</td>\n",
       "      <td>0.729156</td>\n",
       "      <td>17.940943</td>\n",
       "      <td>-0.168597</td>\n",
       "      <td>0.128889</td>\n",
       "      <td>NaN</td>\n",
       "      <td>NaN</td>\n",
       "      <td>198.322188</td>\n",
       "      <td>19.617952</td>\n",
       "    </tr>\n",
       "    <tr>\n",
       "      <th>...</th>\n",
       "      <td>...</td>\n",
       "      <td>...</td>\n",
       "      <td>...</td>\n",
       "      <td>...</td>\n",
       "      <td>...</td>\n",
       "      <td>...</td>\n",
       "      <td>...</td>\n",
       "      <td>...</td>\n",
       "      <td>...</td>\n",
       "      <td>...</td>\n",
       "      <td>...</td>\n",
       "      <td>...</td>\n",
       "      <td>...</td>\n",
       "      <td>...</td>\n",
       "    </tr>\n",
       "    <tr>\n",
       "      <th>2643</th>\n",
       "      <td>114.560171</td>\n",
       "      <td>21.762909</td>\n",
       "      <td>-6.803122</td>\n",
       "      <td>0.315623</td>\n",
       "      <td>-15.317532</td>\n",
       "      <td>0.278511</td>\n",
       "      <td>2.548780</td>\n",
       "      <td>19.031809</td>\n",
       "      <td>1.163538</td>\n",
       "      <td>0.318288</td>\n",
       "      <td>NaN</td>\n",
       "      <td>NaN</td>\n",
       "      <td>197.907504</td>\n",
       "      <td>19.675231</td>\n",
       "    </tr>\n",
       "    <tr>\n",
       "      <th>2644</th>\n",
       "      <td>114.560498</td>\n",
       "      <td>21.764462</td>\n",
       "      <td>0.354872</td>\n",
       "      <td>0.046738</td>\n",
       "      <td>-1.599358</td>\n",
       "      <td>0.040654</td>\n",
       "      <td>0.823818</td>\n",
       "      <td>15.955688</td>\n",
       "      <td>0.275021</td>\n",
       "      <td>0.047530</td>\n",
       "      <td>NaN</td>\n",
       "      <td>NaN</td>\n",
       "      <td>197.906100</td>\n",
       "      <td>19.676100</td>\n",
       "    </tr>\n",
       "    <tr>\n",
       "      <th>2645</th>\n",
       "      <td>114.553184</td>\n",
       "      <td>21.762085</td>\n",
       "      <td>-1.562353</td>\n",
       "      <td>0.029940</td>\n",
       "      <td>-2.301470</td>\n",
       "      <td>0.025974</td>\n",
       "      <td>0.787534</td>\n",
       "      <td>15.035185</td>\n",
       "      <td>0.827594</td>\n",
       "      <td>0.029195</td>\n",
       "      <td>NaN</td>\n",
       "      <td>NaN</td>\n",
       "      <td>197.905704</td>\n",
       "      <td>19.668914</td>\n",
       "    </tr>\n",
       "    <tr>\n",
       "      <th>2646</th>\n",
       "      <td>114.554016</td>\n",
       "      <td>21.760873</td>\n",
       "      <td>-2.920485</td>\n",
       "      <td>0.096215</td>\n",
       "      <td>-0.766976</td>\n",
       "      <td>0.083608</td>\n",
       "      <td>1.528389</td>\n",
       "      <td>17.318043</td>\n",
       "      <td>1.013807</td>\n",
       "      <td>0.094271</td>\n",
       "      <td>NaN</td>\n",
       "      <td>NaN</td>\n",
       "      <td>197.907206</td>\n",
       "      <td>19.669170</td>\n",
       "    </tr>\n",
       "    <tr>\n",
       "      <th>2647</th>\n",
       "      <td>114.552512</td>\n",
       "      <td>21.761471</td>\n",
       "      <td>-1.053400</td>\n",
       "      <td>0.416827</td>\n",
       "      <td>-5.898070</td>\n",
       "      <td>0.351953</td>\n",
       "      <td>1.116676</td>\n",
       "      <td>19.530592</td>\n",
       "      <td>0.977978</td>\n",
       "      <td>0.409084</td>\n",
       "      <td>NaN</td>\n",
       "      <td>NaN</td>\n",
       "      <td>197.906057</td>\n",
       "      <td>19.668104</td>\n",
       "    </tr>\n",
       "  </tbody>\n",
       "</table>\n",
       "<p>2648 rows × 14 columns</p>\n",
       "</div>"
      ],
      "text/plain": [
       "              ra        dec      pmra  pmra_error      pmdec  pmdec_error  \\\n",
       "0     114.596794  21.369244 -0.181736    0.148631  -4.594156     0.117833   \n",
       "1     114.737517  21.416591  0.042698    0.054403  -0.824749     0.043903   \n",
       "2     114.648557  21.375369 -1.491919    0.350586  -1.454432     0.290161   \n",
       "3     114.679814  21.384323 -4.307240    1.253091  -2.274438     0.867628   \n",
       "4     114.662557  21.379844 -0.568766    0.155206  -1.250945     0.123010   \n",
       "...          ...        ...       ...         ...        ...          ...   \n",
       "2643  114.560171  21.762909 -6.803122    0.315623 -15.317532     0.278511   \n",
       "2644  114.560498  21.764462  0.354872    0.046738  -1.599358     0.040654   \n",
       "2645  114.553184  21.762085 -1.562353    0.029940  -2.301470     0.025974   \n",
       "2646  114.554016  21.760873 -2.920485    0.096215  -0.766976     0.083608   \n",
       "2647  114.552512  21.761471 -1.053400    0.416827  -5.898070     0.351953   \n",
       "\n",
       "         bp_rp  phot_g_mean_mag  parallax  parallax_error  radial_velocity  \\\n",
       "0     1.248371        17.872395  0.114155        0.137493              NaN   \n",
       "1     0.821404        15.876815  0.627362        0.044238              NaN   \n",
       "2     1.374405        19.323122  0.614779        0.332102              NaN   \n",
       "3     1.729761        20.525028  0.854476        0.859423              NaN   \n",
       "4     0.729156        17.940943 -0.168597        0.128889              NaN   \n",
       "...        ...              ...       ...             ...              ...   \n",
       "2643  2.548780        19.031809  1.163538        0.318288              NaN   \n",
       "2644  0.823818        15.955688  0.275021        0.047530              NaN   \n",
       "2645  0.787534        15.035185  0.827594        0.029195              NaN   \n",
       "2646  1.528389        17.318043  1.013807        0.094271              NaN   \n",
       "2647  1.116676        19.530592  0.977978        0.409084              NaN   \n",
       "\n",
       "      radial_velocity_error           l          b  \n",
       "0                       NaN  198.307862  19.557286  \n",
       "1                       NaN  198.314263  19.696474  \n",
       "2                       NaN  198.321318  19.604193  \n",
       "3                       NaN  198.324278  19.634518  \n",
       "4                       NaN  198.322188  19.617952  \n",
       "...                     ...         ...        ...  \n",
       "2643                    NaN  197.907504  19.675231  \n",
       "2644                    NaN  197.906100  19.676100  \n",
       "2645                    NaN  197.905704  19.668914  \n",
       "2646                    NaN  197.907206  19.669170  \n",
       "2647                    NaN  197.906057  19.668104  \n",
       "\n",
       "[2648 rows x 14 columns]"
      ]
     },
     "execution_count": 12,
     "metadata": {},
     "output_type": "execute_result"
    }
   ],
   "source": [
    "df = data.to_pandas()\n",
    "df"
   ]
  },
  {
   "cell_type": "code",
   "execution_count": 13,
   "id": "01debe18-c72b-4585-a428-4246e3fc8d88",
   "metadata": {},
   "outputs": [
    {
     "data": {
      "text/plain": [
       "<matplotlib.collections.PathCollection at 0x7f92029b8490>"
      ]
     },
     "execution_count": 13,
     "metadata": {},
     "output_type": "execute_result"
    },
    {
     "data": {
      "image/png": "[encoded data removed]",
      "text/plain": [
       "<Figure size 432x288 with 2 Axes>"
      ]
     },
     "metadata": {
      "needs_background": "light"
     },
     "output_type": "display_data"
    }
   ],
   "source": [
    "fig, ax = plt.subplots(2)\n",
    "\n",
    "ax[0].scatter(df.pmra_error,df.pmra)\n",
    "ax[1].scatter(df.pmdec_error,df.pmdec)"
   ]
  },
  {
   "cell_type": "code",
   "execution_count": 14,
   "id": "f2c2c7c4-4e27-4177-9890-e3d89391a8d6",
   "metadata": {},
   "outputs": [
    {
     "name": "stdout",
     "output_type": "stream",
     "text": [
      "-3.093401914314422 0.3130834698677063\n",
      "-0.9763391809790641 0.3605941832065582\n"
     ]
    }
   ],
   "source": [
    "print(np.mean(df.pmdec), np.mean(df.pmdec_error)) ## por que pmra tem um erro muito maior?\n",
    "print(np.mean(df.pmra), np.mean(df.pmra_error))"
   ]
  },
  {
   "cell_type": "markdown",
   "id": "3aa050ee-c336-4e0c-a20d-62e3113a0e64",
   "metadata": {},
   "source": [
    "## Dropping uknown values of pmra, pmdec or parallax."
   ]
  },
  {
   "cell_type": "code",
   "execution_count": 15,
   "id": "f4e22590-990a-47cf-8a7e-d304c95fedd8",
   "metadata": {},
   "outputs": [
    {
     "data": {
      "text/html": [
       "<div>\n",
       "<style scoped>\n",
       "    .dataframe tbody tr th:only-of-type {\n",
       "        vertical-align: middle;\n",
       "    }\n",
       "\n",
       "    .dataframe tbody tr th {\n",
       "        vertical-align: top;\n",
       "    }\n",
       "\n",
       "    .dataframe thead th {\n",
       "        text-align: right;\n",
       "    }\n",
       "</style>\n",
       "<table border=\"1\" class=\"dataframe\">\n",
       "  <thead>\n",
       "    <tr style=\"text-align: right;\">\n",
       "      <th></th>\n",
       "      <th>ra</th>\n",
       "      <th>dec</th>\n",
       "      <th>pmra</th>\n",
       "      <th>pmra_error</th>\n",
       "      <th>pmdec</th>\n",
       "      <th>pmdec_error</th>\n",
       "      <th>bp_rp</th>\n",
       "      <th>phot_g_mean_mag</th>\n",
       "      <th>parallax</th>\n",
       "      <th>parallax_error</th>\n",
       "      <th>radial_velocity</th>\n",
       "      <th>radial_velocity_error</th>\n",
       "      <th>l</th>\n",
       "      <th>b</th>\n",
       "    </tr>\n",
       "  </thead>\n",
       "  <tbody>\n",
       "    <tr>\n",
       "      <th>0</th>\n",
       "      <td>114.596794</td>\n",
       "      <td>21.369244</td>\n",
       "      <td>-0.181736</td>\n",
       "      <td>0.148631</td>\n",
       "      <td>-4.594156</td>\n",
       "      <td>0.117833</td>\n",
       "      <td>1.248371</td>\n",
       "      <td>17.872395</td>\n",
       "      <td>0.114155</td>\n",
       "      <td>0.137493</td>\n",
       "      <td>NaN</td>\n",
       "      <td>NaN</td>\n",
       "      <td>198.307862</td>\n",
       "      <td>19.557286</td>\n",
       "    </tr>\n",
       "    <tr>\n",
       "      <th>1</th>\n",
       "      <td>114.737517</td>\n",
       "      <td>21.416591</td>\n",
       "      <td>0.042698</td>\n",
       "      <td>0.054403</td>\n",
       "      <td>-0.824749</td>\n",
       "      <td>0.043903</td>\n",
       "      <td>0.821404</td>\n",
       "      <td>15.876815</td>\n",
       "      <td>0.627362</td>\n",
       "      <td>0.044238</td>\n",
       "      <td>NaN</td>\n",
       "      <td>NaN</td>\n",
       "      <td>198.314263</td>\n",
       "      <td>19.696474</td>\n",
       "    </tr>\n",
       "    <tr>\n",
       "      <th>2</th>\n",
       "      <td>114.648557</td>\n",
       "      <td>21.375369</td>\n",
       "      <td>-1.491919</td>\n",
       "      <td>0.350586</td>\n",
       "      <td>-1.454432</td>\n",
       "      <td>0.290161</td>\n",
       "      <td>1.374405</td>\n",
       "      <td>19.323122</td>\n",
       "      <td>0.614779</td>\n",
       "      <td>0.332102</td>\n",
       "      <td>NaN</td>\n",
       "      <td>NaN</td>\n",
       "      <td>198.321318</td>\n",
       "      <td>19.604193</td>\n",
       "    </tr>\n",
       "    <tr>\n",
       "      <th>3</th>\n",
       "      <td>114.679814</td>\n",
       "      <td>21.384323</td>\n",
       "      <td>-4.307240</td>\n",
       "      <td>1.253091</td>\n",
       "      <td>-2.274438</td>\n",
       "      <td>0.867628</td>\n",
       "      <td>1.729761</td>\n",
       "      <td>20.525028</td>\n",
       "      <td>0.854476</td>\n",
       "      <td>0.859423</td>\n",
       "      <td>NaN</td>\n",
       "      <td>NaN</td>\n",
       "      <td>198.324278</td>\n",
       "      <td>19.634518</td>\n",
       "    </tr>\n",
       "    <tr>\n",
       "      <th>4</th>\n",
       "      <td>114.662557</td>\n",
       "      <td>21.379844</td>\n",
       "      <td>-0.568766</td>\n",
       "      <td>0.155206</td>\n",
       "      <td>-1.250945</td>\n",
       "      <td>0.123010</td>\n",
       "      <td>0.729156</td>\n",
       "      <td>17.940943</td>\n",
       "      <td>-0.168597</td>\n",
       "      <td>0.128889</td>\n",
       "      <td>NaN</td>\n",
       "      <td>NaN</td>\n",
       "      <td>198.322188</td>\n",
       "      <td>19.617952</td>\n",
       "    </tr>\n",
       "    <tr>\n",
       "      <th>...</th>\n",
       "      <td>...</td>\n",
       "      <td>...</td>\n",
       "      <td>...</td>\n",
       "      <td>...</td>\n",
       "      <td>...</td>\n",
       "      <td>...</td>\n",
       "      <td>...</td>\n",
       "      <td>...</td>\n",
       "      <td>...</td>\n",
       "      <td>...</td>\n",
       "      <td>...</td>\n",
       "      <td>...</td>\n",
       "      <td>...</td>\n",
       "      <td>...</td>\n",
       "    </tr>\n",
       "    <tr>\n",
       "      <th>2643</th>\n",
       "      <td>114.560171</td>\n",
       "      <td>21.762909</td>\n",
       "      <td>-6.803122</td>\n",
       "      <td>0.315623</td>\n",
       "      <td>-15.317532</td>\n",
       "      <td>0.278511</td>\n",
       "      <td>2.548780</td>\n",
       "      <td>19.031809</td>\n",
       "      <td>1.163538</td>\n",
       "      <td>0.318288</td>\n",
       "      <td>NaN</td>\n",
       "      <td>NaN</td>\n",
       "      <td>197.907504</td>\n",
       "      <td>19.675231</td>\n",
       "    </tr>\n",
       "    <tr>\n",
       "      <th>2644</th>\n",
       "      <td>114.560498</td>\n",
       "      <td>21.764462</td>\n",
       "      <td>0.354872</td>\n",
       "      <td>0.046738</td>\n",
       "      <td>-1.599358</td>\n",
       "      <td>0.040654</td>\n",
       "      <td>0.823818</td>\n",
       "      <td>15.955688</td>\n",
       "      <td>0.275021</td>\n",
       "      <td>0.047530</td>\n",
       "      <td>NaN</td>\n",
       "      <td>NaN</td>\n",
       "      <td>197.906100</td>\n",
       "      <td>19.676100</td>\n",
       "    </tr>\n",
       "    <tr>\n",
       "      <th>2645</th>\n",
       "      <td>114.553184</td>\n",
       "      <td>21.762085</td>\n",
       "      <td>-1.562353</td>\n",
       "      <td>0.029940</td>\n",
       "      <td>-2.301470</td>\n",
       "      <td>0.025974</td>\n",
       "      <td>0.787534</td>\n",
       "      <td>15.035185</td>\n",
       "      <td>0.827594</td>\n",
       "      <td>0.029195</td>\n",
       "      <td>NaN</td>\n",
       "      <td>NaN</td>\n",
       "      <td>197.905704</td>\n",
       "      <td>19.668914</td>\n",
       "    </tr>\n",
       "    <tr>\n",
       "      <th>2646</th>\n",
       "      <td>114.554016</td>\n",
       "      <td>21.760873</td>\n",
       "      <td>-2.920485</td>\n",
       "      <td>0.096215</td>\n",
       "      <td>-0.766976</td>\n",
       "      <td>0.083608</td>\n",
       "      <td>1.528389</td>\n",
       "      <td>17.318043</td>\n",
       "      <td>1.013807</td>\n",
       "      <td>0.094271</td>\n",
       "      <td>NaN</td>\n",
       "      <td>NaN</td>\n",
       "      <td>197.907206</td>\n",
       "      <td>19.669170</td>\n",
       "    </tr>\n",
       "    <tr>\n",
       "      <th>2647</th>\n",
       "      <td>114.552512</td>\n",
       "      <td>21.761471</td>\n",
       "      <td>-1.053400</td>\n",
       "      <td>0.416827</td>\n",
       "      <td>-5.898070</td>\n",
       "      <td>0.351953</td>\n",
       "      <td>1.116676</td>\n",
       "      <td>19.530592</td>\n",
       "      <td>0.977978</td>\n",
       "      <td>0.409084</td>\n",
       "      <td>NaN</td>\n",
       "      <td>NaN</td>\n",
       "      <td>197.906057</td>\n",
       "      <td>19.668104</td>\n",
       "    </tr>\n",
       "  </tbody>\n",
       "</table>\n",
       "<p>2434 rows × 14 columns</p>\n",
       "</div>"
      ],
      "text/plain": [
       "              ra        dec      pmra  pmra_error      pmdec  pmdec_error  \\\n",
       "0     114.596794  21.369244 -0.181736    0.148631  -4.594156     0.117833   \n",
       "1     114.737517  21.416591  0.042698    0.054403  -0.824749     0.043903   \n",
       "2     114.648557  21.375369 -1.491919    0.350586  -1.454432     0.290161   \n",
       "3     114.679814  21.384323 -4.307240    1.253091  -2.274438     0.867628   \n",
       "4     114.662557  21.379844 -0.568766    0.155206  -1.250945     0.123010   \n",
       "...          ...        ...       ...         ...        ...          ...   \n",
       "2643  114.560171  21.762909 -6.803122    0.315623 -15.317532     0.278511   \n",
       "2644  114.560498  21.764462  0.354872    0.046738  -1.599358     0.040654   \n",
       "2645  114.553184  21.762085 -1.562353    0.029940  -2.301470     0.025974   \n",
       "2646  114.554016  21.760873 -2.920485    0.096215  -0.766976     0.083608   \n",
       "2647  114.552512  21.761471 -1.053400    0.416827  -5.898070     0.351953   \n",
       "\n",
       "         bp_rp  phot_g_mean_mag  parallax  parallax_error  radial_velocity  \\\n",
       "0     1.248371        17.872395  0.114155        0.137493              NaN   \n",
       "1     0.821404        15.876815  0.627362        0.044238              NaN   \n",
       "2     1.374405        19.323122  0.614779        0.332102              NaN   \n",
       "3     1.729761        20.525028  0.854476        0.859423              NaN   \n",
       "4     0.729156        17.940943 -0.168597        0.128889              NaN   \n",
       "...        ...              ...       ...             ...              ...   \n",
       "2643  2.548780        19.031809  1.163538        0.318288              NaN   \n",
       "2644  0.823818        15.955688  0.275021        0.047530              NaN   \n",
       "2645  0.787534        15.035185  0.827594        0.029195              NaN   \n",
       "2646  1.528389        17.318043  1.013807        0.094271              NaN   \n",
       "2647  1.116676        19.530592  0.977978        0.409084              NaN   \n",
       "\n",
       "      radial_velocity_error           l          b  \n",
       "0                       NaN  198.307862  19.557286  \n",
       "1                       NaN  198.314263  19.696474  \n",
       "2                       NaN  198.321318  19.604193  \n",
       "3                       NaN  198.324278  19.634518  \n",
       "4                       NaN  198.322188  19.617952  \n",
       "...                     ...         ...        ...  \n",
       "2643                    NaN  197.907504  19.675231  \n",
       "2644                    NaN  197.906100  19.676100  \n",
       "2645                    NaN  197.905704  19.668914  \n",
       "2646                    NaN  197.907206  19.669170  \n",
       "2647                    NaN  197.906057  19.668104  \n",
       "\n",
       "[2434 rows x 14 columns]"
      ]
     },
     "execution_count": 15,
     "metadata": {},
     "output_type": "execute_result"
    }
   ],
   "source": [
    "ndf = df.dropna(how='any',subset=['pmra', 'pmdec', 'parallax'])\n",
    "ndf"
   ]
  },
  {
   "cell_type": "code",
   "execution_count": 16,
   "id": "1bfb872b-a227-4a97-a524-518c48fb68dc",
   "metadata": {},
   "outputs": [],
   "source": [
    "x = ndf['pmra']\n",
    "y = ndf['pmdec']"
   ]
  },
  {
   "cell_type": "code",
   "execution_count": 17,
   "id": "6d021de0-2c20-462f-a02a-4c0808ab75ce",
   "metadata": {},
   "outputs": [],
   "source": [
    "from sklearn.cluster import DBSCAN\n",
    "from sklearn.metrics import silhouette_score\n",
    "from sklearn.metrics import v_measure_score\n",
    "from sklearn.preprocessing import StandardScaler"
   ]
  },
  {
   "cell_type": "markdown",
   "id": "d3186d14-8c30-4ca6-ab94-0af99cd3d674",
   "metadata": {},
   "source": [
    "## Creating the arrays to perform the 2-D KNN fit and 5-D DBSCAN fit"
   ]
  },
  {
   "cell_type": "code",
   "execution_count": 18,
   "id": "7a830cf8-7185-4ced-909e-0e9d60d140b5",
   "metadata": {},
   "outputs": [],
   "source": [
    "X = np.dstack((ndf['pmra'],ndf['pmdec']))[0]\n",
    "cincoD = np.dstack((ndf['pmra'],ndf['pmdec'],ndf['ra'],ndf['dec'],ndf['parallax']))[0]"
   ]
  },
  {
   "cell_type": "markdown",
   "id": "3b593589-3726-429a-9c40-0d6040312163",
   "metadata": {},
   "source": [
    "## Performing the KNN on the pmra and pmdec."
   ]
  },
  {
   "cell_type": "code",
   "execution_count": 19,
   "id": "2cdd99c4-8a08-4c06-94fe-900497cd79ce",
   "metadata": {},
   "outputs": [
    {
     "name": "stdout",
     "output_type": "stream",
     "text": [
      "0.4764499325687367\n"
     ]
    },
    {
     "data": {
      "text/plain": [
       "<Figure size 360x360 with 0 Axes>"
      ]
     },
     "metadata": {},
     "output_type": "display_data"
    },
    {
     "data": {
      "image/png": "[encoded data removed]",
      "text/plain": [
       "<Figure size 432x432 with 1 Axes>"
      ]
     },
     "metadata": {
      "needs_background": "light"
     },
     "output_type": "display_data"
    }
   ],
   "source": [
    "from sklearn.neighbors import NearestNeighbors\n",
    "vizinhos = np.sqrt(len(data)).astype(int)\n",
    "nn = NearestNeighbors(n_neighbors=vizinhos).fit(X)\n",
    "distances, indices = nn.kneighbors(X)\n",
    "\n",
    "distances = np.sort(distances, axis=0)\n",
    "distances = distances[:,1]\n",
    "\n",
    "from kneed import KneeLocator\n",
    "i = np.arange(len(distances))\n",
    "knee = KneeLocator(i, distances, S=1, curve='convex', direction='increasing', interp_method='polynomial')\n",
    "fig = plt.figure(figsize=(5, 5))\n",
    "knee.plot_knee()\n",
    "plt.xlabel(\"Points\")\n",
    "plt.ylabel(\"Distance\")\n",
    "\n",
    "\n",
    "eps_opt = distances[knee.knee]\n",
    "nmin = int(0.005*len(data))\n",
    "\n",
    "print(distances[knee.knee])"
   ]
  },
  {
   "cell_type": "code",
   "execution_count": 20,
   "id": "f9cb21bd-2fcb-4ca4-bfba-d41e9aade1ef",
   "metadata": {},
   "outputs": [],
   "source": [
    "plt.rc('xtick', labelsize=12)\n",
    "plt.rc('ytick', labelsize=12)\n",
    "plt.rcParams['axes.linewidth'] = 1.0\n",
    "\n",
    "\n",
    "font = {'family' : 'serif',\n",
    "        'weight' : 'normal',\n",
    "        'size'   : 13}\n",
    "\n",
    "plt.rc('font', **font)"
   ]
  },
  {
   "cell_type": "markdown",
   "id": "061681a0-a95c-47e5-b1e8-5fc5dbcc9918",
   "metadata": {},
   "source": [
    "## Performing DBSCAN"
   ]
  },
  {
   "cell_type": "code",
   "execution_count": 21,
   "id": "0e6552b0-ef23-45f9-b6d8-b62f73263d91",
   "metadata": {},
   "outputs": [
    {
     "name": "stdout",
     "output_type": "stream",
     "text": [
      "Estimated no. of clusters: 1\n",
      "Estimated no. of noise points: 1622\n",
      "Estimated no. points clustered: 812\n"
     ]
    },
    {
     "data": {
      "text/plain": [
       "Text(0, 0.5, 'pmdec')"
      ]
     },
     "execution_count": 21,
     "metadata": {},
     "output_type": "execute_result"
    },
    {
     "data": {
      "image/png": "[encoded data removed]",
      "text/plain": [
       "<Figure size 432x288 with 1 Axes>"
      ]
     },
     "metadata": {
      "needs_background": "light"
     },
     "output_type": "display_data"
    }
   ],
   "source": [
    "db = DBSCAN(eps=0.2, min_samples=nmin).fit(cincoD)\n",
    "core_samples_mask = np.zeros_like(db.labels_, dtype=bool)\n",
    "core_samples_mask[db.core_sample_indices_] = True\n",
    "labels = db.labels_\n",
    "\n",
    "N_clus=len(set(labels))-(1 if -1 in labels else 0)\n",
    "print('Estimated no. of clusters: %d' % N_clus)\n",
    "\n",
    "n_noise = list(db.labels_).count(-1)\n",
    "print('Estimated no. of noise points: %d' % n_noise)\n",
    "\n",
    "n_in = list(db.labels_).count(0)\n",
    "print('Estimated no. points clustered: %d' % n_in)\n",
    "\n",
    "\n",
    "plt.scatter(X[:, 0], \n",
    "            X[:, 1], \n",
    "            c=db.labels_, \n",
    "            )\n",
    "plt.xlabel(\"pmra\", fontweight = 'bold')\n",
    "plt.ylabel(\"pmdec\", fontweight = 'bold')"
   ]
  },
  {
   "cell_type": "markdown",
   "id": "b2d83603-81b3-4d0c-a656-0450488e4ca3",
   "metadata": {},
   "source": [
    "## Getting the points that are clustered"
   ]
  },
  {
   "cell_type": "code",
   "execution_count": 22,
   "id": "3f5dd7c8-6445-4acd-b226-c3d6e97efea7",
   "metadata": {},
   "outputs": [
    {
     "data": {
      "image/png": "[encoded data removed]",
      "text/plain": [
       "<Figure size 720x432 with 2 Axes>"
      ]
     },
     "metadata": {
      "needs_background": "light"
     },
     "output_type": "display_data"
    }
   ],
   "source": [
    "pontos_cluster = np.empty((0,2))\n",
    "for i in range(len(X)):\n",
    "    if labels[i]==0:\n",
    "        pontos_cluster = np.append(pontos_cluster, np.array([X[i]]), axis  = 0) #problema no formato do array para dar append\n",
    "    else:\n",
    "        continue\n",
    "\n",
    "xin,yin = pontos_cluster.T\n",
    "\n",
    "pontos_cluster = np.empty((0,2))\n",
    "for i in range(len(X)):\n",
    "    if labels[i]==-1:\n",
    "        pontos_cluster = np.append(pontos_cluster, np.array([X[i]]), axis  = 0) #problema no formato do array para dar append\n",
    "    else:\n",
    "        continue\n",
    "\n",
    "\n",
    "xout, yout = pontos_cluster.T\n",
    "\n",
    "\n",
    "subset = ndf[ndf['pmra'].isin(xin) & ndf['pmdec'].isin(yin)]\n",
    "subset = subset.reset_index(drop=True)\n",
    "\n",
    "fig, ax = plt.subplots(1,2, figsize=(10,6))\n",
    "ax[0].scatter(xin,yin, color = 'k', zorder = 100)\n",
    "ax[0].scatter(xout,yout, color = 'red')\n",
    "\n",
    "\n",
    "ax[1].scatter(subset['bp_rp'],subset['phot_g_mean_mag'])\n",
    "ax[1].invert_yaxis()\n"
   ]
  },
  {
   "cell_type": "code",
   "execution_count": 23,
   "id": "0aa368ca-3e4e-4d8f-b250-464c9de9bbbb",
   "metadata": {},
   "outputs": [
    {
     "data": {
      "image/png": "[encoded data removed]",
      "text/plain": [
       "<Figure size 360x576 with 1 Axes>"
      ]
     },
     "metadata": {
      "needs_background": "light"
     },
     "output_type": "display_data"
    }
   ],
   "source": [
    "plt.figure(figsize=(5,8))\n",
    "plt.scatter(subset['bp_rp'],subset['phot_g_mean_mag'])\n",
    "plt.gca().invert_yaxis()"
   ]
  },
  {
   "cell_type": "markdown",
   "id": "e97bc501-2309-4986-aa6f-74039153f3e1",
   "metadata": {},
   "source": [
    "## Constructing a RDP and histograms of the clusters parameters"
   ]
  },
  {
   "cell_type": "code",
   "execution_count": 24,
   "id": "40118a7a-2fff-4128-a1fe-379b764af944",
   "metadata": {},
   "outputs": [
    {
     "data": {
      "text/plain": [
       "Text(0, 0.5, 'stellar density (arcsec$^{-2}$)')"
      ]
     },
     "execution_count": 24,
     "metadata": {},
     "output_type": "execute_result"
    },
    {
     "data": {
      "image/png": "[encoded data removed]",
      "text/plain": [
       "<Figure size 432x288 with 1 Axes>"
      ]
     },
     "metadata": {
      "needs_background": "light"
     },
     "output_type": "display_data"
    }
   ],
   "source": [
    "from astropy.coordinates import SkyCoord\n",
    "from astropy import units\n",
    "\n",
    "catalog = SkyCoord(ra=subset['ra']*units.degree, dec=subset['dec']*units.degree, frame='fk5')\n",
    "\n",
    "nstar = len(subset)\n",
    "\n",
    "#.Definindo o vizinho apropriado para a abertura\n",
    "\n",
    "k = np.sqrt(nstar).astype(int)\n",
    "\n",
    "#.criando a estrutura de vizinhos proximos\n",
    "coords = np.array([subset['ra']*np.cos(subset['dec']*np.pi/180.0), subset['dec']]).T\n",
    "nn_struct = NearestNeighbors(n_neighbors=k, algorithm='auto', metric='euclidean')\n",
    "nn_struct.fit(coords)\n",
    "distances, index = nn_struct.kneighbors(coords)\n",
    "             \n",
    "\n",
    "#.obtendo a distancia do k-esimo vizinho mais proximo\n",
    "aperture = distances[:,k-1]*units.degree\n",
    "area = np.pi*(aperture.value)**2# + area_cor(data, data.DEC, aperture.value)\n",
    "den_data = k/area\n",
    "den_sigm = np.sqrt(k)/area\n",
    "\n",
    "den_data /= 3600**2\n",
    "den_sigm /= 3600**2\n",
    "\n",
    "med_x = np.average(subset['ra'], weights=den_data)\n",
    "std_x = np.average((subset['ra']-med_x)**2, weights=den_data)**0.5\n",
    "\n",
    "med_y = np.average(subset['dec'], weights=den_data)\n",
    "std_y = np.average((subset['dec']-med_y)**2, weights=den_data)**0.5\n",
    "\n",
    "center = SkyCoord(med_x*units.degree, med_y*units.degree)\n",
    "radii = center.separation(catalog)\n",
    "radii = radii.to(units.arcsec).value\n",
    "\n",
    "#.criando figura do RDP\n",
    "\n",
    "import matplotlib.cm as cm\n",
    "cor = cm.get_cmap('jet')\n",
    "\n",
    "fig, ax = plt.subplots()#1,1,figsize=(10,11))\n",
    "ax.scatter(radii,den_data, s=(max(subset['phot_g_mean_mag'])-subset['phot_g_mean_mag'])*20, c=den_data/3600**2, cmap = cor, label='data')\n",
    "ax.set_xlabel('radius (arcsec)', fontsize=18, fontweight='bold')\n",
    "ax.set_ylabel('stellar density (arcsec$^{-2}$)', fontsize=18, fontweight='bold')\n",
    "\n"
   ]
  },
  {
   "cell_type": "markdown",
   "id": "745deccc-b7c0-408f-8e44-a40b28044e17",
   "metadata": {},
   "source": [
    "## Plotting histograms"
   ]
  },
  {
   "cell_type": "code",
   "execution_count": 25,
   "id": "071a7e5d-7e96-40b9-930e-ffdfd72f8deb",
   "metadata": {},
   "outputs": [
    {
     "data": {
      "image/png": "[encoded data removed]",
      "text/plain": [
       "<Figure size 936x720 with 4 Axes>"
      ]
     },
     "metadata": {
      "needs_background": "light"
     },
     "output_type": "display_data"
    }
   ],
   "source": [
    "fig = plt.figure(figsize = (13,10))\n",
    "ax1 = fig.add_subplot(4,4, (1,6))\n",
    "ax2 = fig.add_subplot(4,4, (9,14))\n",
    "ax3 = fig.add_subplot(4,4, (3,8))\n",
    "ax4 = fig.add_subplot(4,4, (11,16))\n",
    "\n",
    "optimal_bin = np.histogram_bin_edges(subset['ra'], bins = 'fd')\n",
    "ax1.hist(subset['ra'], optimal_bin,  ec = 'k', color = 'green');\n",
    "\n",
    "optimal_bin = np.histogram_bin_edges(subset['pmra'], bins = 'fd')\n",
    "ax2.hist(subset['pmra'], optimal_bin,  ec = 'k', color = 'green');\n",
    "\n",
    "optimal_bin = np.histogram_bin_edges(subset['dec'], bins = 'fd')\n",
    "ax3.hist(subset['dec'], optimal_bin,  ec = 'k', color = 'red');\n",
    "\n",
    "optimal_bin = np.histogram_bin_edges(subset['pmdec'], bins = 'fd')\n",
    "ax4.hist(subset['pmdec'], optimal_bin,  ec = 'k', color = 'red');\n",
    "\n",
    "ax1.set_title('ra', fontweight = 'bold')\n",
    "ax2.set_title('pmra', fontweight = 'bold')\n",
    "ax3.set_title('dec', fontweight = 'bold')\n",
    "ax4.set_title('pmdec', fontweight = 'bold')\n",
    "\n",
    "plt.subplots_adjust(wspace = 0.2, hspace = 0.5)\n"
   ]
  },
  {
   "cell_type": "code",
   "execution_count": 26,
   "id": "55b77219-5085-4be7-b901-c475a2e22391",
   "metadata": {},
   "outputs": [
    {
     "data": {
      "image/png": "[encoded data removed]",
      "text/plain": [
       "<Figure size 1008x504 with 2 Axes>"
      ]
     },
     "metadata": {
      "needs_background": "light"
     },
     "output_type": "display_data"
    }
   ],
   "source": [
    "fig = plt.figure(figsize=(14,7))\n",
    "ax1 = fig.add_subplot(2,4, (1,6))\n",
    "\n",
    "optimal_bin = np.histogram_bin_edges(subset['parallax'], bins = 'fd')\n",
    "ax1.hist(subset['parallax'], optimal_bin, ec = 'k',color = 'blue');\n",
    "\n",
    "ax2 = fig.add_subplot(2,4, (3,8))\n",
    "\n",
    "ra_vel = subset.dropna(how='any',subset=['radial_velocity'])\n",
    "optimal_bin = np.histogram_bin_edges(ra_vel['radial_velocity'], bins = 'fd')\n",
    "ax2.hist(ra_vel.radial_velocity, optimal_bin, ec = 'k',color = 'orange');\n",
    "\n",
    "ax1.set_title('parallax', fontweight = 'bold')\n",
    "ax2.set_title('radial velocity', fontweight = 'bold');"
   ]
  },
  {
   "cell_type": "markdown",
   "id": "162cb4b6-ffc0-4462-ba56-5706b083601a",
   "metadata": {},
   "source": [
    "## Gaussian fit"
   ]
  },
  {
   "cell_type": "code",
   "execution_count": 27,
   "id": "e7f6d680-d07d-4b8b-9bfc-edf0bf934f8c",
   "metadata": {},
   "outputs": [],
   "source": [
    "def gaussiana(x, amp, mu, sigma):\n",
    "    return amp*np.exp(-(x-mu)**2/(2*sigma**2))\n",
    "\n",
    "from lmfit.models import GaussianModel"
   ]
  },
  {
   "cell_type": "code",
   "execution_count": 28,
   "id": "4596d56f-40fa-4def-85b4-51283340d87e",
   "metadata": {},
   "outputs": [
    {
     "name": "stdout",
     "output_type": "stream",
     "text": [
      "[[Model]]\n",
      "    Model(gaussian)\n",
      "[[Fit Statistics]]\n",
      "    # fitting method   = leastsq\n",
      "    # function evals   = 49\n",
      "    # data points      = 45\n",
      "    # variables        = 3\n",
      "    chi-square         = 2268.75307\n",
      "    reduced chi-square = 54.0179303\n",
      "    Akaike info crit   = 182.414542\n",
      "    Bayesian info crit = 187.834530\n",
      "[[Variables]]\n",
      "    amplitude:  13.9288350 +/- 0.60230473 (4.32%) (init = 10.11258)\n",
      "    center:     0.38555917 +/- 0.00303079 (0.79%) (init = 0.3843066)\n",
      "    sigma:      0.06070125 +/- 0.00303087 (4.99%) (init = 0.03121168)\n",
      "    fwhm:       0.14294052 +/- 0.00713716 (4.99%) == '2.3548200*sigma'\n",
      "    height:     91.5434428 +/- 3.95847598 (4.32%) == '0.3989423*amplitude/max(1e-15, sigma)'\n",
      "[[Correlations]] (unreported correlations are < 0.100)\n",
      "    C(amplitude, sigma) = 0.577\n"
     ]
    },
    {
     "data": {
      "image/png": "[encoded data removed]",
      "text/plain": [
       "<Figure size 576x432 with 1 Axes>"
      ]
     },
     "metadata": {
      "needs_background": "light"
     },
     "output_type": "display_data"
    }
   ],
   "source": [
    "fig, ax = plt.subplots(figsize=(8,6))\n",
    "\n",
    "\n",
    "data = subset['parallax']\n",
    "optimal_bin = np.histogram_bin_edges(data, bins = 'fd')\n",
    "\n",
    "histograma = ax.hist(data, optimal_bin, ec = 'k',color = 'orange');\n",
    "\n",
    "numero, bins = histograma[0],histograma[1]\n",
    "\n",
    "centralizar = (bins[1] - bins[0])/2\n",
    "\n",
    "teste = np.linspace(bins.min(),bins.max(),len(bins) -1)\n",
    "\n",
    "jpt = np.linspace(np.min(data) + centralizar, np.max(data) - centralizar, len(numero))\n",
    "\n",
    "\n",
    "gmodel = GaussianModel()\n",
    "\n",
    "inicial = gmodel.guess(numero, x = teste)\n",
    "\n",
    "result = gmodel.fit(numero, inicial, x=teste)\n",
    "\n",
    "\n",
    "print(result.fit_report())\n",
    "\n",
    "\n",
    "\n",
    "parametros = [result.params['height'].value, result.params['center'].value, result.params['sigma'].value]\n",
    "valores_paralaxe = [result.params['center'].value, result.params['sigma'].value]\n",
    "\n",
    "xplot = np.linspace(1.3*bins[0],1.3*bins[-1],128*2)\n",
    "\n",
    "ax.plot(xplot,gaussiana(xplot,*parametros), color = 'k')\n",
    "\n",
    "ax.set_title('parallax', fontweight = 'bold')\n",
    "\n",
    "plt.show()"
   ]
  },
  {
   "cell_type": "code",
   "execution_count": 29,
   "id": "8a5ec7cc-3804-4ee1-86ae-009de509436a",
   "metadata": {},
   "outputs": [],
   "source": [
    "#primeiro_clip = subset.parallax[np.where((subset.parallax < sigma_parallax_up ) & (subset.parallax > sigma_parallax_down))[0]]\n",
    "#primeiro_clip"
   ]
  },
  {
   "cell_type": "code",
   "execution_count": 30,
   "id": "7be0ede2-e52e-438f-a4dd-7f5fdcae6f74",
   "metadata": {},
   "outputs": [
    {
     "name": "stdout",
     "output_type": "stream",
     "text": [
      "[[Model]]\n",
      "    Model(gaussian)\n",
      "[[Fit Statistics]]\n",
      "    # fitting method   = leastsq\n",
      "    # function evals   = 45\n",
      "    # data points      = 26\n",
      "    # variables        = 3\n",
      "    chi-square         = 2388.75252\n",
      "    reduced chi-square = 103.858805\n",
      "    Akaike info crit   = 123.531180\n",
      "    Bayesian info crit = 127.305470\n",
      "[[Variables]]\n",
      "    amplitude:  11.9502102 +/- 0.68781729 (5.76%) (init = 8.187337)\n",
      "    center:     114.602057 +/- 0.00350496 (0.00%) (init = 114.6022)\n",
      "    sigma:      0.05273997 +/- 0.00350514 (6.65%) (init = 0.02436707)\n",
      "    fwhm:       0.12419313 +/- 0.00825399 (6.65%) == '2.3548200*sigma'\n",
      "    height:     90.3952814 +/- 5.20285877 (5.76%) == '0.3989423*amplitude/max(1e-15, sigma)'\n",
      "[[Correlations]] (unreported correlations are < 0.100)\n",
      "    C(amplitude, sigma) = 0.577\n"
     ]
    },
    {
     "data": {
      "image/png": "[encoded data removed]",
      "text/plain": [
       "<Figure size 576x432 with 1 Axes>"
      ]
     },
     "metadata": {
      "needs_background": "light"
     },
     "output_type": "display_data"
    }
   ],
   "source": [
    "fig, ax = plt.subplots(figsize=(8,6))\n",
    "\n",
    "\n",
    "data = subset['ra']\n",
    "optimal_bin = np.histogram_bin_edges(data, bins = 'fd')\n",
    "\n",
    "histograma = ax.hist(data, optimal_bin, ec = 'k',color = 'blue');\n",
    "\n",
    "numero, bins = histograma[0],histograma[1]\n",
    "\n",
    "centralizar = (bins[1] - bins[0])/2\n",
    "\n",
    "teste = np.linspace(bins.min(),bins.max(),len(bins) -1)\n",
    "\n",
    "jpt = np.linspace(np.min(data) + centralizar, np.max(data) - centralizar, len(numero))\n",
    "\n",
    "\n",
    "gmodel = GaussianModel()\n",
    "\n",
    "inicial = gmodel.guess(numero, x = teste)\n",
    "\n",
    "result = gmodel.fit(numero, inicial, x=teste)\n",
    "\n",
    "\n",
    "print(result.fit_report())\n",
    "\n",
    "\n",
    "\n",
    "parametros = [result.params['height'].value, result.params['center'].value, result.params['sigma'].value]\n",
    "valores_ra = [result.params['center'].value, result.params['sigma'].value]\n",
    "\n",
    "xplot = np.linspace(bins[0],bins[-1],128*2)\n",
    "\n",
    "ax.plot(xplot,gaussiana(xplot,*parametros), color = 'k')\n",
    "\n",
    "ax.set_title('ra', fontweight = 'bold')\n",
    "\n",
    "plt.show()"
   ]
  },
  {
   "cell_type": "code",
   "execution_count": 31,
   "id": "b7821597-832b-4214-ac0b-dd5c6d1600a0",
   "metadata": {},
   "outputs": [
    {
     "name": "stdout",
     "output_type": "stream",
     "text": [
      "[[Model]]\n",
      "    Model(gaussian)\n",
      "[[Fit Statistics]]\n",
      "    # fitting method   = leastsq\n",
      "    # function evals   = 37\n",
      "    # data points      = 34\n",
      "    # variables        = 3\n",
      "    chi-square         = 1558.14481\n",
      "    reduced chi-square = 50.2627358\n",
      "    Akaike info crit   = 136.046282\n",
      "    Bayesian info crit = 140.625363\n",
      "[[Variables]]\n",
      "    amplitude:  22.0993341 +/- 0.88955795 (4.03%) (init = 24.33702)\n",
      "    center:    -1.21895804 +/- 0.00449550 (0.37%) (init = -1.217673)\n",
      "    sigma:      0.09672116 +/- 0.00449557 (4.65%) (init = 0.07653151)\n",
      "    fwhm:       0.22776092 +/- 0.01058626 (4.65%) == '2.3548200*sigma'\n",
      "    height:     91.1523315 +/- 3.66912214 (4.03%) == '0.3989423*amplitude/max(1e-15, sigma)'\n",
      "[[Correlations]] (unreported correlations are < 0.100)\n",
      "    C(amplitude, sigma) = 0.577\n"
     ]
    },
    {
     "data": {
      "image/png": "[encoded data removed]",
      "text/plain": [
       "<Figure size 576x432 with 1 Axes>"
      ]
     },
     "metadata": {
      "needs_background": "light"
     },
     "output_type": "display_data"
    }
   ],
   "source": [
    "fig, ax = plt.subplots(figsize=(8,6))\n",
    "\n",
    "\n",
    "data = subset['pmra']\n",
    "optimal_bin = np.histogram_bin_edges(data, bins = 'fd')\n",
    "\n",
    "histograma = ax.hist(data, optimal_bin, ec = 'k',color = 'blue');\n",
    "\n",
    "numero, bins = histograma[0],histograma[1]\n",
    "\n",
    "centralizar = (bins[1] - bins[0])/2\n",
    "\n",
    "teste = np.linspace(bins.min(),bins.max(),len(bins) -1)\n",
    "\n",
    "jpt = np.linspace(np.min(data) + centralizar, np.max(data) - centralizar, len(numero))\n",
    "\n",
    "\n",
    "gmodel = GaussianModel()\n",
    "\n",
    "inicial = gmodel.guess(numero, x = teste)\n",
    "\n",
    "result = gmodel.fit(numero, inicial, x=teste)\n",
    "\n",
    "\n",
    "print(result.fit_report())\n",
    "\n",
    "\n",
    "\n",
    "parametros = [result.params['height'].value, result.params['center'].value, result.params['sigma'].value]\n",
    "valores_pmra= [result.params['center'].value, result.params['sigma'].value]\n",
    "\n",
    "xplot = np.linspace(bins[0],bins[-1],128*2)\n",
    "\n",
    "ax.plot(xplot,gaussiana(xplot,*parametros), color = 'k')\n",
    "\n",
    "ax.set_title('pmra', fontweight = 'bold')\n",
    "\n",
    "plt.show()"
   ]
  },
  {
   "cell_type": "code",
   "execution_count": 32,
   "id": "be669e82-e291-4d91-a880-5250115f0c15",
   "metadata": {},
   "outputs": [
    {
     "name": "stdout",
     "output_type": "stream",
     "text": [
      "[[Model]]\n",
      "    Model(gaussian)\n",
      "[[Fit Statistics]]\n",
      "    # fitting method   = leastsq\n",
      "    # function evals   = 41\n",
      "    # data points      = 25\n",
      "    # variables        = 3\n",
      "    chi-square         = 1701.82364\n",
      "    reduced chi-square = 77.3556199\n",
      "    Akaike info crit   = 111.514496\n",
      "    Bayesian info crit = 115.171124\n",
      "[[Variables]]\n",
      "    amplitude:  11.4457057 +/- 0.56594279 (4.94%) (init = 11.98917)\n",
      "    center:     21.5761216 +/- 0.00280902 (0.01%) (init = 21.57881)\n",
      "    sigma:      0.04919975 +/- 0.00280907 (5.71%) (init = 0.0395682)\n",
      "    fwhm:       0.11585654 +/- 0.00661486 (5.71%) == '2.3548200*sigma'\n",
      "    height:     92.8089396 +/- 4.58901302 (4.94%) == '0.3989423*amplitude/max(1e-15, sigma)'\n",
      "[[Correlations]] (unreported correlations are < 0.100)\n",
      "    C(amplitude, sigma) = 0.577\n"
     ]
    },
    {
     "data": {
      "image/png": "[encoded data removed]",
      "text/plain": [
       "<Figure size 576x432 with 1 Axes>"
      ]
     },
     "metadata": {
      "needs_background": "light"
     },
     "output_type": "display_data"
    }
   ],
   "source": [
    "fig, ax = plt.subplots(figsize=(8,6))\n",
    "\n",
    "\n",
    "data = subset['dec']\n",
    "optimal_bin = np.histogram_bin_edges(data, bins = 'fd')\n",
    "\n",
    "histograma = ax.hist(data, optimal_bin, ec = 'k',color = 'red');\n",
    "\n",
    "numero, bins = histograma[0],histograma[1]\n",
    "\n",
    "centralizar = (bins[1] - bins[0])/2\n",
    "\n",
    "teste = np.linspace(bins.min(),bins.max(),len(bins) -1)\n",
    "\n",
    "jpt = np.linspace(np.min(data) + centralizar, np.max(data) - centralizar, len(numero))\n",
    "\n",
    "\n",
    "gmodel = GaussianModel()\n",
    "\n",
    "inicial = gmodel.guess(numero, x = teste)\n",
    "\n",
    "result = gmodel.fit(numero, inicial, x=teste)\n",
    "\n",
    "\n",
    "print(result.fit_report())\n",
    "\n",
    "\n",
    "\n",
    "parametros = [result.params['height'].value, result.params['center'].value, result.params['sigma'].value]\n",
    "valores_dec = [result.params['center'].value, result.params['sigma'].value]\n",
    "\n",
    "xplot = np.linspace(bins[0],bins[-1],128*2)\n",
    "\n",
    "ax.plot(xplot,gaussiana(xplot,*parametros), color = 'k')\n",
    "\n",
    "ax.set_title('dec', fontweight = 'bold')\n",
    "\n",
    "plt.show()"
   ]
  },
  {
   "cell_type": "code",
   "execution_count": 33,
   "id": "2e61f8e4-e34f-4e4f-9d15-44e52af6069b",
   "metadata": {},
   "outputs": [
    {
     "name": "stdout",
     "output_type": "stream",
     "text": [
      "[[Model]]\n",
      "    Model(gaussian)\n",
      "[[Fit Statistics]]\n",
      "    # fitting method   = leastsq\n",
      "    # function evals   = 29\n",
      "    # data points      = 35\n",
      "    # variables        = 3\n",
      "    chi-square         = 1378.87733\n",
      "    reduced chi-square = 43.0899165\n",
      "    Akaike info crit   = 134.578690\n",
      "    Bayesian info crit = 139.244734\n",
      "[[Variables]]\n",
      "    amplitude:  20.7317536 +/- 0.78141166 (3.77%) (init = 26.07812)\n",
      "    center:    -2.04504132 +/- 0.00404293 (0.20%) (init = -2.058194)\n",
      "    sigma:      0.09289449 +/- 0.00404299 (4.35%) (init = 0.08606639)\n",
      "    fwhm:       0.21874981 +/- 0.00952051 (4.35%) == '2.3548200*sigma'\n",
      "    height:     89.0340537 +/- 3.35582561 (3.77%) == '0.3989423*amplitude/max(1e-15, sigma)'\n",
      "[[Correlations]] (unreported correlations are < 0.100)\n",
      "    C(amplitude, sigma) = 0.577\n"
     ]
    },
    {
     "data": {
      "image/png": "[encoded data removed]",
      "text/plain": [
       "<Figure size 576x432 with 1 Axes>"
      ]
     },
     "metadata": {
      "needs_background": "light"
     },
     "output_type": "display_data"
    }
   ],
   "source": [
    "fig, ax = plt.subplots(figsize=(8,6))\n",
    "\n",
    "\n",
    "data = subset['pmdec']\n",
    "optimal_bin = np.histogram_bin_edges(data, bins = 'fd')\n",
    "\n",
    "histograma = ax.hist(data, optimal_bin, ec = 'k',color = 'red');\n",
    "\n",
    "numero, bins = histograma[0],histograma[1]\n",
    "\n",
    "centralizar = (bins[1] - bins[0])/2\n",
    "\n",
    "teste = np.linspace(bins.min(),bins.max(),len(bins) -1)\n",
    "\n",
    "jpt = np.linspace(np.min(data) + centralizar, np.max(data) - centralizar, len(numero))\n",
    "\n",
    "\n",
    "gmodel = GaussianModel()\n",
    "\n",
    "inicial = gmodel.guess(numero, x = teste)\n",
    "\n",
    "result = gmodel.fit(numero, inicial, x=teste)\n",
    "\n",
    "\n",
    "print(result.fit_report())\n",
    "\n",
    "\n",
    "\n",
    "parametros = [result.params['height'].value, result.params['center'].value, result.params['sigma'].value]\n",
    "valores_pmdec = [result.params['center'].value, result.params['sigma'].value]\n",
    "\n",
    "xplot = np.linspace(bins[0],bins[-1],128*2)\n",
    "\n",
    "ax.plot(xplot,gaussiana(xplot,*parametros), color = 'k')\n",
    "\n",
    "ax.set_title('pmdec', fontweight = 'bold')\n",
    "\n",
    "plt.show()"
   ]
  },
  {
   "cell_type": "code",
   "execution_count": 34,
   "id": "bd22e490-355a-434a-8f2b-db38637bbfb3",
   "metadata": {},
   "outputs": [
    {
     "name": "stdout",
     "output_type": "stream",
     "text": [
      "[[Model]]\n",
      "    Model(gaussian)\n",
      "[[Fit Statistics]]\n",
      "    # fitting method   = leastsq\n",
      "    # function evals   = 42\n",
      "    # data points      = 52\n",
      "    # variables        = 3\n",
      "    chi-square         = 42.8060222\n",
      "    reduced chi-square = 0.87359229\n",
      "    Akaike info crit   = -4.11737581\n",
      "    Bayesian info crit = 1.73635535\n",
      "[[Variables]]\n",
      "    amplitude:  80.4394136 +/- 4.21979799 (5.25%) (init = 1011.234)\n",
      "    center:     74.1914076 +/- 0.10623822 (0.14%) (init = 73.66455)\n",
      "    sigma:      1.74034521 +/- 0.10526585 (6.05%) (init = 18.72655)\n",
      "    fwhm:       4.09819971 +/- 0.24788213 (6.05%) == '2.3548200*sigma'\n",
      "    height:     18.4392639 +/- 0.96651282 (5.24%) == '0.3989423*amplitude/max(1e-15, sigma)'\n",
      "[[Correlations]] (unreported correlations are < 0.100)\n",
      "    C(amplitude, sigma) = 0.577\n",
      "    C(center, sigma)    = -0.107\n"
     ]
    },
    {
     "data": {
      "image/png": "[encoded data removed]",
      "text/plain": [
       "<Figure size 576x432 with 1 Axes>"
      ]
     },
     "metadata": {
      "needs_background": "light"
     },
     "output_type": "display_data"
    }
   ],
   "source": [
    "fig, ax = plt.subplots(figsize=(8,6))\n",
    "\n",
    "ra_vel = subset.dropna(how='any',subset=['radial_velocity'])\n",
    "optimal_bin = np.histogram_bin_edges(ra_vel['radial_velocity'], bins = 'fd')\n",
    "\n",
    "data = ra_vel['radial_velocity']\n",
    "optimal_bin = np.histogram_bin_edges(data, bins = 'fd')\n",
    "\n",
    "histograma = ax.hist(data, optimal_bin, ec = 'k',color = 'green');\n",
    "\n",
    "numero, bins = histograma[0],histograma[1]\n",
    "\n",
    "centralizar = (bins[1] - bins[0])/2\n",
    "\n",
    "teste = np.linspace(bins.min(),bins.max(),len(bins) -1)\n",
    "\n",
    "jpt = np.linspace(np.min(data) + centralizar, np.max(data) - centralizar, len(numero))\n",
    "\n",
    "\n",
    "gmodel = GaussianModel()\n",
    "\n",
    "inicial = gmodel.guess(numero, x = teste)\n",
    "\n",
    "result = gmodel.fit(numero, inicial, x=teste)\n",
    "\n",
    "\n",
    "print(result.fit_report())\n",
    "\n",
    "\n",
    "\n",
    "parametros = [result.params['height'].value, result.params['center'].value, result.params['sigma'].value]\n",
    "\n",
    "valores_radial_velocity= [result.params['center'].value, result.params['sigma'].value]\n",
    "\n",
    "\n",
    "xplot = np.linspace(bins[0],bins[-1],128*2)\n",
    "\n",
    "ax.plot(xplot,gaussiana(xplot,*parametros), color = 'k')\n",
    "\n",
    "ax.set_title('radial_velocity', fontweight = 'bold')\n",
    "\n",
    "plt.show()\n"
   ]
  },
  {
   "cell_type": "code",
   "execution_count": 41,
   "id": "12160255-cc54-43d7-ad95-d977411f20be",
   "metadata": {},
   "outputs": [
    {
     "name": "stdout",
     "output_type": "stream",
     "text": [
      "0.5069616710290079 0.2641566680993472\n",
      "114.70753677720394 114.4965769013239\n",
      "-1.0255157238558206 -1.4124003610080256\n",
      "21.674521105794213 21.47772212516861\n",
      "-1.8592523319327179 -2.2308303117294694\n",
      "77.6720980222261 70.71071717418448\n"
     ]
    }
   ],
   "source": [
    "sigma = 2\n",
    "\n",
    "paralaxe_up, paralaxe_down = valores_paralaxe[0] + sigma*valores_paralaxe[1], valores_paralaxe[0] - sigma*valores_paralaxe[1]\n",
    "\n",
    "print(paralaxe_up,paralaxe_down)\n",
    "\n",
    "ra_up, ra_down = valores_ra[0] + sigma*valores_ra[1], valores_ra[0] - sigma*valores_ra[1]\n",
    "\n",
    "print(ra_up,ra_down)\n",
    "\n",
    "pmra_up, pmra_down = valores_pmra[0] + sigma*valores_pmra[1], valores_pmra[0] - sigma*valores_pmra[1]\n",
    "\n",
    "print(pmra_up,pmra_down)\n",
    "\n",
    "dec_up, dec_down = valores_dec[0] + sigma*valores_dec[1], valores_dec[0] - sigma*valores_dec[1]\n",
    "\n",
    "print(dec_up,dec_down)\n",
    "\n",
    "pmdec_up, pmdec_down = valores_pmdec[0] + sigma*valores_pmdec[1], valores_pmdec[0] - sigma*valores_pmdec[1]\n",
    "\n",
    "print(pmdec_up,pmdec_down)\n",
    "\n",
    "radvel_up, radvel_down = valores_radial_velocity[0] + sigma*valores_radial_velocity[1], valores_radial_velocity[0] - sigma*valores_radial_velocity[1]\n",
    "\n",
    "print(radvel_up,radvel_down)"
   ]
  },
  {
   "cell_type": "code",
   "execution_count": 42,
   "id": "d1511151-0645-4fbc-9099-60763585c549",
   "metadata": {},
   "outputs": [
    {
     "data": {
      "text/plain": [
       "781"
      ]
     },
     "execution_count": 42,
     "metadata": {},
     "output_type": "execute_result"
    }
   ],
   "source": [
    "clip = subset.loc[(subset.parallax < paralaxe_up ) & (subset.parallax > paralaxe_down) & (subset.ra>ra_down) & (subset.ra<ra_up)\n",
    "          & (subset.dec>dec_down) & (subset.dec<dec_up) & (subset.pmra>pmra_down) & (subset.pmra<pmra_up) & (subset.pmdec>pmdec_down) & (subset.pmdec<pmdec_up)\n",
    "         & (subset.radial_velocity < radvel_up) & (subset.radial_velocity > radvel_down)| (subset.radial_velocity.isnull())]\n",
    "len(clip)"
   ]
  },
  {
   "cell_type": "code",
   "execution_count": 43,
   "id": "9a590b4f-ac07-4d68-a102-f2acaa13a09e",
   "metadata": {},
   "outputs": [
    {
     "data": {
      "image/png": "[encoded data removed]",
      "text/plain": [
       "<Figure size 432x288 with 1 Axes>"
      ]
     },
     "metadata": {
      "needs_background": "light"
     },
     "output_type": "display_data"
    }
   ],
   "source": [
    "ra_vel = clip.dropna(how='any',subset=['radial_velocity'])\n",
    "optimal_bin = np.histogram_bin_edges(ra_vel['radial_velocity'], bins = 'fd')\n",
    "\n",
    "data = ra_vel['radial_velocity']\n",
    "\n",
    "plt.hist(data, optimal_bin, ec = 'k',color = 'green');"
   ]
  },
  {
   "cell_type": "code",
   "execution_count": 47,
   "id": "8bbc66e7-3655-4bcd-bb70-41066c5a7c50",
   "metadata": {},
   "outputs": [
    {
     "data": {
      "image/png": "[encoded data removed]",
      "text/plain": [
       "<Figure size 360x576 with 1 Axes>"
      ]
     },
     "metadata": {
      "needs_background": "light"
     },
     "output_type": "display_data"
    }
   ],
   "source": [
    "plt.figure(figsize=(5,8))\n",
    "plt.scatter(clip['bp_rp'],clip['phot_g_mean_mag'])\n",
    "plt.gca().invert_yaxis()"
   ]
  },
  {
   "cell_type": "code",
   "execution_count": 48,
   "id": "3b71a47f-0600-4951-86f4-4fff8150cb0d",
   "metadata": {},
   "outputs": [
    {
     "data": {
      "text/plain": [
       "Text(0, 0.5, 'stellar density (arcsec$^{-2}$)')"
      ]
     },
     "execution_count": 48,
     "metadata": {},
     "output_type": "execute_result"
    },
    {
     "data": {
      "image/png": "[encoded data removed]",
      "text/plain": [
       "<Figure size 432x288 with 1 Axes>"
      ]
     },
     "metadata": {
      "needs_background": "light"
     },
     "output_type": "display_data"
    }
   ],
   "source": [
    "from astropy.coordinates import SkyCoord\n",
    "from astropy import units\n",
    "\n",
    "catalog = SkyCoord(ra=clip['ra']*units.degree, dec=clip['dec']*units.degree, frame='fk5')\n",
    "\n",
    "nstar = len(clip)\n",
    "\n",
    "#.Definindo o vizinho apropriado para a abertura\n",
    "\n",
    "k = np.sqrt(nstar).astype(int)\n",
    "\n",
    "#.criando a estrutura de vizinhos proximos\n",
    "coords = np.array([clip['ra']*np.cos(clip['dec']*np.pi/180.0), clip['dec']]).T\n",
    "nn_struct = NearestNeighbors(n_neighbors=k, algorithm='auto', metric='euclidean')\n",
    "nn_struct.fit(coords)\n",
    "distances, index = nn_struct.kneighbors(coords)\n",
    "             \n",
    "\n",
    "#.obtendo a distancia do k-esimo vizinho mais proximo\n",
    "aperture = distances[:,k-1]*units.degree\n",
    "area = np.pi*(aperture.value)**2# + area_cor(data, data.DEC, aperture.value)\n",
    "den_data = k/area\n",
    "den_sigm = np.sqrt(k)/area\n",
    "\n",
    "den_data /= 3600**2\n",
    "den_sigm /= 3600**2\n",
    "\n",
    "med_x = np.average(clip['ra'], weights=den_data)\n",
    "std_x = np.average((clip['ra']-med_x)**2, weights=den_data)**0.5\n",
    "\n",
    "med_y = np.average(clip['dec'], weights=den_data)\n",
    "std_y = np.average((clip['dec']-med_y)**2, weights=den_data)**0.5\n",
    "\n",
    "center = SkyCoord(med_x*units.degree, med_y*units.degree)\n",
    "radii = center.separation(catalog)\n",
    "radii = radii.to(units.arcsec).value\n",
    "\n",
    "\n",
    "import matplotlib.cm as cm\n",
    "cor = cm.get_cmap('jet')\n",
    "\n",
    "fig, ax = plt.subplots()#1,1,figsize=(10,11))\n",
    "ax.scatter(radii,den_data, s=(max(clip['phot_g_mean_mag'])-clip['phot_g_mean_mag'])*20, c=den_data/3600**2, cmap = cor, label='data')\n",
    "ax.set_xlabel('radius (arcsec)', fontsize=18, fontweight='bold')\n",
    "ax.set_ylabel('stellar density (arcsec$^{-2}$)', fontsize=18, fontweight='bold')\n",
    "\n"
   ]
  },
  {
   "cell_type": "code",
   "execution_count": null,
   "id": "f2561147-7e16-4a56-bad6-15b3783ca53e",
   "metadata": {},
   "outputs": [],
   "source": [
    "center"
   ]
  }
 ],
 "metadata": {
  "kernelspec": {
   "display_name": "Python 3",
   "language": "python",
   "name": "python3"
  },
  "language_info": {
   "codemirror_mode": {
    "name": "ipython",
    "version": 3
   },
   "file_extension": ".py",
   "mimetype": "text/x-python",
   "name": "python",
   "nbconvert_exporter": "python",
   "pygments_lexer": "ipython3",
   "version": "3.8.8"
  }
 },
 "nbformat": 4,
 "nbformat_minor": 5
}
