{
 "cells": [
  {
   "cell_type": "code",
   "execution_count": 1,
   "id": "3521cdea-429b-4991-bb30-48131d9ae7f7",
   "metadata": {},
   "outputs": [],
   "source": [
    "import numpy as np\n",
    "import pandas as pd\n",
    "import matplotlib.pyplot as plt\n",
    "from astroquery.gaia import Gaia\n",
    "import astropy"
   ]
  },
  {
   "cell_type": "code",
   "execution_count": 2,
   "id": "6530e5b6-fa2e-487a-9762-58f002959899",
   "metadata": {},
   "outputs": [],
   "source": [
    "#from platform import python_version\n",
    "#python_version()"
   ]
  },
  {
   "cell_type": "code",
   "execution_count": 3,
   "id": "934ffd11-422a-4df1-b8e7-46169aeacc68",
   "metadata": {},
   "outputs": [],
   "source": [
    "plt.rc('xtick', labelsize=12)\n",
    "plt.rc('ytick', labelsize=12)\n",
    "plt.rcParams['axes.linewidth'] = 1.0\n",
    "\n",
    "\n",
    "font = {'family' : 'serif',\n",
    "        'weight' : 'normal',\n",
    "        'size'   : 13}\n",
    "\n",
    "plt.rc('font', **font)"
   ]
  },
  {
   "cell_type": "code",
   "execution_count": 4,
   "id": "a49442e6-8751-480c-8bc2-b1c80196ac26",
   "metadata": {},
   "outputs": [
    {
     "data": {
      "text/plain": [
       "'Berkeley_23'"
      ]
     },
     "execution_count": 4,
     "metadata": {},
     "output_type": "execute_result"
    }
   ],
   "source": [
    "import os\n",
    "directory_path = os.getcwd()\n",
    "nome_aglo = directory_path.split('/')[-1]\n",
    "nome_aglo"
   ]
  },
  {
   "cell_type": "code",
   "execution_count": 5,
   "id": "f8abc363-cd00-4137-9be0-7cfc139a62e6",
   "metadata": {},
   "outputs": [
    {
     "data": {
      "text/plain": [
       "(98.30833, 20.53056)"
      ]
     },
     "execution_count": 5,
     "metadata": {},
     "output_type": "execute_result"
    }
   ],
   "source": [
    "df = pd.read_csv('../../lista.txt', comment= '#')\n",
    "ra, dec = df.loc[df['Nome'] == nome_aglo]['_RAJ2000'].values[0], df.loc[df['Nome'] == nome_aglo]['_DEJ2000'].values[0]\n",
    "ra, dec"
   ]
  },
  {
   "cell_type": "code",
   "execution_count": 6,
   "id": "74028be2-edac-4384-9832-528bb78d6e2e",
   "metadata": {},
   "outputs": [
    {
     "name": "stdout",
     "output_type": "stream",
     "text": [
      "INFO: Retrieving tables... [astroquery.utils.tap.core]\n",
      "INFO: Parsing tables... [astroquery.utils.tap.core]\n",
      "INFO: Done. [astroquery.utils.tap.core]\n"
     ]
    }
   ],
   "source": [
    "tables = Gaia.load_tables(only_names=True)"
   ]
  },
  {
   "cell_type": "code",
   "execution_count": 7,
   "id": "b4824134-51b9-43ec-8ccb-be7659e74477",
   "metadata": {},
   "outputs": [
    {
     "name": "stdout",
     "output_type": "stream",
     "text": [
      "Retrieving table 'gaiadr3.gaia_source'\n"
     ]
    },
    {
     "data": {
      "text/plain": [
       "<astroquery.utils.tap.model.taptable.TapTableMeta at 0x7f29882253a0>"
      ]
     },
     "execution_count": 7,
     "metadata": {},
     "output_type": "execute_result"
    }
   ],
   "source": [
    "meta = Gaia.load_table('gaiadr3.gaia_source')\n",
    "meta"
   ]
  },
  {
   "cell_type": "code",
   "execution_count": 8,
   "id": "0cd0c50b-6020-4c1b-846d-3d0e0d6d8adb",
   "metadata": {},
   "outputs": [
    {
     "data": {
      "text/plain": [
       "\"SELECT \\nra, dec, pmra, pmra_error, pmdec, pmdec_error, bp_rp, phot_g_mean_mag, parallax, parallax_error, radial_velocity, radial_velocity_error, l,b\\nFROM gaiadr3.gaia_source\\nWHERE 1=CONTAINS(POINT('ICRS',ra,dec),\\nCIRCLE('ICRS', 98.30833,20.53056, 0.2))\""
      ]
     },
     "execution_count": 8,
     "metadata": {},
     "output_type": "execute_result"
    }
   ],
   "source": [
    "query = \"\"\"SELECT \n",
    "ra, dec, pmra, pmra_error, pmdec, pmdec_error, bp_rp, phot_g_mean_mag, parallax, parallax_error, radial_velocity, radial_velocity_error, l,b\n",
    "FROM gaiadr3.gaia_source\n",
    "WHERE 1=CONTAINS(POINT('ICRS',ra,dec),\n",
    "CIRCLE('ICRS', \"\"\" +  str(ra) + ',' + str(dec) + ',' + ' 0.2))'"
   ]
  },
  {
   "cell_type": "code",
   "execution_count": 9,
   "id": "3bde5f58-6e4f-46b6-8fa6-f28b0a206b6d",
   "metadata": {},
   "outputs": [
    {
     "name": "stdout",
     "output_type": "stream",
     "text": [
      "INFO: Query finished. [astroquery.utils.tap.core]\n"
     ]
    },
    {
     "data": {
      "text/plain": [
       "<astroquery.utils.tap.model.job.Job at 0x7f295388c880>"
      ]
     },
     "execution_count": 9,
     "metadata": {},
     "output_type": "execute_result"
    }
   ],
   "source": [
    "job = Gaia.launch_job_async(query)\n",
    "job"
   ]
  },
  {
   "cell_type": "code",
   "execution_count": 10,
   "id": "ce6031ad-1c30-44ba-af5f-2cb4ed81704d",
   "metadata": {},
   "outputs": [
    {
     "data": {
      "text/plain": [
       "5423"
      ]
     },
     "execution_count": 10,
     "metadata": {},
     "output_type": "execute_result"
    }
   ],
   "source": [
    "data = job.get_results()\n",
    "len(data)"
   ]
  },
  {
   "cell_type": "code",
   "execution_count": 11,
   "id": "a7b69784-84b8-4ff5-8739-96de5fc6c268",
   "metadata": {},
   "outputs": [],
   "source": [
    "#data"
   ]
  },
  {
   "cell_type": "code",
   "execution_count": 12,
   "id": "76000902-fd33-4bc1-bfa2-5dc9f2381477",
   "metadata": {},
   "outputs": [
    {
     "data": {
      "text/html": [
       "<div>\n",
       "<style scoped>\n",
       "    .dataframe tbody tr th:only-of-type {\n",
       "        vertical-align: middle;\n",
       "    }\n",
       "\n",
       "    .dataframe tbody tr th {\n",
       "        vertical-align: top;\n",
       "    }\n",
       "\n",
       "    .dataframe thead th {\n",
       "        text-align: right;\n",
       "    }\n",
       "</style>\n",
       "<table border=\"1\" class=\"dataframe\">\n",
       "  <thead>\n",
       "    <tr style=\"text-align: right;\">\n",
       "      <th></th>\n",
       "      <th>ra</th>\n",
       "      <th>dec</th>\n",
       "      <th>pmra</th>\n",
       "      <th>pmra_error</th>\n",
       "      <th>pmdec</th>\n",
       "      <th>pmdec_error</th>\n",
       "      <th>bp_rp</th>\n",
       "      <th>phot_g_mean_mag</th>\n",
       "      <th>parallax</th>\n",
       "      <th>parallax_error</th>\n",
       "      <th>radial_velocity</th>\n",
       "      <th>radial_velocity_error</th>\n",
       "      <th>l</th>\n",
       "      <th>b</th>\n",
       "    </tr>\n",
       "  </thead>\n",
       "  <tbody>\n",
       "    <tr>\n",
       "      <th>0</th>\n",
       "      <td>98.351975</td>\n",
       "      <td>20.334892</td>\n",
       "      <td>-0.388570</td>\n",
       "      <td>0.173544</td>\n",
       "      <td>-1.365909</td>\n",
       "      <td>0.122712</td>\n",
       "      <td>1.452368</td>\n",
       "      <td>17.887228</td>\n",
       "      <td>0.417362</td>\n",
       "      <td>0.145713</td>\n",
       "      <td>NaN</td>\n",
       "      <td>NaN</td>\n",
       "      <td>192.788731</td>\n",
       "      <td>5.328890</td>\n",
       "    </tr>\n",
       "    <tr>\n",
       "      <th>1</th>\n",
       "      <td>98.353966</td>\n",
       "      <td>20.338754</td>\n",
       "      <td>1.440507</td>\n",
       "      <td>0.274614</td>\n",
       "      <td>-0.630428</td>\n",
       "      <td>0.203405</td>\n",
       "      <td>1.207409</td>\n",
       "      <td>18.659582</td>\n",
       "      <td>0.279513</td>\n",
       "      <td>0.243476</td>\n",
       "      <td>NaN</td>\n",
       "      <td>NaN</td>\n",
       "      <td>192.786126</td>\n",
       "      <td>5.332306</td>\n",
       "    </tr>\n",
       "    <tr>\n",
       "      <th>2</th>\n",
       "      <td>98.350055</td>\n",
       "      <td>20.341862</td>\n",
       "      <td>0.859905</td>\n",
       "      <td>0.025662</td>\n",
       "      <td>-2.641193</td>\n",
       "      <td>0.020173</td>\n",
       "      <td>0.670877</td>\n",
       "      <td>14.261889</td>\n",
       "      <td>0.585068</td>\n",
       "      <td>0.024480</td>\n",
       "      <td>NaN</td>\n",
       "      <td>NaN</td>\n",
       "      <td>192.781672</td>\n",
       "      <td>5.330448</td>\n",
       "    </tr>\n",
       "    <tr>\n",
       "      <th>3</th>\n",
       "      <td>98.405085</td>\n",
       "      <td>20.352550</td>\n",
       "      <td>0.539376</td>\n",
       "      <td>0.352519</td>\n",
       "      <td>0.121199</td>\n",
       "      <td>0.246421</td>\n",
       "      <td>1.198135</td>\n",
       "      <td>18.868177</td>\n",
       "      <td>-0.162077</td>\n",
       "      <td>0.437457</td>\n",
       "      <td>NaN</td>\n",
       "      <td>NaN</td>\n",
       "      <td>192.795618</td>\n",
       "      <td>5.381278</td>\n",
       "    </tr>\n",
       "    <tr>\n",
       "      <th>4</th>\n",
       "      <td>98.411496</td>\n",
       "      <td>20.359128</td>\n",
       "      <td>2.152265</td>\n",
       "      <td>0.370010</td>\n",
       "      <td>-1.133286</td>\n",
       "      <td>0.263029</td>\n",
       "      <td>2.150219</td>\n",
       "      <td>18.876717</td>\n",
       "      <td>0.398297</td>\n",
       "      <td>0.353935</td>\n",
       "      <td>NaN</td>\n",
       "      <td>NaN</td>\n",
       "      <td>192.792468</td>\n",
       "      <td>5.389618</td>\n",
       "    </tr>\n",
       "    <tr>\n",
       "      <th>...</th>\n",
       "      <td>...</td>\n",
       "      <td>...</td>\n",
       "      <td>...</td>\n",
       "      <td>...</td>\n",
       "      <td>...</td>\n",
       "      <td>...</td>\n",
       "      <td>...</td>\n",
       "      <td>...</td>\n",
       "      <td>...</td>\n",
       "      <td>...</td>\n",
       "      <td>...</td>\n",
       "      <td>...</td>\n",
       "      <td>...</td>\n",
       "      <td>...</td>\n",
       "    </tr>\n",
       "    <tr>\n",
       "      <th>5418</th>\n",
       "      <td>98.184966</td>\n",
       "      <td>20.692697</td>\n",
       "      <td>2.975033</td>\n",
       "      <td>0.208251</td>\n",
       "      <td>-11.247463</td>\n",
       "      <td>0.146478</td>\n",
       "      <td>2.062077</td>\n",
       "      <td>17.850275</td>\n",
       "      <td>0.875432</td>\n",
       "      <td>0.192684</td>\n",
       "      <td>NaN</td>\n",
       "      <td>NaN</td>\n",
       "      <td>192.397213</td>\n",
       "      <td>5.351966</td>\n",
       "    </tr>\n",
       "    <tr>\n",
       "      <th>5419</th>\n",
       "      <td>98.221180</td>\n",
       "      <td>20.706179</td>\n",
       "      <td>-1.562716</td>\n",
       "      <td>0.451955</td>\n",
       "      <td>-0.034837</td>\n",
       "      <td>0.308418</td>\n",
       "      <td>1.418013</td>\n",
       "      <td>19.360909</td>\n",
       "      <td>-0.369101</td>\n",
       "      <td>0.515362</td>\n",
       "      <td>NaN</td>\n",
       "      <td>NaN</td>\n",
       "      <td>192.400599</td>\n",
       "      <td>5.388270</td>\n",
       "    </tr>\n",
       "    <tr>\n",
       "      <th>5420</th>\n",
       "      <td>98.215930</td>\n",
       "      <td>20.708025</td>\n",
       "      <td>-0.007647</td>\n",
       "      <td>1.268508</td>\n",
       "      <td>-15.037385</td>\n",
       "      <td>1.060649</td>\n",
       "      <td>2.526632</td>\n",
       "      <td>20.269272</td>\n",
       "      <td>-0.316666</td>\n",
       "      <td>1.162772</td>\n",
       "      <td>NaN</td>\n",
       "      <td>NaN</td>\n",
       "      <td>192.396707</td>\n",
       "      <td>5.384733</td>\n",
       "    </tr>\n",
       "    <tr>\n",
       "      <th>5421</th>\n",
       "      <td>98.219354</td>\n",
       "      <td>20.708875</td>\n",
       "      <td>0.949584</td>\n",
       "      <td>0.476781</td>\n",
       "      <td>0.013241</td>\n",
       "      <td>0.330522</td>\n",
       "      <td>1.625120</td>\n",
       "      <td>19.486835</td>\n",
       "      <td>0.678473</td>\n",
       "      <td>0.576026</td>\n",
       "      <td>NaN</td>\n",
       "      <td>NaN</td>\n",
       "      <td>192.397407</td>\n",
       "      <td>5.387972</td>\n",
       "    </tr>\n",
       "    <tr>\n",
       "      <th>5422</th>\n",
       "      <td>98.222885</td>\n",
       "      <td>20.711351</td>\n",
       "      <td>1.399444</td>\n",
       "      <td>0.423079</td>\n",
       "      <td>-0.053077</td>\n",
       "      <td>0.294669</td>\n",
       "      <td>1.631449</td>\n",
       "      <td>19.307213</td>\n",
       "      <td>-0.227514</td>\n",
       "      <td>0.490116</td>\n",
       "      <td>NaN</td>\n",
       "      <td>NaN</td>\n",
       "      <td>192.396697</td>\n",
       "      <td>5.392038</td>\n",
       "    </tr>\n",
       "  </tbody>\n",
       "</table>\n",
       "<p>5423 rows × 14 columns</p>\n",
       "</div>"
      ],
      "text/plain": [
       "             ra        dec      pmra  pmra_error      pmdec  pmdec_error  \\\n",
       "0     98.351975  20.334892 -0.388570    0.173544  -1.365909     0.122712   \n",
       "1     98.353966  20.338754  1.440507    0.274614  -0.630428     0.203405   \n",
       "2     98.350055  20.341862  0.859905    0.025662  -2.641193     0.020173   \n",
       "3     98.405085  20.352550  0.539376    0.352519   0.121199     0.246421   \n",
       "4     98.411496  20.359128  2.152265    0.370010  -1.133286     0.263029   \n",
       "...         ...        ...       ...         ...        ...          ...   \n",
       "5418  98.184966  20.692697  2.975033    0.208251 -11.247463     0.146478   \n",
       "5419  98.221180  20.706179 -1.562716    0.451955  -0.034837     0.308418   \n",
       "5420  98.215930  20.708025 -0.007647    1.268508 -15.037385     1.060649   \n",
       "5421  98.219354  20.708875  0.949584    0.476781   0.013241     0.330522   \n",
       "5422  98.222885  20.711351  1.399444    0.423079  -0.053077     0.294669   \n",
       "\n",
       "         bp_rp  phot_g_mean_mag  parallax  parallax_error  radial_velocity  \\\n",
       "0     1.452368        17.887228  0.417362        0.145713              NaN   \n",
       "1     1.207409        18.659582  0.279513        0.243476              NaN   \n",
       "2     0.670877        14.261889  0.585068        0.024480              NaN   \n",
       "3     1.198135        18.868177 -0.162077        0.437457              NaN   \n",
       "4     2.150219        18.876717  0.398297        0.353935              NaN   \n",
       "...        ...              ...       ...             ...              ...   \n",
       "5418  2.062077        17.850275  0.875432        0.192684              NaN   \n",
       "5419  1.418013        19.360909 -0.369101        0.515362              NaN   \n",
       "5420  2.526632        20.269272 -0.316666        1.162772              NaN   \n",
       "5421  1.625120        19.486835  0.678473        0.576026              NaN   \n",
       "5422  1.631449        19.307213 -0.227514        0.490116              NaN   \n",
       "\n",
       "      radial_velocity_error           l         b  \n",
       "0                       NaN  192.788731  5.328890  \n",
       "1                       NaN  192.786126  5.332306  \n",
       "2                       NaN  192.781672  5.330448  \n",
       "3                       NaN  192.795618  5.381278  \n",
       "4                       NaN  192.792468  5.389618  \n",
       "...                     ...         ...       ...  \n",
       "5418                    NaN  192.397213  5.351966  \n",
       "5419                    NaN  192.400599  5.388270  \n",
       "5420                    NaN  192.396707  5.384733  \n",
       "5421                    NaN  192.397407  5.387972  \n",
       "5422                    NaN  192.396697  5.392038  \n",
       "\n",
       "[5423 rows x 14 columns]"
      ]
     },
     "execution_count": 12,
     "metadata": {},
     "output_type": "execute_result"
    }
   ],
   "source": [
    "df = data.to_pandas()\n",
    "df"
   ]
  },
  {
   "cell_type": "code",
   "execution_count": 13,
   "id": "01debe18-c72b-4585-a428-4246e3fc8d88",
   "metadata": {},
   "outputs": [
    {
     "data": {
      "text/plain": [
       "<matplotlib.collections.PathCollection at 0x7f2953266550>"
      ]
     },
     "execution_count": 13,
     "metadata": {},
     "output_type": "execute_result"
    },
    {
     "data": {
      "image/png": "[encoded data removed]",
      "text/plain": [
       "<Figure size 432x288 with 2 Axes>"
      ]
     },
     "metadata": {
      "needs_background": "light"
     },
     "output_type": "display_data"
    }
   ],
   "source": [
    "fig, ax = plt.subplots(2)\n",
    "\n",
    "ax[0].scatter(df.pmra_error,df.pmra)\n",
    "ax[1].scatter(df.pmdec_error,df.pmdec)"
   ]
  },
  {
   "cell_type": "code",
   "execution_count": 14,
   "id": "f2c2c7c4-4e27-4177-9890-e3d89391a8d6",
   "metadata": {},
   "outputs": [
    {
     "name": "stdout",
     "output_type": "stream",
     "text": [
      "-2.379367479303158 0.3661494255065918\n",
      "0.28730170694035606 0.4801464378833771\n"
     ]
    }
   ],
   "source": [
    "print(np.mean(df.pmdec), np.mean(df.pmdec_error)) ## por que pmra tem um erro muito maior?\n",
    "print(np.mean(df.pmra), np.mean(df.pmra_error))"
   ]
  },
  {
   "cell_type": "code",
   "execution_count": 15,
   "id": "9666a11f-6384-4079-89fe-d8d61afe759f",
   "metadata": {},
   "outputs": [],
   "source": [
    "condicao = np.abs(0.75*df.pmra) < df.pmra_error\n",
    "condicao2 = np.abs(0.75*df.pmdec) < df.pmdec_error\n",
    "condicao3 = np.abs(0.75*df.parallax) < df.parallax_error"
   ]
  },
  {
   "cell_type": "code",
   "execution_count": 16,
   "id": "170ca62d-2fc1-422f-a626-0e141e57d538",
   "metadata": {},
   "outputs": [
    {
     "data": {
      "text/plain": [
       "(2540, 5423)"
      ]
     },
     "execution_count": 16,
     "metadata": {},
     "output_type": "execute_result"
    }
   ],
   "source": [
    "df_condicionado = df.drop(df[condicao|condicao2|condicao3].index) #\n",
    "len(df_condicionado),len(df)"
   ]
  },
  {
   "cell_type": "code",
   "execution_count": 17,
   "id": "f4e22590-990a-47cf-8a7e-d304c95fedd8",
   "metadata": {},
   "outputs": [
    {
     "data": {
      "text/html": [
       "<div>\n",
       "<style scoped>\n",
       "    .dataframe tbody tr th:only-of-type {\n",
       "        vertical-align: middle;\n",
       "    }\n",
       "\n",
       "    .dataframe tbody tr th {\n",
       "        vertical-align: top;\n",
       "    }\n",
       "\n",
       "    .dataframe thead th {\n",
       "        text-align: right;\n",
       "    }\n",
       "</style>\n",
       "<table border=\"1\" class=\"dataframe\">\n",
       "  <thead>\n",
       "    <tr style=\"text-align: right;\">\n",
       "      <th></th>\n",
       "      <th>ra</th>\n",
       "      <th>dec</th>\n",
       "      <th>pmra</th>\n",
       "      <th>pmra_error</th>\n",
       "      <th>pmdec</th>\n",
       "      <th>pmdec_error</th>\n",
       "      <th>bp_rp</th>\n",
       "      <th>phot_g_mean_mag</th>\n",
       "      <th>parallax</th>\n",
       "      <th>parallax_error</th>\n",
       "      <th>radial_velocity</th>\n",
       "      <th>radial_velocity_error</th>\n",
       "      <th>l</th>\n",
       "      <th>b</th>\n",
       "    </tr>\n",
       "  </thead>\n",
       "  <tbody>\n",
       "    <tr>\n",
       "      <th>0</th>\n",
       "      <td>98.351975</td>\n",
       "      <td>20.334892</td>\n",
       "      <td>-0.388570</td>\n",
       "      <td>0.173544</td>\n",
       "      <td>-1.365909</td>\n",
       "      <td>0.122712</td>\n",
       "      <td>1.452368</td>\n",
       "      <td>17.887228</td>\n",
       "      <td>0.417362</td>\n",
       "      <td>0.145713</td>\n",
       "      <td>NaN</td>\n",
       "      <td>NaN</td>\n",
       "      <td>192.788731</td>\n",
       "      <td>5.328890</td>\n",
       "    </tr>\n",
       "    <tr>\n",
       "      <th>2</th>\n",
       "      <td>98.350055</td>\n",
       "      <td>20.341862</td>\n",
       "      <td>0.859905</td>\n",
       "      <td>0.025662</td>\n",
       "      <td>-2.641193</td>\n",
       "      <td>0.020173</td>\n",
       "      <td>0.670877</td>\n",
       "      <td>14.261889</td>\n",
       "      <td>0.585068</td>\n",
       "      <td>0.024480</td>\n",
       "      <td>NaN</td>\n",
       "      <td>NaN</td>\n",
       "      <td>192.781672</td>\n",
       "      <td>5.330448</td>\n",
       "    </tr>\n",
       "    <tr>\n",
       "      <th>6</th>\n",
       "      <td>98.371566</td>\n",
       "      <td>20.342327</td>\n",
       "      <td>0.193939</td>\n",
       "      <td>0.068145</td>\n",
       "      <td>-6.640513</td>\n",
       "      <td>0.048262</td>\n",
       "      <td>1.080705</td>\n",
       "      <td>15.968001</td>\n",
       "      <td>0.694564</td>\n",
       "      <td>0.056084</td>\n",
       "      <td>NaN</td>\n",
       "      <td>NaN</td>\n",
       "      <td>192.790449</td>\n",
       "      <td>5.348633</td>\n",
       "    </tr>\n",
       "    <tr>\n",
       "      <th>8</th>\n",
       "      <td>98.378617</td>\n",
       "      <td>20.350157</td>\n",
       "      <td>0.924640</td>\n",
       "      <td>0.258991</td>\n",
       "      <td>-1.127057</td>\n",
       "      <td>0.190914</td>\n",
       "      <td>1.203728</td>\n",
       "      <td>18.397947</td>\n",
       "      <td>-0.303128</td>\n",
       "      <td>0.200119</td>\n",
       "      <td>NaN</td>\n",
       "      <td>NaN</td>\n",
       "      <td>192.786453</td>\n",
       "      <td>5.358077</td>\n",
       "    </tr>\n",
       "    <tr>\n",
       "      <th>9</th>\n",
       "      <td>98.376219</td>\n",
       "      <td>20.344227</td>\n",
       "      <td>1.072295</td>\n",
       "      <td>0.061280</td>\n",
       "      <td>-3.089166</td>\n",
       "      <td>0.043906</td>\n",
       "      <td>0.938309</td>\n",
       "      <td>15.882685</td>\n",
       "      <td>0.204023</td>\n",
       "      <td>0.051718</td>\n",
       "      <td>NaN</td>\n",
       "      <td>NaN</td>\n",
       "      <td>192.790736</td>\n",
       "      <td>5.353383</td>\n",
       "    </tr>\n",
       "    <tr>\n",
       "      <th>...</th>\n",
       "      <td>...</td>\n",
       "      <td>...</td>\n",
       "      <td>...</td>\n",
       "      <td>...</td>\n",
       "      <td>...</td>\n",
       "      <td>...</td>\n",
       "      <td>...</td>\n",
       "      <td>...</td>\n",
       "      <td>...</td>\n",
       "      <td>...</td>\n",
       "      <td>...</td>\n",
       "      <td>...</td>\n",
       "      <td>...</td>\n",
       "      <td>...</td>\n",
       "    </tr>\n",
       "    <tr>\n",
       "      <th>5406</th>\n",
       "      <td>98.192627</td>\n",
       "      <td>20.693384</td>\n",
       "      <td>-0.840114</td>\n",
       "      <td>0.077425</td>\n",
       "      <td>-1.228457</td>\n",
       "      <td>0.051598</td>\n",
       "      <td>0.969753</td>\n",
       "      <td>16.221823</td>\n",
       "      <td>0.509162</td>\n",
       "      <td>0.072357</td>\n",
       "      <td>NaN</td>\n",
       "      <td>NaN</td>\n",
       "      <td>192.399868</td>\n",
       "      <td>5.358662</td>\n",
       "    </tr>\n",
       "    <tr>\n",
       "      <th>5407</th>\n",
       "      <td>98.187719</td>\n",
       "      <td>20.691228</td>\n",
       "      <td>-0.646549</td>\n",
       "      <td>0.037311</td>\n",
       "      <td>-0.798467</td>\n",
       "      <td>0.026545</td>\n",
       "      <td>1.310552</td>\n",
       "      <td>14.855961</td>\n",
       "      <td>0.213226</td>\n",
       "      <td>0.036361</td>\n",
       "      <td>42.516506</td>\n",
       "      <td>5.983942</td>\n",
       "      <td>192.399702</td>\n",
       "      <td>5.353593</td>\n",
       "    </tr>\n",
       "    <tr>\n",
       "      <th>5408</th>\n",
       "      <td>98.207585</td>\n",
       "      <td>20.700299</td>\n",
       "      <td>0.598108</td>\n",
       "      <td>0.115400</td>\n",
       "      <td>-3.397726</td>\n",
       "      <td>0.084840</td>\n",
       "      <td>1.386257</td>\n",
       "      <td>17.202389</td>\n",
       "      <td>0.740891</td>\n",
       "      <td>0.122587</td>\n",
       "      <td>NaN</td>\n",
       "      <td>NaN</td>\n",
       "      <td>192.400062</td>\n",
       "      <td>5.374270</td>\n",
       "    </tr>\n",
       "    <tr>\n",
       "      <th>5417</th>\n",
       "      <td>98.203669</td>\n",
       "      <td>20.695968</td>\n",
       "      <td>0.202118</td>\n",
       "      <td>0.082436</td>\n",
       "      <td>0.374853</td>\n",
       "      <td>0.057634</td>\n",
       "      <td>1.014659</td>\n",
       "      <td>16.622982</td>\n",
       "      <td>0.371129</td>\n",
       "      <td>0.087021</td>\n",
       "      <td>NaN</td>\n",
       "      <td>NaN</td>\n",
       "      <td>192.402266</td>\n",
       "      <td>5.369039</td>\n",
       "    </tr>\n",
       "    <tr>\n",
       "      <th>5418</th>\n",
       "      <td>98.184966</td>\n",
       "      <td>20.692697</td>\n",
       "      <td>2.975033</td>\n",
       "      <td>0.208251</td>\n",
       "      <td>-11.247463</td>\n",
       "      <td>0.146478</td>\n",
       "      <td>2.062077</td>\n",
       "      <td>17.850275</td>\n",
       "      <td>0.875432</td>\n",
       "      <td>0.192684</td>\n",
       "      <td>NaN</td>\n",
       "      <td>NaN</td>\n",
       "      <td>192.397213</td>\n",
       "      <td>5.351966</td>\n",
       "    </tr>\n",
       "  </tbody>\n",
       "</table>\n",
       "<p>1929 rows × 14 columns</p>\n",
       "</div>"
      ],
      "text/plain": [
       "             ra        dec      pmra  pmra_error      pmdec  pmdec_error  \\\n",
       "0     98.351975  20.334892 -0.388570    0.173544  -1.365909     0.122712   \n",
       "2     98.350055  20.341862  0.859905    0.025662  -2.641193     0.020173   \n",
       "6     98.371566  20.342327  0.193939    0.068145  -6.640513     0.048262   \n",
       "8     98.378617  20.350157  0.924640    0.258991  -1.127057     0.190914   \n",
       "9     98.376219  20.344227  1.072295    0.061280  -3.089166     0.043906   \n",
       "...         ...        ...       ...         ...        ...          ...   \n",
       "5406  98.192627  20.693384 -0.840114    0.077425  -1.228457     0.051598   \n",
       "5407  98.187719  20.691228 -0.646549    0.037311  -0.798467     0.026545   \n",
       "5408  98.207585  20.700299  0.598108    0.115400  -3.397726     0.084840   \n",
       "5417  98.203669  20.695968  0.202118    0.082436   0.374853     0.057634   \n",
       "5418  98.184966  20.692697  2.975033    0.208251 -11.247463     0.146478   \n",
       "\n",
       "         bp_rp  phot_g_mean_mag  parallax  parallax_error  radial_velocity  \\\n",
       "0     1.452368        17.887228  0.417362        0.145713              NaN   \n",
       "2     0.670877        14.261889  0.585068        0.024480              NaN   \n",
       "6     1.080705        15.968001  0.694564        0.056084              NaN   \n",
       "8     1.203728        18.397947 -0.303128        0.200119              NaN   \n",
       "9     0.938309        15.882685  0.204023        0.051718              NaN   \n",
       "...        ...              ...       ...             ...              ...   \n",
       "5406  0.969753        16.221823  0.509162        0.072357              NaN   \n",
       "5407  1.310552        14.855961  0.213226        0.036361        42.516506   \n",
       "5408  1.386257        17.202389  0.740891        0.122587              NaN   \n",
       "5417  1.014659        16.622982  0.371129        0.087021              NaN   \n",
       "5418  2.062077        17.850275  0.875432        0.192684              NaN   \n",
       "\n",
       "      radial_velocity_error           l         b  \n",
       "0                       NaN  192.788731  5.328890  \n",
       "2                       NaN  192.781672  5.330448  \n",
       "6                       NaN  192.790449  5.348633  \n",
       "8                       NaN  192.786453  5.358077  \n",
       "9                       NaN  192.790736  5.353383  \n",
       "...                     ...         ...       ...  \n",
       "5406                    NaN  192.399868  5.358662  \n",
       "5407               5.983942  192.399702  5.353593  \n",
       "5408                    NaN  192.400062  5.374270  \n",
       "5417                    NaN  192.402266  5.369039  \n",
       "5418                    NaN  192.397213  5.351966  \n",
       "\n",
       "[1929 rows x 14 columns]"
      ]
     },
     "execution_count": 17,
     "metadata": {},
     "output_type": "execute_result"
    }
   ],
   "source": [
    "ndf = df_condicionado.dropna(how='any',subset=['pmra', 'pmdec', 'parallax'])\n",
    "ndf"
   ]
  },
  {
   "cell_type": "code",
   "execution_count": 18,
   "id": "1bfb872b-a227-4a97-a524-518c48fb68dc",
   "metadata": {},
   "outputs": [],
   "source": [
    "x = ndf['pmra']\n",
    "y = ndf['pmdec']"
   ]
  },
  {
   "cell_type": "code",
   "execution_count": 19,
   "id": "6d021de0-2c20-462f-a02a-4c0808ab75ce",
   "metadata": {},
   "outputs": [],
   "source": [
    "from sklearn.cluster import DBSCAN\n",
    "from sklearn.metrics import silhouette_score\n",
    "from sklearn.metrics import v_measure_score\n",
    "from sklearn.preprocessing import StandardScaler"
   ]
  },
  {
   "cell_type": "code",
   "execution_count": 20,
   "id": "7a830cf8-7185-4ced-909e-0e9d60d140b5",
   "metadata": {},
   "outputs": [],
   "source": [
    "X = np.dstack((ndf['pmra'],ndf['pmdec']))[0]\n",
    "jpt = np.dstack((ndf['pmra'],ndf['pmdec'],ndf['ra'],ndf['dec'],ndf['parallax']))[0]"
   ]
  },
  {
   "cell_type": "code",
   "execution_count": null,
   "id": "ee221fb6-acdb-4c7a-8356-20153946e146",
   "metadata": {},
   "outputs": [],
   "source": []
  },
  {
   "cell_type": "code",
   "execution_count": 40,
   "id": "2cdd99c4-8a08-4c06-94fe-900497cd79ce",
   "metadata": {},
   "outputs": [
    {
     "name": "stdout",
     "output_type": "stream",
     "text": [
      "0.8931526048434876\n"
     ]
    },
    {
     "data": {
      "text/plain": [
       "<Figure size 360x360 with 0 Axes>"
      ]
     },
     "metadata": {},
     "output_type": "display_data"
    },
    {
     "data": {
      "image/png": "[encoded data removed]",
      "text/plain": [
       "<Figure size 432x432 with 1 Axes>"
      ]
     },
     "metadata": {
      "needs_background": "light"
     },
     "output_type": "display_data"
    }
   ],
   "source": [
    "from sklearn.neighbors import NearestNeighbors\n",
    "vizinhos = np.sqrt(len(data)).astype(int)\n",
    "nn = NearestNeighbors(n_neighbors=vizinhos).fit(jpt)\n",
    "distances, indices = nn.kneighbors(jpt)\n",
    "\n",
    "distances = np.sort(distances, axis=0)\n",
    "distances = distances[:,1]\n",
    "\n",
    "from kneed import KneeLocator\n",
    "i = np.arange(len(distances))\n",
    "knee = KneeLocator(i, distances, S=1, curve='convex', direction='increasing', interp_method='polynomial')\n",
    "fig = plt.figure(figsize=(5, 5))\n",
    "knee.plot_knee()\n",
    "plt.xlabel(\"Points\")\n",
    "plt.ylabel(\"Distance\")\n",
    "\n",
    "\n",
    "eps_opt = distances[knee.knee]\n",
    "nmin = int(0.005*len(data))\n",
    "\n",
    "print(distances[knee.knee])"
   ]
  },
  {
   "cell_type": "code",
   "execution_count": 47,
   "id": "a5cf2f7c-5c2d-4216-877b-17a41587a83c",
   "metadata": {},
   "outputs": [
    {
     "data": {
      "text/plain": [
       "271"
      ]
     },
     "execution_count": 47,
     "metadata": {},
     "output_type": "execute_result"
    }
   ],
   "source": [
    "int(0.05*len(data))"
   ]
  },
  {
   "cell_type": "code",
   "execution_count": 48,
   "id": "0e6552b0-ef23-45f9-b6d8-b62f73263d91",
   "metadata": {},
   "outputs": [
    {
     "name": "stdout",
     "output_type": "stream",
     "text": [
      "Estimated no. of clusters: 1\n",
      "Estimated no. of noise points: 1239\n",
      "Estimated no. points clustered: 690\n"
     ]
    },
    {
     "data": {
      "text/plain": [
       "Text(0, 0.5, '$x_2$')"
      ]
     },
     "execution_count": 48,
     "metadata": {},
     "output_type": "execute_result"
    },
    {
     "data": {
      "image/png": "[encoded data removed]",
      "text/plain": [
       "<Figure size 432x288 with 1 Axes>"
      ]
     },
     "metadata": {
      "needs_background": "light"
     },
     "output_type": "display_data"
    }
   ],
   "source": [
    "jpt = np.dstack((ndf['pmra'],ndf['pmdec'],ndf['ra'],ndf['dec'],ndf['parallax']))[0]\n",
    "db = DBSCAN(eps=eps_opt, min_samples=271).fit(jpt)\n",
    "core_samples_mask = np.zeros_like(db.labels_, dtype=bool)\n",
    "core_samples_mask[db.core_sample_indices_] = True\n",
    "labels = db.labels_\n",
    "\n",
    "N_clus=len(set(labels))-(1 if -1 in labels else 0)\n",
    "print('Estimated no. of clusters: %d' % N_clus)\n",
    "\n",
    "n_noise = list(db.labels_).count(-1)\n",
    "print('Estimated no. of noise points: %d' % n_noise)\n",
    "\n",
    "n_in = list(db.labels_).count(0)\n",
    "print('Estimated no. points clustered: %d' % n_in)\n",
    "\n",
    "plt.scatter(jpt[:, 0], \n",
    "            jpt[:, 1], \n",
    "            c=db.labels_, \n",
    "            label=y)\n",
    "plt.xlabel(\"$x_1$\")\n",
    "plt.ylabel(\"$x_2$\")"
   ]
  },
  {
   "cell_type": "code",
   "execution_count": 49,
   "id": "3f5dd7c8-6445-4acd-b226-c3d6e97efea7",
   "metadata": {},
   "outputs": [
    {
     "data": {
      "image/png": "[encoded data removed]",
      "text/plain": [
       "<Figure size 432x288 with 2 Axes>"
      ]
     },
     "metadata": {
      "needs_background": "light"
     },
     "output_type": "display_data"
    }
   ],
   "source": [
    "X = np.dstack((ndf['pmra'],ndf['pmdec']))[0]\n",
    "pontos_cluster = np.empty((0,2))\n",
    "for i in range(len(X)):\n",
    "    if labels[i]==0:\n",
    "        pontos_cluster = np.append(pontos_cluster, np.array([X[i]]), axis  = 0) #problema no formato do array para dar append\n",
    "    else:\n",
    "        continue\n",
    "\n",
    "xin,yin = pontos_cluster.T\n",
    "\n",
    "pontos_cluster = np.empty((0,2))\n",
    "for i in range(len(X)):\n",
    "    if labels[i]==-1:\n",
    "        pontos_cluster = np.append(pontos_cluster, np.array([X[i]]), axis  = 0) #problema no formato do array para dar append\n",
    "    else:\n",
    "        continue\n",
    "\n",
    "\n",
    "xout, yout = pontos_cluster.T\n",
    "\n",
    "\n",
    "fig, ax = plt.subplots(1,2)\n",
    "ax[0].scatter(xin,yin, color = 'k', zorder = 100)\n",
    "ax[0].scatter(xout,yout, color = 'red')\n",
    "\n",
    "\n",
    "subset = ndf[ndf['pmra'].isin(xin) & ndf['pmdec'].isin(yin)]\n",
    "\n",
    "ax[1].scatter(subset['bp_rp'],subset['phot_g_mean_mag'])\n",
    "ax[1].invert_yaxis()"
   ]
  },
  {
   "cell_type": "code",
   "execution_count": 24,
   "id": "0aa368ca-3e4e-4d8f-b250-464c9de9bbbb",
   "metadata": {},
   "outputs": [
    {
     "data": {
      "image/png": "[encoded data removed]",
      "text/plain": [
       "<Figure size 360x576 with 1 Axes>"
      ]
     },
     "metadata": {
      "needs_background": "light"
     },
     "output_type": "display_data"
    }
   ],
   "source": [
    "plt.figure(figsize=(5,8))\n",
    "plt.scatter(subset['bp_rp'],subset['phot_g_mean_mag'])\n",
    "plt.gca().invert_yaxis()"
   ]
  },
  {
   "cell_type": "code",
   "execution_count": 25,
   "id": "34b7aeb3-6916-43fd-8b27-f8160b642018",
   "metadata": {},
   "outputs": [
    {
     "data": {
      "text/plain": [
       "<matplotlib.collections.PathCollection at 0x7f292f314160>"
      ]
     },
     "execution_count": 25,
     "metadata": {},
     "output_type": "execute_result"
    },
    {
     "data": {
      "image/png": "[encoded data removed]",
      "text/plain": [
       "<Figure size 432x288 with 1 Axes>"
      ]
     },
     "metadata": {
      "needs_background": "light"
     },
     "output_type": "display_data"
    }
   ],
   "source": [
    "plt.scatter(subset['parallax_error'],subset['parallax'])"
   ]
  },
  {
   "cell_type": "code",
   "execution_count": 26,
   "id": "40118a7a-2fff-4128-a1fe-379b764af944",
   "metadata": {},
   "outputs": [],
   "source": [
    "from astropy.coordinates import SkyCoord\n",
    "from astropy import units\n",
    "from sklearn.neighbors import NearestNeighbors\n",
    "\n",
    "#.Criando um catalogo com as coordenadas RA e DEC das estrelas\n",
    "\n",
    "catalog = SkyCoord(ra=subset['ra']*units.degree, dec=subset['dec']*units.degree, frame='fk5')\n",
    "\n",
    "nstar = len(subset)\n",
    "\n",
    "#.Definindo o vizinho apropriado para a abertura\n",
    "\n",
    "k = np.sqrt(nstar).astype(int)\n",
    "\n",
    "#.criando a estrutura de vizinhos proximos\n",
    "coords = np.array([subset['ra']*np.cos(subset['dec']*np.pi/180.0), subset['dec']]).T\n",
    "nn_struct = NearestNeighbors(n_neighbors=k, algorithm='auto', metric='euclidean')\n",
    "nn_struct.fit(coords)\n",
    "distances, index = nn_struct.kneighbors(coords)\n",
    "             \n",
    "\n",
    "#.obtendo a distancia do k-esimo vizinho mais proximo\n",
    "aperture = distances[:,k-1]*units.degree\n",
    "area = np.pi*(aperture.value)**2# + area_cor(data, data.DEC, aperture.value)\n",
    "den_data = k/area\n",
    "den_sigm = np.sqrt(k)/area\n",
    "\n",
    "den_data /= 3600**2\n",
    "den_sigm /= 3600**2\n"
   ]
  },
  {
   "cell_type": "code",
   "execution_count": 27,
   "id": "da7abea8-c466-4557-87bd-0c0a84065ff9",
   "metadata": {},
   "outputs": [],
   "source": [
    "med_x = np.average(subset['ra'], weights=den_data)\n",
    "std_x = np.average((subset['ra']-med_x)**2, weights=den_data)**0.5\n",
    "\n",
    "#.estimativa do centro em DEC\n",
    "med_y = np.average(subset['dec'], weights=den_data)\n",
    "std_y = np.average((subset['dec']-med_y)**2, weights=den_data)**0.5\n"
   ]
  },
  {
   "cell_type": "code",
   "execution_count": 28,
   "id": "b79f780d-9d53-40e4-a639-03495d0c98c1",
   "metadata": {},
   "outputs": [
    {
     "data": {
      "text/plain": [
       "Text(0, 0.5, 'stellar density (arcsec$^{-2}$)')"
      ]
     },
     "execution_count": 28,
     "metadata": {},
     "output_type": "execute_result"
    },
    {
     "data": {
      "image/png": "[encoded data removed]",
      "text/plain": [
       "<Figure size 432x288 with 1 Axes>"
      ]
     },
     "metadata": {
      "needs_background": "light"
     },
     "output_type": "display_data"
    }
   ],
   "source": [
    "center = SkyCoord(med_x*units.degree, med_y*units.degree)\n",
    "radii = center.separation(catalog)\n",
    "radii = radii.to(units.arcsec).value\n",
    "\n",
    "#.criando figura do RDP\n",
    "\n",
    "import matplotlib.cm as cm\n",
    "cor = cm.get_cmap('jet')\n",
    "\n",
    "fig, ax = plt.subplots()#1,1,figsize=(10,11))\n",
    "ax.scatter(radii,den_data, s=(max(subset['phot_g_mean_mag'])-subset['phot_g_mean_mag'])*20, c=den_data/3600**2, cmap = cor, label='data')\n",
    "ax.set_xlabel('radius (arcsec)', fontsize=18, fontweight='bold')\n",
    "ax.set_ylabel('stellar density (arcsec$^{-2}$)', fontsize=18, fontweight='bold')\n",
    "\n"
   ]
  },
  {
   "cell_type": "code",
   "execution_count": 50,
   "id": "071a7e5d-7e96-40b9-930e-ffdfd72f8deb",
   "metadata": {},
   "outputs": [
    {
     "data": {
      "image/png": "[encoded data removed]",
      "text/plain": [
       "<Figure size 936x720 with 4 Axes>"
      ]
     },
     "metadata": {
      "needs_background": "light"
     },
     "output_type": "display_data"
    }
   ],
   "source": [
    "fig = plt.figure(figsize = (13,10))\n",
    "ax1 = fig.add_subplot(4,4, (1,6))\n",
    "ax2 = fig.add_subplot(4,4, (9,14))\n",
    "ax3 = fig.add_subplot(4,4, (3,8))\n",
    "ax4 = fig.add_subplot(4,4, (11,16))\n",
    "\n",
    "ax1.hist(subset['ra'], 20,  ec = 'k');\n",
    "ax2.hist(subset['pmra'], 20,  ec = 'k');\n",
    "\n",
    "ax3.hist(subset['dec'], 20,  ec = 'k', color = 'red');\n",
    "ax4.hist(subset['pmdec'], 20,  ec = 'k', color = 'red');\n",
    "\n",
    "ax1.set_title('ra', fontweight = 'bold')\n",
    "ax2.set_title('pmra', fontweight = 'bold')\n",
    "ax3.set_title('dec', fontweight = 'bold')\n",
    "ax4.set_title('pmdec', fontweight = 'bold')\n",
    "\n",
    "plt.subplots_adjust(wspace = 0.2, hspace = 0.5)\n"
   ]
  },
  {
   "cell_type": "code",
   "execution_count": 30,
   "id": "65d44bce-a08d-45ce-b81f-6765427497db",
   "metadata": {},
   "outputs": [
    {
     "data": {
      "image/png": "[encoded data removed]",
      "text/plain": [
       "<Figure size 432x288 with 1 Axes>"
      ]
     },
     "metadata": {
      "needs_background": "light"
     },
     "output_type": "display_data"
    }
   ],
   "source": [
    "plt.hist(subset['parallax'], 50);"
   ]
  },
  {
   "cell_type": "code",
   "execution_count": 52,
   "id": "9782e40e-5c7f-4de4-b550-e521d7243f1a",
   "metadata": {},
   "outputs": [
    {
     "data": {
      "image/png": "[encoded data removed]",
      "text/plain": [
       "<Figure size 360x576 with 1 Axes>"
      ]
     },
     "metadata": {
      "needs_background": "light"
     },
     "output_type": "display_data"
    }
   ],
   "source": [
    "condicao = np.abs(1*subset.pmra) <= subset.pmra_error\n",
    "condicao2 = np.abs(1*subset.pmdec) <= subset.pmdec_error\n",
    "condicao3 = np.abs(1*subset.parallax) <= subset.parallax_error\n",
    "\n",
    "tops = subset.drop(subset[condicao|condicao2|condicao3].index) #\n",
    "plt.figure(figsize=(5,8))\n",
    "plt.scatter(tops['bp_rp'],tops['phot_g_mean_mag'])\n",
    "plt.gca().invert_yaxis()"
   ]
  }
 ],
 "metadata": {
  "kernelspec": {
   "display_name": "Python 3",
   "language": "python",
   "name": "python3"
  },
  "language_info": {
   "codemirror_mode": {
    "name": "ipython",
    "version": 3
   },
   "file_extension": ".py",
   "mimetype": "text/x-python",
   "name": "python",
   "nbconvert_exporter": "python",
   "pygments_lexer": "ipython3",
   "version": "3.8.8"
  }
 },
 "nbformat": 4,
 "nbformat_minor": 5
}
