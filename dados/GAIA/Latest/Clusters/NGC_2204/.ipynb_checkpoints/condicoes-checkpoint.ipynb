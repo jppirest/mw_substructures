{
 "cells": [
  {
   "cell_type": "code",
   "execution_count": 1,
   "id": "3521cdea-429b-4991-bb30-48131d9ae7f7",
   "metadata": {},
   "outputs": [],
   "source": [
    "import numpy as np\n",
    "import pandas as pd\n",
    "import matplotlib.pyplot as plt\n",
    "from astroquery.gaia import Gaia\n",
    "import astropy"
   ]
  },
  {
   "cell_type": "code",
   "execution_count": 2,
   "id": "6530e5b6-fa2e-487a-9762-58f002959899",
   "metadata": {},
   "outputs": [],
   "source": [
    "#from platform import python_version\n",
    "#python_version()"
   ]
  },
  {
   "cell_type": "code",
   "execution_count": 3,
   "id": "934ffd11-422a-4df1-b8e7-46169aeacc68",
   "metadata": {},
   "outputs": [],
   "source": [
    "plt.rc('xtick', labelsize=12)\n",
    "plt.rc('ytick', labelsize=12)\n",
    "plt.rcParams['axes.linewidth'] = 1.0\n",
    "\n",
    "\n",
    "font = {'family' : 'serif',\n",
    "        'weight' : 'normal',\n",
    "        'size'   : 13}\n",
    "\n",
    "plt.rc('font', **font)"
   ]
  },
  {
   "cell_type": "markdown",
   "id": "3bfeb1e8-4664-4b44-88a1-f3a2343ec347",
   "metadata": {},
   "source": [
    "## Getting the directory name"
   ]
  },
  {
   "cell_type": "code",
   "execution_count": 4,
   "id": "a49442e6-8751-480c-8bc2-b1c80196ac26",
   "metadata": {},
   "outputs": [
    {
     "data": {
      "text/plain": [
       "'NGC_2204'"
      ]
     },
     "execution_count": 4,
     "metadata": {},
     "output_type": "execute_result"
    }
   ],
   "source": [
    "import os\n",
    "directory_path = os.getcwd()\n",
    "nome_aglo = directory_path.split('/')[-1]\n",
    "nome_aglo"
   ]
  },
  {
   "cell_type": "markdown",
   "id": "c5aea3ad-6db9-4640-8fbe-b90543ea609e",
   "metadata": {},
   "source": [
    "## Getting RA&DEC from Bica 2019"
   ]
  },
  {
   "cell_type": "code",
   "execution_count": 5,
   "id": "f8abc363-cd00-4137-9be0-7cfc139a62e6",
   "metadata": {},
   "outputs": [
    {
     "data": {
      "text/plain": [
       "(93.89583, -18.6625)"
      ]
     },
     "execution_count": 5,
     "metadata": {},
     "output_type": "execute_result"
    }
   ],
   "source": [
    "df = pd.read_csv('../../lista.txt', comment= '#')\n",
    "ra, dec = df.loc[df['Nome'] == nome_aglo]['_RAJ2000'].values[0], df.loc[df['Nome'] == nome_aglo]['_DEJ2000'].values[0]\n",
    "ra, dec"
   ]
  },
  {
   "cell_type": "markdown",
   "id": "993b13b4-df7e-4f36-a5e2-ac847404380d",
   "metadata": {},
   "source": [
    "## Querying the data"
   ]
  },
  {
   "cell_type": "code",
   "execution_count": 6,
   "id": "74028be2-edac-4384-9832-528bb78d6e2e",
   "metadata": {},
   "outputs": [
    {
     "name": "stdout",
     "output_type": "stream",
     "text": [
      "INFO: Retrieving tables... [astroquery.utils.tap.core]\n",
      "INFO: Parsing tables... [astroquery.utils.tap.core]\n",
      "INFO: Done. [astroquery.utils.tap.core]\n"
     ]
    }
   ],
   "source": [
    "tables = Gaia.load_tables(only_names=True)"
   ]
  },
  {
   "cell_type": "code",
   "execution_count": 7,
   "id": "b4824134-51b9-43ec-8ccb-be7659e74477",
   "metadata": {},
   "outputs": [
    {
     "name": "stdout",
     "output_type": "stream",
     "text": [
      "Retrieving table 'gaiadr3.gaia_source'\n"
     ]
    },
    {
     "data": {
      "text/plain": [
       "<astroquery.utils.tap.model.taptable.TapTableMeta at 0x7f98560c6dc0>"
      ]
     },
     "execution_count": 7,
     "metadata": {},
     "output_type": "execute_result"
    }
   ],
   "source": [
    "meta = Gaia.load_table('gaiadr3.gaia_source')\n",
    "meta"
   ]
  },
  {
   "cell_type": "code",
   "execution_count": 8,
   "id": "0cd0c50b-6020-4c1b-846d-3d0e0d6d8adb",
   "metadata": {},
   "outputs": [],
   "source": [
    "query = \"\"\"SELECT \n",
    "ra, dec, pmra, pmra_error, pmdec, pmdec_error, bp_rp, phot_g_mean_mag, parallax, parallax_error, radial_velocity, radial_velocity_error, l,b\n",
    "FROM gaiadr3.gaia_source\n",
    "WHERE 1=CONTAINS(POINT('ICRS',ra,dec),\n",
    "CIRCLE('ICRS', \"\"\" +  str(ra) + ',' + str(dec) + ',' + ' 0.2))'"
   ]
  },
  {
   "cell_type": "code",
   "execution_count": 9,
   "id": "3bde5f58-6e4f-46b6-8fa6-f28b0a206b6d",
   "metadata": {},
   "outputs": [
    {
     "name": "stdout",
     "output_type": "stream",
     "text": [
      "INFO: Query finished. [astroquery.utils.tap.core]\n"
     ]
    },
    {
     "data": {
      "text/plain": [
       "<astroquery.utils.tap.model.job.Job at 0x7f98560c6d30>"
      ]
     },
     "execution_count": 9,
     "metadata": {},
     "output_type": "execute_result"
    }
   ],
   "source": [
    "job = Gaia.launch_job_async(query)\n",
    "job"
   ]
  },
  {
   "cell_type": "code",
   "execution_count": 10,
   "id": "ce6031ad-1c30-44ba-af5f-2cb4ed81704d",
   "metadata": {},
   "outputs": [
    {
     "data": {
      "text/plain": [
       "3928"
      ]
     },
     "execution_count": 10,
     "metadata": {},
     "output_type": "execute_result"
    }
   ],
   "source": [
    "data = job.get_results()\n",
    "len(data)"
   ]
  },
  {
   "cell_type": "code",
   "execution_count": 11,
   "id": "a7b69784-84b8-4ff5-8739-96de5fc6c268",
   "metadata": {},
   "outputs": [],
   "source": [
    "#data"
   ]
  },
  {
   "cell_type": "markdown",
   "id": "b1efab4c-c343-42c0-9848-7c85c998ae55",
   "metadata": {},
   "source": [
    "## Converting to pandas"
   ]
  },
  {
   "cell_type": "code",
   "execution_count": 12,
   "id": "76000902-fd33-4bc1-bfa2-5dc9f2381477",
   "metadata": {},
   "outputs": [
    {
     "data": {
      "text/html": [
       "<div>\n",
       "<style scoped>\n",
       "    .dataframe tbody tr th:only-of-type {\n",
       "        vertical-align: middle;\n",
       "    }\n",
       "\n",
       "    .dataframe tbody tr th {\n",
       "        vertical-align: top;\n",
       "    }\n",
       "\n",
       "    .dataframe thead th {\n",
       "        text-align: right;\n",
       "    }\n",
       "</style>\n",
       "<table border=\"1\" class=\"dataframe\">\n",
       "  <thead>\n",
       "    <tr style=\"text-align: right;\">\n",
       "      <th></th>\n",
       "      <th>ra</th>\n",
       "      <th>dec</th>\n",
       "      <th>pmra</th>\n",
       "      <th>pmra_error</th>\n",
       "      <th>pmdec</th>\n",
       "      <th>pmdec_error</th>\n",
       "      <th>bp_rp</th>\n",
       "      <th>phot_g_mean_mag</th>\n",
       "      <th>parallax</th>\n",
       "      <th>parallax_error</th>\n",
       "      <th>radial_velocity</th>\n",
       "      <th>radial_velocity_error</th>\n",
       "      <th>l</th>\n",
       "      <th>b</th>\n",
       "    </tr>\n",
       "  </thead>\n",
       "  <tbody>\n",
       "    <tr>\n",
       "      <th>0</th>\n",
       "      <td>93.695234</td>\n",
       "      <td>-18.607128</td>\n",
       "      <td>NaN</td>\n",
       "      <td>NaN</td>\n",
       "      <td>NaN</td>\n",
       "      <td>NaN</td>\n",
       "      <td>1.479248</td>\n",
       "      <td>20.915169</td>\n",
       "      <td>NaN</td>\n",
       "      <td>NaN</td>\n",
       "      <td>NaN</td>\n",
       "      <td>NaN</td>\n",
       "      <td>225.881971</td>\n",
       "      <td>-16.249998</td>\n",
       "    </tr>\n",
       "    <tr>\n",
       "      <th>1</th>\n",
       "      <td>93.691392</td>\n",
       "      <td>-18.680592</td>\n",
       "      <td>NaN</td>\n",
       "      <td>NaN</td>\n",
       "      <td>NaN</td>\n",
       "      <td>NaN</td>\n",
       "      <td>3.061029</td>\n",
       "      <td>21.043070</td>\n",
       "      <td>NaN</td>\n",
       "      <td>NaN</td>\n",
       "      <td>NaN</td>\n",
       "      <td>NaN</td>\n",
       "      <td>225.950486</td>\n",
       "      <td>-16.282926</td>\n",
       "    </tr>\n",
       "    <tr>\n",
       "      <th>2</th>\n",
       "      <td>93.691135</td>\n",
       "      <td>-18.667468</td>\n",
       "      <td>-0.562689</td>\n",
       "      <td>0.034095</td>\n",
       "      <td>1.982773</td>\n",
       "      <td>0.042733</td>\n",
       "      <td>0.583074</td>\n",
       "      <td>16.176001</td>\n",
       "      <td>0.232700</td>\n",
       "      <td>0.040846</td>\n",
       "      <td>NaN</td>\n",
       "      <td>NaN</td>\n",
       "      <td>225.937870</td>\n",
       "      <td>-16.277863</td>\n",
       "    </tr>\n",
       "    <tr>\n",
       "      <th>3</th>\n",
       "      <td>93.694373</td>\n",
       "      <td>-18.663866</td>\n",
       "      <td>0.610339</td>\n",
       "      <td>0.392273</td>\n",
       "      <td>-1.893943</td>\n",
       "      <td>0.532729</td>\n",
       "      <td>0.825336</td>\n",
       "      <td>20.070921</td>\n",
       "      <td>0.599336</td>\n",
       "      <td>0.482187</td>\n",
       "      <td>NaN</td>\n",
       "      <td>NaN</td>\n",
       "      <td>225.935722</td>\n",
       "      <td>-16.273605</td>\n",
       "    </tr>\n",
       "    <tr>\n",
       "      <th>4</th>\n",
       "      <td>93.701251</td>\n",
       "      <td>-18.664112</td>\n",
       "      <td>3.286013</td>\n",
       "      <td>0.041485</td>\n",
       "      <td>-2.713723</td>\n",
       "      <td>0.053662</td>\n",
       "      <td>0.962515</td>\n",
       "      <td>16.528509</td>\n",
       "      <td>0.371252</td>\n",
       "      <td>0.048171</td>\n",
       "      <td>NaN</td>\n",
       "      <td>NaN</td>\n",
       "      <td>225.938691</td>\n",
       "      <td>-16.267740</td>\n",
       "    </tr>\n",
       "    <tr>\n",
       "      <th>...</th>\n",
       "      <td>...</td>\n",
       "      <td>...</td>\n",
       "      <td>...</td>\n",
       "      <td>...</td>\n",
       "      <td>...</td>\n",
       "      <td>...</td>\n",
       "      <td>...</td>\n",
       "      <td>...</td>\n",
       "      <td>...</td>\n",
       "      <td>...</td>\n",
       "      <td>...</td>\n",
       "      <td>...</td>\n",
       "      <td>...</td>\n",
       "      <td>...</td>\n",
       "    </tr>\n",
       "    <tr>\n",
       "      <th>3923</th>\n",
       "      <td>94.038504</td>\n",
       "      <td>-18.518415</td>\n",
       "      <td>5.533825</td>\n",
       "      <td>0.032993</td>\n",
       "      <td>12.745104</td>\n",
       "      <td>0.038404</td>\n",
       "      <td>1.531487</td>\n",
       "      <td>15.937710</td>\n",
       "      <td>1.448974</td>\n",
       "      <td>0.039993</td>\n",
       "      <td>NaN</td>\n",
       "      <td>NaN</td>\n",
       "      <td>225.934252</td>\n",
       "      <td>-15.916473</td>\n",
       "    </tr>\n",
       "    <tr>\n",
       "      <th>3924</th>\n",
       "      <td>94.031968</td>\n",
       "      <td>-18.513882</td>\n",
       "      <td>-0.349542</td>\n",
       "      <td>0.375291</td>\n",
       "      <td>1.654176</td>\n",
       "      <td>0.375176</td>\n",
       "      <td>1.163532</td>\n",
       "      <td>19.857315</td>\n",
       "      <td>0.052193</td>\n",
       "      <td>0.416776</td>\n",
       "      <td>NaN</td>\n",
       "      <td>NaN</td>\n",
       "      <td>225.927335</td>\n",
       "      <td>-15.920307</td>\n",
       "    </tr>\n",
       "    <tr>\n",
       "      <th>3925</th>\n",
       "      <td>94.021877</td>\n",
       "      <td>-18.505216</td>\n",
       "      <td>1.696858</td>\n",
       "      <td>0.406123</td>\n",
       "      <td>3.653238</td>\n",
       "      <td>0.443892</td>\n",
       "      <td>1.108759</td>\n",
       "      <td>19.996855</td>\n",
       "      <td>0.692759</td>\n",
       "      <td>0.448270</td>\n",
       "      <td>NaN</td>\n",
       "      <td>NaN</td>\n",
       "      <td>225.915068</td>\n",
       "      <td>-15.925552</td>\n",
       "    </tr>\n",
       "    <tr>\n",
       "      <th>3926</th>\n",
       "      <td>94.014406</td>\n",
       "      <td>-18.497236</td>\n",
       "      <td>-1.032214</td>\n",
       "      <td>0.223132</td>\n",
       "      <td>1.895022</td>\n",
       "      <td>0.233605</td>\n",
       "      <td>1.108622</td>\n",
       "      <td>19.239666</td>\n",
       "      <td>0.632016</td>\n",
       "      <td>0.245077</td>\n",
       "      <td>NaN</td>\n",
       "      <td>NaN</td>\n",
       "      <td>225.904498</td>\n",
       "      <td>-15.928804</td>\n",
       "    </tr>\n",
       "    <tr>\n",
       "      <th>3927</th>\n",
       "      <td>94.014151</td>\n",
       "      <td>-18.498374</td>\n",
       "      <td>2.539179</td>\n",
       "      <td>0.726225</td>\n",
       "      <td>-11.344224</td>\n",
       "      <td>0.813711</td>\n",
       "      <td>1.947727</td>\n",
       "      <td>20.566244</td>\n",
       "      <td>1.565655</td>\n",
       "      <td>0.867252</td>\n",
       "      <td>NaN</td>\n",
       "      <td>NaN</td>\n",
       "      <td>225.905479</td>\n",
       "      <td>-15.929485</td>\n",
       "    </tr>\n",
       "  </tbody>\n",
       "</table>\n",
       "<p>3928 rows × 14 columns</p>\n",
       "</div>"
      ],
      "text/plain": [
       "             ra        dec      pmra  pmra_error      pmdec  pmdec_error  \\\n",
       "0     93.695234 -18.607128       NaN         NaN        NaN          NaN   \n",
       "1     93.691392 -18.680592       NaN         NaN        NaN          NaN   \n",
       "2     93.691135 -18.667468 -0.562689    0.034095   1.982773     0.042733   \n",
       "3     93.694373 -18.663866  0.610339    0.392273  -1.893943     0.532729   \n",
       "4     93.701251 -18.664112  3.286013    0.041485  -2.713723     0.053662   \n",
       "...         ...        ...       ...         ...        ...          ...   \n",
       "3923  94.038504 -18.518415  5.533825    0.032993  12.745104     0.038404   \n",
       "3924  94.031968 -18.513882 -0.349542    0.375291   1.654176     0.375176   \n",
       "3925  94.021877 -18.505216  1.696858    0.406123   3.653238     0.443892   \n",
       "3926  94.014406 -18.497236 -1.032214    0.223132   1.895022     0.233605   \n",
       "3927  94.014151 -18.498374  2.539179    0.726225 -11.344224     0.813711   \n",
       "\n",
       "         bp_rp  phot_g_mean_mag  parallax  parallax_error  radial_velocity  \\\n",
       "0     1.479248        20.915169       NaN             NaN              NaN   \n",
       "1     3.061029        21.043070       NaN             NaN              NaN   \n",
       "2     0.583074        16.176001  0.232700        0.040846              NaN   \n",
       "3     0.825336        20.070921  0.599336        0.482187              NaN   \n",
       "4     0.962515        16.528509  0.371252        0.048171              NaN   \n",
       "...        ...              ...       ...             ...              ...   \n",
       "3923  1.531487        15.937710  1.448974        0.039993              NaN   \n",
       "3924  1.163532        19.857315  0.052193        0.416776              NaN   \n",
       "3925  1.108759        19.996855  0.692759        0.448270              NaN   \n",
       "3926  1.108622        19.239666  0.632016        0.245077              NaN   \n",
       "3927  1.947727        20.566244  1.565655        0.867252              NaN   \n",
       "\n",
       "      radial_velocity_error           l          b  \n",
       "0                       NaN  225.881971 -16.249998  \n",
       "1                       NaN  225.950486 -16.282926  \n",
       "2                       NaN  225.937870 -16.277863  \n",
       "3                       NaN  225.935722 -16.273605  \n",
       "4                       NaN  225.938691 -16.267740  \n",
       "...                     ...         ...        ...  \n",
       "3923                    NaN  225.934252 -15.916473  \n",
       "3924                    NaN  225.927335 -15.920307  \n",
       "3925                    NaN  225.915068 -15.925552  \n",
       "3926                    NaN  225.904498 -15.928804  \n",
       "3927                    NaN  225.905479 -15.929485  \n",
       "\n",
       "[3928 rows x 14 columns]"
      ]
     },
     "execution_count": 12,
     "metadata": {},
     "output_type": "execute_result"
    }
   ],
   "source": [
    "df = data.to_pandas()\n",
    "df"
   ]
  },
  {
   "cell_type": "code",
   "execution_count": 13,
   "id": "01debe18-c72b-4585-a428-4246e3fc8d88",
   "metadata": {},
   "outputs": [
    {
     "data": {
      "text/plain": [
       "<matplotlib.collections.PathCollection at 0x7f9855aba5e0>"
      ]
     },
     "execution_count": 13,
     "metadata": {},
     "output_type": "execute_result"
    },
    {
     "data": {
      "image/png": "[encoded data removed]",
      "text/plain": [
       "<Figure size 432x288 with 2 Axes>"
      ]
     },
     "metadata": {
      "needs_background": "light"
     },
     "output_type": "display_data"
    }
   ],
   "source": [
    "fig, ax = plt.subplots(2)\n",
    "\n",
    "ax[0].scatter(df.pmra_error,df.pmra)\n",
    "ax[1].scatter(df.pmdec_error,df.pmdec)"
   ]
  },
  {
   "cell_type": "code",
   "execution_count": 14,
   "id": "f2c2c7c4-4e27-4177-9890-e3d89391a8d6",
   "metadata": {},
   "outputs": [
    {
     "name": "stdout",
     "output_type": "stream",
     "text": [
      "0.9293456734837952 0.365169495344162\n",
      "0.2199924105669113 0.28800278902053833\n"
     ]
    }
   ],
   "source": [
    "print(np.mean(df.pmdec), np.mean(df.pmdec_error)) ## por que pmra tem um erro muito maior?\n",
    "print(np.mean(df.pmra), np.mean(df.pmra_error))"
   ]
  },
  {
   "cell_type": "code",
   "execution_count": 15,
   "id": "4c06ba33-b98b-4847-8867-abf1b8470ee6",
   "metadata": {},
   "outputs": [
    {
     "data": {
      "text/plain": [
       "(1781, 3928)"
      ]
     },
     "execution_count": 15,
     "metadata": {},
     "output_type": "execute_result"
    }
   ],
   "source": [
    "condicao = np.abs(0.5*df.pmra) < df.pmra_error\n",
    "condicao2 = np.abs(0.5*df.pmdec) < df.pmdec_error\n",
    "condicao3 = np.abs(0.5*df.parallax) < df.parallax_error\n",
    "\n",
    "\n",
    "df_condicionado = df.drop(df[condicao|condicao2|condicao3].index) #\n",
    "len(df_condicionado),len(df)"
   ]
  },
  {
   "cell_type": "markdown",
   "id": "3aa050ee-c336-4e0c-a20d-62e3113a0e64",
   "metadata": {},
   "source": [
    "## Dropping uknown values of pmra, pmdec or parallax."
   ]
  },
  {
   "cell_type": "code",
   "execution_count": 16,
   "id": "f4e22590-990a-47cf-8a7e-d304c95fedd8",
   "metadata": {},
   "outputs": [
    {
     "data": {
      "text/html": [
       "<div>\n",
       "<style scoped>\n",
       "    .dataframe tbody tr th:only-of-type {\n",
       "        vertical-align: middle;\n",
       "    }\n",
       "\n",
       "    .dataframe tbody tr th {\n",
       "        vertical-align: top;\n",
       "    }\n",
       "\n",
       "    .dataframe thead th {\n",
       "        text-align: right;\n",
       "    }\n",
       "</style>\n",
       "<table border=\"1\" class=\"dataframe\">\n",
       "  <thead>\n",
       "    <tr style=\"text-align: right;\">\n",
       "      <th></th>\n",
       "      <th>ra</th>\n",
       "      <th>dec</th>\n",
       "      <th>pmra</th>\n",
       "      <th>pmra_error</th>\n",
       "      <th>pmdec</th>\n",
       "      <th>pmdec_error</th>\n",
       "      <th>bp_rp</th>\n",
       "      <th>phot_g_mean_mag</th>\n",
       "      <th>parallax</th>\n",
       "      <th>parallax_error</th>\n",
       "      <th>radial_velocity</th>\n",
       "      <th>radial_velocity_error</th>\n",
       "      <th>l</th>\n",
       "      <th>b</th>\n",
       "    </tr>\n",
       "  </thead>\n",
       "  <tbody>\n",
       "    <tr>\n",
       "      <th>2</th>\n",
       "      <td>93.691135</td>\n",
       "      <td>-18.667468</td>\n",
       "      <td>-0.562689</td>\n",
       "      <td>0.034095</td>\n",
       "      <td>1.982773</td>\n",
       "      <td>0.042733</td>\n",
       "      <td>0.583074</td>\n",
       "      <td>16.176001</td>\n",
       "      <td>0.232700</td>\n",
       "      <td>0.040846</td>\n",
       "      <td>NaN</td>\n",
       "      <td>NaN</td>\n",
       "      <td>225.937870</td>\n",
       "      <td>-16.277863</td>\n",
       "    </tr>\n",
       "    <tr>\n",
       "      <th>4</th>\n",
       "      <td>93.701251</td>\n",
       "      <td>-18.664112</td>\n",
       "      <td>3.286013</td>\n",
       "      <td>0.041485</td>\n",
       "      <td>-2.713723</td>\n",
       "      <td>0.053662</td>\n",
       "      <td>0.962515</td>\n",
       "      <td>16.528509</td>\n",
       "      <td>0.371252</td>\n",
       "      <td>0.048171</td>\n",
       "      <td>NaN</td>\n",
       "      <td>NaN</td>\n",
       "      <td>225.938691</td>\n",
       "      <td>-16.267740</td>\n",
       "    </tr>\n",
       "    <tr>\n",
       "      <th>6</th>\n",
       "      <td>93.696958</td>\n",
       "      <td>-18.655837</td>\n",
       "      <td>2.406617</td>\n",
       "      <td>0.193591</td>\n",
       "      <td>4.503022</td>\n",
       "      <td>0.252385</td>\n",
       "      <td>1.555965</td>\n",
       "      <td>19.082981</td>\n",
       "      <td>0.674999</td>\n",
       "      <td>0.234699</td>\n",
       "      <td>NaN</td>\n",
       "      <td>NaN</td>\n",
       "      <td>225.929094</td>\n",
       "      <td>-16.268129</td>\n",
       "    </tr>\n",
       "    <tr>\n",
       "      <th>7</th>\n",
       "      <td>93.690909</td>\n",
       "      <td>-18.651031</td>\n",
       "      <td>7.733277</td>\n",
       "      <td>0.406689</td>\n",
       "      <td>-3.789235</td>\n",
       "      <td>0.517173</td>\n",
       "      <td>2.246349</td>\n",
       "      <td>19.970844</td>\n",
       "      <td>1.598677</td>\n",
       "      <td>0.491120</td>\n",
       "      <td>NaN</td>\n",
       "      <td>NaN</td>\n",
       "      <td>225.922106</td>\n",
       "      <td>-16.271439</td>\n",
       "    </tr>\n",
       "    <tr>\n",
       "      <th>8</th>\n",
       "      <td>93.689251</td>\n",
       "      <td>-18.650974</td>\n",
       "      <td>-1.592192</td>\n",
       "      <td>0.098713</td>\n",
       "      <td>1.386438</td>\n",
       "      <td>0.118465</td>\n",
       "      <td>0.821344</td>\n",
       "      <td>16.956673</td>\n",
       "      <td>0.511992</td>\n",
       "      <td>0.120402</td>\n",
       "      <td>NaN</td>\n",
       "      <td>NaN</td>\n",
       "      <td>225.921394</td>\n",
       "      <td>-16.272853</td>\n",
       "    </tr>\n",
       "    <tr>\n",
       "      <th>...</th>\n",
       "      <td>...</td>\n",
       "      <td>...</td>\n",
       "      <td>...</td>\n",
       "      <td>...</td>\n",
       "      <td>...</td>\n",
       "      <td>...</td>\n",
       "      <td>...</td>\n",
       "      <td>...</td>\n",
       "      <td>...</td>\n",
       "      <td>...</td>\n",
       "      <td>...</td>\n",
       "      <td>...</td>\n",
       "      <td>...</td>\n",
       "      <td>...</td>\n",
       "    </tr>\n",
       "    <tr>\n",
       "      <th>3913</th>\n",
       "      <td>93.929795</td>\n",
       "      <td>-18.474772</td>\n",
       "      <td>-7.026977</td>\n",
       "      <td>0.044286</td>\n",
       "      <td>6.374336</td>\n",
       "      <td>0.053800</td>\n",
       "      <td>1.184164</td>\n",
       "      <td>16.712812</td>\n",
       "      <td>0.853247</td>\n",
       "      <td>0.057126</td>\n",
       "      <td>NaN</td>\n",
       "      <td>NaN</td>\n",
       "      <td>225.849373</td>\n",
       "      <td>-15.993107</td>\n",
       "    </tr>\n",
       "    <tr>\n",
       "      <th>3914</th>\n",
       "      <td>93.939706</td>\n",
       "      <td>-18.472329</td>\n",
       "      <td>1.943964</td>\n",
       "      <td>0.058766</td>\n",
       "      <td>2.315182</td>\n",
       "      <td>0.068259</td>\n",
       "      <td>0.822624</td>\n",
       "      <td>17.334953</td>\n",
       "      <td>0.230967</td>\n",
       "      <td>0.072354</td>\n",
       "      <td>NaN</td>\n",
       "      <td>NaN</td>\n",
       "      <td>225.851003</td>\n",
       "      <td>-15.983522</td>\n",
       "    </tr>\n",
       "    <tr>\n",
       "      <th>3922</th>\n",
       "      <td>93.947707</td>\n",
       "      <td>-18.468962</td>\n",
       "      <td>-4.260153</td>\n",
       "      <td>0.316790</td>\n",
       "      <td>-2.169562</td>\n",
       "      <td>0.328364</td>\n",
       "      <td>2.162863</td>\n",
       "      <td>19.628738</td>\n",
       "      <td>0.872362</td>\n",
       "      <td>0.337298</td>\n",
       "      <td>NaN</td>\n",
       "      <td>NaN</td>\n",
       "      <td>225.850992</td>\n",
       "      <td>-15.975219</td>\n",
       "    </tr>\n",
       "    <tr>\n",
       "      <th>3923</th>\n",
       "      <td>94.038504</td>\n",
       "      <td>-18.518415</td>\n",
       "      <td>5.533825</td>\n",
       "      <td>0.032993</td>\n",
       "      <td>12.745104</td>\n",
       "      <td>0.038404</td>\n",
       "      <td>1.531487</td>\n",
       "      <td>15.937710</td>\n",
       "      <td>1.448974</td>\n",
       "      <td>0.039993</td>\n",
       "      <td>NaN</td>\n",
       "      <td>NaN</td>\n",
       "      <td>225.934252</td>\n",
       "      <td>-15.916473</td>\n",
       "    </tr>\n",
       "    <tr>\n",
       "      <th>3926</th>\n",
       "      <td>94.014406</td>\n",
       "      <td>-18.497236</td>\n",
       "      <td>-1.032214</td>\n",
       "      <td>0.223132</td>\n",
       "      <td>1.895022</td>\n",
       "      <td>0.233605</td>\n",
       "      <td>1.108622</td>\n",
       "      <td>19.239666</td>\n",
       "      <td>0.632016</td>\n",
       "      <td>0.245077</td>\n",
       "      <td>NaN</td>\n",
       "      <td>NaN</td>\n",
       "      <td>225.904498</td>\n",
       "      <td>-15.928804</td>\n",
       "    </tr>\n",
       "  </tbody>\n",
       "</table>\n",
       "<p>1451 rows × 14 columns</p>\n",
       "</div>"
      ],
      "text/plain": [
       "             ra        dec      pmra  pmra_error      pmdec  pmdec_error  \\\n",
       "2     93.691135 -18.667468 -0.562689    0.034095   1.982773     0.042733   \n",
       "4     93.701251 -18.664112  3.286013    0.041485  -2.713723     0.053662   \n",
       "6     93.696958 -18.655837  2.406617    0.193591   4.503022     0.252385   \n",
       "7     93.690909 -18.651031  7.733277    0.406689  -3.789235     0.517173   \n",
       "8     93.689251 -18.650974 -1.592192    0.098713   1.386438     0.118465   \n",
       "...         ...        ...       ...         ...        ...          ...   \n",
       "3913  93.929795 -18.474772 -7.026977    0.044286   6.374336     0.053800   \n",
       "3914  93.939706 -18.472329  1.943964    0.058766   2.315182     0.068259   \n",
       "3922  93.947707 -18.468962 -4.260153    0.316790  -2.169562     0.328364   \n",
       "3923  94.038504 -18.518415  5.533825    0.032993  12.745104     0.038404   \n",
       "3926  94.014406 -18.497236 -1.032214    0.223132   1.895022     0.233605   \n",
       "\n",
       "         bp_rp  phot_g_mean_mag  parallax  parallax_error  radial_velocity  \\\n",
       "2     0.583074        16.176001  0.232700        0.040846              NaN   \n",
       "4     0.962515        16.528509  0.371252        0.048171              NaN   \n",
       "6     1.555965        19.082981  0.674999        0.234699              NaN   \n",
       "7     2.246349        19.970844  1.598677        0.491120              NaN   \n",
       "8     0.821344        16.956673  0.511992        0.120402              NaN   \n",
       "...        ...              ...       ...             ...              ...   \n",
       "3913  1.184164        16.712812  0.853247        0.057126              NaN   \n",
       "3914  0.822624        17.334953  0.230967        0.072354              NaN   \n",
       "3922  2.162863        19.628738  0.872362        0.337298              NaN   \n",
       "3923  1.531487        15.937710  1.448974        0.039993              NaN   \n",
       "3926  1.108622        19.239666  0.632016        0.245077              NaN   \n",
       "\n",
       "      radial_velocity_error           l          b  \n",
       "2                       NaN  225.937870 -16.277863  \n",
       "4                       NaN  225.938691 -16.267740  \n",
       "6                       NaN  225.929094 -16.268129  \n",
       "7                       NaN  225.922106 -16.271439  \n",
       "8                       NaN  225.921394 -16.272853  \n",
       "...                     ...         ...        ...  \n",
       "3913                    NaN  225.849373 -15.993107  \n",
       "3914                    NaN  225.851003 -15.983522  \n",
       "3922                    NaN  225.850992 -15.975219  \n",
       "3923                    NaN  225.934252 -15.916473  \n",
       "3926                    NaN  225.904498 -15.928804  \n",
       "\n",
       "[1451 rows x 14 columns]"
      ]
     },
     "execution_count": 16,
     "metadata": {},
     "output_type": "execute_result"
    }
   ],
   "source": [
    "ndf = df_condicionado.dropna(how='any',subset=['pmra', 'pmdec', 'parallax'])\n",
    "ndf"
   ]
  },
  {
   "cell_type": "code",
   "execution_count": 17,
   "id": "6d021de0-2c20-462f-a02a-4c0808ab75ce",
   "metadata": {},
   "outputs": [],
   "source": [
    "from sklearn.cluster import DBSCAN\n",
    "from sklearn.metrics import silhouette_score\n",
    "from sklearn.metrics import v_measure_score\n",
    "from sklearn.preprocessing import StandardScaler"
   ]
  },
  {
   "cell_type": "markdown",
   "id": "d3186d14-8c30-4ca6-ab94-0af99cd3d674",
   "metadata": {},
   "source": [
    "## Creating the arrays to perform the 2-D KNN fit and 5-D DBSCAN fit"
   ]
  },
  {
   "cell_type": "code",
   "execution_count": 18,
   "id": "7a830cf8-7185-4ced-909e-0e9d60d140b5",
   "metadata": {},
   "outputs": [],
   "source": [
    "X = np.dstack((ndf['pmra'],ndf['pmdec']))[0]\n",
    "cincoD = np.dstack((ndf['pmra'],ndf['pmdec'],ndf['ra'],ndf['dec'],ndf['parallax']))[0]"
   ]
  },
  {
   "cell_type": "markdown",
   "id": "3b593589-3726-429a-9c40-0d6040312163",
   "metadata": {},
   "source": [
    "## Performing the KNN on the pmra and pmdec."
   ]
  },
  {
   "cell_type": "code",
   "execution_count": 28,
   "id": "2cdd99c4-8a08-4c06-94fe-900497cd79ce",
   "metadata": {},
   "outputs": [
    {
     "data": {
      "text/plain": [
       "(0.0, 3.0)"
      ]
     },
     "execution_count": 28,
     "metadata": {},
     "output_type": "execute_result"
    },
    {
     "data": {
      "image/png": "[encoded data removed]",
      "text/plain": [
       "<Figure size 432x288 with 1 Axes>"
      ]
     },
     "metadata": {
      "needs_background": "light"
     },
     "output_type": "display_data"
    }
   ],
   "source": [
    "from sklearn.neighbors import NearestNeighbors\n",
    "\n",
    "nn = NearestNeighbors(n_neighbors=100).fit(cincoD)\n",
    "distances, indices = nn.kneighbors(cincoD)\n",
    "\n",
    "distances = np.sort(distances, axis=0)\n",
    "\n",
    "medias = np.zeros(len(distances))\n",
    "for i in range(len(distances)):\n",
    "    medias[i] = np.mean(distances[:][i])\n",
    "\n",
    "optimal_bin = np.histogram_bin_edges(medias, bins = 'fd')\n",
    "a = plt.hist(medias, optimal_bin,  ec = 'k', color = 'green')\n",
    "numero, bins = a[0],a[1]\n",
    "plt.xlim(0,3)"
   ]
  },
  {
   "cell_type": "code",
   "execution_count": 23,
   "id": "bef2bcb6-25fe-4e8f-a6c3-88cec521c930",
   "metadata": {},
   "outputs": [
    {
     "name": "stdout",
     "output_type": "stream",
     "text": [
      "eps = 0.0735522965385478\n",
      "Estimated no. of clusters: 0\n",
      "Estimated no. points clustered: 0\n",
      "eps = 0.4995815018184483\n",
      "Estimated no. of clusters: 1\n",
      "Estimated no. points clustered: 597\n",
      "eps = 0.9256107070983488\n",
      "Estimated no. of clusters: 1\n",
      "Estimated no. points clustered: 723\n",
      "eps = 1.3516399123782494\n",
      "Estimated no. of clusters: 1\n",
      "Estimated no. points clustered: 838\n"
     ]
    }
   ],
   "source": [
    "listinha = bins[0:4]\n",
    "\n",
    "for element in listinha:\n",
    "    db = DBSCAN(eps=element, min_samples=100).fit(cincoD)\n",
    "    #core_samples_mask = np.zeros_like(db.labels_, dtype=bool)\n",
    "    #core_samples_mask[db.core_sample_indices_] = True\n",
    "    labels = db.labels_\n",
    "    print('eps =', element)\n",
    "    N_clus=len(set(labels))-(1 if -1 in labels else 0)\n",
    "    print('Estimated no. of clusters: %d' % N_clus)\n",
    "    n_in = list(db.labels_).count(0)\n",
    "    print('Estimated no. points clustered: %d' % n_in)\n"
   ]
  },
  {
   "cell_type": "code",
   "execution_count": 20,
   "id": "f9cb21bd-2fcb-4ca4-bfba-d41e9aade1ef",
   "metadata": {},
   "outputs": [],
   "source": [
    "plt.rc('xtick', labelsize=12)\n",
    "plt.rc('ytick', labelsize=12)\n",
    "plt.rcParams['axes.linewidth'] = 1.0\n",
    "\n",
    "\n",
    "font = {'family' : 'serif',\n",
    "        'weight' : 'normal',\n",
    "        'size'   : 13}\n",
    "\n",
    "plt.rc('font', **font)"
   ]
  },
  {
   "cell_type": "markdown",
   "id": "061681a0-a95c-47e5-b1e8-5fc5dbcc9918",
   "metadata": {},
   "source": [
    "## Performing DBSCAN"
   ]
  },
  {
   "cell_type": "code",
   "execution_count": 26,
   "id": "0e6552b0-ef23-45f9-b6d8-b62f73263d91",
   "metadata": {},
   "outputs": [
    {
     "name": "stdout",
     "output_type": "stream",
     "text": [
      "Estimated no. of clusters: 1\n",
      "Estimated no. of noise points: 856\n",
      "Estimated no. points clustered: 595\n"
     ]
    },
    {
     "data": {
      "text/plain": [
       "Text(0, 0.5, 'pmdec')"
      ]
     },
     "execution_count": 26,
     "metadata": {},
     "output_type": "execute_result"
    },
    {
     "data": {
      "image/png": "[encoded data removed]",
      "text/plain": [
       "<Figure size 432x288 with 1 Axes>"
      ]
     },
     "metadata": {
      "needs_background": "light"
     },
     "output_type": "display_data"
    }
   ],
   "source": [
    "db = DBSCAN(eps=0.499, min_samples=100).fit(cincoD)\n",
    "core_samples_mask = np.zeros_like(db.labels_, dtype=bool)\n",
    "core_samples_mask[db.core_sample_indices_] = True\n",
    "labels = db.labels_\n",
    "\n",
    "N_clus=len(set(labels))-(1 if -1 in labels else 0)\n",
    "print('Estimated no. of clusters: %d' % N_clus)\n",
    "\n",
    "n_noise = list(db.labels_).count(-1)\n",
    "print('Estimated no. of noise points: %d' % n_noise)\n",
    "\n",
    "n_in = list(db.labels_).count(0)\n",
    "print('Estimated no. points clustered: %d' % n_in)\n",
    "\n",
    "\n",
    "plt.scatter(X[:, 0], \n",
    "            X[:, 1], \n",
    "            c=db.labels_, \n",
    "            )\n",
    "plt.xlabel(\"pmra\", fontweight = 'bold')\n",
    "plt.ylabel(\"pmdec\", fontweight = 'bold')"
   ]
  },
  {
   "cell_type": "markdown",
   "id": "b2d83603-81b3-4d0c-a656-0450488e4ca3",
   "metadata": {},
   "source": [
    "## Getting the points that are clustered"
   ]
  },
  {
   "cell_type": "code",
   "execution_count": 27,
   "id": "3f5dd7c8-6445-4acd-b226-c3d6e97efea7",
   "metadata": {},
   "outputs": [
    {
     "data": {
      "image/png": "[encoded data removed]",
      "text/plain": [
       "<Figure size 720x432 with 2 Axes>"
      ]
     },
     "metadata": {
      "needs_background": "light"
     },
     "output_type": "display_data"
    }
   ],
   "source": [
    "pontos_cluster = np.empty((0,2))\n",
    "for i in range(len(X)):\n",
    "    if labels[i]==0:\n",
    "        pontos_cluster = np.append(pontos_cluster, np.array([X[i]]), axis  = 0) #problema no formato do array para dar append\n",
    "    else:\n",
    "        continue\n",
    "\n",
    "xin,yin = pontos_cluster.T\n",
    "\n",
    "pontos_cluster = np.empty((0,2))\n",
    "for i in range(len(X)):\n",
    "    if labels[i]==-1:\n",
    "        pontos_cluster = np.append(pontos_cluster, np.array([X[i]]), axis  = 0) #problema no formato do array para dar append\n",
    "    else:\n",
    "        continue\n",
    "\n",
    "\n",
    "xout, yout = pontos_cluster.T\n",
    "\n",
    "\n",
    "subset = ndf[ndf['pmra'].isin(xin) & ndf['pmdec'].isin(yin)]\n",
    "subset = subset.reset_index(drop=True)\n",
    "\n",
    "fig, ax = plt.subplots(1,2, figsize=(10,6))\n",
    "ax[0].scatter(xin,yin, color = 'k', zorder = 100)\n",
    "ax[0].scatter(xout,yout, color = 'red')\n",
    "\n",
    "\n",
    "ax[1].scatter(subset['bp_rp'],subset['phot_g_mean_mag'])\n",
    "ax[1].invert_yaxis()\n"
   ]
  },
  {
   "cell_type": "code",
   "execution_count": null,
   "id": "0aa368ca-3e4e-4d8f-b250-464c9de9bbbb",
   "metadata": {},
   "outputs": [],
   "source": [
    "plt.figure(figsize=(5,8))\n",
    "plt.scatter(subset['bp_rp'],subset['phot_g_mean_mag'])\n",
    "plt.gca().invert_yaxis()"
   ]
  },
  {
   "cell_type": "markdown",
   "id": "e97bc501-2309-4986-aa6f-74039153f3e1",
   "metadata": {},
   "source": [
    "## Constructing a RDP and histograms of the clusters parameters"
   ]
  },
  {
   "cell_type": "code",
   "execution_count": null,
   "id": "40118a7a-2fff-4128-a1fe-379b764af944",
   "metadata": {},
   "outputs": [],
   "source": [
    "from astropy.coordinates import SkyCoord\n",
    "from astropy import units\n",
    "\n",
    "catalog = SkyCoord(ra=subset['ra']*units.degree, dec=subset['dec']*units.degree, frame='fk5')\n",
    "\n",
    "nstar = len(subset)\n",
    "\n",
    "#.Definindo o vizinho apropriado para a abertura\n",
    "\n",
    "k = np.sqrt(nstar).astype(int)\n",
    "\n",
    "#.criando a estrutura de vizinhos proximos\n",
    "coords = np.array([subset['ra']*np.cos(subset['dec']*np.pi/180.0), subset['dec']]).T\n",
    "nn_struct = NearestNeighbors(n_neighbors=k, algorithm='auto', metric='euclidean')\n",
    "nn_struct.fit(coords)\n",
    "distances, index = nn_struct.kneighbors(coords)\n",
    "             \n",
    "\n",
    "#.obtendo a distancia do k-esimo vizinho mais proximo\n",
    "aperture = distances[:,k-1]*units.degree\n",
    "area = np.pi*(aperture.value)**2# + area_cor(data, data.DEC, aperture.value)\n",
    "den_data = k/area\n",
    "den_sigm = np.sqrt(k)/area\n",
    "\n",
    "den_data /= 3600**2\n",
    "den_sigm /= 3600**2\n",
    "\n",
    "med_x = np.average(subset['ra'], weights=den_data)\n",
    "std_x = np.average((subset['ra']-med_x)**2, weights=den_data)**0.5\n",
    "\n",
    "med_y = np.average(subset['dec'], weights=den_data)\n",
    "std_y = np.average((subset['dec']-med_y)**2, weights=den_data)**0.5\n",
    "\n",
    "center = SkyCoord(med_x*units.degree, med_y*units.degree)\n",
    "radii = center.separation(catalog)\n",
    "radii = radii.to(units.arcsec).value\n",
    "\n",
    "#.criando figura do RDP\n",
    "\n",
    "import matplotlib.cm as cm\n",
    "cor = cm.get_cmap('jet')\n",
    "\n",
    "fig, ax = plt.subplots()#1,1,figsize=(10,11))\n",
    "ax.scatter(radii,den_data, s=(max(subset['phot_g_mean_mag'])-subset['phot_g_mean_mag'])*20, c=den_data/3600**2, cmap = cor, label='data')\n",
    "ax.set_xlabel('radius (arcsec)', fontsize=18, fontweight='bold')\n",
    "ax.set_ylabel('stellar density (arcsec$^{-2}$)', fontsize=18, fontweight='bold')\n",
    "\n"
   ]
  },
  {
   "cell_type": "markdown",
   "id": "745deccc-b7c0-408f-8e44-a40b28044e17",
   "metadata": {},
   "source": [
    "## Plotting histograms"
   ]
  },
  {
   "cell_type": "code",
   "execution_count": null,
   "id": "071a7e5d-7e96-40b9-930e-ffdfd72f8deb",
   "metadata": {},
   "outputs": [],
   "source": [
    "fig = plt.figure(figsize = (13,10))\n",
    "ax1 = fig.add_subplot(4,4, (1,6))\n",
    "ax2 = fig.add_subplot(4,4, (9,14))\n",
    "ax3 = fig.add_subplot(4,4, (3,8))\n",
    "ax4 = fig.add_subplot(4,4, (11,16))\n",
    "\n",
    "optimal_bin = np.histogram_bin_edges(subset['ra'], bins = 'fd')\n",
    "ax1.hist(subset['ra'], optimal_bin,  ec = 'k', color = 'green');\n",
    "\n",
    "optimal_bin = np.histogram_bin_edges(subset['pmra'], bins = 'fd')\n",
    "ax2.hist(subset['pmra'], optimal_bin,  ec = 'k', color = 'green');\n",
    "\n",
    "optimal_bin = np.histogram_bin_edges(subset['dec'], bins = 'fd')\n",
    "ax3.hist(subset['dec'], optimal_bin,  ec = 'k', color = 'red');\n",
    "\n",
    "optimal_bin = np.histogram_bin_edges(subset['pmdec'], bins = 'fd')\n",
    "ax4.hist(subset['pmdec'], optimal_bin,  ec = 'k', color = 'red');\n",
    "\n",
    "ax1.set_title('ra', fontweight = 'bold')\n",
    "ax2.set_title('pmra', fontweight = 'bold')\n",
    "ax3.set_title('dec', fontweight = 'bold')\n",
    "ax4.set_title('pmdec', fontweight = 'bold')\n",
    "\n",
    "plt.subplots_adjust(wspace = 0.2, hspace = 0.5)\n"
   ]
  },
  {
   "cell_type": "code",
   "execution_count": null,
   "id": "55b77219-5085-4be7-b901-c475a2e22391",
   "metadata": {},
   "outputs": [],
   "source": [
    "fig = plt.figure(figsize=(14,7))\n",
    "ax1 = fig.add_subplot(2,4, (1,6))\n",
    "\n",
    "optimal_bin = np.histogram_bin_edges(subset['parallax'], bins = 'fd')\n",
    "ax1.hist(subset['parallax'], optimal_bin, ec = 'k',color = 'blue');\n",
    "\n",
    "ax2 = fig.add_subplot(2,4, (3,8))\n",
    "\n",
    "ra_vel = subset.dropna(how='any',subset=['radial_velocity'])\n",
    "optimal_bin = np.histogram_bin_edges(ra_vel['radial_velocity'], bins = 'fd')\n",
    "ax2.hist(ra_vel.radial_velocity, optimal_bin, ec = 'k',color = 'orange');\n",
    "\n",
    "ax1.set_title('parallax', fontweight = 'bold')\n",
    "ax2.set_title('radial velocity', fontweight = 'bold');"
   ]
  },
  {
   "cell_type": "markdown",
   "id": "162cb4b6-ffc0-4462-ba56-5706b083601a",
   "metadata": {},
   "source": [
    "## Gaussian fit"
   ]
  },
  {
   "cell_type": "code",
   "execution_count": null,
   "id": "e7f6d680-d07d-4b8b-9bfc-edf0bf934f8c",
   "metadata": {},
   "outputs": [],
   "source": [
    "def gaussiana(x, amp, mu, sigma):\n",
    "    return amp*np.exp(-(x-mu)**2/(2*sigma**2))\n",
    "\n",
    "from lmfit.models import GaussianModel"
   ]
  },
  {
   "cell_type": "code",
   "execution_count": null,
   "id": "4596d56f-40fa-4def-85b4-51283340d87e",
   "metadata": {},
   "outputs": [],
   "source": [
    "fig, ax = plt.subplots(figsize=(8,6))\n",
    "\n",
    "\n",
    "data = subset['parallax']\n",
    "optimal_bin = np.histogram_bin_edges(data, bins = 'fd')\n",
    "\n",
    "histograma = ax.hist(data, optimal_bin, ec = 'k',color = 'orange');\n",
    "\n",
    "numero, bins = histograma[0],histograma[1]\n",
    "\n",
    "centralizar = (bins[1] - bins[0])/2\n",
    "\n",
    "teste = np.linspace(bins.min(),bins.max(),len(bins) -1)\n",
    "\n",
    "jpt = np.linspace(np.min(data) + centralizar, np.max(data) - centralizar, len(numero))\n",
    "\n",
    "\n",
    "gmodel = GaussianModel()\n",
    "\n",
    "inicial = gmodel.guess(numero, x = teste)\n",
    "\n",
    "result = gmodel.fit(numero, inicial, x=teste)\n",
    "\n",
    "\n",
    "print(result.fit_report())\n",
    "\n",
    "\n",
    "\n",
    "parametros = [result.params['height'].value, result.params['center'].value, result.params['sigma'].value]\n",
    "valores_paralaxe = [result.params['center'].value, result.params['sigma'].value]\n",
    "\n",
    "xplot = np.linspace(1.3*bins[0],1.3*bins[-1],128*2)\n",
    "\n",
    "ax.plot(xplot,gaussiana(xplot,*parametros), color = 'k')\n",
    "\n",
    "ax.set_title('parallax', fontweight = 'bold')\n",
    "\n",
    "plt.show()"
   ]
  },
  {
   "cell_type": "code",
   "execution_count": null,
   "id": "8a5ec7cc-3804-4ee1-86ae-009de509436a",
   "metadata": {},
   "outputs": [],
   "source": [
    "#primeiro_clip = subset.parallax[np.where((subset.parallax < sigma_parallax_up ) & (subset.parallax > sigma_parallax_down))[0]]\n",
    "#primeiro_clip"
   ]
  },
  {
   "cell_type": "code",
   "execution_count": null,
   "id": "7be0ede2-e52e-438f-a4dd-7f5fdcae6f74",
   "metadata": {},
   "outputs": [],
   "source": [
    "fig, ax = plt.subplots(figsize=(8,6))\n",
    "\n",
    "\n",
    "data = subset['ra']\n",
    "optimal_bin = np.histogram_bin_edges(data, bins = 'fd')\n",
    "\n",
    "histograma = ax.hist(data, optimal_bin, ec = 'k',color = 'blue');\n",
    "\n",
    "numero, bins = histograma[0],histograma[1]\n",
    "\n",
    "centralizar = (bins[1] - bins[0])/2\n",
    "\n",
    "teste = np.linspace(bins.min(),bins.max(),len(bins) -1)\n",
    "\n",
    "jpt = np.linspace(np.min(data) + centralizar, np.max(data) - centralizar, len(numero))\n",
    "\n",
    "\n",
    "gmodel = GaussianModel()\n",
    "\n",
    "inicial = gmodel.guess(numero, x = teste)\n",
    "\n",
    "result = gmodel.fit(numero, inicial, x=teste)\n",
    "\n",
    "\n",
    "print(result.fit_report())\n",
    "\n",
    "\n",
    "\n",
    "parametros = [result.params['height'].value, result.params['center'].value, result.params['sigma'].value]\n",
    "valores_ra = [result.params['center'].value, result.params['sigma'].value]\n",
    "\n",
    "xplot = np.linspace(bins[0],bins[-1],128*2)\n",
    "\n",
    "ax.plot(xplot,gaussiana(xplot,*parametros), color = 'k')\n",
    "\n",
    "ax.set_title('ra', fontweight = 'bold')\n",
    "\n",
    "plt.show()"
   ]
  },
  {
   "cell_type": "code",
   "execution_count": null,
   "id": "b7821597-832b-4214-ac0b-dd5c6d1600a0",
   "metadata": {},
   "outputs": [],
   "source": [
    "fig, ax = plt.subplots(figsize=(8,6))\n",
    "\n",
    "\n",
    "data = subset['pmra']\n",
    "optimal_bin = np.histogram_bin_edges(data, bins = 'fd')\n",
    "\n",
    "histograma = ax.hist(data, optimal_bin, ec = 'k',color = 'blue');\n",
    "\n",
    "numero, bins = histograma[0],histograma[1]\n",
    "\n",
    "centralizar = (bins[1] - bins[0])/2\n",
    "\n",
    "teste = np.linspace(bins.min(),bins.max(),len(bins) -1)\n",
    "\n",
    "jpt = np.linspace(np.min(data) + centralizar, np.max(data) - centralizar, len(numero))\n",
    "\n",
    "\n",
    "gmodel = GaussianModel()\n",
    "\n",
    "inicial = gmodel.guess(numero, x = teste)\n",
    "\n",
    "result = gmodel.fit(numero, inicial, x=teste)\n",
    "\n",
    "\n",
    "print(result.fit_report())\n",
    "\n",
    "\n",
    "\n",
    "parametros = [result.params['height'].value, result.params['center'].value, result.params['sigma'].value]\n",
    "valores_pmra= [result.params['center'].value, result.params['sigma'].value]\n",
    "\n",
    "xplot = np.linspace(bins[0],bins[-1],128*2)\n",
    "\n",
    "ax.plot(xplot,gaussiana(xplot,*parametros), color = 'k')\n",
    "\n",
    "ax.set_title('pmra', fontweight = 'bold')\n",
    "\n",
    "plt.show()"
   ]
  },
  {
   "cell_type": "code",
   "execution_count": null,
   "id": "be669e82-e291-4d91-a880-5250115f0c15",
   "metadata": {},
   "outputs": [],
   "source": [
    "fig, ax = plt.subplots(figsize=(8,6))\n",
    "\n",
    "\n",
    "data = subset['dec']\n",
    "optimal_bin = np.histogram_bin_edges(data, bins = 'fd')\n",
    "\n",
    "histograma = ax.hist(data, optimal_bin, ec = 'k',color = 'red');\n",
    "\n",
    "numero, bins = histograma[0],histograma[1]\n",
    "\n",
    "centralizar = (bins[1] - bins[0])/2\n",
    "\n",
    "teste = np.linspace(bins.min(),bins.max(),len(bins) -1)\n",
    "\n",
    "jpt = np.linspace(np.min(data) + centralizar, np.max(data) - centralizar, len(numero))\n",
    "\n",
    "\n",
    "gmodel = GaussianModel()\n",
    "\n",
    "inicial = gmodel.guess(numero, x = teste)\n",
    "\n",
    "result = gmodel.fit(numero, inicial, x=teste)\n",
    "\n",
    "\n",
    "print(result.fit_report())\n",
    "\n",
    "\n",
    "\n",
    "parametros = [result.params['height'].value, result.params['center'].value, result.params['sigma'].value]\n",
    "valores_dec = [result.params['center'].value, result.params['sigma'].value]\n",
    "\n",
    "xplot = np.linspace(bins[0],bins[-1],128*2)\n",
    "\n",
    "ax.plot(xplot,gaussiana(xplot,*parametros), color = 'k')\n",
    "\n",
    "ax.set_title('dec', fontweight = 'bold')\n",
    "\n",
    "plt.show()"
   ]
  },
  {
   "cell_type": "code",
   "execution_count": null,
   "id": "2e61f8e4-e34f-4e4f-9d15-44e52af6069b",
   "metadata": {},
   "outputs": [],
   "source": [
    "fig, ax = plt.subplots(figsize=(8,6))\n",
    "\n",
    "\n",
    "data = subset['pmdec']\n",
    "optimal_bin = np.histogram_bin_edges(data, bins = 'fd')\n",
    "\n",
    "histograma = ax.hist(data, optimal_bin, ec = 'k',color = 'red');\n",
    "\n",
    "numero, bins = histograma[0],histograma[1]\n",
    "\n",
    "centralizar = (bins[1] - bins[0])/2\n",
    "\n",
    "teste = np.linspace(bins.min(),bins.max(),len(bins) -1)\n",
    "\n",
    "jpt = np.linspace(np.min(data) + centralizar, np.max(data) - centralizar, len(numero))\n",
    "\n",
    "\n",
    "gmodel = GaussianModel()\n",
    "\n",
    "inicial = gmodel.guess(numero, x = teste)\n",
    "\n",
    "result = gmodel.fit(numero, inicial, x=teste)\n",
    "\n",
    "\n",
    "print(result.fit_report())\n",
    "\n",
    "\n",
    "\n",
    "parametros = [result.params['height'].value, result.params['center'].value, result.params['sigma'].value]\n",
    "valores_pmdec = [result.params['center'].value, result.params['sigma'].value]\n",
    "\n",
    "xplot = np.linspace(bins[0],bins[-1],128*2)\n",
    "\n",
    "ax.plot(xplot,gaussiana(xplot,*parametros), color = 'k')\n",
    "\n",
    "ax.set_title('pmdec', fontweight = 'bold')\n",
    "\n",
    "plt.show()"
   ]
  },
  {
   "cell_type": "code",
   "execution_count": null,
   "id": "bd22e490-355a-434a-8f2b-db38637bbfb3",
   "metadata": {},
   "outputs": [],
   "source": [
    "fig, ax = plt.subplots(figsize=(8,6))\n",
    "\n",
    "ra_vel = subset.dropna(how='any',subset=['radial_velocity'])\n",
    "optimal_bin = np.histogram_bin_edges(ra_vel['radial_velocity'], bins = 'fd')\n",
    "\n",
    "data = ra_vel['radial_velocity']\n",
    "optimal_bin = np.histogram_bin_edges(data, bins = 'fd')\n",
    "\n",
    "histograma = ax.hist(data, optimal_bin, ec = 'k',color = 'green');\n",
    "\n",
    "numero, bins = histograma[0],histograma[1]\n",
    "\n",
    "centralizar = (bins[1] - bins[0])/2\n",
    "\n",
    "teste = np.linspace(bins.min(),bins.max(),len(bins) -1)\n",
    "\n",
    "jpt = np.linspace(np.min(data) + centralizar, np.max(data) - centralizar, len(numero))\n",
    "\n",
    "\n",
    "gmodel = GaussianModel()\n",
    "\n",
    "inicial = gmodel.guess(numero, x = teste)\n",
    "\n",
    "result = gmodel.fit(numero, inicial, x=teste)\n",
    "\n",
    "\n",
    "print(result.fit_report())\n",
    "\n",
    "\n",
    "\n",
    "parametros = [result.params['height'].value, result.params['center'].value, result.params['sigma'].value]\n",
    "\n",
    "valores_radial_velocity= [result.params['center'].value, result.params['sigma'].value]\n",
    "\n",
    "\n",
    "xplot = np.linspace(bins[0],bins[-1],128*2)\n",
    "\n",
    "ax.plot(xplot,gaussiana(xplot,*parametros), color = 'k')\n",
    "\n",
    "ax.set_title('radial_velocity', fontweight = 'bold')\n",
    "\n",
    "plt.show()\n"
   ]
  },
  {
   "cell_type": "code",
   "execution_count": null,
   "id": "12160255-cc54-43d7-ad95-d977411f20be",
   "metadata": {},
   "outputs": [],
   "source": [
    "sigma = 3\n",
    "\n",
    "paralaxe_up, paralaxe_down = valores_paralaxe[0] + sigma*valores_paralaxe[1], valores_paralaxe[0] - sigma*valores_paralaxe[1]\n",
    "\n",
    "print(paralaxe_up,valores_paralaxe[0], paralaxe_down)\n",
    "\n",
    "ra_up, ra_down = valores_ra[0] + sigma*valores_ra[1], valores_ra[0] - sigma*valores_ra[1]\n",
    "\n",
    "print(ra_up,valores_ra[0],ra_down)\n",
    "\n",
    "pmra_up, pmra_down = valores_pmra[0] + sigma*valores_pmra[1], valores_pmra[0] - sigma*valores_pmra[1]\n",
    "\n",
    "print(pmra_up,valores_pmra[0],pmra_down)\n",
    "\n",
    "dec_up, dec_down = valores_dec[0] + sigma*valores_dec[1], valores_dec[0] - sigma*valores_dec[1]\n",
    "\n",
    "print(dec_up, valores_dec[0], dec_down)\n",
    "\n",
    "pmdec_up, pmdec_down = valores_pmdec[0] + sigma*valores_pmdec[1], valores_pmdec[0] - sigma*valores_pmdec[1]\n",
    "\n",
    "print(pmdec_up,valores_pmdec[0],pmdec_down)\n",
    "\n",
    "radvel_up, radvel_down = valores_radial_velocity[0] + sigma*valores_radial_velocity[1], valores_radial_velocity[0] - sigma*valores_radial_velocity[1]\n",
    "\n",
    "print(radvel_up, valores_radial_velocity[0], radvel_down)"
   ]
  },
  {
   "cell_type": "code",
   "execution_count": null,
   "id": "d1511151-0645-4fbc-9099-60763585c549",
   "metadata": {},
   "outputs": [],
   "source": [
    "clip = subset.loc[(subset.parallax < paralaxe_up ) & (subset.parallax > paralaxe_down) & (subset.ra>ra_down) & (subset.ra<ra_up)\n",
    "          & (subset.dec>dec_down) & (subset.dec<dec_up) & (subset.pmra>pmra_down) & (subset.pmra<pmra_up) & (subset.pmdec>pmdec_down) & (subset.pmdec<pmdec_up)]\n",
    "len(clip)"
   ]
  },
  {
   "cell_type": "code",
   "execution_count": null,
   "id": "9a590b4f-ac07-4d68-a102-f2acaa13a09e",
   "metadata": {},
   "outputs": [],
   "source": [
    "ra_vel = clip.dropna(how='any',subset=['radial_velocity'])\n",
    "optimal_bin = np.histogram_bin_edges(ra_vel['radial_velocity'], bins = 'fd')\n",
    "\n",
    "data = ra_vel['radial_velocity']\n",
    "\n",
    "plt.hist(data, optimal_bin, ec = 'k',color = 'green');"
   ]
  },
  {
   "cell_type": "code",
   "execution_count": null,
   "id": "8bbc66e7-3655-4bcd-bb70-41066c5a7c50",
   "metadata": {},
   "outputs": [],
   "source": [
    "plt.figure(figsize=(5,8))\n",
    "plt.scatter(clip['bp_rp'],clip['phot_g_mean_mag'])\n",
    "plt.gca().invert_yaxis()"
   ]
  },
  {
   "cell_type": "code",
   "execution_count": null,
   "id": "3b71a47f-0600-4951-86f4-4fff8150cb0d",
   "metadata": {},
   "outputs": [],
   "source": [
    "from astropy.coordinates import SkyCoord\n",
    "from astropy import units\n",
    "\n",
    "catalog = SkyCoord(ra=clip['ra']*units.degree, dec=clip['dec']*units.degree, frame='fk5')\n",
    "\n",
    "nstar = len(clip)\n",
    "\n",
    "#.Definindo o vizinho apropriado para a abertura\n",
    "\n",
    "k = np.sqrt(nstar).astype(int)\n",
    "\n",
    "#.criando a estrutura de vizinhos proximos\n",
    "coords = np.array([clip['ra']*np.cos(clip['dec']*np.pi/180.0), clip['dec']]).T\n",
    "nn_struct = NearestNeighbors(n_neighbors=k, algorithm='auto', metric='euclidean')\n",
    "nn_struct.fit(coords)\n",
    "distances, index = nn_struct.kneighbors(coords)\n",
    "             \n",
    "\n",
    "#.obtendo a distancia do k-esimo vizinho mais proximo\n",
    "aperture = distances[:,k-1]*units.degree\n",
    "area = np.pi*(aperture.value)**2# + area_cor(data, data.DEC, aperture.value)\n",
    "den_data = k/area\n",
    "den_sigm = np.sqrt(k)/area\n",
    "\n",
    "den_data /= 3600**2\n",
    "den_sigm /= 3600**2\n",
    "\n",
    "med_x = np.average(clip['ra'], weights=den_data)\n",
    "std_x = np.average((clip['ra']-med_x)**2, weights=den_data)**0.5\n",
    "\n",
    "med_y = np.average(clip['dec'], weights=den_data)\n",
    "std_y = np.average((clip['dec']-med_y)**2, weights=den_data)**0.5\n",
    "\n",
    "center = SkyCoord(med_x*units.degree, med_y*units.degree)\n",
    "radii = center.separation(catalog)\n",
    "radii = radii.to(units.arcsec).value\n",
    "\n",
    "\n",
    "import matplotlib.cm as cm\n",
    "cor = cm.get_cmap('jet')\n",
    "\n",
    "fig, ax = plt.subplots()#1,1,figsize=(10,11))\n",
    "ax.scatter(radii,den_data, s=(max(clip['phot_g_mean_mag'])-clip['phot_g_mean_mag'])*20, c=den_data/3600**2, cmap = cor, label='data')\n",
    "ax.set_xlabel('radius (arcsec)', fontsize=18, fontweight='bold')\n",
    "ax.set_ylabel('stellar density (arcsec$^{-2}$)', fontsize=18, fontweight='bold')\n",
    "\n"
   ]
  },
  {
   "cell_type": "code",
   "execution_count": null,
   "id": "f2561147-7e16-4a56-bad6-15b3783ca53e",
   "metadata": {},
   "outputs": [],
   "source": [
    "center"
   ]
  },
  {
   "cell_type": "code",
   "execution_count": null,
   "id": "02772a3c-c1a8-48b4-8fee-5d5f33763c39",
   "metadata": {},
   "outputs": [],
   "source": [
    "fig = plt.figure(figsize = (13,10))\n",
    "ax1 = fig.add_subplot(4,4, (1,6))\n",
    "ax2 = fig.add_subplot(4,4, (9,14))\n",
    "ax3 = fig.add_subplot(4,4, (3,8))\n",
    "ax4 = fig.add_subplot(4,4, (11,16))\n",
    "\n",
    "optimal_bin = np.histogram_bin_edges(clip['ra'], bins = 'fd')\n",
    "ax1.hist(clip['ra'], optimal_bin,  ec = 'k', color = 'green');\n",
    "\n",
    "optimal_bin = np.histogram_bin_edges(clip['pmra'], bins = 'fd')\n",
    "ax2.hist(clip['pmra'], optimal_bin,  ec = 'k', color = 'green');\n",
    "\n",
    "optimal_bin = np.histogram_bin_edges(clip['dec'], bins = 'fd')\n",
    "ax3.hist(clip['dec'], optimal_bin,  ec = 'k', color = 'red');\n",
    "\n",
    "optimal_bin = np.histogram_bin_edges(clip['pmdec'], bins = 'fd')\n",
    "ax4.hist(clip['pmdec'], optimal_bin,  ec = 'k', color = 'red');\n",
    "\n",
    "ax1.set_title('ra', fontweight = 'bold')\n",
    "ax2.set_title('pmra', fontweight = 'bold')\n",
    "ax3.set_title('dec', fontweight = 'bold')\n",
    "ax4.set_title('pmdec', fontweight = 'bold')\n",
    "\n",
    "plt.subplots_adjust(wspace = 0.2, hspace = 0.5)\n"
   ]
  },
  {
   "cell_type": "markdown",
   "id": "853298ec-b17e-4a51-af18-efa3565aad2c",
   "metadata": {},
   "source": [
    "## Doing more sigma clippings"
   ]
  },
  {
   "cell_type": "code",
   "execution_count": null,
   "id": "23473daf-eb81-4278-8fcc-4881c291a1ab",
   "metadata": {},
   "outputs": [],
   "source": [
    "gmodel = GaussianModel()\n",
    "clip_loop = clip\n",
    "\n",
    "for i in range(2):\n",
    "    print(len(clip_loop))\n",
    "    data = clip_loop['ra']\n",
    "    optimal_bin = np.histogram_bin_edges(data, bins = 'fd')\n",
    "    numero, bins = np.histogram(data, optimal_bin)\n",
    "    teste = np.linspace(bins.min(),bins.max(),len(bins) -1)\n",
    "    inicial = gmodel.guess(numero, x = teste)\n",
    "    result = gmodel.fit(numero, inicial, x=teste)\n",
    "    valores_ra = [result.params['center'].value, result.params['sigma'].value]\n",
    "\n",
    "    data = clip_loop['pmra']\n",
    "    optimal_bin = np.histogram_bin_edges(data, bins = 'fd')\n",
    "    numero, bins = np.histogram(data, optimal_bin)\n",
    "    teste = np.linspace(bins.min(),bins.max(),len(bins) -1)\n",
    "    inicial = gmodel.guess(numero, x = teste)\n",
    "    result = gmodel.fit(numero, inicial, x=teste)\n",
    "    valores_pmra = [result.params['center'].value, result.params['sigma'].value]\n",
    "\n",
    "    data = clip_loop['dec']\n",
    "    optimal_bin = np.histogram_bin_edges(data, bins = 'fd')\n",
    "    numero, bins = np.histogram(data, optimal_bin)\n",
    "    teste = np.linspace(bins.min(),bins.max(),len(bins) -1)\n",
    "    inicial = gmodel.guess(numero, x = teste)\n",
    "    result = gmodel.fit(numero, inicial, x=teste)\n",
    "    valores_dec = [result.params['center'].value, result.params['sigma'].value]\n",
    "\n",
    "    data = clip_loop['pmdec']\n",
    "    optimal_bin = np.histogram_bin_edges(data, bins = 'fd')\n",
    "    numero, bins = np.histogram(data, optimal_bin)\n",
    "    teste = np.linspace(bins.min(),bins.max(),len(bins) -1)\n",
    "    inicial = gmodel.guess(numero, x = teste)\n",
    "    result = gmodel.fit(numero, inicial, x=teste)\n",
    "    valores_pmdec = [result.params['center'].value, result.params['sigma'].value]\n",
    "\n",
    "\n",
    "    data = clip_loop['parallax']\n",
    "    optimal_bin = np.histogram_bin_edges(data, bins = 'fd')\n",
    "    numero, bins = np.histogram(data, optimal_bin)\n",
    "    teste = np.linspace(bins.min(),bins.max(),len(bins) -1)\n",
    "    inicial = gmodel.guess(numero, x = teste)\n",
    "    result = gmodel.fit(numero, inicial, x=teste)\n",
    "    valores_paralaxe = [result.params['center'].value, result.params['sigma'].value]\n",
    "\n",
    "\n",
    "    sigma = 2\n",
    "\n",
    "    paralaxe_up, paralaxe_down = valores_paralaxe[0] + sigma*valores_paralaxe[1], valores_paralaxe[0] - sigma*valores_paralaxe[1]\n",
    "    ra_up, ra_down = valores_ra[0] + sigma*valores_ra[1], valores_ra[0] - sigma*valores_ra[1]\n",
    "    pmra_up, pmra_down = valores_pmra[0] + sigma*valores_pmra[1], valores_pmra[0] - sigma*valores_pmra[1]\n",
    "    dec_up, dec_down = valores_dec[0] + sigma*valores_dec[1], valores_dec[0] - sigma*valores_dec[1]\n",
    "    pmdec_up, pmdec_down = valores_pmdec[0] + sigma*valores_pmdec[1], valores_pmdec[0] - sigma*valores_pmdec[1]\n",
    "    radvel_up, radvel_down = valores_radial_velocity[0] + sigma*valores_radial_velocity[1], valores_radial_velocity[0] - sigma*valores_radial_velocity[1]\n",
    "    clip_loop = clip_loop.loc[(clip_loop.parallax < paralaxe_up ) & (clip_loop.parallax > paralaxe_down) & (clip_loop.ra>ra_down) & (clip_loop.ra<ra_up)\n",
    "          & (clip_loop.dec>dec_down) & (clip_loop.dec<dec_up) & (clip_loop.pmra>pmra_down) & (clip_loop.pmra<pmra_up) & (clip_loop.pmdec>pmdec_down) & (clip_loop.pmdec<pmdec_up)]\n",
    "\n",
    "    \n",
    "\n",
    "fig = plt.figure(figsize = (13,10))\n",
    "ax1 = fig.add_subplot(4,4, (1,6))\n",
    "ax2 = fig.add_subplot(4,4, (9,14))\n",
    "ax3 = fig.add_subplot(4,4, (3,8))\n",
    "ax4 = fig.add_subplot(4,4, (11,16))\n",
    "\n",
    "optimal_bin = np.histogram_bin_edges(clip_loop['ra'], bins = 'fd')\n",
    "ax1.hist(clip_loop['ra'], optimal_bin,  ec = 'k', color = 'green');\n",
    "\n",
    "optimal_bin = np.histogram_bin_edges(clip_loop['pmra'], bins = 'fd')\n",
    "ax2.hist(clip_loop['pmra'], optimal_bin,  ec = 'k', color = 'green');\n",
    "\n",
    "optimal_bin = np.histogram_bin_edges(clip_loop['dec'], bins = 'fd')\n",
    "ax3.hist(clip_loop['dec'], optimal_bin,  ec = 'k', color = 'red');\n",
    "\n",
    "optimal_bin = np.histogram_bin_edges(clip_loop['pmdec'], bins = 'fd')\n",
    "ax4.hist(clip_loop['pmdec'], optimal_bin,  ec = 'k', color = 'red');\n",
    "\n",
    "ax1.set_title('ra', fontweight = 'bold')\n",
    "ax2.set_title('pmra', fontweight = 'bold')\n",
    "ax3.set_title('dec', fontweight = 'bold')\n",
    "ax4.set_title('pmdec', fontweight = 'bold')\n",
    "\n",
    "plt.subplots_adjust(wspace = 0.2, hspace = 0.5)\n"
   ]
  },
  {
   "cell_type": "code",
   "execution_count": null,
   "id": "dc7ecb5c-f2f7-41e2-a3b5-4bad358bee55",
   "metadata": {},
   "outputs": [],
   "source": [
    "len(clip), len(clip_loop)"
   ]
  },
  {
   "cell_type": "code",
   "execution_count": null,
   "id": "b835a2f6-78b1-480f-9773-4ade540df4a4",
   "metadata": {},
   "outputs": [],
   "source": [
    "plt.figure(figsize=(5,8))\n",
    "plt.scatter(clip_loop['bp_rp'],clip_loop['phot_g_mean_mag'])\n",
    "plt.gca().invert_yaxis()"
   ]
  },
  {
   "cell_type": "code",
   "execution_count": null,
   "id": "cbf165f0-9375-44af-887b-33306d57ffa7",
   "metadata": {},
   "outputs": [],
   "source": []
  },
  {
   "cell_type": "code",
   "execution_count": null,
   "id": "f24d84a5-a7d0-4c67-981e-212d07f7a343",
   "metadata": {},
   "outputs": [],
   "source": [
    "from astropy.coordinates import SkyCoord\n",
    "from astropy import units\n",
    "\n",
    "catalog = SkyCoord(ra=clip_loop['ra']*units.degree, dec=clip_loop['dec']*units.degree, frame='fk5')\n",
    "\n",
    "nstar = len(clip_loop)\n",
    "\n",
    "#.Definindo o vizinho apropriado para a abertura\n",
    "\n",
    "k = np.sqrt(nstar).astype(int)\n",
    "\n",
    "#.criando a estrutura de vizinhos proximos\n",
    "coords = np.array([clip_loop['ra']*np.cos(clip_loop['dec']*np.pi/180.0), clip_loop['dec']]).T\n",
    "nn_struct = NearestNeighbors(n_neighbors=k, algorithm='auto', metric='euclidean')\n",
    "nn_struct.fit(coords)\n",
    "distances, index = nn_struct.kneighbors(coords)\n",
    "             \n",
    "\n",
    "#.obtendo a distancia do k-esimo vizinho mais proximo\n",
    "aperture = distances[:,k-1]*units.degree\n",
    "area = np.pi*(aperture.value)**2# + area_cor(data, data.DEC, aperture.value)\n",
    "den_data = k/area\n",
    "den_sigm = np.sqrt(k)/area\n",
    "\n",
    "den_data /= 3600**2\n",
    "den_sigm /= 3600**2\n",
    "\n",
    "med_x = np.average(clip_loop['ra'], weights=den_data)\n",
    "std_x = np.average((clip_loop['ra']-med_x)**2, weights=den_data)**0.5\n",
    "\n",
    "med_y = np.average(clip_loop['dec'], weights=den_data)\n",
    "std_y = np.average((clip_loop['dec']-med_y)**2, weights=den_data)**0.5\n",
    "\n",
    "center = SkyCoord(med_x*units.degree, med_y*units.degree)\n",
    "radii = center.separation(catalog)\n",
    "radii = radii.to(units.arcsec).value\n",
    "\n",
    "\n",
    "import matplotlib.cm as cm\n",
    "cor = cm.get_cmap('jet')\n",
    "\n",
    "fig, ax = plt.subplots()#1,1,figsize=(10,11))\n",
    "ax.scatter(radii,den_data, s=(max(clip_loop['phot_g_mean_mag'])-clip_loop['phot_g_mean_mag'])*20, c=den_data/3600**2, cmap = cor, label='data')\n",
    "ax.set_xlabel('radius (arcsec)', fontsize=18, fontweight='bold')\n",
    "ax.set_ylabel('stellar density (arcsec$^{-2}$)', fontsize=18, fontweight='bold')\n",
    "\n"
   ]
  }
 ],
 "metadata": {
  "kernelspec": {
   "display_name": "Python 3",
   "language": "python",
   "name": "python3"
  },
  "language_info": {
   "codemirror_mode": {
    "name": "ipython",
    "version": 3
   },
   "file_extension": ".py",
   "mimetype": "text/x-python",
   "name": "python",
   "nbconvert_exporter": "python",
   "pygments_lexer": "ipython3",
   "version": "3.8.8"
  }
 },
 "nbformat": 4,
 "nbformat_minor": 5
}
