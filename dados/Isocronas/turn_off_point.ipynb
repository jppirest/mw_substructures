{
 "cells": [
  {
   "cell_type": "code",
   "execution_count": 1,
   "metadata": {},
   "outputs": [],
   "source": [
    "import matplotlib.pyplot as plt\n",
    "import numpy as np\n",
    "import pandas as pd\n",
    "from scipy.odr import * "
   ]
  },
  {
   "cell_type": "code",
   "execution_count": 2,
   "metadata": {},
   "outputs": [
    {
     "data": {
      "text/html": [
       "<div>\n",
       "<style scoped>\n",
       "    .dataframe tbody tr th:only-of-type {\n",
       "        vertical-align: middle;\n",
       "    }\n",
       "\n",
       "    .dataframe tbody tr th {\n",
       "        vertical-align: top;\n",
       "    }\n",
       "\n",
       "    .dataframe thead th {\n",
       "        text-align: right;\n",
       "    }\n",
       "</style>\n",
       "<table border=\"1\" class=\"dataframe\">\n",
       "  <thead>\n",
       "    <tr style=\"text-align: right;\">\n",
       "      <th></th>\n",
       "      <th>Full</th>\n",
       "      <th>log(Age)</th>\n",
       "      <th>M</th>\n",
       "      <th>log(Teff)</th>\n",
       "      <th>Mbol</th>\n",
       "      <th>Mv</th>\n",
       "      <th>(U-B)o</th>\n",
       "      <th>(B-V)o</th>\n",
       "      <th>(V-R)o</th>\n",
       "      <th>(V-I)o</th>\n",
       "      <th>(V-J)o</th>\n",
       "    </tr>\n",
       "  </thead>\n",
       "  <tbody>\n",
       "    <tr>\n",
       "      <th>6556</th>\n",
       "      <td>6557</td>\n",
       "      <td>6.6</td>\n",
       "      <td>51.8303</td>\n",
       "      <td>4.306</td>\n",
       "      <td>-9.88</td>\n",
       "      <td>-7.96</td>\n",
       "      <td>-0.88</td>\n",
       "      <td>-0.21</td>\n",
       "      <td>-0.09</td>\n",
       "      <td>-0.21</td>\n",
       "      <td>-0.51</td>\n",
       "    </tr>\n",
       "    <tr>\n",
       "      <th>6557</th>\n",
       "      <td>6558</td>\n",
       "      <td>6.6</td>\n",
       "      <td>51.8353</td>\n",
       "      <td>4.238</td>\n",
       "      <td>-9.89</td>\n",
       "      <td>-8.36</td>\n",
       "      <td>-0.81</td>\n",
       "      <td>-0.18</td>\n",
       "      <td>-0.06</td>\n",
       "      <td>-0.16</td>\n",
       "      <td>-0.42</td>\n",
       "    </tr>\n",
       "    <tr>\n",
       "      <th>6558</th>\n",
       "      <td>6559</td>\n",
       "      <td>6.6</td>\n",
       "      <td>51.8403</td>\n",
       "      <td>4.173</td>\n",
       "      <td>-9.90</td>\n",
       "      <td>-8.73</td>\n",
       "      <td>-0.69</td>\n",
       "      <td>-0.16</td>\n",
       "      <td>-0.05</td>\n",
       "      <td>-0.12</td>\n",
       "      <td>-0.33</td>\n",
       "    </tr>\n",
       "    <tr>\n",
       "      <th>6559</th>\n",
       "      <td>6560</td>\n",
       "      <td>6.6</td>\n",
       "      <td>51.8453</td>\n",
       "      <td>4.069</td>\n",
       "      <td>-9.92</td>\n",
       "      <td>-9.32</td>\n",
       "      <td>-0.44</td>\n",
       "      <td>-0.12</td>\n",
       "      <td>-0.02</td>\n",
       "      <td>-0.05</td>\n",
       "      <td>-0.19</td>\n",
       "    </tr>\n",
       "    <tr>\n",
       "      <th>6560</th>\n",
       "      <td>6561</td>\n",
       "      <td>6.6</td>\n",
       "      <td>51.8503</td>\n",
       "      <td>3.980</td>\n",
       "      <td>-9.93</td>\n",
       "      <td>-9.75</td>\n",
       "      <td>-0.21</td>\n",
       "      <td>-0.05</td>\n",
       "      <td>0.01</td>\n",
       "      <td>0.02</td>\n",
       "      <td>-0.02</td>\n",
       "    </tr>\n",
       "  </tbody>\n",
       "</table>\n",
       "</div>"
      ],
      "text/plain": [
       "      Full  log(Age)        M  log(Teff)  Mbol    Mv  (U-B)o  (B-V)o  (V-R)o  \\\n",
       "6556  6557       6.6  51.8303      4.306 -9.88 -7.96   -0.88   -0.21   -0.09   \n",
       "6557  6558       6.6  51.8353      4.238 -9.89 -8.36   -0.81   -0.18   -0.06   \n",
       "6558  6559       6.6  51.8403      4.173 -9.90 -8.73   -0.69   -0.16   -0.05   \n",
       "6559  6560       6.6  51.8453      4.069 -9.92 -9.32   -0.44   -0.12   -0.02   \n",
       "6560  6561       6.6  51.8503      3.980 -9.93 -9.75   -0.21   -0.05    0.01   \n",
       "\n",
       "      (V-I)o  (V-J)o  \n",
       "6556   -0.21   -0.51  \n",
       "6557   -0.16   -0.42  \n",
       "6558   -0.12   -0.33  \n",
       "6559   -0.05   -0.19  \n",
       "6560    0.02   -0.02  "
      ]
     },
     "execution_count": 2,
     "metadata": {},
     "output_type": "execute_result"
    }
   ],
   "source": [
    "data = pd.read_csv('isocro.csv', header = 0)\n",
    "data.tail()"
   ]
  },
  {
   "cell_type": "code",
   "execution_count": 3,
   "metadata": {},
   "outputs": [
    {
     "data": {
      "text/plain": [
       "array([10.3 , 10.28, 10.26, 10.24, 10.22, 10.2 , 10.18, 10.16, 10.14,\n",
       "       10.12, 10.1 , 10.08, 10.06, 10.04, 10.02, 10.  ,  9.9 ,  9.8 ,\n",
       "        9.7 ,  9.6 ,  9.5 ,  9.4 ,  9.3 ,  9.2 ,  9.1 ,  9.  ,  8.9 ,\n",
       "        8.8 ,  8.7 ,  8.6 ,  8.5 ,  8.4 ,  8.3 ,  8.2 ,  8.1 ,  8.  ,\n",
       "        7.9 ,  7.8 ,  7.7 ,  7.6 ,  7.5 ,  7.4 ,  7.3 ,  7.2 ,  7.1 ,\n",
       "        7.  ,  6.9 ,  6.8 ,  6.7 ,  6.6 ])"
      ]
     },
     "execution_count": 3,
     "metadata": {},
     "output_type": "execute_result"
    }
   ],
   "source": [
    "idades = data['log(Age)']\n",
    "age = np.array([])\n",
    "for element in idades:\n",
    "    if element in age:\n",
    "        continue\n",
    "    elif element not in age:\n",
    "        age = np.append(age,element)\n",
    "\n",
    "age"
   ]
  },
  {
   "cell_type": "code",
   "execution_count": 4,
   "metadata": {},
   "outputs": [
    {
     "data": {
      "text/plain": [
       "<matplotlib.collections.PathCollection at 0x7fb82f31da60>"
      ]
     },
     "execution_count": 4,
     "metadata": {},
     "output_type": "execute_result"
    },
    {
     "data": {
      "image/png": "[encoded data removed]",
      "text/plain": [
       "<Figure size 432x288 with 1 Axes>"
      ]
     },
     "metadata": {
      "needs_background": "light"
     },
     "output_type": "display_data"
    }
   ],
   "source": [
    "nova = data[data['log(Age)']==6.6]\n",
    "Mv = nova['Mv']\n",
    "x = nova['(B-V)o'] \n",
    "plt.gca().invert_yaxis()\n",
    "plt.scatter(x,Mv, color = 'none', edgecolor = 'blue')\n",
    "#plt.scatter(x, Mv,  c = x, cmap = 'bwr')\n",
    "#plt.plot(x,y, '--')"
   ]
  },
  {
   "cell_type": "code",
   "execution_count": 5,
   "metadata": {},
   "outputs": [
    {
     "data": {
      "image/png": "[encoded data removed]",
      "text/plain": [
       "<Figure size 720x432 with 1 Axes>"
      ]
     },
     "metadata": {
      "needs_background": "light"
     },
     "output_type": "display_data"
    }
   ],
   "source": [
    "lx = x.tolist()\n",
    "ly = Mv.tolist()\n",
    "\n",
    "i = 0\n",
    "index = 0\n",
    "\n",
    "for element in lx:\n",
    "    if i>= 1:\n",
    "        if lx[i-1] - element <0:\n",
    "            index = i-1\n",
    "            break\n",
    "    i+=1\n",
    "\n",
    "valor = lx[index]\n",
    "i = 0\n",
    "for element in lx:\n",
    "    if element == valor:\n",
    "        index = i\n",
    "        break\n",
    "    i+=1\n",
    "\n",
    "    \n",
    "plt.figure(figsize=(10,6))\n",
    "plt.gca().invert_yaxis()\n",
    "plt.scatter(lx[index], ly[index], color = 'red', zorder = 100)\n",
    "plt.scatter(x,Mv, color = 'none', edgecolor = 'blue');\n",
    "plt.scatter(lx[0], ly[0], color = 'green')\n",
    "plt.xlabel(r\"$(B-V)o$\")\n",
    "plt.ylabel(r\"$V$\");\n"
   ]
  },
  {
   "cell_type": "code",
   "execution_count": 6,
   "metadata": {},
   "outputs": [
    {
     "data": {
      "image/png": "[encoded data removed]",
      "text/plain": [
       "<Figure size 432x288 with 1 Axes>"
      ]
     },
     "metadata": {
      "needs_background": "light"
     },
     "output_type": "display_data"
    }
   ],
   "source": [
    "x1 = lx[:index]\n",
    "y1 = ly[:index]\n",
    "plt.gca().invert_yaxis()\n",
    "plt.scatter(x1,y1, color = 'blue')\n",
    "plt.scatter(lx[index:],ly[index:], color = 'none', edgecolor = 'black')\n",
    "plt.xlabel(r\"$(B-V)o$\")\n",
    "plt.ylabel(r\"$MV$\");"
   ]
  },
  {
   "cell_type": "code",
   "execution_count": 7,
   "metadata": {},
   "outputs": [
    {
     "data": {
      "text/plain": [
       "LinregressResult(slope=7.179665219143811, intercept=0.2672344492695206, rvalue=0.9432949557769484, pvalue=1.8427515564191363e-29, stderr=0.33175913769749055, intercept_stderr=0.1268127334650715)"
      ]
     },
     "execution_count": 7,
     "metadata": {},
     "output_type": "execute_result"
    }
   ],
   "source": [
    "from scipy import stats\n",
    "\n",
    "def linear_func(p, x):\n",
    "    m, c = p\n",
    "    return m*x + c\n",
    "\n",
    "result = stats.linregress(x1,y1)\n",
    "result"
   ]
  },
  {
   "cell_type": "code",
   "execution_count": 8,
   "metadata": {},
   "outputs": [],
   "source": [
    "x1 = np.asarray(x1)\n",
    "\n",
    "t_fit = np.linspace(x1.min(),x1.max(),len(x1))\n",
    "fit = linear_func([result.slope,result.intercept], t_fit) \n",
    "sigmay = np.sqrt((t_fit*result.stderr)**2 + (result.intercept_stderr)**2)\n"
   ]
  },
  {
   "cell_type": "code",
   "execution_count": 9,
   "metadata": {},
   "outputs": [],
   "source": [
    "xadj = []\n",
    "yadj = []\n",
    "\n",
    "count = 0\n",
    "\n",
    "\n",
    "ytentativa = result.slope*x1 + result.intercept\n",
    "\n",
    "for element in y1:\n",
    "    if ytentativa[count] + sigmay[count] >= element and ytentativa[count] - sigmay[count] <= element:\n",
    "        xadj.append(x1[count])\n",
    "        yadj.append(y1[count])\n",
    "    count+=1\n",
    "xadj = np.asarray(xadj)\n",
    "yadj = np.asarray(yadj)\n"
   ]
  },
  {
   "cell_type": "code",
   "execution_count": 10,
   "metadata": {},
   "outputs": [
    {
     "data": {
      "text/plain": [
       "(7.169176470588235, 0.25818274509803885)"
      ]
     },
     "execution_count": 10,
     "metadata": {},
     "output_type": "execute_result"
    }
   ],
   "source": [
    "vrau = stats.linregress(xadj,yadj)\n",
    "vrau.slope, vrau.intercept"
   ]
  },
  {
   "cell_type": "code",
   "execution_count": 11,
   "metadata": {},
   "outputs": [
    {
     "data": {
      "text/plain": [
       "[<matplotlib.lines.Line2D at 0x7fb82431f460>]"
      ]
     },
     "execution_count": 11,
     "metadata": {},
     "output_type": "execute_result"
    },
    {
     "data": {
      "image/png": "[encoded data removed]",
      "text/plain": [
       "<Figure size 720x432 with 1 Axes>"
      ]
     },
     "metadata": {
      "needs_background": "light"
     },
     "output_type": "display_data"
    }
   ],
   "source": [
    "plt.figure(figsize=(10,6))\n",
    "plt.gca().invert_yaxis()\n",
    "plt.plot(x1, result.slope*x1 + result.intercept, color = 'black')\n",
    "plt.scatter(x1,y1, color = 'none', edgecolor = 'red')\n",
    "plt.fill_between(t_fit,fit + sigmay, fit - sigmay, alpha = 0.25)\n",
    "plt.plot(t_fit,t_fit*vrau.slope + vrau.intercept, color = 'blue')"
   ]
  },
  {
   "cell_type": "code",
   "execution_count": 13,
   "metadata": {},
   "outputs": [
    {
     "data": {
      "text/plain": [
       "(6, 111)"
      ]
     },
     "execution_count": 13,
     "metadata": {},
     "output_type": "execute_result"
    }
   ],
   "source": [
    "len(xadj),len(x)"
   ]
  },
  {
   "cell_type": "code",
   "execution_count": null,
   "metadata": {},
   "outputs": [],
   "source": []
  }
 ],
 "metadata": {
  "kernelspec": {
   "display_name": "Python 3",
   "language": "python",
   "name": "python3"
  },
  "language_info": {
   "codemirror_mode": {
    "name": "ipython",
    "version": 3
   },
   "file_extension": ".py",
   "mimetype": "text/x-python",
   "name": "python",
   "nbconvert_exporter": "python",
   "pygments_lexer": "ipython3",
   "version": "3.8.8"
  }
 },
 "nbformat": 4,
 "nbformat_minor": 4
}
