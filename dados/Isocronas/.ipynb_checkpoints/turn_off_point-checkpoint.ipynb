{
 "cells": [
  {
   "cell_type": "code",
   "execution_count": 1,
   "metadata": {},
   "outputs": [],
   "source": [
    "import matplotlib.pyplot as plt\n",
    "import numpy as np\n",
    "import pandas as pd\n",
    "from scipy.odr import * "
   ]
  },
  {
   "cell_type": "code",
   "execution_count": 2,
   "metadata": {},
   "outputs": [
    {
     "data": {
      "text/html": [
       "<div>\n",
       "<style scoped>\n",
       "    .dataframe tbody tr th:only-of-type {\n",
       "        vertical-align: middle;\n",
       "    }\n",
       "\n",
       "    .dataframe tbody tr th {\n",
       "        vertical-align: top;\n",
       "    }\n",
       "\n",
       "    .dataframe thead th {\n",
       "        text-align: right;\n",
       "    }\n",
       "</style>\n",
       "<table border=\"1\" class=\"dataframe\">\n",
       "  <thead>\n",
       "    <tr style=\"text-align: right;\">\n",
       "      <th></th>\n",
       "      <th>Full</th>\n",
       "      <th>log(Age)</th>\n",
       "      <th>M</th>\n",
       "      <th>log(Teff)</th>\n",
       "      <th>Mbol</th>\n",
       "      <th>Mv</th>\n",
       "      <th>(U-B)o</th>\n",
       "      <th>(B-V)o</th>\n",
       "      <th>(V-R)o</th>\n",
       "      <th>(V-I)o</th>\n",
       "      <th>(V-J)o</th>\n",
       "    </tr>\n",
       "  </thead>\n",
       "  <tbody>\n",
       "    <tr>\n",
       "      <th>6556</th>\n",
       "      <td>6557</td>\n",
       "      <td>6.6</td>\n",
       "      <td>51.8303</td>\n",
       "      <td>4.306</td>\n",
       "      <td>-9.88</td>\n",
       "      <td>-7.96</td>\n",
       "      <td>-0.88</td>\n",
       "      <td>-0.21</td>\n",
       "      <td>-0.09</td>\n",
       "      <td>-0.21</td>\n",
       "      <td>-0.51</td>\n",
       "    </tr>\n",
       "    <tr>\n",
       "      <th>6557</th>\n",
       "      <td>6558</td>\n",
       "      <td>6.6</td>\n",
       "      <td>51.8353</td>\n",
       "      <td>4.238</td>\n",
       "      <td>-9.89</td>\n",
       "      <td>-8.36</td>\n",
       "      <td>-0.81</td>\n",
       "      <td>-0.18</td>\n",
       "      <td>-0.06</td>\n",
       "      <td>-0.16</td>\n",
       "      <td>-0.42</td>\n",
       "    </tr>\n",
       "    <tr>\n",
       "      <th>6558</th>\n",
       "      <td>6559</td>\n",
       "      <td>6.6</td>\n",
       "      <td>51.8403</td>\n",
       "      <td>4.173</td>\n",
       "      <td>-9.90</td>\n",
       "      <td>-8.73</td>\n",
       "      <td>-0.69</td>\n",
       "      <td>-0.16</td>\n",
       "      <td>-0.05</td>\n",
       "      <td>-0.12</td>\n",
       "      <td>-0.33</td>\n",
       "    </tr>\n",
       "    <tr>\n",
       "      <th>6559</th>\n",
       "      <td>6560</td>\n",
       "      <td>6.6</td>\n",
       "      <td>51.8453</td>\n",
       "      <td>4.069</td>\n",
       "      <td>-9.92</td>\n",
       "      <td>-9.32</td>\n",
       "      <td>-0.44</td>\n",
       "      <td>-0.12</td>\n",
       "      <td>-0.02</td>\n",
       "      <td>-0.05</td>\n",
       "      <td>-0.19</td>\n",
       "    </tr>\n",
       "    <tr>\n",
       "      <th>6560</th>\n",
       "      <td>6561</td>\n",
       "      <td>6.6</td>\n",
       "      <td>51.8503</td>\n",
       "      <td>3.980</td>\n",
       "      <td>-9.93</td>\n",
       "      <td>-9.75</td>\n",
       "      <td>-0.21</td>\n",
       "      <td>-0.05</td>\n",
       "      <td>0.01</td>\n",
       "      <td>0.02</td>\n",
       "      <td>-0.02</td>\n",
       "    </tr>\n",
       "  </tbody>\n",
       "</table>\n",
       "</div>"
      ],
      "text/plain": [
       "      Full  log(Age)        M  log(Teff)  Mbol    Mv  (U-B)o  (B-V)o  (V-R)o  \\\n",
       "6556  6557       6.6  51.8303      4.306 -9.88 -7.96   -0.88   -0.21   -0.09   \n",
       "6557  6558       6.6  51.8353      4.238 -9.89 -8.36   -0.81   -0.18   -0.06   \n",
       "6558  6559       6.6  51.8403      4.173 -9.90 -8.73   -0.69   -0.16   -0.05   \n",
       "6559  6560       6.6  51.8453      4.069 -9.92 -9.32   -0.44   -0.12   -0.02   \n",
       "6560  6561       6.6  51.8503      3.980 -9.93 -9.75   -0.21   -0.05    0.01   \n",
       "\n",
       "      (V-I)o  (V-J)o  \n",
       "6556   -0.21   -0.51  \n",
       "6557   -0.16   -0.42  \n",
       "6558   -0.12   -0.33  \n",
       "6559   -0.05   -0.19  \n",
       "6560    0.02   -0.02  "
      ]
     },
     "execution_count": 2,
     "metadata": {},
     "output_type": "execute_result"
    }
   ],
   "source": [
    "data = pd.read_csv('isocro.csv', header = 0)\n",
    "data.tail()"
   ]
  },
  {
   "cell_type": "code",
   "execution_count": 3,
   "metadata": {},
   "outputs": [
    {
     "data": {
      "text/plain": [
       "array([10.3 , 10.28, 10.26, 10.24, 10.22, 10.2 , 10.18, 10.16, 10.14,\n",
       "       10.12, 10.1 , 10.08, 10.06, 10.04, 10.02, 10.  ,  9.9 ,  9.8 ,\n",
       "        9.7 ,  9.6 ,  9.5 ,  9.4 ,  9.3 ,  9.2 ,  9.1 ,  9.  ,  8.9 ,\n",
       "        8.8 ,  8.7 ,  8.6 ,  8.5 ,  8.4 ,  8.3 ,  8.2 ,  8.1 ,  8.  ,\n",
       "        7.9 ,  7.8 ,  7.7 ,  7.6 ,  7.5 ,  7.4 ,  7.3 ,  7.2 ,  7.1 ,\n",
       "        7.  ,  6.9 ,  6.8 ,  6.7 ,  6.6 ])"
      ]
     },
     "execution_count": 3,
     "metadata": {},
     "output_type": "execute_result"
    }
   ],
   "source": [
    "idades = data['log(Age)']\n",
    "age = np.array([])\n",
    "for element in idades:\n",
    "    if element in age:\n",
    "        continue\n",
    "    elif element not in age:\n",
    "        age = np.append(age,element)\n",
    "\n",
    "age"
   ]
  },
  {
   "cell_type": "code",
   "execution_count": 4,
   "metadata": {},
   "outputs": [
    {
     "data": {
      "text/plain": [
       "<matplotlib.collections.PathCollection at 0x7f8e9e4e5a60>"
      ]
     },
     "execution_count": 4,
     "metadata": {},
     "output_type": "execute_result"
    },
    {
     "data": {
      "image/png": "[encoded data removed]",
      "text/plain": [
       "<Figure size 432x288 with 1 Axes>"
      ]
     },
     "metadata": {
      "needs_background": "light"
     },
     "output_type": "display_data"
    }
   ],
   "source": [
    "nova = data[data['log(Age)']==8.7]\n",
    "Mv = nova['Mv']\n",
    "x = nova['(B-V)o'] \n",
    "plt.gca().invert_yaxis()\n",
    "plt.scatter(x,Mv, color = 'none', edgecolor = 'blue')\n",
    "#plt.plot(x,y, '--')"
   ]
  },
  {
   "cell_type": "code",
   "execution_count": 5,
   "metadata": {},
   "outputs": [
    {
     "data": {
      "image/png": "[encoded data removed]",
      "text/plain": [
       "<Figure size 432x288 with 1 Axes>"
      ]
     },
     "metadata": {
      "needs_background": "light"
     },
     "output_type": "display_data"
    }
   ],
   "source": [
    "lx = x.tolist()\n",
    "ly = Mv.tolist()\n",
    "\n",
    "i = 0\n",
    "index = 0\n",
    "\n",
    "for element in lx:\n",
    "    if i>= 1:\n",
    "        if lx[i-1] - element <0:\n",
    "            index = i-1\n",
    "            break\n",
    "    i+=1\n",
    "\n",
    "valor = lx[index]\n",
    "i = 0\n",
    "for element in lx:\n",
    "    if element == valor:\n",
    "        index = i\n",
    "        break\n",
    "    i+=1\n",
    "\n",
    "plt.gca().invert_yaxis()\n",
    "plt.scatter(lx[index], ly[index], color = 'red', zorder = 100)\n",
    "plt.scatter(x,Mv, color = 'none', edgecolor = 'blue');\n",
    "plt.scatter(lx[0], ly[0], color = 'green')\n",
    "plt.xlabel(r\"$(B-V)o$\")\n",
    "plt.ylabel(r\"$V$\");\n"
   ]
  },
  {
   "cell_type": "code",
   "execution_count": 6,
   "metadata": {},
   "outputs": [
    {
     "data": {
      "image/png": "[encoded data removed]",
      "text/plain": [
       "<Figure size 432x288 with 1 Axes>"
      ]
     },
     "metadata": {
      "needs_background": "light"
     },
     "output_type": "display_data"
    }
   ],
   "source": [
    "x1 = lx[:index]\n",
    "y1 = ly[:index]\n",
    "plt.gca().invert_yaxis()\n",
    "plt.scatter(x1,y1, color = 'blue')\n",
    "plt.scatter(lx[index:],ly[index:], color = 'none', edgecolor = 'black')\n",
    "plt.xlabel(r\"$(B-V)o$\")\n",
    "plt.ylabel(r\"$V$\");"
   ]
  },
  {
   "cell_type": "code",
   "execution_count": 7,
   "metadata": {},
   "outputs": [],
   "source": [
    "from scipy import stats\n",
    "\n",
    "result = stats.linregress(x1,y1)\n"
   ]
  },
  {
   "cell_type": "code",
   "execution_count": 8,
   "metadata": {},
   "outputs": [],
   "source": [
    "coef = np.array([result.slope,result.intercept])\n",
    "error = np.array([result.stderr, result.intercept_stderr])"
   ]
  },
  {
   "cell_type": "code",
   "execution_count": 9,
   "metadata": {},
   "outputs": [],
   "source": [
    "sigma = 1\n",
    "up = coef + sigma*error\n",
    "down = coef - sigma*error\n",
    "\n",
    "x1 = np.asarray(x1)\n",
    "def linear_func(p, x):\n",
    "    m, c = p\n",
    "    return m*x + c\n",
    "\n",
    "tfit = np.linspace(x1.min(),x1.max(),len(x1))\n",
    "\n",
    "fitup = linear_func(up,tfit)\n",
    "fitdown = linear_func(down,tfit)\n",
    "\n"
   ]
  },
  {
   "cell_type": "code",
   "execution_count": 10,
   "metadata": {},
   "outputs": [],
   "source": [
    "mup, bup = up[0],up[1]\n",
    "mdw, bdw = down[0], down[1]\n",
    "\n",
    "xadj = []\n",
    "yadj = []\n",
    "\n",
    "for a,b in zip(x1,y1):\n",
    "    if (a*mup + bup) >= b and (a*mdw + bdw) <= b:\n",
    "        xadj.append(a)\n",
    "        yadj.append(b)\n",
    "xadj =np.asarray(xadj)\n",
    "yadj = np.asarray(yadj)"
   ]
  },
  {
   "cell_type": "code",
   "execution_count": 11,
   "metadata": {},
   "outputs": [
    {
     "data": {
      "text/plain": [
       "(5.729506671534393, 0.9775099454736025)"
      ]
     },
     "execution_count": 11,
     "metadata": {},
     "output_type": "execute_result"
    }
   ],
   "source": [
    "vrau = stats.linregress(xadj,yadj)\n",
    "vrau.slope, vrau.intercept"
   ]
  },
  {
   "cell_type": "code",
   "execution_count": 12,
   "metadata": {},
   "outputs": [
    {
     "data": {
      "text/plain": [
       "[<matplotlib.lines.Line2D at 0x7f8e8d4c1c10>]"
      ]
     },
     "execution_count": 12,
     "metadata": {},
     "output_type": "execute_result"
    },
    {
     "data": {
      "image/png": "[encoded data removed]",
      "text/plain": [
       "<Figure size 432x288 with 1 Axes>"
      ]
     },
     "metadata": {
      "needs_background": "light"
     },
     "output_type": "display_data"
    }
   ],
   "source": [
    "plt.gca().invert_yaxis()\n",
    "plt.plot(x1, result.slope*x1 + result.intercept, color = 'red')\n",
    "plt.scatter(x1,y1, color = 'none', edgecolor = 'blue')\n",
    "plt.fill_between(tfit,fitup,fitdown, alpha = 0.25)\n",
    "plt.plot(tfit,tfit*vrau.slope + vrau.intercept)"
   ]
  },
  {
   "cell_type": "code",
   "execution_count": 13,
   "metadata": {},
   "outputs": [
    {
     "data": {
      "text/plain": [
       "(28, 18)"
      ]
     },
     "execution_count": 13,
     "metadata": {},
     "output_type": "execute_result"
    }
   ],
   "source": [
    "len(x1),len(xadj)"
   ]
  },
  {
   "cell_type": "code",
   "execution_count": 14,
   "metadata": {},
   "outputs": [
    {
     "data": {
      "text/html": [
       "<div>\n",
       "<style scoped>\n",
       "    .dataframe tbody tr th:only-of-type {\n",
       "        vertical-align: middle;\n",
       "    }\n",
       "\n",
       "    .dataframe tbody tr th {\n",
       "        vertical-align: top;\n",
       "    }\n",
       "\n",
       "    .dataframe thead th {\n",
       "        text-align: right;\n",
       "    }\n",
       "</style>\n",
       "<table border=\"1\" class=\"dataframe\">\n",
       "  <thead>\n",
       "    <tr style=\"text-align: right;\">\n",
       "      <th></th>\n",
       "      <th>Age</th>\n",
       "      <th>Slope</th>\n",
       "      <th>Intercept</th>\n",
       "      <th>Slope_Error</th>\n",
       "      <th>Intercept_Error</th>\n",
       "      <th>R_Value</th>\n",
       "      <th>(B-V)TurnOff</th>\n",
       "      <th>MvTurnOff</th>\n",
       "      <th>Ajustadas/Total</th>\n",
       "    </tr>\n",
       "  </thead>\n",
       "  <tbody>\n",
       "    <tr>\n",
       "      <th>45</th>\n",
       "      <td>7.0</td>\n",
       "      <td>6.321589</td>\n",
       "      <td>0.685661</td>\n",
       "      <td>0.123018</td>\n",
       "      <td>0.079235</td>\n",
       "      <td>0.998677</td>\n",
       "      <td>-0.25</td>\n",
       "      <td>-2.74</td>\n",
       "      <td>0.140625= 9/64</td>\n",
       "    </tr>\n",
       "    <tr>\n",
       "      <th>46</th>\n",
       "      <td>6.9</td>\n",
       "      <td>6.893209</td>\n",
       "      <td>0.395775</td>\n",
       "      <td>0.146282</td>\n",
       "      <td>0.073895</td>\n",
       "      <td>0.999101</td>\n",
       "      <td>-0.27</td>\n",
       "      <td>-3.52</td>\n",
       "      <td>0.10344827586206896= 6/58</td>\n",
       "    </tr>\n",
       "    <tr>\n",
       "      <th>47</th>\n",
       "      <td>6.8</td>\n",
       "      <td>7.062849</td>\n",
       "      <td>0.292598</td>\n",
       "      <td>0.240770</td>\n",
       "      <td>0.131989</td>\n",
       "      <td>0.998261</td>\n",
       "      <td>-0.28</td>\n",
       "      <td>-3.94</td>\n",
       "      <td>0.0847457627118644= 5/59</td>\n",
       "    </tr>\n",
       "    <tr>\n",
       "      <th>48</th>\n",
       "      <td>6.7</td>\n",
       "      <td>7.211747</td>\n",
       "      <td>0.202102</td>\n",
       "      <td>0.263410</td>\n",
       "      <td>0.144598</td>\n",
       "      <td>0.998005</td>\n",
       "      <td>-0.29</td>\n",
       "      <td>-4.32</td>\n",
       "      <td>0.08064516129032258= 5/62</td>\n",
       "    </tr>\n",
       "    <tr>\n",
       "      <th>49</th>\n",
       "      <td>6.6</td>\n",
       "      <td>7.086863</td>\n",
       "      <td>0.278147</td>\n",
       "      <td>0.163941</td>\n",
       "      <td>0.083237</td>\n",
       "      <td>0.998931</td>\n",
       "      <td>-0.29</td>\n",
       "      <td>-3.90</td>\n",
       "      <td>0.1= 6/60</td>\n",
       "    </tr>\n",
       "  </tbody>\n",
       "</table>\n",
       "</div>"
      ],
      "text/plain": [
       "    Age     Slope  Intercept  Slope_Error  Intercept_Error   R_Value  \\\n",
       "45  7.0  6.321589   0.685661     0.123018         0.079235  0.998677   \n",
       "46  6.9  6.893209   0.395775     0.146282         0.073895  0.999101   \n",
       "47  6.8  7.062849   0.292598     0.240770         0.131989  0.998261   \n",
       "48  6.7  7.211747   0.202102     0.263410         0.144598  0.998005   \n",
       "49  6.6  7.086863   0.278147     0.163941         0.083237  0.998931   \n",
       "\n",
       "    (B-V)TurnOff  MvTurnOff             Ajustadas/Total  \n",
       "45         -0.25      -2.74              0.140625= 9/64  \n",
       "46         -0.27      -3.52   0.10344827586206896= 6/58  \n",
       "47         -0.28      -3.94    0.0847457627118644= 5/59  \n",
       "48         -0.29      -4.32   0.08064516129032258= 5/62  \n",
       "49         -0.29      -3.90                   0.1= 6/60  "
      ]
     },
     "execution_count": 14,
     "metadata": {},
     "output_type": "execute_result"
    }
   ],
   "source": [
    "vapo = pd.read_csv('Regression_Iso.txt', header = 0)\n",
    "vapo.tail()"
   ]
  },
  {
   "cell_type": "code",
   "execution_count": 15,
   "metadata": {},
   "outputs": [
    {
     "data": {
      "text/plain": [
       "(0.06, 0.79)"
      ]
     },
     "execution_count": 15,
     "metadata": {},
     "output_type": "execute_result"
    }
   ],
   "source": [
    "lx[index],ly[index]"
   ]
  },
  {
   "cell_type": "code",
   "execution_count": null,
   "metadata": {},
   "outputs": [],
   "source": []
  }
 ],
 "metadata": {
  "kernelspec": {
   "display_name": "Python 3",
   "language": "python",
   "name": "python3"
  },
  "language_info": {
   "codemirror_mode": {
    "name": "ipython",
    "version": 3
   },
   "file_extension": ".py",
   "mimetype": "text/x-python",
   "name": "python",
   "nbconvert_exporter": "python",
   "pygments_lexer": "ipython3",
   "version": "3.8.8"
  }
 },
 "nbformat": 4,
 "nbformat_minor": 4
}
