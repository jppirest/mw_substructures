{
 "cells": [
  {
   "cell_type": "code",
   "execution_count": 1,
   "id": "6ccff5a2-bf24-48e1-bb50-f42b4c80fbd0",
   "metadata": {},
   "outputs": [],
   "source": [
    "import matplotlib.pyplot as plt\n",
    "import numpy as np\n",
    "import pandas as pd"
   ]
  },
  {
   "cell_type": "code",
   "execution_count": 3,
   "id": "25ff320f-9f87-4a88-9537-3cfd3256bd75",
   "metadata": {},
   "outputs": [],
   "source": [
    "isocronas = pd.read_csv('../Isocronas/Regression_Iso.txt', header = 0)"
   ]
  },
  {
   "cell_type": "code",
   "execution_count": 176,
   "id": "ee2ecb8c-1a41-4762-a13d-f6f70ab479b1",
   "metadata": {},
   "outputs": [],
   "source": [
    "from scipy.interpolate import interp1d"
   ]
  },
  {
   "cell_type": "code",
   "execution_count": 184,
   "id": "09492cee-b0b7-4506-bc2a-115dbe3a6fa7",
   "metadata": {},
   "outputs": [
    {
     "data": {
      "text/plain": [
       "Text(0.5, 0, '(B-V)o TurnOff')"
      ]
     },
     "execution_count": 184,
     "metadata": {},
     "output_type": "execute_result"
    },
    {
     "data": {
      "image/png": "[encoded data removed]",
      "text/plain": [
       "<Figure size 720x576 with 1 Axes>"
      ]
     },
     "metadata": {
      "needs_background": "light"
     },
     "output_type": "display_data"
    }
   ],
   "source": [
    "f1 = interp1d(data['(B-V)TurnOff'],  data['Age'],kind= 'linear')\n",
    "plt.rc('xtick', labelsize=13) \n",
    "plt.rc('ytick', labelsize=13) \n",
    "\n",
    "\n",
    "font = {'family' : 'sans-serif',\n",
    "        'weight' : 'normal',\n",
    "        'size'   : 13}\n",
    "\n",
    "plt.rc('font', **font)\n",
    "\n",
    "fig,ax = plt.subplots(figsize=(10,8))\n",
    "plt.gca().invert_yaxis()\n",
    "\n",
    "interpol_colour = np.linspace(data['(B-V)TurnOff'].min(),data['(B-V)TurnOff'].max(),100)\n",
    "plt.plot(interpol_colour,f1(interpol_colour))\n",
    "plt.scatter(data['(B-V)TurnOff'], data['Age'], color = 'none', edgecolor = 'red')\n",
    "plt.ylabel('log(Age)')\n",
    "plt.xlabel('(B-V)o TurnOff')\n"
   ]
  },
  {
   "cell_type": "markdown",
   "id": "5094646c-66dd-44e5-aa0c-9ac5be95b565",
   "metadata": {},
   "source": [
    "## Aglomerado 1, E(B-V)=0.1"
   ]
  },
  {
   "cell_type": "code",
   "execution_count": 57,
   "id": "ab2cc18c-5e56-482a-b2d9-edc79af5957e",
   "metadata": {},
   "outputs": [
    {
     "data": {
      "text/html": [
       "<div>\n",
       "<style scoped>\n",
       "    .dataframe tbody tr th:only-of-type {\n",
       "        vertical-align: middle;\n",
       "    }\n",
       "\n",
       "    .dataframe tbody tr th {\n",
       "        vertical-align: top;\n",
       "    }\n",
       "\n",
       "    .dataframe thead th {\n",
       "        text-align: right;\n",
       "    }\n",
       "</style>\n",
       "<table border=\"1\" class=\"dataframe\">\n",
       "  <thead>\n",
       "    <tr style=\"text-align: right;\">\n",
       "      <th></th>\n",
       "      <th>Slope</th>\n",
       "      <th>Intercept</th>\n",
       "      <th>Slope_Error</th>\n",
       "      <th>Intercept_Error</th>\n",
       "      <th>TurnOffColor</th>\n",
       "    </tr>\n",
       "  </thead>\n",
       "  <tbody>\n",
       "    <tr>\n",
       "      <th>0</th>\n",
       "      <td>5.164931</td>\n",
       "      <td>6.893856</td>\n",
       "      <td>0.057215</td>\n",
       "      <td>0.047736</td>\n",
       "      <td>-0.157596</td>\n",
       "    </tr>\n",
       "  </tbody>\n",
       "</table>\n",
       "</div>"
      ],
      "text/plain": [
       "      Slope   Intercept   Slope_Error   Intercept_Error  TurnOffColor \n",
       "0  5.164931    6.893856      0.057215          0.047736      -0.157596"
      ]
     },
     "execution_count": 57,
     "metadata": {},
     "output_type": "execute_result"
    }
   ],
   "source": [
    "ag1 = pd.read_csv('LinearRegressAG1.txt', header = 0)\n",
    "ag1.head()"
   ]
  },
  {
   "cell_type": "code",
   "execution_count": 101,
   "id": "91b148bd-7597-4d03-8156-4e599f69a6a2",
   "metadata": {},
   "outputs": [
    {
     "data": {
      "text/plain": [
       "array([7.0240387])"
      ]
     },
     "execution_count": 101,
     "metadata": {},
     "output_type": "execute_result"
    }
   ],
   "source": [
    "idade1 = f1(ag1['TurnOffColor ']-0.1)\n",
    "idade1"
   ]
  },
  {
   "cell_type": "code",
   "execution_count": 103,
   "id": "ed0b3388-0e7c-4d8d-aa02-5c8f6875cccf",
   "metadata": {},
   "outputs": [
    {
     "data": {
      "text/html": [
       "<div>\n",
       "<style scoped>\n",
       "    .dataframe tbody tr th:only-of-type {\n",
       "        vertical-align: middle;\n",
       "    }\n",
       "\n",
       "    .dataframe tbody tr th {\n",
       "        vertical-align: top;\n",
       "    }\n",
       "\n",
       "    .dataframe thead th {\n",
       "        text-align: right;\n",
       "    }\n",
       "</style>\n",
       "<table border=\"1\" class=\"dataframe\">\n",
       "  <thead>\n",
       "    <tr style=\"text-align: right;\">\n",
       "      <th></th>\n",
       "      <th>Age</th>\n",
       "      <th>Slope</th>\n",
       "      <th>Intercept</th>\n",
       "      <th>Slope_Error</th>\n",
       "      <th>Intercept_Error</th>\n",
       "      <th>R_Value</th>\n",
       "      <th>(B-V)TurnOff</th>\n",
       "      <th>MvTurnOff</th>\n",
       "      <th>Ajustadas/Total</th>\n",
       "    </tr>\n",
       "  </thead>\n",
       "  <tbody>\n",
       "    <tr>\n",
       "      <th>45</th>\n",
       "      <td>7.0</td>\n",
       "      <td>6.443027</td>\n",
       "      <td>0.581311</td>\n",
       "      <td>0.067584</td>\n",
       "      <td>0.0336</td>\n",
       "      <td>0.999615</td>\n",
       "      <td>-0.25</td>\n",
       "      <td>-2.74</td>\n",
       "      <td>0.140625= 9/64</td>\n",
       "    </tr>\n",
       "  </tbody>\n",
       "</table>\n",
       "</div>"
      ],
      "text/plain": [
       "    Age     Slope  Intercept  Slope_Error  Intercept_Error   R_Value  \\\n",
       "45  7.0  6.443027   0.581311     0.067584           0.0336  0.999615   \n",
       "\n",
       "    (B-V)TurnOff  MvTurnOff  Ajustadas/Total  \n",
       "45         -0.25      -2.74   0.140625= 9/64  "
      ]
     },
     "execution_count": 103,
     "metadata": {},
     "output_type": "execute_result"
    }
   ],
   "source": [
    "isocro1 = isocronas[isocronas['Age'] ==7.0]\n",
    "isocro1"
   ]
  },
  {
   "cell_type": "code",
   "execution_count": 169,
   "id": "693a4058-2333-4131-8ba6-f535d01c7e6e",
   "metadata": {},
   "outputs": [
    {
     "data": {
      "text/plain": [
       "201.28331271475483"
      ]
     },
     "execution_count": 169,
     "metadata": {},
     "output_type": "execute_result"
    }
   ],
   "source": [
    "def distancia(a,b,b0,E):\n",
    "    return 10**((a*E + (b-b0) - E*3.1 + 5 )/5)\n",
    "\n",
    "d1 = distancia(ag1['Slope'].item(),ag1[' Intercept'].item(), isocro1['Intercept'].item(),0.1)\n",
    "d1"
   ]
  },
  {
   "cell_type": "code",
   "execution_count": 138,
   "id": "3341955a-740d-43e7-a3a4-c553b212d7eb",
   "metadata": {},
   "outputs": [
    {
     "data": {
      "text/html": [
       "<div>\n",
       "<style scoped>\n",
       "    .dataframe tbody tr th:only-of-type {\n",
       "        vertical-align: middle;\n",
       "    }\n",
       "\n",
       "    .dataframe tbody tr th {\n",
       "        vertical-align: top;\n",
       "    }\n",
       "\n",
       "    .dataframe thead th {\n",
       "        text-align: right;\n",
       "    }\n",
       "</style>\n",
       "<table border=\"1\" class=\"dataframe\">\n",
       "  <thead>\n",
       "    <tr style=\"text-align: right;\">\n",
       "      <th></th>\n",
       "      <th>B-V</th>\n",
       "      <th>V</th>\n",
       "    </tr>\n",
       "  </thead>\n",
       "  <tbody>\n",
       "    <tr>\n",
       "      <th>0</th>\n",
       "      <td>0.820441</td>\n",
       "      <td>10.900357</td>\n",
       "    </tr>\n",
       "    <tr>\n",
       "      <th>1</th>\n",
       "      <td>-0.033763</td>\n",
       "      <td>6.542515</td>\n",
       "    </tr>\n",
       "    <tr>\n",
       "      <th>2</th>\n",
       "      <td>1.692215</td>\n",
       "      <td>14.662077</td>\n",
       "    </tr>\n",
       "    <tr>\n",
       "      <th>3</th>\n",
       "      <td>0.803042</td>\n",
       "      <td>15.521706</td>\n",
       "    </tr>\n",
       "    <tr>\n",
       "      <th>4</th>\n",
       "      <td>0.559854</td>\n",
       "      <td>9.774405</td>\n",
       "    </tr>\n",
       "  </tbody>\n",
       "</table>\n",
       "</div>"
      ],
      "text/plain": [
       "        B-V          V\n",
       "0  0.820441  10.900357\n",
       "1 -0.033763   6.542515\n",
       "2  1.692215  14.662077\n",
       "3  0.803042  15.521706\n",
       "4  0.559854   9.774405"
      ]
     },
     "execution_count": 138,
     "metadata": {},
     "output_type": "execute_result"
    }
   ],
   "source": [
    "i1 = pd.read_csv('ag1.txt',header = 0)\n",
    "i1.head()"
   ]
  },
  {
   "cell_type": "code",
   "execution_count": 149,
   "id": "41dfbd3f-f1f2-4855-befd-7a5ad0980188",
   "metadata": {},
   "outputs": [
    {
     "data": {
      "text/html": [
       "<div>\n",
       "<style scoped>\n",
       "    .dataframe tbody tr th:only-of-type {\n",
       "        vertical-align: middle;\n",
       "    }\n",
       "\n",
       "    .dataframe tbody tr th {\n",
       "        vertical-align: top;\n",
       "    }\n",
       "\n",
       "    .dataframe thead th {\n",
       "        text-align: right;\n",
       "    }\n",
       "</style>\n",
       "<table border=\"1\" class=\"dataframe\">\n",
       "  <thead>\n",
       "    <tr style=\"text-align: right;\">\n",
       "      <th></th>\n",
       "      <th>Full</th>\n",
       "      <th>log(Age)</th>\n",
       "      <th>M</th>\n",
       "      <th>log(Teff)</th>\n",
       "      <th>Mbol</th>\n",
       "      <th>Mv</th>\n",
       "      <th>(U-B)o</th>\n",
       "      <th>(B-V)o</th>\n",
       "      <th>(V-R)o</th>\n",
       "      <th>(V-I)o</th>\n",
       "      <th>(V-J)o</th>\n",
       "    </tr>\n",
       "  </thead>\n",
       "  <tbody>\n",
       "    <tr>\n",
       "      <th>5944</th>\n",
       "      <td>5945</td>\n",
       "      <td>7.0</td>\n",
       "      <td>0.6000</td>\n",
       "      <td>3.585</td>\n",
       "      <td>7.81</td>\n",
       "      <td>8.89</td>\n",
       "      <td>1.15</td>\n",
       "      <td>1.38</td>\n",
       "      <td>0.89</td>\n",
       "      <td>1.74</td>\n",
       "      <td>2.66</td>\n",
       "    </tr>\n",
       "    <tr>\n",
       "      <th>5945</th>\n",
       "      <td>5946</td>\n",
       "      <td>7.0</td>\n",
       "      <td>0.6500</td>\n",
       "      <td>3.608</td>\n",
       "      <td>7.43</td>\n",
       "      <td>8.38</td>\n",
       "      <td>1.04</td>\n",
       "      <td>1.31</td>\n",
       "      <td>0.82</td>\n",
       "      <td>1.53</td>\n",
       "      <td>2.49</td>\n",
       "    </tr>\n",
       "    <tr>\n",
       "      <th>5946</th>\n",
       "      <td>5947</td>\n",
       "      <td>7.0</td>\n",
       "      <td>0.7000</td>\n",
       "      <td>3.632</td>\n",
       "      <td>7.06</td>\n",
       "      <td>7.80</td>\n",
       "      <td>0.97</td>\n",
       "      <td>1.21</td>\n",
       "      <td>0.76</td>\n",
       "      <td>1.38</td>\n",
       "      <td>2.24</td>\n",
       "    </tr>\n",
       "    <tr>\n",
       "      <th>5947</th>\n",
       "      <td>5948</td>\n",
       "      <td>7.0</td>\n",
       "      <td>0.7500</td>\n",
       "      <td>3.653</td>\n",
       "      <td>6.71</td>\n",
       "      <td>7.30</td>\n",
       "      <td>0.86</td>\n",
       "      <td>1.11</td>\n",
       "      <td>0.69</td>\n",
       "      <td>1.25</td>\n",
       "      <td>2.02</td>\n",
       "    </tr>\n",
       "    <tr>\n",
       "      <th>5948</th>\n",
       "      <td>5949</td>\n",
       "      <td>7.0</td>\n",
       "      <td>0.8000</td>\n",
       "      <td>3.674</td>\n",
       "      <td>6.37</td>\n",
       "      <td>6.80</td>\n",
       "      <td>0.73</td>\n",
       "      <td>1.02</td>\n",
       "      <td>0.61</td>\n",
       "      <td>1.12</td>\n",
       "      <td>1.82</td>\n",
       "    </tr>\n",
       "    <tr>\n",
       "      <th>...</th>\n",
       "      <td>...</td>\n",
       "      <td>...</td>\n",
       "      <td>...</td>\n",
       "      <td>...</td>\n",
       "      <td>...</td>\n",
       "      <td>...</td>\n",
       "      <td>...</td>\n",
       "      <td>...</td>\n",
       "      <td>...</td>\n",
       "      <td>...</td>\n",
       "      <td>...</td>\n",
       "    </tr>\n",
       "    <tr>\n",
       "      <th>6073</th>\n",
       "      <td>6074</td>\n",
       "      <td>7.0</td>\n",
       "      <td>18.8051</td>\n",
       "      <td>3.579</td>\n",
       "      <td>-7.88</td>\n",
       "      <td>-6.67</td>\n",
       "      <td>1.85</td>\n",
       "      <td>1.55</td>\n",
       "      <td>0.88</td>\n",
       "      <td>1.75</td>\n",
       "      <td>2.83</td>\n",
       "    </tr>\n",
       "    <tr>\n",
       "      <th>6074</th>\n",
       "      <td>6075</td>\n",
       "      <td>7.0</td>\n",
       "      <td>18.8279</td>\n",
       "      <td>3.576</td>\n",
       "      <td>-7.93</td>\n",
       "      <td>-6.69</td>\n",
       "      <td>1.85</td>\n",
       "      <td>1.56</td>\n",
       "      <td>0.89</td>\n",
       "      <td>1.78</td>\n",
       "      <td>2.86</td>\n",
       "    </tr>\n",
       "    <tr>\n",
       "      <th>6075</th>\n",
       "      <td>6076</td>\n",
       "      <td>7.0</td>\n",
       "      <td>18.8356</td>\n",
       "      <td>3.563</td>\n",
       "      <td>-8.11</td>\n",
       "      <td>-6.60</td>\n",
       "      <td>1.84</td>\n",
       "      <td>1.57</td>\n",
       "      <td>0.96</td>\n",
       "      <td>2.01</td>\n",
       "      <td>3.14</td>\n",
       "    </tr>\n",
       "    <tr>\n",
       "      <th>6076</th>\n",
       "      <td>6077</td>\n",
       "      <td>7.0</td>\n",
       "      <td>18.8423</td>\n",
       "      <td>3.555</td>\n",
       "      <td>-8.27</td>\n",
       "      <td>-6.57</td>\n",
       "      <td>1.82</td>\n",
       "      <td>1.58</td>\n",
       "      <td>1.01</td>\n",
       "      <td>2.18</td>\n",
       "      <td>3.34</td>\n",
       "    </tr>\n",
       "    <tr>\n",
       "      <th>6077</th>\n",
       "      <td>6078</td>\n",
       "      <td>7.0</td>\n",
       "      <td>18.8480</td>\n",
       "      <td>3.552</td>\n",
       "      <td>-8.41</td>\n",
       "      <td>-6.64</td>\n",
       "      <td>1.82</td>\n",
       "      <td>1.58</td>\n",
       "      <td>1.03</td>\n",
       "      <td>2.23</td>\n",
       "      <td>3.40</td>\n",
       "    </tr>\n",
       "  </tbody>\n",
       "</table>\n",
       "<p>134 rows × 11 columns</p>\n",
       "</div>"
      ],
      "text/plain": [
       "      Full  log(Age)        M  log(Teff)  Mbol    Mv  (U-B)o  (B-V)o  (V-R)o  \\\n",
       "5944  5945       7.0   0.6000      3.585  7.81  8.89    1.15    1.38    0.89   \n",
       "5945  5946       7.0   0.6500      3.608  7.43  8.38    1.04    1.31    0.82   \n",
       "5946  5947       7.0   0.7000      3.632  7.06  7.80    0.97    1.21    0.76   \n",
       "5947  5948       7.0   0.7500      3.653  6.71  7.30    0.86    1.11    0.69   \n",
       "5948  5949       7.0   0.8000      3.674  6.37  6.80    0.73    1.02    0.61   \n",
       "...    ...       ...      ...        ...   ...   ...     ...     ...     ...   \n",
       "6073  6074       7.0  18.8051      3.579 -7.88 -6.67    1.85    1.55    0.88   \n",
       "6074  6075       7.0  18.8279      3.576 -7.93 -6.69    1.85    1.56    0.89   \n",
       "6075  6076       7.0  18.8356      3.563 -8.11 -6.60    1.84    1.57    0.96   \n",
       "6076  6077       7.0  18.8423      3.555 -8.27 -6.57    1.82    1.58    1.01   \n",
       "6077  6078       7.0  18.8480      3.552 -8.41 -6.64    1.82    1.58    1.03   \n",
       "\n",
       "      (V-I)o  (V-J)o  \n",
       "5944    1.74    2.66  \n",
       "5945    1.53    2.49  \n",
       "5946    1.38    2.24  \n",
       "5947    1.25    2.02  \n",
       "5948    1.12    1.82  \n",
       "...      ...     ...  \n",
       "6073    1.75    2.83  \n",
       "6074    1.78    2.86  \n",
       "6075    2.01    3.14  \n",
       "6076    2.18    3.34  \n",
       "6077    2.23    3.40  \n",
       "\n",
       "[134 rows x 11 columns]"
      ]
     },
     "execution_count": 149,
     "metadata": {},
     "output_type": "execute_result"
    }
   ],
   "source": [
    "iso = pd.read_csv('../Isocronas/isocro.csv', header = 0)\n",
    "\n",
    "idades = iso['log(Age)']\n",
    "age = np.array([])\n",
    "for element in idades:\n",
    "    if element in age:\n",
    "        continue\n",
    "    elif element not in age:\n",
    "        age = np.append(age,element)\n",
    "\n",
    "iso1 = iso[iso['log(Age)']==7.0]"
   ]
  },
  {
   "cell_type": "code",
   "execution_count": 175,
   "id": "efc69c4c-97c0-4f38-ae31-bfa45fee8619",
   "metadata": {},
   "outputs": [
    {
     "data": {
      "text/plain": [
       "Text(0.5, 0, '(B-V)o')"
      ]
     },
     "execution_count": 175,
     "metadata": {},
     "output_type": "execute_result"
    },
    {
     "data": {
      "image/png": "[encoded data removed]",
      "text/plain": [
       "<Figure size 720x576 with 1 Axes>"
      ]
     },
     "metadata": {
      "needs_background": "light"
     },
     "output_type": "display_data"
    }
   ],
   "source": [
    "plt.rc('xtick', labelsize=13) \n",
    "plt.rc('ytick', labelsize=13) \n",
    "\n",
    "\n",
    "font = {'family' : 'sans-serif',\n",
    "        'weight' : 'normal',\n",
    "        'size'   : 13}\n",
    "\n",
    "plt.rc('font', **font)\n",
    "\n",
    "fig,ax = plt.subplots(figsize=(10,8))\n",
    "plt.gca().invert_yaxis()\n",
    "plt.scatter(iso1['(B-V)o'],iso1['Mv'], label = 'Pontos Isocronas')\n",
    "plt.scatter(i1['B-V'] - 0.1,i1['V']-5*np.log10(d1/10), label = 'Aglomerado 1')\n",
    "plt.legend(frameon=True)\n",
    "plt.xlabel('(B-V)o')\n",
    "plt.ylabel()"
   ]
  },
  {
   "cell_type": "markdown",
   "id": "b050edee-3a6d-41c1-896b-b4e30dd619d0",
   "metadata": {},
   "source": [
    "## Aglomerado 2, E(B-V) = 0.5"
   ]
  },
  {
   "cell_type": "code",
   "execution_count": 110,
   "id": "a1952804-f22a-4880-95a5-9f022d362a6f",
   "metadata": {},
   "outputs": [
    {
     "data": {
      "text/html": [
       "<div>\n",
       "<style scoped>\n",
       "    .dataframe tbody tr th:only-of-type {\n",
       "        vertical-align: middle;\n",
       "    }\n",
       "\n",
       "    .dataframe tbody tr th {\n",
       "        vertical-align: top;\n",
       "    }\n",
       "\n",
       "    .dataframe thead th {\n",
       "        text-align: right;\n",
       "    }\n",
       "</style>\n",
       "<table border=\"1\" class=\"dataframe\">\n",
       "  <thead>\n",
       "    <tr style=\"text-align: right;\">\n",
       "      <th></th>\n",
       "      <th>Slope</th>\n",
       "      <th>Intercept</th>\n",
       "      <th>Slope_Error</th>\n",
       "      <th>Intercept_Error</th>\n",
       "      <th>TurnOffColor</th>\n",
       "    </tr>\n",
       "  </thead>\n",
       "  <tbody>\n",
       "    <tr>\n",
       "      <th>0</th>\n",
       "      <td>5.854872</td>\n",
       "      <td>6.137198</td>\n",
       "      <td>0.023602</td>\n",
       "      <td>0.030893</td>\n",
       "      <td>0.329951</td>\n",
       "    </tr>\n",
       "  </tbody>\n",
       "</table>\n",
       "</div>"
      ],
      "text/plain": [
       "      Slope   Intercept   Slope_Error   Intercept_Error  TurnOffColor \n",
       "0  5.854872    6.137198      0.023602          0.030893       0.329951"
      ]
     },
     "execution_count": 110,
     "metadata": {},
     "output_type": "execute_result"
    }
   ],
   "source": [
    "ag2 = pd.read_csv('LinearRegressAG2.txt', header = 0)\n",
    "ag2.head()"
   ]
  },
  {
   "cell_type": "code",
   "execution_count": 111,
   "id": "484014cb-c326-40da-bb7c-7e575883eab2",
   "metadata": {},
   "outputs": [
    {
     "name": "stdout",
     "output_type": "stream",
     "text": [
      "[7.7995101]\n"
     ]
    }
   ],
   "source": [
    "idade2 = f1(ag2['TurnOffColor ']-0.5)\n",
    "print(idade2)"
   ]
  },
  {
   "cell_type": "code",
   "execution_count": 112,
   "id": "bed2fb92-90c2-4927-a441-8d8b259dc66b",
   "metadata": {},
   "outputs": [
    {
     "data": {
      "text/html": [
       "<div>\n",
       "<style scoped>\n",
       "    .dataframe tbody tr th:only-of-type {\n",
       "        vertical-align: middle;\n",
       "    }\n",
       "\n",
       "    .dataframe tbody tr th {\n",
       "        vertical-align: top;\n",
       "    }\n",
       "\n",
       "    .dataframe thead th {\n",
       "        text-align: right;\n",
       "    }\n",
       "</style>\n",
       "<table border=\"1\" class=\"dataframe\">\n",
       "  <thead>\n",
       "    <tr style=\"text-align: right;\">\n",
       "      <th></th>\n",
       "      <th>Age</th>\n",
       "      <th>Slope</th>\n",
       "      <th>Intercept</th>\n",
       "      <th>Slope_Error</th>\n",
       "      <th>Intercept_Error</th>\n",
       "      <th>R_Value</th>\n",
       "      <th>(B-V)TurnOff</th>\n",
       "      <th>MvTurnOff</th>\n",
       "      <th>Ajustadas/Total</th>\n",
       "    </tr>\n",
       "  </thead>\n",
       "  <tbody>\n",
       "    <tr>\n",
       "      <th>37</th>\n",
       "      <td>7.8</td>\n",
       "      <td>5.909142</td>\n",
       "      <td>0.94259</td>\n",
       "      <td>0.046907</td>\n",
       "      <td>0.027805</td>\n",
       "      <td>0.999811</td>\n",
       "      <td>-0.17</td>\n",
       "      <td>-1.25</td>\n",
       "      <td>0.16666666666666666= 8/48</td>\n",
       "    </tr>\n",
       "  </tbody>\n",
       "</table>\n",
       "</div>"
      ],
      "text/plain": [
       "    Age     Slope  Intercept  Slope_Error  Intercept_Error   R_Value  \\\n",
       "37  7.8  5.909142    0.94259     0.046907         0.027805  0.999811   \n",
       "\n",
       "    (B-V)TurnOff  MvTurnOff             Ajustadas/Total  \n",
       "37         -0.17      -1.25   0.16666666666666666= 8/48  "
      ]
     },
     "execution_count": 112,
     "metadata": {},
     "output_type": "execute_result"
    }
   ],
   "source": [
    "isocro2 = isocronas[isocronas['Age'] ==7.8]\n",
    "isocro2"
   ]
  },
  {
   "cell_type": "code",
   "execution_count": 113,
   "id": "38bb83dd-d876-435d-b2b6-dc6763de1834",
   "metadata": {},
   "outputs": [
    {
     "data": {
      "text/plain": [
       "206.25702587588438"
      ]
     },
     "execution_count": 113,
     "metadata": {},
     "output_type": "execute_result"
    }
   ],
   "source": [
    "def distancia(a,b,b0,E):\n",
    "    return 10**((a*E + (b-b0) - E*3.1 + 5 )/5)\n",
    "\n",
    "distancia(ag2['Slope'].item(),ag2[' Intercept'].item(), isocro2['Intercept'].item(),0.5)"
   ]
  },
  {
   "cell_type": "markdown",
   "id": "91042f4c-2030-4c6d-94f6-d4c1dd54b2ea",
   "metadata": {},
   "source": [
    "## Aglomerado 3, E(B-V) = 0.3"
   ]
  },
  {
   "cell_type": "code",
   "execution_count": 64,
   "id": "0b81e8fb-a5fc-43c1-83bb-e33c81ca2d0c",
   "metadata": {},
   "outputs": [
    {
     "data": {
      "text/html": [
       "<div>\n",
       "<style scoped>\n",
       "    .dataframe tbody tr th:only-of-type {\n",
       "        vertical-align: middle;\n",
       "    }\n",
       "\n",
       "    .dataframe tbody tr th {\n",
       "        vertical-align: top;\n",
       "    }\n",
       "\n",
       "    .dataframe thead th {\n",
       "        text-align: right;\n",
       "    }\n",
       "</style>\n",
       "<table border=\"1\" class=\"dataframe\">\n",
       "  <thead>\n",
       "    <tr style=\"text-align: right;\">\n",
       "      <th></th>\n",
       "      <th>Slope</th>\n",
       "      <th>Intercept</th>\n",
       "      <th>Slope_Error</th>\n",
       "      <th>Intercept_Error</th>\n",
       "      <th>TurnOffColor</th>\n",
       "    </tr>\n",
       "  </thead>\n",
       "  <tbody>\n",
       "    <tr>\n",
       "      <th>0</th>\n",
       "      <td>6.172207</td>\n",
       "      <td>5.731096</td>\n",
       "      <td>0.009577</td>\n",
       "      <td>0.01184</td>\n",
       "      <td>0.479499</td>\n",
       "    </tr>\n",
       "  </tbody>\n",
       "</table>\n",
       "</div>"
      ],
      "text/plain": [
       "      Slope   Intercept   Slope_Error   Intercept_Error  TurnOffColor \n",
       "0  6.172207    5.731096      0.009577           0.01184       0.479499"
      ]
     },
     "execution_count": 64,
     "metadata": {},
     "output_type": "execute_result"
    }
   ],
   "source": [
    "ag3 = pd.read_csv('LinearRegressAG3.txt', header = 0)\n",
    "ag3.head()"
   ]
  },
  {
   "cell_type": "code",
   "execution_count": 105,
   "id": "0018335d-32c6-4e3d-b86b-ee408f5ebc58",
   "metadata": {},
   "outputs": [
    {
     "name": "stdout",
     "output_type": "stream",
     "text": [
      "[8.87437334]\n"
     ]
    }
   ],
   "source": [
    "idade3 = f1(ag3['TurnOffColor ']-0.3)\n",
    "print(idade3)"
   ]
  },
  {
   "cell_type": "code",
   "execution_count": 106,
   "id": "f7d38541-7a64-40ad-8cbd-3993ea622834",
   "metadata": {},
   "outputs": [
    {
     "data": {
      "text/html": [
       "<div>\n",
       "<style scoped>\n",
       "    .dataframe tbody tr th:only-of-type {\n",
       "        vertical-align: middle;\n",
       "    }\n",
       "\n",
       "    .dataframe tbody tr th {\n",
       "        vertical-align: top;\n",
       "    }\n",
       "\n",
       "    .dataframe thead th {\n",
       "        text-align: right;\n",
       "    }\n",
       "</style>\n",
       "<table border=\"1\" class=\"dataframe\">\n",
       "  <thead>\n",
       "    <tr style=\"text-align: right;\">\n",
       "      <th></th>\n",
       "      <th>Age</th>\n",
       "      <th>Slope</th>\n",
       "      <th>Intercept</th>\n",
       "      <th>Slope_Error</th>\n",
       "      <th>Intercept_Error</th>\n",
       "      <th>R_Value</th>\n",
       "      <th>(B-V)TurnOff</th>\n",
       "      <th>MvTurnOff</th>\n",
       "      <th>Ajustadas/Total</th>\n",
       "    </tr>\n",
       "  </thead>\n",
       "  <tbody>\n",
       "    <tr>\n",
       "      <th>26</th>\n",
       "      <td>8.9</td>\n",
       "      <td>5.849284</td>\n",
       "      <td>0.847525</td>\n",
       "      <td>0.04543</td>\n",
       "      <td>0.031448</td>\n",
       "      <td>0.999759</td>\n",
       "      <td>0.2</td>\n",
       "      <td>1.57</td>\n",
       "      <td>0.4166666666666667= 10/24</td>\n",
       "    </tr>\n",
       "  </tbody>\n",
       "</table>\n",
       "</div>"
      ],
      "text/plain": [
       "    Age     Slope  Intercept  Slope_Error  Intercept_Error   R_Value  \\\n",
       "26  8.9  5.849284   0.847525      0.04543         0.031448  0.999759   \n",
       "\n",
       "    (B-V)TurnOff  MvTurnOff             Ajustadas/Total  \n",
       "26           0.2       1.57   0.4166666666666667= 10/24  "
      ]
     },
     "execution_count": 106,
     "metadata": {},
     "output_type": "execute_result"
    }
   ],
   "source": [
    "isocro3 = isocronas[isocronas['Age'] == 8.9]\n",
    "isocro3"
   ]
  },
  {
   "cell_type": "code",
   "execution_count": 107,
   "id": "fb10b7ed-574d-4b1b-8cf4-4c52451472f1",
   "metadata": {},
   "outputs": [
    {
     "data": {
      "text/plain": [
       "144.89274596847855"
      ]
     },
     "execution_count": 107,
     "metadata": {},
     "output_type": "execute_result"
    }
   ],
   "source": [
    "def distancia(a,b,b0,E):\n",
    "    return 10**((a*E + (b-b0) - E*3.1 + 5 )/5)\n",
    "\n",
    "distancia(ag3['Slope'].item(),ag3[' Intercept'].item(), isocro3['Intercept'].item(),0.3)"
   ]
  },
  {
   "cell_type": "code",
   "execution_count": null,
   "id": "45ac02ce-19f8-4340-a606-3db67361ac66",
   "metadata": {},
   "outputs": [],
   "source": []
  },
  {
   "cell_type": "code",
   "execution_count": null,
   "id": "016c12e8-7dfa-4504-bf1a-a154b4dd5770",
   "metadata": {},
   "outputs": [],
   "source": []
  },
  {
   "cell_type": "code",
   "execution_count": null,
   "id": "e310df53-33de-43ee-9135-7364d52d6dfc",
   "metadata": {},
   "outputs": [],
   "source": []
  }
 ],
 "metadata": {
  "kernelspec": {
   "display_name": "Python 3",
   "language": "python",
   "name": "python3"
  },
  "language_info": {
   "codemirror_mode": {
    "name": "ipython",
    "version": 3
   },
   "file_extension": ".py",
   "mimetype": "text/x-python",
   "name": "python",
   "nbconvert_exporter": "python",
   "pygments_lexer": "ipython3",
   "version": "3.8.8"
  }
 },
 "nbformat": 4,
 "nbformat_minor": 5
}
