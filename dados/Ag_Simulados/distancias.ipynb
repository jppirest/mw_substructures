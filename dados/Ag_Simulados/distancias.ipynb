{
 "cells": [
  {
   "cell_type": "code",
   "execution_count": 1,
   "id": "6ccff5a2-bf24-48e1-bb50-f42b4c80fbd0",
   "metadata": {},
   "outputs": [],
   "source": [
    "import matplotlib.pyplot as plt\n",
    "import numpy as np\n",
    "import pandas as pd"
   ]
  },
  {
   "cell_type": "code",
   "execution_count": 2,
   "id": "25ff320f-9f87-4a88-9537-3cfd3256bd75",
   "metadata": {},
   "outputs": [],
   "source": [
    "isocronas = pd.read_csv('../Isocronas/Regression_Iso.txt', header = 0)"
   ]
  },
  {
   "cell_type": "code",
   "execution_count": 3,
   "id": "ee2ecb8c-1a41-4762-a13d-f6f70ab479b1",
   "metadata": {},
   "outputs": [],
   "source": [
    "from scipy.interpolate import interp1d"
   ]
  },
  {
   "cell_type": "code",
   "execution_count": 4,
   "id": "09492cee-b0b7-4506-bc2a-115dbe3a6fa7",
   "metadata": {},
   "outputs": [
    {
     "data": {
      "text/plain": [
       "Text(0.5, 0, '(B-V)o TurnOff')"
      ]
     },
     "execution_count": 4,
     "metadata": {},
     "output_type": "execute_result"
    },
    {
     "data": {
      "image/png": "[encoded data removed]",
      "text/plain": [
       "<Figure size 720x576 with 1 Axes>"
      ]
     },
     "metadata": {
      "needs_background": "light"
     },
     "output_type": "display_data"
    }
   ],
   "source": [
    "f1 = interp1d(isocronas['(B-V)TurnOff'],  isocronas['Age'],kind= 'linear')\n",
    "plt.rc('xtick', labelsize=13) \n",
    "plt.rc('ytick', labelsize=13) \n",
    "\n",
    "\n",
    "font = {'family' : 'sans-serif',\n",
    "        'weight' : 'normal',\n",
    "        'size'   : 13}\n",
    "\n",
    "plt.rc('font', **font)\n",
    "\n",
    "fig,ax = plt.subplots(figsize=(10,8))\n",
    "plt.gca().invert_yaxis()\n",
    "\n",
    "interpol_colour = np.linspace(isocronas['(B-V)TurnOff'].min(),isocronas['(B-V)TurnOff'].max(),100)\n",
    "plt.plot(interpol_colour,f1(interpol_colour))\n",
    "plt.scatter(isocronas['(B-V)TurnOff'], isocronas['Age'], color = 'none', edgecolor = 'red')\n",
    "plt.ylabel('log(Age)')\n",
    "plt.xlabel('(B-V)o TurnOff')\n"
   ]
  },
  {
   "cell_type": "markdown",
   "id": "5094646c-66dd-44e5-aa0c-9ac5be95b565",
   "metadata": {},
   "source": [
    "## Aglomerado 1, E(B-V)=0.1"
   ]
  },
  {
   "cell_type": "code",
   "execution_count": 5,
   "id": "ab2cc18c-5e56-482a-b2d9-edc79af5957e",
   "metadata": {},
   "outputs": [
    {
     "data": {
      "text/html": [
       "<div>\n",
       "<style scoped>\n",
       "    .dataframe tbody tr th:only-of-type {\n",
       "        vertical-align: middle;\n",
       "    }\n",
       "\n",
       "    .dataframe tbody tr th {\n",
       "        vertical-align: top;\n",
       "    }\n",
       "\n",
       "    .dataframe thead th {\n",
       "        text-align: right;\n",
       "    }\n",
       "</style>\n",
       "<table border=\"1\" class=\"dataframe\">\n",
       "  <thead>\n",
       "    <tr style=\"text-align: right;\">\n",
       "      <th></th>\n",
       "      <th>Slope</th>\n",
       "      <th>Intercept</th>\n",
       "      <th>Slope_Error</th>\n",
       "      <th>Intercept_Error</th>\n",
       "      <th>TurnOffColor</th>\n",
       "    </tr>\n",
       "  </thead>\n",
       "  <tbody>\n",
       "    <tr>\n",
       "      <th>0</th>\n",
       "      <td>5.164931</td>\n",
       "      <td>6.893856</td>\n",
       "      <td>0.057215</td>\n",
       "      <td>0.047736</td>\n",
       "      <td>-0.157596</td>\n",
       "    </tr>\n",
       "  </tbody>\n",
       "</table>\n",
       "</div>"
      ],
      "text/plain": [
       "      Slope   Intercept   Slope_Error   Intercept_Error  TurnOffColor \n",
       "0  5.164931    6.893856      0.057215          0.047736      -0.157596"
      ]
     },
     "execution_count": 5,
     "metadata": {},
     "output_type": "execute_result"
    }
   ],
   "source": [
    "ag1 = pd.read_csv('LinearRegressAG1.txt', header = 0)\n",
    "ag1.head()"
   ]
  },
  {
   "cell_type": "code",
   "execution_count": 6,
   "id": "91b148bd-7597-4d03-8156-4e599f69a6a2",
   "metadata": {},
   "outputs": [
    {
     "data": {
      "text/plain": [
       "array([7.0240387])"
      ]
     },
     "execution_count": 6,
     "metadata": {},
     "output_type": "execute_result"
    }
   ],
   "source": [
    "idade1 = f1(ag1['TurnOffColor ']-0.1)\n",
    "idade1"
   ]
  },
  {
   "cell_type": "code",
   "execution_count": 7,
   "id": "ed0b3388-0e7c-4d8d-aa02-5c8f6875cccf",
   "metadata": {},
   "outputs": [
    {
     "data": {
      "text/html": [
       "<div>\n",
       "<style scoped>\n",
       "    .dataframe tbody tr th:only-of-type {\n",
       "        vertical-align: middle;\n",
       "    }\n",
       "\n",
       "    .dataframe tbody tr th {\n",
       "        vertical-align: top;\n",
       "    }\n",
       "\n",
       "    .dataframe thead th {\n",
       "        text-align: right;\n",
       "    }\n",
       "</style>\n",
       "<table border=\"1\" class=\"dataframe\">\n",
       "  <thead>\n",
       "    <tr style=\"text-align: right;\">\n",
       "      <th></th>\n",
       "      <th>Age</th>\n",
       "      <th>Slope</th>\n",
       "      <th>Intercept</th>\n",
       "      <th>Slope_Error</th>\n",
       "      <th>Intercept_Error</th>\n",
       "      <th>R_Value</th>\n",
       "      <th>(B-V)TurnOff</th>\n",
       "      <th>MvTurnOff</th>\n",
       "      <th>Ajustadas/Total</th>\n",
       "    </tr>\n",
       "  </thead>\n",
       "  <tbody>\n",
       "    <tr>\n",
       "      <th>45</th>\n",
       "      <td>7.0</td>\n",
       "      <td>6.443027</td>\n",
       "      <td>0.581311</td>\n",
       "      <td>0.067584</td>\n",
       "      <td>0.0336</td>\n",
       "      <td>0.999615</td>\n",
       "      <td>-0.25</td>\n",
       "      <td>-2.74</td>\n",
       "      <td>0.140625= 9/64</td>\n",
       "    </tr>\n",
       "  </tbody>\n",
       "</table>\n",
       "</div>"
      ],
      "text/plain": [
       "    Age     Slope  Intercept  Slope_Error  Intercept_Error   R_Value  \\\n",
       "45  7.0  6.443027   0.581311     0.067584           0.0336  0.999615   \n",
       "\n",
       "    (B-V)TurnOff  MvTurnOff  Ajustadas/Total  \n",
       "45         -0.25      -2.74   0.140625= 9/64  "
      ]
     },
     "execution_count": 7,
     "metadata": {},
     "output_type": "execute_result"
    }
   ],
   "source": [
    "isocro1 = isocronas[isocronas['Age'] ==7.0]\n",
    "isocro1"
   ]
  },
  {
   "cell_type": "code",
   "execution_count": 8,
   "id": "693a4058-2333-4131-8ba6-f535d01c7e6e",
   "metadata": {},
   "outputs": [
    {
     "data": {
      "text/plain": [
       "201.28331271475483"
      ]
     },
     "execution_count": 8,
     "metadata": {},
     "output_type": "execute_result"
    }
   ],
   "source": [
    "def distancia(a,b,b0,E):\n",
    "    return 10**((a*E + (b-b0) - E*3.1 + 5 )/5)\n",
    "\n",
    "d1 = distancia(ag1['Slope'].item(),ag1[' Intercept'].item(), isocro1['Intercept'].item(),0.1)\n",
    "d1"
   ]
  },
  {
   "cell_type": "code",
   "execution_count": 9,
   "id": "3341955a-740d-43e7-a3a4-c553b212d7eb",
   "metadata": {},
   "outputs": [
    {
     "data": {
      "text/html": [
       "<div>\n",
       "<style scoped>\n",
       "    .dataframe tbody tr th:only-of-type {\n",
       "        vertical-align: middle;\n",
       "    }\n",
       "\n",
       "    .dataframe tbody tr th {\n",
       "        vertical-align: top;\n",
       "    }\n",
       "\n",
       "    .dataframe thead th {\n",
       "        text-align: right;\n",
       "    }\n",
       "</style>\n",
       "<table border=\"1\" class=\"dataframe\">\n",
       "  <thead>\n",
       "    <tr style=\"text-align: right;\">\n",
       "      <th></th>\n",
       "      <th>B-V</th>\n",
       "      <th>V</th>\n",
       "    </tr>\n",
       "  </thead>\n",
       "  <tbody>\n",
       "    <tr>\n",
       "      <th>0</th>\n",
       "      <td>0.820441</td>\n",
       "      <td>10.900357</td>\n",
       "    </tr>\n",
       "    <tr>\n",
       "      <th>1</th>\n",
       "      <td>-0.033763</td>\n",
       "      <td>6.542515</td>\n",
       "    </tr>\n",
       "    <tr>\n",
       "      <th>2</th>\n",
       "      <td>1.692215</td>\n",
       "      <td>14.662077</td>\n",
       "    </tr>\n",
       "    <tr>\n",
       "      <th>3</th>\n",
       "      <td>0.803042</td>\n",
       "      <td>15.521706</td>\n",
       "    </tr>\n",
       "    <tr>\n",
       "      <th>4</th>\n",
       "      <td>0.559854</td>\n",
       "      <td>9.774405</td>\n",
       "    </tr>\n",
       "  </tbody>\n",
       "</table>\n",
       "</div>"
      ],
      "text/plain": [
       "        B-V          V\n",
       "0  0.820441  10.900357\n",
       "1 -0.033763   6.542515\n",
       "2  1.692215  14.662077\n",
       "3  0.803042  15.521706\n",
       "4  0.559854   9.774405"
      ]
     },
     "execution_count": 9,
     "metadata": {},
     "output_type": "execute_result"
    }
   ],
   "source": [
    "i1 = pd.read_csv('ag1.txt',header = 0)\n",
    "i1.head()"
   ]
  },
  {
   "cell_type": "code",
   "execution_count": 10,
   "id": "41dfbd3f-f1f2-4855-befd-7a5ad0980188",
   "metadata": {},
   "outputs": [],
   "source": [
    "iso = pd.read_csv('../Isocronas/isocro.csv', header = 0)\n",
    "\n",
    "idades = iso['log(Age)']\n",
    "age = np.array([])\n",
    "for element in idades:\n",
    "    if element in age:\n",
    "        continue\n",
    "    elif element not in age:\n",
    "        age = np.append(age,element)\n",
    "\n",
    "iso1 = iso[iso['log(Age)']==7.0]"
   ]
  },
  {
   "cell_type": "code",
   "execution_count": 11,
   "id": "efc69c4c-97c0-4f38-ae31-bfa45fee8619",
   "metadata": {},
   "outputs": [
    {
     "data": {
      "text/plain": [
       "Text(0, 0.5, 'Mv')"
      ]
     },
     "execution_count": 11,
     "metadata": {},
     "output_type": "execute_result"
    },
    {
     "data": {
      "image/png": "[encoded data removed]",
      "text/plain": [
       "<Figure size 720x576 with 1 Axes>"
      ]
     },
     "metadata": {
      "needs_background": "light"
     },
     "output_type": "display_data"
    }
   ],
   "source": [
    "plt.rc('xtick', labelsize=13) \n",
    "plt.rc('ytick', labelsize=13) \n",
    "\n",
    "\n",
    "font = {'family' : 'sans-serif',\n",
    "        'weight' : 'normal',\n",
    "        'size'   : 13}\n",
    "\n",
    "plt.rc('font', **font)\n",
    "\n",
    "fig,ax = plt.subplots(figsize=(10,8))\n",
    "plt.gca().invert_yaxis()\n",
    "plt.scatter(iso1['(B-V)o'],iso1['Mv'], label = 'Pontos Isocronas')\n",
    "plt.scatter(i1['B-V'] - 0.1,i1['V']-5*np.log10(d1/10), label = 'Aglomerado 1')\n",
    "plt.legend(frameon=True)\n",
    "plt.xlabel('(B-V)o')\n",
    "plt.ylabel('Mv')"
   ]
  },
  {
   "cell_type": "markdown",
   "id": "b050edee-3a6d-41c1-896b-b4e30dd619d0",
   "metadata": {},
   "source": [
    "## Aglomerado 2, E(B-V) = 0.5"
   ]
  },
  {
   "cell_type": "code",
   "execution_count": 12,
   "id": "a1952804-f22a-4880-95a5-9f022d362a6f",
   "metadata": {},
   "outputs": [
    {
     "data": {
      "text/html": [
       "<div>\n",
       "<style scoped>\n",
       "    .dataframe tbody tr th:only-of-type {\n",
       "        vertical-align: middle;\n",
       "    }\n",
       "\n",
       "    .dataframe tbody tr th {\n",
       "        vertical-align: top;\n",
       "    }\n",
       "\n",
       "    .dataframe thead th {\n",
       "        text-align: right;\n",
       "    }\n",
       "</style>\n",
       "<table border=\"1\" class=\"dataframe\">\n",
       "  <thead>\n",
       "    <tr style=\"text-align: right;\">\n",
       "      <th></th>\n",
       "      <th>Slope</th>\n",
       "      <th>Intercept</th>\n",
       "      <th>Slope_Error</th>\n",
       "      <th>Intercept_Error</th>\n",
       "      <th>TurnOffColor</th>\n",
       "    </tr>\n",
       "  </thead>\n",
       "  <tbody>\n",
       "    <tr>\n",
       "      <th>0</th>\n",
       "      <td>5.854872</td>\n",
       "      <td>6.137198</td>\n",
       "      <td>0.023602</td>\n",
       "      <td>0.030893</td>\n",
       "      <td>0.329951</td>\n",
       "    </tr>\n",
       "  </tbody>\n",
       "</table>\n",
       "</div>"
      ],
      "text/plain": [
       "      Slope   Intercept   Slope_Error   Intercept_Error  TurnOffColor \n",
       "0  5.854872    6.137198      0.023602          0.030893       0.329951"
      ]
     },
     "execution_count": 12,
     "metadata": {},
     "output_type": "execute_result"
    }
   ],
   "source": [
    "ag2 = pd.read_csv('LinearRegressAG2.txt', header = 0)\n",
    "ag2.head()"
   ]
  },
  {
   "cell_type": "code",
   "execution_count": 13,
   "id": "484014cb-c326-40da-bb7c-7e575883eab2",
   "metadata": {},
   "outputs": [
    {
     "name": "stdout",
     "output_type": "stream",
     "text": [
      "[7.7995101]\n"
     ]
    }
   ],
   "source": [
    "idade2 = f1(ag2['TurnOffColor ']-0.5)\n",
    "print(idade2)"
   ]
  },
  {
   "cell_type": "code",
   "execution_count": 14,
   "id": "bed2fb92-90c2-4927-a441-8d8b259dc66b",
   "metadata": {},
   "outputs": [
    {
     "data": {
      "text/html": [
       "<div>\n",
       "<style scoped>\n",
       "    .dataframe tbody tr th:only-of-type {\n",
       "        vertical-align: middle;\n",
       "    }\n",
       "\n",
       "    .dataframe tbody tr th {\n",
       "        vertical-align: top;\n",
       "    }\n",
       "\n",
       "    .dataframe thead th {\n",
       "        text-align: right;\n",
       "    }\n",
       "</style>\n",
       "<table border=\"1\" class=\"dataframe\">\n",
       "  <thead>\n",
       "    <tr style=\"text-align: right;\">\n",
       "      <th></th>\n",
       "      <th>Age</th>\n",
       "      <th>Slope</th>\n",
       "      <th>Intercept</th>\n",
       "      <th>Slope_Error</th>\n",
       "      <th>Intercept_Error</th>\n",
       "      <th>R_Value</th>\n",
       "      <th>(B-V)TurnOff</th>\n",
       "      <th>MvTurnOff</th>\n",
       "      <th>Ajustadas/Total</th>\n",
       "    </tr>\n",
       "  </thead>\n",
       "  <tbody>\n",
       "    <tr>\n",
       "      <th>37</th>\n",
       "      <td>7.8</td>\n",
       "      <td>5.909142</td>\n",
       "      <td>0.94259</td>\n",
       "      <td>0.046907</td>\n",
       "      <td>0.027805</td>\n",
       "      <td>0.999811</td>\n",
       "      <td>-0.17</td>\n",
       "      <td>-1.25</td>\n",
       "      <td>0.16666666666666666= 8/48</td>\n",
       "    </tr>\n",
       "  </tbody>\n",
       "</table>\n",
       "</div>"
      ],
      "text/plain": [
       "    Age     Slope  Intercept  Slope_Error  Intercept_Error   R_Value  \\\n",
       "37  7.8  5.909142    0.94259     0.046907         0.027805  0.999811   \n",
       "\n",
       "    (B-V)TurnOff  MvTurnOff             Ajustadas/Total  \n",
       "37         -0.17      -1.25   0.16666666666666666= 8/48  "
      ]
     },
     "execution_count": 14,
     "metadata": {},
     "output_type": "execute_result"
    }
   ],
   "source": [
    "isocro2 = isocronas[isocronas['Age'] ==7.8]\n",
    "isocro2"
   ]
  },
  {
   "cell_type": "code",
   "execution_count": 15,
   "id": "38bb83dd-d876-435d-b2b6-dc6763de1834",
   "metadata": {},
   "outputs": [
    {
     "data": {
      "text/plain": [
       "206.25702587588438"
      ]
     },
     "execution_count": 15,
     "metadata": {},
     "output_type": "execute_result"
    }
   ],
   "source": [
    "def distancia(a,b,b0,E):\n",
    "    return 10**((a*E + (b-b0) - E*3.1 + 5 )/5)\n",
    "\n",
    "distancia(ag2['Slope'].item(),ag2[' Intercept'].item(), isocro2['Intercept'].item(),0.5)"
   ]
  },
  {
   "cell_type": "markdown",
   "id": "91042f4c-2030-4c6d-94f6-d4c1dd54b2ea",
   "metadata": {},
   "source": [
    "## Aglomerado 3, E(B-V) = 0.3"
   ]
  },
  {
   "cell_type": "code",
   "execution_count": 16,
   "id": "0b81e8fb-a5fc-43c1-83bb-e33c81ca2d0c",
   "metadata": {},
   "outputs": [
    {
     "data": {
      "text/html": [
       "<div>\n",
       "<style scoped>\n",
       "    .dataframe tbody tr th:only-of-type {\n",
       "        vertical-align: middle;\n",
       "    }\n",
       "\n",
       "    .dataframe tbody tr th {\n",
       "        vertical-align: top;\n",
       "    }\n",
       "\n",
       "    .dataframe thead th {\n",
       "        text-align: right;\n",
       "    }\n",
       "</style>\n",
       "<table border=\"1\" class=\"dataframe\">\n",
       "  <thead>\n",
       "    <tr style=\"text-align: right;\">\n",
       "      <th></th>\n",
       "      <th>Slope</th>\n",
       "      <th>Intercept</th>\n",
       "      <th>Slope_Error</th>\n",
       "      <th>Intercept_Error</th>\n",
       "      <th>TurnOffColor</th>\n",
       "    </tr>\n",
       "  </thead>\n",
       "  <tbody>\n",
       "    <tr>\n",
       "      <th>0</th>\n",
       "      <td>6.172207</td>\n",
       "      <td>5.731096</td>\n",
       "      <td>0.009577</td>\n",
       "      <td>0.01184</td>\n",
       "      <td>0.479499</td>\n",
       "    </tr>\n",
       "  </tbody>\n",
       "</table>\n",
       "</div>"
      ],
      "text/plain": [
       "      Slope   Intercept   Slope_Error   Intercept_Error  TurnOffColor \n",
       "0  6.172207    5.731096      0.009577           0.01184       0.479499"
      ]
     },
     "execution_count": 16,
     "metadata": {},
     "output_type": "execute_result"
    }
   ],
   "source": [
    "ag3 = pd.read_csv('LinearRegressAG3.txt', header = 0)\n",
    "ag3.head()"
   ]
  },
  {
   "cell_type": "code",
   "execution_count": 17,
   "id": "0018335d-32c6-4e3d-b86b-ee408f5ebc58",
   "metadata": {},
   "outputs": [
    {
     "name": "stdout",
     "output_type": "stream",
     "text": [
      "[8.87437334]\n"
     ]
    }
   ],
   "source": [
    "idade3 = f1(ag3['TurnOffColor ']-0.3)\n",
    "print(idade3)"
   ]
  },
  {
   "cell_type": "code",
   "execution_count": 18,
   "id": "f7d38541-7a64-40ad-8cbd-3993ea622834",
   "metadata": {},
   "outputs": [
    {
     "data": {
      "text/html": [
       "<div>\n",
       "<style scoped>\n",
       "    .dataframe tbody tr th:only-of-type {\n",
       "        vertical-align: middle;\n",
       "    }\n",
       "\n",
       "    .dataframe tbody tr th {\n",
       "        vertical-align: top;\n",
       "    }\n",
       "\n",
       "    .dataframe thead th {\n",
       "        text-align: right;\n",
       "    }\n",
       "</style>\n",
       "<table border=\"1\" class=\"dataframe\">\n",
       "  <thead>\n",
       "    <tr style=\"text-align: right;\">\n",
       "      <th></th>\n",
       "      <th>Age</th>\n",
       "      <th>Slope</th>\n",
       "      <th>Intercept</th>\n",
       "      <th>Slope_Error</th>\n",
       "      <th>Intercept_Error</th>\n",
       "      <th>R_Value</th>\n",
       "      <th>(B-V)TurnOff</th>\n",
       "      <th>MvTurnOff</th>\n",
       "      <th>Ajustadas/Total</th>\n",
       "    </tr>\n",
       "  </thead>\n",
       "  <tbody>\n",
       "    <tr>\n",
       "      <th>26</th>\n",
       "      <td>8.9</td>\n",
       "      <td>5.849284</td>\n",
       "      <td>0.847525</td>\n",
       "      <td>0.04543</td>\n",
       "      <td>0.031448</td>\n",
       "      <td>0.999759</td>\n",
       "      <td>0.2</td>\n",
       "      <td>1.57</td>\n",
       "      <td>0.4166666666666667= 10/24</td>\n",
       "    </tr>\n",
       "  </tbody>\n",
       "</table>\n",
       "</div>"
      ],
      "text/plain": [
       "    Age     Slope  Intercept  Slope_Error  Intercept_Error   R_Value  \\\n",
       "26  8.9  5.849284   0.847525      0.04543         0.031448  0.999759   \n",
       "\n",
       "    (B-V)TurnOff  MvTurnOff             Ajustadas/Total  \n",
       "26           0.2       1.57   0.4166666666666667= 10/24  "
      ]
     },
     "execution_count": 18,
     "metadata": {},
     "output_type": "execute_result"
    }
   ],
   "source": [
    "isocro3 = isocronas[isocronas['Age'] == 8.9]\n",
    "isocro3"
   ]
  },
  {
   "cell_type": "code",
   "execution_count": 19,
   "id": "fb10b7ed-574d-4b1b-8cf4-4c52451472f1",
   "metadata": {},
   "outputs": [
    {
     "data": {
      "text/plain": [
       "144.89274596847855"
      ]
     },
     "execution_count": 19,
     "metadata": {},
     "output_type": "execute_result"
    }
   ],
   "source": [
    "def distancia(a,b,b0,E):\n",
    "    return 10**((a*E + (b-b0) - E*3.1 + 5 )/5)\n",
    "\n",
    "distancia(ag3['Slope'].item(),ag3[' Intercept'].item(), isocro3['Intercept'].item(),0.3)"
   ]
  },
  {
   "cell_type": "code",
   "execution_count": null,
   "id": "45ac02ce-19f8-4340-a606-3db67361ac66",
   "metadata": {},
   "outputs": [],
   "source": []
  },
  {
   "cell_type": "code",
   "execution_count": null,
   "id": "016c12e8-7dfa-4504-bf1a-a154b4dd5770",
   "metadata": {},
   "outputs": [],
   "source": []
  },
  {
   "cell_type": "code",
   "execution_count": null,
   "id": "e310df53-33de-43ee-9135-7364d52d6dfc",
   "metadata": {},
   "outputs": [],
   "source": []
  }
 ],
 "metadata": {
  "kernelspec": {
   "display_name": "Python 3",
   "language": "python",
   "name": "python3"
  },
  "language_info": {
   "codemirror_mode": {
    "name": "ipython",
    "version": 3
   },
   "file_extension": ".py",
   "mimetype": "text/x-python",
   "name": "python",
   "nbconvert_exporter": "python",
   "pygments_lexer": "ipython3",
   "version": "3.8.8"
  }
 },
 "nbformat": 4,
 "nbformat_minor": 5
}
