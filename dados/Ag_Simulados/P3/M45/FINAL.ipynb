{
 "cells": [
  {
   "cell_type": "code",
   "execution_count": 1,
   "id": "dac01f43",
   "metadata": {},
   "outputs": [],
   "source": [
    "import matplotlib.pyplot as plt\n",
    "import numpy as np\n",
    "import pandas as pd\n",
    "import math\n",
    "import time\n",
    "import concurrent.futures"
   ]
  },
  {
   "cell_type": "code",
   "execution_count": 2,
   "id": "d3f31099",
   "metadata": {},
   "outputs": [],
   "source": [
    "isocronas = pd.read_csv('../../../Isocronas/Regression_Iso.txt', header = 0)"
   ]
  },
  {
   "cell_type": "code",
   "execution_count": 3,
   "id": "ace6dbd4",
   "metadata": {},
   "outputs": [],
   "source": [
    "from scipy.interpolate import interp1d"
   ]
  },
  {
   "cell_type": "code",
   "execution_count": 4,
   "id": "b415045b",
   "metadata": {},
   "outputs": [],
   "source": [
    "f1 = interp1d(isocronas['(B-V)TurnOff'],  isocronas['Age'],kind= 'linear')"
   ]
  },
  {
   "cell_type": "code",
   "execution_count": null,
   "id": "a1fab30b",
   "metadata": {},
   "outputs": [],
   "source": []
  },
  {
   "cell_type": "markdown",
   "id": "5f707ae8",
   "metadata": {},
   "source": [
    "## M45, E(B-V)=0.03 (Dias et. al.)"
   ]
  },
  {
   "cell_type": "code",
   "execution_count": 5,
   "id": "ccff5285",
   "metadata": {},
   "outputs": [
    {
     "data": {
      "text/html": [
       "<div>\n",
       "<style scoped>\n",
       "    .dataframe tbody tr th:only-of-type {\n",
       "        vertical-align: middle;\n",
       "    }\n",
       "\n",
       "    .dataframe tbody tr th {\n",
       "        vertical-align: top;\n",
       "    }\n",
       "\n",
       "    .dataframe thead th {\n",
       "        text-align: right;\n",
       "    }\n",
       "</style>\n",
       "<table border=\"1\" class=\"dataframe\">\n",
       "  <thead>\n",
       "    <tr style=\"text-align: right;\">\n",
       "      <th></th>\n",
       "      <th>Slope</th>\n",
       "      <th>Intercept</th>\n",
       "      <th>Slope_Error</th>\n",
       "      <th>Intercept_Error</th>\n",
       "      <th>TurnOffColor</th>\n",
       "    </tr>\n",
       "  </thead>\n",
       "  <tbody>\n",
       "    <tr>\n",
       "      <th>0</th>\n",
       "      <td>5.950881</td>\n",
       "      <td>6.420497</td>\n",
       "      <td>0.030356</td>\n",
       "      <td>0.023126</td>\n",
       "      <td>-0.11</td>\n",
       "    </tr>\n",
       "  </tbody>\n",
       "</table>\n",
       "</div>"
      ],
      "text/plain": [
       "      Slope   Intercept   Slope_Error   Intercept_Error  TurnOffColor \n",
       "0  5.950881    6.420497      0.030356          0.023126          -0.11"
      ]
     },
     "execution_count": 5,
     "metadata": {},
     "output_type": "execute_result"
    }
   ],
   "source": [
    "m45 = pd.read_csv('RegressaoM45.txt', header = 0)\n",
    "E=0.03\n",
    "m45.head()"
   ]
  },
  {
   "cell_type": "code",
   "execution_count": 6,
   "id": "eb25e5ed",
   "metadata": {},
   "outputs": [
    {
     "data": {
      "text/plain": [
       "8.0"
      ]
     },
     "execution_count": 6,
     "metadata": {},
     "output_type": "execute_result"
    }
   ],
   "source": [
    "idade1 = f1(m45['TurnOffColor ']-E)\n",
    "idade1 = np.around(idade1,1)[0]\n",
    "idade1"
   ]
  },
  {
   "cell_type": "code",
   "execution_count": 7,
   "id": "f69cef50-9e36-4b7e-90ff-afa5e3c04821",
   "metadata": {},
   "outputs": [],
   "source": [
    "#idade1 = 8.1"
   ]
  },
  {
   "cell_type": "code",
   "execution_count": 8,
   "id": "7f4f4e29-de85-4f98-83de-a8d836211798",
   "metadata": {},
   "outputs": [
    {
     "data": {
      "text/html": [
       "<div>\n",
       "<style scoped>\n",
       "    .dataframe tbody tr th:only-of-type {\n",
       "        vertical-align: middle;\n",
       "    }\n",
       "\n",
       "    .dataframe tbody tr th {\n",
       "        vertical-align: top;\n",
       "    }\n",
       "\n",
       "    .dataframe thead th {\n",
       "        text-align: right;\n",
       "    }\n",
       "</style>\n",
       "<table border=\"1\" class=\"dataframe\">\n",
       "  <thead>\n",
       "    <tr style=\"text-align: right;\">\n",
       "      <th></th>\n",
       "      <th>Age</th>\n",
       "      <th>Slope</th>\n",
       "      <th>Intercept</th>\n",
       "      <th>Slope_Error</th>\n",
       "      <th>Intercept_Error</th>\n",
       "      <th>R_Value</th>\n",
       "      <th>(B-V)TurnOff</th>\n",
       "      <th>MvTurnOff</th>\n",
       "      <th>Ajustadas/Total</th>\n",
       "    </tr>\n",
       "  </thead>\n",
       "  <tbody>\n",
       "    <tr>\n",
       "      <th>35</th>\n",
       "      <td>8.0</td>\n",
       "      <td>5.6861</td>\n",
       "      <td>1.107006</td>\n",
       "      <td>0.026318</td>\n",
       "      <td>0.01303</td>\n",
       "      <td>0.99985</td>\n",
       "      <td>-0.14</td>\n",
       "      <td>-0.78</td>\n",
       "      <td>0.38095238095238093= 16/42</td>\n",
       "    </tr>\n",
       "  </tbody>\n",
       "</table>\n",
       "</div>"
      ],
      "text/plain": [
       "    Age   Slope  Intercept  Slope_Error  Intercept_Error  R_Value  \\\n",
       "35  8.0  5.6861   1.107006     0.026318          0.01303  0.99985   \n",
       "\n",
       "    (B-V)TurnOff  MvTurnOff              Ajustadas/Total  \n",
       "35         -0.14      -0.78   0.38095238095238093= 16/42  "
      ]
     },
     "execution_count": 8,
     "metadata": {},
     "output_type": "execute_result"
    }
   ],
   "source": [
    "isocro1 = isocronas[isocronas['Age'] == idade1]\n",
    "isocro1"
   ]
  },
  {
   "cell_type": "code",
   "execution_count": 9,
   "id": "a31a823f",
   "metadata": {},
   "outputs": [
    {
     "data": {
      "text/plain": [
       "120.17205762009026"
      ]
     },
     "execution_count": 9,
     "metadata": {},
     "output_type": "execute_result"
    }
   ],
   "source": [
    "## Método do Slope do Aglomerado\n",
    "def distancia(a,b,b0,E):\n",
    "    return 10**((a*E + (b-b0) - E*3.1 + 5 )/5)\n",
    "d1 = distancia(m45['Slope'].item(), m45[' Intercept'].item(), isocro1['Intercept'].item(),E)\n",
    "d1"
   ]
  },
  {
   "cell_type": "code",
   "execution_count": 10,
   "id": "4c5b0187",
   "metadata": {},
   "outputs": [
    {
     "data": {
      "text/html": [
       "<div>\n",
       "<style scoped>\n",
       "    .dataframe tbody tr th:only-of-type {\n",
       "        vertical-align: middle;\n",
       "    }\n",
       "\n",
       "    .dataframe tbody tr th {\n",
       "        vertical-align: top;\n",
       "    }\n",
       "\n",
       "    .dataframe thead th {\n",
       "        text-align: right;\n",
       "    }\n",
       "</style>\n",
       "<table border=\"1\" class=\"dataframe\">\n",
       "  <thead>\n",
       "    <tr style=\"text-align: right;\">\n",
       "      <th></th>\n",
       "      <th>V</th>\n",
       "      <th>B-V</th>\n",
       "    </tr>\n",
       "  </thead>\n",
       "  <tbody>\n",
       "    <tr>\n",
       "      <th>0</th>\n",
       "      <td>9.47</td>\n",
       "      <td>0.48</td>\n",
       "    </tr>\n",
       "    <tr>\n",
       "      <th>1</th>\n",
       "      <td>11.99</td>\n",
       "      <td>0.93</td>\n",
       "    </tr>\n",
       "    <tr>\n",
       "      <th>2</th>\n",
       "      <td>12.62</td>\n",
       "      <td>1.08</td>\n",
       "    </tr>\n",
       "    <tr>\n",
       "      <th>3</th>\n",
       "      <td>10.51</td>\n",
       "      <td>0.71</td>\n",
       "    </tr>\n",
       "    <tr>\n",
       "      <th>4</th>\n",
       "      <td>10.79</td>\n",
       "      <td>0.70</td>\n",
       "    </tr>\n",
       "  </tbody>\n",
       "</table>\n",
       "</div>"
      ],
      "text/plain": [
       "       V   B-V\n",
       "0   9.47  0.48\n",
       "1  11.99  0.93\n",
       "2  12.62  1.08\n",
       "3  10.51  0.71\n",
       "4  10.79  0.70"
      ]
     },
     "execution_count": 10,
     "metadata": {},
     "output_type": "execute_result"
    }
   ],
   "source": [
    "i1 = pd.read_csv('m45.txt',comment = '#', skiprows = 51, header = None, usecols = [1,2], names = ['V','B-V'], delim_whitespace = True)\n",
    "i1.head()"
   ]
  },
  {
   "cell_type": "code",
   "execution_count": 11,
   "id": "4ca4a2a2",
   "metadata": {},
   "outputs": [],
   "source": [
    "iso = pd.read_csv('../../../Isocronas/isocro.csv', header = 0)\n",
    "\n",
    "idades = iso['log(Age)']\n",
    "age = np.array([])\n",
    "for element in idades:\n",
    "    if element in age:\n",
    "        continue\n",
    "    elif element not in age:\n",
    "        age = np.append(age,element)\n",
    "\n",
    "iso1 = iso[iso['log(Age)']==idade1]"
   ]
  },
  {
   "cell_type": "code",
   "execution_count": 12,
   "id": "05297db3-c181-4d25-a067-85fba0661f07",
   "metadata": {},
   "outputs": [],
   "source": [
    "#np.unique(iso['log(Age)'])"
   ]
  },
  {
   "cell_type": "code",
   "execution_count": 13,
   "id": "577268c7",
   "metadata": {},
   "outputs": [
    {
     "data": {
      "text/plain": [
       "Text(0, 0.5, '$V$')"
      ]
     },
     "execution_count": 13,
     "metadata": {},
     "output_type": "execute_result"
    },
    {
     "data": {
      "image/png": "[encoded data removed]",
      "text/plain": [
       "<Figure size 504x360 with 1 Axes>"
      ]
     },
     "metadata": {
      "needs_background": "light"
     },
     "output_type": "display_data"
    }
   ],
   "source": [
    "plt.rc('xtick', labelsize=13) \n",
    "plt.rc('ytick', labelsize=13) \n",
    "\n",
    "\n",
    "font = {'family' : 'sans-serif',\n",
    "        'weight' : 'normal',\n",
    "        'size'   : 13}\n",
    "\n",
    "plt.rc('font', **font)\n",
    "\n",
    "fig,ax = plt.subplots(figsize=(7,5)) #(figsize=(10,8))\n",
    "plt.gca().invert_yaxis()\n",
    "plt.plot(iso1['(B-V)o'] + E,iso1['Mv'] +5*np.log10(d1/10)+3.1*E , label = 'Isócrona', color = 'black', zorder = 10)\n",
    "plt.scatter(i1['B-V'] ,i1['V'], label = 'M45', color = 'none', edgecolor = 'darkviolet')\n",
    "plt.legend(frameon=True)\n",
    "plt.xlabel(r\"$(B-V)$\")\n",
    "plt.ylabel(r\"$V$\")"
   ]
  },
  {
   "cell_type": "code",
   "execution_count": 14,
   "id": "e95757e7-9bd3-4ce2-846a-4b5c4cdf217c",
   "metadata": {},
   "outputs": [],
   "source": [
    "def jpt(X,Y):\n",
    "    array = (X - Y)  \n",
    "    array = np.sum(array**2, axis = 1)\n",
    "    A, B = np.argpartition(array, 1)[0:2]\n",
    "    return A,B\n",
    "\n",
    "\n",
    "def frayn(X1,X2,X3):\n",
    "  h = 2*((X3[0]-X1[0])*(X2[1]-X1[1]) - (X3[1]-X1[1])*(X2[0]-X1[0]))/np.sqrt(dist(X1,X2))\n",
    "  return h**2\n",
    "\n",
    "def dist(X,Y):\n",
    "  distancia = 0\n",
    "  for j in range(len(X)):\n",
    "    distancia+= (X[j] - Y[j])**2\n",
    "  return distancia\n"
   ]
  },
  {
   "cell_type": "code",
   "execution_count": 15,
   "id": "0dfe0ac6",
   "metadata": {},
   "outputs": [
    {
     "name": "stdout",
     "output_type": "stream",
     "text": [
      "Tempo decorrido:  0.5577843189239502\n"
     ]
    }
   ],
   "source": [
    "modulodist_inicial = 5*np.log10(d1/10) + E*3.1\n",
    "\n",
    "arrays_de_incremento = np.arange(0,3.05,0.05)\n",
    "\n",
    "subtracao_distancias = np.concatenate((-1*np.flip(arrays_de_incremento[1:]),arrays_de_incremento))\n",
    "modulo_distancia = subtracao_distancias + modulodist_inicial\n",
    "\n",
    "Yiso = np.zeros((len(modulo_distancia), len(iso1)))\n",
    "\n",
    "for i in range(len(modulo_distancia)):\n",
    "  Yiso[i] = iso1['Mv'] + modulo_distancia[i]\n",
    "\n",
    "Xiso = np.zeros_like(Yiso)\n",
    "Xiso[:] = iso1['(B-V)o'] + E\n",
    "\n",
    "ISO = np.dstack((Xiso,Yiso))\n",
    "ISO = np.unique(ISO,axis=1)\n",
    "\n",
    "Xaglo = i1['B-V'] \n",
    "Yaglo = i1['V']\n",
    "AGLO = np.vstack((Xaglo,Yaglo)).T\n",
    "\n",
    "chisquared = np.zeros_like(modulo_distancia)\n",
    "Beauchamp = np.zeros_like(modulo_distancia)\n",
    "\n",
    "start = time.time()\n",
    "for i in range(len(ISO)):\n",
    "  for j in range(len(AGLO)):\n",
    "    C,D = jpt(AGLO[j],ISO[i])\n",
    "    final = frayn(ISO[i][C], ISO[i][D],AGLO[j])\n",
    "    chisquared[i] += final\n",
    "    Beauchamp[i] += final*10**(-0.4*AGLO[j][1])\n",
    "end = time.time()\n",
    "print('Tempo decorrido: ', end-start)"
   ]
  },
  {
   "cell_type": "code",
   "execution_count": 16,
   "id": "9adbb0da",
   "metadata": {},
   "outputs": [
    {
     "data": {
      "text/plain": [
       "Text(0.5, 0.98, 'M45')"
      ]
     },
     "execution_count": 16,
     "metadata": {},
     "output_type": "execute_result"
    },
    {
     "data": {
      "image/png": "[encoded data removed]",
      "text/plain": [
       "<Figure size 936x432 with 2 Axes>"
      ]
     },
     "metadata": {
      "needs_background": "light"
     },
     "output_type": "display_data"
    }
   ],
   "source": [
    "fig, (ax1, ax2) = plt.subplots(1,2, figsize = (13,6))\n",
    "ax1.scatter(modulo_distancia, Beauchamp, color = 'k')\n",
    "ax2.scatter(modulo_distancia, chisquared, color = 'k')\n",
    "ax1.set_xlabel(r'$ \\mathbf{V - M_V}$')\n",
    "ax2.set_xlabel(r'$ \\mathbf{V - M_V}$')\n",
    "ax1.set_ylabel('Função Beauchamp', fontweight = 'bold')\n",
    "ax2.set_ylabel(r'$ \\mathbf{\\chi^2}$')\n",
    "\n",
    "fig.suptitle('M45', fontweight = 'bold')\n",
    "\n"
   ]
  },
  {
   "cell_type": "code",
   "execution_count": 17,
   "id": "11e794cc",
   "metadata": {},
   "outputs": [],
   "source": [
    "beau = np.where(Beauchamp==min(Beauchamp))[0]\n",
    "noweight = np.where(chisquared==min(chisquared))[0] ## Definindo os valores onde a funcao definida é mínima"
   ]
  },
  {
   "cell_type": "code",
   "execution_count": 18,
   "id": "a7a8289e-1386-4e23-b0ce-895768fa1a8d",
   "metadata": {},
   "outputs": [
    {
     "data": {
      "text/plain": [
       "5.667694541851088"
      ]
     },
     "execution_count": 18,
     "metadata": {},
     "output_type": "execute_result"
    }
   ],
   "source": [
    "5*np.log10(136) - 5"
   ]
  },
  {
   "cell_type": "code",
   "execution_count": 19,
   "id": "634b3b18",
   "metadata": {},
   "outputs": [
    {
     "data": {
      "text/plain": [
       "array([5.64201749])"
      ]
     },
     "execution_count": 19,
     "metadata": {},
     "output_type": "execute_result"
    }
   ],
   "source": [
    "observado = 5*np.log10(136) - 5  #V-Mv\n",
    "\n",
    "minimo_beau = modulo_distancia[beau]\n",
    "minimo_chi = modulo_distancia[noweight]\n",
    "minimo_chi"
   ]
  },
  {
   "cell_type": "code",
   "execution_count": 20,
   "id": "a3d4f05e",
   "metadata": {},
   "outputs": [
    {
     "data": {
      "image/png": "[encoded data removed]",
      "text/plain": [
       "<Figure size 720x576 with 1 Axes>"
      ]
     },
     "metadata": {
      "needs_background": "light"
     },
     "output_type": "display_data"
    }
   ],
   "source": [
    "plt.rc('xtick', labelsize=13) \n",
    "plt.rc('ytick', labelsize=13) \n",
    "\n",
    "\n",
    "font = {'family' : 'sans-serif',\n",
    "        'weight' : 'normal',\n",
    "        'size'   : 13}\n",
    "\n",
    "plt.rc('font', **font)\n",
    "\n",
    "fig,ax = plt.subplots(figsize=(10,8)) #(figsize=(10,8))\n",
    "plt.gca().invert_yaxis()\n",
    "#plt.plot(iso1['(B-V)o'] + E, iso1['Mv'] + minimo_beau , label = 'Beauchamp', color = 'green', zorder = 10)\n",
    "plt.plot(iso1['(B-V)o'] + E, iso1['Mv'] + minimo_chi , label = r'$ \\chi^2 $', color = 'red', zorder = 10)  \n",
    "plt.plot(iso1['(B-V)o'] + E,iso1['Mv'] + modulodist_inicial , '--', label = 'Isócrona Inicial', color = 'magenta', zorder = 10)\n",
    "plt.plot(iso1['(B-V)o'] + E,iso1['Mv'] + observado , '--', label = 'Teórica', color = 'blue', zorder = 10)\n",
    "plt.scatter(i1['B-V'] ,i1['V'], label = 'M45', color = 'none', edgecolor = 'black')\n",
    "plt.legend(frameon=True)\n",
    "plt.xlabel(r\"$ \\mathbf{(B-V)}$\")\n",
    "plt.ylabel(r\"$ \\mathbf{V}$\");\n"
   ]
  },
  {
   "cell_type": "code",
   "execution_count": 21,
   "id": "ed46ff6f",
   "metadata": {},
   "outputs": [
    {
     "name": "stdout",
     "output_type": "stream",
     "text": [
      "Tempo decorrido:  0.2528660297393799\n"
     ]
    }
   ],
   "source": [
    "BeauchampAGES = np.zeros_like(age)\n",
    "chisquaredAGES = np.zeros_like(age)\n",
    "\n",
    "start = time.time()\n",
    "for j in range(len(age)):\n",
    "  data = iso[iso['log(Age)'] == age[j]]\n",
    "  Xiso = np.array(data['(B-V)o'] + E)\n",
    "  Yiso = np.array(data['Mv'] + minimo_chi)\n",
    "  ISO = (np.vstack((Xiso,Yiso)).T)\n",
    "  ISO = np.unique(ISO, axis=0)\n",
    "  for i in range(len(AGLO)):\n",
    "    C,D = jpt(AGLO[i],ISO)\n",
    "    final = frayn(ISO[C], ISO[D],AGLO[i])\n",
    "    chisquaredAGES[j] += final\n",
    "    BeauchampAGES[j] += final*10**(-0.4*AGLO[i][1])\n",
    "end = time.time()\n",
    "print('Tempo decorrido: ', end-start)"
   ]
  },
  {
   "cell_type": "code",
   "execution_count": 22,
   "id": "4f9b6bd9",
   "metadata": {},
   "outputs": [
    {
     "data": {
      "text/plain": [
       "Text(0.5, 0.98, 'M45')"
      ]
     },
     "execution_count": 22,
     "metadata": {},
     "output_type": "execute_result"
    },
    {
     "data": {
      "image/png": "[encoded data removed]",
      "text/plain": [
       "<Figure size 936x432 with 2 Axes>"
      ]
     },
     "metadata": {
      "needs_background": "light"
     },
     "output_type": "display_data"
    }
   ],
   "source": [
    "fig, (ax1, ax2) = plt.subplots(1,2, figsize = (13,6))\n",
    "ax1.scatter(age, BeauchampAGES, color = 'none', edgecolor = 'red', s = 20)\n",
    "ax2.scatter(age, chisquaredAGES, color = 'none', edgecolor = 'blue', s = 20)\n",
    "ax1.set_xlabel('log(Age)',  fontweight = 'bold')\n",
    "ax2.set_xlabel('log(Age)',  fontweight = 'bold')\n",
    "ax1.set_ylabel('Função Beauchamp',  fontweight = 'bold')\n",
    "ax2.set_ylabel(r'$ \\mathbf{\\chi^2}$')\n",
    "fig.suptitle('M45', fontweight = 'bold')\n",
    "\n",
    "#from google.colab import files\n",
    "#plt.savefig('aglomerado1chiAGES.png', format = 'png')\n",
    "#files.download('aglomerado1chiAGES.png') "
   ]
  },
  {
   "cell_type": "code",
   "execution_count": 23,
   "id": "b428c4f8",
   "metadata": {},
   "outputs": [
    {
     "data": {
      "text/plain": [
       "array([9. , 8.9, 8.8, 8.7, 8.6, 8.5, 8.4, 8.3, 8.2, 8.1, 8. , 7.9, 7.8,\n",
       "       7.7, 7.6, 7.5, 7.4, 7.3, 7.2, 7.1])"
      ]
     },
     "execution_count": 23,
     "metadata": {},
     "output_type": "execute_result"
    }
   ],
   "source": [
    "newage = age[25:45]\n",
    "newage"
   ]
  },
  {
   "cell_type": "code",
   "execution_count": 24,
   "id": "9496445c",
   "metadata": {},
   "outputs": [
    {
     "name": "stdout",
     "output_type": "stream",
     "text": [
      "Tempo decorrido:  11.00098204612732\n"
     ]
    }
   ],
   "source": [
    "Xaglo = i1['B-V'] \n",
    "Yaglo = i1['V']\n",
    "AGLO = np.vstack((Xaglo,Yaglo)).T\n",
    "\n",
    "Beauchamp_n_ages = np.zeros((len(newage),len(modulo_distancia)))\n",
    "chisquared_n_ages = np.zeros((len(newage),len(modulo_distancia)))\n",
    "\n",
    "start = time.time()\n",
    "for w in range(len(newage)):\n",
    "  data = iso[iso['log(Age)'] == newage[w]]\n",
    "  Yiso = np.zeros((len(modulo_distancia), len(data)))\n",
    "  for k in range(len(modulo_distancia)):\n",
    "    Yiso[k] = data['Mv'] + modulo_distancia[k]\n",
    "  Xiso = np.zeros_like(Yiso)\n",
    "  Xiso[:] = data['(B-V)o'] + E\n",
    "  ISO = np.dstack((Xiso,Yiso))\n",
    "  ISO = np.unique(ISO,axis=1)\n",
    "  chisquared = np.zeros_like(modulo_distancia)\n",
    "  Beauchamp = np.zeros_like(modulo_distancia)\n",
    "  for i in range(len(ISO)):\n",
    "    for j in range(len(AGLO)):\n",
    "      C,D = jpt(AGLO[j],ISO[i])\n",
    "      if C==D:\n",
    "          print(j,i)\n",
    "          final = frayn(ISO[i][C], ISO[i][C+1],AGLO[j])\n",
    "      else:\n",
    "          final = frayn(ISO[i][C], ISO[i][D],AGLO[j])    \n",
    "      chisquared_n_ages[w][i] += final\n",
    "      Beauchamp_n_ages[w][i] += final*10**(-0.4*AGLO[j][1])\n",
    "end = time.time()\n",
    "print('Tempo decorrido: ', end-start)"
   ]
  },
  {
   "cell_type": "code",
   "execution_count": 25,
   "id": "ff277ba3-9fdc-4a92-9ba0-2b3cbc11a2ba",
   "metadata": {},
   "outputs": [],
   "source": [
    "def chi_to_age(IDADE):\n",
    "  data = iso[iso['log(Age)'] == IDADE]\n",
    "  Yiso = np.zeros((len(modulo_distancia), len(data)))\n",
    "  for k in range(len(modulo_distancia)):\n",
    "    Yiso[k] = data['Mv'] + modulo_distancia[k]\n",
    "  Xiso = np.zeros_like(Yiso)\n",
    "  Xiso[:] = data['(B-V)o'] + E\n",
    "  ISO = np.dstack((Xiso,Yiso))\n",
    "  ISO = np.unique(ISO,axis=1)\n",
    "  A = np.zeros(len(ISO))\n",
    "  B = np.zeros(len(ISO))\n",
    "  for i in range(len(ISO)):\n",
    "    for j in range(len(AGLO)):\n",
    "      C,D = jpt(AGLO[j],ISO[i])\n",
    "      final = frayn(ISO[i][C], ISO[i][D],AGLO[j])\n",
    "      A[i] += final\n",
    "  return A"
   ]
  },
  {
   "cell_type": "code",
   "execution_count": 26,
   "id": "709ba32f-cd09-4d3e-8f06-9536dba00c70",
   "metadata": {},
   "outputs": [
    {
     "name": "stdout",
     "output_type": "stream",
     "text": [
      "2.9621362686157227\n"
     ]
    }
   ],
   "source": [
    "start = time.time()\n",
    "with concurrent.futures.ProcessPoolExecutor() as executor:\n",
    "  results = executor.map(chi_to_age,newage)\n",
    "end = time.time()\n",
    "\n",
    "resultado = []\n",
    "for i in results:\n",
    "    resultado.append(i)\n",
    "    \n",
    "resultado = np.array(resultado)\n",
    "print(end-start)\n",
    "\n"
   ]
  },
  {
   "cell_type": "code",
   "execution_count": 27,
   "id": "dee47e01-6769-42e8-a506-48063a7f3390",
   "metadata": {},
   "outputs": [
    {
     "data": {
      "text/plain": [
       "Text(0.5, 1.0, 'M45')"
      ]
     },
     "execution_count": 27,
     "metadata": {},
     "output_type": "execute_result"
    },
    {
     "data": {
      "image/png": "[encoded data removed]",
      "text/plain": [
       "<Figure size 576x432 with 2 Axes>"
      ]
     },
     "metadata": {
      "needs_background": "light"
     },
     "output_type": "display_data"
    }
   ],
   "source": [
    "plt.rc('xtick', labelsize=12) \n",
    "plt.rc('ytick', labelsize=12) \n",
    "\n",
    "\n",
    "font = {'family' : 'serif',\n",
    "        'weight' : 'normal',\n",
    "        'size'   : 12}\n",
    "\n",
    "plt.rc('font', **font)\n",
    "\n",
    "\n",
    "import matplotlib.cm as cm\n",
    "from mpl_toolkits.axes_grid1 import ImageGrid\n",
    "z = resultado\n",
    "x = modulo_distancia\n",
    "y = newage\n",
    "\n",
    "# Set colomap\n",
    "cmap = cm.get_cmap('jet')\n",
    "cmap = cm.jet\n",
    "\n",
    "fig,ax = plt.subplots(figsize=(8,6)) #(figsize=(10,8))\n",
    "levels = len(modulo_distancia)\n",
    "im  = ax.contourf(x, y, z, levels= levels, antialiased=False, cmap=cmap)\n",
    "\n",
    "\n",
    "cbar = fig.colorbar(im)\n",
    "cbar.set_label('Beauchamp', fontweight = 'bold', rotation=270, labelpad=15)\n",
    "\n",
    "ax.set_xlabel(r'$ \\mathbf{V - M_V}$', fontweight = 'bold', labelpad=10)\n",
    "ax.set_ylabel('log(Age)', fontweight = 'bold', labelpad=10)\n",
    "ax.set_title('M45', fontweight = 'bold')\n",
    "#plt.savefig('ag1_colourfill_teste_beau.png', format = 'png')"
   ]
  },
  {
   "cell_type": "code",
   "execution_count": 36,
   "id": "e229298c-c197-449f-b9cc-1d169776dce6",
   "metadata": {},
   "outputs": [
    {
     "data": {
      "text/plain": [
       "array([[ 4.800e-01,  9.470e+00],\n",
       "       [ 9.300e-01,  1.199e+01],\n",
       "       [ 1.080e+00,  1.262e+01],\n",
       "       [ 7.100e-01,  1.051e+01],\n",
       "       [ 7.000e-01,  1.079e+01],\n",
       "       [ 8.800e-01,  1.147e+01],\n",
       "       [ 6.900e-01,  1.073e+01],\n",
       "       [ 1.500e-01,  7.510e+00],\n",
       "       [ 3.400e-01,  7.900e+00],\n",
       "       [ 2.500e-01,  8.230e+00],\n",
       "       [ 4.900e-01,  9.530e+00],\n",
       "       [ 8.600e-01,  1.087e+01],\n",
       "       [ 8.500e-01,  1.162e+01],\n",
       "       [ 8.000e-01,  1.051e+01],\n",
       "       [ 8.100e-01,  1.129e+01],\n",
       "       [ 2.000e-01,  8.050e+00],\n",
       "       [ 5.200e-01,  9.660e+00],\n",
       "       [ 7.800e-01,  1.102e+01],\n",
       "       [ 6.900e-01,  1.070e+01],\n",
       "       [ 6.800e-01,  1.066e+01],\n",
       "       [ 8.800e-01,  1.154e+01],\n",
       "       [ 7.100e-01,  1.079e+01],\n",
       "       [ 8.400e-01,  1.146e+01],\n",
       "       [ 8.800e-01,  1.086e+01],\n",
       "       [ 9.000e-01,  1.048e+01],\n",
       "       [ 6.500e-01,  1.058e+01],\n",
       "       [ 8.900e-01,  1.103e+01],\n",
       "       [ 4.600e-01,  9.060e+00],\n",
       "       [ 2.700e-01,  8.160e+00],\n",
       "       [ 8.500e-01,  1.161e+01],\n",
       "       [ 5.400e-01,  9.820e+00],\n",
       "       [ 8.200e-01,  1.140e+01],\n",
       "       [-4.000e-02,  5.450e+00],\n",
       "       [-1.100e-01,  3.700e+00],\n",
       "       [ 4.000e-01,  8.900e+00],\n",
       "       [ 8.100e-01,  1.080e+01],\n",
       "       [ 6.300e-01,  1.038e+01],\n",
       "       [ 7.000e-01,  1.071e+01],\n",
       "       [ 9.200e-01,  1.196e+01],\n",
       "       [ 3.900e-01,  8.950e+00],\n",
       "       [ 3.400e-01,  8.570e+00],\n",
       "       [-7.000e-02,  5.650e+00],\n",
       "       [-1.100e-01,  4.300e+00],\n",
       "       [ 7.800e-01,  1.123e+01],\n",
       "       [ 4.400e-01,  8.980e+00],\n",
       "       [ 5.100e-01,  9.660e+00],\n",
       "       [ 2.100e-01,  8.030e+00],\n",
       "       [ 9.400e-01,  1.209e+01],\n",
       "       [ 3.500e-01,  8.590e+00],\n",
       "       [ 6.100e-01,  1.012e+01],\n",
       "       [ 1.600e-01,  7.170e+00],\n",
       "       [ 5.500e-01,  9.700e+00],\n",
       "       [ 1.160e+00,  1.228e+01],\n",
       "       [ 6.200e-01,  9.550e+00],\n",
       "       [ 5.200e-01,  9.450e+00],\n",
       "       [ 8.500e-01,  1.128e+01],\n",
       "       [ 6.900e-01,  1.056e+01],\n",
       "       [-7.000e-02,  3.880e+00],\n",
       "       [ 4.000e-02,  6.850e+00],\n",
       "       [ 2.000e-01,  7.840e+00],\n",
       "       [-4.000e-02,  5.760e+00],\n",
       "       [-2.000e-02,  6.420e+00],\n",
       "       [ 1.250e+00,  1.261e+01],\n",
       "       [ 1.070e+00,  1.279e+01],\n",
       "       [ 1.010e+00,  1.206e+01],\n",
       "       [ 8.700e-01,  1.171e+01],\n",
       "       [ 6.200e-01,  1.014e+01],\n",
       "       [ 3.200e-01,  7.960e+00],\n",
       "       [ 8.200e-01,  1.057e+01],\n",
       "       [-6.000e-02,  4.180e+00],\n",
       "       [ 6.500e-01,  1.041e+01],\n",
       "       [ 6.500e-01,  1.055e+01],\n",
       "       [ 1.000e-01,  7.350e+00],\n",
       "       [ 8.100e-01,  1.122e+01],\n",
       "       [ 3.600e-01,  8.120e+00],\n",
       "       [ 8.800e-01,  1.192e+01],\n",
       "       [ 1.140e+00,  1.217e+01],\n",
       "       [ 6.100e-01,  1.027e+01],\n",
       "       [ 7.300e-01,  1.020e+01],\n",
       "       [ 4.600e-01,  9.280e+00],\n",
       "       [ 9.500e-01,  1.222e+01],\n",
       "       [ 4.900e-01,  9.420e+00],\n",
       "       [ 1.000e+00,  1.210e+01],\n",
       "       [ 4.800e-01,  9.380e+00],\n",
       "       [ 6.400e-01,  1.046e+01],\n",
       "       [ 5.400e-01,  9.900e+00],\n",
       "       [ 6.200e-01,  1.047e+01],\n",
       "       [ 6.400e-01,  1.053e+01],\n",
       "       [ 8.800e-01,  1.174e+01],\n",
       "       [ 2.000e-02,  6.820e+00],\n",
       "       [ 3.600e-01,  8.280e+00],\n",
       "       [ 8.300e-01,  1.146e+01],\n",
       "       [ 3.000e-01,  8.370e+00],\n",
       "       [ 1.010e+00,  1.226e+01],\n",
       "       [ 4.700e-01,  9.450e+00],\n",
       "       [ 1.030e+00,  1.246e+01],\n",
       "       [ 4.600e-01,  8.690e+00],\n",
       "       [ 2.600e-01,  8.250e+00],\n",
       "       [ 2.000e-02,  6.290e+00],\n",
       "       [ 3.000e-02,  6.990e+00],\n",
       "       [ 2.100e-01,  7.660e+00],\n",
       "       [ 5.000e-02,  7.250e+00],\n",
       "       [ 2.500e-01,  8.130e+00],\n",
       "       [ 1.600e-01,  7.760e+00],\n",
       "       [ 6.000e-02,  6.810e+00],\n",
       "       [-9.000e-02,  2.870e+00],\n",
       "       [ 6.500e-01,  1.048e+01],\n",
       "       [ 1.100e+00,  1.235e+01],\n",
       "       [ 7.500e-01,  1.111e+01],\n",
       "       [ 5.400e-01,  9.870e+00],\n",
       "       [ 5.400e-01,  9.270e+00],\n",
       "       [ 3.600e-01,  8.260e+00],\n",
       "       [ 4.700e-01,  9.130e+00],\n",
       "       [ 7.200e-01,  1.092e+01],\n",
       "       [ 6.400e-01,  1.036e+01],\n",
       "       [ 5.600e-01,  1.010e+01],\n",
       "       [-7.000e-02,  5.440e+00],\n",
       "       [ 5.600e-01,  1.002e+01],\n",
       "       [ 1.200e-01,  6.950e+00],\n",
       "       [ 4.900e-01,  9.050e+00],\n",
       "       [ 6.200e-01,  1.034e+01],\n",
       "       [ 2.800e-01,  8.370e+00],\n",
       "       [ 8.600e-01,  1.091e+01],\n",
       "       [ 8.600e-01,  1.153e+01],\n",
       "       [ 8.600e-01,  1.168e+01],\n",
       "       [ 8.100e-01,  1.085e+01],\n",
       "       [-8.000e-02,  3.630e+00],\n",
       "       [ 6.200e-01,  1.044e+01],\n",
       "       [-7.000e-02,  5.090e+00],\n",
       "       [ 2.200e-01,  8.110e+00],\n",
       "       [ 1.000e-01,  7.510e+00],\n",
       "       [-3.000e-02,  6.600e+00],\n",
       "       [ 8.700e-01,  1.091e+01],\n",
       "       [ 7.800e-01,  1.135e+01],\n",
       "       [ 1.800e-01,  7.970e+00],\n",
       "       [ 8.200e-01,  1.135e+01],\n",
       "       [ 7.100e-01,  1.087e+01],\n",
       "       [ 4.400e-01,  9.090e+00],\n",
       "       [ 8.200e-01,  1.153e+01],\n",
       "       [ 7.600e-01,  1.110e+01],\n",
       "       [ 1.020e+00,  1.224e+01],\n",
       "       [ 2.200e-01,  8.100e+00],\n",
       "       [-5.000e-02,  6.170e+00],\n",
       "       [ 8.300e-01,  1.152e+01],\n",
       "       [ 8.000e-02,  7.530e+00],\n",
       "       [ 6.000e-01,  1.023e+01],\n",
       "       [ 6.000e-02,  6.740e+00],\n",
       "       [ 7.400e-01,  1.105e+01],\n",
       "       [ 8.300e-01,  1.136e+01],\n",
       "       [ 1.300e-01,  7.410e+00],\n",
       "       [ 6.000e-01,  1.031e+01],\n",
       "       [ 9.000e-02,  6.930e+00],\n",
       "       [ 8.600e-01,  1.175e+01],\n",
       "       [ 9.600e-01,  1.155e+01],\n",
       "       [ 3.800e-01,  8.820e+00],\n",
       "       [ 9.600e-01,  1.212e+01],\n",
       "       [ 7.400e-01,  1.097e+01],\n",
       "       [ 5.600e-01,  1.004e+01],\n",
       "       [ 1.100e+00,  1.211e+01],\n",
       "       [ 5.100e-01,  9.550e+00],\n",
       "       [ 3.600e-01,  8.840e+00],\n",
       "       [ 5.100e-01,  9.200e+00],\n",
       "       [ 0.000e+00,  6.700e+00],\n",
       "       [ 4.000e-02,  7.090e+00],\n",
       "       [ 8.000e-02,  7.260e+00],\n",
       "       [ 3.500e-01,  8.800e+00],\n",
       "       [ 4.400e-01,  9.160e+00],\n",
       "       [ 4.600e-01,  9.150e+00],\n",
       "       [ 4.700e-01,  8.580e+00],\n",
       "       [ 4.900e-01,  9.120e+00],\n",
       "       [ 1.800e-01,  7.730e+00],\n",
       "       [ 1.900e-01,  7.810e+00],\n",
       "       [ 2.200e-01,  8.030e+00],\n",
       "       [ 3.600e-01,  8.700e+00],\n",
       "       [ 2.600e-01,  8.300e+00],\n",
       "       [ 3.900e-01,  8.400e+00],\n",
       "       [ 1.800e-01,  7.720e+00],\n",
       "       [ 3.000e-02,  7.000e+00],\n",
       "       [-1.000e-02,  6.070e+00],\n",
       "       [ 5.000e-01,  9.640e+00],\n",
       "       [ 1.600e-01,  7.640e+00],\n",
       "       [ 4.800e-01,  9.440e+00],\n",
       "       [ 5.400e-01,  9.080e+00],\n",
       "       [ 4.300e-01,  9.070e+00],\n",
       "       [ 6.700e-01,  1.047e+01],\n",
       "       [ 2.700e-01,  8.340e+00],\n",
       "       [ 4.000e-02,  7.190e+00],\n",
       "       [ 5.100e-01,  9.200e+00],\n",
       "       [ 7.000e-01,  1.087e+01],\n",
       "       [ 5.100e-01,  9.570e+00],\n",
       "       [ 6.600e-01,  1.048e+01],\n",
       "       [ 6.800e-01,  1.076e+01],\n",
       "       [ 1.040e+00,  1.245e+01],\n",
       "       [ 8.600e-01,  1.156e+01],\n",
       "       [ 7.300e-01,  1.089e+01],\n",
       "       [ 5.800e-01,  1.009e+01],\n",
       "       [ 5.400e-01,  9.930e+00],\n",
       "       [ 6.200e-01,  1.039e+01],\n",
       "       [ 8.900e-01,  1.177e+01],\n",
       "       [ 6.500e-01,  1.054e+01],\n",
       "       [ 9.400e-01,  1.212e+01],\n",
       "       [ 5.900e-01,  1.009e+01],\n",
       "       [ 9.800e-01,  1.174e+01],\n",
       "       [ 6.400e-01,  1.038e+01],\n",
       "       [ 9.400e-01,  1.205e+01],\n",
       "       [ 9.800e-01,  1.159e+01],\n",
       "       [ 8.100e-01,  1.120e+01],\n",
       "       [ 7.300e-01,  1.078e+01],\n",
       "       [ 5.500e-01,  9.850e+00],\n",
       "       [ 6.700e-01,  1.041e+01],\n",
       "       [ 7.700e-01,  1.111e+01],\n",
       "       [ 8.700e-01,  1.119e+01],\n",
       "       [ 5.700e-01,  9.940e+00],\n",
       "       [ 9.400e-01,  1.215e+01],\n",
       "       [ 9.600e-01,  1.224e+01],\n",
       "       [ 9.000e-01,  1.167e+01],\n",
       "       [ 8.200e-01,  1.149e+01],\n",
       "       [ 7.400e-01,  1.106e+01],\n",
       "       [ 9.000e-01,  1.202e+01],\n",
       "       [ 8.400e-01,  1.154e+01],\n",
       "       [ 8.100e-01,  1.143e+01],\n",
       "       [ 5.600e-01,  9.840e+00],\n",
       "       [ 8.500e-01,  1.157e+01],\n",
       "       [ 8.500e-01,  1.165e+01],\n",
       "       [ 8.200e-01,  1.149e+01],\n",
       "       [ 9.100e-01,  1.190e+01],\n",
       "       [ 7.400e-01,  1.097e+01],\n",
       "       [ 7.700e-01,  1.103e+01],\n",
       "       [ 7.300e-01,  1.109e+01],\n",
       "       [ 8.800e-01,  1.163e+01],\n",
       "       [ 1.070e+00,  1.269e+01],\n",
       "       [ 6.600e-01,  1.029e+01],\n",
       "       [ 9.600e-01,  1.198e+01],\n",
       "       [ 5.400e-01,  9.850e+00],\n",
       "       [ 6.200e-01,  1.065e+01],\n",
       "       [ 6.500e-01,  1.027e+01],\n",
       "       [ 8.000e-01,  1.122e+01],\n",
       "       [ 4.900e-01,  9.470e+00],\n",
       "       [ 8.500e-01,  1.162e+01],\n",
       "       [ 8.900e-01,  1.172e+01],\n",
       "       [ 6.600e-01,  1.051e+01],\n",
       "       [ 7.100e-01,  1.115e+01],\n",
       "       [ 6.300e-01,  1.044e+01],\n",
       "       [ 4.500e-01,  9.600e+00],\n",
       "       [ 5.800e-01,  9.670e+00],\n",
       "       [ 5.400e-01,  9.750e+00],\n",
       "       [ 7.000e-01,  1.084e+01],\n",
       "       [ 7.800e-01,  1.120e+01],\n",
       "       [ 1.070e+00,  1.266e+01],\n",
       "       [ 5.200e-01,  9.630e+00],\n",
       "       [ 9.700e-01,  1.219e+01],\n",
       "       [ 1.080e+00,  1.245e+01],\n",
       "       [ 1.050e+00,  1.188e+01],\n",
       "       [ 4.400e-01,  9.110e+00],\n",
       "       [ 6.900e-01,  1.096e+01],\n",
       "       [ 6.100e-01,  1.059e+01],\n",
       "       [ 8.400e-01,  1.175e+01],\n",
       "       [ 4.700e-01,  9.430e+00],\n",
       "       [ 2.600e-01,  8.100e+00],\n",
       "       [ 7.700e-01,  1.129e+01],\n",
       "       [ 5.800e-01,  9.350e+00],\n",
       "       [ 1.000e+00,  1.220e+01],\n",
       "       [ 7.100e-01,  1.114e+01],\n",
       "       [ 2.900e-01,  8.580e+00],\n",
       "       [ 8.100e-01,  1.133e+01],\n",
       "       [ 1.020e+00,  1.249e+01],\n",
       "       [ 8.100e-01,  1.072e+01],\n",
       "       [ 4.400e-01,  9.170e+00],\n",
       "       [ 7.100e-01,  1.086e+01],\n",
       "       [ 8.200e-01,  1.146e+01]])"
      ]
     },
     "execution_count": 36,
     "metadata": {},
     "output_type": "execute_result"
    }
   ],
   "source": [
    "AGLO[:]"
   ]
  }
 ],
 "metadata": {
  "kernelspec": {
   "display_name": "Python 3 (ipykernel)",
   "language": "python",
   "name": "python3"
  },
  "language_info": {
   "codemirror_mode": {
    "name": "ipython",
    "version": 3
   },
   "file_extension": ".py",
   "mimetype": "text/x-python",
   "name": "python",
   "nbconvert_exporter": "python",
   "pygments_lexer": "ipython3",
   "version": "3.9.7"
  }
 },
 "nbformat": 4,
 "nbformat_minor": 5
}
