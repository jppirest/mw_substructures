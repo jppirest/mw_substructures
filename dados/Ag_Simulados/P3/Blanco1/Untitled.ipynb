{
 "cells": [
  {
   "cell_type": "code",
   "execution_count": 1,
   "id": "f79e6ba6-55da-4502-8e3c-4c8209f4e6f4",
   "metadata": {},
   "outputs": [],
   "source": [
    "import matplotlib.pyplot as plt\n",
    "import numpy as np\n",
    "import pandas as pd\n",
    "from scipy.odr import * "
   ]
  },
  {
   "cell_type": "code",
   "execution_count": 10,
   "id": "0d054b35-b92f-4c31-9188-455327195c55",
   "metadata": {},
   "outputs": [
    {
     "data": {
      "text/html": [
       "<div>\n",
       "<style scoped>\n",
       "    .dataframe tbody tr th:only-of-type {\n",
       "        vertical-align: middle;\n",
       "    }\n",
       "\n",
       "    .dataframe tbody tr th {\n",
       "        vertical-align: top;\n",
       "    }\n",
       "\n",
       "    .dataframe thead th {\n",
       "        text-align: right;\n",
       "    }\n",
       "</style>\n",
       "<table border=\"1\" class=\"dataframe\">\n",
       "  <thead>\n",
       "    <tr style=\"text-align: right;\">\n",
       "      <th></th>\n",
       "      <th>V</th>\n",
       "      <th>B-V</th>\n",
       "    </tr>\n",
       "  </thead>\n",
       "  <tbody>\n",
       "    <tr>\n",
       "      <th>0</th>\n",
       "      <td>13.48</td>\n",
       "      <td>0.940</td>\n",
       "    </tr>\n",
       "    <tr>\n",
       "      <th>1</th>\n",
       "      <td>11.69</td>\n",
       "      <td>0.745</td>\n",
       "    </tr>\n",
       "    <tr>\n",
       "      <th>2</th>\n",
       "      <td>10.96</td>\n",
       "      <td>0.570</td>\n",
       "    </tr>\n",
       "    <tr>\n",
       "      <th>3</th>\n",
       "      <td>13.15</td>\n",
       "      <td>0.830</td>\n",
       "    </tr>\n",
       "    <tr>\n",
       "      <th>4</th>\n",
       "      <td>12.16</td>\n",
       "      <td>0.820</td>\n",
       "    </tr>\n",
       "  </tbody>\n",
       "</table>\n",
       "</div>"
      ],
      "text/plain": [
       "       V    B-V\n",
       "0  13.48  0.940\n",
       "1  11.69  0.745\n",
       "2  10.96  0.570\n",
       "3  13.15  0.830\n",
       "4  12.16  0.820"
      ]
     },
     "execution_count": 10,
     "metadata": {},
     "output_type": "execute_result"
    }
   ],
   "source": [
    "data = pd.read_csv('blanco1.fit',comment = '#', skiprows = 1, skipfooter = 1, header = None, usecols = [0,1], names = ['V','B-V'], delim_whitespace = True, engine = 'python')\n",
    "data.head()"
   ]
  },
  {
   "cell_type": "code",
   "execution_count": 11,
   "id": "0ebf3605-6894-4810-b61a-22a17d2406d7",
   "metadata": {},
   "outputs": [
    {
     "data": {
      "text/plain": [
       "LinregressResult(slope=5.206650666270763, intercept=8.318364830107678, rvalue=0.9657936169062323, pvalue=6.7989367657218894e-124, stderr=0.09693151037050242, intercept_stderr=0.09036561182279247)"
      ]
     },
     "execution_count": 11,
     "metadata": {},
     "output_type": "execute_result"
    }
   ],
   "source": [
    "from scipy.stats import linregress\n",
    "\n",
    "y = data['V']\n",
    "x = data['B-V']\n",
    "\n",
    "linregress(x,y)"
   ]
  },
  {
   "cell_type": "code",
   "execution_count": 8,
   "id": "8a2b185d-a2c5-466b-96e9-45a72478d296",
   "metadata": {},
   "outputs": [
    {
     "data": {
      "text/plain": [
       "0      13.48\n",
       "1      11.69\n",
       "2      10.96\n",
       "3      13.15\n",
       "4      12.16\n",
       "       ...  \n",
       "206    11.42\n",
       "207    12.12\n",
       "208    15.65\n",
       "209    15.51\n",
       "210      NaN\n",
       "Name: V, Length: 211, dtype: float64"
      ]
     },
     "execution_count": 8,
     "metadata": {},
     "output_type": "execute_result"
    }
   ],
   "source": [
    "y"
   ]
  }
 ],
 "metadata": {
  "kernelspec": {
   "display_name": "Python 3 (ipykernel)",
   "language": "python",
   "name": "python3"
  },
  "language_info": {
   "codemirror_mode": {
    "name": "ipython",
    "version": 3
   },
   "file_extension": ".py",
   "mimetype": "text/x-python",
   "name": "python",
   "nbconvert_exporter": "python",
   "pygments_lexer": "ipython3",
   "version": "3.9.7"
  }
 },
 "nbformat": 4,
 "nbformat_minor": 5
}
