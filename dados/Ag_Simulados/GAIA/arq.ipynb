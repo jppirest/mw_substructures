{
 "cells": [
  {
   "cell_type": "code",
   "execution_count": 1,
   "id": "394c072b-3843-45d5-84b9-1172e5138bbe",
   "metadata": {},
   "outputs": [],
   "source": [
    "import numpy as np"
   ]
  },
  {
   "cell_type": "code",
   "execution_count": 5,
   "id": "5e90c8ef-9260-43b1-b787-0380ec071c10",
   "metadata": {},
   "outputs": [],
   "source": [
    "final = open('jpt.csv', 'w')\n",
    "final.write('Zini,MH,logAge,Mini,int_IMF,Mass,logL,logTe,logg,label,McoreTP,C_O,p0,p1,p2,p3,p4,pmode,Mloss,tau1m,X,Y,Xc,Xn,Xo,Cexcess,Z,mbolmag,Gmag,G_BPmag,G_RPmag\\n')\n",
    "a = ','\n",
    "with open('isocrona2.dat', 'r') as f:\n",
    "    for i in range(15996):\n",
    "        line = f.readline()\n",
    "        x = line.split()\n",
    "        if x[0]=='#':\n",
    "            continue\n",
    "        else:\n",
    "            for j in range(len(x)):\n",
    "                if j == len(x) - 1:\n",
    "                    final.write(x[j] + '\\n')\n",
    "                else:\n",
    "                    final.write(x[j] + ',')\n",
    "final.close()"
   ]
  },
  {
   "cell_type": "code",
   "execution_count": null,
   "id": "f9ef55ea-9ba4-4db0-bf3c-4cbd4587f858",
   "metadata": {},
   "outputs": [],
   "source": [
    "# Zini     MH   logAge    Mini        int_IMF       Mass   logL    logTe  logg  label McoreTP C_O       p0       p1        p2      p3       p4 pmode Mloss         tau1m   X        Y         Xc       Xn        Xo      Cexcess  Z mbolmag  Gmag G_BPmag G_RPmag"
   ]
  }
 ],
 "metadata": {
  "kernelspec": {
   "display_name": "Python 3",
   "language": "python",
   "name": "python3"
  },
  "language_info": {
   "codemirror_mode": {
    "name": "ipython",
    "version": 3
   },
   "file_extension": ".py",
   "mimetype": "text/x-python",
   "name": "python",
   "nbconvert_exporter": "python",
   "pygments_lexer": "ipython3",
   "version": "3.8.8"
  }
 },
 "nbformat": 4,
 "nbformat_minor": 5
}
