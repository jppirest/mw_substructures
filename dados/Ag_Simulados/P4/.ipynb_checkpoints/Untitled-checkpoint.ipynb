{
 "cells": [
  {
   "cell_type": "code",
   "execution_count": 147,
   "id": "394c072b-3843-45d5-84b9-1172e5138bbe",
   "metadata": {},
   "outputs": [],
   "source": [
    "import numpy as np\n",
    "import pandas as pd"
   ]
  },
  {
   "cell_type": "code",
   "execution_count": 24,
   "id": "5e90c8ef-9260-43b1-b787-0380ec071c10",
   "metadata": {},
   "outputs": [
    {
     "name": "stdout",
     "output_type": "stream",
     "text": [
      "30\n",
      "['0.0152', '0.01508', '6.60000', '0.0900000036', '1.0816895962', '0.090', '-1.674', '3.4146', '3.676', '0', '0.000', '0.545', '0.00', '0.00', '0.00', '0.00', '0.00', '-1', '-1.3e-14', '0.00', '7.092e-01', '2.755e-01', '2.746e-03', '7.408e-04', '6.719e-03', '-1.000', '1.527e-02', '8.954', '10.894', '9.563']\n",
      "31\n",
      "['0.0152', '0.01508', '6.60000', '0.0900000036', '1.0816895962', '0.090', '-1.674', '3.4146', '3.676', '0', '0.000', '0.545', '0.00', '0.00', '0.00', '0.00', '0.00', '-1', '-1.3e-14', '0.00', '7.092e-01', '2.755e-01', '2.746e-03', '7.408e-04', '6.719e-03', '-1.000', '1.527e-02', '8.954', '10.894', '13.492', '9.563']\n"
     ]
    }
   ],
   "source": [
    "final = open('teste.csv', 'w')\n",
    "final.write('Zini,MH,logAge,Mini,int_IMF,Mass,logL,logTe,logg,label,McoreTP,C_O,p0,p1,p2,p3,p4,pmode,Mloss,tau1m,X,Y,Xc,Xn,Xo,Cexcess,Z,mbolmag,Gmag,G_BPmag,G_RPmag\\n')\n",
    "\n",
    "with open('isocronas.dat', 'r') as f:\n",
    "    for i in range(3):\n",
    "        line = f.readline()\n",
    "        if line[0]=='#':\n",
    "            continue\n",
    "        else:\n",
    "            x = line.split(maxsplit=31)\n",
    "            print(len(x))\n",
    "            print(x)\n",
    "            for j in range(len(x)):\n",
    "                if j == len(x) - 1:\n",
    "                    final.write(x[j] + '\\n')\n",
    "                else:\n",
    "                    final.write(x[j] + ',')\n",
    "final.close()"
   ]
  },
  {
   "cell_type": "code",
   "execution_count": 142,
   "id": "f9ef55ea-9ba4-4db0-bf3c-4cbd4587f858",
   "metadata": {},
   "outputs": [
    {
     "name": "stdout",
     "output_type": "stream",
     "text": [
      "['0.0152 0.01508 6.60000 0.0900000036 1.0816895962    0.090 -1.674  3.4146  3.676    0  0.000  0.545     0.00     0.00     0.00     0.00     0.00 -1  -1.3e-14      0.00 7.092e-01 2.755e-01 2.746e-03 7.408e-04 6.719e-03 -1.000 1.527e-02 8.954 10.894        9.563\\n']\n",
      "['0.0152 0.01508 6.60000 0.0900000036 1.0816895962    0.090 -1.674  3.4146  3.676    0  0.000  0.545     0.00     0.00     0.00     0.00     0.00 -1  -1.3e-14      0.00 7.092e-01 2.755e-01 2.746e-03 7.408e-04 6.719e-03 -1.000 1.527e-02 8.954 10.894 13.492 9.563\\n']\n"
     ]
    }
   ],
   "source": [
    "final = open('teste.csv', 'w')\n",
    "final.write('Zini,MH,logAge,Mini,int_IMF,Mass,logL,logTe,logg,label,McoreTP,C_O,p0,p1,p2,p3,p4,pmode,Mloss,tau1m,X,Y,Xc,Xn,Xo,Cexcess,Z,mbolmag,Gmag,G_BPmag,G_RPmag\\n')\n",
    "\n",
    "with open('isocronas.dat', 'r') as f:\n",
    "    for i in range(3):\n",
    "        line = f.readline()\n",
    "        if line[0]=='#':\n",
    "            continue\n",
    "        else:\n",
    "            x = line.split(\"\\s+\")\n",
    "            print(x)\n",
    "            for j in range(len(x)):\n",
    "                if j == len(x) - 1:\n",
    "                    final.write(x[j] + '\\n')\n",
    "                else:\n",
    "                    final.write(x[j] + ',')\n",
    "final.close()"
   ]
  },
  {
   "cell_type": "code",
   "execution_count": 144,
   "id": "9d369ae9-245b-446d-a772-8cc81ec7cd41",
   "metadata": {},
   "outputs": [
    {
     "data": {
      "text/plain": [
       "'0.0152 0.01508 6.60000 0.0900000036 1.0816895962    0.090 -1.674  3.4146  3.676    0  0.000  0.545     0.00     0.00     0.00     0.00     0.00 -1  -1.3e-14      0.00 7.092e-01 2.755e-01 2.746e-03 7.408e-04 6.719e-03 -1.000 1.527e-02 8.954 10.894        9.563\\n'"
      ]
     },
     "execution_count": 144,
     "metadata": {},
     "output_type": "execute_result"
    }
   ],
   "source": [
    "lucas"
   ]
  },
  {
   "cell_type": "code",
   "execution_count": 148,
   "id": "1734671f-dc1b-4adb-b54e-2a1bd5e676c3",
   "metadata": {},
   "outputs": [
    {
     "ename": "TypeError",
     "evalue": "split() got an unexpected keyword argument 'regex'",
     "output_type": "error",
     "traceback": [
      "\u001b[0;31m---------------------------------------------------------------------------\u001b[0m",
      "\u001b[0;31mTypeError\u001b[0m                                 Traceback (most recent call last)",
      "\u001b[0;32m/tmp/ipykernel_229592/2605499169.py\u001b[0m in \u001b[0;36m<module>\u001b[0;34m\u001b[0m\n\u001b[1;32m      1\u001b[0m \u001b[0mlucas\u001b[0m \u001b[0;34m=\u001b[0m \u001b[0;34m'0.0152 0.01508 6.60000 0.0900000036 1.0816895962    0.090 -1.674  3.4146  3.676    0  0.000  0.545     0.00     0.00     0.00     0.00     0.00 -1  -1.3e-14      0.00 7.092e-01 2.755e-01 2.746e-03 7.408e-04 6.719e-03 -1.000 1.527e-02 8.954 10.894        9.563\\n'\u001b[0m\u001b[0;34m\u001b[0m\u001b[0;34m\u001b[0m\u001b[0m\n\u001b[1;32m      2\u001b[0m \u001b[0mjp\u001b[0m \u001b[0;34m=\u001b[0m \u001b[0mpd\u001b[0m\u001b[0;34m.\u001b[0m\u001b[0mSeries\u001b[0m\u001b[0;34m(\u001b[0m\u001b[0mlucas\u001b[0m\u001b[0;34m)\u001b[0m\u001b[0;34m\u001b[0m\u001b[0;34m\u001b[0m\u001b[0m\n\u001b[0;32m----> 3\u001b[0;31m \u001b[0ma\u001b[0m \u001b[0;34m=\u001b[0m \u001b[0mjp\u001b[0m\u001b[0;34m.\u001b[0m\u001b[0mstr\u001b[0m\u001b[0;34m.\u001b[0m\u001b[0msplit\u001b[0m\u001b[0;34m(\u001b[0m \u001b[0mn\u001b[0m \u001b[0;34m=\u001b[0m \u001b[0;36m33\u001b[0m\u001b[0;34m,\u001b[0m \u001b[0mregex\u001b[0m \u001b[0;34m=\u001b[0m \u001b[0;32mTrue\u001b[0m\u001b[0;34m,\u001b[0m\u001b[0mexpand\u001b[0m \u001b[0;34m=\u001b[0m \u001b[0;32mTrue\u001b[0m\u001b[0;34m)\u001b[0m\u001b[0;34m\u001b[0m\u001b[0;34m\u001b[0m\u001b[0m\n\u001b[0m\u001b[1;32m      4\u001b[0m \u001b[0ma\u001b[0m\u001b[0;34m\u001b[0m\u001b[0;34m\u001b[0m\u001b[0m\n",
      "\u001b[0;32m~/anaconda3/lib/python3.9/site-packages/pandas/core/strings/accessor.py\u001b[0m in \u001b[0;36mwrapper\u001b[0;34m(self, *args, **kwargs)\u001b[0m\n\u001b[1;32m    114\u001b[0m     \u001b[0;32mdef\u001b[0m \u001b[0m_forbid_nonstring_types\u001b[0m\u001b[0;34m(\u001b[0m\u001b[0mfunc\u001b[0m\u001b[0;34m:\u001b[0m \u001b[0mF\u001b[0m\u001b[0;34m)\u001b[0m \u001b[0;34m->\u001b[0m \u001b[0mF\u001b[0m\u001b[0;34m:\u001b[0m\u001b[0;34m\u001b[0m\u001b[0;34m\u001b[0m\u001b[0m\n\u001b[1;32m    115\u001b[0m         \u001b[0mfunc_name\u001b[0m \u001b[0;34m=\u001b[0m \u001b[0mfunc\u001b[0m\u001b[0;34m.\u001b[0m\u001b[0m__name__\u001b[0m \u001b[0;32mif\u001b[0m \u001b[0mname\u001b[0m \u001b[0;32mis\u001b[0m \u001b[0;32mNone\u001b[0m \u001b[0;32melse\u001b[0m \u001b[0mname\u001b[0m\u001b[0;34m\u001b[0m\u001b[0;34m\u001b[0m\u001b[0m\n\u001b[0;32m--> 116\u001b[0;31m \u001b[0;34m\u001b[0m\u001b[0m\n\u001b[0m\u001b[1;32m    117\u001b[0m         \u001b[0;34m@\u001b[0m\u001b[0mwraps\u001b[0m\u001b[0;34m(\u001b[0m\u001b[0mfunc\u001b[0m\u001b[0;34m)\u001b[0m\u001b[0;34m\u001b[0m\u001b[0;34m\u001b[0m\u001b[0m\n\u001b[1;32m    118\u001b[0m         \u001b[0;32mdef\u001b[0m \u001b[0mwrapper\u001b[0m\u001b[0;34m(\u001b[0m\u001b[0mself\u001b[0m\u001b[0;34m,\u001b[0m \u001b[0;34m*\u001b[0m\u001b[0margs\u001b[0m\u001b[0;34m,\u001b[0m \u001b[0;34m**\u001b[0m\u001b[0mkwargs\u001b[0m\u001b[0;34m)\u001b[0m\u001b[0;34m:\u001b[0m\u001b[0;34m\u001b[0m\u001b[0;34m\u001b[0m\u001b[0m\n",
      "\u001b[0;31mTypeError\u001b[0m: split() got an unexpected keyword argument 'regex'"
     ]
    }
   ],
   "source": [
    "lucas = '0.0152 0.01508 6.60000 0.0900000036 1.0816895962    0.090 -1.674  3.4146  3.676    0  0.000  0.545     0.00     0.00     0.00     0.00     0.00 -1  -1.3e-14      0.00 7.092e-01 2.755e-01 2.746e-03 7.408e-04 6.719e-03 -1.000 1.527e-02 8.954 10.894        9.563\\n'\n",
    "jp = pd.Series(lucas)\n",
    "a = jp.str.split( n = 33, regex = True,expand = True)\n",
    "a"
   ]
  },
  {
   "cell_type": "code",
   "execution_count": 149,
   "id": "c75aa942-ce86-4ff6-a1f4-6163fb7ba4c5",
   "metadata": {},
   "outputs": [
    {
     "name": "stdout",
     "output_type": "stream",
     "text": [
      "1.3.4\n"
     ]
    }
   ],
   "source": [
    "print(pd.__version__)"
   ]
  }
 ],
 "metadata": {
  "kernelspec": {
   "display_name": "Python 3 (ipykernel)",
   "language": "python",
   "name": "python3"
  },
  "language_info": {
   "codemirror_mode": {
    "name": "ipython",
    "version": 3
   },
   "file_extension": ".py",
   "mimetype": "text/x-python",
   "name": "python",
   "nbconvert_exporter": "python",
   "pygments_lexer": "ipython3",
   "version": "3.9.7"
  }
 },
 "nbformat": 4,
 "nbformat_minor": 5
}
