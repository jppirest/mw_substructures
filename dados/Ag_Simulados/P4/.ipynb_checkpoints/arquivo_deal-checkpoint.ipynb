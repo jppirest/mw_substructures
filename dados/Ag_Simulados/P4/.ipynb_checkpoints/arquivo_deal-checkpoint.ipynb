{
 "cells": [
  {
   "cell_type": "code",
   "execution_count": 1,
   "id": "394c072b-3843-45d5-84b9-1172e5138bbe",
   "metadata": {},
   "outputs": [],
   "source": [
    "import numpy as np\n",
    "import pandas as pd"
   ]
  },
  {
   "cell_type": "code",
   "execution_count": 2,
   "id": "491f144a-6b92-4a88-a7aa-4a1a0c1a6f77",
   "metadata": {},
   "outputs": [
    {
     "name": "stdout",
     "output_type": "stream",
     "text": [
      "1.4.2\n"
     ]
    }
   ],
   "source": [
    "print(pd.__version__)"
   ]
  },
  {
   "cell_type": "code",
   "execution_count": 74,
   "id": "5e90c8ef-9260-43b1-b787-0380ec071c10",
   "metadata": {},
   "outputs": [],
   "source": [
    "final = open('teste.csv', 'w')\n",
    "final.write('Zini,MH,logAge,Mini,int_IMF,Mass,logL,logTe,logg,label,McoreTP,C_O,p0,p1,p2,p3,p4,pmode,Mloss,tau1m,X,Y,Xc,Xn,Xo,Cexcess,Z,mbolmag,Gmag,G_BPmag,G_RPmag\\n')\n",
    "\n",
    "with open('isocronas.dat', 'r') as f:\n",
    "    for i in range(14473):\n",
    "        line = f.readline()\n",
    "        if line[0]=='#':\n",
    "            continue\n",
    "        else:\n",
    "            x = line.split()\n",
    "            for j in range(len(x)):\n",
    "                if j == len(x) - 1:\n",
    "                    final.write(x[j] + '\\n')\n",
    "                else:\n",
    "                    final.write(x[j] + ',')\n",
    "final.close()"
   ]
  }
 ],
 "metadata": {
  "kernelspec": {
   "display_name": "Python 3 (ipykernel)",
   "language": "python",
   "name": "python3"
  },
  "language_info": {
   "codemirror_mode": {
    "name": "ipython",
    "version": 3
   },
   "file_extension": ".py",
   "mimetype": "text/x-python",
   "name": "python",
   "nbconvert_exporter": "python",
   "pygments_lexer": "ipython3",
   "version": "3.9.7"
  }
 },
 "nbformat": 4,
 "nbformat_minor": 5
}
