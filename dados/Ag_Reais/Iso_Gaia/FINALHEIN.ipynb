{
 "cells": [
  {
   "cell_type": "code",
   "execution_count": 2,
   "id": "f6b7a107-7227-4754-b133-e4e7b4093b37",
   "metadata": {},
   "outputs": [],
   "source": [
    "import numpy as np\n",
    "import matplotlib.pyplot as plt\n",
    "import pandas as pd"
   ]
  },
  {
   "cell_type": "code",
   "execution_count": 12,
   "id": "edbae299-76c3-4b8d-92bf-49b47c6e7466",
   "metadata": {},
   "outputs": [],
   "source": [
    "df = pd.read_csv('iso_gaia_clipped.csv')\n",
    "df = df[df['logAge'] == 7.2]\n",
    "x = df['BP-RP']\n",
    "y = df['Gmag']"
   ]
  },
  {
   "cell_type": "code",
   "execution_count": 13,
   "id": "54c33a02-5509-473d-ac8a-1ecaef92e658",
   "metadata": {},
   "outputs": [
    {
     "data": {
      "image/png": "[encoded data removed]",
      "text/plain": [
       "<Figure size 432x288 with 1 Axes>"
      ]
     },
     "metadata": {
      "needs_background": "light"
     },
     "output_type": "display_data"
    }
   ],
   "source": [
    "plt.scatter(x,y)\n",
    "plt.gca().invert_yaxis()"
   ]
  },
  {
   "cell_type": "code",
   "execution_count": 15,
   "id": "a41184d3-da4c-42b8-be06-27b2355a1444",
   "metadata": {},
   "outputs": [
    {
     "data": {
      "image/png": "[encoded data removed]",
      "text/plain": [
       "<Figure size 432x288 with 1 Axes>"
      ]
     },
     "metadata": {
      "needs_background": "light"
     },
     "output_type": "display_data"
    }
   ],
   "source": [
    "regressoes = pd.read_csv('Regressoes_Isocronas_Gaia.txt')\n",
    "plt.scatter(regressoes['Age'],regressoes['(BP-RP)TurnOff'])\n",
    "plt.gca().invert_yaxis()"
   ]
  },
  {
   "cell_type": "code",
   "execution_count": 16,
   "id": "3c793771-61b0-42d9-b466-237c197e6140",
   "metadata": {},
   "outputs": [
    {
     "data": {
      "text/plain": [
       "0.04019999999999996"
      ]
     },
     "execution_count": 16,
     "metadata": {},
     "output_type": "execute_result"
    }
   ],
   "source": [
    "hm = np.linspace(np.min(regressoes['(BP-RP)TurnOff']),np.max(regressoes['(BP-RP)TurnOff']), 36)\n",
    "n = hm[2]-hm[1]\n",
    "n"
   ]
  },
  {
   "cell_type": "code",
   "execution_count": 17,
   "id": "2e14a366-cd7e-49bd-b49b-b974e92c7fbc",
   "metadata": {},
   "outputs": [
    {
     "data": {
      "image/png": "[encoded data removed]",
      "text/plain": [
       "<Figure size 432x288 with 1 Axes>"
      ]
     },
     "metadata": {
      "needs_background": "light"
     },
     "output_type": "display_data"
    }
   ],
   "source": [
    "n = 0.04\n",
    "n_bins = 36#len(np.arange(np.min(regressoes['(BP-RP)TurnOff']),np.max(regressoes['(BP-RP)TurnOff']), n))\n",
    "cor = 'forestgreen'\n",
    "\n",
    "fig, ax = plt.subplots()\n",
    "cor = 'forestgreen'\n",
    "mx, binsx, patches = ax.hist(x,n_bins, ec = 'k',color = cor)"
   ]
  },
  {
   "cell_type": "code",
   "execution_count": 18,
   "id": "8bf77dc6-5b64-4e44-bd17-bb6ee92cb88b",
   "metadata": {},
   "outputs": [
    {
     "data": {
      "image/png": "[encoded data removed]",
      "text/plain": [
       "<Figure size 432x288 with 1 Axes>"
      ]
     },
     "metadata": {
      "needs_background": "light"
     },
     "output_type": "display_data"
    }
   ],
   "source": [
    "n = 0.04\n",
    "n_bins = 36#len(np.arange(np.min(regressoes['(BP-RP)TurnOff']),np.max(regressoes['(BP-RP)TurnOff']), n))\n",
    "cor = 'red'\n",
    "\n",
    "fig, ax = plt.subplots()\n",
    "my, binsy, patches = ax.hist(y,n_bins, ec = 'k',color = cor)"
   ]
  },
  {
   "cell_type": "code",
   "execution_count": 19,
   "id": "bf56d4ae-7900-438b-9357-cc2f09148484",
   "metadata": {},
   "outputs": [
    {
     "data": {
      "text/plain": [
       "0.9374445138888889"
      ]
     },
     "execution_count": 19,
     "metadata": {},
     "output_type": "execute_result"
    }
   ],
   "source": [
    "numero_pontos_cor, cor = np.histogram(x,n_bins)\n",
    "cor_turnoff = cor[np.where(numero_pontos_cor >= np.median(numero_pontos_cor))[0]]\n",
    "cor_turnoff = np.median(cor_turnoff)\n",
    "cor_turnoff"
   ]
  },
  {
   "cell_type": "code",
   "execution_count": 9,
   "id": "2a39982c-f239-4a05-9925-ef59c958f9aa",
   "metadata": {},
   "outputs": [
    {
     "data": {
      "text/plain": [
       "array([   0,    1,    2, ..., 1591, 1592, 1593])"
      ]
     },
     "execution_count": 9,
     "metadata": {},
     "output_type": "execute_result"
    }
   ],
   "source": [
    "locaisx = np.where(x<=cor_turnoff)[0]\n",
    "locaisx"
   ]
  },
  {
   "cell_type": "code",
   "execution_count": 10,
   "id": "9faa933d-61bd-440d-bc11-80ad28abe6ea",
   "metadata": {},
   "outputs": [
    {
     "data": {
      "text/plain": [
       "array([17.316412, 16.931963, 17.916767, ..., 17.163307, 17.770681,\n",
       "       17.78078 ])"
      ]
     },
     "execution_count": 10,
     "metadata": {},
     "output_type": "execute_result"
    }
   ],
   "source": [
    "y = np.array(y)\n",
    "magnitudes = y[locaisx]\n",
    "magnitudes"
   ]
  },
  {
   "cell_type": "code",
   "execution_count": 15,
   "id": "bab483c5-afa1-4f86-bb9a-80814f8d6740",
   "metadata": {},
   "outputs": [],
   "source": [
    "def reject_outliers(data, m = 1.):\n",
    "    d = np.abs(data - np.median(data))\n",
    "    mdev = np.median(d)\n",
    "    s = d/mdev if mdev else 0.\n",
    "    return data[s<m]\n",
    "magnitudes = reject_outliers(magnitudes)"
   ]
  },
  {
   "cell_type": "code",
   "execution_count": 12,
   "id": "be737883-731f-40f6-858c-610678aaa5b0",
   "metadata": {},
   "outputs": [
    {
     "data": {
      "text/plain": [
       "17.393814"
      ]
     },
     "execution_count": 12,
     "metadata": {},
     "output_type": "execute_result"
    }
   ],
   "source": [
    "mag_turnoff = np.median(magnitudes)\n",
    "mag_turnoff"
   ]
  },
  {
   "cell_type": "code",
   "execution_count": 13,
   "id": "70331ad4-d8b7-484e-b673-99b6f6c8087d",
   "metadata": {},
   "outputs": [
    {
     "data": {
      "text/plain": [
       "<matplotlib.legend.Legend at 0x7f2f1ef0cd00>"
      ]
     },
     "execution_count": 13,
     "metadata": {},
     "output_type": "execute_result"
    },
    {
     "data": {
      "image/png": "[encoded data removed]",
      "text/plain": [
       "<Figure size 432x288 with 1 Axes>"
      ]
     },
     "metadata": {
      "needs_background": "light"
     },
     "output_type": "display_data"
    }
   ],
   "source": [
    "oi = pd.read_csv('regressao_ngc6791.csv')\n",
    "plt.scatter(oi['TurnOffColor'],oi['TurnOffMag'], color = 'k', zorder = 100, label = 'Metodo antigo')\n",
    "plt.scatter(x,y)\n",
    "plt.scatter(cor_turnoff,mag_turnoff,color = 'green', zorder = 100, label = 'Metodo novo')\n",
    "plt.gca().invert_yaxis()\n",
    "plt.legend()"
   ]
  },
  {
   "cell_type": "code",
   "execution_count": 21,
   "id": "77e94d97-820d-4286-a08e-86df360f06ee",
   "metadata": {},
   "outputs": [
    {
     "data": {
      "text/plain": [
       "0.94622414"
      ]
     },
     "execution_count": 21,
     "metadata": {},
     "output_type": "execute_result"
    }
   ],
   "source": [
    "AVNN = 0.313\n",
    "E = (1.09909-0.63831)*AVNN\n",
    "0.802 + E"
   ]
  },
  {
   "cell_type": "code",
   "execution_count": 19,
   "id": "fb479e62-eefa-40f2-b16f-145d9b3bb738",
   "metadata": {},
   "outputs": [
    {
     "data": {
      "text/plain": [
       "(1.4282602913888889, 0.880003)"
      ]
     },
     "execution_count": 19,
     "metadata": {},
     "output_type": "execute_result"
    }
   ],
   "source": [
    "cor_turnoff, oi['TurnOffColor'].item()"
   ]
  }
 ],
 "metadata": {
  "kernelspec": {
   "display_name": "Python 3",
   "language": "python",
   "name": "python3"
  },
  "language_info": {
   "codemirror_mode": {
    "name": "ipython",
    "version": 3
   },
   "file_extension": ".py",
   "mimetype": "text/x-python",
   "name": "python",
   "nbconvert_exporter": "python",
   "pygments_lexer": "ipython3",
   "version": "3.8.8"
  }
 },
 "nbformat": 4,
 "nbformat_minor": 5
}
