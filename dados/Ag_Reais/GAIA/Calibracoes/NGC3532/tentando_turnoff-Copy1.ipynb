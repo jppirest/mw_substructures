{
 "cells": [
  {
   "cell_type": "code",
   "execution_count": 1,
   "id": "f6b7a107-7227-4754-b133-e4e7b4093b37",
   "metadata": {},
   "outputs": [],
   "source": [
    "import numpy as np\n",
    "import matplotlib.pyplot as plt\n",
    "import pandas as pd"
   ]
  },
  {
   "cell_type": "code",
   "execution_count": 2,
   "id": "edbae299-76c3-4b8d-92bf-49b47c6e7466",
   "metadata": {},
   "outputs": [],
   "source": [
    "df = pd.read_csv('ngc3532.csv')\n",
    "x = df['BP-RP']\n",
    "y = df['Gmag']"
   ]
  },
  {
   "cell_type": "code",
   "execution_count": 3,
   "id": "54c33a02-5509-473d-ac8a-1ecaef92e658",
   "metadata": {},
   "outputs": [
    {
     "data": {
      "image/png": "[encoded data removed]",
      "text/plain": [
       "<Figure size 432x288 with 1 Axes>"
      ]
     },
     "metadata": {
      "needs_background": "light"
     },
     "output_type": "display_data"
    }
   ],
   "source": [
    "plt.scatter(x,y)\n",
    "plt.gca().invert_yaxis()"
   ]
  },
  {
   "cell_type": "code",
   "execution_count": 4,
   "id": "a41184d3-da4c-42b8-be06-27b2355a1444",
   "metadata": {},
   "outputs": [
    {
     "data": {
      "image/png": "[encoded data removed]",
      "text/plain": [
       "<Figure size 432x288 with 1 Axes>"
      ]
     },
     "metadata": {
      "needs_background": "light"
     },
     "output_type": "display_data"
    }
   ],
   "source": [
    "regressoes = pd.read_csv('../Regressoes_Isocronas_Gaia.txt')\n",
    "plt.scatter(regressoes['Age'],regressoes['(BP-RP)TurnOff'])\n",
    "plt.gca().invert_yaxis()"
   ]
  },
  {
   "cell_type": "code",
   "execution_count": 5,
   "id": "3c793771-61b0-42d9-b466-237c197e6140",
   "metadata": {},
   "outputs": [
    {
     "data": {
      "text/plain": [
       "0.04019999999999996"
      ]
     },
     "execution_count": 5,
     "metadata": {},
     "output_type": "execute_result"
    }
   ],
   "source": [
    "hm = np.linspace(np.min(regressoes['(BP-RP)TurnOff']),np.max(regressoes['(BP-RP)TurnOff']), 36)\n",
    "n = hm[2]-hm[1]\n",
    "n"
   ]
  },
  {
   "cell_type": "code",
   "execution_count": 6,
   "id": "2e14a366-cd7e-49bd-b49b-b974e92c7fbc",
   "metadata": {},
   "outputs": [
    {
     "data": {
      "image/png": "[encoded data removed]",
      "text/plain": [
       "<Figure size 432x288 with 1 Axes>"
      ]
     },
     "metadata": {
      "needs_background": "light"
     },
     "output_type": "display_data"
    }
   ],
   "source": [
    "n = 0.04\n",
    "n_bins = 36#len(np.arange(np.min(regressoes['(BP-RP)TurnOff']),np.max(regressoes['(BP-RP)TurnOff']), n))\n",
    "cor = 'forestgreen'\n",
    "\n",
    "fig, ax = plt.subplots()\n",
    "cor = 'forestgreen'\n",
    "mx, binsx, patches = ax.hist(x,n_bins, ec = 'k',color = cor)"
   ]
  },
  {
   "cell_type": "code",
   "execution_count": 14,
   "id": "8bf77dc6-5b64-4e44-bd17-bb6ee92cb88b",
   "metadata": {},
   "outputs": [
    {
     "data": {
      "image/png": "[encoded data removed]",
      "text/plain": [
       "<Figure size 432x288 with 1 Axes>"
      ]
     },
     "metadata": {
      "needs_background": "light"
     },
     "output_type": "display_data"
    }
   ],
   "source": [
    "n = 0.04\n",
    "n_bins = 36#len(np.arange(np.min(regressoes['(BP-RP)TurnOff']),np.max(regressoes['(BP-RP)TurnOff']), n))\n",
    "cor = 'red'\n",
    "\n",
    "fig, ax = plt.subplots()\n",
    "my, binsy, patches = ax.hist(y,n_bins, ec = 'k',color = cor)"
   ]
  },
  {
   "cell_type": "code",
   "execution_count": 15,
   "id": "46bd8638-714a-42bd-b9a5-05a8ec122cbe",
   "metadata": {},
   "outputs": [
    {
     "data": {
      "text/plain": [
       "(array([ 1.,  0.,  0.,  0.,  2.,  3.,  5.,  7.,  8., 13., 16., 22., 21.,\n",
       "        30., 38., 33., 28., 29., 26., 43., 30., 33., 37., 54., 44., 34.,\n",
       "        40., 45., 36., 52., 42., 45., 44., 49., 54., 51.]),\n",
       " array([ 5.661717  ,  6.00438397,  6.34705094,  6.68971792,  7.03238489,\n",
       "         7.37505186,  7.71771883,  8.06038581,  8.40305278,  8.74571975,\n",
       "         9.08838672,  9.43105369,  9.77372067, 10.11638764, 10.45905461,\n",
       "        10.80172158, 11.14438856, 11.48705553, 11.8297225 , 12.17238947,\n",
       "        12.51505644, 12.85772342, 13.20039039, 13.54305736, 13.88572433,\n",
       "        14.22839131, 14.57105828, 14.91372525, 15.25639222, 15.59905919,\n",
       "        15.94172617, 16.28439314, 16.62706011, 16.96972708, 17.31239406,\n",
       "        17.65506103, 17.997728  ]))"
      ]
     },
     "execution_count": 15,
     "metadata": {},
     "output_type": "execute_result"
    }
   ],
   "source": [
    "my,binsy"
   ]
  },
  {
   "cell_type": "code",
   "execution_count": 20,
   "id": "95067241-8798-4dd1-8c13-3fd7cc18b881",
   "metadata": {},
   "outputs": [
    {
     "data": {
      "text/plain": [
       "(54.0, 13.54305736111111)"
      ]
     },
     "execution_count": 20,
     "metadata": {},
     "output_type": "execute_result"
    }
   ],
   "source": [
    "local = np.where(numero_pontos_mag==np.max(numero_pontos_mag))[0][0]\n",
    "my[local],binsy[local]"
   ]
  },
  {
   "cell_type": "code",
   "execution_count": 32,
   "id": "0d688cd2-9720-41ee-9712-2b3477bc59a2",
   "metadata": {},
   "outputs": [
    {
     "data": {
      "text/plain": [
       "(22.0, 9.431053694444444)"
      ]
     },
     "execution_count": 32,
     "metadata": {},
     "output_type": "execute_result"
    }
   ],
   "source": [
    "i = 11\n",
    "my[i],binsy[i]"
   ]
  },
  {
   "cell_type": "code",
   "execution_count": 27,
   "id": "7014e563-d2d9-471d-b127-8e1508526d51",
   "metadata": {},
   "outputs": [
    {
     "data": {
      "text/plain": [
       "(54.0, 13.54305736111111)"
      ]
     },
     "execution_count": 27,
     "metadata": {},
     "output_type": "execute_result"
    }
   ],
   "source": [
    "#np.where(my==54) = 23,34\n",
    "my[23],binsy[23]"
   ]
  },
  {
   "cell_type": "code",
   "execution_count": 22,
   "id": "4d843f17-8eb1-417c-8bad-92500aa6707b",
   "metadata": {},
   "outputs": [
    {
     "data": {
      "text/plain": [
       "[54,\n",
       " 54,\n",
       " 52,\n",
       " 51,\n",
       " 49,\n",
       " 45,\n",
       " 45,\n",
       " 44,\n",
       " 44,\n",
       " 43,\n",
       " 42,\n",
       " 40,\n",
       " 38,\n",
       " 37,\n",
       " 36,\n",
       " 34,\n",
       " 33,\n",
       " 33,\n",
       " 30,\n",
       " 30,\n",
       " 29,\n",
       " 28,\n",
       " 26,\n",
       " 22,\n",
       " 21,\n",
       " 16,\n",
       " 13,\n",
       " 8,\n",
       " 7,\n",
       " 5,\n",
       " 3,\n",
       " 2,\n",
       " 1,\n",
       " 0,\n",
       " 0,\n",
       " 0]"
      ]
     },
     "execution_count": 22,
     "metadata": {},
     "output_type": "execute_result"
    }
   ],
   "source": [
    "sorted(numero_pontos_mag, reverse = True)"
   ]
  },
  {
   "cell_type": "code",
   "execution_count": 8,
   "id": "bf56d4ae-7900-438b-9357-cc2f09148484",
   "metadata": {},
   "outputs": [],
   "source": [
    "numero_pontos_cor, cor = np.histogram(x,n_bins)\n",
    "cor_turnoff = cor[np.where(numero_pontos_cor >= np.mean(numero_pontos_cor))[0][0]]\n",
    "\n",
    "numero_pontos_mag, mag = np.histogram(y,n_bins)\n",
    "mag_turnoff = mag[np.where(numero_pontos_mag==np.max(numero_pontos_mag))[0][0]]"
   ]
  },
  {
   "cell_type": "code",
   "execution_count": 34,
   "id": "9980963a-3c26-4a14-afa8-54d20b6f5e96",
   "metadata": {},
   "outputs": [
    {
     "data": {
      "text/plain": [
       "0.049858100000000016"
      ]
     },
     "execution_count": 34,
     "metadata": {},
     "output_type": "execute_result"
    }
   ],
   "source": [
    "cor_turnoff"
   ]
  },
  {
   "cell_type": "code",
   "execution_count": 43,
   "id": "eeb2562d-ced8-4dff-967e-3091b44403a6",
   "metadata": {},
   "outputs": [
    {
     "data": {
      "text/plain": [
       "16"
      ]
     },
     "execution_count": 43,
     "metadata": {},
     "output_type": "execute_result"
    }
   ],
   "source": [
    "for i in range(len(x)):\n",
    "    if x[i] <= cor_turnoff:\n",
    "        break\n",
    "i"
   ]
  },
  {
   "cell_type": "code",
   "execution_count": 61,
   "id": "2a39982c-f239-4a05-9925-ef59c958f9aa",
   "metadata": {},
   "outputs": [
    {
     "data": {
      "text/plain": [
       "array([  16,   41,  109,  113,  135,  169,  215,  276,  306,  326,  344,\n",
       "        365,  468,  484,  533,  631,  689,  759,  793,  824,  846,  879,\n",
       "        960, 1005])"
      ]
     },
     "execution_count": 61,
     "metadata": {},
     "output_type": "execute_result"
    }
   ],
   "source": [
    "locaisx = np.where(x<=cor_turnoff)[0]\n",
    "locaisx"
   ]
  },
  {
   "cell_type": "code",
   "execution_count": 72,
   "id": "3a76f90b-6075-4805-8f77-418df8a48a25",
   "metadata": {},
   "outputs": [
    {
     "data": {
      "text/plain": [
       "([9.091635,\n",
       "  9.000129,\n",
       "  8.276638,\n",
       "  9.513949,\n",
       "  8.677771,\n",
       "  8.433761,\n",
       "  9.240339,\n",
       "  7.7768426,\n",
       "  8.549279,\n",
       "  8.1825075,\n",
       "  8.334732,\n",
       "  8.762342,\n",
       "  8.197965,\n",
       "  8.032592,\n",
       "  9.140964,\n",
       "  9.052667,\n",
       "  8.603724,\n",
       "  9.411492,\n",
       "  8.5637045,\n",
       "  8.981336,\n",
       "  9.196883,\n",
       "  9.434297,\n",
       "  8.367846,\n",
       "  17.76241],\n",
       " 24)"
      ]
     },
     "execution_count": 72,
     "metadata": {},
     "output_type": "execute_result"
    }
   ],
   "source": [
    "jpt = []\n",
    "for element in locaisx:\n",
    "    jpt.append(y[element])\n",
    "jpt, len(jpt)"
   ]
  },
  {
   "cell_type": "code",
   "execution_count": 93,
   "id": "6ba9d873-d0f4-48c9-9230-86566067cc35",
   "metadata": {},
   "outputs": [
    {
     "data": {
      "text/plain": [
       "(23, 8.731451982608696)"
      ]
     },
     "execution_count": 93,
     "metadata": {},
     "output_type": "execute_result"
    }
   ],
   "source": [
    "final = []\n",
    "media = np.mean(jpt)\n",
    "desvio = np.std(jpt)\n",
    "for element in jpt:\n",
    "    if element < desvio + media and element > media - desvio:\n",
    "        final.append(element)\n",
    "len(final), np.mean(final)"
   ]
  },
  {
   "cell_type": "code",
   "execution_count": 95,
   "id": "e82d8add-81e9-44f0-9029-effd7c5a360a",
   "metadata": {},
   "outputs": [
    {
     "data": {
      "text/plain": [
       "(8.7200565, 9.1077419)"
      ]
     },
     "execution_count": 95,
     "metadata": {},
     "output_type": "execute_result"
    }
   ],
   "source": [
    "np.median(jpt), np.mean(jpt)"
   ]
  },
  {
   "cell_type": "code",
   "execution_count": 107,
   "id": "946ada3e-1ae2-4437-90ed-17d8b61850d8",
   "metadata": {},
   "outputs": [
    {
     "data": {
      "text/plain": [
       "(23, 8.731451982608696)"
      ]
     },
     "execution_count": 107,
     "metadata": {},
     "output_type": "execute_result"
    }
   ],
   "source": [
    "bella = np.array(jpt)\n",
    "def reject_outliers(data, m = 3.):\n",
    "    d = np.abs(data - np.median(data))\n",
    "    mdev = np.median(d)\n",
    "    s = d/mdev if mdev else 0.\n",
    "    return data[s<m]\n",
    "oi = reject_outliers(bella)\n",
    "len(oi), np.mean(oi)"
   ]
  },
  {
   "cell_type": "code",
   "execution_count": 108,
   "id": "9d4b97fb-37bf-4f95-b689-d8e11a5a3e7c",
   "metadata": {},
   "outputs": [
    {
     "data": {
      "text/plain": [
       "(5.0, 10.0)"
      ]
     },
     "execution_count": 108,
     "metadata": {},
     "output_type": "execute_result"
    }
   ],
   "source": [
    "teste = [5,5,6,7,20]\n",
    "teste = [5,5,20]\n",
    "np.median(teste), np.mean(teste)"
   ]
  },
  {
   "cell_type": "code",
   "execution_count": 84,
   "id": "70331ad4-d8b7-484e-b673-99b6f6c8087d",
   "metadata": {},
   "outputs": [
    {
     "data": {
      "image/png": "[encoded data removed]",
      "text/plain": [
       "<Figure size 432x288 with 1 Axes>"
      ]
     },
     "metadata": {
      "needs_background": "light"
     },
     "output_type": "display_data"
    }
   ],
   "source": [
    "oi = pd.read_csv('regressao_ngc3532.csv')\n",
    "plt.scatter(oi['TurnOffColor'],oi['TurnOffMag'], color = 'k', zorder = 100)\n",
    "plt.scatter(x[i],y[i], color = 'green', zorder = 100)\n",
    "plt.scatter(x[i],8.70,color = 'purple',zorder = 100)\n",
    "plt.scatter(x,y)\n",
    "plt.scatter(cor_turnoff,mag_turnoff, color = 'red')\n",
    "plt.gca().invert_yaxis()"
   ]
  },
  {
   "cell_type": "code",
   "execution_count": 10,
   "id": "98ddb3f4-a74a-4b97-b984-37ae9f39d66a",
   "metadata": {},
   "outputs": [
    {
     "data": {
      "text/plain": [
       "(0.049858100000000016, 13.54305736111111)"
      ]
     },
     "execution_count": 10,
     "metadata": {},
     "output_type": "execute_result"
    }
   ],
   "source": [
    "cor_turnoff,mag_turnoff"
   ]
  },
  {
   "cell_type": "code",
   "execution_count": 18,
   "id": "9070f6c8-dc7f-46d3-a707-a89f17a6574f",
   "metadata": {},
   "outputs": [
    {
     "data": {
      "text/plain": [
       "(0.10661602, 9.965724)"
      ]
     },
     "execution_count": 18,
     "metadata": {},
     "output_type": "execute_result"
    }
   ],
   "source": [
    "oi['TurnOffColor'].item(),oi['TurnOffMag'].item()"
   ]
  }
 ],
 "metadata": {
  "kernelspec": {
   "display_name": "Python 3",
   "language": "python",
   "name": "python3"
  },
  "language_info": {
   "codemirror_mode": {
    "name": "ipython",
    "version": 3
   },
   "file_extension": ".py",
   "mimetype": "text/x-python",
   "name": "python",
   "nbconvert_exporter": "python",
   "pygments_lexer": "ipython3",
   "version": "3.8.8"
  }
 },
 "nbformat": 4,
 "nbformat_minor": 5
}
