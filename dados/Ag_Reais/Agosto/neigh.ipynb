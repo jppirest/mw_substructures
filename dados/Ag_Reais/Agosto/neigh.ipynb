{
 "cells": [
  {
   "cell_type": "code",
   "execution_count": 1,
   "id": "dd040bae-dc94-42bf-aaea-c55a52af35e5",
   "metadata": {},
   "outputs": [],
   "source": [
    "import matplotlib.pyplot as plt\n",
    "import numpy as np\n",
    "import pandas as pd"
   ]
  },
  {
   "cell_type": "code",
   "execution_count": 225,
   "id": "9a4d1f6d-572f-4c46-87ac-be7851c71028",
   "metadata": {},
   "outputs": [],
   "source": [
    "df = pd.read_csv('ngc6475.csv')\n",
    "x = df['BP-RP']\n",
    "y = df['Gmag']"
   ]
  },
  {
   "cell_type": "code",
   "execution_count": 6,
   "id": "58497256-7dc8-43d7-a8b9-f262355f9a84",
   "metadata": {},
   "outputs": [
    {
     "data": {
      "image/png": "[encoded data removed]",
      "text/plain": [
       "<Figure size 432x288 with 1 Axes>"
      ]
     },
     "metadata": {
      "needs_background": "light"
     },
     "output_type": "display_data"
    }
   ],
   "source": [
    "plt.scatter(x,y)\n",
    "plt.gca().invert_yaxis()"
   ]
  },
  {
   "cell_type": "code",
   "execution_count": 51,
   "id": "6caa4908-0c3e-4d78-b8b9-408b9ecdade2",
   "metadata": {},
   "outputs": [],
   "source": [
    "def jpt(X,Y):\n",
    "    array = (X - Y)\n",
    "    array = np.sum(array**2, axis = 1)\n",
    "    return array\n",
    "\n",
    "def dist(X,Y):\n",
    "    distancia = 0\n",
    "    for j in range(len(X)):\n",
    "        distancia+= (X[j] - Y[j])**2\n",
    "    return distancia"
   ]
  },
  {
   "cell_type": "code",
   "execution_count": 255,
   "id": "47b16825-5f23-4457-84fd-f77bcb3555bb",
   "metadata": {},
   "outputs": [
    {
     "data": {
      "image/png": "[encoded data removed]",
      "text/plain": [
       "<Figure size 432x288 with 1 Axes>"
      ]
     },
     "metadata": {
      "needs_background": "light"
     },
     "output_type": "display_data"
    }
   ],
   "source": [
    "ptos  = np.dstack((x,y))[0]\n",
    "\n",
    "\n",
    "def vizinhos(raio, n_estrelas):\n",
    "    estrelas_finais = np.empty((0,2))\n",
    "    for i in range(len(ptos)):\n",
    "        distancias = jpt(ptos[i],ptos)\n",
    "        menores = np.sort(distancias)[1:n_estrelas]\n",
    "        comp = menores<=raio\n",
    "        if False in comp:\n",
    "            break\n",
    "        else:\n",
    "            estrelas_finais = np.append(estrelas_finais, np.array([ptos[i]]), axis  = 0) #problema no formato do array para dar append\n",
    "    return estrelas_finais\n",
    "\n",
    "pontos = vizinhos(0.05,3)\n",
    "cor, mag = pontos.T\n",
    "\n",
    "plt.scatter(cor,mag, color = 'k', zorder = 100)\n",
    "plt.scatter(x,y,color  = 'red')\n",
    "plt.gca().invert_yaxis()"
   ]
  },
  {
   "cell_type": "code",
   "execution_count": 241,
   "id": "5171e7ff-7b67-4286-ae90-af069c39bb0b",
   "metadata": {},
   "outputs": [
    {
     "data": {
      "text/plain": [
       "2.0"
      ]
     },
     "execution_count": 241,
     "metadata": {},
     "output_type": "execute_result"
    }
   ],
   "source": [
    "np.floor(len(ptos)*0.01)"
   ]
  },
  {
   "cell_type": "code",
   "execution_count": 249,
   "id": "a0962ae0-da52-44eb-9491-6c1eb24032aa",
   "metadata": {},
   "outputs": [
    {
     "data": {
      "text/plain": [
       "2.7369056900000004"
      ]
     },
     "execution_count": 249,
     "metadata": {},
     "output_type": "execute_result"
    }
   ],
   "source": [
    "np.max(x) - np.min(x)"
   ]
  },
  {
   "cell_type": "code",
   "execution_count": 252,
   "id": "9be9773f-fb5b-4715-b729-a8c89e2fb17b",
   "metadata": {},
   "outputs": [
    {
     "data": {
      "text/plain": [
       "0.053105344736842114"
      ]
     },
     "execution_count": 252,
     "metadata": {},
     "output_type": "execute_result"
    }
   ],
   "source": [
    "(np.max(y) - np.min(y))/len(ptos)"
   ]
  },
  {
   "cell_type": "code",
   "execution_count": null,
   "id": "47c6adfe-6afc-4f4b-a41e-67fc4c219be4",
   "metadata": {},
   "outputs": [],
   "source": []
  }
 ],
 "metadata": {
  "kernelspec": {
   "display_name": "Python 3 (ipykernel)",
   "language": "python",
   "name": "python3"
  },
  "language_info": {
   "codemirror_mode": {
    "name": "ipython",
    "version": 3
   },
   "file_extension": ".py",
   "mimetype": "text/x-python",
   "name": "python",
   "nbconvert_exporter": "python",
   "pygments_lexer": "ipython3",
   "version": "3.9.7"
  }
 },
 "nbformat": 4,
 "nbformat_minor": 5
}
