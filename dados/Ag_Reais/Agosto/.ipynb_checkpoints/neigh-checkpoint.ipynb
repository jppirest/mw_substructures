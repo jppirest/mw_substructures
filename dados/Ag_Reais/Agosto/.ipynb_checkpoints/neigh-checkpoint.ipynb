{
 "cells": [
  {
   "cell_type": "code",
   "execution_count": 1,
   "id": "dd040bae-dc94-42bf-aaea-c55a52af35e5",
   "metadata": {},
   "outputs": [],
   "source": [
    "import matplotlib.pyplot as plt\n",
    "import numpy as np\n",
    "import pandas as pd"
   ]
  },
  {
   "cell_type": "code",
   "execution_count": 4,
   "id": "9a4d1f6d-572f-4c46-87ac-be7851c71028",
   "metadata": {},
   "outputs": [],
   "source": [
    "df = pd.read_csv('ngc6475.csv')\n",
    "x = df['BP-RP']\n",
    "y = df['Gmag']"
   ]
  },
  {
   "cell_type": "code",
   "execution_count": 6,
   "id": "58497256-7dc8-43d7-a8b9-f262355f9a84",
   "metadata": {},
   "outputs": [
    {
     "data": {
      "image/png": "[encoded data removed]",
      "text/plain": [
       "<Figure size 432x288 with 1 Axes>"
      ]
     },
     "metadata": {
      "needs_background": "light"
     },
     "output_type": "display_data"
    }
   ],
   "source": [
    "plt.scatter(x,y)\n",
    "plt.gca().invert_yaxis()"
   ]
  },
  {
   "cell_type": "code",
   "execution_count": 51,
   "id": "6caa4908-0c3e-4d78-b8b9-408b9ecdade2",
   "metadata": {},
   "outputs": [],
   "source": [
    "def jpt(X,Y):\n",
    "    array = (X - Y)\n",
    "    array = np.sum(array**2, axis = 1)\n",
    "    return array\n",
    "\n",
    "def dist(X,Y):\n",
    "    distancia = 0\n",
    "    for j in range(len(X)):\n",
    "        distancia+= (X[j] - Y[j])**2\n",
    "    return distancia"
   ]
  },
  {
   "cell_type": "code",
   "execution_count": 60,
   "id": "47b16825-5f23-4457-84fd-f77bcb3555bb",
   "metadata": {},
   "outputs": [
    {
     "name": "stdout",
     "output_type": "stream",
     "text": [
      "[0.0022175445218515855, 0.0024488322576836103, 0.0033378457282900067, 0.005945670536259521, 0.006470071511785581, 0.007180951809523643, 0.008398810458921468, 0.010925191206841586, 0.014499332191384343]\n",
      "[0.0005462084620755853, 0.0024749900974599393, 0.004704049966089954, 0.006036192853010089, 0.010494414921939893, 0.011135077312500036, 0.012866717826072547, 0.014560990763209821, 0.02059298963626003]\n",
      "[0.003477484197508087, 0.006083151621290056, 0.0072958297952082475, 0.008528081516222587, 0.012539471440839998, 0.04999225373739617, 0.05092884352363879, 0.07391188586106287, 0.09207079543902251]\n",
      "[0.012400185208090019, 0.016469244972160204, 0.024097733408089985, 0.026078905494560056, 0.026710875194889815, 0.03588791209599949, 0.06129149521609002, 0.06399531193796018, 0.07323762049389017]\n"
     ]
    }
   ],
   "source": [
    "ptos  = np.dstack((x,y))[0]\n",
    "\n",
    "\n",
    "def vizinhos(raio, n_estrelas)\n",
    "    oi = []\n",
    "    for i in range(4):\n",
    "        distancias = jpt(ptos[i],ptos)\n",
    "        menores = sorted(distancias)[1:n_estrelas]\n",
    "        comp = menores<=raio\n",
    "        if False in comp:\n",
    "            break\n",
    "        else:\n",
    "            "
   ]
  },
  {
   "cell_type": "code",
   "execution_count": 65,
   "id": "5a5543b7-92ac-46cb-ba74-4885fb2d1c48",
   "metadata": {},
   "outputs": [
    {
     "name": "stdout",
     "output_type": "stream",
     "text": [
      "uepa\n"
     ]
    }
   ],
   "source": [
    "a = np.array([1,2,3])\n",
    "\n",
    "b = 3<a\n",
    "\n",
    "if False in b:\n",
    "    print('uepa')"
   ]
  },
  {
   "cell_type": "code",
   "execution_count": 52,
   "id": "d419ce56-d261-4b5d-9689-29ca6d1abeb1",
   "metadata": {},
   "outputs": [
    {
     "data": {
      "text/plain": [
       "array([85, 65])"
      ]
     },
     "execution_count": 52,
     "metadata": {},
     "output_type": "execute_result"
    }
   ],
   "source": [
    "a = np.array([10,2])\n",
    "b = np.array([1,4])\n",
    "c = np.array([2,3])\n",
    "d = np.array([b,c])\n",
    "\n",
    "\n",
    "jpt(a,d)"
   ]
  },
  {
   "cell_type": "code",
   "execution_count": 53,
   "id": "0c789295-de48-450c-860b-ab91dee39d7c",
   "metadata": {},
   "outputs": [
    {
     "data": {
      "text/plain": [
       "(85, 65)"
      ]
     },
     "execution_count": 53,
     "metadata": {},
     "output_type": "execute_result"
    }
   ],
   "source": [
    "dist(a,b),dist(a,c)"
   ]
  }
 ],
 "metadata": {
  "kernelspec": {
   "display_name": "Python 3 (ipykernel)",
   "language": "python",
   "name": "python3"
  },
  "language_info": {
   "codemirror_mode": {
    "name": "ipython",
    "version": 3
   },
   "file_extension": ".py",
   "mimetype": "text/x-python",
   "name": "python",
   "nbconvert_exporter": "python",
   "pygments_lexer": "ipython3",
   "version": "3.9.7"
  }
 },
 "nbformat": 4,
 "nbformat_minor": 5
}
