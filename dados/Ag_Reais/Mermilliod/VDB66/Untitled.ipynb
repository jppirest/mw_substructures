{
 "cells": [
  {
   "cell_type": "code",
   "execution_count": 1,
   "id": "8b2c3f46-5b95-40ed-9654-d9efd6a8f9cd",
   "metadata": {},
   "outputs": [],
   "source": [
    "import pandas as pd \n",
    "import numpy as np"
   ]
  },
  {
   "cell_type": "code",
   "execution_count": 6,
   "id": "6fcc48f0-edb3-462c-bc7f-7b347fc2ead9",
   "metadata": {},
   "outputs": [
    {
     "data": {
      "text/plain": [
       "0      18.71\n",
       "1      19.79\n",
       "2      19.41\n",
       "3      19.07\n",
       "4      20.50\n",
       "       ...  \n",
       "730    17.74\n",
       "731    14.46\n",
       "732    18.84\n",
       "733    20.94\n",
       "734    13.60\n",
       "Name: V, Length: 735, dtype: float64"
      ]
     },
     "execution_count": 6,
     "metadata": {},
     "output_type": "execute_result"
    }
   ],
   "source": [
    "dados = pd.read_csv('vdb66.txt', sep = \"\\s+\")\n",
    "dados['V']"
   ]
  }
 ],
 "metadata": {
  "kernelspec": {
   "display_name": "Python 3 (ipykernel)",
   "language": "python",
   "name": "python3"
  },
  "language_info": {
   "codemirror_mode": {
    "name": "ipython",
    "version": 3
   },
   "file_extension": ".py",
   "mimetype": "text/x-python",
   "name": "python",
   "nbconvert_exporter": "python",
   "pygments_lexer": "ipython3",
   "version": "3.9.7"
  }
 },
 "nbformat": 4,
 "nbformat_minor": 5
}
