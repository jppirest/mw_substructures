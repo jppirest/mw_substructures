{
 "cells": [
  {
   "cell_type": "code",
   "execution_count": 1,
   "metadata": {},
   "outputs": [],
   "source": [
    "import matplotlib.pyplot as plt\n",
    "import numpy as np\n",
    "import pandas as pd\n",
    "from scipy.odr import * "
   ]
  },
  {
   "cell_type": "code",
   "execution_count": 2,
   "metadata": {},
   "outputs": [
    {
     "data": {
      "text/html": [
       "<div>\n",
       "<style scoped>\n",
       "    .dataframe tbody tr th:only-of-type {\n",
       "        vertical-align: middle;\n",
       "    }\n",
       "\n",
       "    .dataframe tbody tr th {\n",
       "        vertical-align: top;\n",
       "    }\n",
       "\n",
       "    .dataframe thead th {\n",
       "        text-align: right;\n",
       "    }\n",
       "</style>\n",
       "<table border=\"1\" class=\"dataframe\">\n",
       "  <thead>\n",
       "    <tr style=\"text-align: right;\">\n",
       "      <th></th>\n",
       "      <th>Full</th>\n",
       "      <th>log(Age)</th>\n",
       "      <th>M</th>\n",
       "      <th>log(Teff)</th>\n",
       "      <th>Mbol</th>\n",
       "      <th>Mv</th>\n",
       "      <th>(U-B)o</th>\n",
       "      <th>(B-V)o</th>\n",
       "      <th>(V-R)o</th>\n",
       "      <th>(V-I)o</th>\n",
       "      <th>(V-J)o</th>\n",
       "    </tr>\n",
       "  </thead>\n",
       "  <tbody>\n",
       "    <tr>\n",
       "      <th>6556</th>\n",
       "      <td>6557</td>\n",
       "      <td>6.6</td>\n",
       "      <td>51.8303</td>\n",
       "      <td>4.306</td>\n",
       "      <td>-9.88</td>\n",
       "      <td>-7.96</td>\n",
       "      <td>-0.88</td>\n",
       "      <td>-0.21</td>\n",
       "      <td>-0.09</td>\n",
       "      <td>-0.21</td>\n",
       "      <td>-0.51</td>\n",
       "    </tr>\n",
       "    <tr>\n",
       "      <th>6557</th>\n",
       "      <td>6558</td>\n",
       "      <td>6.6</td>\n",
       "      <td>51.8353</td>\n",
       "      <td>4.238</td>\n",
       "      <td>-9.89</td>\n",
       "      <td>-8.36</td>\n",
       "      <td>-0.81</td>\n",
       "      <td>-0.18</td>\n",
       "      <td>-0.06</td>\n",
       "      <td>-0.16</td>\n",
       "      <td>-0.42</td>\n",
       "    </tr>\n",
       "    <tr>\n",
       "      <th>6558</th>\n",
       "      <td>6559</td>\n",
       "      <td>6.6</td>\n",
       "      <td>51.8403</td>\n",
       "      <td>4.173</td>\n",
       "      <td>-9.90</td>\n",
       "      <td>-8.73</td>\n",
       "      <td>-0.69</td>\n",
       "      <td>-0.16</td>\n",
       "      <td>-0.05</td>\n",
       "      <td>-0.12</td>\n",
       "      <td>-0.33</td>\n",
       "    </tr>\n",
       "    <tr>\n",
       "      <th>6559</th>\n",
       "      <td>6560</td>\n",
       "      <td>6.6</td>\n",
       "      <td>51.8453</td>\n",
       "      <td>4.069</td>\n",
       "      <td>-9.92</td>\n",
       "      <td>-9.32</td>\n",
       "      <td>-0.44</td>\n",
       "      <td>-0.12</td>\n",
       "      <td>-0.02</td>\n",
       "      <td>-0.05</td>\n",
       "      <td>-0.19</td>\n",
       "    </tr>\n",
       "    <tr>\n",
       "      <th>6560</th>\n",
       "      <td>6561</td>\n",
       "      <td>6.6</td>\n",
       "      <td>51.8503</td>\n",
       "      <td>3.980</td>\n",
       "      <td>-9.93</td>\n",
       "      <td>-9.75</td>\n",
       "      <td>-0.21</td>\n",
       "      <td>-0.05</td>\n",
       "      <td>0.01</td>\n",
       "      <td>0.02</td>\n",
       "      <td>-0.02</td>\n",
       "    </tr>\n",
       "  </tbody>\n",
       "</table>\n",
       "</div>"
      ],
      "text/plain": [
       "      Full  log(Age)        M  log(Teff)  Mbol    Mv  (U-B)o  (B-V)o  (V-R)o  \\\n",
       "6556  6557       6.6  51.8303      4.306 -9.88 -7.96   -0.88   -0.21   -0.09   \n",
       "6557  6558       6.6  51.8353      4.238 -9.89 -8.36   -0.81   -0.18   -0.06   \n",
       "6558  6559       6.6  51.8403      4.173 -9.90 -8.73   -0.69   -0.16   -0.05   \n",
       "6559  6560       6.6  51.8453      4.069 -9.92 -9.32   -0.44   -0.12   -0.02   \n",
       "6560  6561       6.6  51.8503      3.980 -9.93 -9.75   -0.21   -0.05    0.01   \n",
       "\n",
       "      (V-I)o  (V-J)o  \n",
       "6556   -0.21   -0.51  \n",
       "6557   -0.16   -0.42  \n",
       "6558   -0.12   -0.33  \n",
       "6559   -0.05   -0.19  \n",
       "6560    0.02   -0.02  "
      ]
     },
     "execution_count": 2,
     "metadata": {},
     "output_type": "execute_result"
    }
   ],
   "source": [
    "data = pd.read_csv('isocro.csv', header = 0)\n",
    "data.tail()"
   ]
  },
  {
   "cell_type": "code",
   "execution_count": 3,
   "metadata": {},
   "outputs": [],
   "source": [
    "idades = data['log(Age)']\n",
    "age = np.array([])\n",
    "for element in idades:\n",
    "    if element in age:\n",
    "        continue\n",
    "    elif element not in age:\n",
    "        age = np.append(age,element)\n",
    "\n"
   ]
  },
  {
   "cell_type": "code",
   "execution_count": 9,
   "metadata": {},
   "outputs": [
    {
     "data": {
      "image/png": "[encoded data removed]",
      "text/plain": [
       "<Figure size 504x396 with 1 Axes>"
      ]
     },
     "metadata": {
      "needs_background": "light"
     },
     "output_type": "display_data"
    }
   ],
   "source": [
    "plt.figure(figsize=(7,5.5))\n",
    "plt.gca().invert_yaxis()\n",
    "exemplo = data[data['log(Age)'] == 6.6]\n",
    "x = exemplo['(B-V)o']\n",
    "y = exemplo['Mv']\n",
    "plt.scatter(x, y)\n",
    "plt.xlabel(r\"$( B-V)_o$\")\n",
    "plt.ylabel(r\"$V$\")\n",
    "plt.tight_layout()\n"
   ]
  },
  {
   "cell_type": "code",
   "execution_count": null,
   "metadata": {},
   "outputs": [],
   "source": [
    "nova = data[data['log(Age)']==7.6]\n",
    "Mv = nova['Mv']\n",
    "x = nova['(B-V)o'] \n",
    "plt.gca().invert_yaxis()\n",
    "plt.scatter(x,Mv, color = 'none', edgecolor = 'blue')\n",
    "#plt.plot(x,y, '--')"
   ]
  },
  {
   "cell_type": "code",
   "execution_count": null,
   "metadata": {},
   "outputs": [],
   "source": [
    "lx = x.tolist()\n",
    "ly = Mv.tolist()\n",
    "\n",
    "i = 0\n",
    "index = 0\n",
    "\n",
    "for element in lx:\n",
    "    if i>= 1:\n",
    "        if lx[i-1] - element <0:\n",
    "            index = i-1\n",
    "            break\n",
    "    i+=1\n",
    "\n",
    "valor = lx[index]\n",
    "i = 0\n",
    "for element in lx:\n",
    "    if element == valor:\n",
    "        index = i\n",
    "        break\n",
    "    i+=1\n",
    "\n",
    "plt.gca().invert_yaxis()\n",
    "plt.scatter(lx[index], ly[index], color = 'red', zorder = 100)\n",
    "plt.scatter(x,Mv, color = 'none', edgecolor = 'blue');"
   ]
  },
  {
   "cell_type": "code",
   "execution_count": null,
   "metadata": {},
   "outputs": [],
   "source": [
    "x1 = lx[:index]\n",
    "y1 = ly[:index]\n",
    "plt.gca().invert_yaxis()\n",
    "plt.scatter(x1,y1)"
   ]
  },
  {
   "cell_type": "code",
   "execution_count": null,
   "metadata": {},
   "outputs": [],
   "source": [
    "from scipy import stats\n",
    "\n",
    "result = stats.linregress(x1,y1)\n"
   ]
  },
  {
   "cell_type": "code",
   "execution_count": null,
   "metadata": {},
   "outputs": [],
   "source": [
    "coef = np.array([result.slope,result.intercept])\n",
    "error = np.array([result.stderr, result.intercept_stderr])"
   ]
  },
  {
   "cell_type": "code",
   "execution_count": null,
   "metadata": {},
   "outputs": [],
   "source": [
    "sigma = 1\n",
    "up = coef + sigma*error\n",
    "down = coef - sigma*error\n",
    "\n",
    "x1 = np.asarray(x1)\n",
    "def linear_func(p, x):\n",
    "    m, c = p\n",
    "    return m*x + c\n",
    "\n",
    "tfit = np.linspace(x1.min(),x1.max(),len(x1))\n",
    "\n",
    "fitup = linear_func(up,tfit)\n",
    "fitdown = linear_func(down,tfit)\n",
    "\n"
   ]
  },
  {
   "cell_type": "code",
   "execution_count": null,
   "metadata": {},
   "outputs": [],
   "source": [
    "mup, bup = up[0],up[1]\n",
    "mdw, bdw = down[0], down[1]\n",
    "\n",
    "xadj = []\n",
    "yadj = []\n",
    "\n",
    "for a,b in zip(x1,y1):\n",
    "    if (a*mup + bup) >= b and (a*mdw + bdw) <= b:\n",
    "        xadj.append(a)\n",
    "        yadj.append(b)\n",
    "xadj =np.asarray(xadj)\n",
    "yadj = np.asarray(yadj)"
   ]
  },
  {
   "cell_type": "code",
   "execution_count": null,
   "metadata": {},
   "outputs": [],
   "source": [
    "vrau = stats.linregress(xadj,yadj)"
   ]
  },
  {
   "cell_type": "code",
   "execution_count": null,
   "metadata": {},
   "outputs": [],
   "source": [
    "plt.gca().invert_yaxis()\n",
    "plt.plot(x1, result.slope*x1 + result.intercept, color = 'red')\n",
    "plt.scatter(x1,y1, color = 'none', edgecolor = 'blue')\n",
    "plt.fill_between(tfit,fitup,fitdown, alpha = 0.25)\n",
    "plt.plot(tfit,tfit*vrau.slope + vrau.intercept)"
   ]
  },
  {
   "cell_type": "code",
   "execution_count": null,
   "metadata": {},
   "outputs": [],
   "source": [
    "len(x1),len(xadj)"
   ]
  },
  {
   "cell_type": "code",
   "execution_count": null,
   "metadata": {},
   "outputs": [],
   "source": [
    "vapo = pd.read_csv('Regression_Iso.txt', header = 0)\n",
    "vapo.tail()"
   ]
  },
  {
   "cell_type": "code",
   "execution_count": null,
   "metadata": {},
   "outputs": [],
   "source": []
  }
 ],
 "metadata": {
  "kernelspec": {
   "display_name": "Python 3",
   "language": "python",
   "name": "python3"
  },
  "language_info": {
   "codemirror_mode": {
    "name": "ipython",
    "version": 3
   },
   "file_extension": ".py",
   "mimetype": "text/x-python",
   "name": "python",
   "nbconvert_exporter": "python",
   "pygments_lexer": "ipython3",
   "version": "3.8.8"
  }
 },
 "nbformat": 4,
 "nbformat_minor": 4
}
